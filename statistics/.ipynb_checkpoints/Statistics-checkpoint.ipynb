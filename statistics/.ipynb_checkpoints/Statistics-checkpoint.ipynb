{
 "cells": [
  {
   "cell_type": "code",
   "execution_count": 1,
   "metadata": {},
   "outputs": [],
   "source": [
    "import glob\n",
    "import os\n",
    "import re\n",
    "\n",
    "import matplotlib.pyplot as plt\n",
    "import pickle "
   ]
  },
  {
   "cell_type": "markdown",
   "metadata": {},
   "source": [
    "# Text cleansing"
   ]
  },
  {
   "cell_type": "markdown",
   "metadata": {},
   "source": [
    "## Search all files inside base path"
   ]
  },
  {
   "cell_type": "code",
   "execution_count": 2,
   "metadata": {},
   "outputs": [],
   "source": [
    "# Path for books searching\n",
    "BOOKS_BASE_PATH = '../books/'\n",
    "DATASET_BASE_PATH = '../datasets/'\n",
    "DATASET_NAME = 'books_dataset.pk'\n",
    "\n",
    "# Keys for dictionary\n",
    "MEAN_KEY = 'SentenceLengthMean'\n",
    "DATASET_KEY = 'Dataset'\n",
    "AUTHOR_KEY = 'Author'\n",
    "BOOKS_KEY = 'Books'\n",
    "DATASET_SENTENCES_MEAN = 'SentenceLengthMean'\n",
    "BOOKS_PATH_KEY = 'Path'\n",
    "BOOK_CONTENT_KEY = 'Content'\n",
    "BOOK_SENTENCES_KEY = 'Sentences'\n",
    "BOOK_SENTENCES_HIST_KEY = 'SentenceLengthHist'\n",
    "BOOK_SENTENCES_MEAN = 'SentenceLengthMean'\n",
    "\n",
    "# Regex used\n",
    "# Removes chapters titles\n",
    "DELETE_CHAPTER_REGEX = r'^\\s*(chapter|chap|\\d|[MDCLXVI]+)+'\n",
    "# Remove unwanted characers\n",
    "DELETE_CHARACTER_REGEX = r'[-|\\_]+'\n",
    "# Honorific titles regex\n",
    "HONORIFIC_REGEX = r'(Mr|Mrs|Ms|Dr|Prof|Jr)\\.'\n",
    "# Sentence splitting\n",
    "SPLIT_SENTENCE_REGEX = r'[\\.|;]+'\n",
    "# Splitting as words\n",
    "WORDS_EXTRACTION_REGEX = r'([\\W|\"|\\'|:|\\?|!|\\(|\\)|\\.])'\n",
    "#Ignore inner content regex\n",
    "IGNORE_INNER_REGEX = r'(\"[^\"]+\"|\\([^\\)]+\\))'\n",
    "# Replace valid separators(non idea separator) with this char\n",
    "TEMPORAL_CHAR = '#'\n"
   ]
  },
  {
   "cell_type": "markdown",
   "metadata": {},
   "source": [
    "#### Organizing books by author"
   ]
  },
  {
   "cell_type": "code",
   "execution_count": 3,
   "metadata": {},
   "outputs": [
    {
     "name": "stdout",
     "output_type": "stream",
     "text": [
      "[{'Author': 'Oscar Wilde'}, {'Author': 'Friedrich Nietzsche'}, {'Author': 'Ernest Hemingway'}]\n"
     ]
    }
   ],
   "source": [
    "datasets = []\n",
    "\n",
    "for author in glob.glob(os.path.join(BOOKS_BASE_PATH, '*'), ):\n",
    "    if os.path.isdir(author):\n",
    "        datasets.append({AUTHOR_KEY: os.path.basename(author)})\n",
    "\n",
    "print(datasets)"
   ]
  },
  {
   "cell_type": "code",
   "execution_count": 4,
   "metadata": {},
   "outputs": [
    {
     "name": "stdout",
     "output_type": "stream",
     "text": [
      "[{'Author': 'Oscar Wilde', 'Books': [{'Path': '../books/Oscar Wilde/The Canterville ghost.txt'}, {'Path': '../books/Oscar Wilde/The picture of Dorian Gray.txt'}]}, {'Author': 'Friedrich Nietzsche', 'Books': [{'Path': '../books/Friedrich Nietzsche/The antichrist.txt'}, {'Path': '../books/Friedrich Nietzsche/Thus spake Zarathustra.txt'}]}, {'Author': 'Ernest Hemingway', 'Books': [{'Path': '../books/Ernest Hemingway/In our time.txt'}, {'Path': '../books/Ernest Hemingway/The old man of the sea.txt'}, {'Path': '../books/Ernest Hemingway/Three stories and ten poems.txt'}]}]\n"
     ]
    }
   ],
   "source": [
    "total_books = 0\n",
    "\n",
    "for dataset in datasets:\n",
    "    dataset[BOOKS_KEY] = [ {BOOKS_PATH_KEY: path} for path in glob.glob(os.path.join(BOOKS_BASE_PATH, dataset[AUTHOR_KEY], '*.txt')) ]\n",
    "    total_books += len(dataset[BOOKS_KEY])\n",
    "\n",
    "print(datasets)"
   ]
  },
  {
   "cell_type": "markdown",
   "metadata": {},
   "source": [
    "## Defining cleansing functions\n",
    "\n",
    "License removal was done manually, here only clean books are considered"
   ]
  },
  {
   "cell_type": "code",
   "execution_count": 5,
   "metadata": {},
   "outputs": [],
   "source": [
    "# Read file's lines \n",
    "def read_file(filename):\n",
    "    content = []\n",
    "    with open(filename) as f:\n",
    "        for line in f:\n",
    "            content.append(line.strip())\n",
    "\n",
    "    return content"
   ]
  },
  {
   "cell_type": "code",
   "execution_count": 6,
   "metadata": {},
   "outputs": [],
   "source": [
    "# Join paragraphs defined in multi-lines\n",
    "def join_paragraphs(content):\n",
    "    num_lines = len(content)\n",
    "\n",
    "    paragraphs = []\n",
    "    paragraph = []\n",
    "    num_line = 0\n",
    "\n",
    "    while num_line < num_lines:\n",
    "        \n",
    "        line = content[num_line].strip()\n",
    "        \n",
    "        while line:\n",
    "            paragraph.append(line)\n",
    "            num_line += 1\n",
    "\n",
    "            if(num_line >= num_lines):\n",
    "                break\n",
    "\n",
    "            line = content[num_line].strip()\n",
    "        \n",
    "        if len(paragraph) > 0:\n",
    "            paragraphs.append(' '.join(paragraph))\n",
    "\n",
    "        num_line += 1\n",
    "\n",
    "\n",
    "        paragraph.clear()\n",
    "\n",
    "    return paragraphs"
   ]
  },
  {
   "cell_type": "code",
   "execution_count": 7,
   "metadata": {},
   "outputs": [],
   "source": [
    "# delete chapters (titles)\n",
    "def delete_chapters(content, regex=DELETE_CHAPTER_REGEX):\n",
    "    paragraphs = []\n",
    "\n",
    "    for paragraph in content:\n",
    "        if not re.search(regex, paragraph.strip(), flags=re.IGNORECASE):\n",
    "            paragraphs.append(paragraph)\n",
    "\n",
    "    return paragraphs"
   ]
  },
  {
   "cell_type": "code",
   "execution_count": 8,
   "metadata": {},
   "outputs": [],
   "source": [
    "# Remove unwanted characters\n",
    "def delete_character(content, regex=DELETE_CHARACTER_REGEX):\n",
    "    paragraphs = []\n",
    "\n",
    "    for paragraph in content:\n",
    "        clean_line = re.sub(regex, '', paragraph.strip(), flags=re.IGNORECASE).strip()\n",
    "        if clean_line:\n",
    "            paragraphs.append(clean_line)        \n",
    "\n",
    "    return paragraphs"
   ]
  },
  {
   "cell_type": "code",
   "execution_count": 9,
   "metadata": {},
   "outputs": [],
   "source": [
    "# Join previously defined functions\n",
    "def process_text(filename):\n",
    "    print('File: {}'.format(filename))\n",
    "    text = read_file(filename)\n",
    "    read_lines = len(text)\n",
    "    print('Read lines: {}'.format(read_lines))\n",
    "    text = join_paragraphs(text)\n",
    "    num_paragraphs = len(text)\n",
    "    print('Number of pargraphs: {}'.format(num_paragraphs))\n",
    "    text = delete_chapters(text)\n",
    "    text = delete_character(text)\n",
    "    num_paragraphs_chapdel = len(text)\n",
    "    print('Deleted chapters: {}'.format(num_paragraphs - num_paragraphs_chapdel))\n",
    "    print('Final paragraphs: {}'.format(num_paragraphs_chapdel))\n",
    "    return text"
   ]
  },
  {
   "cell_type": "code",
   "execution_count": 10,
   "metadata": {
    "tags": [
     "outputPrepend"
    ]
   },
   "outputs": [
    {
     "name": "stdout",
     "output_type": "stream",
     "text": [
      "----------------------------------------------------------\n",
      "File: ../books/Oscar Wilde/The Canterville ghost.txt\n",
      "Read lines: 1089\n",
      "Number of pargraphs: 108\n",
      "Deleted chapters: 14\n",
      "Final paragraphs: 94\n",
      "----------------------------------------------------------\n",
      "File: ../books/Oscar Wilde/The picture of Dorian Gray.txt\n",
      "Read lines: 8358\n",
      "Number of pargraphs: 1509\n",
      "Deleted chapters: 140\n",
      "Final paragraphs: 1369\n",
      "----------------------------------------------------------\n",
      "File: ../books/Friedrich Nietzsche/The antichrist.txt\n",
      "Read lines: 2729\n",
      "Number of pargraphs: 194\n",
      "Deleted chapters: 81\n",
      "Final paragraphs: 113\n",
      "----------------------------------------------------------\n",
      "File: ../books/Friedrich Nietzsche/Thus spake Zarathustra.txt\n",
      "Read lines: 13151\n",
      "Number of pargraphs: 3694\n",
      "Deleted chapters: 729\n",
      "Final paragraphs: 2965\n",
      "----------------------------------------------------------\n",
      "File: ../books/Ernest Hemingway/In our time.txt\n",
      "Read lines: 446\n",
      "Number of pargraphs: 65\n",
      "Deleted chapters: 26\n",
      "Final paragraphs: 39\n",
      "----------------------------------------------------------\n",
      "File: ../books/Ernest Hemingway/The old man of the sea.txt\n",
      "Read lines: 2830\n",
      "Number of pargraphs: 628\n",
      "Deleted chapters: 52\n",
      "Final paragraphs: 576\n",
      "----------------------------------------------------------\n",
      "File: ../books/Ernest Hemingway/Three stories and ten poems.txt\n",
      "Read lines: 1185\n",
      "Number of pargraphs: 179\n",
      "Deleted chapters: 32\n",
      "Final paragraphs: 147\n"
     ]
    }
   ],
   "source": [
    "# Process all books\n",
    "for dataset in datasets:\n",
    "    for book in dataset[BOOKS_KEY]:\n",
    "        print('----------------------------------------------------------')\n",
    "        book[BOOK_CONTENT_KEY] = process_text(book[BOOKS_PATH_KEY])\n",
    "    "
   ]
  },
  {
   "cell_type": "markdown",
   "metadata": {},
   "source": [
    "# Sentences split"
   ]
  },
  {
   "cell_type": "code",
   "execution_count": 11,
   "metadata": {},
   "outputs": [],
   "source": [
    "\n",
    "def split_sentences(text, \n",
    "    honorific_regex=HONORIFIC_REGEX,\n",
    "    ignore_inner_regex=IGNORE_INNER_REGEX,\n",
    "    split_regex=SPLIT_SENTENCE_REGEX, \n",
    "    words_extraction_regex=WORDS_EXTRACTION_REGEX, \n",
    "    temp_char=TEMPORAL_CHAR\n",
    "    ):\n",
    "\n",
    "    honorific_temp_str = ''.join([temp_char * 5])\n",
    "    inner_temp_str = ''.join([temp_char * 10])\n",
    "    \n",
    "    # Removes honorific and inner ignore\n",
    "    result_honorific_remove_group = re.findall(honorific_regex, text)\n",
    "    result_honorific_remove = re.sub(honorific_regex, honorific_temp_str, text)\n",
    "    result_inner_ignore_group = re.findall(ignore_inner_regex, result_honorific_remove, flags=re.IGNORECASE)\n",
    "    result_inner_ingore = re.sub(ignore_inner_regex, inner_temp_str, result_honorific_remove, flags=re.IGNORECASE)\n",
    "    \n",
    "    honorific_group = 0\n",
    "    inner_group = 0\n",
    "    \n",
    "    sentences_words = []  \n",
    "    \n",
    "    # Split sentences\n",
    "    sentences = re.split(split_regex, result_inner_ingore)\n",
    "\n",
    "    for sentence in sentences:\n",
    "        # Restore inner and honorific\n",
    "        while re.search(inner_temp_str, sentence):\n",
    "            sentence = sentence.replace(inner_temp_str, result_inner_ignore_group[inner_group])\n",
    "            inner_group += 1\n",
    "\n",
    "        while re.search(honorific_temp_str, sentence):\n",
    "            sentence = sentence.replace(honorific_temp_str, result_honorific_remove_group[honorific_group])\n",
    "            honorific_group += 1\n",
    "\n",
    "        # Split in words\n",
    "        splitted_sentence = re.split(words_extraction_regex, sentence)\n",
    "        splitted_sentence = [sp for sp in splitted_sentence if sp.strip() ]\n",
    "        if len(splitted_sentence) > 0:\n",
    "            sentences_words.append(splitted_sentence)\n",
    "    \n",
    "    return sentences_words\n"
   ]
  },
  {
   "cell_type": "code",
   "execution_count": 12,
   "metadata": {
    "tags": [
     "outputPrepend"
    ]
   },
   "outputs": [
    {
     "name": "stdout",
     "output_type": "stream",
     "text": [
      "----------------------------------------------------------\n",
      "Book: ../books/Oscar Wilde/The Canterville ghost.txt\n",
      "Paragraphs: 94\n",
      "Sentences: 350\n",
      "Sentences domain length: 80\n",
      "Book mean length: 31.405714285714286\n",
      "----------------------------------------------------------\n",
      "Book: ../books/Oscar Wilde/The picture of Dorian Gray.txt\n",
      "Paragraphs: 1369\n",
      "Sentences: 3073\n",
      "Sentences domain length: 164\n",
      "Book mean length: 25.370647575658964\n",
      "==========================================================\n",
      "Dataset mean length: 25.987730061349694\n",
      "----------------------------------------------------------\n",
      "Book: ../books/Friedrich Nietzsche/The antichrist.txt\n",
      "Paragraphs: 113\n",
      "Sentences: 886\n",
      "Sentences domain length: 97\n",
      "Book mean length: 27.548532731376977\n",
      "----------------------------------------------------------\n",
      "Book: ../books/Friedrich Nietzsche/Thus spake Zarathustra.txt\n",
      "Paragraphs: 2965\n",
      "Sentences: 4529\n",
      "Sentences domain length: 82\n",
      "Book mean length: 19.562155001103996\n",
      "==========================================================\n",
      "Dataset mean length: 20.868882733148663\n",
      "----------------------------------------------------------\n",
      "Book: ../books/Ernest Hemingway/In our time.txt\n",
      "Paragraphs: 39\n",
      "Sentences: 210\n",
      "Sentences domain length: 39\n",
      "Book mean length: 14.185714285714285\n",
      "----------------------------------------------------------\n",
      "Book: ../books/Ernest Hemingway/The old man of the sea.txt\n",
      "Paragraphs: 576\n",
      "Sentences: 1529\n",
      "Sentences domain length: 69\n",
      "Book mean length: 17.330281229561805\n",
      "----------------------------------------------------------\n",
      "Book: ../books/Ernest Hemingway/Three stories and ten poems.txt\n",
      "Paragraphs: 147\n",
      "Sentences: 624\n",
      "Sentences domain length: 66\n",
      "Book mean length: 14.647435897435898\n",
      "==========================================================\n",
      "Dataset mean length: 16.342361404993653\n",
      "**********************************************************\n",
      "Total mean length: 21.47826086956522\n"
     ]
    }
   ],
   "source": [
    "\n",
    "data = {}\n",
    "\n",
    "datasets_mean = 0\n",
    "datasets_total = 0\n",
    "\n",
    "for dataset in datasets:\n",
    "\n",
    "    books_mean = 0\n",
    "    books_total = 0\n",
    "\n",
    "    for book in dataset[BOOKS_KEY]:\n",
    "\n",
    "        sentences_length_histogram = {}\n",
    "\n",
    "        book[BOOK_SENTENCES_KEY] = []\n",
    "        for paragraph in book[BOOK_CONTENT_KEY]:\n",
    "            splitted_sentences = split_sentences(paragraph)\n",
    "            book[BOOK_SENTENCES_KEY].extend(splitted_sentences)\n",
    "            for sentence in splitted_sentences:\n",
    "                if len(sentence) in sentences_length_histogram:\n",
    "                    sentences_length_histogram[len(sentence)] += 1\n",
    "                else:\n",
    "                    sentences_length_histogram[len(sentence)] = 1\n",
    "\n",
    "        book[BOOK_SENTENCES_HIST_KEY] = sentences_length_histogram\n",
    "        \n",
    "        mean = 0\n",
    "        total = 0\n",
    "\n",
    "        for key in book[BOOK_SENTENCES_HIST_KEY]:\n",
    "            mean += (key * book[BOOK_SENTENCES_HIST_KEY][key])\n",
    "            total += book[BOOK_SENTENCES_HIST_KEY][key]\n",
    "\n",
    "        book[BOOK_SENTENCES_MEAN] = mean / total\n",
    "\n",
    "        books_mean += mean\n",
    "        books_total += total\n",
    "\n",
    "        print('----------------------------------------------------------')\n",
    "        print('Book: {}'.format(book[BOOKS_PATH_KEY]))\n",
    "        print('Paragraphs: {}'.format(len(book[BOOK_CONTENT_KEY])))\n",
    "        print('Sentences: {}'.format(len(book[BOOK_SENTENCES_KEY])))\n",
    "        print('Sentences domain length: {}'.format(len(book[BOOK_SENTENCES_HIST_KEY])))\n",
    "        print('Book mean length: {}'.format(book[BOOK_SENTENCES_MEAN]))\n",
    "\n",
    "    \n",
    "    datasets_mean += books_mean\n",
    "    datasets_total += books_total\n",
    "    \n",
    "    dataset[DATASET_SENTENCES_MEAN] = books_mean / books_total\n",
    "\n",
    "    print('==========================================================')\n",
    "    print('Dataset mean length: {}'.format(dataset[DATASET_SENTENCES_MEAN]))\n",
    "\n",
    "\n",
    "data[MEAN_KEY] = datasets_mean / datasets_total\n",
    "print('**********************************************************')\n",
    "print('Total mean length: {}'.format(data[MEAN_KEY]))\n",
    "\n",
    "\n",
    "data[DATASET_KEY] = datasets\n"
   ]
  },
  {
   "cell_type": "code",
   "execution_count": 13,
   "metadata": {},
   "outputs": [
    {
     "data": {
      "image/png": "[encoded data removed]",
      "text/plain": [
       "<Figure size 1440x2016 with 7 Axes>"
      ]
     },
     "metadata": {
      "needs_background": "light"
     },
     "output_type": "display_data"
    }
   ],
   "source": [
    "fig, axs = plt.subplots(total_books, figsize=(20, 4 * total_books))\n",
    "fig.suptitle('Sentences lengths histograms')\n",
    "\n",
    "current_book = 0\n",
    "\n",
    "for dataset in datasets:\n",
    "    for book in dataset[BOOKS_KEY]:\n",
    "        axs[current_book].set_title(book[BOOKS_PATH_KEY])\n",
    "        axs[current_book].bar(book[BOOK_SENTENCES_HIST_KEY].keys(), book[BOOK_SENTENCES_HIST_KEY].values(), color='g')\n",
    "        current_book += 1"
   ]
  },
  {
   "cell_type": "code",
   "execution_count": 14,
   "metadata": {},
   "outputs": [],
   "source": [
    "with open(os.path.join(DATASET_BASE_PATH, DATASET_NAME), 'wb') as f:\n",
    "    pickle.dump(data, f)"
   ]
  }
 ],
 "metadata": {
  "file_extension": ".py",
  "kernelspec": {
   "display_name": "Python 3",
   "language": "python",
   "name": "python3"
  },
  "language_info": {
   "codemirror_mode": {
    "name": "ipython",
    "version": 3
   },
   "file_extension": ".py",
   "mimetype": "text/x-python",
   "name": "python",
   "nbconvert_exporter": "python",
   "pygments_lexer": "ipython3",
   "version": "3.7.7"
  },
  "mimetype": "text/x-python",
  "name": "python",
  "npconvert_exporter": "python",
  "pygments_lexer": "ipython3",
  "version": 3
 },
 "nbformat": 4,
 "nbformat_minor": 2
}
