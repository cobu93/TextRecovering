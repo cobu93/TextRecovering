{
 "cells": [
  {
   "cell_type": "code",
   "execution_count": 1,
   "metadata": {},
   "outputs": [],
   "source": [
    "import pandas as pd\n",
    "import glob\n",
    "import os\n",
    "import re\n",
    "import numpy as np\n",
    "import matplotlib.pyplot as plt\n",
    "import pickle \n",
    "import sys\n",
    "\n",
    "sys.path.append('../utils')\n",
    "\n",
    "from text.utils import Book, process_book_content, split_sentences"
   ]
  },
  {
   "cell_type": "markdown",
   "metadata": {},
   "source": [
    "# Text cleansing"
   ]
  },
  {
   "cell_type": "markdown",
   "metadata": {},
   "source": [
    "## Search all files inside base path"
   ]
  },
  {
   "cell_type": "code",
   "execution_count": 2,
   "metadata": {},
   "outputs": [],
   "source": [
    "# Path for books searching\n",
    "BOOKS_BASE_PATH = '../books/'"
   ]
  },
  {
   "cell_type": "markdown",
   "metadata": {},
   "source": [
    "#### Organizing books by author"
   ]
  },
  {
   "cell_type": "code",
   "execution_count": 3,
   "metadata": {},
   "outputs": [
    {
     "name": "stdout",
     "output_type": "stream",
     "text": [
      "Author found: Oscar Wilde\n",
      "Author found: Friedrich Nietzsche\n",
      "Author found: Ernest Hemingway\n"
     ]
    }
   ],
   "source": [
    "authors = []\n",
    "\n",
    "for author in glob.glob(os.path.join(BOOKS_BASE_PATH, '*'), ):\n",
    "    if os.path.isdir(author):\n",
    "        authors.append(os.path.basename(author))\n",
    "        print('Author found: {}'.format(authors[len(authors) - 1]))"
   ]
  },
  {
   "cell_type": "code",
   "execution_count": 4,
   "metadata": {},
   "outputs": [
    {
     "name": "stdout",
     "output_type": "stream",
     "text": [
      "Book added: Name: The Canterville ghost   Author: Oscar Wilde\n",
      "Book added: Name: The picture of Dorian Gray   Author: Oscar Wilde\n",
      "Book added: Name: The antichrist   Author: Friedrich Nietzsche\n",
      "Book added: Name: Thus spake Zarathustra   Author: Friedrich Nietzsche\n",
      "Book added: Name: In our time   Author: Ernest Hemingway\n",
      "Book added: Name: The old man of the sea   Author: Ernest Hemingway\n"
     ]
    }
   ],
   "source": [
    "total_books = 0\n",
    "books = []\n",
    "\n",
    "for author in authors:\n",
    "    for path in glob.glob(os.path.join(BOOKS_BASE_PATH, author, '*.txt')):\n",
    "        name = os.path.basename(os.path.splitext(path)[0])\n",
    "        books.append(Book(name, author, path))\n",
    "        print('Book added: {}'.format(books[len(books) - 1]))"
   ]
  },
  {
   "cell_type": "markdown",
   "metadata": {},
   "source": [
    "## Defining cleansing functions\n",
    "\n",
    "License removal was done manually, here only clean books are considered"
   ]
  },
  {
   "cell_type": "code",
   "execution_count": 5,
   "metadata": {
    "tags": [
     "outputPrepend"
    ]
   },
   "outputs": [
    {
     "data": {
      "text/html": [
       "<div>\n",
       "<style scoped>\n",
       "    .dataframe tbody tr th:only-of-type {\n",
       "        vertical-align: middle;\n",
       "    }\n",
       "\n",
       "    .dataframe tbody tr th {\n",
       "        vertical-align: top;\n",
       "    }\n",
       "\n",
       "    .dataframe thead th {\n",
       "        text-align: right;\n",
       "    }\n",
       "</style>\n",
       "<table border=\"1\" class=\"dataframe\">\n",
       "  <thead>\n",
       "    <tr style=\"text-align: right;\">\n",
       "      <th></th>\n",
       "      <th>Book name</th>\n",
       "      <th>Pre processed</th>\n",
       "      <th>Post processed</th>\n",
       "      <th>Content-length</th>\n",
       "    </tr>\n",
       "  </thead>\n",
       "  <tbody>\n",
       "    <tr>\n",
       "      <th>0</th>\n",
       "      <td>The Canterville ghost</td>\n",
       "      <td>108</td>\n",
       "      <td>94</td>\n",
       "      <td>59435</td>\n",
       "    </tr>\n",
       "    <tr>\n",
       "      <th>1</th>\n",
       "      <td>The picture of Dorian Gray</td>\n",
       "      <td>1509</td>\n",
       "      <td>1369</td>\n",
       "      <td>375764</td>\n",
       "    </tr>\n",
       "    <tr>\n",
       "      <th>2</th>\n",
       "      <td>The antichrist</td>\n",
       "      <td>194</td>\n",
       "      <td>113</td>\n",
       "      <td>122219</td>\n",
       "    </tr>\n",
       "    <tr>\n",
       "      <th>3</th>\n",
       "      <td>Thus spake Zarathustra</td>\n",
       "      <td>3688</td>\n",
       "      <td>2959</td>\n",
       "      <td>430060</td>\n",
       "    </tr>\n",
       "    <tr>\n",
       "      <th>4</th>\n",
       "      <td>In our time</td>\n",
       "      <td>65</td>\n",
       "      <td>39</td>\n",
       "      <td>14502</td>\n",
       "    </tr>\n",
       "    <tr>\n",
       "      <th>5</th>\n",
       "      <td>The old man of the sea</td>\n",
       "      <td>628</td>\n",
       "      <td>576</td>\n",
       "      <td>121161</td>\n",
       "    </tr>\n",
       "  </tbody>\n",
       "</table>\n",
       "</div>"
      ],
      "text/plain": [
       "                    Book name Pre processed Post processed Content-length\n",
       "0       The Canterville ghost           108             94          59435\n",
       "1  The picture of Dorian Gray          1509           1369         375764\n",
       "2              The antichrist           194            113         122219\n",
       "3      Thus spake Zarathustra          3688           2959         430060\n",
       "4                 In our time            65             39          14502\n",
       "5      The old man of the sea           628            576         121161"
      ]
     },
     "metadata": {},
     "output_type": "display_data"
    }
   ],
   "source": [
    "# Process all books\n",
    "paragraphs_df = pd.DataFrame(data=[], columns=['Book name', 'Pre processed', 'Post processed', 'Content-length'])\n",
    "\n",
    "for idx, book in enumerate(books):\n",
    "    row = [] \n",
    "    row.append(book.name)\n",
    "    row.append(len(book.content))\n",
    "    book.content = process_book_content(book)\n",
    "    row.append(len(book.content))\n",
    "    book.content = ' '.join(book.content)\n",
    "    row.append(len(book.content))\n",
    "    paragraphs_df.loc[idx] = row\n",
    "\n",
    "display(paragraphs_df)"
   ]
  },
  {
   "cell_type": "markdown",
   "metadata": {},
   "source": [
    "# Sentences split"
   ]
  },
  {
   "cell_type": "code",
   "execution_count": 6,
   "metadata": {
    "tags": [
     "outputPrepend"
    ]
   },
   "outputs": [],
   "source": [
    "for book in books:\n",
    "    book.content = split_sentences(book.content)"
   ]
  },
  {
   "cell_type": "markdown",
   "metadata": {},
   "source": [
    "# Statistics calc"
   ]
  },
  {
   "cell_type": "code",
   "execution_count": 7,
   "metadata": {},
   "outputs": [
    {
     "data": {
      "text/html": [
       "<div>\n",
       "<style scoped>\n",
       "    .dataframe tbody tr th:only-of-type {\n",
       "        vertical-align: middle;\n",
       "    }\n",
       "\n",
       "    .dataframe tbody tr th {\n",
       "        vertical-align: top;\n",
       "    }\n",
       "\n",
       "    .dataframe thead th {\n",
       "        text-align: right;\n",
       "    }\n",
       "</style>\n",
       "<table border=\"1\" class=\"dataframe\">\n",
       "  <thead>\n",
       "    <tr style=\"text-align: right;\">\n",
       "      <th></th>\n",
       "      <th>book</th>\n",
       "      <th>author</th>\n",
       "      <th>num_sentences</th>\n",
       "      <th>lengths_sum</th>\n",
       "    </tr>\n",
       "  </thead>\n",
       "  <tbody>\n",
       "    <tr>\n",
       "      <th>0</th>\n",
       "      <td>The Canterville ghost</td>\n",
       "      <td>Oscar Wilde</td>\n",
       "      <td>404</td>\n",
       "      <td>12045</td>\n",
       "    </tr>\n",
       "    <tr>\n",
       "      <th>1</th>\n",
       "      <td>The picture of Dorian Gray</td>\n",
       "      <td>Oscar Wilde</td>\n",
       "      <td>5133</td>\n",
       "      <td>77945</td>\n",
       "    </tr>\n",
       "    <tr>\n",
       "      <th>2</th>\n",
       "      <td>The antichrist</td>\n",
       "      <td>Friedrich Nietzsche</td>\n",
       "      <td>940</td>\n",
       "      <td>23149</td>\n",
       "    </tr>\n",
       "    <tr>\n",
       "      <th>3</th>\n",
       "      <td>Thus spake Zarathustra</td>\n",
       "      <td>Friedrich Nietzsche</td>\n",
       "      <td>3141</td>\n",
       "      <td>89103</td>\n",
       "    </tr>\n",
       "    <tr>\n",
       "      <th>4</th>\n",
       "      <td>In our time</td>\n",
       "      <td>Ernest Hemingway</td>\n",
       "      <td>215</td>\n",
       "      <td>2956</td>\n",
       "    </tr>\n",
       "    <tr>\n",
       "      <th>5</th>\n",
       "      <td>The old man of the sea</td>\n",
       "      <td>Ernest Hemingway</td>\n",
       "      <td>1647</td>\n",
       "      <td>25339</td>\n",
       "    </tr>\n",
       "  </tbody>\n",
       "</table>\n",
       "</div>"
      ],
      "text/plain": [
       "                         book               author num_sentences lengths_sum\n",
       "0       The Canterville ghost          Oscar Wilde           404       12045\n",
       "1  The picture of Dorian Gray          Oscar Wilde          5133       77945\n",
       "2              The antichrist  Friedrich Nietzsche           940       23149\n",
       "3      Thus spake Zarathustra  Friedrich Nietzsche          3141       89103\n",
       "4                 In our time     Ernest Hemingway           215        2956\n",
       "5      The old man of the sea     Ernest Hemingway          1647       25339"
      ]
     },
     "metadata": {},
     "output_type": "display_data"
    },
    {
     "data": {
      "text/html": [
       "<div>\n",
       "<style scoped>\n",
       "    .dataframe tbody tr th:only-of-type {\n",
       "        vertical-align: middle;\n",
       "    }\n",
       "\n",
       "    .dataframe tbody tr th {\n",
       "        vertical-align: top;\n",
       "    }\n",
       "\n",
       "    .dataframe thead th {\n",
       "        text-align: right;\n",
       "    }\n",
       "</style>\n",
       "<table border=\"1\" class=\"dataframe\">\n",
       "  <thead>\n",
       "    <tr style=\"text-align: right;\">\n",
       "      <th></th>\n",
       "      <th>book</th>\n",
       "      <th>author</th>\n",
       "      <th>num_sentences</th>\n",
       "      <th>lengths_sum</th>\n",
       "      <th>mean</th>\n",
       "    </tr>\n",
       "  </thead>\n",
       "  <tbody>\n",
       "    <tr>\n",
       "      <th>0</th>\n",
       "      <td>The Canterville ghost</td>\n",
       "      <td>Oscar Wilde</td>\n",
       "      <td>404</td>\n",
       "      <td>12045</td>\n",
       "      <td>29.8144</td>\n",
       "    </tr>\n",
       "    <tr>\n",
       "      <th>1</th>\n",
       "      <td>The picture of Dorian Gray</td>\n",
       "      <td>Oscar Wilde</td>\n",
       "      <td>5133</td>\n",
       "      <td>77945</td>\n",
       "      <td>15.1851</td>\n",
       "    </tr>\n",
       "    <tr>\n",
       "      <th>2</th>\n",
       "      <td>The antichrist</td>\n",
       "      <td>Friedrich Nietzsche</td>\n",
       "      <td>940</td>\n",
       "      <td>23149</td>\n",
       "      <td>24.6266</td>\n",
       "    </tr>\n",
       "    <tr>\n",
       "      <th>3</th>\n",
       "      <td>Thus spake Zarathustra</td>\n",
       "      <td>Friedrich Nietzsche</td>\n",
       "      <td>3141</td>\n",
       "      <td>89103</td>\n",
       "      <td>28.3677</td>\n",
       "    </tr>\n",
       "    <tr>\n",
       "      <th>4</th>\n",
       "      <td>In our time</td>\n",
       "      <td>Ernest Hemingway</td>\n",
       "      <td>215</td>\n",
       "      <td>2956</td>\n",
       "      <td>13.7488</td>\n",
       "    </tr>\n",
       "    <tr>\n",
       "      <th>5</th>\n",
       "      <td>The old man of the sea</td>\n",
       "      <td>Ernest Hemingway</td>\n",
       "      <td>1647</td>\n",
       "      <td>25339</td>\n",
       "      <td>15.3849</td>\n",
       "    </tr>\n",
       "  </tbody>\n",
       "</table>\n",
       "</div>"
      ],
      "text/plain": [
       "                         book               author num_sentences lengths_sum  \\\n",
       "0       The Canterville ghost          Oscar Wilde           404       12045   \n",
       "1  The picture of Dorian Gray          Oscar Wilde          5133       77945   \n",
       "2              The antichrist  Friedrich Nietzsche           940       23149   \n",
       "3      Thus spake Zarathustra  Friedrich Nietzsche          3141       89103   \n",
       "4                 In our time     Ernest Hemingway           215        2956   \n",
       "5      The old man of the sea     Ernest Hemingway          1647       25339   \n",
       "\n",
       "      mean  \n",
       "0  29.8144  \n",
       "1  15.1851  \n",
       "2  24.6266  \n",
       "3  28.3677  \n",
       "4  13.7488  \n",
       "5  15.3849  "
      ]
     },
     "metadata": {},
     "output_type": "display_data"
    },
    {
     "data": {
      "text/html": [
       "<div>\n",
       "<style scoped>\n",
       "    .dataframe tbody tr th:only-of-type {\n",
       "        vertical-align: middle;\n",
       "    }\n",
       "\n",
       "    .dataframe tbody tr th {\n",
       "        vertical-align: top;\n",
       "    }\n",
       "\n",
       "    .dataframe thead th {\n",
       "        text-align: right;\n",
       "    }\n",
       "</style>\n",
       "<table border=\"1\" class=\"dataframe\">\n",
       "  <thead>\n",
       "    <tr style=\"text-align: right;\">\n",
       "      <th></th>\n",
       "      <th>num_sentences</th>\n",
       "      <th>lengths_sum</th>\n",
       "      <th>mean</th>\n",
       "    </tr>\n",
       "    <tr>\n",
       "      <th>author</th>\n",
       "      <th></th>\n",
       "      <th></th>\n",
       "      <th></th>\n",
       "    </tr>\n",
       "  </thead>\n",
       "  <tbody>\n",
       "    <tr>\n",
       "      <th>Ernest Hemingway</th>\n",
       "      <td>1862</td>\n",
       "      <td>28295</td>\n",
       "      <td>15.196026</td>\n",
       "    </tr>\n",
       "    <tr>\n",
       "      <th>Friedrich Nietzsche</th>\n",
       "      <td>4081</td>\n",
       "      <td>112252</td>\n",
       "      <td>27.506003</td>\n",
       "    </tr>\n",
       "    <tr>\n",
       "      <th>Oscar Wilde</th>\n",
       "      <td>5537</td>\n",
       "      <td>89990</td>\n",
       "      <td>16.252483</td>\n",
       "    </tr>\n",
       "  </tbody>\n",
       "</table>\n",
       "</div>"
      ],
      "text/plain": [
       "                     num_sentences  lengths_sum       mean\n",
       "author                                                    \n",
       "Ernest Hemingway              1862        28295  15.196026\n",
       "Friedrich Nietzsche           4081       112252  27.506003\n",
       "Oscar Wilde                   5537        89990  16.252483"
      ]
     },
     "metadata": {},
     "output_type": "display_data"
    },
    {
     "data": {
      "text/plain": [
       "num_sentences     11480.00000\n",
       "lengths_sum      230537.00000\n",
       "mean                 20.08162\n",
       "dtype: float64"
      ]
     },
     "metadata": {},
     "output_type": "display_data"
    }
   ],
   "source": [
    "dataframe = pd.DataFrame(data=[], columns=['book', 'author', 'num_sentences', 'lengths_sum'])\n",
    "\n",
    "for idx, book in enumerate(books):\n",
    "    lengths = [len(sentence) for sentence in book.content]\n",
    "    dataframe.loc[idx] = [book.name, book.author, len(lengths), np.sum(lengths)]\n",
    "\n",
    "# Book statistics\n",
    "book_statistics = dataframe.copy()\n",
    "book_statistics['mean'] = book_statistics['lengths_sum']  / book_statistics['num_sentences']\n",
    "    \n",
    "# Author statistics\n",
    "author_statistics = dataframe.copy()\n",
    "author_statistics = author_statistics.groupby('author').agg({'num_sentences': 'sum', 'lengths_sum': 'sum'})\n",
    "author_statistics['mean'] = author_statistics['lengths_sum']  / author_statistics['num_sentences']\n",
    "\n",
    "# General statistics\n",
    "general_statistics = dataframe.copy().drop(['book', 'author'], axis=1)\n",
    "general_statistics = general_statistics.agg({'num_sentences': 'sum', 'lengths_sum': 'sum'})\n",
    "general_statistics['mean'] = general_statistics['lengths_sum']  / general_statistics['num_sentences']\n",
    "\n",
    "display(dataframe)\n",
    "display(book_statistics)\n",
    "display(author_statistics)\n",
    "display(general_statistics.head())\n",
    "#author_gp = dataframe.groupby('Author')\n",
    "#author_gp = author_gp.apply(lambda x: x['Total sentences'] * x['Mean'] )\n",
    "#author_gp.agg({'Total sentences': 'sum' })\n",
    "#display()"
   ]
  },
  {
   "cell_type": "code",
   "execution_count": 8,
   "metadata": {},
   "outputs": [
    {
     "data": {
      "image/png": "[encoded data removed]",
      "text/plain": [
       "<Figure size 1440x2160 with 6 Axes>"
      ]
     },
     "metadata": {
      "needs_background": "light"
     },
     "output_type": "display_data"
    }
   ],
   "source": [
    "fig, axs = plt.subplots(len(books), figsize=(20, 5 * len(books)))\n",
    "fig.suptitle('Sentences statistics')\n",
    "\n",
    "for idx, book in enumerate(books):\n",
    "    lengths = [len(sentence) for sentence in book.content]\n",
    "    histogram, bins = np.histogram(lengths, bins=range(np.max(lengths)))\n",
    "    axs[idx].set_title(book.name)\n",
    "    axs[idx].bar(bins[:-1], histogram, color=np.random.rand(3,))\n"
   ]
  },
  {
   "cell_type": "markdown",
   "metadata": {},
   "source": [
    "# Saving"
   ]
  },
  {
   "cell_type": "code",
   "execution_count": 9,
   "metadata": {},
   "outputs": [],
   "source": [
    "DATASET_BASE_PATH = '../datasets/'\n",
    "DATASET_NAME = 'books.pk'"
   ]
  },
  {
   "cell_type": "code",
   "execution_count": 10,
   "metadata": {},
   "outputs": [],
   "source": [
    "with open(os.path.join(DATASET_BASE_PATH, DATASET_NAME), 'wb') as f:\n",
    "    pickle.dump(books, f)"
   ]
  }
 ],
 "metadata": {
  "file_extension": ".py",
  "kernelspec": {
   "display_name": "Python 3",
   "language": "python",
   "name": "python3"
  },
  "language_info": {
   "codemirror_mode": {
    "name": "ipython",
    "version": 3
   },
   "file_extension": ".py",
   "mimetype": "text/x-python",
   "name": "python",
   "nbconvert_exporter": "python",
   "pygments_lexer": "ipython3",
   "version": "3.7.7"
  },
  "mimetype": "text/x-python",
  "name": "python",
  "npconvert_exporter": "python",
  "pygments_lexer": "ipython3",
  "version": 3
 },
 "nbformat": 4,
 "nbformat_minor": 2
}
