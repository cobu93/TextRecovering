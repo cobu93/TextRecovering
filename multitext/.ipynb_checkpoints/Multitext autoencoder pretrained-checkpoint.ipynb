{
 "cells": [
  {
   "cell_type": "code",
   "execution_count": 1,
   "metadata": {},
   "outputs": [],
   "source": [
    "import numpy as np \n",
    "import os\n",
    "from tqdm.notebook import tqdm\n",
    "\n",
    "import torch\n",
    "import torch.nn as nn\n",
    "import math\n",
    "from matplotlib import pyplot as plt\n",
    "\n",
    "import sys\n",
    "sys.path.append('../utils')\n",
    "\n",
    "from text.utils import save_text_state, load_text_state, build_text_state, load_books, Vocabulary\n",
    "from model.utils import get_device, load_model_state, save_model_state, build_model_state\n",
    "\n",
    "from multitext_model import MultiTextModel, get_loss_function\n",
    "import torchtext"
   ]
  },
  {
   "cell_type": "markdown",
   "metadata": {},
   "source": [
    "### Verify if CUDA is available"
   ]
  },
  {
   "cell_type": "code",
   "execution_count": 2,
   "metadata": {},
   "outputs": [
    {
     "name": "stdout",
     "output_type": "stream",
     "text": [
      "cuda\n"
     ]
    }
   ],
   "source": [
    "device = get_device()\n",
    "print(device)"
   ]
  },
  {
   "cell_type": "markdown",
   "metadata": {},
   "source": [
    "### Loading word vectors and training/validation dataset"
   ]
  },
  {
   "cell_type": "code",
   "execution_count": 3,
   "metadata": {},
   "outputs": [],
   "source": [
    "LOAD_CHECKPOINTS = True\n",
    "\n",
    "CHECKPOINT_BASE = 'checkpoints'\n",
    "DATASET_FILENAME = '../datasets/books.pk'\n",
    "AUTHORS = ['Friedrich Nietzsche', 'Ernest Hemingway', 'Oscar Wilde']\n",
    "\n",
    "VAL_PARTITION = 0.3 \n",
    "MIN_SENTENCE_LENGTH = 5\n",
    "MAX_SENTENCE_LENGTH = 22\n",
    "BATCH_SIZE = 8\n",
    "\n",
    "VECTORS_LOADED = 40000"
   ]
  },
  {
   "cell_type": "code",
   "execution_count": 4,
   "metadata": {},
   "outputs": [
    {
     "name": "stdout",
     "output_type": "stream",
     "text": [
      "Checkpoint loaded\n",
      "Checkpoint loaded\n",
      "Checkpoint loaded\n"
     ]
    }
   ],
   "source": [
    "vocabs = []\n",
    "train_datasets = []\n",
    "test_datasets = []\n",
    "\n",
    "min_len_train = None\n",
    "min_len_test = None\n",
    "\n",
    "for author in AUTHORS:\n",
    "    # Try loading dataset, if it doesn't exists then creates it\n",
    "    try:\n",
    "        if not LOAD_CHECKPOINTS:\n",
    "            print('New training required')\n",
    "            raise Error('New training required')\n",
    "\n",
    "        vocab, train_dataset, test_dataset = load_text_state(os.path.join(CHECKPOINT_BASE, author + '_text.pk'))    \n",
    "        print('Checkpoint loaded')\n",
    "    except:        \n",
    "        books = load_books(DATASET_FILENAME, author=author)\n",
    "        vocab, train_dataset, test_dataset = build_text_state(books, MIN_SENTENCE_LENGTH, MAX_SENTENCE_LENGTH, VAL_PARTITION, vocab_name=author)  \n",
    "        print('No checkpoint found. New partition.')\n",
    "        print('Included books:')\n",
    "        for book in books:\n",
    "            print('\\t', book)\n",
    "            \n",
    "    \n",
    "    train_datasets.append(train_dataset)\n",
    "    test_datasets.append(test_dataset)\n",
    "    vocabs.append(vocab)"
   ]
  },
  {
   "cell_type": "code",
   "execution_count": 5,
   "metadata": {},
   "outputs": [],
   "source": [
    "for idx, author in enumerate(AUTHORS):\n",
    "    save_text_state(\n",
    "        os.path.join(CHECKPOINT_BASE, author + '_text.pk'), \n",
    "        vocabs[idx], \n",
    "        train_datasets[idx], \n",
    "        test_datasets[idx]\n",
    "    ) "
   ]
  },
  {
   "cell_type": "code",
   "execution_count": 6,
   "metadata": {},
   "outputs": [],
   "source": [
    "# Build full vocab\n",
    "vocab = Vocabulary('Multitext')\n",
    "fasttext = torchtext.vocab.FastText(language='en', max_vectors=VECTORS_LOADED - len(vocab), cache='../.vector_cache')\n",
    "\n",
    "for word in fasttext.stoi.keys():\n",
    "    vocab.add_word(word)        "
   ]
  },
  {
   "cell_type": "code",
   "execution_count": 7,
   "metadata": {},
   "outputs": [
    {
     "name": "stdout",
     "output_type": "stream",
     "text": [
      "1555 667\n",
      "1861 798\n",
      "1150 493\n"
     ]
    }
   ],
   "source": [
    "# Map all datasets to new indices\n",
    "train_dataloaders = []\n",
    "test_dataloaders = []\n",
    "\n",
    "for train_dataset, test_dataset in zip(train_datasets, test_datasets):\n",
    "    train_dataset.change_vocab(vocab)\n",
    "    test_dataset.change_vocab(vocab)\n",
    "    \n",
    "    train_dataloader = torch.utils.data.DataLoader(train_dataset, batch_size=BATCH_SIZE, shuffle=True)\n",
    "    train_dataloaders.append(train_dataloader)\n",
    "    \n",
    "    test_dataloader = torch.utils.data.DataLoader(test_dataset, batch_size=BATCH_SIZE, shuffle=True)\n",
    "    test_dataloaders.append(test_dataloader)\n",
    "    \n",
    "    print(len(train_dataloader), len(test_dataloader))"
   ]
  },
  {
   "cell_type": "markdown",
   "metadata": {},
   "source": [
    "### Loading components"
   ]
  },
  {
   "cell_type": "code",
   "execution_count": 8,
   "metadata": {},
   "outputs": [],
   "source": [
    "VOCAB_SIZE = len(vocab)\n",
    "\n",
    "LEARNING_RATE = 1e-4\n",
    "BETA_1 = 0.9\n",
    "BETA_2 = 0.999\n",
    "EPOCHS = 50\n",
    "NUM_HEADS = 15\n",
    "ENCODER_LAYERS = 2\n",
    "DECODER_LAYERS = 1\n",
    "EMBEDDING_SIZE = 512\n",
    "FF_DIM = 1024\n",
    "DROPOUT=0.2\n",
    "STEP_LR_DECAY = 15\n",
    "LR_FACTOR_DECAY = 0.7"
   ]
  },
  {
   "cell_type": "code",
   "execution_count": 9,
   "metadata": {},
   "outputs": [
    {
     "name": "stdout",
     "output_type": "stream",
     "text": [
      "<class 'torch.Tensor'>\n"
     ]
    }
   ],
   "source": [
    "print(type(fasttext.vectors))"
   ]
  },
  {
   "cell_type": "code",
   "execution_count": 10,
   "metadata": {},
   "outputs": [],
   "source": [
    "model = MultiTextModel(\n",
    "    authors = AUTHORS,\n",
    "    vocab_size=VOCAB_SIZE,\n",
    "    embedding_size=fasttext.dim, \n",
    "    #embedding_size=EMBEDDING_SIZE, \n",
    "    num_heads=NUM_HEADS, \n",
    "    encoder_layers=ENCODER_LAYERS, \n",
    "    decoder_layers=DECODER_LAYERS, \n",
    "    dim_feedforward=FF_DIM,\n",
    "    dropout=DROPOUT\n",
    ")\n",
    "\n",
    "\n",
    "if fasttext.vectors.size()[0] < VECTORS_LOADED:\n",
    "    vectors = torch.normal(0, 0.1, size=(VECTORS_LOADED - fasttext.vectors.size()[0], fasttext.dim))\n",
    "    vectors = torch.cat([vectors, fasttext.vectors], dim=0)\n",
    "else:\n",
    "    vectors = fasttext.vectors\n",
    "\n",
    "model.embedding.weight.data.copy_(vectors)\n",
    "\n",
    "\n",
    "optimizer = torch.optim.Adam(\n",
    "    model.parameters(), \n",
    "    lr=LEARNING_RATE,\n",
    "    betas=(BETA_1, BETA_2)\n",
    ")\n",
    "    \n",
    "loss_fn = get_loss_function(len(AUTHORS))\n",
    "scheduler = torch.optim.lr_scheduler.StepLR(optimizer, step_size=STEP_LR_DECAY, gamma=LR_FACTOR_DECAY)"
   ]
  },
  {
   "cell_type": "code",
   "execution_count": 11,
   "metadata": {},
   "outputs": [
    {
     "name": "stdout",
     "output_type": "stream",
     "text": [
      "No checkpoints found. New training.\n"
     ]
    }
   ],
   "source": [
    "try:\n",
    "    if not LOAD_CHECKPOINTS:\n",
    "        print('New training required')\n",
    "        raise Error('New training required')\n",
    "        \n",
    "    model, optimizer, last_epoch, train_loss_history, val_loss_history, best_val_loss = load_model_state(\n",
    "        os.path.join(CHECKPOINT_BASE, 'best.pt'), \n",
    "        model, \n",
    "        optimizer\n",
    "    )\n",
    "    \n",
    "    for state in optimizer.state.values():\n",
    "        for k, v in state.items():\n",
    "            if isinstance(v, torch.Tensor):\n",
    "                state[k] = v.to(device)\n",
    "\n",
    "    print('Checkpoint loaded')\n",
    "    \n",
    "except:\n",
    "    last_epoch, train_loss_history, val_loss_history, best_val_loss = build_model_state()\n",
    "    print('No checkpoints found. New training.')\n",
    "    pass\n",
    "\n",
    "model = model.to(device)\n"
   ]
  },
  {
   "cell_type": "markdown",
   "metadata": {},
   "source": [
    "### Training and validation"
   ]
  },
  {
   "cell_type": "code",
   "execution_count": 12,
   "metadata": {},
   "outputs": [],
   "source": [
    "def train_step(transformer, loss_fn, optimizer, source, target):\n",
    "    transformer.train()\n",
    "\n",
    "    transformer.zero_grad()\n",
    "    optimizer.zero_grad()\n",
    "\n",
    "    decodings = transformer(source, target)\n",
    "    \n",
    "    loss = loss_fn(source, decodings)\n",
    "    loss.backward()      \n",
    "    optimizer.step()\n",
    "    return loss.item()    "
   ]
  },
  {
   "cell_type": "code",
   "execution_count": 13,
   "metadata": {},
   "outputs": [],
   "source": [
    "def val_step(transformer, loss_fn, source, target):\n",
    "    transformer.eval()\n",
    "    \n",
    "    with torch.no_grad():\n",
    "        decodings = transformer(source, target)\n",
    "        loss = loss_fn(source, decodings)\n",
    "\n",
    "        return loss.item(), decodings"
   ]
  },
  {
   "cell_type": "code",
   "execution_count": 14,
   "metadata": {},
   "outputs": [],
   "source": [
    "def sample(iterators, dataloaders, device):\n",
    "    source = []\n",
    "    target = []\n",
    "    for idx, it in enumerate(iterators):\n",
    "        try:\n",
    "            example = next(it).to(device)\n",
    "        except:\n",
    "            iterators[idx] = iter(dataloaders[idx])\n",
    "            example = next(iterators[idx]).to(device)\n",
    "\n",
    "        source.append(example[:, 1:])\n",
    "        target.append(example[:, :-1])\n",
    "    return source, target"
   ]
  },
  {
   "cell_type": "code",
   "execution_count": 15,
   "metadata": {
    "scrolled": true,
    "tags": [
     "outputPrepend"
    ]
   },
   "outputs": [
    {
     "name": "stdout",
     "output_type": "stream",
     "text": [
      "*************************** EPOCH 1 ***************************\n"
     ]
    },
    {
     "data": {
      "application/vnd.jupyter.widget-view+json": {
       "model_id": "0162e59a29b0496aa0189af9fc26dfc7",
       "version_major": 2,
       "version_minor": 0
      },
      "text/plain": [
       "HBox(children=(FloatProgress(value=0.0, max=1861.0), HTML(value='')))"
      ]
     },
     "metadata": {},
     "output_type": "display_data"
    },
    {
     "name": "stdout",
     "output_type": "stream",
     "text": [
      "-------------------- Author Friedrich Nietzsche --------------------\n",
      "Real: on the other hand , this desire , thus it ought to be , has only called forth that other desire , <eos>\n",
      "***************************************************\n",
      "Decoded Friedrich Nietzsche: flesh shutouts flesh wenceslaus flesh shutouts shutouts shutouts shutouts lps wenceslaus shutouts colonel lps shutouts wenceslaus flesh cathedrals cathedrals flesh wenceslaus shutouts shutouts\n",
      "***************************************************\n",
      "Decoded Ernest Hemingway: ta walcott ta ta ta ta ta walcott ta ta ta ta ta walcott ta ta ta walcott walcott walcott ta walcott ta\n",
      "***************************************************\n",
      "Decoded Oscar Wilde: shanxi shanxi shanxi shanxi shanxi shanxi shanxi shanxi shanxi shanxi shanxi shanxi shanxi shanxi shanxi shanxi shanxi shanxi shanxi shanxi shanxi shanxi shanxi\n",
      "-------------------- Author Ernest Hemingway --------------------\n",
      "Real: the other day , madame <unk> said , there was a little french girl here with her mother , the <unk> of <eos>\n",
      "***************************************************\n",
      "Decoded Friedrich Nietzsche: flesh flesh wenceslaus flesh shutouts bde shutouts colonel shutouts flesh flesh flesh lps lps shutouts wenceslaus flesh wenceslaus cathedrals shutouts cathedrals shutouts cathedrals\n",
      "***************************************************\n",
      "Decoded Ernest Hemingway: ta ta ta walcott ta walcott ta walcott ta walcott ta ta ta juror pour ta walcott ta ta ta ta ta ta\n",
      "***************************************************\n",
      "Decoded Oscar Wilde: shanxi shanxi shanxi shanxi shanxi jameson shanxi multiculturalism shanxi shanxi shanxi shanxi shanxi beaufort shanxi shanxi shanxi shanxi shanxi shanxi shanxi shanxi shanxi\n",
      "-------------------- Author Oscar Wilde --------------------\n",
      "Real: i can <unk> with everything , except suffering , said lord henry , <unk> his shoulders <pad> <pad> <pad> <pad> <pad> <pad> <eos>\n",
      "***************************************************\n",
      "Decoded Friedrich Nietzsche: colonel flesh shutouts shutouts flesh wenceslaus cathedrals wenceslaus shutouts shutouts colonel shutouts stalinist shutouts shutouts wenceslaus shutouts colonel colonel colonel colonel colonel colonel\n",
      "***************************************************\n",
      "Decoded Ernest Hemingway: ta ta ta ta walcott walcott ta walcott ta ta ta walcott cia ta ta walcott ta ta ta ta ta ta ta\n",
      "***************************************************\n",
      "Decoded Oscar Wilde: shanxi shanxi shanxi shanxi shanxi shanxi shanxi shanxi shanxi shanxi shanxi diversity shanxi shanxi shanxi shanxi shanxi shanxi shanxi shanxi shanxi shanxi shanxi\n",
      "\n"
     ]
    },
    {
     "data": {
      "application/vnd.jupyter.widget-view+json": {
       "model_id": "9dad874835514f96b86ba937d200ec8c",
       "version_major": 2,
       "version_minor": 0
      },
      "text/plain": [
       "HBox(children=(FloatProgress(value=0.0, max=798.0), HTML(value='')))"
      ]
     },
     "metadata": {},
     "output_type": "display_data"
    },
    {
     "name": "stdout",
     "output_type": "stream",
     "text": [
      "\n",
      "*************************** EPOCH 2 ***************************\n"
     ]
    },
    {
     "data": {
      "application/vnd.jupyter.widget-view+json": {
       "model_id": "284682bf23354af58a4d2a70546645d9",
       "version_major": 2,
       "version_minor": 0
      },
      "text/plain": [
       "HBox(children=(FloatProgress(value=0.0, max=1861.0), HTML(value='')))"
      ]
     },
     "metadata": {},
     "output_type": "display_data"
    },
    {
     "name": "stdout",
     "output_type": "stream",
     "text": [
      "-------------------- Author Friedrich Nietzsche --------------------\n",
      "Real: this vulgar taste which <unk> greater importance to intoxication than nutrition did not by any means originate in the lower ranks of <eos>\n",
      "***************************************************\n",
      "Decoded Friedrich Nietzsche: this god life which <unk> by life to life more life do not by be can world in the by , of <eos>\n",
      "***************************************************\n",
      "Decoded Ernest Hemingway: this pop pop his <unk> colonel man to colonel said two like not on there can old in the old , of <eos>\n",
      "***************************************************\n",
      "Decoded Oscar Wilde: this cried art which <unk> by life to use than rose me not by be can great in the by , of <eos>\n",
      "-------------------- Author Ernest Hemingway --------------------\n",
      "Real: she put her <unk> hand up to her lips <pad> <pad> <pad> <pad> <pad> <pad> <pad> <pad> <pad> <pad> <pad> <pad> <pad> <eos>\n",
      "***************************************************\n",
      "Decoded Friedrich Nietzsche: but more him <unk> us with to him life <pad> <pad> <pad> <pad> <pad> <pad> <pad> <pad> <pad> <pad> <pad> <pad> <pad> <eos>\n",
      "***************************************************\n",
      "Decoded Ernest Hemingway: she said him <unk> said up to him pop <pad> <pad> <pad> <pad> <pad> <pad> <pad> <pad> <pad> <pad> <pad> <pad> <pad> <eos>\n",
      "***************************************************\n",
      "Decoded Oscar Wilde: she said her <unk> said up to her cried <pad> <pad> <pad> <pad> <pad> <pad> <pad> <pad> <pad> <pad> <pad> <pad> <pad> <eos>\n",
      "-------------------- Author Oscar Wilde --------------------\n",
      "Real: and wherever the star child led them they followed , and whatever the star child <unk> them do , that did they <eos>\n",
      "***************************************************\n",
      "Decoded Friedrich Nietzsche: and even the world were by all they by , and so the world were <unk> all do , that do they <eos>\n",
      "***************************************************\n",
      "Decoded Ernest Hemingway: and him the old were down them they down , and so the old were <unk> them do , that like they <eos>\n",
      "***************************************************\n",
      "Decoded Oscar Wilde: and him the great were by them they by , and so the great were <unk> them do , that me they <eos>\n",
      "\n"
     ]
    },
    {
     "data": {
      "application/vnd.jupyter.widget-view+json": {
       "model_id": "bb825c192b9849eaa7ed8adc53038d6c",
       "version_major": 2,
       "version_minor": 0
      },
      "text/plain": [
       "HBox(children=(FloatProgress(value=0.0, max=798.0), HTML(value='')))"
      ]
     },
     "metadata": {},
     "output_type": "display_data"
    },
    {
     "name": "stdout",
     "output_type": "stream",
     "text": [
      "\n",
      "*************************** EPOCH 3 ***************************\n"
     ]
    },
    {
     "data": {
      "application/vnd.jupyter.widget-view+json": {
       "model_id": "0c07a965232341638f2e453a54527f8b",
       "version_major": 2,
       "version_minor": 0
      },
      "text/plain": [
       "HBox(children=(FloatProgress(value=0.0, max=1861.0), HTML(value='')))"
      ]
     },
     "metadata": {},
     "output_type": "display_data"
    },
    {
     "name": "stdout",
     "output_type": "stream",
     "text": [
      "-------------------- Author Friedrich Nietzsche --------------------\n",
      "Real: <unk> do they exert themselves , like an <unk> which <unk> to stand upon its head <pad> <pad> <pad> <pad> <pad> <pad> <eos>\n",
      "***************************************************\n",
      "Decoded Friedrich Nietzsche: <unk> do they often themselves , like an <unk> which <unk> to better upon its after <pad> <pad> <pad> <pad> <pad> <pad> <eos>\n",
      "***************************************************\n",
      "Decoded Ernest Hemingway: <unk> do they turned make , like an <unk> which <unk> to put their the head <pad> <pad> <pad> <pad> <pad> <pad> <eos>\n",
      "***************************************************\n",
      "Decoded Oscar Wilde: <unk> do they extremely them , like an <unk> which <unk> to give upon its head <pad> <pad> <pad> <pad> <pad> <pad> <eos>\n",
      "-------------------- Author Ernest Hemingway --------------------\n",
      "Real: he ' s going to be rich as hell some day <pad> <pad> <pad> <pad> <pad> <pad> <pad> <pad> <pad> <pad> <pad> <eos>\n",
      "***************************************************\n",
      "Decoded Friedrich Nietzsche: he ' s did to be strong as god some day <pad> <pad> <pad> <pad> <pad> <pad> <pad> <pad> <pad> <pad> <pad> <eos>\n",
      "***************************************************\n",
      "Decoded Ernest Hemingway: he ' s going to be country as hell some day <pad> <pad> <pad> <pad> <pad> <pad> <pad> <pad> <pad> <pad> <pad> <eos>\n",
      "***************************************************\n",
      "Decoded Oscar Wilde: he ' s going to be away as god some day <pad> <pad> <pad> <pad> <pad> <pad> <pad> <pad> <pad> <pad> <pad> <eos>\n",
      "-------------------- Author Oscar Wilde --------------------\n",
      "Real: second soldier he is looking at some one <pad> <pad> <pad> <pad> <pad> <pad> <pad> <pad> <pad> <pad> <pad> <pad> <pad> <pad> <eos>\n",
      "***************************************************\n",
      "Decoded Friedrich Nietzsche: first old he is make at some one <pad> <pad> <pad> <pad> <pad> <pad> <pad> <pad> <pad> <pad> <pad> <pad> <pad> <pad> <eos>\n",
      "***************************************************\n",
      "Decoded Ernest Hemingway: first old he is make at some one <pad> <pad> <pad> <pad> <pad> <pad> <pad> <pad> <pad> <pad> <pad> <pad> <pad> <pad> <eos>\n",
      "***************************************************\n",
      "Decoded Oscar Wilde: first world he is looking at some one <pad> <pad> <pad> <pad> <pad> <pad> <pad> <pad> <pad> <pad> <pad> <pad> <pad> <pad> <eos>\n",
      "\n"
     ]
    },
    {
     "data": {
      "application/vnd.jupyter.widget-view+json": {
       "model_id": "16b64802c002455485456af72ee147cb",
       "version_major": 2,
       "version_minor": 0
      },
      "text/plain": [
       "HBox(children=(FloatProgress(value=0.0, max=798.0), HTML(value='')))"
      ]
     },
     "metadata": {},
     "output_type": "display_data"
    },
    {
     "name": "stdout",
     "output_type": "stream",
     "text": [
      "\n",
      "*************************** EPOCH 4 ***************************\n"
     ]
    },
    {
     "data": {
      "application/vnd.jupyter.widget-view+json": {
       "model_id": "483f1352c891432298ea11cdee0f66b6",
       "version_major": 2,
       "version_minor": 0
      },
      "text/plain": [
       "HBox(children=(FloatProgress(value=0.0, max=1861.0), HTML(value='')))"
      ]
     },
     "metadata": {},
     "output_type": "display_data"
    },
    {
     "name": "stdout",
     "output_type": "stream",
     "text": [
      "-------------------- Author Friedrich Nietzsche --------------------\n",
      "Real: but even these have their weary hours when a series of venerable words and sounds and a mechanical , pious <unk> does <eos>\n",
      "***************************************************\n",
      "Decoded Friedrich Nietzsche: but even these have their weary take when a powerful of origin words and heard and a vision , belief <unk> does <eos>\n",
      "***************************************************\n",
      "Decoded Ernest Hemingway: but even these have their her take when a ring of george suppose and heard and a bulls , thought <unk> does <eos>\n",
      "***************************************************\n",
      "Decoded Oscar Wilde: but even these have their critic days when a rich of england words and heard and a surroundings , soul <unk> does <eos>\n",
      "-------------------- Author Ernest Hemingway --------------------\n",
      "Real: they had gone a little too far to the left and <unk> waved to <unk> them toward us <pad> <pad> <pad> <pad> <eos>\n",
      "***************************************************\n",
      "Decoded Friedrich Nietzsche: they had gone a little too far to the left and <unk> brings to <unk> them towards us <pad> <pad> <pad> <pad> <eos>\n",
      "***************************************************\n",
      "Decoded Ernest Hemingway: they had gone a little too far to the left and <unk> call to <unk> them toward us <pad> <pad> <pad> <pad> <eos>\n",
      "***************************************************\n",
      "Decoded Oscar Wilde: they had gone a little too far to the left and <unk> charming to <unk> them towards us <pad> <pad> <pad> <pad> <eos>\n",
      "-------------------- Author Oscar Wilde --------------------\n",
      "Real: doors dd and dd <unk> gerald arbuthnot writing at table <pad> <pad> <pad> <pad> <pad> <pad> <pad> <pad> <pad> <pad> <pad> <pad> <eos>\n",
      "***************************************************\n",
      "Decoded Friedrich Nietzsche: spring air and air <unk> voice mine felt at individual <pad> <pad> <pad> <pad> <pad> <pad> <pad> <pad> <pad> <pad> <pad> <pad> <eos>\n",
      "***************************************************\n",
      "Decoded Ernest Hemingway: door walk and walk <unk> manuel d felt at table <pad> <pad> <pad> <pad> <pad> <pad> <pad> <pad> <pad> <pad> <pad> <pad> <eos>\n",
      "***************************************************\n",
      "Decoded Oscar Wilde: door air and air <unk> gerald arbuthnot felt at table <pad> <pad> <pad> <pad> <pad> <pad> <pad> <pad> <pad> <pad> <pad> <pad> <eos>\n",
      "\n"
     ]
    },
    {
     "data": {
      "application/vnd.jupyter.widget-view+json": {
       "model_id": "61d0310a38324c668b700307ca7949fc",
       "version_major": 2,
       "version_minor": 0
      },
      "text/plain": [
       "HBox(children=(FloatProgress(value=0.0, max=798.0), HTML(value='')))"
      ]
     },
     "metadata": {},
     "output_type": "display_data"
    },
    {
     "name": "stdout",
     "output_type": "stream",
     "text": [
      "\n",
      "*************************** EPOCH 5 ***************************\n"
     ]
    },
    {
     "data": {
      "application/vnd.jupyter.widget-view+json": {
       "model_id": "06a430efea554b5ca556d14ba263ea19",
       "version_major": 2,
       "version_minor": 0
      },
      "text/plain": [
       "HBox(children=(FloatProgress(value=0.0, max=1861.0), HTML(value='')))"
      ]
     },
     "metadata": {},
     "output_type": "display_data"
    },
    {
     "name": "stdout",
     "output_type": "stream",
     "text": [
      "-------------------- Author Friedrich Nietzsche --------------------\n",
      "Real: the ass , however , here <unk> ye a <unk> <unk> he through the world <pad> <pad> <pad> <pad> <pad> <pad> <pad> <eos>\n",
      "***************************************************\n",
      "Decoded Friedrich Nietzsche: the ass , however , here <unk> ye a <unk> <unk> he through the world <pad> <pad> <pad> <pad> <pad> <pad> <pad> <eos>\n",
      "***************************************************\n",
      "Decoded Ernest Hemingway: the ain , because , here <unk> brett a <unk> <unk> he through the world <pad> <pad> <pad> <pad> <pad> <pad> <pad> <eos>\n",
      "***************************************************\n",
      "Decoded Oscar Wilde: the ghost , however , here <unk> dance a <unk> <unk> he through the world <pad> <pad> <pad> <pad> <pad> <pad> <pad> <eos>\n",
      "-------------------- Author Ernest Hemingway --------------------\n",
      "Real: you ' d have a hell of a time explaining that to these sport writers though , hogan said <pad> <pad> <pad> <eos>\n",
      "***************************************************\n",
      "Decoded Friedrich Nietzsche: you ' d have a eternal of a time merely that to these german struggle though , play said <pad> <pad> <pad> <eos>\n",
      "***************************************************\n",
      "Decoded Ernest Hemingway: you ' d have a hell of a time carefully that to these open writers though , hogan said <pad> <pad> <pad> <eos>\n",
      "***************************************************\n",
      "Decoded Oscar Wilde: you ' d have a god of a time seeing that to these style influence though , gilbert said <pad> <pad> <pad> <eos>\n",
      "-------------------- Author Oscar Wilde --------------------\n",
      "Real: in the <unk> of pierre <unk> we flee before the hounds , and in the armour of <unk> we ride from the <eos>\n",
      "***************************************************\n",
      "Decoded Friedrich Nietzsche: in the <unk> of saint <unk> we flee before the child , and in the height of <unk> we places from the <eos>\n",
      "***************************************************\n",
      "Decoded Ernest Hemingway: in the <unk> of café <unk> we kill before the hunt , and in the tail of <unk> we ride from the <eos>\n",
      "***************************************************\n",
      "Decoded Oscar Wilde: in the <unk> of de <unk> we strangled before the daughter , and in the decorative of <unk> we fancy from the <eos>\n",
      "\n"
     ]
    },
    {
     "data": {
      "application/vnd.jupyter.widget-view+json": {
       "model_id": "95a10a4d15f047b192eb9b23563ce097",
       "version_major": 2,
       "version_minor": 0
      },
      "text/plain": [
       "HBox(children=(FloatProgress(value=0.0, max=798.0), HTML(value='')))"
      ]
     },
     "metadata": {},
     "output_type": "display_data"
    },
    {
     "name": "stdout",
     "output_type": "stream",
     "text": [
      "\n",
      "*************************** EPOCH 6 ***************************\n"
     ]
    },
    {
     "data": {
      "application/vnd.jupyter.widget-view+json": {
       "model_id": "3b9de51d26224cca9b4d89ad5ecd0fcd",
       "version_major": 2,
       "version_minor": 0
      },
      "text/plain": [
       "HBox(children=(FloatProgress(value=0.0, max=1861.0), HTML(value='')))"
      ]
     },
     "metadata": {},
     "output_type": "display_data"
    },
    {
     "name": "stdout",
     "output_type": "stream",
     "text": [
      "-------------------- Author Friedrich Nietzsche --------------------\n",
      "Real: we , however , want to be the poets of our life , and first of all in the smallest and most <eos>\n",
      "***************************************************\n",
      "Decoded Friedrich Nietzsche: we , however , want to be the poets of our life , and first of all in the smallest and most <eos>\n",
      "***************************************************\n",
      "Decoded Ernest Hemingway: we , however , want to be the portrait of our life , and first of all in the smallest and most <eos>\n",
      "***************************************************\n",
      "Decoded Oscar Wilde: we , however , want to be the poets of our life , and first of all in the modern and most <eos>\n",
      "-------------------- Author Ernest Hemingway --------------------\n",
      "Real: edna was the girl ' s name <pad> <pad> <pad> <pad> <pad> <pad> <pad> <pad> <pad> <pad> <pad> <pad> <pad> <pad> <pad> <eos>\n",
      "***************************************************\n",
      "Decoded Friedrich Nietzsche: he was the woman ' s name <pad> <pad> <pad> <pad> <pad> <pad> <pad> <pad> <pad> <pad> <pad> <pad> <pad> <pad> <pad> <eos>\n",
      "***************************************************\n",
      "Decoded Ernest Hemingway: edna was the girl ' s name <pad> <pad> <pad> <pad> <pad> <pad> <pad> <pad> <pad> <pad> <pad> <pad> <pad> <pad> <pad> <eos>\n",
      "***************************************************\n",
      "Decoded Oscar Wilde: he was the girl ' s name <pad> <pad> <pad> <pad> <pad> <pad> <pad> <pad> <pad> <pad> <pad> <pad> <pad> <pad> <pad> <eos>\n",
      "-------------------- Author Oscar Wilde --------------------\n",
      "Real: you will become <unk> , and hollow <unk> , and dull eyed <pad> <pad> <pad> <pad> <pad> <pad> <pad> <pad> <pad> <pad> <eos>\n",
      "***************************************************\n",
      "Decoded Friedrich Nietzsche: you will become <unk> , and worm <unk> , and dull speaks <pad> <pad> <pad> <pad> <pad> <pad> <pad> <pad> <pad> <pad> <eos>\n",
      "***************************************************\n",
      "Decoded Ernest Hemingway: you will become <unk> , and finger <unk> , and thick portrait <pad> <pad> <pad> <pad> <pad> <pad> <pad> <pad> <pad> <pad> <eos>\n",
      "***************************************************\n",
      "Decoded Oscar Wilde: you will become <unk> , and elaborate <unk> , and dull delightful <pad> <pad> <pad> <pad> <pad> <pad> <pad> <pad> <pad> <pad> <eos>\n",
      "\n"
     ]
    },
    {
     "data": {
      "application/vnd.jupyter.widget-view+json": {
       "model_id": "635ae0910ca040d3bf41e82745ee1c4b",
       "version_major": 2,
       "version_minor": 0
      },
      "text/plain": [
       "HBox(children=(FloatProgress(value=0.0, max=798.0), HTML(value='')))"
      ]
     },
     "metadata": {},
     "output_type": "display_data"
    },
    {
     "name": "stdout",
     "output_type": "stream",
     "text": [
      "\n",
      "*************************** EPOCH 7 ***************************\n"
     ]
    },
    {
     "data": {
      "application/vnd.jupyter.widget-view+json": {
       "model_id": "8d0f90de668a4e58be3056d0dc4f0ee5",
       "version_major": 2,
       "version_minor": 0
      },
      "text/plain": [
       "HBox(children=(FloatProgress(value=0.0, max=1861.0), HTML(value='')))"
      ]
     },
     "metadata": {},
     "output_type": "display_data"
    },
    {
     "name": "stdout",
     "output_type": "stream",
     "text": [
      "-------------------- Author Friedrich Nietzsche --------------------\n",
      "Real: each one of us bears a creative solitude within himself and his consciousness of it forms an exotic <unk> of <unk> round <eos>\n",
      "***************************************************\n",
      "Decoded Friedrich Nietzsche: each one of us bears a creative solitude within himself and his consciousness of it forms an imitating <unk> of <unk> round <eos>\n",
      "***************************************************\n",
      "Decoded Ernest Hemingway: each one of us showing a wild eye these himself and his blood of it or an shape <unk> of <unk> car <eos>\n",
      "***************************************************\n",
      "Decoded Oscar Wilde: each one of us line a creative dream within himself and his consciousness of it forms an popular <unk> of <unk> round <eos>\n",
      "-------------------- Author Ernest Hemingway --------------------\n",
      "Real: who ' d want to ? i say , jake , do we get a drink ? you get it while i <eos>\n",
      "***************************************************\n",
      "Decoded Friedrich Nietzsche: who ' d want to ? i say , she , do we get a drink ? you get it while i <eos>\n",
      "***************************************************\n",
      "Decoded Ernest Hemingway: who ' d want to ? i say , jake , do we get a drink ? you get it while i <eos>\n",
      "***************************************************\n",
      "Decoded Oscar Wilde: who ' d want to ? i say , hester , do we get a drink ? you get it while i <eos>\n",
      "-------------------- Author Oscar Wilde --------------------\n",
      "Real: i had been taken out of the <unk> <unk> without a moment ' s notice being given to me <pad> <pad> <pad> <eos>\n",
      "***************************************************\n",
      "Decoded Friedrich Nietzsche: i had been taken out of the <unk> <unk> without a moment ' s notice being given to me <pad> <pad> <pad> <eos>\n",
      "***************************************************\n",
      "Decoded Ernest Hemingway: i had been taken out of the <unk> <unk> without a moment ' s notice being given to me <pad> <pad> <pad> <eos>\n",
      "***************************************************\n",
      "Decoded Oscar Wilde: i had been taken out of the <unk> <unk> without a moment ' s notice being given to me <pad> <pad> <pad> <eos>\n",
      "\n"
     ]
    },
    {
     "data": {
      "application/vnd.jupyter.widget-view+json": {
       "model_id": "432e60f3c2304d80a140a7693c0c168d",
       "version_major": 2,
       "version_minor": 0
      },
      "text/plain": [
       "HBox(children=(FloatProgress(value=0.0, max=798.0), HTML(value='')))"
      ]
     },
     "metadata": {},
     "output_type": "display_data"
    },
    {
     "name": "stdout",
     "output_type": "stream",
     "text": [
      "\n",
      "*************************** EPOCH 8 ***************************\n"
     ]
    },
    {
     "data": {
      "application/vnd.jupyter.widget-view+json": {
       "model_id": "01e11875eae0452caa2f653bc01a31de",
       "version_major": 2,
       "version_minor": 0
      },
      "text/plain": [
       "HBox(children=(FloatProgress(value=0.0, max=1861.0), HTML(value='')))"
      ]
     },
     "metadata": {},
     "output_type": "display_data"
    },
    {
     "name": "stdout",
     "output_type": "stream",
     "text": [
      "-------------------- Author Friedrich Nietzsche --------------------\n",
      "Real: poetry must precede the plastic art <pad> <pad> <pad> <pad> <pad> <pad> <pad> <pad> <pad> <pad> <pad> <pad> <pad> <pad> <pad> <pad> <eos>\n",
      "***************************************************\n",
      "Decoded Friedrich Nietzsche: poetry must superfluous the plastic art <pad> <pad> <pad> <pad> <pad> <pad> <pad> <pad> <pad> <pad> <pad> <pad> <pad> <pad> <pad> <pad> <eos>\n",
      "***************************************************\n",
      "Decoded Ernest Hemingway: walcott must notice the curve art <pad> <pad> <pad> <pad> <pad> <pad> <pad> <pad> <pad> <pad> <pad> <pad> <pad> <pad> <pad> <pad> <eos>\n",
      "***************************************************\n",
      "Decoded Oscar Wilde: poetry must incomplete the ball art <pad> <pad> <pad> <pad> <pad> <pad> <pad> <pad> <pad> <pad> <pad> <pad> <pad> <pad> <pad> <pad> <eos>\n",
      "-------------------- Author Ernest Hemingway --------------------\n",
      "Real: he was not going to die <pad> <pad> <pad> <pad> <pad> <pad> <pad> <pad> <pad> <pad> <pad> <pad> <pad> <pad> <pad> <pad> <eos>\n",
      "***************************************************\n",
      "Decoded Friedrich Nietzsche: he was not going to die <pad> <pad> <pad> <pad> <pad> <pad> <pad> <pad> <pad> <pad> <pad> <pad> <pad> <pad> <pad> <pad> <eos>\n",
      "***************************************************\n",
      "Decoded Ernest Hemingway: he was not going to die <pad> <pad> <pad> <pad> <pad> <pad> <pad> <pad> <pad> <pad> <pad> <pad> <pad> <pad> <pad> <pad> <eos>\n",
      "***************************************************\n",
      "Decoded Oscar Wilde: he was not going to die <pad> <pad> <pad> <pad> <pad> <pad> <pad> <pad> <pad> <pad> <pad> <pad> <pad> <pad> <pad> <pad> <eos>\n",
      "-------------------- Author Oscar Wilde --------------------\n",
      "Real: and just as it is only in art criticism , and through it , that we can <unk> the platonic theory of <eos>\n",
      "***************************************************\n",
      "Decoded Friedrich Nietzsche: and just as it is only in art criticism , and through it , that we can <unk> the platonic theory of <eos>\n",
      "***************************************************\n",
      "Decoded Ernest Hemingway: and just as it is only in art forward , and through it , that we can <unk> the pity much of <eos>\n",
      "***************************************************\n",
      "Decoded Oscar Wilde: and just as it is only in art criticism , and through it , that we can <unk> the emotion theory of <eos>\n",
      "\n"
     ]
    },
    {
     "data": {
      "application/vnd.jupyter.widget-view+json": {
       "model_id": "659d1076241a42c5805f377311459204",
       "version_major": 2,
       "version_minor": 0
      },
      "text/plain": [
       "HBox(children=(FloatProgress(value=0.0, max=798.0), HTML(value='')))"
      ]
     },
     "metadata": {},
     "output_type": "display_data"
    },
    {
     "name": "stdout",
     "output_type": "stream",
     "text": [
      "\n",
      "*************************** EPOCH 9 ***************************\n"
     ]
    },
    {
     "data": {
      "application/vnd.jupyter.widget-view+json": {
       "model_id": "1b91b56bd5974ca1bafa361c3873b049",
       "version_major": 2,
       "version_minor": 0
      },
      "text/plain": [
       "HBox(children=(FloatProgress(value=0.0, max=1861.0), HTML(value='')))"
      ]
     },
     "metadata": {},
     "output_type": "display_data"
    },
    {
     "name": "stdout",
     "output_type": "stream",
     "text": [
      "-------------------- Author Friedrich Nietzsche --------------------\n",
      "Real: wagner has not the power to <unk> and liberate the soul of those he <unk> <unk> wagner is not sure of himself <eos>\n",
      "***************************************************\n",
      "Decoded Friedrich Nietzsche: wagner has not the power to <unk> and share the soul of those he <unk> <unk> wagner is not sure of himself <eos>\n",
      "***************************************************\n",
      "Decoded Ernest Hemingway: un has not the power to <unk> and share the boy of those he <unk> <unk> un is not sure of himself <eos>\n",
      "***************************************************\n",
      "Decoded Oscar Wilde: shakespeare has not the power to <unk> and labour the soul of those he <unk> <unk> shakespeare is not sure of himself <eos>\n",
      "-------------------- Author Ernest Hemingway --------------------\n",
      "Real: he is no pistol <unk> , but a big business man <pad> <pad> <pad> <pad> <pad> <pad> <pad> <pad> <pad> <pad> <pad> <eos>\n",
      "***************************************************\n",
      "Decoded Friedrich Nietzsche: he is no spring <unk> , but a big business man <pad> <pad> <pad> <pad> <pad> <pad> <pad> <pad> <pad> <pad> <pad> <eos>\n",
      "***************************************************\n",
      "Decoded Ernest Hemingway: he is no pistol <unk> , but a big business man <pad> <pad> <pad> <pad> <pad> <pad> <pad> <pad> <pad> <pad> <pad> <eos>\n",
      "***************************************************\n",
      "Decoded Oscar Wilde: he is no exit <unk> , but a big business man <pad> <pad> <pad> <pad> <pad> <pad> <pad> <pad> <pad> <pad> <pad> <eos>\n",
      "-------------------- Author Oscar Wilde --------------------\n",
      "Real: so the nightingale pressed closer against the thorn , and the thorn touched her heart , and a fierce pang of pain <eos>\n",
      "***************************************************\n",
      "Decoded Friedrich Nietzsche: so the artist pressed provided against the weapon , and the older hold her heart , and a strength pang of pain <eos>\n",
      "***************************************************\n",
      "Decoded Ernest Hemingway: so the lad pressed closer against the thorn , and the thorn touched her heart , and a pitted bush of pain <eos>\n",
      "***************************************************\n",
      "Decoded Oscar Wilde: so the nightingale wrapped closer against the thorn , and the thorn touched her heart , and a fierce vine of pain <eos>\n",
      "\n"
     ]
    },
    {
     "data": {
      "application/vnd.jupyter.widget-view+json": {
       "model_id": "7570707ffc4b4b06af3a0de5dc295fbc",
       "version_major": 2,
       "version_minor": 0
      },
      "text/plain": [
       "HBox(children=(FloatProgress(value=0.0, max=798.0), HTML(value='')))"
      ]
     },
     "metadata": {},
     "output_type": "display_data"
    },
    {
     "name": "stdout",
     "output_type": "stream",
     "text": [
      "\n",
      "*************************** EPOCH 10 ***************************\n"
     ]
    },
    {
     "data": {
      "application/vnd.jupyter.widget-view+json": {
       "model_id": "c663e9d410854fc2b77ffc29e443eac4",
       "version_major": 2,
       "version_minor": 0
      },
      "text/plain": [
       "HBox(children=(FloatProgress(value=0.0, max=1861.0), HTML(value='')))"
      ]
     },
     "metadata": {},
     "output_type": "display_data"
    },
    {
     "name": "stdout",
     "output_type": "stream",
     "text": [
      "-------------------- Author Friedrich Nietzsche --------------------\n",
      "Real: the <unk> utterly opposed to new education <pad> <pad> <pad> <pad> <pad> <pad> <pad> <pad> <pad> <pad> <pad> <pad> <pad> <pad> <pad> <eos>\n",
      "***************************************************\n",
      "Decoded Friedrich Nietzsche: the <unk> utterly opposed to new education <pad> <pad> <pad> <pad> <pad> <pad> <pad> <pad> <pad> <pad> <pad> <pad> <pad> <pad> <pad> <eos>\n",
      "***************************************************\n",
      "Decoded Ernest Hemingway: the <unk> fault seen to new education <pad> <pad> <pad> <pad> <pad> <pad> <pad> <pad> <pad> <pad> <pad> <pad> <pad> <pad> <pad> <eos>\n",
      "***************************************************\n",
      "Decoded Oscar Wilde: the <unk> seriously opposed to new education <pad> <pad> <pad> <pad> <pad> <pad> <pad> <pad> <pad> <pad> <pad> <pad> <pad> <pad> <pad> <eos>\n",
      "-------------------- Author Ernest Hemingway --------------------\n",
      "Real: he waved with his free hand <pad> <pad> <pad> <pad> <pad> <pad> <pad> <pad> <pad> <pad> <pad> <pad> <pad> <pad> <pad> <pad> <eos>\n",
      "***************************************************\n",
      "Decoded Friedrich Nietzsche: he noticed with his free hand <pad> <pad> <pad> <pad> <pad> <pad> <pad> <pad> <pad> <pad> <pad> <pad> <pad> <pad> <pad> <pad> <eos>\n",
      "***************************************************\n",
      "Decoded Ernest Hemingway: he waved with his free hand <pad> <pad> <pad> <pad> <pad> <pad> <pad> <pad> <pad> <pad> <pad> <pad> <pad> <pad> <pad> <pad> <eos>\n",
      "***************************************************\n",
      "Decoded Oscar Wilde: he waved with his free hand <pad> <pad> <pad> <pad> <pad> <pad> <pad> <pad> <pad> <pad> <pad> <pad> <pad> <pad> <pad> <pad> <eos>\n",
      "-------------------- Author Oscar Wilde --------------------\n",
      "Real: while all other forms of poetry may <unk> in an <unk> age , the splendid individualism of the <unk> , fed by <eos>\n",
      "***************************************************\n",
      "Decoded Friedrich Nietzsche: while all other forms of poetry may <unk> in an <unk> age , the splendid belief of the <unk> , herd by <eos>\n",
      "***************************************************\n",
      "Decoded Ernest Hemingway: while all other or of garden may <unk> in an <unk> age , the splendid worldly of the <unk> , fed by <eos>\n",
      "***************************************************\n",
      "Decoded Oscar Wilde: while all other forms of poetry may <unk> in an <unk> age , the splendid individualism of the <unk> , fed by <eos>\n",
      "\n"
     ]
    },
    {
     "data": {
      "application/vnd.jupyter.widget-view+json": {
       "model_id": "fb46ea5cbe90482a931c1affef0500a9",
       "version_major": 2,
       "version_minor": 0
      },
      "text/plain": [
       "HBox(children=(FloatProgress(value=0.0, max=798.0), HTML(value='')))"
      ]
     },
     "metadata": {},
     "output_type": "display_data"
    },
    {
     "name": "stdout",
     "output_type": "stream",
     "text": [
      "\n",
      "*************************** EPOCH 11 ***************************\n"
     ]
    },
    {
     "data": {
      "application/vnd.jupyter.widget-view+json": {
       "model_id": "7230782b753740038d3a265e2455536b",
       "version_major": 2,
       "version_minor": 0
      },
      "text/plain": [
       "HBox(children=(FloatProgress(value=0.0, max=1861.0), HTML(value='')))"
      ]
     },
     "metadata": {},
     "output_type": "display_data"
    },
    {
     "name": "stdout",
     "output_type": "stream",
     "text": [
      "-------------------- Author Friedrich Nietzsche --------------------\n",
      "Real: we may not even offer them <unk> and pleasure without this laurel crown and its <unk> influence <pad> <pad> <pad> <pad> <pad> <eos>\n",
      "***************************************************\n",
      "Decoded Friedrich Nietzsche: we may not even offer them <unk> and pleasure without this laurel crown and its <unk> influence <pad> <pad> <pad> <pad> <pad> <eos>\n",
      "***************************************************\n",
      "Decoded Ernest Hemingway: we may not even offer them <unk> and pleasure without this ashley hunting and its <unk> whose <pad> <pad> <pad> <pad> <pad> <eos>\n",
      "***************************************************\n",
      "Decoded Oscar Wilde: we may not even offer them <unk> and pleasure without this ashton crown and its <unk> influence <pad> <pad> <pad> <pad> <pad> <eos>\n",
      "-------------------- Author Ernest Hemingway --------------------\n",
      "Real: the crowd was in the cafés and the dancers came in , too , and sat , their tight wound white legs <eos>\n",
      "***************************************************\n",
      "Decoded Friedrich Nietzsche: the crowd was in the races and the dancers came in , too , and sat , their top wound white legs <eos>\n",
      "***************************************************\n",
      "Decoded Ernest Hemingway: the crowd was in the cafés and the dancers came in , too , and sat , their tight wound white legs <eos>\n",
      "***************************************************\n",
      "Decoded Oscar Wilde: the crowd was in the frenchman and the dancers came in , too , and sat , their tight wound white legs <eos>\n",
      "-------------------- Author Oscar Wilde --------------------\n",
      "Real: <unk> who has taken my ring ? there was a ring on my right hand <pad> <pad> <pad> <pad> <pad> <pad> <pad> <eos>\n",
      "***************************************************\n",
      "Decoded Friedrich Nietzsche: <unk> who has taken my ring ? there was a ring on my right hand <pad> <pad> <pad> <pad> <pad> <pad> <pad> <eos>\n",
      "***************************************************\n",
      "Decoded Ernest Hemingway: <unk> who has taken my ring ? there was a ring on my right hand <pad> <pad> <pad> <pad> <pad> <pad> <pad> <eos>\n",
      "***************************************************\n",
      "Decoded Oscar Wilde: <unk> who has taken my ring ? there was a ring on my right hand <pad> <pad> <pad> <pad> <pad> <pad> <pad> <eos>\n",
      "\n"
     ]
    },
    {
     "data": {
      "application/vnd.jupyter.widget-view+json": {
       "model_id": "a8ea7dafe5784291875ef8d18cf0422a",
       "version_major": 2,
       "version_minor": 0
      },
      "text/plain": [
       "HBox(children=(FloatProgress(value=0.0, max=798.0), HTML(value='')))"
      ]
     },
     "metadata": {},
     "output_type": "display_data"
    },
    {
     "name": "stdout",
     "output_type": "stream",
     "text": [
      "\n",
      "*************************** EPOCH 12 ***************************\n"
     ]
    },
    {
     "data": {
      "application/vnd.jupyter.widget-view+json": {
       "model_id": "6f4d1b1c9bb24e1eb1118ce2740c7281",
       "version_major": 2,
       "version_minor": 0
      },
      "text/plain": [
       "HBox(children=(FloatProgress(value=0.0, max=1861.0), HTML(value='')))"
      ]
     },
     "metadata": {},
     "output_type": "display_data"
    },
    {
     "name": "stdout",
     "output_type": "stream",
     "text": [
      "-------------------- Author Friedrich Nietzsche --------------------\n",
      "Real: so long as you cannot believe in my bad reasons , that is to say , in my god , in a <eos>\n",
      "***************************************************\n",
      "Decoded Friedrich Nietzsche: so long as you cannot believe in my bad reasons , that is to say , in my god , in a <eos>\n",
      "***************************************************\n",
      "Decoded Ernest Hemingway: so long as you cannot believe in my bad reasons , that is to say , in my god , in a <eos>\n",
      "***************************************************\n",
      "Decoded Oscar Wilde: so long as you cannot believe in my bad reasons , that is to say , in my god , in a <eos>\n",
      "-------------------- Author Ernest Hemingway --------------------\n",
      "Real: the rhino looked so huge , so ridiculous , and so fine to see , and i sighted on her chest <pad> <eos>\n",
      "***************************************************\n",
      "Decoded Friedrich Nietzsche: the beast looked so huge , so ridiculous , and so fine to see , and i sighted on her stomach <pad> <eos>\n",
      "***************************************************\n",
      "Decoded Ernest Hemingway: the rhino looked so huge , so ridiculous , and so fine to see , and i sighted on her chest <pad> <eos>\n",
      "***************************************************\n",
      "Decoded Oscar Wilde: the performance looked so huge , so ridiculous , and so fine to see , and i sighted on her chest <pad> <eos>\n",
      "-------------------- Author Oscar Wilde --------------------\n",
      "Real: we are denied the one thing that might heal us and keep us , that might bring <unk> to the <unk> heart <eos>\n",
      "***************************************************\n",
      "Decoded Friedrich Nietzsche: we are denied the one thing that might heal us and keep us , that might bring <unk> to the <unk> heart <eos>\n",
      "***************************************************\n",
      "Decoded Ernest Hemingway: we are felt the one thing that might wounds us and keep us , that might bring <unk> to the <unk> heart <eos>\n",
      "***************************************************\n",
      "Decoded Oscar Wilde: we are denied the one thing that might heal us and keep us , that might bring <unk> to the <unk> heart <eos>\n",
      "\n"
     ]
    },
    {
     "data": {
      "application/vnd.jupyter.widget-view+json": {
       "model_id": "8cd066925aa0462183f619c6dabac2d5",
       "version_major": 2,
       "version_minor": 0
      },
      "text/plain": [
       "HBox(children=(FloatProgress(value=0.0, max=798.0), HTML(value='')))"
      ]
     },
     "metadata": {},
     "output_type": "display_data"
    },
    {
     "name": "stdout",
     "output_type": "stream",
     "text": [
      "\n",
      "*************************** EPOCH 13 ***************************\n"
     ]
    },
    {
     "data": {
      "application/vnd.jupyter.widget-view+json": {
       "model_id": "6fbe1f5a064041d9ae1a0e9606ceab04",
       "version_major": 2,
       "version_minor": 0
      },
      "text/plain": [
       "HBox(children=(FloatProgress(value=0.0, max=1861.0), HTML(value='')))"
      ]
     },
     "metadata": {},
     "output_type": "display_data"
    },
    {
     "name": "stdout",
     "output_type": "stream",
     "text": [
      "-------------------- Author Friedrich Nietzsche --------------------\n",
      "Real: any one who can reach the second step , will see how extremely rare and <unk> the knowledge of that end is <eos>\n",
      "***************************************************\n",
      "Decoded Friedrich Nietzsche: any one who can reach the second step , will see how extremely rare and <unk> the knowledge of that end is <eos>\n",
      "***************************************************\n",
      "Decoded Ernest Hemingway: any one who can reach the second step , will see how extremely rare and <unk> the knowledge of that end is <eos>\n",
      "***************************************************\n",
      "Decoded Oscar Wilde: any one who can reach the second step , will see how extremely rare and <unk> the knowledge of that end is <eos>\n",
      "-------------------- Author Ernest Hemingway --------------------\n",
      "Real: je <unk> aller à la <unk> moi <unk> , andré said in his high , little boy ' s voice <pad> <pad> <eos>\n",
      "***************************************************\n",
      "Decoded Friedrich Nietzsche: je <unk> ay à la <unk> violence <unk> , herman said in his high , little boy ' s voice <pad> <pad> <eos>\n",
      "***************************************************\n",
      "Decoded Ernest Hemingway: je <unk> aller à la <unk> moi <unk> , andré said in his high , little boy ' s voice <pad> <pad> <eos>\n",
      "***************************************************\n",
      "Decoded Oscar Wilde: contains <unk> paradis à la <unk> issue <unk> , à said in his high , little boy ' s voice <pad> <pad> <eos>\n",
      "-------------------- Author Oscar Wilde --------------------\n",
      "Real: herod <unk> sinking back in his seat <unk> <pad> <pad> <pad> <pad> <pad> <pad> <pad> <pad> <pad> <pad> <pad> <pad> <pad> <pad> <eos>\n",
      "***************************************************\n",
      "Decoded Friedrich Nietzsche: horace <unk> sinking back in his seat <unk> <pad> <pad> <pad> <pad> <pad> <pad> <pad> <pad> <pad> <pad> <pad> <pad> <pad> <pad> <eos>\n",
      "***************************************************\n",
      "Decoded Ernest Hemingway: horace <unk> holes back in his seat <unk> <pad> <pad> <pad> <pad> <pad> <pad> <pad> <pad> <pad> <pad> <pad> <pad> <pad> <pad> <eos>\n",
      "***************************************************\n",
      "Decoded Oscar Wilde: herod <unk> sinking back in his seat <unk> <pad> <pad> <pad> <pad> <pad> <pad> <pad> <pad> <pad> <pad> <pad> <pad> <pad> <pad> <eos>\n",
      "\n"
     ]
    },
    {
     "data": {
      "application/vnd.jupyter.widget-view+json": {
       "model_id": "ea0e271024ab4e898668f6e8b8491228",
       "version_major": 2,
       "version_minor": 0
      },
      "text/plain": [
       "HBox(children=(FloatProgress(value=0.0, max=798.0), HTML(value='')))"
      ]
     },
     "metadata": {},
     "output_type": "display_data"
    },
    {
     "name": "stdout",
     "output_type": "stream",
     "text": [
      "\n",
      "*************************** EPOCH 14 ***************************\n"
     ]
    },
    {
     "data": {
      "application/vnd.jupyter.widget-view+json": {
       "model_id": "f4f98b9b10524db5b1760d526d1b07cd",
       "version_major": 2,
       "version_minor": 0
      },
      "text/plain": [
       "HBox(children=(FloatProgress(value=0.0, max=1861.0), HTML(value='')))"
      ]
     },
     "metadata": {},
     "output_type": "display_data"
    },
    {
     "name": "stdout",
     "output_type": "stream",
     "text": [
      "-------------------- Author Friedrich Nietzsche --------------------\n",
      "Real: on thy small injustice the whole nature of the future depends <pad> <pad> <pad> <pad> <pad> <pad> <pad> <pad> <pad> <pad> <pad> <eos>\n",
      "***************************************************\n",
      "Decoded Friedrich Nietzsche: on thy small injustice the whole nature of the future depends <pad> <pad> <pad> <pad> <pad> <pad> <pad> <pad> <pad> <pad> <pad> <eos>\n",
      "***************************************************\n",
      "Decoded Ernest Hemingway: on thy small understanding the whole religious of the future depends <pad> <pad> <pad> <pad> <pad> <pad> <pad> <pad> <pad> <pad> <pad> <eos>\n",
      "***************************************************\n",
      "Decoded Oscar Wilde: on thy small injustice the whole nature of the future depends <pad> <pad> <pad> <pad> <pad> <pad> <pad> <pad> <pad> <pad> <pad> <eos>\n",
      "-------------------- Author Ernest Hemingway --------------------\n",
      "Real: it seemed to make him happy <pad> <pad> <pad> <pad> <pad> <pad> <pad> <pad> <pad> <pad> <pad> <pad> <pad> <pad> <pad> <pad> <eos>\n",
      "***************************************************\n",
      "Decoded Friedrich Nietzsche: it seemed to make him happy <pad> <pad> <pad> <pad> <pad> <pad> <pad> <pad> <pad> <pad> <pad> <pad> <pad> <pad> <pad> <pad> <eos>\n",
      "***************************************************\n",
      "Decoded Ernest Hemingway: it seemed to make him happy <pad> <pad> <pad> <pad> <pad> <pad> <pad> <pad> <pad> <pad> <pad> <pad> <pad> <pad> <pad> <pad> <eos>\n",
      "***************************************************\n",
      "Decoded Oscar Wilde: it seemed to make him happy <pad> <pad> <pad> <pad> <pad> <pad> <pad> <pad> <pad> <pad> <pad> <pad> <pad> <pad> <pad> <pad> <eos>\n",
      "-------------------- Author Oscar Wilde --------------------\n",
      "Real: of the great green snake that sleeps in a palm tree , and has twenty priests to feed it with honey cakes <eos>\n",
      "***************************************************\n",
      "Decoded Friedrich Nietzsche: of the great green spider that blink in a palm tree , and has twenty priests to feed it with honey bread <eos>\n",
      "***************************************************\n",
      "Decoded Ernest Hemingway: of the great green snake that sleeps in a willows tree , and has twenty priests to feed it with honey butter <eos>\n",
      "***************************************************\n",
      "Decoded Oscar Wilde: of the great green snake that sleeps in a palm tree , and has twenty priests to feed it with honey cakes <eos>\n",
      "\n"
     ]
    },
    {
     "data": {
      "application/vnd.jupyter.widget-view+json": {
       "model_id": "e7250cca9aa34f8cb6939e4d8ad60117",
       "version_major": 2,
       "version_minor": 0
      },
      "text/plain": [
       "HBox(children=(FloatProgress(value=0.0, max=798.0), HTML(value='')))"
      ]
     },
     "metadata": {},
     "output_type": "display_data"
    },
    {
     "name": "stdout",
     "output_type": "stream",
     "text": [
      "\n",
      "*************************** EPOCH 15 ***************************\n"
     ]
    },
    {
     "data": {
      "application/vnd.jupyter.widget-view+json": {
       "model_id": "432c359078714f0a85269de6ce2b475f",
       "version_major": 2,
       "version_minor": 0
      },
      "text/plain": [
       "HBox(children=(FloatProgress(value=0.0, max=1861.0), HTML(value='')))"
      ]
     },
     "metadata": {},
     "output_type": "display_data"
    },
    {
     "name": "stdout",
     "output_type": "stream",
     "text": [
      "-------------------- Author Friedrich Nietzsche --------------------\n",
      "Real: <unk> <unk> <unk> physics and politics , <unk> <pad> <pad> <pad> <pad> <pad> <pad> <pad> <pad> <pad> <pad> <pad> <pad> <pad> <pad> <eos>\n",
      "***************************************************\n",
      "Decoded Friedrich Nietzsche: <unk> <unk> <unk> mathematics and politics , <unk> <pad> <pad> <pad> <pad> <pad> <pad> <pad> <pad> <pad> <pad> <pad> <pad> <pad> <pad> <eos>\n",
      "***************************************************\n",
      "Decoded Ernest Hemingway: <unk> <unk> <unk> depth and politics , <unk> <pad> <pad> <pad> <pad> <pad> <pad> <pad> <pad> <pad> <pad> <pad> <pad> <pad> <pad> <eos>\n",
      "***************************************************\n",
      "Decoded Oscar Wilde: <unk> <unk> <unk> chemistry and politics , <unk> <pad> <pad> <pad> <pad> <pad> <pad> <pad> <pad> <pad> <pad> <pad> <pad> <pad> <pad> <eos>\n",
      "-------------------- Author Ernest Hemingway --------------------\n",
      "Real: nothing like it this time of year for what <unk> you <pad> <pad> <pad> <pad> <pad> <pad> <pad> <pad> <pad> <pad> <pad> <eos>\n",
      "***************************************************\n",
      "Decoded Friedrich Nietzsche: nothing like it this time of year for what <unk> you <pad> <pad> <pad> <pad> <pad> <pad> <pad> <pad> <pad> <pad> <pad> <eos>\n",
      "***************************************************\n",
      "Decoded Ernest Hemingway: nothing like it this time of year for what <unk> you <pad> <pad> <pad> <pad> <pad> <pad> <pad> <pad> <pad> <pad> <pad> <eos>\n",
      "***************************************************\n",
      "Decoded Oscar Wilde: nothing like it this time of year for what <unk> you <pad> <pad> <pad> <pad> <pad> <pad> <pad> <pad> <pad> <pad> <pad> <eos>\n",
      "-------------------- Author Oscar Wilde --------------------\n",
      "Real: there were moments , later on , when it had the wild passion of <unk> <pad> <pad> <pad> <pad> <pad> <pad> <pad> <eos>\n",
      "***************************************************\n",
      "Decoded Friedrich Nietzsche: there were moments , later on , when it had the wild passion of <unk> <pad> <pad> <pad> <pad> <pad> <pad> <pad> <eos>\n",
      "***************************************************\n",
      "Decoded Ernest Hemingway: there were moments , later on , when it had the wild talent of <unk> <pad> <pad> <pad> <pad> <pad> <pad> <pad> <eos>\n",
      "***************************************************\n",
      "Decoded Oscar Wilde: there were moments , later on , when it had the wild passion of <unk> <pad> <pad> <pad> <pad> <pad> <pad> <pad> <eos>\n",
      "\n"
     ]
    },
    {
     "data": {
      "application/vnd.jupyter.widget-view+json": {
       "model_id": "cc79fd795fbe47c58d7ea0fc809deda6",
       "version_major": 2,
       "version_minor": 0
      },
      "text/plain": [
       "HBox(children=(FloatProgress(value=0.0, max=798.0), HTML(value='')))"
      ]
     },
     "metadata": {},
     "output_type": "display_data"
    },
    {
     "name": "stdout",
     "output_type": "stream",
     "text": [
      "\n",
      "*************************** EPOCH 16 ***************************\n"
     ]
    },
    {
     "data": {
      "application/vnd.jupyter.widget-view+json": {
       "model_id": "a3aa949a099d478f93a048faa0b09940",
       "version_major": 2,
       "version_minor": 0
      },
      "text/plain": [
       "HBox(children=(FloatProgress(value=0.0, max=1861.0), HTML(value='')))"
      ]
     },
     "metadata": {},
     "output_type": "display_data"
    },
    {
     "name": "stdout",
     "output_type": "stream",
     "text": [
      "-------------------- Author Friedrich Nietzsche --------------------\n",
      "Real: as a matter of fact , the movement is again made retrograde owing to german romanticism <unk> and the fame of german <eos>\n",
      "***************************************************\n",
      "Decoded Friedrich Nietzsche: as a matter of fact , the movement is again made retrograde owing to german romanticism <unk> and the fame of german <eos>\n",
      "***************************************************\n",
      "Decoded Ernest Hemingway: as a matter of fact , the movement is again made gently regarded to german poetry <unk> and the triumph of german <eos>\n",
      "***************************************************\n",
      "Decoded Oscar Wilde: as a matter of fact , the movement is again made estimating due to german romanticism <unk> and the fame of german <eos>\n",
      "-------------------- Author Ernest Hemingway --------------------\n",
      "Real: isn ' t that the headquarters of the society ? i believe it is <pad> <pad> <pad> <pad> <pad> <pad> <pad> <pad> <eos>\n",
      "***************************************************\n",
      "Decoded Friedrich Nietzsche: isn ' t that the owners of the society ? i believe it is <pad> <pad> <pad> <pad> <pad> <pad> <pad> <pad> <eos>\n",
      "***************************************************\n",
      "Decoded Ernest Hemingway: isn ' t that the headquarters of the society ? i believe it is <pad> <pad> <pad> <pad> <pad> <pad> <pad> <pad> <eos>\n",
      "***************************************************\n",
      "Decoded Oscar Wilde: isn ' t that the area of the society ? i believe it is <pad> <pad> <pad> <pad> <pad> <pad> <pad> <pad> <eos>\n",
      "-------------------- Author Oscar Wilde --------------------\n",
      "Real: when our eyes met , i felt that i was growing pale <pad> <pad> <pad> <pad> <pad> <pad> <pad> <pad> <pad> <pad> <eos>\n",
      "***************************************************\n",
      "Decoded Friedrich Nietzsche: when our eyes met , i felt that i was growing pale <pad> <pad> <pad> <pad> <pad> <pad> <pad> <pad> <pad> <pad> <eos>\n",
      "***************************************************\n",
      "Decoded Ernest Hemingway: when our eyes met , i felt that i was growing pale <pad> <pad> <pad> <pad> <pad> <pad> <pad> <pad> <pad> <pad> <eos>\n",
      "***************************************************\n",
      "Decoded Oscar Wilde: when our eyes met , i felt that i was growing pale <pad> <pad> <pad> <pad> <pad> <pad> <pad> <pad> <pad> <pad> <eos>\n",
      "\n"
     ]
    },
    {
     "data": {
      "application/vnd.jupyter.widget-view+json": {
       "model_id": "accf988b86504a5988ba96669f2128f3",
       "version_major": 2,
       "version_minor": 0
      },
      "text/plain": [
       "HBox(children=(FloatProgress(value=0.0, max=798.0), HTML(value='')))"
      ]
     },
     "metadata": {},
     "output_type": "display_data"
    },
    {
     "name": "stdout",
     "output_type": "stream",
     "text": [
      "\n",
      "*************************** EPOCH 17 ***************************\n"
     ]
    },
    {
     "data": {
      "application/vnd.jupyter.widget-view+json": {
       "model_id": "3f24cedf8f7142c68088f71cf3663b7f",
       "version_major": 2,
       "version_minor": 0
      },
      "text/plain": [
       "HBox(children=(FloatProgress(value=0.0, max=1861.0), HTML(value='')))"
      ]
     },
     "metadata": {},
     "output_type": "display_data"
    },
    {
     "name": "stdout",
     "output_type": "stream",
     "text": [
      "-------------------- Author Friedrich Nietzsche --------------------\n",
      "Real: to depict the noble destiny of a people in the <unk> of an individual in a work which will last for all <eos>\n",
      "***************************************************\n",
      "Decoded Friedrich Nietzsche: to depict the noble destiny of a people in the <unk> of an individual in a work which will last for all <eos>\n",
      "***************************************************\n",
      "Decoded Ernest Hemingway: to survive the noble loving of a people in the <unk> of an individual in a work which will last for all <eos>\n",
      "***************************************************\n",
      "Decoded Oscar Wilde: to carved the noble destiny of a people in the <unk> of an individual in a work which will last for all <eos>\n",
      "-------------------- Author Ernest Hemingway --------------------\n",
      "Real: i ' d like to go to san dona to see the bridge again <pad> <pad> <pad> <pad> <pad> <pad> <pad> <pad> <eos>\n",
      "***************************************************\n",
      "Decoded Friedrich Nietzsche: i ' d like to go to owners vale to see the bridge again <pad> <pad> <pad> <pad> <pad> <pad> <pad> <pad> <eos>\n",
      "***************************************************\n",
      "Decoded Ernest Hemingway: i ' d like to go to san dona to see the bridge again <pad> <pad> <pad> <pad> <pad> <pad> <pad> <pad> <eos>\n",
      "***************************************************\n",
      "Decoded Oscar Wilde: i ' d like to go to san princess to see the bridge again <pad> <pad> <pad> <pad> <pad> <pad> <pad> <pad> <eos>\n",
      "-------------------- Author Oscar Wilde --------------------\n",
      "Real: what of those whose ruin is due to him ? they are <unk> <pad> <pad> <pad> <pad> <pad> <pad> <pad> <pad> <pad> <eos>\n",
      "***************************************************\n",
      "Decoded Friedrich Nietzsche: what of those whose ruin is due to him ? they are <unk> <pad> <pad> <pad> <pad> <pad> <pad> <pad> <pad> <pad> <eos>\n",
      "***************************************************\n",
      "Decoded Ernest Hemingway: what of those whose ruin is due to him ? they are <unk> <pad> <pad> <pad> <pad> <pad> <pad> <pad> <pad> <pad> <eos>\n",
      "***************************************************\n",
      "Decoded Oscar Wilde: what of those whose ruin is due to him ? they are <unk> <pad> <pad> <pad> <pad> <pad> <pad> <pad> <pad> <pad> <eos>\n",
      "\n"
     ]
    },
    {
     "data": {
      "application/vnd.jupyter.widget-view+json": {
       "model_id": "bc15ddacd47f49c4a84741aa5ff80104",
       "version_major": 2,
       "version_minor": 0
      },
      "text/plain": [
       "HBox(children=(FloatProgress(value=0.0, max=798.0), HTML(value='')))"
      ]
     },
     "metadata": {},
     "output_type": "display_data"
    },
    {
     "name": "stdout",
     "output_type": "stream",
     "text": [
      "\n",
      "*************************** EPOCH 18 ***************************\n"
     ]
    },
    {
     "data": {
      "application/vnd.jupyter.widget-view+json": {
       "model_id": "4532aa33da444b0d9e6f61c9a6ca4591",
       "version_major": 2,
       "version_minor": 0
      },
      "text/plain": [
       "HBox(children=(FloatProgress(value=0.0, max=1861.0), HTML(value='')))"
      ]
     },
     "metadata": {},
     "output_type": "display_data"
    },
    {
     "name": "stdout",
     "output_type": "stream",
     "text": [
      "-------------------- Author Friedrich Nietzsche --------------------\n",
      "Real: and so they can often bring their <unk> to an end <pad> <pad> <pad> <pad> <pad> <pad> <pad> <pad> <pad> <pad> <pad> <eos>\n",
      "***************************************************\n",
      "Decoded Friedrich Nietzsche: and so they can often bring their <unk> to an end <pad> <pad> <pad> <pad> <pad> <pad> <pad> <pad> <pad> <pad> <pad> <eos>\n",
      "***************************************************\n",
      "Decoded Ernest Hemingway: and so they can often bring their <unk> to an end <pad> <pad> <pad> <pad> <pad> <pad> <pad> <pad> <pad> <pad> <pad> <eos>\n",
      "***************************************************\n",
      "Decoded Oscar Wilde: and so they can often bring their <unk> to an end <pad> <pad> <pad> <pad> <pad> <pad> <pad> <pad> <pad> <pad> <pad> <eos>\n",
      "-------------------- Author Ernest Hemingway --------------------\n",
      "Real: i ' ll mail it for you <pad> <pad> <pad> <pad> <pad> <pad> <pad> <pad> <pad> <pad> <pad> <pad> <pad> <pad> <pad> <eos>\n",
      "***************************************************\n",
      "Decoded Friedrich Nietzsche: i ' ll flew it for you <pad> <pad> <pad> <pad> <pad> <pad> <pad> <pad> <pad> <pad> <pad> <pad> <pad> <pad> <pad> <eos>\n",
      "***************************************************\n",
      "Decoded Ernest Hemingway: i ' ll mail it for you <pad> <pad> <pad> <pad> <pad> <pad> <pad> <pad> <pad> <pad> <pad> <pad> <pad> <pad> <pad> <eos>\n",
      "***************************************************\n",
      "Decoded Oscar Wilde: i ' ll euston it for you <pad> <pad> <pad> <pad> <pad> <pad> <pad> <pad> <pad> <pad> <pad> <pad> <pad> <pad> <pad> <eos>\n",
      "-------------------- Author Oscar Wilde --------------------\n",
      "Real: he <unk> it curiously , wondering if ever before it had concealed the secret of a man ' s life <pad> <pad> <eos>\n",
      "***************************************************\n",
      "Decoded Friedrich Nietzsche: he <unk> it apparently , wondering if ever before it had concealed the secret of a man ' s life <pad> <pad> <eos>\n",
      "***************************************************\n",
      "Decoded Ernest Hemingway: he <unk> it probably , wondering if ever before it had concealed the secret of a man ' s life <pad> <pad> <eos>\n",
      "***************************************************\n",
      "Decoded Oscar Wilde: he <unk> it curiously , wondering if ever before it had concealed the secret of a man ' s life <pad> <pad> <eos>\n",
      "\n"
     ]
    },
    {
     "data": {
      "application/vnd.jupyter.widget-view+json": {
       "model_id": "46af1c72148e414890b98870984cdb4b",
       "version_major": 2,
       "version_minor": 0
      },
      "text/plain": [
       "HBox(children=(FloatProgress(value=0.0, max=798.0), HTML(value='')))"
      ]
     },
     "metadata": {},
     "output_type": "display_data"
    },
    {
     "name": "stdout",
     "output_type": "stream",
     "text": [
      "\n",
      "*************************** EPOCH 19 ***************************\n"
     ]
    },
    {
     "data": {
      "application/vnd.jupyter.widget-view+json": {
       "model_id": "59a97351bad14ecdacc78679f713adb0",
       "version_major": 2,
       "version_minor": 0
      },
      "text/plain": [
       "HBox(children=(FloatProgress(value=0.0, max=1861.0), HTML(value='')))"
      ]
     },
     "metadata": {},
     "output_type": "display_data"
    },
    {
     "name": "stdout",
     "output_type": "stream",
     "text": [
      "-------------------- Author Friedrich Nietzsche --------------------\n",
      "Real: and this is not <unk> , the soul says <pad> <pad> <pad> <pad> <pad> <pad> <pad> <pad> <pad> <pad> <pad> <pad> <pad> <eos>\n",
      "***************************************************\n",
      "Decoded Friedrich Nietzsche: and this is not <unk> , the soul says <pad> <pad> <pad> <pad> <pad> <pad> <pad> <pad> <pad> <pad> <pad> <pad> <pad> <eos>\n",
      "***************************************************\n",
      "Decoded Ernest Hemingway: and this is not <unk> , the soul says <pad> <pad> <pad> <pad> <pad> <pad> <pad> <pad> <pad> <pad> <pad> <pad> <pad> <eos>\n",
      "***************************************************\n",
      "Decoded Oscar Wilde: and this is not <unk> , the soul says <pad> <pad> <pad> <pad> <pad> <pad> <pad> <pad> <pad> <pad> <pad> <pad> <pad> <eos>\n",
      "-------------------- Author Ernest Hemingway --------------------\n",
      "Real: she <unk> forward against the table and put her hands on her <unk> and <unk> <pad> <pad> <pad> <pad> <pad> <pad> <pad> <eos>\n",
      "***************************************************\n",
      "Decoded Friedrich Nietzsche: she <unk> forward against the table and put her hands on her <unk> and <unk> <pad> <pad> <pad> <pad> <pad> <pad> <pad> <eos>\n",
      "***************************************************\n",
      "Decoded Ernest Hemingway: she <unk> forward against the table and put her hands on her <unk> and <unk> <pad> <pad> <pad> <pad> <pad> <pad> <pad> <eos>\n",
      "***************************************************\n",
      "Decoded Oscar Wilde: she <unk> forward against the table and put her hands on her <unk> and <unk> <pad> <pad> <pad> <pad> <pad> <pad> <pad> <eos>\n",
      "-------------------- Author Oscar Wilde --------------------\n",
      "Real: get ye down into this <unk> and bring me the head of this man <pad> <pad> <pad> <pad> <pad> <pad> <pad> <pad> <eos>\n",
      "***************************************************\n",
      "Decoded Friedrich Nietzsche: get ye down into this <unk> and bring me the head of this man <pad> <pad> <pad> <pad> <pad> <pad> <pad> <pad> <eos>\n",
      "***************************************************\n",
      "Decoded Ernest Hemingway: get do down into this <unk> and bring me the head of this man <pad> <pad> <pad> <pad> <pad> <pad> <pad> <pad> <eos>\n",
      "***************************************************\n",
      "Decoded Oscar Wilde: get ye down into this <unk> and bring me the head of this man <pad> <pad> <pad> <pad> <pad> <pad> <pad> <pad> <eos>\n",
      "\n"
     ]
    },
    {
     "data": {
      "application/vnd.jupyter.widget-view+json": {
       "model_id": "339d58de689746daba69543d119e50a7",
       "version_major": 2,
       "version_minor": 0
      },
      "text/plain": [
       "HBox(children=(FloatProgress(value=0.0, max=798.0), HTML(value='')))"
      ]
     },
     "metadata": {},
     "output_type": "display_data"
    },
    {
     "name": "stdout",
     "output_type": "stream",
     "text": [
      "\n",
      "*************************** EPOCH 20 ***************************\n"
     ]
    },
    {
     "data": {
      "application/vnd.jupyter.widget-view+json": {
       "model_id": "7c6010b6fcc549168610050c757a0dfd",
       "version_major": 2,
       "version_minor": 0
      },
      "text/plain": [
       "HBox(children=(FloatProgress(value=0.0, max=1861.0), HTML(value='')))"
      ]
     },
     "metadata": {},
     "output_type": "display_data"
    },
    {
     "name": "stdout",
     "output_type": "stream",
     "text": [
      "-------------------- Author Friedrich Nietzsche --------------------\n",
      "Real: the life of every day and of every hour seems to be anxious for nothing else but always to prove this proposition <eos>\n",
      "***************************************************\n",
      "Decoded Friedrich Nietzsche: the life of every day and of every hour seems to be anxious for nothing else but always to prove this proposition <eos>\n",
      "***************************************************\n",
      "Decoded Ernest Hemingway: the life of every day and of every hour seems to be anxious for nothing else but always to prove this property <eos>\n",
      "***************************************************\n",
      "Decoded Oscar Wilde: the life of every day and of every hour seems to be anxious for nothing else but always to prove this objection <eos>\n",
      "-------------------- Author Ernest Hemingway --------------------\n",
      "Real: what ' s his name , booth , <unk> , <unk> — you know who i mean <pad> <pad> <pad> <pad> <pad> <eos>\n",
      "***************************************************\n",
      "Decoded Friedrich Nietzsche: what ' s his name , torture , <unk> , <unk> — you know who i mean <pad> <pad> <pad> <pad> <pad> <eos>\n",
      "***************************************************\n",
      "Decoded Ernest Hemingway: what ' s his name , booth , <unk> , <unk> — you know who i mean <pad> <pad> <pad> <pad> <pad> <eos>\n",
      "***************************************************\n",
      "Decoded Oscar Wilde: what ' s his name , booth , <unk> , <unk> — you know who i mean <pad> <pad> <pad> <pad> <pad> <eos>\n",
      "-------------------- Author Oscar Wilde --------------------\n",
      "Real: if , in a word , we are to have <unk> <unk> , then the last state of man will be worse <eos>\n",
      "***************************************************\n",
      "Decoded Friedrich Nietzsche: if , in a word , we are to have <unk> <unk> , then the last state of man will be worse <eos>\n",
      "***************************************************\n",
      "Decoded Ernest Hemingway: if , in a word , we are to have <unk> <unk> , then the last state of man will be worse <eos>\n",
      "***************************************************\n",
      "Decoded Oscar Wilde: if , in a word , we are to have <unk> <unk> , then the last state of man will be worse <eos>\n",
      "\n"
     ]
    },
    {
     "data": {
      "application/vnd.jupyter.widget-view+json": {
       "model_id": "37fb549fa6e74547a5eb5fd1c0a8136c",
       "version_major": 2,
       "version_minor": 0
      },
      "text/plain": [
       "HBox(children=(FloatProgress(value=0.0, max=798.0), HTML(value='')))"
      ]
     },
     "metadata": {},
     "output_type": "display_data"
    },
    {
     "name": "stdout",
     "output_type": "stream",
     "text": [
      "\n",
      "*************************** EPOCH 21 ***************************\n"
     ]
    },
    {
     "data": {
      "application/vnd.jupyter.widget-view+json": {
       "model_id": "d0e4d7fd7d61442c882d43eaf9d10320",
       "version_major": 2,
       "version_minor": 0
      },
      "text/plain": [
       "HBox(children=(FloatProgress(value=0.0, max=1861.0), HTML(value='')))"
      ]
     },
     "metadata": {},
     "output_type": "display_data"
    },
    {
     "name": "stdout",
     "output_type": "stream",
     "text": [
      "-------------------- Author Friedrich Nietzsche --------------------\n",
      "Real: indeed people nowadays can hardly endure the thought of pain , and make out of it an affair of conscience and a <eos>\n",
      "***************************************************\n",
      "Decoded Friedrich Nietzsche: indeed people nowadays can hardly endure the thought of pain , and make out of it an affair of conscience and a <eos>\n",
      "***************************************************\n",
      "Decoded Ernest Hemingway: indeed people nowadays can hardly endure the thought of pain , and make out of it an affair of conscience and a <eos>\n",
      "***************************************************\n",
      "Decoded Oscar Wilde: indeed people nowadays can hardly endure the thought of pain , and make out of it an affair of conscience and a <eos>\n",
      "-------------------- Author Ernest Hemingway --------------------\n",
      "Real: the gran maestro brought the breakfast and the <unk> of it , although it did not spread through the room , due <eos>\n",
      "***************************************************\n",
      "Decoded Friedrich Nietzsche: the re sheik brought the breakfast and the <unk> of it , although it did not spread through the room , due <eos>\n",
      "***************************************************\n",
      "Decoded Ernest Hemingway: the gran maestro brought the breakfast and the <unk> of it , although it did not spread through the room , due <eos>\n",
      "***************************************************\n",
      "Decoded Oscar Wilde: the mohammed professor brought the breakfast and the <unk> of it , although it did not spread through the room , due <eos>\n",
      "-------------------- Author Oscar Wilde --------------------\n",
      "Real: the terror of society , which is the basis of morals , the terror of god , which is the secret of <eos>\n",
      "***************************************************\n",
      "Decoded Friedrich Nietzsche: the terror of society , which is the basis of morals , the terror of god , which is the secret of <eos>\n",
      "***************************************************\n",
      "Decoded Ernest Hemingway: the forbidden of society , which is the basis of ignorant , the forbidden of god , which is the secret of <eos>\n",
      "***************************************************\n",
      "Decoded Oscar Wilde: the terror of society , which is the basis of morals , the terror of god , which is the secret of <eos>\n",
      "\n"
     ]
    },
    {
     "data": {
      "application/vnd.jupyter.widget-view+json": {
       "model_id": "080dcbda632f49d4aeb7cb17fb6cd521",
       "version_major": 2,
       "version_minor": 0
      },
      "text/plain": [
       "HBox(children=(FloatProgress(value=0.0, max=798.0), HTML(value='')))"
      ]
     },
     "metadata": {},
     "output_type": "display_data"
    },
    {
     "name": "stdout",
     "output_type": "stream",
     "text": [
      "\n",
      "*************************** EPOCH 22 ***************************\n"
     ]
    },
    {
     "data": {
      "application/vnd.jupyter.widget-view+json": {
       "model_id": "ce6fc107ec724b6cb263f3a001ccca5d",
       "version_major": 2,
       "version_minor": 0
      },
      "text/plain": [
       "HBox(children=(FloatProgress(value=0.0, max=1861.0), HTML(value='')))"
      ]
     },
     "metadata": {},
     "output_type": "display_data"
    },
    {
     "name": "stdout",
     "output_type": "stream",
     "text": [
      "-------------------- Author Friedrich Nietzsche --------------------\n",
      "Real: but as soon as this everyday reality rises again in consciousness , it is felt as such , and <unk> us <pad> <eos>\n",
      "***************************************************\n",
      "Decoded Friedrich Nietzsche: but as soon as this everyday reality rises again in consciousness , it is felt as such , and <unk> us <pad> <eos>\n",
      "***************************************************\n",
      "Decoded Ernest Hemingway: but as soon as this amazing reality rises again in consciousness , it is felt as such , and <unk> us <pad> <eos>\n",
      "***************************************************\n",
      "Decoded Oscar Wilde: but as soon as this everyday reality rises again in consciousness , it is felt as such , and <unk> us <pad> <eos>\n",
      "-------------------- Author Ernest Hemingway --------------------\n",
      "Real: by the way , i got the bus tickets <pad> <pad> <pad> <pad> <pad> <pad> <pad> <pad> <pad> <pad> <pad> <pad> <pad> <eos>\n",
      "***************************************************\n",
      "Decoded Friedrich Nietzsche: by the way , i got the pass re <pad> <pad> <pad> <pad> <pad> <pad> <pad> <pad> <pad> <pad> <pad> <pad> <pad> <eos>\n",
      "***************************************************\n",
      "Decoded Ernest Hemingway: by the way , i got the bus tickets <pad> <pad> <pad> <pad> <pad> <pad> <pad> <pad> <pad> <pad> <pad> <pad> <pad> <eos>\n",
      "***************************************************\n",
      "Decoded Oscar Wilde: by the way , i got the gates tickets <pad> <pad> <pad> <pad> <pad> <pad> <pad> <pad> <pad> <pad> <pad> <pad> <pad> <eos>\n",
      "-------------------- Author Oscar Wilde --------------------\n",
      "Real: some <unk> were written in philadelphia in <unk> <pad> <pad> <pad> <pad> <pad> <pad> <pad> <pad> <pad> <pad> <pad> <pad> <pad> <pad> <eos>\n",
      "***************************************************\n",
      "Decoded Friedrich Nietzsche: some <unk> were written in training in <unk> <pad> <pad> <pad> <pad> <pad> <pad> <pad> <pad> <pad> <pad> <pad> <pad> <pad> <pad> <eos>\n",
      "***************************************************\n",
      "Decoded Ernest Hemingway: some <unk> were written in philadelphia in <unk> <pad> <pad> <pad> <pad> <pad> <pad> <pad> <pad> <pad> <pad> <pad> <pad> <pad> <pad> <eos>\n",
      "***************************************************\n",
      "Decoded Oscar Wilde: some <unk> were written in philadelphia in <unk> <pad> <pad> <pad> <pad> <pad> <pad> <pad> <pad> <pad> <pad> <pad> <pad> <pad> <pad> <eos>\n",
      "\n"
     ]
    },
    {
     "data": {
      "application/vnd.jupyter.widget-view+json": {
       "model_id": "b447fa7f7dde40cd82d85da757bdcbe8",
       "version_major": 2,
       "version_minor": 0
      },
      "text/plain": [
       "HBox(children=(FloatProgress(value=0.0, max=798.0), HTML(value='')))"
      ]
     },
     "metadata": {},
     "output_type": "display_data"
    },
    {
     "name": "stdout",
     "output_type": "stream",
     "text": [
      "\n",
      "*************************** EPOCH 23 ***************************\n"
     ]
    },
    {
     "data": {
      "application/vnd.jupyter.widget-view+json": {
       "model_id": "7082897342e4496f8ef7b3ca871c6ec7",
       "version_major": 2,
       "version_minor": 0
      },
      "text/plain": [
       "HBox(children=(FloatProgress(value=0.0, max=1861.0), HTML(value='')))"
      ]
     },
     "metadata": {},
     "output_type": "display_data"
    },
    {
     "name": "stdout",
     "output_type": "stream",
     "text": [
      "-------------------- Author Friedrich Nietzsche --------------------\n",
      "Real: we must learn anew in order that at last , perhaps very late in the day , we may be able to <eos>\n",
      "***************************************************\n",
      "Decoded Friedrich Nietzsche: we must learn anew in order that at last , perhaps very late in the day , we may be able to <eos>\n",
      "***************************************************\n",
      "Decoded Ernest Hemingway: we must learn theirs in order that at last , perhaps very late in the day , we may be able to <eos>\n",
      "***************************************************\n",
      "Decoded Oscar Wilde: we must learn wherever in order that at last , perhaps very late in the day , we may be able to <eos>\n",
      "-------------------- Author Ernest Hemingway --------------------\n",
      "Real: he didn ' t want to drink with me , after he knew about his wife , said the <unk> <pad> <pad> <eos>\n",
      "***************************************************\n",
      "Decoded Friedrich Nietzsche: he didn ' t want to drink with me , after he knew about his wife , said the <unk> <pad> <pad> <eos>\n",
      "***************************************************\n",
      "Decoded Ernest Hemingway: he didn ' t want to drink with me , after he knew about his wife , said the <unk> <pad> <pad> <eos>\n",
      "***************************************************\n",
      "Decoded Oscar Wilde: he didn ' t want to drink with me , after he knew about his wife , said the <unk> <pad> <pad> <eos>\n",
      "-------------------- Author Oscar Wilde --------------------\n",
      "Real: <unk> enter <unk> <unk> <unk> doctor <unk> ' s carriage ! the <unk> <unk> rising <pad> <pad> <pad> <pad> <pad> <pad> <pad> <eos>\n",
      "***************************************************\n",
      "Decoded Friedrich Nietzsche: <unk> enter <unk> <unk> <unk> doctor <unk> ' s carriage ! the <unk> <unk> rising <pad> <pad> <pad> <pad> <pad> <pad> <pad> <eos>\n",
      "***************************************************\n",
      "Decoded Ernest Hemingway: <unk> enter <unk> <unk> <unk> doctor <unk> ' s carts ! the <unk> <unk> rising <pad> <pad> <pad> <pad> <pad> <pad> <pad> <eos>\n",
      "***************************************************\n",
      "Decoded Oscar Wilde: <unk> enter <unk> <unk> <unk> doctor <unk> ' s carriage ! the <unk> <unk> rising <pad> <pad> <pad> <pad> <pad> <pad> <pad> <eos>\n",
      "\n"
     ]
    },
    {
     "data": {
      "application/vnd.jupyter.widget-view+json": {
       "model_id": "960d3b52c792470fada20915815afa21",
       "version_major": 2,
       "version_minor": 0
      },
      "text/plain": [
       "HBox(children=(FloatProgress(value=0.0, max=798.0), HTML(value='')))"
      ]
     },
     "metadata": {},
     "output_type": "display_data"
    },
    {
     "name": "stdout",
     "output_type": "stream",
     "text": [
      "\n",
      "*************************** EPOCH 24 ***************************\n"
     ]
    },
    {
     "data": {
      "application/vnd.jupyter.widget-view+json": {
       "model_id": "297b8c8609ef49adbcb98250864d787e",
       "version_major": 2,
       "version_minor": 0
      },
      "text/plain": [
       "HBox(children=(FloatProgress(value=0.0, max=1861.0), HTML(value='')))"
      ]
     },
     "metadata": {},
     "output_type": "display_data"
    },
    {
     "name": "stdout",
     "output_type": "stream",
     "text": [
      "-------------------- Author Friedrich Nietzsche --------------------\n",
      "Real: he has acquired a second , more dangerous , innocence in <unk> <pad> <pad> <pad> <pad> <pad> <pad> <pad> <pad> <pad> <pad> <eos>\n",
      "***************************************************\n",
      "Decoded Friedrich Nietzsche: he has acquired a second , more dangerous , innocence in <unk> <pad> <pad> <pad> <pad> <pad> <pad> <pad> <pad> <pad> <pad> <eos>\n",
      "***************************************************\n",
      "Decoded Ernest Hemingway: he has acquired a second , more dangerous , rotten in <unk> <pad> <pad> <pad> <pad> <pad> <pad> <pad> <pad> <pad> <pad> <eos>\n",
      "***************************************************\n",
      "Decoded Oscar Wilde: he has acquired a second , more dangerous , innocence in <unk> <pad> <pad> <pad> <pad> <pad> <pad> <pad> <pad> <pad> <pad> <eos>\n",
      "-------------------- Author Ernest Hemingway --------------------\n",
      "Real: i have not the talent for it and i know too much <pad> <pad> <pad> <pad> <pad> <pad> <pad> <pad> <pad> <pad> <eos>\n",
      "***************************************************\n",
      "Decoded Friedrich Nietzsche: i have not the talent for it and i know too much <pad> <pad> <pad> <pad> <pad> <pad> <pad> <pad> <pad> <pad> <eos>\n",
      "***************************************************\n",
      "Decoded Ernest Hemingway: i have not the talent for it and i know too much <pad> <pad> <pad> <pad> <pad> <pad> <pad> <pad> <pad> <pad> <eos>\n",
      "***************************************************\n",
      "Decoded Oscar Wilde: i have not the talent for it and i know too much <pad> <pad> <pad> <pad> <pad> <pad> <pad> <pad> <pad> <pad> <eos>\n",
      "-------------------- Author Oscar Wilde --------------------\n",
      "Real: the <unk> <unk> of the bees <unk> their way through the long <unk> grass , or <unk> with <unk> <unk> round the <eos>\n",
      "***************************************************\n",
      "Decoded Friedrich Nietzsche: the <unk> <unk> of the bees <unk> their way through the long <unk> grass , or <unk> with <unk> <unk> round the <eos>\n",
      "***************************************************\n",
      "Decoded Ernest Hemingway: the <unk> <unk> of the crickets <unk> their way through the long <unk> grass , or <unk> with <unk> <unk> round the <eos>\n",
      "***************************************************\n",
      "Decoded Oscar Wilde: the <unk> <unk> of the bees <unk> their way through the long <unk> grass , or <unk> with <unk> <unk> round the <eos>\n",
      "\n"
     ]
    },
    {
     "data": {
      "application/vnd.jupyter.widget-view+json": {
       "model_id": "6d6a85da530e473593012a5b7ecbcbe4",
       "version_major": 2,
       "version_minor": 0
      },
      "text/plain": [
       "HBox(children=(FloatProgress(value=0.0, max=798.0), HTML(value='')))"
      ]
     },
     "metadata": {},
     "output_type": "display_data"
    },
    {
     "name": "stdout",
     "output_type": "stream",
     "text": [
      "\n",
      "*************************** EPOCH 25 ***************************\n"
     ]
    },
    {
     "data": {
      "application/vnd.jupyter.widget-view+json": {
       "model_id": "a46c84f32bd34f35bf595e00626835e9",
       "version_major": 2,
       "version_minor": 0
      },
      "text/plain": [
       "HBox(children=(FloatProgress(value=0.0, max=1861.0), HTML(value='')))"
      ]
     },
     "metadata": {},
     "output_type": "display_data"
    },
    {
     "name": "stdout",
     "output_type": "stream",
     "text": [
      "-------------------- Author Friedrich Nietzsche --------------------\n",
      "Real: morality dresses up the european — let us acknowledge it ! — in more distinguished , more important , more conspicuous guise <eos>\n",
      "***************************************************\n",
      "Decoded Friedrich Nietzsche: morality dresses up the european — let us acknowledge it ! — in more distinguished , more important , more conspicuous guise <eos>\n",
      "***************************************************\n",
      "Decoded Ernest Hemingway: nor dresses up the european — let us said it ! — in more distinguished , more important , more conspicuous gift <eos>\n",
      "***************************************************\n",
      "Decoded Oscar Wilde: morality dresses up the group — let us acknowledge it ! — in more distinguished , more important , more unnatural fated <eos>\n",
      "-------------------- Author Ernest Hemingway --------------------\n",
      "Real: the other letter was a wedding announcement <pad> <pad> <pad> <pad> <pad> <pad> <pad> <pad> <pad> <pad> <pad> <pad> <pad> <pad> <pad> <eos>\n",
      "***************************************************\n",
      "Decoded Friedrich Nietzsche: the other letter was a birthday announcement <pad> <pad> <pad> <pad> <pad> <pad> <pad> <pad> <pad> <pad> <pad> <pad> <pad> <pad> <pad> <eos>\n",
      "***************************************************\n",
      "Decoded Ernest Hemingway: the other letter was a wedding announcement <pad> <pad> <pad> <pad> <pad> <pad> <pad> <pad> <pad> <pad> <pad> <pad> <pad> <pad> <pad> <eos>\n",
      "***************************************************\n",
      "Decoded Oscar Wilde: the other letter was a wedding announced <pad> <pad> <pad> <pad> <pad> <pad> <pad> <pad> <pad> <pad> <pad> <pad> <pad> <pad> <pad> <eos>\n",
      "-------------------- Author Oscar Wilde --------------------\n",
      "Real: he loved his country — no man more so <pad> <pad> <pad> <pad> <pad> <pad> <pad> <pad> <pad> <pad> <pad> <pad> <pad> <eos>\n",
      "***************************************************\n",
      "Decoded Friedrich Nietzsche: he loved his country — no man more so <pad> <pad> <pad> <pad> <pad> <pad> <pad> <pad> <pad> <pad> <pad> <pad> <pad> <eos>\n",
      "***************************************************\n",
      "Decoded Ernest Hemingway: he loved his country — no man more so <pad> <pad> <pad> <pad> <pad> <pad> <pad> <pad> <pad> <pad> <pad> <pad> <pad> <eos>\n",
      "***************************************************\n",
      "Decoded Oscar Wilde: he loved his country — no man more so <pad> <pad> <pad> <pad> <pad> <pad> <pad> <pad> <pad> <pad> <pad> <pad> <pad> <eos>\n",
      "\n"
     ]
    },
    {
     "data": {
      "application/vnd.jupyter.widget-view+json": {
       "model_id": "352b2726e8dd4faa81123fc821c01462",
       "version_major": 2,
       "version_minor": 0
      },
      "text/plain": [
       "HBox(children=(FloatProgress(value=0.0, max=798.0), HTML(value='')))"
      ]
     },
     "metadata": {},
     "output_type": "display_data"
    },
    {
     "name": "stdout",
     "output_type": "stream",
     "text": [
      "\n",
      "*************************** EPOCH 26 ***************************\n"
     ]
    },
    {
     "data": {
      "application/vnd.jupyter.widget-view+json": {
       "model_id": "8d0b65b0fe20470cbe4ed44a8f872df1",
       "version_major": 2,
       "version_minor": 0
      },
      "text/plain": [
       "HBox(children=(FloatProgress(value=0.0, max=1861.0), HTML(value='')))"
      ]
     },
     "metadata": {},
     "output_type": "display_data"
    },
    {
     "name": "stdout",
     "output_type": "stream",
     "text": [
      "-------------------- Author Friedrich Nietzsche --------------------\n",
      "Real: for the will to power was considered immoral <pad> <pad> <pad> <pad> <pad> <pad> <pad> <pad> <pad> <pad> <pad> <pad> <pad> <pad> <eos>\n",
      "***************************************************\n",
      "Decoded Friedrich Nietzsche: for the will to power was considered immoral <pad> <pad> <pad> <pad> <pad> <pad> <pad> <pad> <pad> <pad> <pad> <pad> <pad> <pad> <eos>\n",
      "***************************************************\n",
      "Decoded Ernest Hemingway: for the will to power was considered unjust <pad> <pad> <pad> <pad> <pad> <pad> <pad> <pad> <pad> <pad> <pad> <pad> <pad> <pad> <eos>\n",
      "***************************************************\n",
      "Decoded Oscar Wilde: for the will to power was considered immoral <pad> <pad> <pad> <pad> <pad> <pad> <pad> <pad> <pad> <pad> <pad> <pad> <pad> <pad> <eos>\n",
      "-------------------- Author Ernest Hemingway --------------------\n",
      "Real: good evening , my colonel <pad> <pad> <pad> <pad> <pad> <pad> <pad> <pad> <pad> <pad> <pad> <pad> <pad> <pad> <pad> <pad> <pad> <eos>\n",
      "***************************************************\n",
      "Decoded Friedrich Nietzsche: good evening , my father <pad> <pad> <pad> <pad> <pad> <pad> <pad> <pad> <pad> <pad> <pad> <pad> <pad> <pad> <pad> <pad> <pad> <eos>\n",
      "***************************************************\n",
      "Decoded Ernest Hemingway: good evening , my colonel <pad> <pad> <pad> <pad> <pad> <pad> <pad> <pad> <pad> <pad> <pad> <pad> <pad> <pad> <pad> <pad> <pad> <eos>\n",
      "***************************************************\n",
      "Decoded Oscar Wilde: good evening , my colonel <pad> <pad> <pad> <pad> <pad> <pad> <pad> <pad> <pad> <pad> <pad> <pad> <pad> <pad> <pad> <pad> <pad> <eos>\n",
      "-------------------- Author Oscar Wilde --------------------\n",
      "Real: only <unk> people go to the park <pad> <pad> <pad> <pad> <pad> <pad> <pad> <pad> <pad> <pad> <pad> <pad> <pad> <pad> <pad> <eos>\n",
      "***************************************************\n",
      "Decoded Friedrich Nietzsche: only <unk> people go to the amusement <pad> <pad> <pad> <pad> <pad> <pad> <pad> <pad> <pad> <pad> <pad> <pad> <pad> <pad> <pad> <eos>\n",
      "***************************************************\n",
      "Decoded Ernest Hemingway: only <unk> people go to the park <pad> <pad> <pad> <pad> <pad> <pad> <pad> <pad> <pad> <pad> <pad> <pad> <pad> <pad> <pad> <eos>\n",
      "***************************************************\n",
      "Decoded Oscar Wilde: only <unk> people go to the park <pad> <pad> <pad> <pad> <pad> <pad> <pad> <pad> <pad> <pad> <pad> <pad> <pad> <pad> <pad> <eos>\n",
      "\n"
     ]
    },
    {
     "data": {
      "application/vnd.jupyter.widget-view+json": {
       "model_id": "ac6d4c8a2bdd4396ac8fcb7905f4b312",
       "version_major": 2,
       "version_minor": 0
      },
      "text/plain": [
       "HBox(children=(FloatProgress(value=0.0, max=798.0), HTML(value='')))"
      ]
     },
     "metadata": {},
     "output_type": "display_data"
    },
    {
     "name": "stdout",
     "output_type": "stream",
     "text": [
      "\n",
      "*************************** EPOCH 27 ***************************\n"
     ]
    },
    {
     "data": {
      "application/vnd.jupyter.widget-view+json": {
       "model_id": "06520249bdca47df9d3b8d7c76cca55d",
       "version_major": 2,
       "version_minor": 0
      },
      "text/plain": [
       "HBox(children=(FloatProgress(value=0.0, max=1861.0), HTML(value='')))"
      ]
     },
     "metadata": {},
     "output_type": "display_data"
    },
    {
     "name": "stdout",
     "output_type": "stream",
     "text": [
      "-------------------- Author Friedrich Nietzsche --------------------\n",
      "Real: knowledge kills action , action requires the veil of illusion it is this lesson which hamlet teaches , and not the cheap <eos>\n",
      "***************************************************\n",
      "Decoded Friedrich Nietzsche: knowledge kills action , action requires the veil of illusion it is this lesson which hamlet teaches , and not the cheap <eos>\n",
      "***************************************************\n",
      "Decoded Ernest Hemingway: knowledge kills action , action gives the rubble of illusion it is this lesson which town dialogue , and not the cheap <eos>\n",
      "***************************************************\n",
      "Decoded Oscar Wilde: knowledge kills action , action requires the veil of illusion it is this lesson which hamlet teaches , and not the cheap <eos>\n",
      "-------------------- Author Ernest Hemingway --------------------\n",
      "Real: the wind was very cold and <unk> their faces but under the blanket there was no wind nor nothing <pad> <pad> <pad> <eos>\n",
      "***************************************************\n",
      "Decoded Friedrich Nietzsche: the wind was very cold and <unk> their faces but under the pretext there was no wind nor nothing <pad> <pad> <pad> <eos>\n",
      "***************************************************\n",
      "Decoded Ernest Hemingway: the wind was very cold and <unk> their faces but under the blanket there was no wind nor nothing <pad> <pad> <pad> <eos>\n",
      "***************************************************\n",
      "Decoded Oscar Wilde: the wind was very cold and <unk> their faces but under the material there was no wind nor nothing <pad> <pad> <pad> <eos>\n",
      "-------------------- Author Oscar Wilde --------------------\n",
      "Real: indeed , so <unk> , and so much out of repair did he look , that little virginia , whose first idea <eos>\n",
      "***************************************************\n",
      "Decoded Friedrich Nietzsche: indeed , so <unk> , and so much out of provide did he look , that little preservation , whose first idea <eos>\n",
      "***************************************************\n",
      "Decoded Ernest Hemingway: indeed , so <unk> , and so much out of handle did he look , that little virginia , whose first idea <eos>\n",
      "***************************************************\n",
      "Decoded Oscar Wilde: indeed , so <unk> , and so much out of repair did he look , that little virginia , whose first idea <eos>\n",
      "\n"
     ]
    },
    {
     "data": {
      "application/vnd.jupyter.widget-view+json": {
       "model_id": "471ddfdc6e514982a2754f3b01267165",
       "version_major": 2,
       "version_minor": 0
      },
      "text/plain": [
       "HBox(children=(FloatProgress(value=0.0, max=798.0), HTML(value='')))"
      ]
     },
     "metadata": {},
     "output_type": "display_data"
    },
    {
     "name": "stdout",
     "output_type": "stream",
     "text": [
      "\n",
      "*************************** EPOCH 28 ***************************\n"
     ]
    },
    {
     "data": {
      "application/vnd.jupyter.widget-view+json": {
       "model_id": "54bb59f7faab4e4fb48acaa4ed61c881",
       "version_major": 2,
       "version_minor": 0
      },
      "text/plain": [
       "HBox(children=(FloatProgress(value=0.0, max=1861.0), HTML(value='')))"
      ]
     },
     "metadata": {},
     "output_type": "display_data"
    },
    {
     "name": "stdout",
     "output_type": "stream",
     "text": [
      "-------------------- Author Friedrich Nietzsche --------------------\n",
      "Real: and the answer is that a thin phantom has met him under the name of philosophy , the cautious wisdom of the <eos>\n",
      "***************************************************\n",
      "Decoded Friedrich Nietzsche: and the answer is that a thin phantom has met him under the name of philosophy , the cautious wisdom of the <eos>\n",
      "***************************************************\n",
      "Decoded Ernest Hemingway: and the answer is that a thin phantom has met him under the name of thinker , the caution wisdom of the <eos>\n",
      "***************************************************\n",
      "Decoded Oscar Wilde: and the answer is that a thin haunted has met him under the name of philosophy , the tory wisdom of the <eos>\n",
      "-------------------- Author Ernest Hemingway --------------------\n",
      "Real: i ' m not your honey dog <pad> <pad> <pad> <pad> <pad> <pad> <pad> <pad> <pad> <pad> <pad> <pad> <pad> <pad> <pad> <eos>\n",
      "***************************************************\n",
      "Decoded Friedrich Nietzsche: i ' m not your honey dog <pad> <pad> <pad> <pad> <pad> <pad> <pad> <pad> <pad> <pad> <pad> <pad> <pad> <pad> <pad> <eos>\n",
      "***************************************************\n",
      "Decoded Ernest Hemingway: i ' m not your honey dog <pad> <pad> <pad> <pad> <pad> <pad> <pad> <pad> <pad> <pad> <pad> <pad> <pad> <pad> <pad> <eos>\n",
      "***************************************************\n",
      "Decoded Oscar Wilde: i ' m not your honey dog <pad> <pad> <pad> <pad> <pad> <pad> <pad> <pad> <pad> <pad> <pad> <pad> <pad> <pad> <pad> <eos>\n",
      "-------------------- Author Oscar Wilde --------------------\n",
      "Real: and an old and evil <unk> man who was passing by called out , and said , i will buy him for <eos>\n",
      "***************************************************\n",
      "Decoded Friedrich Nietzsche: and an old and evil <unk> man who was passing by called out , and said , i will buy him for <eos>\n",
      "***************************************************\n",
      "Decoded Ernest Hemingway: and an old and evil <unk> man who was passing by called out , and said , i will buy him for <eos>\n",
      "***************************************************\n",
      "Decoded Oscar Wilde: and an old and evil <unk> man who was passing by called out , and said , i will buy him for <eos>\n",
      "\n"
     ]
    },
    {
     "data": {
      "application/vnd.jupyter.widget-view+json": {
       "model_id": "aebc3346fbf34106a14d8c1332b7d1a1",
       "version_major": 2,
       "version_minor": 0
      },
      "text/plain": [
       "HBox(children=(FloatProgress(value=0.0, max=798.0), HTML(value='')))"
      ]
     },
     "metadata": {},
     "output_type": "display_data"
    },
    {
     "name": "stdout",
     "output_type": "stream",
     "text": [
      "\n",
      "*************************** EPOCH 29 ***************************\n"
     ]
    },
    {
     "data": {
      "application/vnd.jupyter.widget-view+json": {
       "model_id": "d13d377415124aeba72edbe2a74ec480",
       "version_major": 2,
       "version_minor": 0
      },
      "text/plain": [
       "HBox(children=(FloatProgress(value=0.0, max=1861.0), HTML(value='')))"
      ]
     },
     "metadata": {},
     "output_type": "display_data"
    },
    {
     "name": "stdout",
     "output_type": "stream",
     "text": [
      "-------------------- Author Friedrich Nietzsche --------------------\n",
      "Real: no word in thee is any longer genuine , but thy mouth is so <unk> that is to say , the disgust <eos>\n",
      "***************************************************\n",
      "Decoded Friedrich Nietzsche: no word in thee is any longer genuine , but thy mouth is so <unk> that is to say , the disgust <eos>\n",
      "***************************************************\n",
      "Decoded Ernest Hemingway: no word in thee is any longer interest , but thy mouth is so <unk> that is to say , the disgust <eos>\n",
      "***************************************************\n",
      "Decoded Oscar Wilde: no word in thee is any longer genuine , but thy mouth is so <unk> that is to say , the disgust <eos>\n",
      "-------------------- Author Ernest Hemingway --------------------\n",
      "Real: after dinner we sat by the fire a little while and then went to bed <pad> <pad> <pad> <pad> <pad> <pad> <pad> <eos>\n",
      "***************************************************\n",
      "Decoded Friedrich Nietzsche: after dining we sat by the fire a little while and then went to bed <pad> <pad> <pad> <pad> <pad> <pad> <pad> <eos>\n",
      "***************************************************\n",
      "Decoded Ernest Hemingway: after dinner we sat by the fire a little while and then went to bed <pad> <pad> <pad> <pad> <pad> <pad> <pad> <eos>\n",
      "***************************************************\n",
      "Decoded Oscar Wilde: after dinner we sat by the fire a little while and then went to bed <pad> <pad> <pad> <pad> <pad> <pad> <pad> <eos>\n",
      "-------------------- Author Oscar Wilde --------------------\n",
      "Real: each of us has heaven and hell in him , basil , cried dorian , with a wild gesture of despair <pad> <eos>\n",
      "***************************************************\n",
      "Decoded Friedrich Nietzsche: each of us has heaven and hell in him , goethe , cried consequently , with a wild gesture of despair <pad> <eos>\n",
      "***************************************************\n",
      "Decoded Ernest Hemingway: each of us has heaven and hell in him , christ , cried walcott , with a wild gesture of despair <pad> <eos>\n",
      "***************************************************\n",
      "Decoded Oscar Wilde: each of us has heaven and hell in him , basil , cried dorian , with a wild gesture of despair <pad> <eos>\n",
      "\n"
     ]
    },
    {
     "data": {
      "application/vnd.jupyter.widget-view+json": {
       "model_id": "9219f91bfd67469499fd0c88bc331eb7",
       "version_major": 2,
       "version_minor": 0
      },
      "text/plain": [
       "HBox(children=(FloatProgress(value=0.0, max=798.0), HTML(value='')))"
      ]
     },
     "metadata": {},
     "output_type": "display_data"
    },
    {
     "name": "stdout",
     "output_type": "stream",
     "text": [
      "\n",
      "*************************** EPOCH 30 ***************************\n"
     ]
    },
    {
     "data": {
      "application/vnd.jupyter.widget-view+json": {
       "model_id": "ed27aae7d7e74b33b6e52e834eba0ca4",
       "version_major": 2,
       "version_minor": 0
      },
      "text/plain": [
       "HBox(children=(FloatProgress(value=0.0, max=1861.0), HTML(value='')))"
      ]
     },
     "metadata": {},
     "output_type": "display_data"
    },
    {
     "name": "stdout",
     "output_type": "stream",
     "text": [
      "-------------------- Author Friedrich Nietzsche --------------------\n",
      "Real: — i would also give no credit to a history of plato ' s life written by himself , as little as <eos>\n",
      "***************************************************\n",
      "Decoded Friedrich Nietzsche: — i would also give no credit to a history of plato ' s life written by himself , as little as <eos>\n",
      "***************************************************\n",
      "Decoded Ernest Hemingway: — i would also give no credit to a history of god ' s life written by himself , as little as <eos>\n",
      "***************************************************\n",
      "Decoded Oscar Wilde: — i would also give no credit to a history of plato ' s life written by himself , as little as <eos>\n",
      "-------------------- Author Ernest Hemingway --------------------\n",
      "Real: then the weight increased and he gave more line <pad> <pad> <pad> <pad> <pad> <pad> <pad> <pad> <pad> <pad> <pad> <pad> <pad> <eos>\n",
      "***************************************************\n",
      "Decoded Friedrich Nietzsche: then the weight increased and he gave more line <pad> <pad> <pad> <pad> <pad> <pad> <pad> <pad> <pad> <pad> <pad> <pad> <pad> <eos>\n",
      "***************************************************\n",
      "Decoded Ernest Hemingway: then the weight increased and he gave more line <pad> <pad> <pad> <pad> <pad> <pad> <pad> <pad> <pad> <pad> <pad> <pad> <pad> <eos>\n",
      "***************************************************\n",
      "Decoded Oscar Wilde: then the weight increased and he gave more line <pad> <pad> <pad> <pad> <pad> <pad> <pad> <pad> <pad> <pad> <pad> <pad> <pad> <eos>\n",
      "-------------------- Author Oscar Wilde --------------------\n",
      "Real: the artist has always been , and will always be , an exquisite exception <pad> <pad> <pad> <pad> <pad> <pad> <pad> <pad> <eos>\n",
      "***************************************************\n",
      "Decoded Friedrich Nietzsche: the artist has always been , and will always be , an exquisite exception <pad> <pad> <pad> <pad> <pad> <pad> <pad> <pad> <eos>\n",
      "***************************************************\n",
      "Decoded Ernest Hemingway: the wife has always been , and will always be , an splendid exception <pad> <pad> <pad> <pad> <pad> <pad> <pad> <pad> <eos>\n",
      "***************************************************\n",
      "Decoded Oscar Wilde: the artist has always been , and will always be , an exquisite exception <pad> <pad> <pad> <pad> <pad> <pad> <pad> <pad> <eos>\n",
      "\n"
     ]
    },
    {
     "data": {
      "application/vnd.jupyter.widget-view+json": {
       "model_id": "e6e50519407d421b8be337cc5f01e848",
       "version_major": 2,
       "version_minor": 0
      },
      "text/plain": [
       "HBox(children=(FloatProgress(value=0.0, max=798.0), HTML(value='')))"
      ]
     },
     "metadata": {},
     "output_type": "display_data"
    },
    {
     "name": "stdout",
     "output_type": "stream",
     "text": [
      "\n",
      "*************************** EPOCH 31 ***************************\n"
     ]
    },
    {
     "data": {
      "application/vnd.jupyter.widget-view+json": {
       "model_id": "eb62fa0c7e0a4db4a070e8a4844eaaf9",
       "version_major": 2,
       "version_minor": 0
      },
      "text/plain": [
       "HBox(children=(FloatProgress(value=0.0, max=1861.0), HTML(value='')))"
      ]
     },
     "metadata": {},
     "output_type": "display_data"
    },
    {
     "name": "stdout",
     "output_type": "stream",
     "text": [
      "-------------------- Author Friedrich Nietzsche --------------------\n",
      "Real: nothing seemed impossible to its powers <pad> <pad> <pad> <pad> <pad> <pad> <pad> <pad> <pad> <pad> <pad> <pad> <pad> <pad> <pad> <pad> <eos>\n",
      "***************************************************\n",
      "Decoded Friedrich Nietzsche: nothing seemed impossible to its powers <pad> <pad> <pad> <pad> <pad> <pad> <pad> <pad> <pad> <pad> <pad> <pad> <pad> <pad> <pad> <pad> <eos>\n",
      "***************************************************\n",
      "Decoded Ernest Hemingway: nothing seemed impossible to its ability <pad> <pad> <pad> <pad> <pad> <pad> <pad> <pad> <pad> <pad> <pad> <pad> <pad> <pad> <pad> <pad> <eos>\n",
      "***************************************************\n",
      "Decoded Oscar Wilde: nothing seemed impossible to its powers <pad> <pad> <pad> <pad> <pad> <pad> <pad> <pad> <pad> <pad> <pad> <pad> <pad> <pad> <pad> <pad> <eos>\n",
      "-------------------- Author Ernest Hemingway --------------------\n",
      "Real: then i will have them <unk> for you <pad> <pad> <pad> <pad> <pad> <pad> <pad> <pad> <pad> <pad> <pad> <pad> <pad> <pad> <eos>\n",
      "***************************************************\n",
      "Decoded Friedrich Nietzsche: then i will have them <unk> for you <pad> <pad> <pad> <pad> <pad> <pad> <pad> <pad> <pad> <pad> <pad> <pad> <pad> <pad> <eos>\n",
      "***************************************************\n",
      "Decoded Ernest Hemingway: then i will have them <unk> for you <pad> <pad> <pad> <pad> <pad> <pad> <pad> <pad> <pad> <pad> <pad> <pad> <pad> <pad> <eos>\n",
      "***************************************************\n",
      "Decoded Oscar Wilde: then i will have them <unk> for you <pad> <pad> <pad> <pad> <pad> <pad> <pad> <pad> <pad> <pad> <pad> <pad> <pad> <pad> <eos>\n",
      "-------------------- Author Oscar Wilde --------------------\n",
      "Real: for <unk> had i left thee , and to my own hurt had i wandered away <pad> <pad> <pad> <pad> <pad> <pad> <eos>\n",
      "***************************************************\n",
      "Decoded Friedrich Nietzsche: for <unk> had i left thee , and to my own hurt had i wandered away <pad> <pad> <pad> <pad> <pad> <pad> <eos>\n",
      "***************************************************\n",
      "Decoded Ernest Hemingway: for <unk> had i left thee , and to my own hurt had i travelling away <pad> <pad> <pad> <pad> <pad> <pad> <eos>\n",
      "***************************************************\n",
      "Decoded Oscar Wilde: for <unk> had i left thee , and to my own hurt had i wandered away <pad> <pad> <pad> <pad> <pad> <pad> <eos>\n",
      "\n"
     ]
    },
    {
     "data": {
      "application/vnd.jupyter.widget-view+json": {
       "model_id": "ad6aa236a5fb41a0997677a159077646",
       "version_major": 2,
       "version_minor": 0
      },
      "text/plain": [
       "HBox(children=(FloatProgress(value=0.0, max=798.0), HTML(value='')))"
      ]
     },
     "metadata": {},
     "output_type": "display_data"
    },
    {
     "name": "stdout",
     "output_type": "stream",
     "text": [
      "\n",
      "*************************** EPOCH 32 ***************************\n"
     ]
    },
    {
     "data": {
      "application/vnd.jupyter.widget-view+json": {
       "model_id": "60143db538044298983753aa28549149",
       "version_major": 2,
       "version_minor": 0
      },
      "text/plain": [
       "HBox(children=(FloatProgress(value=0.0, max=1861.0), HTML(value='')))"
      ]
     },
     "metadata": {},
     "output_type": "display_data"
    },
    {
     "name": "stdout",
     "output_type": "stream",
     "text": [
      "-------------------- Author Friedrich Nietzsche --------------------\n",
      "Real: any degree of consciousness renders perfection impossible <pad> <pad> <pad> <pad> <pad> <pad> <pad> <pad> <pad> <pad> <pad> <pad> <pad> <pad> <pad> <eos>\n",
      "***************************************************\n",
      "Decoded Friedrich Nietzsche: any degree of consciousness renders perfection impossible <pad> <pad> <pad> <pad> <pad> <pad> <pad> <pad> <pad> <pad> <pad> <pad> <pad> <pad> <pad> <eos>\n",
      "***************************************************\n",
      "Decoded Ernest Hemingway: any degree of consciousness makes perfection impossible <pad> <pad> <pad> <pad> <pad> <pad> <pad> <pad> <pad> <pad> <pad> <pad> <pad> <pad> <pad> <eos>\n",
      "***************************************************\n",
      "Decoded Oscar Wilde: any degree of consciousness makes perfection impossible <pad> <pad> <pad> <pad> <pad> <pad> <pad> <pad> <pad> <pad> <pad> <pad> <pad> <pad> <pad> <eos>\n",
      "-------------------- Author Ernest Hemingway --------------------\n",
      "Real: that <unk> of the <unk> for social life and i looked up kidneys and the roman ' s brother produced some from <eos>\n",
      "***************************************************\n",
      "Decoded Friedrich Nietzsche: that <unk> of the <unk> for social life and i looked up intestines and the roman ' s brother produced some from <eos>\n",
      "***************************************************\n",
      "Decoded Ernest Hemingway: that <unk> of the <unk> for social life and i looked up kidneys and the roman ' s brother produced some from <eos>\n",
      "***************************************************\n",
      "Decoded Oscar Wilde: that <unk> of the <unk> for social life and i looked up tissue and the roman ' s brother produced some from <eos>\n",
      "-------------------- Author Oscar Wilde --------------------\n",
      "Real: they did not mind his being ugly , a bit <pad> <pad> <pad> <pad> <pad> <pad> <pad> <pad> <pad> <pad> <pad> <pad> <eos>\n",
      "***************************************************\n",
      "Decoded Friedrich Nietzsche: they did not mind his being ugly , a bit <pad> <pad> <pad> <pad> <pad> <pad> <pad> <pad> <pad> <pad> <pad> <pad> <eos>\n",
      "***************************************************\n",
      "Decoded Ernest Hemingway: they did not mind his being ugly , a bit <pad> <pad> <pad> <pad> <pad> <pad> <pad> <pad> <pad> <pad> <pad> <pad> <eos>\n",
      "***************************************************\n",
      "Decoded Oscar Wilde: they did not mind his being ugly , a bit <pad> <pad> <pad> <pad> <pad> <pad> <pad> <pad> <pad> <pad> <pad> <pad> <eos>\n",
      "\n"
     ]
    },
    {
     "data": {
      "application/vnd.jupyter.widget-view+json": {
       "model_id": "3d58b546cbb84ed3b4c7430a8439b6d9",
       "version_major": 2,
       "version_minor": 0
      },
      "text/plain": [
       "HBox(children=(FloatProgress(value=0.0, max=798.0), HTML(value='')))"
      ]
     },
     "metadata": {},
     "output_type": "display_data"
    },
    {
     "name": "stdout",
     "output_type": "stream",
     "text": [
      "\n",
      "*************************** EPOCH 33 ***************************\n"
     ]
    },
    {
     "data": {
      "application/vnd.jupyter.widget-view+json": {
       "model_id": "3273408f747b4af5a326604565e22887",
       "version_major": 2,
       "version_minor": 0
      },
      "text/plain": [
       "HBox(children=(FloatProgress(value=0.0, max=1861.0), HTML(value='')))"
      ]
     },
     "metadata": {},
     "output_type": "display_data"
    },
    {
     "name": "stdout",
     "output_type": "stream",
     "text": [
      "-------------------- Author Friedrich Nietzsche --------------------\n",
      "Real: there will come a time when training will be the only thought <pad> <pad> <pad> <pad> <pad> <pad> <pad> <pad> <pad> <pad> <eos>\n",
      "***************************************************\n",
      "Decoded Friedrich Nietzsche: there will come a time when training will be the only thought <pad> <pad> <pad> <pad> <pad> <pad> <pad> <pad> <pad> <pad> <eos>\n",
      "***************************************************\n",
      "Decoded Ernest Hemingway: there will come a time when training will be the only thought <pad> <pad> <pad> <pad> <pad> <pad> <pad> <pad> <pad> <pad> <eos>\n",
      "***************************************************\n",
      "Decoded Oscar Wilde: there will come a time when his will be the only thought <pad> <pad> <pad> <pad> <pad> <pad> <pad> <pad> <pad> <pad> <eos>\n",
      "-------------------- Author Ernest Hemingway --------------------\n",
      "Real: i can lash my knife to the butt of one of the <unk> <pad> <pad> <pad> <pad> <pad> <pad> <pad> <pad> <pad> <eos>\n",
      "***************************************************\n",
      "Decoded Friedrich Nietzsche: i can ivy my knife to the stab of one of the <unk> <pad> <pad> <pad> <pad> <pad> <pad> <pad> <pad> <pad> <eos>\n",
      "***************************************************\n",
      "Decoded Ernest Hemingway: i can lash my knife to the butt of one of the <unk> <pad> <pad> <pad> <pad> <pad> <pad> <pad> <pad> <pad> <eos>\n",
      "***************************************************\n",
      "Decoded Oscar Wilde: i can lash my knife to the chop of one of the <unk> <pad> <pad> <pad> <pad> <pad> <pad> <pad> <pad> <pad> <eos>\n",
      "-------------------- Author Oscar Wilde --------------------\n",
      "Real: you see the winter was a very bad time for me , and i really had no money at all to buy <eos>\n",
      "***************************************************\n",
      "Decoded Friedrich Nietzsche: you see the winter was a very bad time for me , and i really had no money at all to buy <eos>\n",
      "***************************************************\n",
      "Decoded Ernest Hemingway: you see the winter was a very bad time for me , and i really had no money at all to buy <eos>\n",
      "***************************************************\n",
      "Decoded Oscar Wilde: you see the winter was a very bad time for me , and i really had no money at all to buy <eos>\n",
      "\n"
     ]
    },
    {
     "data": {
      "application/vnd.jupyter.widget-view+json": {
       "model_id": "3b4eb49c7cc54466908fdfdbd8a655dd",
       "version_major": 2,
       "version_minor": 0
      },
      "text/plain": [
       "HBox(children=(FloatProgress(value=0.0, max=798.0), HTML(value='')))"
      ]
     },
     "metadata": {},
     "output_type": "display_data"
    },
    {
     "name": "stdout",
     "output_type": "stream",
     "text": [
      "\n",
      "*************************** EPOCH 34 ***************************\n"
     ]
    },
    {
     "data": {
      "application/vnd.jupyter.widget-view+json": {
       "model_id": "79465f784c5d43b0b9de3150625c3d56",
       "version_major": 2,
       "version_minor": 0
      },
      "text/plain": [
       "HBox(children=(FloatProgress(value=0.0, max=1861.0), HTML(value='')))"
      ]
     },
     "metadata": {},
     "output_type": "display_data"
    },
    {
     "name": "stdout",
     "output_type": "stream",
     "text": [
      "-------------------- Author Friedrich Nietzsche --------------------\n",
      "Real: who are my father and mother ? is not my father prince plenty ? and my mother silent laughter ? did not <eos>\n",
      "***************************************************\n",
      "Decoded Friedrich Nietzsche: who are my father and mother ? is not my father prince plenty ? and my mother silent laughter ? did not <eos>\n",
      "***************************************************\n",
      "Decoded Ernest Hemingway: who are my father and mother ? is not my father abdullah plenty ? and my mother silent laughter ? did not <eos>\n",
      "***************************************************\n",
      "Decoded Oscar Wilde: who are my father and mother ? is not my father prince plenty ? and my mother silent laughter ? did not <eos>\n",
      "-------------------- Author Ernest Hemingway --------------------\n",
      "Real: the colonel <unk> to his room <unk> by the boy who carried his bag <pad> <pad> <pad> <pad> <pad> <pad> <pad> <pad> <eos>\n",
      "***************************************************\n",
      "Decoded Friedrich Nietzsche: the la <unk> to his room <unk> by the boy who carried his hides <pad> <pad> <pad> <pad> <pad> <pad> <pad> <pad> <eos>\n",
      "***************************************************\n",
      "Decoded Ernest Hemingway: the colonel <unk> to his room <unk> by the boy who carried his bag <pad> <pad> <pad> <pad> <pad> <pad> <pad> <pad> <eos>\n",
      "***************************************************\n",
      "Decoded Oscar Wilde: the colonel <unk> to his room <unk> by the boy who carried his bag <pad> <pad> <pad> <pad> <pad> <pad> <pad> <pad> <eos>\n",
      "-------------------- Author Oscar Wilde --------------------\n",
      "Real: so that all the supreme masters of style — dante , <unk> , shakespeare — are the supreme masters of spiritual and <eos>\n",
      "***************************************************\n",
      "Decoded Friedrich Nietzsche: so that all the supreme masters of style — dante , <unk> , shakespeare — are the supreme masters of spiritual and <eos>\n",
      "***************************************************\n",
      "Decoded Ernest Hemingway: so that all the supreme masters of style — dante , <unk> , shakespeare — are the supreme masters of living and <eos>\n",
      "***************************************************\n",
      "Decoded Oscar Wilde: so that all the supreme masters of style — dante , <unk> , shakespeare — are the supreme masters of spiritual and <eos>\n",
      "\n"
     ]
    },
    {
     "data": {
      "application/vnd.jupyter.widget-view+json": {
       "model_id": "f109c0579823402ebf0ecb804837dd7f",
       "version_major": 2,
       "version_minor": 0
      },
      "text/plain": [
       "HBox(children=(FloatProgress(value=0.0, max=798.0), HTML(value='')))"
      ]
     },
     "metadata": {},
     "output_type": "display_data"
    },
    {
     "name": "stdout",
     "output_type": "stream",
     "text": [
      "\n",
      "*************************** EPOCH 35 ***************************\n"
     ]
    },
    {
     "data": {
      "application/vnd.jupyter.widget-view+json": {
       "model_id": "377522aeeae143fdb4a972f697e55024",
       "version_major": 2,
       "version_minor": 0
      },
      "text/plain": [
       "HBox(children=(FloatProgress(value=0.0, max=1861.0), HTML(value='')))"
      ]
     },
     "metadata": {},
     "output_type": "display_data"
    },
    {
     "name": "stdout",
     "output_type": "stream",
     "text": [
      "-------------------- Author Friedrich Nietzsche --------------------\n",
      "Real: every small community or individual , finding itself involved in a struggle , strives to convince itself of this <unk> good taste <eos>\n",
      "***************************************************\n",
      "Decoded Friedrich Nietzsche: every small community or individual , finding itself involved in a struggle , strives to convince itself of this <unk> good taste <eos>\n",
      "***************************************************\n",
      "Decoded Ernest Hemingway: every small simply or individual , finding itself involved in a struggle , smart to convince itself of this <unk> good taste <eos>\n",
      "***************************************************\n",
      "Decoded Oscar Wilde: every small community or individual , finding itself ulster in a struggle , seeks to persuade itself of this <unk> good taste <eos>\n",
      "-------------------- Author Ernest Hemingway --------------------\n",
      "Real: he ' s never right <pad> <pad> <pad> <pad> <pad> <pad> <pad> <pad> <pad> <pad> <pad> <pad> <pad> <pad> <pad> <pad> <pad> <eos>\n",
      "***************************************************\n",
      "Decoded Friedrich Nietzsche: he ' s never right <pad> <pad> <pad> <pad> <pad> <pad> <pad> <pad> <pad> <pad> <pad> <pad> <pad> <pad> <pad> <pad> <pad> <eos>\n",
      "***************************************************\n",
      "Decoded Ernest Hemingway: he ' s never right <pad> <pad> <pad> <pad> <pad> <pad> <pad> <pad> <pad> <pad> <pad> <pad> <pad> <pad> <pad> <pad> <pad> <eos>\n",
      "***************************************************\n",
      "Decoded Oscar Wilde: he ' s never right <pad> <pad> <pad> <pad> <pad> <pad> <pad> <pad> <pad> <pad> <pad> <pad> <pad> <pad> <pad> <pad> <pad> <eos>\n",
      "-------------------- Author Oscar Wilde --------------------\n",
      "Real: the individual is to make what is beautiful <pad> <pad> <pad> <pad> <pad> <pad> <pad> <pad> <pad> <pad> <pad> <pad> <pad> <pad> <eos>\n",
      "***************************************************\n",
      "Decoded Friedrich Nietzsche: the individual is to make what is beautiful <pad> <pad> <pad> <pad> <pad> <pad> <pad> <pad> <pad> <pad> <pad> <pad> <pad> <pad> <eos>\n",
      "***************************************************\n",
      "Decoded Ernest Hemingway: the individual is to make what is beautiful <pad> <pad> <pad> <pad> <pad> <pad> <pad> <pad> <pad> <pad> <pad> <pad> <pad> <pad> <eos>\n",
      "***************************************************\n",
      "Decoded Oscar Wilde: the individual is to make what is beautiful <pad> <pad> <pad> <pad> <pad> <pad> <pad> <pad> <pad> <pad> <pad> <pad> <pad> <pad> <eos>\n",
      "\n"
     ]
    },
    {
     "data": {
      "application/vnd.jupyter.widget-view+json": {
       "model_id": "aa63f768f069483baa275992326161d6",
       "version_major": 2,
       "version_minor": 0
      },
      "text/plain": [
       "HBox(children=(FloatProgress(value=0.0, max=798.0), HTML(value='')))"
      ]
     },
     "metadata": {},
     "output_type": "display_data"
    },
    {
     "name": "stdout",
     "output_type": "stream",
     "text": [
      "\n",
      "*************************** EPOCH 36 ***************************\n"
     ]
    },
    {
     "data": {
      "application/vnd.jupyter.widget-view+json": {
       "model_id": "05a6df530eb949c58e64cc5b35e67031",
       "version_major": 2,
       "version_minor": 0
      },
      "text/plain": [
       "HBox(children=(FloatProgress(value=0.0, max=1861.0), HTML(value='')))"
      ]
     },
     "metadata": {},
     "output_type": "display_data"
    },
    {
     "name": "stdout",
     "output_type": "stream",
     "text": [
      "-------------------- Author Friedrich Nietzsche --------------------\n",
      "Real: or the outburst of a passion which , as it <unk> happens , is ready to burst forth — in a word <eos>\n",
      "***************************************************\n",
      "Decoded Friedrich Nietzsche: or the outburst of a passion which , as it <unk> happens , is ready to burst forth — in a word <eos>\n",
      "***************************************************\n",
      "Decoded Ernest Hemingway: or the reported of a out which , as it <unk> happens , is ready to burst forth — in a word <eos>\n",
      "***************************************************\n",
      "Decoded Oscar Wilde: or the disturbed of a passion which , as it <unk> happens , is ready to blown forth — in a word <eos>\n",
      "-------------------- Author Ernest Hemingway --------------------\n",
      "Real: you wouldn ' t take a cigar ? oh , no , sir , she laughed <pad> <pad> <pad> <pad> <pad> <pad> <eos>\n",
      "***************************************************\n",
      "Decoded Friedrich Nietzsche: you anyhow ' t take a nose ? oh , no , sir , she laughed <pad> <pad> <pad> <pad> <pad> <pad> <eos>\n",
      "***************************************************\n",
      "Decoded Ernest Hemingway: you wouldn ' t take a cigar ? oh , no , sir , she laughed <pad> <pad> <pad> <pad> <pad> <pad> <eos>\n",
      "***************************************************\n",
      "Decoded Oscar Wilde: you wouldn ' t take a cigar ? oh , no , sir , she laughed <pad> <pad> <pad> <pad> <pad> <pad> <eos>\n",
      "-------------------- Author Oscar Wilde --------------------\n",
      "Real: i want to be amused <pad> <pad> <pad> <pad> <pad> <pad> <pad> <pad> <pad> <pad> <pad> <pad> <pad> <pad> <pad> <pad> <pad> <eos>\n",
      "***************************************************\n",
      "Decoded Friedrich Nietzsche: i want to be amused <pad> <pad> <pad> <pad> <pad> <pad> <pad> <pad> <pad> <pad> <pad> <pad> <pad> <pad> <pad> <pad> <pad> <eos>\n",
      "***************************************************\n",
      "Decoded Ernest Hemingway: i want to be amused <pad> <pad> <pad> <pad> <pad> <pad> <pad> <pad> <pad> <pad> <pad> <pad> <pad> <pad> <pad> <pad> <pad> <eos>\n",
      "***************************************************\n",
      "Decoded Oscar Wilde: i want to be amused <pad> <pad> <pad> <pad> <pad> <pad> <pad> <pad> <pad> <pad> <pad> <pad> <pad> <pad> <pad> <pad> <pad> <eos>\n",
      "\n"
     ]
    },
    {
     "data": {
      "application/vnd.jupyter.widget-view+json": {
       "model_id": "1a704f6cd38b480bade2908665e55152",
       "version_major": 2,
       "version_minor": 0
      },
      "text/plain": [
       "HBox(children=(FloatProgress(value=0.0, max=798.0), HTML(value='')))"
      ]
     },
     "metadata": {},
     "output_type": "display_data"
    },
    {
     "name": "stdout",
     "output_type": "stream",
     "text": [
      "\n",
      "*************************** EPOCH 37 ***************************\n"
     ]
    },
    {
     "data": {
      "application/vnd.jupyter.widget-view+json": {
       "model_id": "e8f2d37427094dc3904152919c817a0a",
       "version_major": 2,
       "version_minor": 0
      },
      "text/plain": [
       "HBox(children=(FloatProgress(value=0.0, max=1861.0), HTML(value='')))"
      ]
     },
     "metadata": {},
     "output_type": "display_data"
    },
    {
     "name": "stdout",
     "output_type": "stream",
     "text": [
      "-------------------- Author Friedrich Nietzsche --------------------\n",
      "Real: who knows ? maybe i am the first psychologist of the <unk> feminine <pad> <pad> <pad> <pad> <pad> <pad> <pad> <pad> <pad> <eos>\n",
      "***************************************************\n",
      "Decoded Friedrich Nietzsche: who knows ? maybe i am the first psychologist of the <unk> feminine <pad> <pad> <pad> <pad> <pad> <pad> <pad> <pad> <pad> <eos>\n",
      "***************************************************\n",
      "Decoded Ernest Hemingway: who knows ? maybe i am the first physician of the <unk> roman <pad> <pad> <pad> <pad> <pad> <pad> <pad> <pad> <pad> <eos>\n",
      "***************************************************\n",
      "Decoded Oscar Wilde: who knows ? figured i am the first psychologist of the <unk> princes <pad> <pad> <pad> <pad> <pad> <pad> <pad> <pad> <pad> <eos>\n",
      "-------------------- Author Ernest Hemingway --------------------\n",
      "Real: it is the light of course but it is necessary that the place be clean and pleasant <pad> <pad> <pad> <pad> <pad> <eos>\n",
      "***************************************************\n",
      "Decoded Friedrich Nietzsche: it is the light of course but it is necessary that the place be clean and pleasant <pad> <pad> <pad> <pad> <pad> <eos>\n",
      "***************************************************\n",
      "Decoded Ernest Hemingway: it is the light of course but it is necessary that the place be clean and pleasant <pad> <pad> <pad> <pad> <pad> <eos>\n",
      "***************************************************\n",
      "Decoded Oscar Wilde: it is the light of course but it is necessary that the place be clean and pleasant <pad> <pad> <pad> <pad> <pad> <eos>\n",
      "-------------------- Author Oscar Wilde --------------------\n",
      "Real: if the otis family did not want it , they clearly did not deserve it <pad> <pad> <pad> <pad> <pad> <pad> <pad> <eos>\n",
      "***************************************************\n",
      "Decoded Friedrich Nietzsche: if the latter family did not want it , they clearly did not deserve it <pad> <pad> <pad> <pad> <pad> <pad> <pad> <eos>\n",
      "***************************************************\n",
      "Decoded Ernest Hemingway: if the cohn family did not want it , they clearly did not deserve it <pad> <pad> <pad> <pad> <pad> <pad> <pad> <eos>\n",
      "***************************************************\n",
      "Decoded Oscar Wilde: if the otis family did not want it , they clearly did not deserve it <pad> <pad> <pad> <pad> <pad> <pad> <pad> <eos>\n",
      "\n"
     ]
    },
    {
     "data": {
      "application/vnd.jupyter.widget-view+json": {
       "model_id": "09e8e0a5a9ca4e2685dcbd9fc00eb14d",
       "version_major": 2,
       "version_minor": 0
      },
      "text/plain": [
       "HBox(children=(FloatProgress(value=0.0, max=798.0), HTML(value='')))"
      ]
     },
     "metadata": {},
     "output_type": "display_data"
    },
    {
     "name": "stdout",
     "output_type": "stream",
     "text": [
      "\n",
      "*************************** EPOCH 38 ***************************\n"
     ]
    },
    {
     "data": {
      "application/vnd.jupyter.widget-view+json": {
       "model_id": "3e21e773e6074e73aed687ba50b6f54d",
       "version_major": 2,
       "version_minor": 0
      },
      "text/plain": [
       "HBox(children=(FloatProgress(value=0.0, max=1861.0), HTML(value='')))"
      ]
     },
     "metadata": {},
     "output_type": "display_data"
    },
    {
     "name": "stdout",
     "output_type": "stream",
     "text": [
      "-------------------- Author Friedrich Nietzsche --------------------\n",
      "Real: we need the romans to show how things became what they were <pad> <pad> <pad> <pad> <pad> <pad> <pad> <pad> <pad> <pad> <eos>\n",
      "***************************************************\n",
      "Decoded Friedrich Nietzsche: we need the romans to show how things became what they were <pad> <pad> <pad> <pad> <pad> <pad> <pad> <pad> <pad> <pad> <eos>\n",
      "***************************************************\n",
      "Decoded Ernest Hemingway: we need the greeks to show how things became what they were <pad> <pad> <pad> <pad> <pad> <pad> <pad> <pad> <pad> <pad> <eos>\n",
      "***************************************************\n",
      "Decoded Oscar Wilde: we need the romans to show how things became what they were <pad> <pad> <pad> <pad> <pad> <pad> <pad> <pad> <pad> <pad> <eos>\n",
      "-------------------- Author Ernest Hemingway --------------------\n",
      "Real: people were coming into the square from all sides , and down the street we heard the pipes and the <unk> and <eos>\n",
      "***************************************************\n",
      "Decoded Friedrich Nietzsche: people were coming into the square from all sides , and down the street we heard the pole and the <unk> and <eos>\n",
      "***************************************************\n",
      "Decoded Ernest Hemingway: people were coming into the square from all sides , and down the street we heard the pipes and the <unk> and <eos>\n",
      "***************************************************\n",
      "Decoded Oscar Wilde: people were coming into the square from all sides , and down the street we heard the pipes and the <unk> and <eos>\n",
      "-------------------- Author Oscar Wilde --------------------\n",
      "Real: my god ! if it is true , he <unk> , and this is what you have done with your life , <eos>\n",
      "***************************************************\n",
      "Decoded Friedrich Nietzsche: my god ! if it is true , he <unk> , and this is what you have done with your life , <eos>\n",
      "***************************************************\n",
      "Decoded Ernest Hemingway: my god ! if it is true , he <unk> , and this is what you have done with your life , <eos>\n",
      "***************************************************\n",
      "Decoded Oscar Wilde: my god ! if it is true , he <unk> , and this is what you have done with your life , <eos>\n",
      "\n"
     ]
    },
    {
     "data": {
      "application/vnd.jupyter.widget-view+json": {
       "model_id": "cc2b6e3934874fd5b6824e123fa1830b",
       "version_major": 2,
       "version_minor": 0
      },
      "text/plain": [
       "HBox(children=(FloatProgress(value=0.0, max=798.0), HTML(value='')))"
      ]
     },
     "metadata": {},
     "output_type": "display_data"
    },
    {
     "name": "stdout",
     "output_type": "stream",
     "text": [
      "\n",
      "*************************** EPOCH 39 ***************************\n"
     ]
    },
    {
     "data": {
      "application/vnd.jupyter.widget-view+json": {
       "model_id": "c1c33d1dcb024311b5d329030049c6e4",
       "version_major": 2,
       "version_minor": 0
      },
      "text/plain": [
       "HBox(children=(FloatProgress(value=0.0, max=1861.0), HTML(value='')))"
      ]
     },
     "metadata": {},
     "output_type": "display_data"
    },
    {
     "name": "stdout",
     "output_type": "stream",
     "text": [
      "-------------------- Author Friedrich Nietzsche --------------------\n",
      "Real: but this is as it ought to be , and we do not want either to conceal or obscure the fact , <eos>\n",
      "***************************************************\n",
      "Decoded Friedrich Nietzsche: but this is as it ought to be , and we do not want either to conceal or obscure the fact , <eos>\n",
      "***************************************************\n",
      "Decoded Ernest Hemingway: but this is as it ought to be , and we do not want either to uncover or obscure the fact , <eos>\n",
      "***************************************************\n",
      "Decoded Oscar Wilde: but this is as it ought to be , and we do not want either to conceal or obscure the fact , <eos>\n",
      "-------------------- Author Ernest Hemingway --------------------\n",
      "Real: then he put the right way into the body , coming up <pad> <pad> <pad> <pad> <pad> <pad> <pad> <pad> <pad> <pad> <eos>\n",
      "***************************************************\n",
      "Decoded Friedrich Nietzsche: then he put the right way into the body , coming up <pad> <pad> <pad> <pad> <pad> <pad> <pad> <pad> <pad> <pad> <eos>\n",
      "***************************************************\n",
      "Decoded Ernest Hemingway: then he put the right way into the body , coming up <pad> <pad> <pad> <pad> <pad> <pad> <pad> <pad> <pad> <pad> <eos>\n",
      "***************************************************\n",
      "Decoded Oscar Wilde: then he put the right way into the body , coming up <pad> <pad> <pad> <pad> <pad> <pad> <pad> <pad> <pad> <pad> <eos>\n",
      "-------------------- Author Oscar Wilde --------------------\n",
      "Real: <unk> oh , yes , she ' s always going to church <pad> <pad> <pad> <pad> <pad> <pad> <pad> <pad> <pad> <pad> <eos>\n",
      "***************************************************\n",
      "Decoded Friedrich Nietzsche: <unk> oh , yes , she ' s always going to church <pad> <pad> <pad> <pad> <pad> <pad> <pad> <pad> <pad> <pad> <eos>\n",
      "***************************************************\n",
      "Decoded Ernest Hemingway: <unk> oh , yes , she ' s always going to church <pad> <pad> <pad> <pad> <pad> <pad> <pad> <pad> <pad> <pad> <eos>\n",
      "***************************************************\n",
      "Decoded Oscar Wilde: <unk> oh , yes , she ' s always going to church <pad> <pad> <pad> <pad> <pad> <pad> <pad> <pad> <pad> <pad> <eos>\n",
      "\n"
     ]
    },
    {
     "data": {
      "application/vnd.jupyter.widget-view+json": {
       "model_id": "2904b0701f3045f1bef590b120a4311c",
       "version_major": 2,
       "version_minor": 0
      },
      "text/plain": [
       "HBox(children=(FloatProgress(value=0.0, max=798.0), HTML(value='')))"
      ]
     },
     "metadata": {},
     "output_type": "display_data"
    },
    {
     "name": "stdout",
     "output_type": "stream",
     "text": [
      "\n",
      "*************************** EPOCH 40 ***************************\n"
     ]
    },
    {
     "data": {
      "application/vnd.jupyter.widget-view+json": {
       "model_id": "39f9043ff5b948bfb6cf1fc6ccbf409c",
       "version_major": 2,
       "version_minor": 0
      },
      "text/plain": [
       "HBox(children=(FloatProgress(value=0.0, max=1861.0), HTML(value='')))"
      ]
     },
     "metadata": {},
     "output_type": "display_data"
    },
    {
     "name": "stdout",
     "output_type": "stream",
     "text": [
      "-------------------- Author Friedrich Nietzsche --------------------\n",
      "Real: the <unk> hatred of reality <unk> the consequence of an extreme susceptibility to pain and <unk> so great that merely to be <eos>\n",
      "***************************************************\n",
      "Decoded Friedrich Nietzsche: the <unk> hatred of reality <unk> the consequence of an extreme susceptibility to pain and <unk> so great that merely to be <eos>\n",
      "***************************************************\n",
      "Decoded Ernest Hemingway: the <unk> hatred of reality <unk> the consequence of an excellent abnormal to pain and <unk> so great that necessary to be <eos>\n",
      "***************************************************\n",
      "Decoded Oscar Wilde: the <unk> hatred of reality <unk> the consequence of an extreme severity to pain and <unk> so great that merely to be <eos>\n",
      "-------------------- Author Ernest Hemingway --------------------\n",
      "Real: i never asked , i guess <pad> <pad> <pad> <pad> <pad> <pad> <pad> <pad> <pad> <pad> <pad> <pad> <pad> <pad> <pad> <pad> <eos>\n",
      "***************************************************\n",
      "Decoded Friedrich Nietzsche: i never asked , i guess <pad> <pad> <pad> <pad> <pad> <pad> <pad> <pad> <pad> <pad> <pad> <pad> <pad> <pad> <pad> <pad> <eos>\n",
      "***************************************************\n",
      "Decoded Ernest Hemingway: i never asked , i guess <pad> <pad> <pad> <pad> <pad> <pad> <pad> <pad> <pad> <pad> <pad> <pad> <pad> <pad> <pad> <pad> <eos>\n",
      "***************************************************\n",
      "Decoded Oscar Wilde: i never asked , i guess <pad> <pad> <pad> <pad> <pad> <pad> <pad> <pad> <pad> <pad> <pad> <pad> <pad> <pad> <pad> <pad> <eos>\n",
      "-------------------- Author Oscar Wilde --------------------\n",
      "Real: <unk> illustration <unk> the twins <pad> <pad> <pad> <pad> <pad> <pad> <pad> <pad> <pad> <pad> <pad> <pad> <pad> <pad> <pad> <pad> <pad> <eos>\n",
      "***************************************************\n",
      "Decoded Friedrich Nietzsche: <unk> illustration <unk> the friends <pad> <pad> <pad> <pad> <pad> <pad> <pad> <pad> <pad> <pad> <pad> <pad> <pad> <pad> <pad> <pad> <pad> <eos>\n",
      "***************************************************\n",
      "Decoded Ernest Hemingway: <unk> illustration <unk> the mexicans <pad> <pad> <pad> <pad> <pad> <pad> <pad> <pad> <pad> <pad> <pad> <pad> <pad> <pad> <pad> <pad> <pad> <eos>\n",
      "***************************************************\n",
      "Decoded Oscar Wilde: <unk> illustration <unk> the twins <pad> <pad> <pad> <pad> <pad> <pad> <pad> <pad> <pad> <pad> <pad> <pad> <pad> <pad> <pad> <pad> <pad> <eos>\n",
      "\n"
     ]
    },
    {
     "data": {
      "application/vnd.jupyter.widget-view+json": {
       "model_id": "ed57d1e06f224a5ab0b4839c75c4e1fd",
       "version_major": 2,
       "version_minor": 0
      },
      "text/plain": [
       "HBox(children=(FloatProgress(value=0.0, max=798.0), HTML(value='')))"
      ]
     },
     "metadata": {},
     "output_type": "display_data"
    },
    {
     "name": "stdout",
     "output_type": "stream",
     "text": [
      "\n",
      "*************************** EPOCH 41 ***************************\n"
     ]
    },
    {
     "data": {
      "application/vnd.jupyter.widget-view+json": {
       "model_id": "642ca0e572d4460ebe6e75792166731e",
       "version_major": 2,
       "version_minor": 0
      },
      "text/plain": [
       "HBox(children=(FloatProgress(value=0.0, max=1861.0), HTML(value='')))"
      ]
     },
     "metadata": {},
     "output_type": "display_data"
    },
    {
     "name": "stdout",
     "output_type": "stream",
     "text": [
      "-------------------- Author Friedrich Nietzsche --------------------\n",
      "Real: and some of us already feel its pressure <pad> <pad> <pad> <pad> <pad> <pad> <pad> <pad> <pad> <pad> <pad> <pad> <pad> <pad> <eos>\n",
      "***************************************************\n",
      "Decoded Friedrich Nietzsche: and some of us already feel its pressure <pad> <pad> <pad> <pad> <pad> <pad> <pad> <pad> <pad> <pad> <pad> <pad> <pad> <pad> <eos>\n",
      "***************************************************\n",
      "Decoded Ernest Hemingway: and some of us already feel its pressure <pad> <pad> <pad> <pad> <pad> <pad> <pad> <pad> <pad> <pad> <pad> <pad> <pad> <pad> <eos>\n",
      "***************************************************\n",
      "Decoded Oscar Wilde: and some of us already feel its weakness <pad> <pad> <pad> <pad> <pad> <pad> <pad> <pad> <pad> <pad> <pad> <pad> <pad> <pad> <eos>\n",
      "-------------------- Author Ernest Hemingway --------------------\n",
      "Real: why didn ' t you find out from the <unk> ? i fill out a slip there for the <unk> <pad> <pad> <eos>\n",
      "***************************************************\n",
      "Decoded Friedrich Nietzsche: why didn ' t you find out from the <unk> ? i fill out a slip there for the <unk> <pad> <pad> <eos>\n",
      "***************************************************\n",
      "Decoded Ernest Hemingway: why didn ' t you find out from the <unk> ? i fill out a slip there for the <unk> <pad> <pad> <eos>\n",
      "***************************************************\n",
      "Decoded Oscar Wilde: why didn ' t you find out from the <unk> ? i fill out a gallop there for the <unk> <pad> <pad> <eos>\n",
      "-------------------- Author Oscar Wilde --------------------\n",
      "Real: too cold for monsieur ? asked his valet , putting an <unk> on the table <pad> <pad> <pad> <pad> <pad> <pad> <pad> <eos>\n",
      "***************************************************\n",
      "Decoded Friedrich Nietzsche: too cold for mozart ? asked his dislikes , putting an <unk> on the table <pad> <pad> <pad> <pad> <pad> <pad> <pad> <eos>\n",
      "***************************************************\n",
      "Decoded Ernest Hemingway: too cold for monsieur ? asked his dislikes , putting an <unk> on the table <pad> <pad> <pad> <pad> <pad> <pad> <pad> <eos>\n",
      "***************************************************\n",
      "Decoded Oscar Wilde: too cold for monsieur ? asked his valet , putting an <unk> on the table <pad> <pad> <pad> <pad> <pad> <pad> <pad> <eos>\n",
      "\n"
     ]
    },
    {
     "data": {
      "application/vnd.jupyter.widget-view+json": {
       "model_id": "eaa425abf3dc496ea316f6600b30c211",
       "version_major": 2,
       "version_minor": 0
      },
      "text/plain": [
       "HBox(children=(FloatProgress(value=0.0, max=798.0), HTML(value='')))"
      ]
     },
     "metadata": {},
     "output_type": "display_data"
    },
    {
     "name": "stdout",
     "output_type": "stream",
     "text": [
      "\n",
      "*************************** EPOCH 42 ***************************\n"
     ]
    },
    {
     "data": {
      "application/vnd.jupyter.widget-view+json": {
       "model_id": "4dbb3f5af9374995a6043bad660c7b93",
       "version_major": 2,
       "version_minor": 0
      },
      "text/plain": [
       "HBox(children=(FloatProgress(value=0.0, max=1861.0), HTML(value='')))"
      ]
     },
     "metadata": {},
     "output_type": "display_data"
    },
    {
     "name": "stdout",
     "output_type": "stream",
     "text": [
      "-------------------- Author Friedrich Nietzsche --------------------\n",
      "Real: no ancient work has ever had so powerful an effect as the <unk> had on wagner <pad> <pad> <pad> <pad> <pad> <pad> <eos>\n",
      "***************************************************\n",
      "Decoded Friedrich Nietzsche: no ancient work has ever had so powerful an effect as the <unk> had on wagner <pad> <pad> <pad> <pad> <pad> <pad> <eos>\n",
      "***************************************************\n",
      "Decoded Ernest Hemingway: no beautiful work has ever had so powerful an measure as the <unk> had on les <pad> <pad> <pad> <pad> <pad> <pad> <eos>\n",
      "***************************************************\n",
      "Decoded Oscar Wilde: no ancient work has ever had so powerful an effect as the <unk> had on wagner <pad> <pad> <pad> <pad> <pad> <pad> <eos>\n",
      "-------------------- Author Ernest Hemingway --------------------\n",
      "Real: but get them out fast <pad> <pad> <pad> <pad> <pad> <pad> <pad> <pad> <pad> <pad> <pad> <pad> <pad> <pad> <pad> <pad> <pad> <eos>\n",
      "***************************************************\n",
      "Decoded Friedrich Nietzsche: but get them out fast <pad> <pad> <pad> <pad> <pad> <pad> <pad> <pad> <pad> <pad> <pad> <pad> <pad> <pad> <pad> <pad> <pad> <eos>\n",
      "***************************************************\n",
      "Decoded Ernest Hemingway: but get them out fast <pad> <pad> <pad> <pad> <pad> <pad> <pad> <pad> <pad> <pad> <pad> <pad> <pad> <pad> <pad> <pad> <pad> <eos>\n",
      "***************************************************\n",
      "Decoded Oscar Wilde: but get them out fast <pad> <pad> <pad> <pad> <pad> <pad> <pad> <pad> <pad> <pad> <pad> <pad> <pad> <pad> <pad> <pad> <pad> <eos>\n",
      "-------------------- Author Oscar Wilde --------------------\n",
      "Real: hester in america those are the people we respect most <pad> <pad> <pad> <pad> <pad> <pad> <pad> <pad> <pad> <pad> <pad> <pad> <eos>\n",
      "***************************************************\n",
      "Decoded Friedrich Nietzsche: lover in success those are the people we respect most <pad> <pad> <pad> <pad> <pad> <pad> <pad> <pad> <pad> <pad> <pad> <pad> <eos>\n",
      "***************************************************\n",
      "Decoded Ernest Hemingway: jake in america those are the people we respect most <pad> <pad> <pad> <pad> <pad> <pad> <pad> <pad> <pad> <pad> <pad> <pad> <eos>\n",
      "***************************************************\n",
      "Decoded Oscar Wilde: hester in america those are the people we respect most <pad> <pad> <pad> <pad> <pad> <pad> <pad> <pad> <pad> <pad> <pad> <pad> <eos>\n",
      "\n"
     ]
    },
    {
     "data": {
      "application/vnd.jupyter.widget-view+json": {
       "model_id": "0e2eee7c7dab4341b351320251090bd8",
       "version_major": 2,
       "version_minor": 0
      },
      "text/plain": [
       "HBox(children=(FloatProgress(value=0.0, max=798.0), HTML(value='')))"
      ]
     },
     "metadata": {},
     "output_type": "display_data"
    },
    {
     "name": "stdout",
     "output_type": "stream",
     "text": [
      "\n",
      "*************************** EPOCH 43 ***************************\n"
     ]
    },
    {
     "data": {
      "application/vnd.jupyter.widget-view+json": {
       "model_id": "bb40eaace70a4215bbca60b2c8cf4af1",
       "version_major": 2,
       "version_minor": 0
      },
      "text/plain": [
       "HBox(children=(FloatProgress(value=0.0, max=1861.0), HTML(value='')))"
      ]
     },
     "metadata": {},
     "output_type": "display_data"
    },
    {
     "name": "stdout",
     "output_type": "stream",
     "text": [
      "-------------------- Author Friedrich Nietzsche --------------------\n",
      "Real: we often remain during our whole <unk> the <unk> of our childish and accustomed judgments in our manner of judging our fellow <eos>\n",
      "***************************************************\n",
      "Decoded Friedrich Nietzsche: we often remain during our whole <unk> the <unk> of our childish and accustomed judgments in our manner of judging our fellow <eos>\n",
      "***************************************************\n",
      "Decoded Ernest Hemingway: we often keep during our whole <unk> the <unk> of our childish and accustomed decisions in our manner of judging our fellow <eos>\n",
      "***************************************************\n",
      "Decoded Oscar Wilde: we often remain during our whole <unk> the <unk> of our childish and accustomed judgments in our manner of judging our fellow <eos>\n",
      "-------------------- Author Ernest Hemingway --------------------\n",
      "Real: oh , yes , i said <pad> <pad> <pad> <pad> <pad> <pad> <pad> <pad> <pad> <pad> <pad> <pad> <pad> <pad> <pad> <pad> <eos>\n",
      "***************************************************\n",
      "Decoded Friedrich Nietzsche: oh , yes , i said <pad> <pad> <pad> <pad> <pad> <pad> <pad> <pad> <pad> <pad> <pad> <pad> <pad> <pad> <pad> <pad> <eos>\n",
      "***************************************************\n",
      "Decoded Ernest Hemingway: oh , yes , i said <pad> <pad> <pad> <pad> <pad> <pad> <pad> <pad> <pad> <pad> <pad> <pad> <pad> <pad> <pad> <pad> <eos>\n",
      "***************************************************\n",
      "Decoded Oscar Wilde: oh , yes , i said <pad> <pad> <pad> <pad> <pad> <pad> <pad> <pad> <pad> <pad> <pad> <pad> <pad> <pad> <pad> <pad> <eos>\n",
      "-------------------- Author Oscar Wilde --------------------\n",
      "Real: we tread out the grapes , and another drinks the wine <pad> <pad> <pad> <pad> <pad> <pad> <pad> <pad> <pad> <pad> <pad> <eos>\n",
      "***************************************************\n",
      "Decoded Friedrich Nietzsche: we tread out the grapes , and another drinks the wine <pad> <pad> <pad> <pad> <pad> <pad> <pad> <pad> <pad> <pad> <pad> <eos>\n",
      "***************************************************\n",
      "Decoded Ernest Hemingway: we fences out the grapes , and another drinks the wine <pad> <pad> <pad> <pad> <pad> <pad> <pad> <pad> <pad> <pad> <pad> <eos>\n",
      "***************************************************\n",
      "Decoded Oscar Wilde: we tread out the grapes , and another drinks the wine <pad> <pad> <pad> <pad> <pad> <pad> <pad> <pad> <pad> <pad> <pad> <eos>\n",
      "\n"
     ]
    },
    {
     "data": {
      "application/vnd.jupyter.widget-view+json": {
       "model_id": "23a98d3ade3f478ab646ed89b7b1cb30",
       "version_major": 2,
       "version_minor": 0
      },
      "text/plain": [
       "HBox(children=(FloatProgress(value=0.0, max=798.0), HTML(value='')))"
      ]
     },
     "metadata": {},
     "output_type": "display_data"
    },
    {
     "name": "stdout",
     "output_type": "stream",
     "text": [
      "\n",
      "*************************** EPOCH 44 ***************************\n"
     ]
    },
    {
     "data": {
      "application/vnd.jupyter.widget-view+json": {
       "model_id": "6cceb59f0df24445985ae14ebeef234c",
       "version_major": 2,
       "version_minor": 0
      },
      "text/plain": [
       "HBox(children=(FloatProgress(value=0.0, max=1861.0), HTML(value='')))"
      ]
     },
     "metadata": {},
     "output_type": "display_data"
    },
    {
     "name": "stdout",
     "output_type": "stream",
     "text": [
      "-------------------- Author Friedrich Nietzsche --------------------\n",
      "Real: as the outcome of this idealism i regard all the <unk> , the great <unk> of instinct , and the modest <unk> <eos>\n",
      "***************************************************\n",
      "Decoded Friedrich Nietzsche: as the outcome of this idealism i regard all the <unk> , the great <unk> of instinct , and the modest <unk> <eos>\n",
      "***************************************************\n",
      "Decoded Ernest Hemingway: as the loads of this seeming i regard all the <unk> , the great <unk> of emotion , and the modest <unk> <eos>\n",
      "***************************************************\n",
      "Decoded Oscar Wilde: as the amount of this idealism i regard all the <unk> , the great <unk> of instinct , and the curiously <unk> <eos>\n",
      "-------------------- Author Ernest Hemingway --------------------\n",
      "Real: both good men , the colonel agreed <pad> <pad> <pad> <pad> <pad> <pad> <pad> <pad> <pad> <pad> <pad> <pad> <pad> <pad> <pad> <eos>\n",
      "***************************************************\n",
      "Decoded Friedrich Nietzsche: both good men , the la agreed <pad> <pad> <pad> <pad> <pad> <pad> <pad> <pad> <pad> <pad> <pad> <pad> <pad> <pad> <pad> <eos>\n",
      "***************************************************\n",
      "Decoded Ernest Hemingway: both good men , the colonel agreed <pad> <pad> <pad> <pad> <pad> <pad> <pad> <pad> <pad> <pad> <pad> <pad> <pad> <pad> <pad> <eos>\n",
      "***************************************************\n",
      "Decoded Oscar Wilde: both good men , the colonel agreed <pad> <pad> <pad> <pad> <pad> <pad> <pad> <pad> <pad> <pad> <pad> <pad> <pad> <pad> <pad> <eos>\n",
      "-------------------- Author Oscar Wilde --------------------\n",
      "Real: one of them some time ago called on a popular painter who , happening at the moment to require his services , <eos>\n",
      "***************************************************\n",
      "Decoded Friedrich Nietzsche: one of them some time ago called on a popular painter who , happening at the moment to require his services , <eos>\n",
      "***************************************************\n",
      "Decoded Ernest Hemingway: one of them some time ago called on a popular painter who , happening at the moment to aren his services , <eos>\n",
      "***************************************************\n",
      "Decoded Oscar Wilde: one of them some time ago called on a popular painter who , happening at the moment to require his services , <eos>\n",
      "\n"
     ]
    },
    {
     "data": {
      "application/vnd.jupyter.widget-view+json": {
       "model_id": "4d3cfc2c482349d085e54cd771403f1c",
       "version_major": 2,
       "version_minor": 0
      },
      "text/plain": [
       "HBox(children=(FloatProgress(value=0.0, max=798.0), HTML(value='')))"
      ]
     },
     "metadata": {},
     "output_type": "display_data"
    },
    {
     "name": "stdout",
     "output_type": "stream",
     "text": [
      "\n",
      "*************************** EPOCH 45 ***************************\n"
     ]
    },
    {
     "data": {
      "application/vnd.jupyter.widget-view+json": {
       "model_id": "4576bd850dc64f1e95dc162aa182eab9",
       "version_major": 2,
       "version_minor": 0
      },
      "text/plain": [
       "HBox(children=(FloatProgress(value=0.0, max=1861.0), HTML(value='')))"
      ]
     },
     "metadata": {},
     "output_type": "display_data"
    },
    {
     "name": "stdout",
     "output_type": "stream",
     "text": [
      "-------------------- Author Friedrich Nietzsche --------------------\n",
      "Real: admitting that the belief in this morality be destroyed , the botched and the <unk> would no longer have any comfort , <eos>\n",
      "***************************************************\n",
      "Decoded Friedrich Nietzsche: admitting that the belief in this morality be destroyed , the botched and the <unk> would no longer have any comfort , <eos>\n",
      "***************************************************\n",
      "Decoded Ernest Hemingway: liz that the belief in this nor be destroyed , the mistake and the <unk> would no longer have any comfort , <eos>\n",
      "***************************************************\n",
      "Decoded Oscar Wilde: admitting that the belief in this morality be destroyed , the mistake and the <unk> would no longer have any comfort , <eos>\n",
      "-------------------- Author Ernest Hemingway --------------------\n",
      "Real: it was a beautiful country he said <pad> <pad> <pad> <pad> <pad> <pad> <pad> <pad> <pad> <pad> <pad> <pad> <pad> <pad> <pad> <eos>\n",
      "***************************************************\n",
      "Decoded Friedrich Nietzsche: it was a beautiful country he said <pad> <pad> <pad> <pad> <pad> <pad> <pad> <pad> <pad> <pad> <pad> <pad> <pad> <pad> <pad> <eos>\n",
      "***************************************************\n",
      "Decoded Ernest Hemingway: it was a beautiful country he said <pad> <pad> <pad> <pad> <pad> <pad> <pad> <pad> <pad> <pad> <pad> <pad> <pad> <pad> <pad> <eos>\n",
      "***************************************************\n",
      "Decoded Oscar Wilde: it was a beautiful country he said <pad> <pad> <pad> <pad> <pad> <pad> <pad> <pad> <pad> <pad> <pad> <pad> <pad> <pad> <pad> <eos>\n",
      "-------------------- Author Oscar Wilde --------------------\n",
      "Real: and , finally , it is to be observed how much wider than plato ' s his theory of the origin of <eos>\n",
      "***************************************************\n",
      "Decoded Friedrich Nietzsche: and , finally , it is to be observed how much wider than plato ' s his theory of the origin of <eos>\n",
      "***************************************************\n",
      "Decoded Ernest Hemingway: and , finally , it is to be understood how much wider than god ' s his theory of the basque of <eos>\n",
      "***************************************************\n",
      "Decoded Oscar Wilde: and , finally , it is to be observed how much wider than plato ' s his theory of the origin of <eos>\n",
      "\n"
     ]
    },
    {
     "data": {
      "application/vnd.jupyter.widget-view+json": {
       "model_id": "c8b5011f98494973a58be4c0bcd48b0c",
       "version_major": 2,
       "version_minor": 0
      },
      "text/plain": [
       "HBox(children=(FloatProgress(value=0.0, max=798.0), HTML(value='')))"
      ]
     },
     "metadata": {},
     "output_type": "display_data"
    },
    {
     "name": "stdout",
     "output_type": "stream",
     "text": [
      "\n",
      "*************************** EPOCH 46 ***************************\n"
     ]
    },
    {
     "data": {
      "application/vnd.jupyter.widget-view+json": {
       "model_id": "85ff02bcf12e4d98bbaec288e0160f13",
       "version_major": 2,
       "version_minor": 0
      },
      "text/plain": [
       "HBox(children=(FloatProgress(value=0.0, max=1861.0), HTML(value='')))"
      ]
     },
     "metadata": {},
     "output_type": "display_data"
    },
    {
     "name": "stdout",
     "output_type": "stream",
     "text": [
      "-------------------- Author Friedrich Nietzsche --------------------\n",
      "Real: — all profound men have their happiness in imitating the flying fish for once , and playing on the <unk> of the <eos>\n",
      "***************************************************\n",
      "Decoded Friedrich Nietzsche: — all profound men have their happiness in imitating the flying fish for once , and playing on the <unk> of the <eos>\n",
      "***************************************************\n",
      "Decoded Ernest Hemingway: — all profound men have their happiness in farmer the flying fish for once , and playing on the <unk> of the <eos>\n",
      "***************************************************\n",
      "Decoded Oscar Wilde: — all profound men have their happiness in fondness the flying fish for once , and playing on the <unk> of the <eos>\n",
      "-------------------- Author Ernest Hemingway --------------------\n",
      "Real: the nurse brought some glasses <pad> <pad> <pad> <pad> <pad> <pad> <pad> <pad> <pad> <pad> <pad> <pad> <pad> <pad> <pad> <pad> <pad> <eos>\n",
      "***************************************************\n",
      "Decoded Friedrich Nietzsche: the hospital brought some glasses <pad> <pad> <pad> <pad> <pad> <pad> <pad> <pad> <pad> <pad> <pad> <pad> <pad> <pad> <pad> <pad> <pad> <eos>\n",
      "***************************************************\n",
      "Decoded Ernest Hemingway: the nurse brought some glasses <pad> <pad> <pad> <pad> <pad> <pad> <pad> <pad> <pad> <pad> <pad> <pad> <pad> <pad> <pad> <pad> <pad> <eos>\n",
      "***************************************************\n",
      "Decoded Oscar Wilde: the nurse brought some glasses <pad> <pad> <pad> <pad> <pad> <pad> <pad> <pad> <pad> <pad> <pad> <pad> <pad> <pad> <pad> <pad> <pad> <eos>\n",
      "-------------------- Author Oscar Wilde --------------------\n",
      "Real: nothing that he could do would <unk> him till he had told his own sin <pad> <pad> <pad> <pad> <pad> <pad> <pad> <eos>\n",
      "***************************************************\n",
      "Decoded Friedrich Nietzsche: nothing that he could do would <unk> him till he had told his own sin <pad> <pad> <pad> <pad> <pad> <pad> <pad> <eos>\n",
      "***************************************************\n",
      "Decoded Ernest Hemingway: nothing that he could do would <unk> him till he had told his own sin <pad> <pad> <pad> <pad> <pad> <pad> <pad> <eos>\n",
      "***************************************************\n",
      "Decoded Oscar Wilde: nothing that he could do would <unk> him till he had told his own sin <pad> <pad> <pad> <pad> <pad> <pad> <pad> <eos>\n",
      "\n"
     ]
    },
    {
     "data": {
      "application/vnd.jupyter.widget-view+json": {
       "model_id": "b463e8b9221e493081252d98fef3af39",
       "version_major": 2,
       "version_minor": 0
      },
      "text/plain": [
       "HBox(children=(FloatProgress(value=0.0, max=798.0), HTML(value='')))"
      ]
     },
     "metadata": {},
     "output_type": "display_data"
    },
    {
     "name": "stdout",
     "output_type": "stream",
     "text": [
      "\n",
      "*************************** EPOCH 47 ***************************\n"
     ]
    },
    {
     "data": {
      "application/vnd.jupyter.widget-view+json": {
       "model_id": "5e8c6632859843b2a4b84ebdc64a4fac",
       "version_major": 2,
       "version_minor": 0
      },
      "text/plain": [
       "HBox(children=(FloatProgress(value=0.0, max=1861.0), HTML(value='')))"
      ]
     },
     "metadata": {},
     "output_type": "display_data"
    },
    {
     "name": "stdout",
     "output_type": "stream",
     "text": [
      "-------------------- Author Friedrich Nietzsche --------------------\n",
      "Real: for superstition is <unk> of the second rank , — he who gives himself over to it selects certain forms and <unk> <eos>\n",
      "***************************************************\n",
      "Decoded Friedrich Nietzsche: for superstition is <unk> of the second rank , — he who gives himself over to it selects certain forms and <unk> <eos>\n",
      "***************************************************\n",
      "Decoded Ernest Hemingway: for forbidden is <unk> of the second rank , — he who gives himself over to it exchange certain range and <unk> <eos>\n",
      "***************************************************\n",
      "Decoded Oscar Wilde: for superstition is <unk> of the second rank , — he who gives himself over to it selects certain forms and <unk> <eos>\n",
      "-------------------- Author Ernest Hemingway --------------------\n",
      "Real: i get them all the time at the mess <pad> <pad> <pad> <pad> <pad> <pad> <pad> <pad> <pad> <pad> <pad> <pad> <pad> <eos>\n",
      "***************************************************\n",
      "Decoded Friedrich Nietzsche: i get them all the time at the useless <pad> <pad> <pad> <pad> <pad> <pad> <pad> <pad> <pad> <pad> <pad> <pad> <pad> <eos>\n",
      "***************************************************\n",
      "Decoded Ernest Hemingway: i get them all the time at the mess <pad> <pad> <pad> <pad> <pad> <pad> <pad> <pad> <pad> <pad> <pad> <pad> <pad> <eos>\n",
      "***************************************************\n",
      "Decoded Oscar Wilde: i get them all the time at the mess <pad> <pad> <pad> <pad> <pad> <pad> <pad> <pad> <pad> <pad> <pad> <pad> <pad> <eos>\n",
      "-------------------- Author Oscar Wilde --------------------\n",
      "Real: and himself he loved , and in summer , when the <unk> were still , he would lie by the well in <eos>\n",
      "***************************************************\n",
      "Decoded Friedrich Nietzsche: and himself he loved , and in summer , when the <unk> were still , he would lie by the well in <eos>\n",
      "***************************************************\n",
      "Decoded Ernest Hemingway: and himself he loved , and in summer , when the <unk> were still , he would lie by the well in <eos>\n",
      "***************************************************\n",
      "Decoded Oscar Wilde: and himself he loved , and in summer , when the <unk> were still , he would lie by the well in <eos>\n",
      "\n"
     ]
    },
    {
     "data": {
      "application/vnd.jupyter.widget-view+json": {
       "model_id": "80a18167ab46497997d6a4388f666d91",
       "version_major": 2,
       "version_minor": 0
      },
      "text/plain": [
       "HBox(children=(FloatProgress(value=0.0, max=798.0), HTML(value='')))"
      ]
     },
     "metadata": {},
     "output_type": "display_data"
    },
    {
     "name": "stdout",
     "output_type": "stream",
     "text": [
      "\n",
      "*************************** EPOCH 48 ***************************\n"
     ]
    },
    {
     "data": {
      "application/vnd.jupyter.widget-view+json": {
       "model_id": "5606e75148544a58b28bc90606b1d131",
       "version_major": 2,
       "version_minor": 0
      },
      "text/plain": [
       "HBox(children=(FloatProgress(value=0.0, max=1861.0), HTML(value='')))"
      ]
     },
     "metadata": {},
     "output_type": "display_data"
    },
    {
     "name": "stdout",
     "output_type": "stream",
     "text": [
      "-------------------- Author Friedrich Nietzsche --------------------\n",
      "Real: second stage <unk> in every misfortune or discomfort , man sees a punishment , i <pad> <pad> <pad> <pad> <pad> <pad> <pad> <eos>\n",
      "***************************************************\n",
      "Decoded Friedrich Nietzsche: second stage <unk> in every misfortune or discomfort , man sees a punishment , i <pad> <pad> <pad> <pad> <pad> <pad> <pad> <eos>\n",
      "***************************************************\n",
      "Decoded Ernest Hemingway: second stage <unk> in every conscience or fatigue , man sees a punishment , i <pad> <pad> <pad> <pad> <pad> <pad> <pad> <eos>\n",
      "***************************************************\n",
      "Decoded Oscar Wilde: second stage <unk> in every misfortune or weakness , man sees a punishment , i <pad> <pad> <pad> <pad> <pad> <pad> <pad> <eos>\n",
      "-------------------- Author Ernest Hemingway --------------------\n",
      "Real: when he came in the fight would start <pad> <pad> <pad> <pad> <pad> <pad> <pad> <pad> <pad> <pad> <pad> <pad> <pad> <pad> <eos>\n",
      "***************************************************\n",
      "Decoded Friedrich Nietzsche: when he came in the fight would start <pad> <pad> <pad> <pad> <pad> <pad> <pad> <pad> <pad> <pad> <pad> <pad> <pad> <pad> <eos>\n",
      "***************************************************\n",
      "Decoded Ernest Hemingway: when he came in the fight would start <pad> <pad> <pad> <pad> <pad> <pad> <pad> <pad> <pad> <pad> <pad> <pad> <pad> <pad> <eos>\n",
      "***************************************************\n",
      "Decoded Oscar Wilde: when he came in the fight would start <pad> <pad> <pad> <pad> <pad> <pad> <pad> <pad> <pad> <pad> <pad> <pad> <pad> <pad> <eos>\n",
      "-------------------- Author Oscar Wilde --------------------\n",
      "Real: yet ruled he not long , so great had been his suffering , and so bitter the fire of his <unk> , <eos>\n",
      "***************************************************\n",
      "Decoded Friedrich Nietzsche: yet ruled he not long , so great had been his suffering , and so bitter the fire of his <unk> , <eos>\n",
      "***************************************************\n",
      "Decoded Ernest Hemingway: yet sought he not long , so great had been his suffering , and so bitter the fire of his <unk> , <eos>\n",
      "***************************************************\n",
      "Decoded Oscar Wilde: yet ruled he not long , so great had been his suffering , and so bitter the fire of his <unk> , <eos>\n",
      "\n"
     ]
    },
    {
     "data": {
      "application/vnd.jupyter.widget-view+json": {
       "model_id": "16ef735a08f34c5995396238a0489878",
       "version_major": 2,
       "version_minor": 0
      },
      "text/plain": [
       "HBox(children=(FloatProgress(value=0.0, max=798.0), HTML(value='')))"
      ]
     },
     "metadata": {},
     "output_type": "display_data"
    },
    {
     "name": "stdout",
     "output_type": "stream",
     "text": [
      "\n",
      "*************************** EPOCH 49 ***************************\n"
     ]
    },
    {
     "data": {
      "application/vnd.jupyter.widget-view+json": {
       "model_id": "9013871c63a84cdca7dcf06bf8d15d51",
       "version_major": 2,
       "version_minor": 0
      },
      "text/plain": [
       "HBox(children=(FloatProgress(value=0.0, max=1861.0), HTML(value='')))"
      ]
     },
     "metadata": {},
     "output_type": "display_data"
    },
    {
     "name": "stdout",
     "output_type": "stream",
     "text": [
      "-------------------- Author Friedrich Nietzsche --------------------\n",
      "Real: here we shall ask first of all where that new germ which subsequently developed into tragedy and dramatic <unk> first makes itself <eos>\n",
      "***************************************************\n",
      "Decoded Friedrich Nietzsche: here we shall ask first of all where that new germ which subsequently developed into tragedy and dramatic <unk> first makes itself <eos>\n",
      "***************************************************\n",
      "Decoded Ernest Hemingway: here we shall ask first of all where that new theory which eventually a into tragedy and wyoming <unk> first makes itself <eos>\n",
      "***************************************************\n",
      "Decoded Oscar Wilde: here we shall ask first of all where that new germ which subsequently developed into tragedy and dramatic <unk> first makes itself <eos>\n",
      "-------------------- Author Ernest Hemingway --------------------\n",
      "Real: they stood talking just inside the street door <pad> <pad> <pad> <pad> <pad> <pad> <pad> <pad> <pad> <pad> <pad> <pad> <pad> <pad> <eos>\n",
      "***************************************************\n",
      "Decoded Friedrich Nietzsche: they stood talking just inside the street door <pad> <pad> <pad> <pad> <pad> <pad> <pad> <pad> <pad> <pad> <pad> <pad> <pad> <pad> <eos>\n",
      "***************************************************\n",
      "Decoded Ernest Hemingway: they stood talking just inside the street door <pad> <pad> <pad> <pad> <pad> <pad> <pad> <pad> <pad> <pad> <pad> <pad> <pad> <pad> <eos>\n",
      "***************************************************\n",
      "Decoded Oscar Wilde: they stood talking just inside the street door <pad> <pad> <pad> <pad> <pad> <pad> <pad> <pad> <pad> <pad> <pad> <pad> <pad> <pad> <eos>\n",
      "-------------------- Author Oscar Wilde --------------------\n",
      "Real: the romans <unk> their gods carefully in their order of <unk> , analysed their genealogies in the <unk> spirit of modern <unk> <eos>\n",
      "***************************************************\n",
      "Decoded Friedrich Nietzsche: the romans <unk> their gods carefully in their order of <unk> , posited their genealogical in the <unk> spirit of modern <unk> <eos>\n",
      "***************************************************\n",
      "Decoded Ernest Hemingway: the roman <unk> their gods carefully in their order of <unk> , suggesting their authors in the <unk> came of modern <unk> <eos>\n",
      "***************************************************\n",
      "Decoded Oscar Wilde: the romans <unk> their gods carefully in their order of <unk> , analysed their genealogies in the <unk> spirit of modern <unk> <eos>\n",
      "\n"
     ]
    },
    {
     "data": {
      "application/vnd.jupyter.widget-view+json": {
       "model_id": "028f118d6ce74db8ba555badd913a94a",
       "version_major": 2,
       "version_minor": 0
      },
      "text/plain": [
       "HBox(children=(FloatProgress(value=0.0, max=798.0), HTML(value='')))"
      ]
     },
     "metadata": {},
     "output_type": "display_data"
    },
    {
     "name": "stdout",
     "output_type": "stream",
     "text": [
      "\n"
     ]
    }
   ],
   "source": [
    "# Define steps where examples will be sampled \n",
    "test_dls_its = [ iter(test_dataloaders[idx]) for idx, _ in enumerate(AUTHORS) ]\n",
    "\n",
    "# For EPOCHS\n",
    "for epoch in range(last_epoch + 1, EPOCHS + last_epoch):\n",
    "    \n",
    "    print('*************************** EPOCH {} ***************************'.format(epoch))\n",
    "\n",
    "    # Restart train datasets\n",
    "    train_dls_its = [ iter(train_dataloaders[idx]) for idx, _ in enumerate(AUTHORS) ]\n",
    "    # Get max of dataloaders lengths\n",
    "    total_batches = max([ len(train_dataloaders[idx]) for idx, _ in enumerate(AUTHORS)  ])\n",
    "    # Progress bar for training dataset\n",
    "    progress_bar = tqdm(range(total_batches))\n",
    "    \n",
    "    train_loss = 0\n",
    "\n",
    "    # For all data in training dataset\n",
    "    # Training\n",
    "    for batch_idx in progress_bar:\n",
    "        \n",
    "        # Add train loss to progress bar\n",
    "        progress_bar.set_postfix({\n",
    "            'tr_loss': train_loss / (batch_idx + 1), \n",
    "            'lr': scheduler.get_lr()[0]\n",
    "        })\n",
    "\n",
    "        # Train step\n",
    "        source, target = sample(train_dls_its, train_dataloaders, device)\n",
    "        train_loss += train_step(model, loss_fn, optimizer, source, target)\n",
    "\n",
    "\n",
    "        if batch_idx == 0:\n",
    "            source, target = sample(test_dls_its, test_dataloaders, device)\n",
    "            \n",
    "            for idx, author in enumerate(AUTHORS):\n",
    "                \n",
    "                src = [source[idx]] * len(AUTHORS)\n",
    "                tgt = [target[idx]] * len(AUTHORS)\n",
    "                                \n",
    "                with torch.no_grad():\n",
    "                    _, decodings = val_step(model, loss_fn, src, tgt)\n",
    "                \n",
    "                # Print real sentence\n",
    "                real = vocab.to_words(src[idx][0].cpu().numpy())\n",
    "                print('-------------------- Author {} --------------------'.format(author))\n",
    "                print('Real: {}'.format(' '.join(real)))\n",
    "                \n",
    "                \n",
    "                # Decode and print recovered sentences\n",
    "                for jdx, jauthor in enumerate(AUTHORS):\n",
    "                    decoded_sent = torch.argmax(decodings[jdx][0], dim=-1).cpu().numpy()\n",
    "                    \n",
    "                    print('***************************************************')\n",
    "                    print('Decoded {}: {}'.format(jauthor, ' '.join(vocab.to_words(decoded_sent))))\n",
    "\n",
    "    # Validation\n",
    "    val_dls_its = [ iter(test_dataloaders[idx]) for idx, _ in enumerate(AUTHORS) ]\n",
    "    total_batches = max([ len(test_dataloaders[idx]) for idx, _ in enumerate(AUTHORS)  ])\n",
    "    \n",
    "    # Progress bar for training dataset\n",
    "    progress_bar = tqdm(range(total_batches))\n",
    "    val_loss = 0\n",
    "\n",
    "    for batch_idx in progress_bar:\n",
    "        progress_bar.set_postfix({\n",
    "            'val_loss': val_loss / (batch_idx + 1)\n",
    "        })\n",
    "                \n",
    "        source, target = sample(test_dls_its, test_dataloaders, device)\n",
    "        with torch.no_grad():\n",
    "            val_loss += val_step(model, loss_fn, source, target)[0]\n",
    "    \n",
    "    # Save losses in history\n",
    "    train_loss_history.append(train_loss / len(train_dataloader))\n",
    "    val_loss_history.append(val_loss / len(test_dataloader))\n",
    "    \n",
    "    # If this model is best than other\n",
    "    if best_val_loss is None or val_loss / len(test_dataloader) < best_val_loss:\n",
    "        best_val_loss = val_loss / len(test_dataloader)\n",
    "        \n",
    "        save_model_state(\n",
    "            os.path.join(CHECKPOINT_BASE, 'best.pt'), \n",
    "            model, \n",
    "            optimizer, \n",
    "            epoch, \n",
    "            train_loss_history, \n",
    "            val_loss_history, \n",
    "            best_val_loss\n",
    "        )\n",
    "        \n",
    "    # Save last model\n",
    "    save_model_state(\n",
    "        os.path.join(CHECKPOINT_BASE, 'last.pt'), \n",
    "        model, \n",
    "        optimizer, \n",
    "        epoch, \n",
    "        train_loss_history, \n",
    "        val_loss_history, \n",
    "        best_val_loss\n",
    "    )    \n",
    "    \n",
    "    scheduler.step()    "
   ]
  },
  {
   "cell_type": "code",
   "execution_count": 16,
   "metadata": {},
   "outputs": [
    {
     "data": {
      "image/png": "[encoded data removed]",
      "text/plain": [
       "<Figure size 1080x576 with 1 Axes>"
      ]
     },
     "metadata": {
      "needs_background": "light"
     },
     "output_type": "display_data"
    }
   ],
   "source": [
    "x = [epoch for epoch in range(len(train_loss_history))]\n",
    "plt.figure(figsize=(15, 8))\n",
    "\n",
    "plt.xlabel('Epoch')\n",
    "plt.ylabel('Loss')\n",
    "plt.title('Training and validation loss')\n",
    "\n",
    "plt.plot(x, train_loss_history, label='Training loss')\n",
    "plt.plot(x, val_loss_history, label='Validation loss')\n",
    "\n",
    "plt.legend()\n",
    "\n",
    "plt.show()"
   ]
  },
  {
   "cell_type": "code",
   "execution_count": 17,
   "metadata": {},
   "outputs": [
    {
     "name": "stdout",
     "output_type": "stream",
     "text": [
      "Least validation loss: 6.716292312193389e-05 in epoch 48\n"
     ]
    }
   ],
   "source": [
    "argmin_val = np.argmin(val_loss_history)\n",
    "print('Least validation loss: {} in epoch {}'.format(val_loss_history[argmin_val], argmin_val))"
   ]
  },
  {
   "cell_type": "code",
   "execution_count": null,
   "metadata": {},
   "outputs": [],
   "source": []
  }
 ],
 "metadata": {
  "file_extension": ".py",
  "kernelspec": {
   "display_name": "Python 3",
   "language": "python",
   "name": "python3"
  },
  "language_info": {
   "codemirror_mode": {
    "name": "ipython",
    "version": 3
   },
   "file_extension": ".py",
   "mimetype": "text/x-python",
   "name": "python",
   "nbconvert_exporter": "python",
   "pygments_lexer": "ipython3",
   "version": "3.7.7"
  },
  "mimetype": "text/x-python",
  "name": "python",
  "npconvert_exporter": "python",
  "pygments_lexer": "ipython3",
  "version": 3
 },
 "nbformat": 4,
 "nbformat_minor": 2
}
