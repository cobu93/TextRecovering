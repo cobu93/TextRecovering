{
 "cells": [
  {
   "cell_type": "code",
   "execution_count": 1,
   "metadata": {},
   "outputs": [],
   "source": [
    "import numpy as np \n",
    "import os\n",
    "from tqdm.notebook import tqdm\n",
    "\n",
    "import torch\n",
    "import torch.nn as nn\n",
    "import math\n",
    "from matplotlib import pyplot as plt\n",
    "\n",
    "import sys\n",
    "sys.path.append('../utils')\n",
    "\n",
    "from text.utils import save_text_state, load_text_state, build_text_state, load_books, Vocabulary\n",
    "from model.utils import get_device, load_model_state, save_model_state, build_model_state\n",
    "\n",
    "from multitext_model import MultiTextModel, get_loss_function\n",
    "import torchtext"
   ]
  },
  {
   "cell_type": "markdown",
   "metadata": {},
   "source": [
    "### Verify if CUDA is available"
   ]
  },
  {
   "cell_type": "code",
   "execution_count": 2,
   "metadata": {},
   "outputs": [
    {
     "name": "stdout",
     "output_type": "stream",
     "text": [
      "cuda\n"
     ]
    }
   ],
   "source": [
    "device = get_device()\n",
    "print(device)"
   ]
  },
  {
   "cell_type": "markdown",
   "metadata": {},
   "source": [
    "### Loading word vectors and training/validation dataset"
   ]
  },
  {
   "cell_type": "code",
   "execution_count": 3,
   "metadata": {},
   "outputs": [],
   "source": [
    "LOAD_CHECKPOINTS = True\n",
    "\n",
    "CHECKPOINT_BASE = 'checkpoints'\n",
    "DATASET_FILENAME = '../datasets/books.pk'\n",
    "AUTHORS = ['Friedrich Nietzsche', 'Ernest Hemingway', 'Oscar Wilde']\n",
    "\n",
    "VAL_PARTITION = 0.3 \n",
    "MIN_SENTENCE_LENGTH = 5\n",
    "MAX_SENTENCE_LENGTH = 20\n",
    "BATCH_SIZE = 8\n",
    "\n",
    "VECTORS_LOADED = 40000"
   ]
  },
  {
   "cell_type": "code",
   "execution_count": 4,
   "metadata": {
    "scrolled": true
   },
   "outputs": [
    {
     "name": "stdout",
     "output_type": "stream",
     "text": [
      "No checkpoint found. New partition.\n",
      "Included books:\n",
      "\t Name: The dawn of day   Author: Friedrich Nietzsche\n",
      "\t Name: The antichrist   Author: Friedrich Nietzsche\n",
      "\t Name: We philologists   Author: Friedrich Nietzsche\n",
      "\t Name: Ecce Homo   Author: Friedrich Nietzsche\n",
      "\t Name: Thoughts out of season   Author: Friedrich Nietzsche\n",
      "\t Name: The joyful wisdom   Author: Friedrich Nietzsche\n",
      "\t Name: The will to power   Author: Friedrich Nietzsche\n",
      "\t Name: The birth of tragedy   Author: Friedrich Nietzsche\n",
      "\t Name: Thus spake Zarathustra   Author: Friedrich Nietzsche\n",
      "\t Name: The case of Wagner   Author: Friedrich Nietzsche\n",
      "\t Name: On the future of our educational institutions   Author: Friedrich Nietzsche\n",
      "No checkpoint found. New partition.\n",
      "Included books:\n",
      "\t Name: Winner take nothing   Author: Ernest Hemingway\n",
      "\t Name: Green hills of Africa   Author: Ernest Hemingway\n",
      "\t Name: Across the river and into the trees   Author: Ernest Hemingway\n",
      "\t Name: The sun also rises   Author: Ernest Hemingway\n",
      "\t Name: In our time   Author: Ernest Hemingway\n",
      "\t Name: Men without women   Author: Ernest Hemingway\n",
      "\t Name: The old man of the sea   Author: Ernest Hemingway\n",
      "\t Name: Three stories and ten poems   Author: Ernest Hemingway\n",
      "No checkpoint found. New partition.\n",
      "Included books:\n",
      "\t Name: A house of Pomegranates   Author: Oscar Wilde\n",
      "\t Name: The Canterville ghost   Author: Oscar Wilde\n",
      "\t Name: The happy prince and other tales   Author: Oscar Wilde\n",
      "\t Name: Essays and lectures   Author: Oscar Wilde\n",
      "\t Name: De profundis   Author: Oscar Wilde\n",
      "\t Name: The picture of Dorian Gray   Author: Oscar Wilde\n",
      "\t Name: The soul of man   Author: Oscar Wilde\n"
     ]
    }
   ],
   "source": [
    "vocabs = []\n",
    "train_datasets = []\n",
    "test_datasets = []\n",
    "\n",
    "min_len_train = None\n",
    "min_len_test = None\n",
    "\n",
    "for author in AUTHORS:\n",
    "    # Try loading dataset, if it doesn't exists then creates it\n",
    "    try:\n",
    "        if not LOAD_CHECKPOINTS:\n",
    "            print('New training required')\n",
    "            raise Error('New training required')\n",
    "\n",
    "        vocab, train_dataset, test_dataset = load_text_state(os.path.join(CHECKPOINT_BASE, author + '_text.pk'))    \n",
    "        print('Checkpoint loaded')\n",
    "    except:        \n",
    "        books = load_books(DATASET_FILENAME, author=author)\n",
    "        vocab, train_dataset, test_dataset = build_text_state(books, MIN_SENTENCE_LENGTH, MAX_SENTENCE_LENGTH, VAL_PARTITION, vocab_name=author)  \n",
    "        print('No checkpoint found. New partition.')\n",
    "        print('Included books:')\n",
    "        for book in books:\n",
    "            print('\\t', book)\n",
    "            \n",
    "    \n",
    "    train_datasets.append(train_dataset)\n",
    "    test_datasets.append(test_dataset)\n",
    "    vocabs.append(vocab)"
   ]
  },
  {
   "cell_type": "code",
   "execution_count": 5,
   "metadata": {},
   "outputs": [
    {
     "name": "stdout",
     "output_type": "stream",
     "text": [
      "[['\\ufeff', 'THE', 'YOUNG', 'KING', 'The', 'lad', 'for', 'he', 'was', 'only', 'a', 'lad', ',', 'being', 'but', 'sixteen', 'years', 'of', 'age', 'was', 'not', 'sorry', 'at', 'their', 'departure', ',', 'and', 'had', 'flung', 'himself', 'back', 'with', 'a', 'deep', 'sigh', 'of', 'relief', 'on', 'the', 'soft', 'cushions', 'of', 'his', 'embroidered', 'couch', ',', 'lying', 'there', ',', 'wild', 'eyed', 'and', 'open', 'mouthed', ',', 'like', 'a', 'brown', 'woodland', '<ent>', ',', 'or', 'some', 'young', 'animal', 'of', 'the', 'forest', 'newly', 'snared', 'by', 'the', 'hunters'], ['And', ',', 'indeed', ',', 'it', 'was', 'the', 'hunters', 'who', 'had', 'found', 'him', ',', 'coming', 'upon', 'him', 'almost', 'by', 'chance', 'as', ',', 'bare', 'limbed', 'and', 'pipe', 'in', 'hand', ',', 'he', 'was', 'following', 'the', 'flock', 'of', 'the', 'poor', 'goatherd', 'who', 'had', 'brought', 'him', 'up', ',', 'and', 'whose', 'son', 'he', 'had', 'always', 'fancied', 'himself', 'to', 'be'], ['The', 'child', 'of', 'the', 'old', 'King', \"'\", 'only', 'daughter', 'by', 'a', 'secret', 'marriage', 'with', 'one', 'much', 'beneath', 'her', 'in', 'station', 'a', 'stranger', ',', 'some', 'said', ',', 'who', ',', 'by', 'the', 'wonderful', 'magic', 'of', 'his', 'lute', 'playing', ',', 'had', 'made', 'the', 'young', 'Princess', 'love', 'him'], ['while', 'others', 'spoke', 'of', 'an', 'artist', 'from', 'Rimini', ',', 'to', 'whom', 'the', 'Princess', 'had', 'shown', 'much', ',', 'perhaps', 'too', 'much', 'honour', ',', 'and', 'who', 'had', 'suddenly', 'disappeared', 'from', 'the', 'city', ',', 'leaving', 'his', 'work', 'in', 'the', 'Cathedral', 'unfinished', 'he', 'had', 'been', ',', 'when', 'but', 'a', 'week', 'old', ',', 'stolen', 'away', 'from', 'his', 'mother', \"'\", 's', 'side', ',', 'as', 'she', 'slept', ',', 'and', 'given', 'into', 'the', 'charge', 'of', 'a', 'common', 'peasant', 'and', 'his', 'wife', ',', 'who', 'were', 'without', 'children', 'of', 'their', 'own', ',', 'and', 'lived', 'in', 'a', 'remote', 'part', 'of', 'the', 'forest', ',', 'more', 'than', 'a', 'day', \"'\", 's', 'ride', 'from', 'the', 'town'], ['Grief', ',', 'or', 'the', 'plague', ',', 'as', 'the', 'court', 'physician', 'stated', ',', 'or', ',', 'as', 'some', 'suggested', ',', 'a', 'swift', 'Italian', 'poison', 'administered', 'in', 'a', 'cup', 'of', 'spiced', 'wine', ',', 'slew', ',', 'within', 'an', 'hour', 'of', 'her', 'wakening', ',', 'the', 'white', 'girl', 'who', 'had', 'given', 'him', 'birth', ',', 'and', 'as', 'the', 'trusty', 'messenger', 'who', 'bare', 'the', 'child', 'across', 'his', 'saddle', 'bow', 'stooped', 'from', 'his', 'weary', 'horse', 'and', 'knocked', 'at', 'the', 'rude', 'door', 'of', 'the', 'goatherd', \"'\", 's', 'hut', ',', 'the', 'body', 'of', 'the', 'Princess', 'was', 'being', 'lowered', 'into', 'an', 'open', 'grave', 'that', 'had', 'been', 'dug', 'in', 'a', 'deserted', 'churchyard', ',', 'beyond', 'the', 'city', 'gates', ',', 'a', 'grave', 'where', 'it', 'was', 'said', 'that', 'another', 'body', 'was', 'also', 'lying', ',', 'that', 'of', 'a', 'young', 'man', 'of', 'marvellous', 'and', 'foreign', 'beauty', ',', 'whose', 'hands', 'were', 'tied', 'behind', 'him', 'with', 'a', 'knotted', 'cord', ',', 'and', 'whose', 'breast', 'was', 'stabbed', 'with', 'many', 'red', 'wounds'], ['Such', ',', 'at', 'least', ',', 'was', 'the', 'story', 'that', 'men', 'whispered', 'to', 'each', 'other'], ['Certain', 'it', 'was', 'that', 'the', 'old', 'King', ',', 'when', 'on', 'his', 'deathbed', ',', 'whether', 'moved', 'by', 'remorse', 'for', 'his', 'great', 'sin', ',', 'or', 'merely', 'desiring', 'that', 'the', 'kingdom', 'should', 'not', 'pass', 'away', 'from', 'his', 'line', ',', 'had', 'had', 'the', 'lad', 'sent', 'for', ',', 'and', ',', 'in', 'the', 'presence', 'of', 'the', 'Council', ',', 'had', 'acknowledged', 'him', 'as', 'his', 'heir'], ['And', 'it', 'seems', 'that', 'from', 'the', 'very', 'first', 'moment', 'of', 'his', 'recognition', 'he', 'had', 'shown', 'signs', 'of', 'that', 'strange', 'passion', 'for', 'beauty', 'that', 'was', 'destined', 'to', 'have', 'so', 'great', 'an', 'influence', 'over', 'his', 'life'], ['Those', 'who', 'accompanied', 'him', 'to', 'the', 'suite', 'of', 'rooms', 'set', 'apart', 'for', 'his', 'service', ',', 'often', 'spoke', 'of', 'the', 'cry', 'of', 'pleasure', 'that', 'broke', 'from', 'his', 'lips', 'when', 'he', 'saw', 'the', 'delicate', 'raiment', 'and', 'rich', 'jewels', 'that', 'had', 'been', 'prepared', 'for', 'him', ',', 'and', 'of', 'the', 'almost', 'fierce', 'joy', 'with', 'which', 'he', 'flung', 'aside', 'his', 'rough', 'leathern', 'tunic', 'and', 'coarse', 'sheepskin', 'cloak'], ['He', 'missed', ',', 'indeed', ',', 'at', 'times', 'the', 'fine', 'freedom', 'of', 'his', 'forest', 'life', ',', 'and', 'was', 'always', 'apt', 'to', 'chafe', 'at', 'the', 'tedious', 'Court', 'ceremonies', 'that', 'occupied', 'so', 'much', 'of', 'each', 'day', ',', 'but', 'the', 'wonderful', 'palace', 'Joyeuse', ',', 'as', 'they', 'called', 'it', 'of', 'which', 'he', 'now', 'found', 'himself', 'lord', ',', 'seemed', 'to', 'him', 'to', 'be', 'a', 'new', 'world', 'fresh', 'fashioned', 'for', 'his', 'delight'], ['and', 'as', 'soon', 'as', 'he', 'could', 'escape', 'from', 'the', 'council', 'board', 'or', 'audience', 'chamber', ',', 'he', 'would', 'run', 'down', 'the', 'great', 'staircase', ',', 'with', 'its', 'lions', 'of', 'gilt', 'bronze', 'and', 'its', 'steps', 'of', 'bright', 'porphyry', ',', 'and', 'wander', 'from', 'room', 'to', 'room', ',', 'and', 'from', 'corridor', 'to', 'corridor', ',', 'like', 'one', 'who', 'was', 'seeking', 'to', 'find', 'in', 'beauty', 'an', 'anodyne', 'from', 'pain', ',', 'a', 'sort', 'of', 'restoration', 'from', 'sickness'], ['Upon', 'these', 'journeys', 'of', 'discovery', ',', 'as', 'he', 'would', 'call', 'them', 'and', ',', 'indeed', ',', 'they', 'were', 'to', 'him', 'real', 'voyages', 'through', 'a', 'marvellous', 'land', ',', 'he', 'would', 'sometimes', 'be', 'accompanied', 'by', 'the', 'slim', ',', 'fair', 'haired', 'Court', 'pages', ',', 'with', 'their', 'floating', 'mantles', ',', 'and', 'gay', 'fluttering', 'ribands'], ['but', 'more', 'often', 'he', 'would', 'be', 'alone', ',', 'feeling', 'through', 'a', 'certain', 'quick', 'instinct', ',', 'which', 'was', 'almost', 'a', 'divination', ',', 'that', 'the', 'secrets', 'of', 'art', 'are', 'best', 'learned', 'in', 'secret', ',', 'and', 'that', 'Beauty', ',', 'like', 'Wisdom', ',', 'loves', 'the', 'lonely', 'worshipper'], ['All', 'rare', 'and', 'costly', 'materials', 'had', 'certainly', 'a', 'great', 'fascination', 'for', 'him', ',', 'and', 'in', 'his', 'eagerness', 'to', 'procure', 'them', 'he', 'had', 'sent', 'away', 'many', 'merchants', ',', 'some', 'to', 'traffic', 'for', 'amber', 'with', 'the', 'rough', 'fisher', 'folk', 'of', 'the', 'north', 'seas', ',', 'some', 'to', 'Egypt', 'to', 'look', 'for', 'that', 'curious', 'green', 'turquoise', 'which', 'is', 'found', 'only', 'in', 'the', 'tombs', 'of', 'kings', ',', 'and', 'is', 'said', 'to', 'possess', 'magical', 'properties', ',', 'some', 'to', 'Persia', 'for', 'silken', 'carpets', 'and', 'painted', 'pottery', ',', 'and', 'others', 'to', 'India', 'to', 'buy', 'gauze', 'and', 'stained', 'ivory', ',', 'moonstones', 'and', 'bracelets', 'of', 'jade', ',', 'sandal', 'wood', 'and', 'blue', 'enamel', 'and', 'shawls', 'of', 'fine', 'wool'], ['But', 'what', 'had', 'occupied', 'him', 'most', 'was', 'the', 'robe', 'he', 'was', 'to', 'wear', 'at', 'his', 'coronation', ',', 'the', 'robe', 'of', 'tissued', 'gold', ',', 'and', 'the', 'ruby', 'studded', 'crown', ',', 'and', 'the', 'sceptre', 'with', 'its', 'rows', 'and', 'rings', 'of', 'pearls'], ['Indeed', ',', 'it', 'was', 'of', 'this', 'that', 'he', 'was', 'thinking', 'to', 'night', ',', 'as', 'he', 'lay', 'back', 'on', 'his', 'luxurious', 'couch', ',', 'watching', 'the', 'great', 'pinewood', 'log', 'that', 'was', 'burning', 'itself', 'out', 'on', 'the', 'open', 'hearth'], ['The', 'designs', ',', 'which', 'were', 'from', 'the', 'hands', 'of', 'the', 'most', 'famous', 'artists', 'of', 'the', 'time', ',', 'had', 'been', 'submitted', 'to', 'him', 'many', 'months', 'before', ',', 'and', 'he', 'had', 'given', 'orders', 'that', 'the', 'artificers', 'were', 'to', 'toil', 'night', 'and', 'day', 'to', 'carry', 'them', 'out', ',', 'and', 'that', 'the', 'whole', 'world', 'was', 'to', 'be', 'searched', 'for', 'jewels', 'that', 'would', 'be', 'worthy', 'of', 'their', 'work'], ['He', 'saw', 'himself', 'in', 'fancy', 'standing', 'at', 'the', 'high', 'altar', 'of', 'the', 'cathedral', 'in', 'the', 'fair', 'raiment', 'of', 'a', 'King', ',', 'and', 'a', 'smile', 'played', 'and', 'lingered', 'about', 'his', 'boyish', 'lips', ',', 'and', 'lit', 'up', 'with', 'a', 'bright', 'lustre', 'his', 'dark', 'woodland', 'eyes'], ['After', 'some', 'time', 'he', 'rose', 'from', 'his', 'seat', ',', 'and', 'leaning', 'against', 'the', 'carved', 'penthouse', 'of', 'the', 'chimney', ',', 'looked', 'round', 'at', 'the', 'dimly', 'lit', 'room'], ['The', 'walls', 'were', 'hung', 'with', 'rich', 'tapestries', 'representing', '<ent>', 'A', 'large', 'press', ',', 'inlaid', 'with', 'agate', 'and', 'lapis', 'lazuli', ',', 'filled', 'one', 'corner', ',', 'and', 'facing', 'the', 'window', 'stood', 'a', 'curiously', 'wrought', 'cabinet', 'with', 'lacquer', 'panels', 'of', 'powdered', 'and', 'mosaiced', 'gold', ',', 'on', 'which', 'were', 'placed', 'some', 'delicate', 'goblets', 'of', 'Venetian', 'glass', ',', 'and', 'a', 'cup', 'of', 'dark', 'veined', 'onyx'], ['<ent>', 'poppies', 'were', 'broidered', 'on', 'the', 'silk', 'coverlet', 'of', 'the', 'bed', ',', 'as', 'though', 'they', 'had', 'fallen', 'from', 'the', 'tired', 'hands', 'of', 'sleep', ',', 'and', 'tall', 'reeds', 'of', 'fluted', 'ivory', 'bare', 'up', 'the', 'velvet', 'canopy', ',', 'from', 'which', 'great', 'tufts', 'of', 'ostrich', 'plumes', 'sprang', ',', 'like', 'white', 'foam', ',', 'to', 'the', 'pallid', 'silver', 'of', 'the', 'fretted', 'ceiling'], ['A', 'laughing', '<ent>', 'in', 'green', 'bronze', 'held', 'a', 'polished', 'mirror', 'above', 'its', 'head'], ['On', 'the', 'table', 'stood', 'a', 'flat', 'bowl', 'of', 'amethyst'], ['Outside', 'he', 'could', 'see', 'the', 'huge', 'dome', 'of', 'the', 'cathedral', ',', 'looming', 'like', 'a', 'bubble', 'over', 'the', 'shadowy', 'houses', ',', 'and', 'the', 'weary', 'sentinels', 'pacing', 'up', 'and', 'down', 'on', 'the', 'misty', 'terrace', 'by', 'the', 'river'], ['Far', 'away', ',', 'in', 'an', 'orchard', ',', 'a', 'nightingale', 'was', 'singing'], ['A', 'faint', 'perfume', 'of', 'jasmine', 'came', 'through', 'the', 'open', 'window'], ['He', 'brushed', 'his', 'brown', 'curls', 'back', 'from', 'his', 'forehead', ',', 'and', 'taking', 'up', 'a', 'lute', ',', 'let', 'his', 'fingers', 'stray', 'across', 'the', 'cords'], ['His', 'heavy', 'eyelids', 'drooped', ',', 'and', 'a', 'strange', 'languor', 'came', 'over', 'him'], ['Never', 'before', 'had', 'he', 'felt', 'so', 'keenly', ',', 'or', 'with', 'such', 'exquisite', 'joy', ',', 'the', 'magic', 'and', 'the', 'mystery', 'of', 'beautiful', 'things'], ['When', 'midnight', 'sounded', 'from', 'the', 'clock', 'tower', 'he', 'touched', 'a', 'bell', ',', 'and', 'his', 'pages', 'entered', 'and', 'disrobed', 'him', 'with', 'much', 'ceremony', ',', 'pouring', 'rose', 'water', 'over', 'his', 'hands', ',', 'and', 'strewing', 'flowers', 'on', 'his', 'pillow'], ['A', 'few', 'moments', 'after', 'that', 'they', 'had', 'left', 'the', 'room', ',', 'he', 'fell', 'asleep'], ['And', 'as', 'he', 'slept', 'he', 'dreamed', 'a', 'dream', ',', 'and', 'this', 'was', 'his', 'dream'], ['He', 'thought', 'that', 'he', 'was', 'standing', 'in', 'a', 'long', ',', 'low', 'attic', ',', 'amidst', 'the', 'whir', 'and', 'clatter', 'of', 'many', 'looms'], ['The', 'meagre', 'daylight', 'peered', 'in', 'through', 'the', 'grated', 'windows', ',', 'and', 'showed', 'him', 'the', 'gaunt', 'figures', 'of', 'the', 'weavers', 'bending', 'over', 'their', 'cases'], ['<ent>', ',', 'sickly', 'looking', 'children', 'were', 'crouched', 'on', 'the', 'huge', 'crossbeams'], ['As', 'the', 'shuttles', 'dashed', 'through', 'the', 'warp', 'they', 'lifted', 'up', 'the', 'heavy', 'battens', ',', 'and', 'when', 'the', 'shuttles', 'stopped', 'they', 'let', 'the', 'battens', 'fall', 'and', 'pressed', 'the', 'threads', 'together'], ['Their', 'faces', 'were', 'pinched', 'with', 'famine', ',', 'and', 'their', 'thin', 'hands', 'shook', 'and', 'trembled'], ['Some', 'haggard', 'women', 'were', 'seated', 'at', 'a', 'table', 'sewing'], ['A', 'horrible', 'odour', 'filled', 'the', 'place'], ['The', 'air', 'was', 'foul', 'and', 'heavy', ',', 'and', 'the', 'walls', 'dripped', 'and', 'streamed', 'with', 'damp'], ['The', 'young', 'King', 'went', 'over', 'to', 'one', 'of', 'the', 'weavers', ',', 'and', 'stood', 'by', 'him', 'and', 'watched', 'him'], ['And', 'the', 'weaver', 'looked', 'at', 'him', 'angrily', ',', 'and', 'said', ',', 'Why', 'art', 'thou', 'watching', 'me', '?', 'Art', 'thou', 'a', 'spy', 'set', 'on', 'us', 'by', 'our', 'master', '?', 'Who', 'is', 'thy', 'master', '?', 'asked', 'the', 'young', 'King'], ['Our', 'master', '!', 'EENNTTIITTYYcried', 'the', 'weaver', ',', 'bitterly'], ['He', 'is', 'a', 'man', 'like', 'myself'], ['Indeed', ',', 'there', 'is', 'but', 'this', 'difference', 'between', 'us', 'that', 'he', 'wears', 'fine', 'clothes', 'while', 'I', 'go', 'in', 'rags', ',', 'and', 'that', 'while', 'I', 'am', 'weak', 'from', 'hunger', 'he', 'suffers', 'not', 'a', 'little', 'from', 'overfeeding'], ['The', 'land', 'is', 'free', ',', 'said', 'the', 'young', 'King', ',', 'and', 'thou', 'art', 'no', 'man', \"'\", 's', 'slave'], ['In', 'war', ',', 'answered', 'the', 'weaver', ',', 'the', 'strong', 'make', 'slaves', 'of', 'the', 'weak', ',', 'and', 'in', 'peace', 'the', 'rich', 'make', 'slaves', 'of', 'the', 'poor'], ['We', 'must', 'work', 'to', 'live', ',', 'and', 'they', 'give', 'us', 'such', 'mean', 'wages', 'that', 'we', 'die'], ['We', 'toil', 'for', 'them', 'all', 'day', 'long', ',', 'and', 'they', 'heap', 'up', 'gold', 'in', 'their', 'coffers', ',', 'and', 'our', 'children', 'fade', 'away', 'before', 'their', 'time', ',', 'and', 'the', 'faces', 'of', 'those', 'we', 'love', 'become', 'hard', 'and', 'evil'], ['We', 'tread', 'out', 'the', 'grapes', ',', 'and', 'another', 'drinks', 'the', 'wine'], ['We', 'sow', 'the', 'corn', ',', 'and', 'our', 'own', 'board', 'is', 'empty'], ['We', 'have', 'chains', ',', 'though', 'no', 'eye', 'beholds', 'them'], ['and', 'are', 'slaves', ',', 'though', 'men', 'call', 'us', 'free'], ['Is', 'it', 'so', 'with', 'all', '?', 'he', 'asked', ',', 'It', 'is', 'so', 'with', 'all', ',', 'answered', 'the', 'weaver', ',', 'with', 'the', 'young', 'as', 'well', 'as', 'with', 'the', 'old', ',', 'with', 'the', 'women', 'as', 'well', 'as', 'with', 'the', 'men', ',', 'with', 'the', 'little', 'children', 'as', 'well', 'as', 'with', 'those', 'who', 'are', 'stricken', 'in', 'years'], ['The', 'merchants', 'grind', 'us', 'down', ',', 'and', 'we', 'must', 'needs', 'do', 'their', 'bidding'], ['The', 'priest', 'rides', 'by', 'and', 'tells', 'his', 'beads', ',', 'and', 'no', 'man', 'has', 'care', 'of', 'us'], ['Through', 'our', 'sunless', 'lanes', 'creeps', 'Poverty', 'with', 'her', 'hungry', 'eyes', ',', 'and', '<ent>', 'with', 'his', 'sodden', 'face', 'follows', 'close', 'behind', 'her'], ['Misery', 'wakes', 'us', 'in', 'the', 'morning', ',', 'and', 'Shame', 'sits', 'with', 'us', 'at', 'night'], ['But', 'what', 'are', 'these', 'things', 'to', 'thee', '?', 'Thou', 'art', 'not', 'one', 'of', 'us'], ['Thy', 'face', 'is', 'too', 'happy'], ['And', 'he', 'turned', 'away', 'scowling', ',', 'and', 'threw', 'the', 'shuttle', 'across', 'the', 'loom', ',', 'and', 'the', 'young', 'King', 'saw', 'that', 'it', 'was', 'threaded', 'with', 'a', 'thread', 'of', 'gold'], ['And', 'a', 'great', 'terror', 'seized', 'upon', 'him', ',', 'and', 'he', 'said', 'to', 'the', 'weaver', ',', 'What', 'robe', 'is', 'this', 'that', 'thou', 'art', 'weaving', '?', 'It', 'is', 'the', 'robe', 'for', 'the', 'coronation', 'of', 'the', 'young', 'King', ',', 'he', 'answered'], ['what', 'is', 'that', 'to', 'thee', '?', 'And', 'the', 'young', 'King', 'gave', 'a', 'loud', 'cry', 'and', 'woke', ',', 'and', 'lo', '!', 'he', 'was', 'in', 'his', 'own', 'chamber', ',', 'and', 'through', 'the', 'window', 'he', 'saw', 'the', 'great', 'honey', 'coloured', 'moon', 'hanging', 'in', 'the', 'dusky', 'air'], ['And', 'he', 'fell', 'asleep', 'again', 'and', 'dreamed', ',', 'and', 'this', 'was', 'his', 'dream'], ['He', 'thought', 'that', 'he', 'was', 'lying', 'on', 'the', 'deck', 'of', 'a', 'huge', 'galley', 'that', 'was', 'being', 'rowed', 'by', 'a', 'hundred', 'slaves'], ['On', 'a', 'carpet', 'by', 'his', 'side', 'the', 'master', 'of', 'the', 'galley', 'was', 'seated'], ['He', 'was', 'black', 'as', 'ebony', ',', 'and', 'his', 'turban', 'was', 'of', 'crimson', 'silk'], ['Great', 'earrings', 'of', 'silver', 'dragged', 'down', 'the', 'thick', 'lobes', 'of', 'his', 'ears', ',', 'and', 'in', 'his', 'hands', 'he', 'had', 'a', 'pair', 'of', 'ivory', 'scales'], ['The', 'slaves', 'were', 'naked', ',', 'but', 'for', 'a', 'ragged', 'loin', 'cloth', ',', 'and', 'each', 'man', 'was', 'chained', 'to', 'his', 'neighbour'], ['The', 'hot', 'sun', 'beat', 'brightly', 'upon', 'them', ',', 'and', 'the', 'negroes', 'ran', 'up', 'and', 'down', 'the', 'gangway', 'and', 'lashed', 'them', 'with', 'whips', 'of', 'hide'], ['They', 'stretched', 'out', 'their', 'lean', 'arms', 'and', 'pulled', 'the', 'heavy', 'oars', 'through', 'the', 'water'], ['The', 'salt', 'spray', 'flew', 'from', 'the', 'blades'], ['At', 'last', 'they', 'reached', 'a', 'little', 'bay', ',', 'and', 'began', 'to', 'take', 'soundings'], ['A', 'light', 'wind', 'blew', 'from', 'the', 'shore', ',', 'and', 'covered', 'the', 'deck', 'and', 'the', 'great', 'lateen', 'sail', 'with', 'a', 'fine', 'red', 'dust'], ['Three', 'Arabs', 'mounted', 'on', 'wild', 'asses', 'rode', 'out', 'and', 'threw', 'spears', 'at', 'them'], ['The', 'master', 'of', 'the', 'galley', 'took', 'a', 'painted', 'bow', 'in', 'his', 'hand', 'and', 'shot', 'one', 'of', 'them', 'in', 'the', 'throat'], ['He', 'fell', 'heavily', 'into', 'the', 'surf', ',', 'and', 'his', 'companions', 'galloped', 'away'], ['A', 'woman', 'wrapped', 'in', 'a', 'yellow', 'veil', 'followed', 'slowly', 'on', 'a', 'camel', ',', 'looking', 'back', 'now', 'and', 'then', 'at', 'the', 'dead', 'body'], ['As', 'soon', 'as', 'they', 'had', 'cast', 'anchor', 'and', 'hauled', 'down', 'the', 'sail', ',', 'the', 'negroes', 'went', 'into', 'the', 'hold', 'and', 'brought', 'up', 'a', 'long', 'rope', 'ladder', ',', 'heavily', 'weighted', 'with', 'lead'], ['The', 'master', 'of', 'the', 'galley', 'threw', 'it', 'over', 'the', 'side', ',', 'making', 'the', 'ends', 'fast', 'to', 'two', 'iron', 'stanchions'], ['Then', 'the', 'negroes', 'seized', 'the', 'youngest', 'of', 'the', 'slaves', 'and', 'knocked', 'his', 'gyves', 'off', ',', 'and', 'filled', 'his', 'nostrils', 'and', 'his', 'ears', 'with', 'wax', ',', 'and', 'tied', 'a', 'big', 'stone', 'round', 'his', 'waist'], ['He', 'crept', 'wearily', 'down', 'the', 'ladder', ',', 'and', 'disappeared', 'into', 'the', 'sea'], ['A', 'few', 'bubbles', 'rose', 'where', 'he', 'sank'], ['Some', 'of', 'the', 'other', 'slaves', 'peered', 'curiously', 'over', 'the', 'side'], ['At', 'the', 'prow', 'of', 'the', 'galley', 'sat', 'a', 'shark', 'charmer', ',', 'beating', 'monotonously', 'upon', 'a', 'drum'], ['After', 'some', 'time', 'the', 'diver', 'rose', 'up', 'out', 'of', 'the', 'water', ',', 'and', 'clung', 'panting', 'to', 'the', 'ladder', 'with', 'a', 'pearl', 'in', 'his', 'right', 'hand'], ['The', 'negroes', 'seized', 'it', 'from', 'him', ',', 'and', 'thrust', 'him', 'back'], ['The', 'slaves', 'fell', 'asleep', 'over', 'their', 'oars'], ['Again', 'and', 'again', 'he', 'came', 'up', ',', 'and', 'each', 'time', 'that', 'he', 'did', 'so', 'he', 'brought', 'with', 'him', 'a', 'beautiful', 'pearl'], ['The', 'master', 'of', 'the', 'galley', 'weighed', 'them', ',', 'and', 'put', 'them', 'into', 'a', 'little', 'bag', 'of', 'green', 'leather'], ['The', 'young', 'King', 'tried', 'to', 'speak', ',', 'but', 'his', 'tongue', 'seemed', 'to', 'cleave', 'to', 'the', 'roof', 'of', 'his', 'mouth', ',', 'and', 'his', 'lips', 'refused', 'to', 'move'], ['The', 'negroes', 'chattered', 'to', 'each', 'other', ',', 'and', 'began', 'to', 'quarrel', 'over', 'a', 'string', 'of', 'bright', 'beads'], ['Two', 'cranes', 'flew', 'round', 'and', 'round', 'the', 'vessel'], ['Then', 'the', 'diver', 'came', 'up', 'for', 'the', 'last', 'time', ',', 'and', 'the', 'pearl', 'that', 'he', 'brought', 'with', 'him', 'was', 'fairer', 'than', 'all', 'the', 'pearls', 'of', 'Ormuz', ',', 'for', 'it', 'was', 'shaped', 'like', 'the', 'full', 'moon', ',', 'and', 'whiter', 'than', 'the', 'morning', 'star'], ['But', 'his', 'face', 'was', 'strangely', 'pale', ',', 'and', 'as', 'he', 'fell', 'upon', 'the', 'deck', 'the', 'blood', 'gushed', 'from', 'his', 'ears', 'and', 'nostrils'], ['He', 'quivered', 'for', 'a', 'little', ',', 'and', 'then', 'he', 'was', 'still'], ['The', 'negroes', 'shrugged', 'their', 'shoulders', ',', 'and', 'threw', 'the', 'body', 'overboard'], ['And', 'the', 'master', 'of', 'the', 'galley', 'laughed', ',', 'and', ',', 'reaching', 'out', ',', 'he', 'took', 'the', 'pearl', ',', 'and', 'when', 'he', 'saw', 'it', 'he', 'pressed', 'it', 'to', 'his', 'forehead', 'and', 'bowed'], ['It', 'shall', 'be', ',', 'he', 'said', ',', 'for', 'the', 'sceptre', 'of', 'the', 'young', 'King', ',', 'and', 'he', 'made', 'a', 'sign', 'to', 'the', 'negroes', 'to', 'draw', 'up', 'the', 'anchor'], ['And', 'when', 'the', 'young', 'King', 'heard', 'this', 'he', 'gave', 'a', 'great', 'cry', ',', 'and', 'woke', ',', 'and', 'through', 'the', 'window', 'he', 'saw', 'the', 'long', 'grey', 'fingers', 'of', 'the', 'dawn', 'clutching', 'at', 'the', 'fading', 'stars']]\n"
     ]
    }
   ],
   "source": [
    "print(books[0].content[:100])"
   ]
  },
  {
   "cell_type": "code",
   "execution_count": 6,
   "metadata": {},
   "outputs": [],
   "source": [
    "for idx, author in enumerate(AUTHORS):\n",
    "    save_text_state(\n",
    "        os.path.join(CHECKPOINT_BASE, author + '_text.pk'), \n",
    "        vocabs[idx], \n",
    "        train_datasets[idx], \n",
    "        test_datasets[idx]\n",
    "    ) "
   ]
  },
  {
   "cell_type": "code",
   "execution_count": 7,
   "metadata": {},
   "outputs": [],
   "source": [
    "# Build full vocab\n",
    "vocab = Vocabulary('Multitext')\n",
    "fasttext = torchtext.vocab.FastText(language='en', max_vectors=VECTORS_LOADED - len(vocab), cache='../.vector_cache')\n",
    "\n",
    "for word in fasttext.stoi.keys():\n",
    "    vocab.add_word(word)        "
   ]
  },
  {
   "cell_type": "code",
   "execution_count": 8,
   "metadata": {},
   "outputs": [
    {
     "name": "stdout",
     "output_type": "stream",
     "text": [
      "1542 661\n",
      "1814 778\n",
      "847 363\n"
     ]
    }
   ],
   "source": [
    "# Map all datasets to new indices\n",
    "train_dataloaders = []\n",
    "test_dataloaders = []\n",
    "\n",
    "for train_dataset, test_dataset in zip(train_datasets, test_datasets):\n",
    "    train_dataset.change_vocab(vocab)\n",
    "    test_dataset.change_vocab(vocab)\n",
    "    \n",
    "    train_dataloader = torch.utils.data.DataLoader(train_dataset, batch_size=BATCH_SIZE, shuffle=True)\n",
    "    train_dataloaders.append(train_dataloader)\n",
    "    \n",
    "    test_dataloader = torch.utils.data.DataLoader(test_dataset, batch_size=BATCH_SIZE, shuffle=True)\n",
    "    test_dataloaders.append(test_dataloader)\n",
    "    \n",
    "    print(len(train_dataloader), len(test_dataloader))"
   ]
  },
  {
   "cell_type": "markdown",
   "metadata": {},
   "source": [
    "### Loading components"
   ]
  },
  {
   "cell_type": "code",
   "execution_count": 9,
   "metadata": {},
   "outputs": [],
   "source": [
    "VOCAB_SIZE = len(vocab)\n",
    "\n",
    "LEARNING_RATE = 1e-4\n",
    "BETA_1 = 0.9\n",
    "BETA_2 = 0.999\n",
    "EPOCHS = 50\n",
    "NUM_HEADS = 15\n",
    "ENCODER_LAYERS = 2\n",
    "DECODER_LAYERS = 1\n",
    "EMBEDDING_SIZE = 512\n",
    "FF_DIM = 1024\n",
    "DROPOUT=0.2\n",
    "STEP_LR_DECAY = 15\n",
    "LR_FACTOR_DECAY = 0.7"
   ]
  },
  {
   "cell_type": "code",
   "execution_count": 10,
   "metadata": {},
   "outputs": [
    {
     "name": "stdout",
     "output_type": "stream",
     "text": [
      "<class 'torch.Tensor'>\n"
     ]
    }
   ],
   "source": [
    "print(type(fasttext.vectors))"
   ]
  },
  {
   "cell_type": "code",
   "execution_count": 11,
   "metadata": {},
   "outputs": [],
   "source": [
    "model = MultiTextModel(\n",
    "    authors = AUTHORS,\n",
    "    vocab_size=VOCAB_SIZE,\n",
    "    embedding_size=fasttext.dim, \n",
    "    #embedding_size=EMBEDDING_SIZE, \n",
    "    num_heads=NUM_HEADS, \n",
    "    encoder_layers=ENCODER_LAYERS, \n",
    "    decoder_layers=DECODER_LAYERS, \n",
    "    dim_feedforward=FF_DIM,\n",
    "    dropout=DROPOUT\n",
    ")\n",
    "\n",
    "\n",
    "if fasttext.vectors.size()[0] < VECTORS_LOADED:\n",
    "    vectors = torch.normal(0, 0.1, size=(VECTORS_LOADED - fasttext.vectors.size()[0], fasttext.dim))\n",
    "    vectors = torch.cat([vectors, fasttext.vectors], dim=0)\n",
    "else:\n",
    "    vectors = fasttext.vectors\n",
    "\n",
    "model.embedding.weight.data.copy_(vectors)\n",
    "\n",
    "\n",
    "optimizer = torch.optim.Adam(\n",
    "    model.parameters(), \n",
    "    lr=LEARNING_RATE,\n",
    "    betas=(BETA_1, BETA_2)\n",
    ")\n",
    "    \n",
    "loss_fn = get_loss_function(len(AUTHORS))\n",
    "scheduler = torch.optim.lr_scheduler.StepLR(optimizer, step_size=STEP_LR_DECAY, gamma=LR_FACTOR_DECAY)"
   ]
  },
  {
   "cell_type": "code",
   "execution_count": 12,
   "metadata": {},
   "outputs": [
    {
     "name": "stdout",
     "output_type": "stream",
     "text": [
      "No checkpoints found. New training.\n"
     ]
    }
   ],
   "source": [
    "try:\n",
    "    if not LOAD_CHECKPOINTS:\n",
    "        print('New training required')\n",
    "        raise Error('New training required')\n",
    "        \n",
    "    model, optimizer, last_epoch, train_loss_history, val_loss_history, best_val_loss = load_model_state(\n",
    "        os.path.join(CHECKPOINT_BASE, 'best.pt'), \n",
    "        model, \n",
    "        optimizer\n",
    "    )\n",
    "    \n",
    "    for state in optimizer.state.values():\n",
    "        for k, v in state.items():\n",
    "            if isinstance(v, torch.Tensor):\n",
    "                state[k] = v.to(device)\n",
    "\n",
    "    print('Checkpoint loaded')\n",
    "    \n",
    "except:\n",
    "    last_epoch, train_loss_history, val_loss_history, best_val_loss, _, _, _ = build_model_state()\n",
    "    print('No checkpoints found. New training.')\n",
    "    pass\n",
    "\n",
    "model = model.to(device)\n"
   ]
  },
  {
   "cell_type": "markdown",
   "metadata": {},
   "source": [
    "### Training and validation"
   ]
  },
  {
   "cell_type": "code",
   "execution_count": 13,
   "metadata": {},
   "outputs": [],
   "source": [
    "def train_step(transformer, loss_fn, optimizer, source, target):\n",
    "    transformer.train()\n",
    "\n",
    "    transformer.zero_grad()\n",
    "    optimizer.zero_grad()\n",
    "\n",
    "    decodings = transformer(source, target)\n",
    "    \n",
    "    loss = loss_fn(source, decodings)\n",
    "    loss.backward()      \n",
    "    optimizer.step()\n",
    "    return loss.item()    "
   ]
  },
  {
   "cell_type": "code",
   "execution_count": 14,
   "metadata": {},
   "outputs": [],
   "source": [
    "def val_step(transformer, loss_fn, source, target):\n",
    "    transformer.eval()\n",
    "    \n",
    "    with torch.no_grad():\n",
    "        decodings = transformer(source, target)\n",
    "        loss = loss_fn(source, decodings)\n",
    "\n",
    "        return loss.item(), decodings"
   ]
  },
  {
   "cell_type": "code",
   "execution_count": 15,
   "metadata": {},
   "outputs": [],
   "source": [
    "def sample(iterators, dataloaders, device):\n",
    "    source = []\n",
    "    target = []\n",
    "    for idx, it in enumerate(iterators):\n",
    "        try:\n",
    "            example = next(it).to(device)\n",
    "        except:\n",
    "            iterators[idx] = iter(dataloaders[idx])\n",
    "            example = next(iterators[idx]).to(device)\n",
    "            \n",
    "        source.append(example[:, 1:])\n",
    "        target.append(example[:, :-1])\n",
    "    return source, target"
   ]
  },
  {
   "cell_type": "code",
   "execution_count": 16,
   "metadata": {
    "scrolled": true,
    "tags": [
     "outputPrepend"
    ]
   },
   "outputs": [
    {
     "name": "stdout",
     "output_type": "stream",
     "text": [
      "*************************** EPOCH 1 ***************************\n"
     ]
    },
    {
     "data": {
      "application/vnd.jupyter.widget-view+json": {
       "model_id": "8652e45847d24e68a74baef89f0fe320",
       "version_major": 2,
       "version_minor": 0
      },
      "text/plain": [
       "HBox(children=(FloatProgress(value=0.0, max=1814.0), HTML(value='')))"
      ]
     },
     "metadata": {},
     "output_type": "display_data"
    },
    {
     "name": "stdout",
     "output_type": "stream",
     "text": [
      "-------------------- Author Friedrich Nietzsche --------------------\n",
      "Real: they strive after it , and have the <unk> scent for all those positions in which precisely they themselves can <eos>\n",
      "***************************************************\n",
      "Decoded Friedrich Nietzsche: mitre mitre amo decimated decimated grenadiers grenadiers grenadiers aren aren trimble aren exposing hull grenadiers desc grenadiers dot trimble wenceslaus wenceslaus\n",
      "***************************************************\n",
      "Decoded Ernest Hemingway: r_ r_ ibaraki stefani stefani stefani príncipe twisted twisted twisted twisted redeveloped cima cima deeds anselmo twisted barbara redeveloped redeveloped beggars\n",
      "***************************************************\n",
      "Decoded Oscar Wilde: koh addington digestion saxophones saxophones positional positional positional positional <pad> <pad> <pad> lied lied seeded brendon brendon brendon brendon xc xc\n",
      "-------------------- Author Ernest Hemingway --------------------\n",
      "Real: you will <unk> that it is by mr <ent> that i was nominated for membership <pad> <pad> <pad> <pad> <pad> <eos>\n",
      "***************************************************\n",
      "Decoded Friedrich Nietzsche: mitre mi mitre grenadiers grenadiers decimated aren grenadiers monet aren aren aren aren júnior storylines storylines desc dot dot wildcards converse\n",
      "***************************************************\n",
      "Decoded Ernest Hemingway: r_ farmers blond ibaraki stefani stefani beggars príncipe ugandan ugandan ugandan cima redeveloped deeds redeveloped anselmo twisted redeveloped redeveloped redeveloped redeveloped\n",
      "***************************************************\n",
      "Decoded Oscar Wilde: koh reclamation saxophones saxophones saxophones xc xc positional c% <pad> <pad> tranmere lied extraordinary positional xc brendon brendon brendon brendon xc\n",
      "-------------------- Author Oscar Wilde --------------------\n",
      "Real: the other kept <unk> <unk> <unk> , which he took with an affected gesture out of an oval box of <eos>\n",
      "***************************************************\n",
      "Decoded Friedrich Nietzsche: mitre banners mitre keyboardists apparitions grenadiers grenadiers grenadiers grenadiers aren aren aren storylines hull bushnell dowager dowager dominick hull wenceslaus wenceslaus\n",
      "***************************************************\n",
      "Decoded Ernest Hemingway: r_ r_ ibaraki ibaraki ibaraki ibaraki twisted killian killian ugandan ugandan redeveloped redeveloped redeveloped deeds barbara twisted redeveloped redeveloped redeveloped redeveloped\n",
      "***************************************************\n",
      "Decoded Oscar Wilde: koh reclamation addington saxophones saxophones saxophones positional positional positional <pad> <pad> <pad> saxophones smuggling xc seeded brendon xc brendon xc xc\n",
      "\n"
     ]
    },
    {
     "data": {
      "application/vnd.jupyter.widget-view+json": {
       "model_id": "880846067d8945449985ba2996a053d5",
       "version_major": 2,
       "version_minor": 0
      },
      "text/plain": [
       "HBox(children=(FloatProgress(value=0.0, max=778.0), HTML(value='')))"
      ]
     },
     "metadata": {},
     "output_type": "display_data"
    },
    {
     "name": "stdout",
     "output_type": "stream",
     "text": [
      "\n",
      "*************************** EPOCH 2 ***************************\n"
     ]
    },
    {
     "data": {
      "application/vnd.jupyter.widget-view+json": {
       "model_id": "3554eef250bb4fa2a9b270b86efae7f8",
       "version_major": 2,
       "version_minor": 0
      },
      "text/plain": [
       "HBox(children=(FloatProgress(value=0.0, max=1814.0), HTML(value='')))"
      ]
     },
     "metadata": {},
     "output_type": "display_data"
    },
    {
     "name": "stdout",
     "output_type": "stream",
     "text": [
      "-------------------- Author Friedrich Nietzsche --------------------\n",
      "Real: let it be very justice for the world to become full of the storms of our vengeance thus do they <eos>\n",
      "***************************************************\n",
      "Decoded Friedrich Nietzsche: we it not be men for the man to be our of the man of our man to not to <eos>\n",
      "***************************************************\n",
      "Decoded Ernest Hemingway: you it have a up to the colonel to to his of the colonel of a man to you we <eos>\n",
      "***************************************************\n",
      "Decoded Oscar Wilde: you it have a with to the great to him with of the great of him him to you that <eos>\n",
      "-------------------- Author Ernest Hemingway --------------------\n",
      "Real: that was nothing , <ent> said <pad> <pad> <pad> <pad> <pad> <pad> <pad> <pad> <pad> <pad> <pad> <pad> <pad> <pad> <eos>\n",
      "***************************************************\n",
      "Decoded Friedrich Nietzsche: that is not , <unk> i <pad> <pad> <pad> <pad> <pad> <pad> <pad> <pad> <pad> <pad> <pad> <pad> <pad> <pad> <eos>\n",
      "***************************************************\n",
      "Decoded Ernest Hemingway: it was not , <ent> said <pad> <pad> <pad> <pad> <pad> <pad> <pad> <pad> <pad> <pad> <pad> <pad> <pad> <pad> <eos>\n",
      "***************************************************\n",
      "Decoded Oscar Wilde: there was not , <ent> ? <pad> <pad> <pad> <pad> <pad> <pad> <pad> <pad> <pad> <pad> <pad> <pad> <pad> <pad> <eos>\n",
      "-------------------- Author Oscar Wilde --------------------\n",
      "Real: i believe my house is somewhere about here , but i don ' t feel at all certain about it <eos>\n",
      "***************************************************\n",
      "Decoded Friedrich Nietzsche: i be we man is be that that , but i i it not be for to to be it <eos>\n",
      "***************************************************\n",
      "Decoded Ernest Hemingway: i have you man it good to you , he i don ' t have to to to to it <eos>\n",
      "***************************************************\n",
      "Decoded Oscar Wilde: i have you great is be that you , but i you ' t you in to to that it <eos>\n",
      "\n"
     ]
    },
    {
     "data": {
      "application/vnd.jupyter.widget-view+json": {
       "model_id": "649a26f90c1541cc946bb2bb93aad854",
       "version_major": 2,
       "version_minor": 0
      },
      "text/plain": [
       "HBox(children=(FloatProgress(value=0.0, max=778.0), HTML(value='')))"
      ]
     },
     "metadata": {},
     "output_type": "display_data"
    },
    {
     "name": "stdout",
     "output_type": "stream",
     "text": [
      "\n",
      "*************************** EPOCH 3 ***************************\n"
     ]
    },
    {
     "data": {
      "application/vnd.jupyter.widget-view+json": {
       "model_id": "5036af3cf50b44369243a8fce28b1795",
       "version_major": 2,
       "version_minor": 0
      },
      "text/plain": [
       "HBox(children=(FloatProgress(value=0.0, max=1814.0), HTML(value='')))"
      ]
     },
     "metadata": {},
     "output_type": "display_data"
    },
    {
     "name": "stdout",
     "output_type": "stream",
     "text": [
      "-------------------- Author Friedrich Nietzsche --------------------\n",
      "Real: it is true that man can only become man by first <unk> this <unk> element in his thoughts , comparisons <eos>\n",
      "***************************************************\n",
      "Decoded Friedrich Nietzsche: it is true that man can only been man by first <unk> this <unk> means in his truth , regard <eos>\n",
      "***************************************************\n",
      "Decoded Ernest Hemingway: it is good that man can only been man by old <unk> this <unk> good in his things , drink <eos>\n",
      "***************************************************\n",
      "Decoded Oscar Wilde: it is nothing that man can only been man by was <unk> this <unk> quite in his things , those <eos>\n",
      "-------------------- Author Ernest Hemingway --------------------\n",
      "Real: if he lived in <unk> country , he could <pad> <pad> <pad> <pad> <pad> <pad> <pad> <pad> <pad> <pad> <pad> <eos>\n",
      "***************************************************\n",
      "Decoded Friedrich Nietzsche: if he long in <unk> life , he would <pad> <pad> <pad> <pad> <pad> <pad> <pad> <pad> <pad> <pad> <pad> <eos>\n",
      "***************************************************\n",
      "Decoded Ernest Hemingway: if he looked in <unk> people , he could <pad> <pad> <pad> <pad> <pad> <pad> <pad> <pad> <pad> <pad> <pad> <eos>\n",
      "***************************************************\n",
      "Decoded Oscar Wilde: if he saw in <unk> life , he could <pad> <pad> <pad> <pad> <pad> <pad> <pad> <pad> <pad> <pad> <pad> <eos>\n",
      "-------------------- Author Oscar Wilde --------------------\n",
      "Real: the dove , which is the bird of christ , flew straight to the city of rome and the new <eos>\n",
      "***************************************************\n",
      "Decoded Friedrich Nietzsche: the art , which is the nature of art , again against to the first of wagner and the new <eos>\n",
      "***************************************************\n",
      "Decoded Ernest Hemingway: the fish , all is the fish of pop , night down to the bull of shot and the bull <eos>\n",
      "***************************************************\n",
      "Decoded Oscar Wilde: the beautiful , which is the beautiful of lord , away away to the city of day and the by <eos>\n",
      "\n"
     ]
    },
    {
     "data": {
      "application/vnd.jupyter.widget-view+json": {
       "model_id": "ce0ac1d45667425bb1ef5668591db4ae",
       "version_major": 2,
       "version_minor": 0
      },
      "text/plain": [
       "HBox(children=(FloatProgress(value=0.0, max=778.0), HTML(value='')))"
      ]
     },
     "metadata": {},
     "output_type": "display_data"
    },
    {
     "name": "stdout",
     "output_type": "stream",
     "text": [
      "\n",
      "*************************** EPOCH 4 ***************************\n"
     ]
    },
    {
     "data": {
      "application/vnd.jupyter.widget-view+json": {
       "model_id": "1a5d34e225f144d59f871292d1bdc47b",
       "version_major": 2,
       "version_minor": 0
      },
      "text/plain": [
       "HBox(children=(FloatProgress(value=0.0, max=1814.0), HTML(value='')))"
      ]
     },
     "metadata": {},
     "output_type": "display_data"
    },
    {
     "name": "stdout",
     "output_type": "stream",
     "text": [
      "-------------------- Author Friedrich Nietzsche --------------------\n",
      "Real: but the counter impulses are still so powerful that one can really speak of the future of mankind with little <eos>\n",
      "***************************************************\n",
      "Decoded Friedrich Nietzsche: but the germans self are still so whose that one can really speak of the future of mankind with little <eos>\n",
      "***************************************************\n",
      "Decoded Ernest Hemingway: but the money things are still so american that one can really asked of the fish of your with little <eos>\n",
      "***************************************************\n",
      "Decoded Oscar Wilde: but the conditions themselves are still so whose that one can really happy of the fact of life with little <eos>\n",
      "-------------------- Author Ernest Hemingway --------------------\n",
      "Real: i was studying them , too excited to be happy as i watched them , when i heard m ' <eos>\n",
      "***************************************************\n",
      "Decoded Friedrich Nietzsche: i was however them , too speak to be speak as i brought them , when i heard now ' <eos>\n",
      "***************************************************\n",
      "Decoded Ernest Hemingway: i was waiter them , too look to be better as i watched them , when i heard m ' <eos>\n",
      "***************************************************\n",
      "Decoded Oscar Wilde: i was mr them , too care to be happy as i brought them , when i heard now ' <eos>\n",
      "-------------------- Author Oscar Wilde --------------------\n",
      "Real: and how did <ent> describe this wonderful young man ? asked his companion <pad> <pad> <pad> <pad> <pad> <pad> <pad> <eos>\n",
      "***************************************************\n",
      "Decoded Friedrich Nietzsche: and how did <ent> precisely this feeling who man ? again his philosopher <pad> <pad> <pad> <pad> <pad> <pad> <pad> <eos>\n",
      "***************************************************\n",
      "Decoded Ernest Hemingway: and how did <ent> used this wonderful who man ? asked his room <pad> <pad> <pad> <pad> <pad> <pad> <pad> <eos>\n",
      "***************************************************\n",
      "Decoded Oscar Wilde: and how did <ent> merely this wonderful young man ? asked his room <pad> <pad> <pad> <pad> <pad> <pad> <pad> <eos>\n",
      "\n"
     ]
    },
    {
     "data": {
      "application/vnd.jupyter.widget-view+json": {
       "model_id": "ac7c7229238542c78e4d32b071cad6e2",
       "version_major": 2,
       "version_minor": 0
      },
      "text/plain": [
       "HBox(children=(FloatProgress(value=0.0, max=778.0), HTML(value='')))"
      ]
     },
     "metadata": {},
     "output_type": "display_data"
    },
    {
     "name": "stdout",
     "output_type": "stream",
     "text": [
      "\n",
      "*************************** EPOCH 5 ***************************\n"
     ]
    },
    {
     "data": {
      "application/vnd.jupyter.widget-view+json": {
       "model_id": "96208383e1a845599b103e02b8c302cb",
       "version_major": 2,
       "version_minor": 0
      },
      "text/plain": [
       "HBox(children=(FloatProgress(value=0.0, max=1814.0), HTML(value='')))"
      ]
     },
     "metadata": {},
     "output_type": "display_data"
    },
    {
     "name": "stdout",
     "output_type": "stream",
     "text": [
      "-------------------- Author Friedrich Nietzsche --------------------\n",
      "Real: we should probably support the development and the <unk> of democratic tendencies <pad> <pad> <pad> <pad> <pad> <pad> <pad> <pad> <eos>\n",
      "***************************************************\n",
      "Decoded Friedrich Nietzsche: we should still deal the development and the <unk> of general philosophers <pad> <pad> <pad> <pad> <pad> <pad> <pad> <pad> <eos>\n",
      "***************************************************\n",
      "Decoded Ernest Hemingway: we should probably start the new and the <unk> of sir blood <pad> <pad> <pad> <pad> <pad> <pad> <pad> <pad> <eos>\n",
      "***************************************************\n",
      "Decoded Oscar Wilde: we should still bear the development and the <unk> of herodotus sympathy <pad> <pad> <pad> <pad> <pad> <pad> <pad> <pad> <eos>\n",
      "-------------------- Author Ernest Hemingway --------------------\n",
      "Real: one time a fellow comes here came to me and said he wanted me to cook them a big supper <eos>\n",
      "***************************************************\n",
      "Decoded Friedrich Nietzsche: one time a friends comes here came to me and said he wanted me to neighbour them a single dream <eos>\n",
      "***************************************************\n",
      "Decoded Ernest Hemingway: one time a wife comes here came to me and said he wanted me to morrow them a big paris <eos>\n",
      "***************************************************\n",
      "Decoded Oscar Wilde: one time a wife comes here came to me and said he told me to dance them a big mad <eos>\n",
      "-------------------- Author Oscar Wilde --------------------\n",
      "Real: he then <unk> to notice how all this <unk> from the general <unk> to marriage and to bearing the expense <eos>\n",
      "***************************************************\n",
      "Decoded Friedrich Nietzsche: he then <unk> to seek how all this <unk> from the general <unk> to death and to institutions the rights <eos>\n",
      "***************************************************\n",
      "Decoded Ernest Hemingway: he then <unk> to talk how all this <unk> from the general <unk> to english and to standing the making <eos>\n",
      "***************************************************\n",
      "Decoded Oscar Wilde: he then <unk> to ask how all this <unk> from the general <unk> to death and to low the huge <eos>\n",
      "\n"
     ]
    },
    {
     "data": {
      "application/vnd.jupyter.widget-view+json": {
       "model_id": "2bf544a8792c42c8a79fbab425862b2d",
       "version_major": 2,
       "version_minor": 0
      },
      "text/plain": [
       "HBox(children=(FloatProgress(value=0.0, max=778.0), HTML(value='')))"
      ]
     },
     "metadata": {},
     "output_type": "display_data"
    },
    {
     "name": "stdout",
     "output_type": "stream",
     "text": [
      "\n",
      "*************************** EPOCH 6 ***************************\n"
     ]
    },
    {
     "data": {
      "application/vnd.jupyter.widget-view+json": {
       "model_id": "ba5018eb68094d8f8c271b24730137ee",
       "version_major": 2,
       "version_minor": 0
      },
      "text/plain": [
       "HBox(children=(FloatProgress(value=0.0, max=1814.0), HTML(value='')))"
      ]
     },
     "metadata": {},
     "output_type": "display_data"
    },
    {
     "name": "stdout",
     "output_type": "stream",
     "text": [
      "-------------------- Author Friedrich Nietzsche --------------------\n",
      "Real: they justify even a certain want of education for which we must make <unk> owing to their country and the <eos>\n",
      "***************************************************\n",
      "Decoded Friedrich Nietzsche: they justify even a certain want of education for which we must make <unk> owing to their hand and the <eos>\n",
      "***************************************************\n",
      "Decoded Ernest Hemingway: they keep even a certain want of street for which we must make <unk> were to their country and the <eos>\n",
      "***************************************************\n",
      "Decoded Oscar Wilde: they merely even a certain want of public for which we must make <unk> due to their country and the <eos>\n",
      "-------------------- Author Ernest Hemingway --------------------\n",
      "Real: then he went down very slowly <pad> <pad> <pad> <pad> <pad> <pad> <pad> <pad> <pad> <pad> <pad> <pad> <pad> <pad> <eos>\n",
      "***************************************************\n",
      "Decoded Friedrich Nietzsche: then he went down very face <pad> <pad> <pad> <pad> <pad> <pad> <pad> <pad> <pad> <pad> <pad> <pad> <pad> <pad> <eos>\n",
      "***************************************************\n",
      "Decoded Ernest Hemingway: then he went down very slowly <pad> <pad> <pad> <pad> <pad> <pad> <pad> <pad> <pad> <pad> <pad> <pad> <pad> <pad> <eos>\n",
      "***************************************************\n",
      "Decoded Oscar Wilde: then he went down very slowly <pad> <pad> <pad> <pad> <pad> <pad> <pad> <pad> <pad> <pad> <pad> <pad> <pad> <pad> <eos>\n",
      "-------------------- Author Oscar Wilde --------------------\n",
      "Real: with a simple spray of leaves and a bird in flight a japanese artist will give you the impression that <eos>\n",
      "***************************************************\n",
      "Decoded Friedrich Nietzsche: with a simple winds of sleep and a greater in rank a nation artist will give you the criticism that <eos>\n",
      "***************************************************\n",
      "Decoded Ernest Hemingway: with a simple dark of shoot and a bird in york a american door will give you the empty that <eos>\n",
      "***************************************************\n",
      "Decoded Oscar Wilde: with a simple dry of leaves and a bird in spring a merchants artist will give you the piece that <eos>\n",
      "\n"
     ]
    },
    {
     "data": {
      "application/vnd.jupyter.widget-view+json": {
       "model_id": "eeaeaf36acbc46df878b75f41d216071",
       "version_major": 2,
       "version_minor": 0
      },
      "text/plain": [
       "HBox(children=(FloatProgress(value=0.0, max=778.0), HTML(value='')))"
      ]
     },
     "metadata": {},
     "output_type": "display_data"
    },
    {
     "name": "stdout",
     "output_type": "stream",
     "text": [
      "\n",
      "*************************** EPOCH 7 ***************************\n"
     ]
    },
    {
     "data": {
      "application/vnd.jupyter.widget-view+json": {
       "model_id": "4eb31077056c4bbba91c9f3d2b83bd8e",
       "version_major": 2,
       "version_minor": 0
      },
      "text/plain": [
       "HBox(children=(FloatProgress(value=0.0, max=1814.0), HTML(value='')))"
      ]
     },
     "metadata": {},
     "output_type": "display_data"
    },
    {
     "name": "stdout",
     "output_type": "stream",
     "text": [
      "-------------------- Author Friedrich Nietzsche --------------------\n",
      "Real: for he , in so far as he thinks he has absorbed the blessings of education , is merely the <eos>\n",
      "***************************************************\n",
      "Decoded Friedrich Nietzsche: for he , in so far as he thinks he has class the sacrifice of education , is merely the <eos>\n",
      "***************************************************\n",
      "Decoded Ernest Hemingway: for he , in so far as he knows he has steadily the secret of school , is rather the <eos>\n",
      "***************************************************\n",
      "Decoded Oscar Wilde: for he , in so far as he knows he has accompanied the treasure of school , is merely the <eos>\n",
      "-------------------- Author Ernest Hemingway --------------------\n",
      "Real: well , i said , they <unk> <unk> somewhere along here <pad> <pad> <pad> <pad> <pad> <pad> <pad> <pad> <pad> <eos>\n",
      "***************************************************\n",
      "Decoded Friedrich Nietzsche: well , i said , they <unk> <unk> somewhere along here <pad> <pad> <pad> <pad> <pad> <pad> <pad> <pad> <pad> <eos>\n",
      "***************************************************\n",
      "Decoded Ernest Hemingway: well , i said , they <unk> <unk> somewhere along here <pad> <pad> <pad> <pad> <pad> <pad> <pad> <pad> <pad> <eos>\n",
      "***************************************************\n",
      "Decoded Oscar Wilde: well , i said , they <unk> <unk> somewhere along here <pad> <pad> <pad> <pad> <pad> <pad> <pad> <pad> <pad> <eos>\n",
      "-------------------- Author Oscar Wilde --------------------\n",
      "Real: i think i have altered <pad> <pad> <pad> <pad> <pad> <pad> <pad> <pad> <pad> <pad> <pad> <pad> <pad> <pad> <pad> <eos>\n",
      "***************************************************\n",
      "Decoded Friedrich Nietzsche: i think i have demonstrated <pad> <pad> <pad> <pad> <pad> <pad> <pad> <pad> <pad> <pad> <pad> <pad> <pad> <pad> <pad> <eos>\n",
      "***************************************************\n",
      "Decoded Ernest Hemingway: i think i have france <pad> <pad> <pad> <pad> <pad> <pad> <pad> <pad> <pad> <pad> <pad> <pad> <pad> <pad> <pad> <eos>\n",
      "***************************************************\n",
      "Decoded Oscar Wilde: i think i have shown <pad> <pad> <pad> <pad> <pad> <pad> <pad> <pad> <pad> <pad> <pad> <pad> <pad> <pad> <pad> <eos>\n",
      "\n"
     ]
    },
    {
     "data": {
      "application/vnd.jupyter.widget-view+json": {
       "model_id": "e9c4e4d40bef4a5c84dd73439be74470",
       "version_major": 2,
       "version_minor": 0
      },
      "text/plain": [
       "HBox(children=(FloatProgress(value=0.0, max=778.0), HTML(value='')))"
      ]
     },
     "metadata": {},
     "output_type": "display_data"
    },
    {
     "name": "stdout",
     "output_type": "stream",
     "text": [
      "\n",
      "*************************** EPOCH 8 ***************************\n"
     ]
    },
    {
     "data": {
      "application/vnd.jupyter.widget-view+json": {
       "model_id": "f7936bec753244319fe6ec59b1f78f6a",
       "version_major": 2,
       "version_minor": 0
      },
      "text/plain": [
       "HBox(children=(FloatProgress(value=0.0, max=1814.0), HTML(value='')))"
      ]
     },
     "metadata": {},
     "output_type": "display_data"
    },
    {
     "name": "stdout",
     "output_type": "stream",
     "text": [
      "-------------------- Author Friedrich Nietzsche --------------------\n",
      "Real: the <unk> of the order of rank <pad> <pad> <pad> <pad> <pad> <pad> <pad> <pad> <pad> <pad> <pad> <pad> <pad> <eos>\n",
      "***************************************************\n",
      "Decoded Friedrich Nietzsche: the <unk> of the order of rank <pad> <pad> <pad> <pad> <pad> <pad> <pad> <pad> <pad> <pad> <pad> <pad> <pad> <eos>\n",
      "***************************************************\n",
      "Decoded Ernest Hemingway: the <unk> of the order of army <pad> <pad> <pad> <pad> <pad> <pad> <pad> <pad> <pad> <pad> <pad> <pad> <pad> <eos>\n",
      "***************************************************\n",
      "Decoded Oscar Wilde: the <unk> of the order of rank <pad> <pad> <pad> <pad> <pad> <pad> <pad> <pad> <pad> <pad> <pad> <pad> <pad> <eos>\n",
      "-------------------- Author Ernest Hemingway --------------------\n",
      "Real: i have done things without <pad> <pad> <pad> <pad> <pad> <pad> <pad> <pad> <pad> <pad> <pad> <pad> <pad> <pad> <pad> <eos>\n",
      "***************************************************\n",
      "Decoded Friedrich Nietzsche: i have done things without <pad> <pad> <pad> <pad> <pad> <pad> <pad> <pad> <pad> <pad> <pad> <pad> <pad> <pad> <pad> <eos>\n",
      "***************************************************\n",
      "Decoded Ernest Hemingway: i have done things without <pad> <pad> <pad> <pad> <pad> <pad> <pad> <pad> <pad> <pad> <pad> <pad> <pad> <pad> <pad> <eos>\n",
      "***************************************************\n",
      "Decoded Oscar Wilde: i have done things without <pad> <pad> <pad> <pad> <pad> <pad> <pad> <pad> <pad> <pad> <pad> <pad> <pad> <pad> <pad> <eos>\n",
      "-------------------- Author Oscar Wilde --------------------\n",
      "Real: the sleeping <ent> that lay in the <unk> by the doorway had its <unk> brother that <unk> , and the <eos>\n",
      "***************************************************\n",
      "Decoded Friedrich Nietzsche: the breath <ent> that lay in the <unk> by the cave had its <unk> brother that <unk> , and the <eos>\n",
      "***************************************************\n",
      "Decoded Ernest Hemingway: the sleeping <ent> that lay in the <unk> by the doorway had its <unk> brother that <unk> , and the <eos>\n",
      "***************************************************\n",
      "Decoded Oscar Wilde: the dress <ent> that lay in the <unk> by the doorway had its <unk> brother that <unk> , and the <eos>\n",
      "\n"
     ]
    },
    {
     "data": {
      "application/vnd.jupyter.widget-view+json": {
       "model_id": "98d145d36bd248daa50c85f9546693e2",
       "version_major": 2,
       "version_minor": 0
      },
      "text/plain": [
       "HBox(children=(FloatProgress(value=0.0, max=778.0), HTML(value='')))"
      ]
     },
     "metadata": {},
     "output_type": "display_data"
    },
    {
     "name": "stdout",
     "output_type": "stream",
     "text": [
      "\n",
      "*************************** EPOCH 9 ***************************\n"
     ]
    },
    {
     "data": {
      "application/vnd.jupyter.widget-view+json": {
       "model_id": "92c87f250084429f954b8ece506b0ce3",
       "version_major": 2,
       "version_minor": 0
      },
      "text/plain": [
       "HBox(children=(FloatProgress(value=0.0, max=1814.0), HTML(value='')))"
      ]
     },
     "metadata": {},
     "output_type": "display_data"
    },
    {
     "name": "stdout",
     "output_type": "stream",
     "text": [
      "-------------------- Author Friedrich Nietzsche --------------------\n",
      "Real: <unk> in the treatment <unk> there is no attempt at <unk> weakness by means of any <unk> system <pad> <pad> <eos>\n",
      "***************************************************\n",
      "Decoded Friedrich Nietzsche: <unk> in the treatment <unk> there is no attempt at <unk> weakness by means of any <unk> system <pad> <pad> <eos>\n",
      "***************************************************\n",
      "Decoded Ernest Hemingway: <unk> in the action <unk> there is no given at <unk> steady by means of any <unk> ground <pad> <pad> <eos>\n",
      "***************************************************\n",
      "Decoded Oscar Wilde: <unk> in the effect <unk> there is no attempt at <unk> strength by means of any <unk> system <pad> <pad> <eos>\n",
      "-------------------- Author Ernest Hemingway --------------------\n",
      "Real: he did not change his direction and the men shouted <unk> <ent> ! <unk> ! toro ! and waved their <eos>\n",
      "***************************************************\n",
      "Decoded Friedrich Nietzsche: he did not change his direction and the men listened <unk> <ent> ! <unk> ! pressed ! and acted their <eos>\n",
      "***************************************************\n",
      "Decoded Ernest Hemingway: he did not change his direction and the men shouted <unk> <ent> ! <unk> ! hearing ! and waved their <eos>\n",
      "***************************************************\n",
      "Decoded Oscar Wilde: he did not change his direction and the men shouted <unk> <ent> ! <unk> ! hearing ! and waved their <eos>\n",
      "-------------------- Author Oscar Wilde --------------------\n",
      "Real: its very horror made him stone <pad> <pad> <pad> <pad> <pad> <pad> <pad> <pad> <pad> <pad> <pad> <pad> <pad> <pad> <eos>\n",
      "***************************************************\n",
      "Decoded Friedrich Nietzsche: its very horror made him stone <pad> <pad> <pad> <pad> <pad> <pad> <pad> <pad> <pad> <pad> <pad> <pad> <pad> <pad> <eos>\n",
      "***************************************************\n",
      "Decoded Ernest Hemingway: its very eating made him stone <pad> <pad> <pad> <pad> <pad> <pad> <pad> <pad> <pad> <pad> <pad> <pad> <pad> <pad> <eos>\n",
      "***************************************************\n",
      "Decoded Oscar Wilde: its very horror made him stone <pad> <pad> <pad> <pad> <pad> <pad> <pad> <pad> <pad> <pad> <pad> <pad> <pad> <pad> <eos>\n",
      "\n"
     ]
    },
    {
     "data": {
      "application/vnd.jupyter.widget-view+json": {
       "model_id": "a6007f17e586494b8f7124787746a242",
       "version_major": 2,
       "version_minor": 0
      },
      "text/plain": [
       "HBox(children=(FloatProgress(value=0.0, max=778.0), HTML(value='')))"
      ]
     },
     "metadata": {},
     "output_type": "display_data"
    },
    {
     "name": "stdout",
     "output_type": "stream",
     "text": [
      "\n",
      "*************************** EPOCH 10 ***************************\n"
     ]
    },
    {
     "data": {
      "application/vnd.jupyter.widget-view+json": {
       "model_id": "513cc2e3cad24f9bbff76dde0dd1b6b4",
       "version_major": 2,
       "version_minor": 0
      },
      "text/plain": [
       "HBox(children=(FloatProgress(value=0.0, max=1814.0), HTML(value='')))"
      ]
     },
     "metadata": {},
     "output_type": "display_data"
    },
    {
     "name": "stdout",
     "output_type": "stream",
     "text": [
      "-------------------- Author Friedrich Nietzsche --------------------\n",
      "Real: knowledge , and the affirmation of reality , are just as necessary to the strong man as <unk> , the <eos>\n",
      "***************************************************\n",
      "Decoded Friedrich Nietzsche: knowledge , and the affirmation of reality , are just as necessary to the strong man as <unk> , the <eos>\n",
      "***************************************************\n",
      "Decoded Ernest Hemingway: knowledge , and the greatness of pity , are just as necessary to the strong man as <unk> , the <eos>\n",
      "***************************************************\n",
      "Decoded Oscar Wilde: knowledge , and the achievements of reality , are just as necessary to the strong man as <unk> , the <eos>\n",
      "-------------------- Author Ernest Hemingway --------------------\n",
      "Real: <ent> put the left in his face <pad> <pad> <pad> <pad> <pad> <pad> <pad> <pad> <pad> <pad> <pad> <pad> <pad> <eos>\n",
      "***************************************************\n",
      "Decoded Friedrich Nietzsche: <ent> put the left in his face <pad> <pad> <pad> <pad> <pad> <pad> <pad> <pad> <pad> <pad> <pad> <pad> <pad> <eos>\n",
      "***************************************************\n",
      "Decoded Ernest Hemingway: <ent> put the left in his face <pad> <pad> <pad> <pad> <pad> <pad> <pad> <pad> <pad> <pad> <pad> <pad> <pad> <eos>\n",
      "***************************************************\n",
      "Decoded Oscar Wilde: <ent> put the left in his face <pad> <pad> <pad> <pad> <pad> <pad> <pad> <pad> <pad> <pad> <pad> <pad> <pad> <eos>\n",
      "-------------------- Author Oscar Wilde --------------------\n",
      "Real: or shall we lunch with our little duchess ? she says she never sees you now <pad> <pad> <pad> <pad> <eos>\n",
      "***************************************************\n",
      "Decoded Friedrich Nietzsche: or shall we awake with our little gratitude ? she says she never sees you now <pad> <pad> <pad> <pad> <eos>\n",
      "***************************************************\n",
      "Decoded Ernest Hemingway: or shall we lunch with our little wife ? she says she never stays you now <pad> <pad> <pad> <pad> <eos>\n",
      "***************************************************\n",
      "Decoded Oscar Wilde: or shall we lunch with our little duchess ? she says she never sees you now <pad> <pad> <pad> <pad> <eos>\n",
      "\n"
     ]
    },
    {
     "data": {
      "application/vnd.jupyter.widget-view+json": {
       "model_id": "ff60af5f5f27441da53d2493fa064fe2",
       "version_major": 2,
       "version_minor": 0
      },
      "text/plain": [
       "HBox(children=(FloatProgress(value=0.0, max=778.0), HTML(value='')))"
      ]
     },
     "metadata": {},
     "output_type": "display_data"
    },
    {
     "name": "stdout",
     "output_type": "stream",
     "text": [
      "\n",
      "*************************** EPOCH 11 ***************************\n"
     ]
    },
    {
     "data": {
      "application/vnd.jupyter.widget-view+json": {
       "model_id": "2034b8d63cb44e9b98276a8347816dd0",
       "version_major": 2,
       "version_minor": 0
      },
      "text/plain": [
       "HBox(children=(FloatProgress(value=0.0, max=1814.0), HTML(value='')))"
      ]
     },
     "metadata": {},
     "output_type": "display_data"
    },
    {
     "name": "stdout",
     "output_type": "stream",
     "text": [
      "-------------------- Author Friedrich Nietzsche --------------------\n",
      "Real: the latter was <unk> by nietzsche <pad> <pad> <pad> <pad> <pad> <pad> <pad> <pad> <pad> <pad> <pad> <pad> <pad> <pad> <eos>\n",
      "***************************************************\n",
      "Decoded Friedrich Nietzsche: the latter was <unk> by nietzsche <pad> <pad> <pad> <pad> <pad> <pad> <pad> <pad> <pad> <pad> <pad> <pad> <pad> <pad> <eos>\n",
      "***************************************************\n",
      "Decoded Ernest Hemingway: the course was <unk> by god <pad> <pad> <pad> <pad> <pad> <pad> <pad> <pad> <pad> <pad> <pad> <pad> <pad> <pad> <eos>\n",
      "***************************************************\n",
      "Decoded Oscar Wilde: the latter was <unk> by individualism <pad> <pad> <pad> <pad> <pad> <pad> <pad> <pad> <pad> <pad> <pad> <pad> <pad> <pad> <eos>\n",
      "-------------------- Author Ernest Hemingway --------------------\n",
      "Real: i came to tell you that it looks quite good for the shoot <pad> <pad> <pad> <pad> <pad> <pad> <pad> <eos>\n",
      "***************************************************\n",
      "Decoded Friedrich Nietzsche: i came to tell you that it looks quite good for the walk <pad> <pad> <pad> <pad> <pad> <pad> <pad> <eos>\n",
      "***************************************************\n",
      "Decoded Ernest Hemingway: i came to tell you that it looks quite good for the shoot <pad> <pad> <pad> <pad> <pad> <pad> <pad> <eos>\n",
      "***************************************************\n",
      "Decoded Oscar Wilde: i came to tell you that it looks quite good for the shoot <pad> <pad> <pad> <pad> <pad> <pad> <pad> <eos>\n",
      "-------------------- Author Oscar Wilde --------------------\n",
      "Real: similar ethical canons are applied to the accounts of the heroes of the days of old , and by the <eos>\n",
      "***************************************************\n",
      "Decoded Friedrich Nietzsche: similar ethical canon are applied to the claim of the heroes of the days of old , and by the <eos>\n",
      "***************************************************\n",
      "Decoded Ernest Hemingway: important unjust of are within to the accounts of the shock of the days of old , and by the <eos>\n",
      "***************************************************\n",
      "Decoded Oscar Wilde: similar manifestations canons are building to the accounts of the heroes of the days of old , and by the <eos>\n",
      "\n"
     ]
    },
    {
     "data": {
      "application/vnd.jupyter.widget-view+json": {
       "model_id": "c3df440bb9234ae9b619823af1970652",
       "version_major": 2,
       "version_minor": 0
      },
      "text/plain": [
       "HBox(children=(FloatProgress(value=0.0, max=778.0), HTML(value='')))"
      ]
     },
     "metadata": {},
     "output_type": "display_data"
    },
    {
     "name": "stdout",
     "output_type": "stream",
     "text": [
      "\n",
      "*************************** EPOCH 12 ***************************\n"
     ]
    },
    {
     "data": {
      "application/vnd.jupyter.widget-view+json": {
       "model_id": "68e951eaafb448d9998d8a27d734b7bc",
       "version_major": 2,
       "version_minor": 0
      },
      "text/plain": [
       "HBox(children=(FloatProgress(value=0.0, max=1814.0), HTML(value='')))"
      ]
     },
     "metadata": {},
     "output_type": "display_data"
    },
    {
     "name": "stdout",
     "output_type": "stream",
     "text": [
      "-------------------- Author Friedrich Nietzsche --------------------\n",
      "Real: every great crime against culture for the last four centuries lies on their conscience <pad> <pad> <pad> <pad> <pad> <pad> <eos>\n",
      "***************************************************\n",
      "Decoded Friedrich Nietzsche: every great crime against culture for the last four centuries lies on their conscience <pad> <pad> <pad> <pad> <pad> <pad> <eos>\n",
      "***************************************************\n",
      "Decoded Ernest Hemingway: every great shooter against part for the last four dialect lies on their conscience <pad> <pad> <pad> <pad> <pad> <pad> <eos>\n",
      "***************************************************\n",
      "Decoded Oscar Wilde: every great crime against culture for the last four centuries lies on their conscience <pad> <pad> <pad> <pad> <pad> <pad> <eos>\n",
      "-------------------- Author Ernest Hemingway --------------------\n",
      "Real: awfully nice of you to ask me <pad> <pad> <pad> <pad> <pad> <pad> <pad> <pad> <pad> <pad> <pad> <pad> <pad> <eos>\n",
      "***************************************************\n",
      "Decoded Friedrich Nietzsche: obviously sad of you to ask me <pad> <pad> <pad> <pad> <pad> <pad> <pad> <pad> <pad> <pad> <pad> <pad> <pad> <eos>\n",
      "***************************************************\n",
      "Decoded Ernest Hemingway: awfully nice of you to ask me <pad> <pad> <pad> <pad> <pad> <pad> <pad> <pad> <pad> <pad> <pad> <pad> <pad> <eos>\n",
      "***************************************************\n",
      "Decoded Oscar Wilde: awfully nice of you to ask me <pad> <pad> <pad> <pad> <pad> <pad> <pad> <pad> <pad> <pad> <pad> <pad> <pad> <eos>\n",
      "-------------------- Author Oscar Wilde --------------------\n",
      "Real: ' really i feel quite <unk> <pad> <pad> <pad> <pad> <pad> <pad> <pad> <pad> <pad> <pad> <pad> <pad> <pad> <pad> <eos>\n",
      "***************************************************\n",
      "Decoded Friedrich Nietzsche: ' really i feel quite <unk> <pad> <pad> <pad> <pad> <pad> <pad> <pad> <pad> <pad> <pad> <pad> <pad> <pad> <pad> <eos>\n",
      "***************************************************\n",
      "Decoded Ernest Hemingway: ' really i feel quite <unk> <pad> <pad> <pad> <pad> <pad> <pad> <pad> <pad> <pad> <pad> <pad> <pad> <pad> <pad> <eos>\n",
      "***************************************************\n",
      "Decoded Oscar Wilde: ' really i feel quite <unk> <pad> <pad> <pad> <pad> <pad> <pad> <pad> <pad> <pad> <pad> <pad> <pad> <pad> <pad> <eos>\n",
      "\n"
     ]
    },
    {
     "data": {
      "application/vnd.jupyter.widget-view+json": {
       "model_id": "1196333c052f4507b942d91a2a2600f2",
       "version_major": 2,
       "version_minor": 0
      },
      "text/plain": [
       "HBox(children=(FloatProgress(value=0.0, max=778.0), HTML(value='')))"
      ]
     },
     "metadata": {},
     "output_type": "display_data"
    },
    {
     "name": "stdout",
     "output_type": "stream",
     "text": [
      "\n",
      "*************************** EPOCH 13 ***************************\n"
     ]
    },
    {
     "data": {
      "application/vnd.jupyter.widget-view+json": {
       "model_id": "d4edb000a0384c7faf635d0e855ae9b8",
       "version_major": 2,
       "version_minor": 0
      },
      "text/plain": [
       "HBox(children=(FloatProgress(value=0.0, max=1814.0), HTML(value='')))"
      ]
     },
     "metadata": {},
     "output_type": "display_data"
    },
    {
     "name": "stdout",
     "output_type": "stream",
     "text": [
      "-------------------- Author Friedrich Nietzsche --------------------\n",
      "Real: what is our <ent> ? what do we conceive of our neighbour except his limits <unk> i mean that whereby <eos>\n",
      "***************************************************\n",
      "Decoded Friedrich Nietzsche: what is our <ent> ? what do we conceive of our neighbour except his limits <unk> i mean that whereby <eos>\n",
      "***************************************************\n",
      "Decoded Ernest Hemingway: what is our <ent> ? what do we realize of our lick except his lies <unk> i mean that various <eos>\n",
      "***************************************************\n",
      "Decoded Oscar Wilde: what is our <ent> ? what do we conceive of our mine except his service <unk> i mean that specially <eos>\n",
      "-------------------- Author Ernest Hemingway --------------------\n",
      "Real: i ' ll remember that all week and try to be one <pad> <pad> <pad> <pad> <pad> <pad> <pad> <pad> <eos>\n",
      "***************************************************\n",
      "Decoded Friedrich Nietzsche: i ' let remember that all day and try to be one <pad> <pad> <pad> <pad> <pad> <pad> <pad> <pad> <eos>\n",
      "***************************************************\n",
      "Decoded Ernest Hemingway: i ' ll remember that all week and try to be one <pad> <pad> <pad> <pad> <pad> <pad> <pad> <pad> <eos>\n",
      "***************************************************\n",
      "Decoded Oscar Wilde: i ' ll remember that all week and try to be one <pad> <pad> <pad> <pad> <pad> <pad> <pad> <pad> <eos>\n",
      "-------------------- Author Oscar Wilde --------------------\n",
      "Real: and i said to the priest , <unk> is this the god ? <unk> and he answered me , <unk> <eos>\n",
      "***************************************************\n",
      "Decoded Friedrich Nietzsche: and i said to the priest , <unk> is this the god ? <unk> and he answered me , <unk> <eos>\n",
      "***************************************************\n",
      "Decoded Ernest Hemingway: and i said to the priest , <unk> is this the god ? <unk> and he answered me , <unk> <eos>\n",
      "***************************************************\n",
      "Decoded Oscar Wilde: and i said to the priest , <unk> is this the god ? <unk> and he answered me , <unk> <eos>\n",
      "\n"
     ]
    },
    {
     "data": {
      "application/vnd.jupyter.widget-view+json": {
       "model_id": "dbba950cae2d492fb0a5e329b6784cc0",
       "version_major": 2,
       "version_minor": 0
      },
      "text/plain": [
       "HBox(children=(FloatProgress(value=0.0, max=778.0), HTML(value='')))"
      ]
     },
     "metadata": {},
     "output_type": "display_data"
    },
    {
     "name": "stdout",
     "output_type": "stream",
     "text": [
      "\n",
      "*************************** EPOCH 14 ***************************\n"
     ]
    },
    {
     "data": {
      "application/vnd.jupyter.widget-view+json": {
       "model_id": "0e1aea657f5d4ad691b5e24390993f0b",
       "version_major": 2,
       "version_minor": 0
      },
      "text/plain": [
       "HBox(children=(FloatProgress(value=0.0, max=1814.0), HTML(value='')))"
      ]
     },
     "metadata": {},
     "output_type": "display_data"
    },
    {
     "name": "stdout",
     "output_type": "stream",
     "text": [
      "-------------------- Author Friedrich Nietzsche --------------------\n",
      "Real: in good spirits and joyful , because this day hath come to an end ! and thou <unk> <unk> dance <eos>\n",
      "***************************************************\n",
      "Decoded Friedrich Nietzsche: in good spirits and joyful , because this day hath come to an end ! and thou <unk> <unk> dance <eos>\n",
      "***************************************************\n",
      "Decoded Ernest Hemingway: in good share and splendid , because this day man come to an end ! and thou <unk> <unk> dance <eos>\n",
      "***************************************************\n",
      "Decoded Oscar Wilde: in good spirits and faithful , because this day hath come to an end ! and thou <unk> <unk> dance <eos>\n",
      "-------------------- Author Ernest Hemingway --------------------\n",
      "Real: no , they wouldn ' t <pad> <pad> <pad> <pad> <pad> <pad> <pad> <pad> <pad> <pad> <pad> <pad> <pad> <pad> <eos>\n",
      "***************************************************\n",
      "Decoded Friedrich Nietzsche: no , they really ' t <pad> <pad> <pad> <pad> <pad> <pad> <pad> <pad> <pad> <pad> <pad> <pad> <pad> <pad> <eos>\n",
      "***************************************************\n",
      "Decoded Ernest Hemingway: no , they wouldn ' t <pad> <pad> <pad> <pad> <pad> <pad> <pad> <pad> <pad> <pad> <pad> <pad> <pad> <pad> <eos>\n",
      "***************************************************\n",
      "Decoded Oscar Wilde: no , they wouldn ' t <pad> <pad> <pad> <pad> <pad> <pad> <pad> <pad> <pad> <pad> <pad> <pad> <pad> <pad> <eos>\n",
      "-------------------- Author Oscar Wilde --------------------\n",
      "Real: so he came nearer , and <unk> in the shallow water , and <unk> his head upon his hand and <eos>\n",
      "***************************************************\n",
      "Decoded Friedrich Nietzsche: so he came nearer , and <unk> in the shallow water , and <unk> his head upon his hand and <eos>\n",
      "***************************************************\n",
      "Decoded Ernest Hemingway: so he came circling , and <unk> in the shallow water , and <unk> his head upon his hand and <eos>\n",
      "***************************************************\n",
      "Decoded Oscar Wilde: so he came nearer , and <unk> in the shallow water , and <unk> his head upon his hand and <eos>\n",
      "\n"
     ]
    },
    {
     "data": {
      "application/vnd.jupyter.widget-view+json": {
       "model_id": "3b4ad1ae77e04f878b6f8abd997c9ada",
       "version_major": 2,
       "version_minor": 0
      },
      "text/plain": [
       "HBox(children=(FloatProgress(value=0.0, max=778.0), HTML(value='')))"
      ]
     },
     "metadata": {},
     "output_type": "display_data"
    },
    {
     "name": "stdout",
     "output_type": "stream",
     "text": [
      "\n",
      "*************************** EPOCH 15 ***************************\n"
     ]
    },
    {
     "data": {
      "application/vnd.jupyter.widget-view+json": {
       "model_id": "18aed1812ca9417fa62c739b867e0284",
       "version_major": 2,
       "version_minor": 0
      },
      "text/plain": [
       "HBox(children=(FloatProgress(value=0.0, max=1814.0), HTML(value='')))"
      ]
     },
     "metadata": {},
     "output_type": "display_data"
    },
    {
     "name": "stdout",
     "output_type": "stream",
     "text": [
      "-------------------- Author Friedrich Nietzsche --------------------\n",
      "Real: originally , and above all in the time of the <unk> , israel maintained the right attitude of things , <eos>\n",
      "***************************************************\n",
      "Decoded Friedrich Nietzsche: originally , and above all in the time of the <unk> , israel maintained the right attitude of things , <eos>\n",
      "***************************************************\n",
      "Decoded Ernest Hemingway: since , and above all in the time of the <unk> , africa remained the right attitude of things , <eos>\n",
      "***************************************************\n",
      "Decoded Oscar Wilde: ruled , and above all in the time of the <unk> , democracy resulted the right attitude of things , <eos>\n",
      "-------------------- Author Ernest Hemingway --------------------\n",
      "Real: hebrew wine seller here you are , gentlemen <pad> <pad> <pad> <pad> <pad> <pad> <pad> <pad> <pad> <pad> <pad> <pad> <eos>\n",
      "***************************************************\n",
      "Decoded Friedrich Nietzsche: russian wine reader here you are , gentlemen <pad> <pad> <pad> <pad> <pad> <pad> <pad> <pad> <pad> <pad> <pad> <pad> <eos>\n",
      "***************************************************\n",
      "Decoded Ernest Hemingway: hebrew wine seller here you are , gentlemen <pad> <pad> <pad> <pad> <pad> <pad> <pad> <pad> <pad> <pad> <pad> <pad> <eos>\n",
      "***************************************************\n",
      "Decoded Oscar Wilde: fraternity wine console here you are , cecil <pad> <pad> <pad> <pad> <pad> <pad> <pad> <pad> <pad> <pad> <pad> <pad> <eos>\n",
      "-------------------- Author Oscar Wilde --------------------\n",
      "Real: fortunate in the land which bore him , he was no less blessed in the <unk> time of his birth <eos>\n",
      "***************************************************\n",
      "Decoded Friedrich Nietzsche: fortunate in the land which bore him , he was no less blessed in the <unk> time of his birth <eos>\n",
      "***************************************************\n",
      "Decoded Ernest Hemingway: fortunate in the land which bore him , he was no less alive in the <unk> time of his birth <eos>\n",
      "***************************************************\n",
      "Decoded Oscar Wilde: fortunate in the land which bore him , he was no less intimate in the <unk> time of his birth <eos>\n",
      "\n"
     ]
    },
    {
     "data": {
      "application/vnd.jupyter.widget-view+json": {
       "model_id": "7f88dc1fe8cb4e24a7bcfe18e366f588",
       "version_major": 2,
       "version_minor": 0
      },
      "text/plain": [
       "HBox(children=(FloatProgress(value=0.0, max=778.0), HTML(value='')))"
      ]
     },
     "metadata": {},
     "output_type": "display_data"
    },
    {
     "name": "stdout",
     "output_type": "stream",
     "text": [
      "\n",
      "*************************** EPOCH 16 ***************************\n"
     ]
    },
    {
     "data": {
      "application/vnd.jupyter.widget-view+json": {
       "model_id": "cfe5c8f782d54b93b8c62e04a119eadb",
       "version_major": 2,
       "version_minor": 0
      },
      "text/plain": [
       "HBox(children=(FloatProgress(value=0.0, max=1814.0), HTML(value='')))"
      ]
     },
     "metadata": {},
     "output_type": "display_data"
    },
    {
     "name": "stdout",
     "output_type": "stream",
     "text": [
      "-------------------- Author Friedrich Nietzsche --------------------\n",
      "Real: all our present institutions belong to the second class <pad> <pad> <pad> <pad> <pad> <pad> <pad> <pad> <pad> <pad> <pad> <eos>\n",
      "***************************************************\n",
      "Decoded Friedrich Nietzsche: all our present institutions belong to the second class <pad> <pad> <pad> <pad> <pad> <pad> <pad> <pad> <pad> <pad> <pad> <eos>\n",
      "***************************************************\n",
      "Decoded Ernest Hemingway: all our present organization belong to the second class <pad> <pad> <pad> <pad> <pad> <pad> <pad> <pad> <pad> <pad> <pad> <eos>\n",
      "***************************************************\n",
      "Decoded Oscar Wilde: all our present private belong to the second class <pad> <pad> <pad> <pad> <pad> <pad> <pad> <pad> <pad> <pad> <pad> <eos>\n",
      "-------------------- Author Ernest Hemingway --------------------\n",
      "Real: i had one on my forehead that people still <unk> on , asking if i had <unk> my head <pad> <eos>\n",
      "***************************************************\n",
      "Decoded Friedrich Nietzsche: i had one on my vulture that people still <unk> on , asking if i had <unk> my head <pad> <eos>\n",
      "***************************************************\n",
      "Decoded Ernest Hemingway: i had one on my forehead that people still <unk> on , asking if i had <unk> my head <pad> <eos>\n",
      "***************************************************\n",
      "Decoded Oscar Wilde: i had one on my forehead that people still <unk> on , asking if i had <unk> my head <pad> <eos>\n",
      "-------------------- Author Oscar Wilde --------------------\n",
      "Real: i am so glad that you have never done anything , never carved a statue , or painted a picture <eos>\n",
      "***************************************************\n",
      "Decoded Friedrich Nietzsche: i am so glad that you have never done anything , never carved a statue , or painted a picture <eos>\n",
      "***************************************************\n",
      "Decoded Ernest Hemingway: i am so glad that you have never done anything , never carved a indian , or painted a picture <eos>\n",
      "***************************************************\n",
      "Decoded Oscar Wilde: i am so glad that you have never done anything , never carved a statue , or painted a picture <eos>\n",
      "\n"
     ]
    },
    {
     "data": {
      "application/vnd.jupyter.widget-view+json": {
       "model_id": "24e93efb5d2c4c78a403ae2a9af8bbb8",
       "version_major": 2,
       "version_minor": 0
      },
      "text/plain": [
       "HBox(children=(FloatProgress(value=0.0, max=778.0), HTML(value='')))"
      ]
     },
     "metadata": {},
     "output_type": "display_data"
    },
    {
     "name": "stdout",
     "output_type": "stream",
     "text": [
      "\n",
      "*************************** EPOCH 17 ***************************\n"
     ]
    },
    {
     "data": {
      "application/vnd.jupyter.widget-view+json": {
       "model_id": "d57d21e214d345d985554ccabf8149be",
       "version_major": 2,
       "version_minor": 0
      },
      "text/plain": [
       "HBox(children=(FloatProgress(value=0.0, max=1814.0), HTML(value='')))"
      ]
     },
     "metadata": {},
     "output_type": "display_data"
    },
    {
     "name": "stdout",
     "output_type": "stream",
     "text": [
      "-------------------- Author Friedrich Nietzsche --------------------\n",
      "Real: it hath been enough that i have carried thee about with me ! as yet have i not been strong <eos>\n",
      "***************************************************\n",
      "Decoded Friedrich Nietzsche: it hath been enough that i have carried thee about with me ! as yet have i not been strong <eos>\n",
      "***************************************************\n",
      "Decoded Ernest Hemingway: it always been enough that i have carried thee about with me ! as yet have i not been strong <eos>\n",
      "***************************************************\n",
      "Decoded Oscar Wilde: it hath been enough that i have carried thee about with me ! as yet have i not been strong <eos>\n",
      "-------------------- Author Ernest Hemingway --------------------\n",
      "Real: for three years , or almost three years , he had never seen beyond <ent> i am sure he had <eos>\n",
      "***************************************************\n",
      "Decoded Friedrich Nietzsche: for three years , or almost three years , he had never seen beyond <ent> i am sure he had <eos>\n",
      "***************************************************\n",
      "Decoded Ernest Hemingway: for three years , or almost three years , he had never seen beyond <ent> i am sure he had <eos>\n",
      "***************************************************\n",
      "Decoded Oscar Wilde: for three years , or almost three years , he had never seen beyond <ent> i am sure he had <eos>\n",
      "-------------------- Author Oscar Wilde --------------------\n",
      "Real: he had uttered a mad wish that he himself might remain young , and the portrait grow old <pad> <pad> <eos>\n",
      "***************************************************\n",
      "Decoded Friedrich Nietzsche: he had uttered a mad wish that he himself might remain young , and the portrait grow old <pad> <pad> <eos>\n",
      "***************************************************\n",
      "Decoded Ernest Hemingway: he had wondered a jam wish that he himself might hold young , and the portrait grow old <pad> <pad> <eos>\n",
      "***************************************************\n",
      "Decoded Oscar Wilde: he had uttered a mad wish that he himself might remain young , and the portrait grow old <pad> <pad> <eos>\n",
      "\n"
     ]
    },
    {
     "data": {
      "application/vnd.jupyter.widget-view+json": {
       "model_id": "430694e67b5f471ea21dec0b56d97c5e",
       "version_major": 2,
       "version_minor": 0
      },
      "text/plain": [
       "HBox(children=(FloatProgress(value=0.0, max=778.0), HTML(value='')))"
      ]
     },
     "metadata": {},
     "output_type": "display_data"
    },
    {
     "name": "stdout",
     "output_type": "stream",
     "text": [
      "\n",
      "*************************** EPOCH 18 ***************************\n"
     ]
    },
    {
     "data": {
      "application/vnd.jupyter.widget-view+json": {
       "model_id": "928a32468c734fb1a0488201730ef2f9",
       "version_major": 2,
       "version_minor": 0
      },
      "text/plain": [
       "HBox(children=(FloatProgress(value=0.0, max=1814.0), HTML(value='')))"
      ]
     },
     "metadata": {},
     "output_type": "display_data"
    },
    {
     "name": "stdout",
     "output_type": "stream",
     "text": [
      "-------------------- Author Friedrich Nietzsche --------------------\n",
      "Real: they are not at liberty to play second <pad> <pad> <pad> <pad> <pad> <pad> <pad> <pad> <pad> <pad> <pad> <pad> <eos>\n",
      "***************************************************\n",
      "Decoded Friedrich Nietzsche: they are not at liberty to play second <pad> <pad> <pad> <pad> <pad> <pad> <pad> <pad> <pad> <pad> <pad> <pad> <eos>\n",
      "***************************************************\n",
      "Decoded Ernest Hemingway: they are not at purpose to play second <pad> <pad> <pad> <pad> <pad> <pad> <pad> <pad> <pad> <pad> <pad> <pad> <eos>\n",
      "***************************************************\n",
      "Decoded Oscar Wilde: they are not at liberty to play second <pad> <pad> <pad> <pad> <pad> <pad> <pad> <pad> <pad> <pad> <pad> <pad> <eos>\n",
      "-------------------- Author Ernest Hemingway --------------------\n",
      "Real: he was <unk> , but brett couldn ' t hold him , and he got up <pad> <pad> <pad> <pad> <eos>\n",
      "***************************************************\n",
      "Decoded Friedrich Nietzsche: he was <unk> , but laughing glad ' t hold him , and he got up <pad> <pad> <pad> <pad> <eos>\n",
      "***************************************************\n",
      "Decoded Ernest Hemingway: he was <unk> , but brett couldn ' t hold him , and he got up <pad> <pad> <pad> <pad> <eos>\n",
      "***************************************************\n",
      "Decoded Oscar Wilde: he was <unk> , but laughing couldn ' t hold him , and he got up <pad> <pad> <pad> <pad> <eos>\n",
      "-------------------- Author Oscar Wilde --------------------\n",
      "Real: i am off to the <unk> <pad> <pad> <pad> <pad> <pad> <pad> <pad> <pad> <pad> <pad> <pad> <pad> <pad> <pad> <eos>\n",
      "***************************************************\n",
      "Decoded Friedrich Nietzsche: i am off to the <unk> <pad> <pad> <pad> <pad> <pad> <pad> <pad> <pad> <pad> <pad> <pad> <pad> <pad> <pad> <eos>\n",
      "***************************************************\n",
      "Decoded Ernest Hemingway: i am off to the <unk> <pad> <pad> <pad> <pad> <pad> <pad> <pad> <pad> <pad> <pad> <pad> <pad> <pad> <pad> <eos>\n",
      "***************************************************\n",
      "Decoded Oscar Wilde: i am off to the <unk> <pad> <pad> <pad> <pad> <pad> <pad> <pad> <pad> <pad> <pad> <pad> <pad> <pad> <pad> <eos>\n",
      "\n"
     ]
    },
    {
     "data": {
      "application/vnd.jupyter.widget-view+json": {
       "model_id": "31aee682651f4fda8234b51c7358ff92",
       "version_major": 2,
       "version_minor": 0
      },
      "text/plain": [
       "HBox(children=(FloatProgress(value=0.0, max=778.0), HTML(value='')))"
      ]
     },
     "metadata": {},
     "output_type": "display_data"
    },
    {
     "name": "stdout",
     "output_type": "stream",
     "text": [
      "\n",
      "*************************** EPOCH 19 ***************************\n"
     ]
    },
    {
     "data": {
      "application/vnd.jupyter.widget-view+json": {
       "model_id": "f679638768ba45eebad668f368eee392",
       "version_major": 2,
       "version_minor": 0
      },
      "text/plain": [
       "HBox(children=(FloatProgress(value=0.0, max=1814.0), HTML(value='')))"
      ]
     },
     "metadata": {},
     "output_type": "display_data"
    },
    {
     "name": "stdout",
     "output_type": "stream",
     "text": [
      "-------------------- Author Friedrich Nietzsche --------------------\n",
      "Real: o my soul , i have taken from thee all <unk> and knee <unk> and homage paying <pad> <pad> <pad> <eos>\n",
      "***************************************************\n",
      "Decoded Friedrich Nietzsche: o my soul , i have taken from thee all <unk> and knee <unk> and homage payment <pad> <pad> <pad> <eos>\n",
      "***************************************************\n",
      "Decoded Ernest Hemingway: o my soul , i have taken from thee all <unk> and knee <unk> and homage paying <pad> <pad> <pad> <eos>\n",
      "***************************************************\n",
      "Decoded Oscar Wilde: o my soul , i have taken from thee all <unk> and knee <unk> and welcomes wasted <pad> <pad> <pad> <eos>\n",
      "-------------------- Author Ernest Hemingway --------------------\n",
      "Real: they are a damn sight more important when you put them on paper <pad> <pad> <pad> <pad> <pad> <pad> <pad> <eos>\n",
      "***************************************************\n",
      "Decoded Friedrich Nietzsche: they are a afraid sight more important when you put them on paper <pad> <pad> <pad> <pad> <pad> <pad> <pad> <eos>\n",
      "***************************************************\n",
      "Decoded Ernest Hemingway: they are a damn sight more important when you put them on paper <pad> <pad> <pad> <pad> <pad> <pad> <pad> <eos>\n",
      "***************************************************\n",
      "Decoded Oscar Wilde: they are a pretty sight more important when you put them on paper <pad> <pad> <pad> <pad> <pad> <pad> <pad> <eos>\n",
      "-------------------- Author Oscar Wilde --------------------\n",
      "Real: i will stay with you one night longer , said the swallow , but i cannot <unk> out your eye <eos>\n",
      "***************************************************\n",
      "Decoded Friedrich Nietzsche: i will stay with you one night longer , said the swallow , but i cannot <unk> out your eye <eos>\n",
      "***************************************************\n",
      "Decoded Ernest Hemingway: i will stay with you one night longer , said the swallow , but i cannot <unk> out your eye <eos>\n",
      "***************************************************\n",
      "Decoded Oscar Wilde: i will stay with you one night longer , said the swallow , but i cannot <unk> out your eye <eos>\n",
      "\n"
     ]
    },
    {
     "data": {
      "application/vnd.jupyter.widget-view+json": {
       "model_id": "9adf500f669a4dfab60df023ea28a03b",
       "version_major": 2,
       "version_minor": 0
      },
      "text/plain": [
       "HBox(children=(FloatProgress(value=0.0, max=778.0), HTML(value='')))"
      ]
     },
     "metadata": {},
     "output_type": "display_data"
    },
    {
     "name": "stdout",
     "output_type": "stream",
     "text": [
      "\n",
      "*************************** EPOCH 20 ***************************\n"
     ]
    },
    {
     "data": {
      "application/vnd.jupyter.widget-view+json": {
       "model_id": "da27147445d74b0a870a54d34e12d099",
       "version_major": 2,
       "version_minor": 0
      },
      "text/plain": [
       "HBox(children=(FloatProgress(value=0.0, max=1814.0), HTML(value='')))"
      ]
     },
     "metadata": {},
     "output_type": "display_data"
    },
    {
     "name": "stdout",
     "output_type": "stream",
     "text": [
      "-------------------- Author Friedrich Nietzsche --------------------\n",
      "Real: the weak and the botched shall perish <unk> first principle of our charity <pad> <pad> <pad> <pad> <pad> <pad> <pad> <eos>\n",
      "***************************************************\n",
      "Decoded Friedrich Nietzsche: the weak and the botched shall perish <unk> first principle of our charity <pad> <pad> <pad> <pad> <pad> <pad> <pad> <eos>\n",
      "***************************************************\n",
      "Decoded Ernest Hemingway: the dull and the busted shall confidence <unk> first principle of our spare <pad> <pad> <pad> <pad> <pad> <pad> <pad> <eos>\n",
      "***************************************************\n",
      "Decoded Oscar Wilde: the weak and the bill shall die <unk> first principle of our charity <pad> <pad> <pad> <pad> <pad> <pad> <pad> <eos>\n",
      "-------------------- Author Ernest Hemingway --------------------\n",
      "Real: <ent> was eating fruit when we came in and <unk> a bottle of wine <pad> <pad> <pad> <pad> <pad> <pad> <eos>\n",
      "***************************************************\n",
      "Decoded Friedrich Nietzsche: <ent> was eating fruit when we came in and <unk> a bottle of wine <pad> <pad> <pad> <pad> <pad> <pad> <eos>\n",
      "***************************************************\n",
      "Decoded Ernest Hemingway: <ent> was eating fruit when we came in and <unk> a bottle of wine <pad> <pad> <pad> <pad> <pad> <pad> <eos>\n",
      "***************************************************\n",
      "Decoded Oscar Wilde: <ent> was flame shapes when we came in and <unk> a bottle of wine <pad> <pad> <pad> <pad> <pad> <pad> <eos>\n",
      "-------------------- Author Oscar Wilde --------------------\n",
      "Real: i trust you will return from australia in a position of <unk> <pad> <pad> <pad> <pad> <pad> <pad> <pad> <pad> <eos>\n",
      "***************************************************\n",
      "Decoded Friedrich Nietzsche: i trust you will return from academic in a position of <unk> <pad> <pad> <pad> <pad> <pad> <pad> <pad> <pad> <eos>\n",
      "***************************************************\n",
      "Decoded Ernest Hemingway: i trust you will return from china in a position of <unk> <pad> <pad> <pad> <pad> <pad> <pad> <pad> <pad> <eos>\n",
      "***************************************************\n",
      "Decoded Oscar Wilde: i trust you will return from australia in a position of <unk> <pad> <pad> <pad> <pad> <pad> <pad> <pad> <pad> <eos>\n",
      "\n"
     ]
    },
    {
     "data": {
      "application/vnd.jupyter.widget-view+json": {
       "model_id": "ffd21b8b8554457ab2870867f968fd0c",
       "version_major": 2,
       "version_minor": 0
      },
      "text/plain": [
       "HBox(children=(FloatProgress(value=0.0, max=778.0), HTML(value='')))"
      ]
     },
     "metadata": {},
     "output_type": "display_data"
    },
    {
     "name": "stdout",
     "output_type": "stream",
     "text": [
      "\n",
      "*************************** EPOCH 21 ***************************\n"
     ]
    },
    {
     "data": {
      "application/vnd.jupyter.widget-view+json": {
       "model_id": "448f5d23c21349a4a8e7c90243666970",
       "version_major": 2,
       "version_minor": 0
      },
      "text/plain": [
       "HBox(children=(FloatProgress(value=0.0, max=1814.0), HTML(value='')))"
      ]
     },
     "metadata": {},
     "output_type": "display_data"
    },
    {
     "name": "stdout",
     "output_type": "stream",
     "text": [
      "-------------------- Author Friedrich Nietzsche --------------------\n",
      "Real: consequently it may also be the indication of a noble mind to make <unk> of pathetic situations , and to <eos>\n",
      "***************************************************\n",
      "Decoded Friedrich Nietzsche: consequently it may also be the indication of a noble mind to make <unk> of pathetic situations , and to <eos>\n",
      "***************************************************\n",
      "Decoded Ernest Hemingway: while it may also be the unfortunate of a noble mind to make <unk> of awful net , and to <eos>\n",
      "***************************************************\n",
      "Decoded Oscar Wilde: consequently it may also be the possibility of a noble mind to make <unk> of pathetic unhealthy , and to <eos>\n",
      "-------------------- Author Ernest Hemingway --------------------\n",
      "Real: i knew we still had a chance on the lick in the morning and i was not going to worry <eos>\n",
      "***************************************************\n",
      "Decoded Friedrich Nietzsche: i knew we still had a chance on the fancy in the morning and i was not going to worry <eos>\n",
      "***************************************************\n",
      "Decoded Ernest Hemingway: i knew we still had a chance on the lick in the morning and i was not going to worry <eos>\n",
      "***************************************************\n",
      "Decoded Oscar Wilde: i knew we still had a chance on the fancy in the morning and i was not going to forget <eos>\n",
      "-------------------- Author Oscar Wilde --------------------\n",
      "Real: and another , who held a yellow <unk> in his hand , said to him , who is thy mother <eos>\n",
      "***************************************************\n",
      "Decoded Friedrich Nietzsche: and another , who held a yellow <unk> in his hand , said to him , who is thy mother <eos>\n",
      "***************************************************\n",
      "Decoded Ernest Hemingway: and another , who held a yellow <unk> in his hand , said to him , who is thy mother <eos>\n",
      "***************************************************\n",
      "Decoded Oscar Wilde: and another , who held a yellow <unk> in his hand , said to him , who is thy mother <eos>\n",
      "\n"
     ]
    },
    {
     "data": {
      "application/vnd.jupyter.widget-view+json": {
       "model_id": "cc95634bf6174e68bfc3e0153a7a68a3",
       "version_major": 2,
       "version_minor": 0
      },
      "text/plain": [
       "HBox(children=(FloatProgress(value=0.0, max=778.0), HTML(value='')))"
      ]
     },
     "metadata": {},
     "output_type": "display_data"
    },
    {
     "name": "stdout",
     "output_type": "stream",
     "text": [
      "\n",
      "*************************** EPOCH 22 ***************************\n"
     ]
    },
    {
     "data": {
      "application/vnd.jupyter.widget-view+json": {
       "model_id": "b51095766a8040d1bf29a81c38151a45",
       "version_major": 2,
       "version_minor": 0
      },
      "text/plain": [
       "HBox(children=(FloatProgress(value=0.0, max=1814.0), HTML(value='')))"
      ]
     },
     "metadata": {},
     "output_type": "display_data"
    },
    {
     "name": "stdout",
     "output_type": "stream",
     "text": [
      "-------------------- Author Friedrich Nietzsche --------------------\n",
      "Real: the highest states of the strong become bad <unk> <pad> <pad> <pad> <pad> <pad> <pad> <pad> <pad> <pad> <pad> <pad> <eos>\n",
      "***************************************************\n",
      "Decoded Friedrich Nietzsche: the highest states of the strong become bad <unk> <pad> <pad> <pad> <pad> <pad> <pad> <pad> <pad> <pad> <pad> <pad> <eos>\n",
      "***************************************************\n",
      "Decoded Ernest Hemingway: the highest states of the strong become bad <unk> <pad> <pad> <pad> <pad> <pad> <pad> <pad> <pad> <pad> <pad> <pad> <eos>\n",
      "***************************************************\n",
      "Decoded Oscar Wilde: the highest states of the strong become bad <unk> <pad> <pad> <pad> <pad> <pad> <pad> <pad> <pad> <pad> <pad> <pad> <eos>\n",
      "-------------------- Author Ernest Hemingway --------------------\n",
      "Real: then , too , danger was in the hands of pop and for pop she had a complete , clear <eos>\n",
      "***************************************************\n",
      "Decoded Friedrich Nietzsche: then , too , danger was in the hands of better and for artist she had a complete , clear <eos>\n",
      "***************************************************\n",
      "Decoded Ernest Hemingway: then , too , danger was in the hands of pop and for pop she had a complete , clear <eos>\n",
      "***************************************************\n",
      "Decoded Oscar Wilde: then , too , danger was in the hands of artist and for artist she had a complete , clear <eos>\n",
      "-------------------- Author Oscar Wilde --------------------\n",
      "Real: nowadays people know the price of everything , and the value of nothing <pad> <pad> <pad> <pad> <pad> <pad> <pad> <eos>\n",
      "***************************************************\n",
      "Decoded Friedrich Nietzsche: nowadays people know the price of everything , and the value of nothing <pad> <pad> <pad> <pad> <pad> <pad> <pad> <eos>\n",
      "***************************************************\n",
      "Decoded Ernest Hemingway: nowadays people know the price of everything , and the value of nothing <pad> <pad> <pad> <pad> <pad> <pad> <pad> <eos>\n",
      "***************************************************\n",
      "Decoded Oscar Wilde: nowadays people know the price of everything , and the value of nothing <pad> <pad> <pad> <pad> <pad> <pad> <pad> <eos>\n",
      "\n"
     ]
    },
    {
     "data": {
      "application/vnd.jupyter.widget-view+json": {
       "model_id": "8d05983ff29044f7b5c9f2fbc61bbeda",
       "version_major": 2,
       "version_minor": 0
      },
      "text/plain": [
       "HBox(children=(FloatProgress(value=0.0, max=778.0), HTML(value='')))"
      ]
     },
     "metadata": {},
     "output_type": "display_data"
    },
    {
     "name": "stdout",
     "output_type": "stream",
     "text": [
      "\n",
      "*************************** EPOCH 23 ***************************\n"
     ]
    },
    {
     "data": {
      "application/vnd.jupyter.widget-view+json": {
       "model_id": "af0c600df8034880ad0fb24bf184c07c",
       "version_major": 2,
       "version_minor": 0
      },
      "text/plain": [
       "HBox(children=(FloatProgress(value=0.0, max=1814.0), HTML(value='')))"
      ]
     },
     "metadata": {},
     "output_type": "display_data"
    },
    {
     "name": "stdout",
     "output_type": "stream",
     "text": [
      "-------------------- Author Friedrich Nietzsche --------------------\n",
      "Real: not till then does nature attain her artistic jubilee <pad> <pad> <pad> <pad> <pad> <pad> <pad> <pad> <pad> <pad> <pad> <eos>\n",
      "***************************************************\n",
      "Decoded Friedrich Nietzsche: not till then does nature attain her artistic jubilee <pad> <pad> <pad> <pad> <pad> <pad> <pad> <pad> <pad> <pad> <pad> <eos>\n",
      "***************************************************\n",
      "Decoded Ernest Hemingway: not till then does nature attain her artistic peace <pad> <pad> <pad> <pad> <pad> <pad> <pad> <pad> <pad> <pad> <pad> <eos>\n",
      "***************************************************\n",
      "Decoded Oscar Wilde: not till then does nature attain her artistic challenge <pad> <pad> <pad> <pad> <pad> <pad> <pad> <pad> <pad> <pad> <pad> <eos>\n",
      "-------------------- Author Ernest Hemingway --------------------\n",
      "Real: then , once they have <unk> themselves , they <unk> it and you get more <unk> <pad> <pad> <pad> <pad> <eos>\n",
      "***************************************************\n",
      "Decoded Friedrich Nietzsche: then , once they have <unk> themselves , they <unk> it and you get more <unk> <pad> <pad> <pad> <pad> <eos>\n",
      "***************************************************\n",
      "Decoded Ernest Hemingway: then , once they have <unk> themselves , they <unk> it and you get more <unk> <pad> <pad> <pad> <pad> <eos>\n",
      "***************************************************\n",
      "Decoded Oscar Wilde: then , once they have <unk> themselves , they <unk> it and you get more <unk> <pad> <pad> <pad> <pad> <eos>\n",
      "-------------------- Author Oscar Wilde --------------------\n",
      "Real: god made the blind <unk> and the mole , and each has its place <pad> <pad> <pad> <pad> <pad> <pad> <eos>\n",
      "***************************************************\n",
      "Decoded Friedrich Nietzsche: god made the blind <unk> and the mole , and each has its place <pad> <pad> <pad> <pad> <pad> <pad> <eos>\n",
      "***************************************************\n",
      "Decoded Ernest Hemingway: god made the blind <unk> and the rabbit , and each has its place <pad> <pad> <pad> <pad> <pad> <pad> <eos>\n",
      "***************************************************\n",
      "Decoded Oscar Wilde: god made the blind <unk> and the mole , and each has its place <pad> <pad> <pad> <pad> <pad> <pad> <eos>\n",
      "\n"
     ]
    },
    {
     "data": {
      "application/vnd.jupyter.widget-view+json": {
       "model_id": "c55e806512e2470c89b68fac92976c82",
       "version_major": 2,
       "version_minor": 0
      },
      "text/plain": [
       "HBox(children=(FloatProgress(value=0.0, max=778.0), HTML(value='')))"
      ]
     },
     "metadata": {},
     "output_type": "display_data"
    },
    {
     "name": "stdout",
     "output_type": "stream",
     "text": [
      "\n",
      "*************************** EPOCH 24 ***************************\n"
     ]
    },
    {
     "data": {
      "application/vnd.jupyter.widget-view+json": {
       "model_id": "5dda5fe9195d485683afe27427d80dc3",
       "version_major": 2,
       "version_minor": 0
      },
      "text/plain": [
       "HBox(children=(FloatProgress(value=0.0, max=1814.0), HTML(value='')))"
      ]
     },
     "metadata": {},
     "output_type": "display_data"
    },
    {
     "name": "stdout",
     "output_type": "stream",
     "text": [
      "-------------------- Author Friedrich Nietzsche --------------------\n",
      "Real: o my soul , i have taken from thee all <unk> and knee <unk> and homage paying <pad> <pad> <pad> <eos>\n",
      "***************************************************\n",
      "Decoded Friedrich Nietzsche: o my soul , i have taken from thee all <unk> and knee <unk> and homage paying <pad> <pad> <pad> <eos>\n",
      "***************************************************\n",
      "Decoded Ernest Hemingway: o my soul , i have taken from thee all <unk> and knee <unk> and homage paying <pad> <pad> <pad> <eos>\n",
      "***************************************************\n",
      "Decoded Oscar Wilde: o my soul , i have taken from thee all <unk> and knee <unk> and ferrara paying <pad> <pad> <pad> <eos>\n",
      "-------------------- Author Ernest Hemingway --------------------\n",
      "Real: you <unk> ' t feel that way <pad> <pad> <pad> <pad> <pad> <pad> <pad> <pad> <pad> <pad> <pad> <pad> <pad> <eos>\n",
      "***************************************************\n",
      "Decoded Friedrich Nietzsche: you <unk> ' t feel that way <pad> <pad> <pad> <pad> <pad> <pad> <pad> <pad> <pad> <pad> <pad> <pad> <pad> <eos>\n",
      "***************************************************\n",
      "Decoded Ernest Hemingway: you <unk> ' t feel that way <pad> <pad> <pad> <pad> <pad> <pad> <pad> <pad> <pad> <pad> <pad> <pad> <pad> <eos>\n",
      "***************************************************\n",
      "Decoded Oscar Wilde: you <unk> ' t feel that way <pad> <pad> <pad> <pad> <pad> <pad> <pad> <pad> <pad> <pad> <pad> <pad> <pad> <eos>\n",
      "-------------------- Author Oscar Wilde --------------------\n",
      "Real: it was exactly one o ' clock <pad> <pad> <pad> <pad> <pad> <pad> <pad> <pad> <pad> <pad> <pad> <pad> <pad> <eos>\n",
      "***************************************************\n",
      "Decoded Friedrich Nietzsche: it was exactly one o ' clock <pad> <pad> <pad> <pad> <pad> <pad> <pad> <pad> <pad> <pad> <pad> <pad> <pad> <eos>\n",
      "***************************************************\n",
      "Decoded Ernest Hemingway: it was exactly one o ' clock <pad> <pad> <pad> <pad> <pad> <pad> <pad> <pad> <pad> <pad> <pad> <pad> <pad> <eos>\n",
      "***************************************************\n",
      "Decoded Oscar Wilde: it was exactly one o ' clock <pad> <pad> <pad> <pad> <pad> <pad> <pad> <pad> <pad> <pad> <pad> <pad> <pad> <eos>\n",
      "\n"
     ]
    },
    {
     "data": {
      "application/vnd.jupyter.widget-view+json": {
       "model_id": "1d314a0e76f44d5d903893f8450f4aec",
       "version_major": 2,
       "version_minor": 0
      },
      "text/plain": [
       "HBox(children=(FloatProgress(value=0.0, max=778.0), HTML(value='')))"
      ]
     },
     "metadata": {},
     "output_type": "display_data"
    },
    {
     "name": "stdout",
     "output_type": "stream",
     "text": [
      "\n",
      "*************************** EPOCH 25 ***************************\n"
     ]
    },
    {
     "data": {
      "application/vnd.jupyter.widget-view+json": {
       "model_id": "57b49cca146b4360a80ed5ec57086d4f",
       "version_major": 2,
       "version_minor": 0
      },
      "text/plain": [
       "HBox(children=(FloatProgress(value=0.0, max=1814.0), HTML(value='')))"
      ]
     },
     "metadata": {},
     "output_type": "display_data"
    },
    {
     "name": "stdout",
     "output_type": "stream",
     "text": [
      "-------------------- Author Friedrich Nietzsche --------------------\n",
      "Real: they have found out that interesting <unk> is possible even in their art <pad> <pad> <pad> <pad> <pad> <pad> <pad> <eos>\n",
      "***************************************************\n",
      "Decoded Friedrich Nietzsche: they have found out that interesting <unk> is possible even in their art <pad> <pad> <pad> <pad> <pad> <pad> <pad> <eos>\n",
      "***************************************************\n",
      "Decoded Ernest Hemingway: they have found out that interesting <unk> is possible even in their art <pad> <pad> <pad> <pad> <pad> <pad> <pad> <eos>\n",
      "***************************************************\n",
      "Decoded Oscar Wilde: they have found out that interesting <unk> is possible even in their art <pad> <pad> <pad> <pad> <pad> <pad> <pad> <eos>\n",
      "-------------------- Author Ernest Hemingway --------------------\n",
      "Real: have i told you , yet , properly , that i love you ? you told me <pad> <pad> <pad> <eos>\n",
      "***************************************************\n",
      "Decoded Friedrich Nietzsche: have i told you , yet , properly , that i love you ? you told me <pad> <pad> <pad> <eos>\n",
      "***************************************************\n",
      "Decoded Ernest Hemingway: have i told you , yet , properly , that i love you ? you told me <pad> <pad> <pad> <eos>\n",
      "***************************************************\n",
      "Decoded Oscar Wilde: have i told you , yet , unless , that i love you ? you told me <pad> <pad> <pad> <eos>\n",
      "-------------------- Author Oscar Wilde --------------------\n",
      "Real: but , on the other hand , <unk> from their appearance , most of them cannot be at all <unk> <eos>\n",
      "***************************************************\n",
      "Decoded Friedrich Nietzsche: but , on the other hand , <unk> from their appearance , most of them cannot be at all <unk> <eos>\n",
      "***************************************************\n",
      "Decoded Ernest Hemingway: but , on the other hand , <unk> from their appearance , most of them cannot be at all <unk> <eos>\n",
      "***************************************************\n",
      "Decoded Oscar Wilde: but , on the other hand , <unk> from their appearance , most of them cannot be at all <unk> <eos>\n",
      "\n"
     ]
    },
    {
     "data": {
      "application/vnd.jupyter.widget-view+json": {
       "model_id": "66f69d62019549ebaec7dfa6b3718a63",
       "version_major": 2,
       "version_minor": 0
      },
      "text/plain": [
       "HBox(children=(FloatProgress(value=0.0, max=778.0), HTML(value='')))"
      ]
     },
     "metadata": {},
     "output_type": "display_data"
    },
    {
     "name": "stdout",
     "output_type": "stream",
     "text": [
      "\n",
      "*************************** EPOCH 26 ***************************\n"
     ]
    },
    {
     "data": {
      "application/vnd.jupyter.widget-view+json": {
       "model_id": "00c5b198f7d749b699299888db413721",
       "version_major": 2,
       "version_minor": 0
      },
      "text/plain": [
       "HBox(children=(FloatProgress(value=0.0, max=1814.0), HTML(value='')))"
      ]
     },
     "metadata": {},
     "output_type": "display_data"
    },
    {
     "name": "stdout",
     "output_type": "stream",
     "text": [
      "-------------------- Author Friedrich Nietzsche --------------------\n",
      "Real: <ent> , on the other hand , were more familiar with the thought that <unk> also may have dignity , <eos>\n",
      "***************************************************\n",
      "Decoded Friedrich Nietzsche: <ent> , on the other hand , were more familiar with the thought that <unk> also may have dignity , <eos>\n",
      "***************************************************\n",
      "Decoded Ernest Hemingway: <ent> , on the other hand , were more existent with the thought that <unk> also may have dignity , <eos>\n",
      "***************************************************\n",
      "Decoded Oscar Wilde: <ent> , on the other hand , were more familiar with the thought that <unk> also may have dignity , <eos>\n",
      "-------------------- Author Ernest Hemingway --------------------\n",
      "Real: just a <unk> , said <ent> want to start now ? come on <pad> <pad> <pad> <pad> <pad> <pad> <pad> <eos>\n",
      "***************************************************\n",
      "Decoded Friedrich Nietzsche: just a <unk> , said <ent> want to start now ? come on <pad> <pad> <pad> <pad> <pad> <pad> <pad> <eos>\n",
      "***************************************************\n",
      "Decoded Ernest Hemingway: just a <unk> , said <ent> want to start now ? come on <pad> <pad> <pad> <pad> <pad> <pad> <pad> <eos>\n",
      "***************************************************\n",
      "Decoded Oscar Wilde: just a <unk> , said <ent> want to start now ? come on <pad> <pad> <pad> <pad> <pad> <pad> <pad> <eos>\n",
      "-------------------- Author Oscar Wilde --------------------\n",
      "Real: when wisdom has been <unk> to me , philosophy barren , and the proverbs and <unk> of those who have <eos>\n",
      "***************************************************\n",
      "Decoded Friedrich Nietzsche: when wisdom has been <unk> to me , philosophy barren , and the esoteric and <unk> of those who have <eos>\n",
      "***************************************************\n",
      "Decoded Ernest Hemingway: when wisdom has been <unk> to me , someone acts , and the reader and <unk> of those who have <eos>\n",
      "***************************************************\n",
      "Decoded Oscar Wilde: when wisdom has been <unk> to me , philosophy barren , and the proverbs and <unk> of those who have <eos>\n",
      "\n"
     ]
    },
    {
     "data": {
      "application/vnd.jupyter.widget-view+json": {
       "model_id": "38e2be76a3634e479e2974ebb5ab2503",
       "version_major": 2,
       "version_minor": 0
      },
      "text/plain": [
       "HBox(children=(FloatProgress(value=0.0, max=778.0), HTML(value='')))"
      ]
     },
     "metadata": {},
     "output_type": "display_data"
    },
    {
     "name": "stdout",
     "output_type": "stream",
     "text": [
      "\n",
      "*************************** EPOCH 27 ***************************\n"
     ]
    },
    {
     "data": {
      "application/vnd.jupyter.widget-view+json": {
       "model_id": "3ee2eefa4446402a8a6de6829861038c",
       "version_major": 2,
       "version_minor": 0
      },
      "text/plain": [
       "HBox(children=(FloatProgress(value=0.0, max=1814.0), HTML(value='')))"
      ]
     },
     "metadata": {},
     "output_type": "display_data"
    },
    {
     "name": "stdout",
     "output_type": "stream",
     "text": [
      "-------------------- Author Friedrich Nietzsche --------------------\n",
      "Real: one should note the <unk> of command , with which the german cities are absolutely surrounded at present , when <eos>\n",
      "***************************************************\n",
      "Decoded Friedrich Nietzsche: one should note the <unk> of command , with which the german cities are absolutely surrounded at present , when <eos>\n",
      "***************************************************\n",
      "Decoded Ernest Hemingway: one should note the <unk> of command , with which the german cities are absolutely surrounded at present , when <eos>\n",
      "***************************************************\n",
      "Decoded Oscar Wilde: one should note the <unk> of command , with which the german cities are absolutely surrounded at present , when <eos>\n",
      "-------------------- Author Ernest Hemingway --------------------\n",
      "Real: you don ' t need to thank him <pad> <pad> <pad> <pad> <pad> <pad> <pad> <pad> <pad> <pad> <pad> <pad> <eos>\n",
      "***************************************************\n",
      "Decoded Friedrich Nietzsche: you don ' t need to thank him <pad> <pad> <pad> <pad> <pad> <pad> <pad> <pad> <pad> <pad> <pad> <pad> <eos>\n",
      "***************************************************\n",
      "Decoded Ernest Hemingway: you don ' t need to thank him <pad> <pad> <pad> <pad> <pad> <pad> <pad> <pad> <pad> <pad> <pad> <pad> <eos>\n",
      "***************************************************\n",
      "Decoded Oscar Wilde: you don ' t need to thank him <pad> <pad> <pad> <pad> <pad> <pad> <pad> <pad> <pad> <pad> <pad> <pad> <eos>\n",
      "-------------------- Author Oscar Wilde --------------------\n",
      "Real: fortunately for him she had on the other side lord <ent> , a most <unk> middle aged <unk> , as <eos>\n",
      "***************************************************\n",
      "Decoded Friedrich Nietzsche: unfortunately for him she had on the other side lord <ent> , a most <unk> middle aged <unk> , as <eos>\n",
      "***************************************************\n",
      "Decoded Ernest Hemingway: unfortunately for him she had on the other side lord <ent> , a most <unk> middle aged <unk> , as <eos>\n",
      "***************************************************\n",
      "Decoded Oscar Wilde: fortunately for him she had on the other side lord <ent> , a most <unk> middle aged <unk> , as <eos>\n",
      "\n"
     ]
    },
    {
     "data": {
      "application/vnd.jupyter.widget-view+json": {
       "model_id": "fdf8cc623c20440d80a78b35cb0d74ec",
       "version_major": 2,
       "version_minor": 0
      },
      "text/plain": [
       "HBox(children=(FloatProgress(value=0.0, max=778.0), HTML(value='')))"
      ]
     },
     "metadata": {},
     "output_type": "display_data"
    },
    {
     "name": "stdout",
     "output_type": "stream",
     "text": [
      "\n",
      "*************************** EPOCH 28 ***************************\n"
     ]
    },
    {
     "data": {
      "application/vnd.jupyter.widget-view+json": {
       "model_id": "7066e11e14aa45758513799fd08d3c70",
       "version_major": 2,
       "version_minor": 0
      },
      "text/plain": [
       "HBox(children=(FloatProgress(value=0.0, max=1814.0), HTML(value='')))"
      ]
     },
     "metadata": {},
     "output_type": "display_data"
    },
    {
     "name": "stdout",
     "output_type": "stream",
     "text": [
      "-------------------- Author Friedrich Nietzsche --------------------\n",
      "Real: and this is the title of the modern philosophers to sit among the great <unk> of life or rather of <eos>\n",
      "***************************************************\n",
      "Decoded Friedrich Nietzsche: and this is the title of the modern philosophers to sit among the great <unk> of life or rather of <eos>\n",
      "***************************************************\n",
      "Decoded Ernest Hemingway: and this is the title of the modern writers to sit among the great <unk> of life or rather of <eos>\n",
      "***************************************************\n",
      "Decoded Oscar Wilde: and this is the title of the modern philosophers to sit among the great <unk> of life or rather of <eos>\n",
      "-------------------- Author Ernest Hemingway --------------------\n",
      "Real: that is twenty years at five hundred lira a year for the <ent> d <ent> the <unk> carries ten guineas <eos>\n",
      "***************************************************\n",
      "Decoded Friedrich Nietzsche: that is twenty years at five hundred extended a year for the <ent> d <ent> the <unk> carries ten prickly <eos>\n",
      "***************************************************\n",
      "Decoded Ernest Hemingway: that is twenty years at five hundred lira a year for the <ent> d <ent> the <unk> lira ten guineas <eos>\n",
      "***************************************************\n",
      "Decoded Oscar Wilde: that is twenty years at five hundred extended a year for the <ent> d <ent> the <unk> carries ten pounds <eos>\n",
      "-------------------- Author Oscar Wilde --------------------\n",
      "Real: he started , and looked round <pad> <pad> <pad> <pad> <pad> <pad> <pad> <pad> <pad> <pad> <pad> <pad> <pad> <pad> <eos>\n",
      "***************************************************\n",
      "Decoded Friedrich Nietzsche: he started , and looked round <pad> <pad> <pad> <pad> <pad> <pad> <pad> <pad> <pad> <pad> <pad> <pad> <pad> <pad> <eos>\n",
      "***************************************************\n",
      "Decoded Ernest Hemingway: he started , and looked round <pad> <pad> <pad> <pad> <pad> <pad> <pad> <pad> <pad> <pad> <pad> <pad> <pad> <pad> <eos>\n",
      "***************************************************\n",
      "Decoded Oscar Wilde: he started , and looked round <pad> <pad> <pad> <pad> <pad> <pad> <pad> <pad> <pad> <pad> <pad> <pad> <pad> <pad> <eos>\n",
      "\n"
     ]
    },
    {
     "data": {
      "application/vnd.jupyter.widget-view+json": {
       "model_id": "1947931fe1cf462cac1977062759bab0",
       "version_major": 2,
       "version_minor": 0
      },
      "text/plain": [
       "HBox(children=(FloatProgress(value=0.0, max=778.0), HTML(value='')))"
      ]
     },
     "metadata": {},
     "output_type": "display_data"
    },
    {
     "name": "stdout",
     "output_type": "stream",
     "text": [
      "\n",
      "*************************** EPOCH 29 ***************************\n"
     ]
    },
    {
     "data": {
      "application/vnd.jupyter.widget-view+json": {
       "model_id": "0b7f834d65e14318a37c0702506d8515",
       "version_major": 2,
       "version_minor": 0
      },
      "text/plain": [
       "HBox(children=(FloatProgress(value=0.0, max=1814.0), HTML(value='')))"
      ]
     },
     "metadata": {},
     "output_type": "display_data"
    },
    {
     "name": "stdout",
     "output_type": "stream",
     "text": [
      "-------------------- Author Friedrich Nietzsche --------------------\n",
      "Real: no salvation of the soul ever results from it , but only a new kind of spiritual illness <pad> <pad> <eos>\n",
      "***************************************************\n",
      "Decoded Friedrich Nietzsche: no salvation of the soul ever results from it , but only a new kind of spiritual illness <pad> <pad> <eos>\n",
      "***************************************************\n",
      "Decoded Ernest Hemingway: no compass of the soul ever results from it , but only a new kind of priests critic <pad> <pad> <eos>\n",
      "***************************************************\n",
      "Decoded Oscar Wilde: no doctrine of the soul ever results from it , but only a new kind of spiritual critic <pad> <pad> <eos>\n",
      "-------------------- Author Ernest Hemingway --------------------\n",
      "Real: i wish that your mistress was here and we could have movement <pad> <pad> <pad> <pad> <pad> <pad> <pad> <pad> <eos>\n",
      "***************************************************\n",
      "Decoded Friedrich Nietzsche: i wish that your thief was here and we could have movement <pad> <pad> <pad> <pad> <pad> <pad> <pad> <pad> <eos>\n",
      "***************************************************\n",
      "Decoded Ernest Hemingway: i wish that your maid was here and we could have movement <pad> <pad> <pad> <pad> <pad> <pad> <pad> <pad> <eos>\n",
      "***************************************************\n",
      "Decoded Oscar Wilde: i wish that your maid was here and we could have movement <pad> <pad> <pad> <pad> <pad> <pad> <pad> <pad> <eos>\n",
      "-------------------- Author Oscar Wilde --------------------\n",
      "Real: but he held her <unk> to him , and would not suffer her to <unk> <pad> <pad> <pad> <pad> <pad> <eos>\n",
      "***************************************************\n",
      "Decoded Friedrich Nietzsche: but he held her <unk> to him , and would not suffer her to <unk> <pad> <pad> <pad> <pad> <pad> <eos>\n",
      "***************************************************\n",
      "Decoded Ernest Hemingway: but he held her <unk> to him , and would not suffer her to <unk> <pad> <pad> <pad> <pad> <pad> <eos>\n",
      "***************************************************\n",
      "Decoded Oscar Wilde: but he held her <unk> to him , and would not suffer her to <unk> <pad> <pad> <pad> <pad> <pad> <eos>\n",
      "\n"
     ]
    },
    {
     "data": {
      "application/vnd.jupyter.widget-view+json": {
       "model_id": "5b7908d76d2f4e44bc97c0275cc2c6e6",
       "version_major": 2,
       "version_minor": 0
      },
      "text/plain": [
       "HBox(children=(FloatProgress(value=0.0, max=778.0), HTML(value='')))"
      ]
     },
     "metadata": {},
     "output_type": "display_data"
    },
    {
     "name": "stdout",
     "output_type": "stream",
     "text": [
      "\n",
      "*************************** EPOCH 30 ***************************\n"
     ]
    },
    {
     "data": {
      "application/vnd.jupyter.widget-view+json": {
       "model_id": "0dc79fa638dd4c19a37bdd84c37af5b7",
       "version_major": 2,
       "version_minor": 0
      },
      "text/plain": [
       "HBox(children=(FloatProgress(value=0.0, max=1814.0), HTML(value='')))"
      ]
     },
     "metadata": {},
     "output_type": "display_data"
    },
    {
     "name": "stdout",
     "output_type": "stream",
     "text": [
      "-------------------- Author Friedrich Nietzsche --------------------\n",
      "Real: right on the path which he was about to descend came two kings walking , <unk> with <unk> and <unk> <eos>\n",
      "***************************************************\n",
      "Decoded Friedrich Nietzsche: right on the path which he was about to descend came two kings walking , <unk> with <unk> and <unk> <eos>\n",
      "***************************************************\n",
      "Decoded Ernest Hemingway: right on the path which he was about to settle came two kings walking , <unk> with <unk> and <unk> <eos>\n",
      "***************************************************\n",
      "Decoded Oscar Wilde: right on the path which he was about to wander came two kings walking , <unk> with <unk> and <unk> <eos>\n",
      "-------------------- Author Ernest Hemingway --------------------\n",
      "Real: they were going with the wind now and they were both tired <pad> <pad> <pad> <pad> <pad> <pad> <pad> <pad> <eos>\n",
      "***************************************************\n",
      "Decoded Friedrich Nietzsche: they were going with the wind now and they were both tired <pad> <pad> <pad> <pad> <pad> <pad> <pad> <pad> <eos>\n",
      "***************************************************\n",
      "Decoded Ernest Hemingway: they were going with the wind now and they were both tired <pad> <pad> <pad> <pad> <pad> <pad> <pad> <pad> <eos>\n",
      "***************************************************\n",
      "Decoded Oscar Wilde: they were going with the wind now and they were both tired <pad> <pad> <pad> <pad> <pad> <pad> <pad> <pad> <eos>\n",
      "-------------------- Author Oscar Wilde --------------------\n",
      "Real: he had hardly , however , gone a couple of miles , when he heard somebody <unk> after him , <eos>\n",
      "***************************************************\n",
      "Decoded Friedrich Nietzsche: he had hardly , however , gone a couple of miles , when he heard somebody <unk> after him , <eos>\n",
      "***************************************************\n",
      "Decoded Ernest Hemingway: he had hardly , however , gone a couple of miles , when he heard somebody <unk> after him , <eos>\n",
      "***************************************************\n",
      "Decoded Oscar Wilde: he had hardly , however , gone a couple of miles , when he heard somebody <unk> after him , <eos>\n",
      "\n"
     ]
    },
    {
     "data": {
      "application/vnd.jupyter.widget-view+json": {
       "model_id": "b6fc04279abd4139bc2606cb7ad4df73",
       "version_major": 2,
       "version_minor": 0
      },
      "text/plain": [
       "HBox(children=(FloatProgress(value=0.0, max=778.0), HTML(value='')))"
      ]
     },
     "metadata": {},
     "output_type": "display_data"
    },
    {
     "name": "stdout",
     "output_type": "stream",
     "text": [
      "\n",
      "*************************** EPOCH 31 ***************************\n"
     ]
    },
    {
     "data": {
      "application/vnd.jupyter.widget-view+json": {
       "model_id": "95084a984dfb4aac847cc85d21209f8a",
       "version_major": 2,
       "version_minor": 0
      },
      "text/plain": [
       "HBox(children=(FloatProgress(value=0.0, max=1814.0), HTML(value='')))"
      ]
     },
     "metadata": {},
     "output_type": "display_data"
    },
    {
     "name": "stdout",
     "output_type": "stream",
     "text": [
      "-------------------- Author Friedrich Nietzsche --------------------\n",
      "Real: therefore do i wash the hand that hath helped the <unk> <pad> <pad> <pad> <pad> <pad> <pad> <pad> <pad> <pad> <eos>\n",
      "***************************************************\n",
      "Decoded Friedrich Nietzsche: therefore do i wash the hand that hath helped the <unk> <pad> <pad> <pad> <pad> <pad> <pad> <pad> <pad> <pad> <eos>\n",
      "***************************************************\n",
      "Decoded Ernest Hemingway: any do i wash the hand that doubt helped the <unk> <pad> <pad> <pad> <pad> <pad> <pad> <pad> <pad> <pad> <eos>\n",
      "***************************************************\n",
      "Decoded Oscar Wilde: therefore do i shoes the hand that hath helped the <unk> <pad> <pad> <pad> <pad> <pad> <pad> <pad> <pad> <pad> <eos>\n",
      "-------------------- Author Ernest Hemingway --------------------\n",
      "Real: they ' re so bloody , <ent> said <pad> <pad> <pad> <pad> <pad> <pad> <pad> <pad> <pad> <pad> <pad> <pad> <eos>\n",
      "***************************************************\n",
      "Decoded Friedrich Nietzsche: they ' re so terrible , <ent> said <pad> <pad> <pad> <pad> <pad> <pad> <pad> <pad> <pad> <pad> <pad> <pad> <eos>\n",
      "***************************************************\n",
      "Decoded Ernest Hemingway: they ' re so bloody , <ent> said <pad> <pad> <pad> <pad> <pad> <pad> <pad> <pad> <pad> <pad> <pad> <pad> <eos>\n",
      "***************************************************\n",
      "Decoded Oscar Wilde: they ' re so afternoon , <ent> said <pad> <pad> <pad> <pad> <pad> <pad> <pad> <pad> <pad> <pad> <pad> <pad> <eos>\n",
      "-------------------- Author Oscar Wilde --------------------\n",
      "Real: great <unk> of silver dragged down the thick <unk> of his ears , and in his hands he had a <eos>\n",
      "***************************************************\n",
      "Decoded Friedrich Nietzsche: great <unk> of silver suddenly down the thick <unk> of his ears , and in his hands he had a <eos>\n",
      "***************************************************\n",
      "Decoded Ernest Hemingway: great <unk> of silver dragged down the thick <unk> of his ears , and in his hands he had a <eos>\n",
      "***************************************************\n",
      "Decoded Oscar Wilde: great <unk> of silver dragged down the thick <unk> of his ears , and in his hands he had a <eos>\n",
      "\n"
     ]
    },
    {
     "data": {
      "application/vnd.jupyter.widget-view+json": {
       "model_id": "1daabfc186ba470297eeba02bfece091",
       "version_major": 2,
       "version_minor": 0
      },
      "text/plain": [
       "HBox(children=(FloatProgress(value=0.0, max=778.0), HTML(value='')))"
      ]
     },
     "metadata": {},
     "output_type": "display_data"
    },
    {
     "name": "stdout",
     "output_type": "stream",
     "text": [
      "\n",
      "*************************** EPOCH 32 ***************************\n"
     ]
    },
    {
     "data": {
      "application/vnd.jupyter.widget-view+json": {
       "model_id": "6b01a0203b8b44499a9ae6726167220f",
       "version_major": 2,
       "version_minor": 0
      },
      "text/plain": [
       "HBox(children=(FloatProgress(value=0.0, max=1814.0), HTML(value='')))"
      ]
     },
     "metadata": {},
     "output_type": "display_data"
    },
    {
     "name": "stdout",
     "output_type": "stream",
     "text": [
      "-------------------- Author Friedrich Nietzsche --------------------\n",
      "Real: until now no single individuality , or only the very rarest , have been free <unk> they were influenced by <eos>\n",
      "***************************************************\n",
      "Decoded Friedrich Nietzsche: until now no single individuality , or only the very rarest , have been free <unk> they were influenced by <eos>\n",
      "***************************************************\n",
      "Decoded Ernest Hemingway: until now no single righteous , or only the very lesser , have been free <unk> they were paintings by <eos>\n",
      "***************************************************\n",
      "Decoded Oscar Wilde: until now no single spontaneous , or only the very rarest , have been free <unk> they were influenced by <eos>\n",
      "-------------------- Author Ernest Hemingway --------------------\n",
      "Real: and a chauffeur in <unk> <pad> <pad> <pad> <pad> <pad> <pad> <pad> <pad> <pad> <pad> <pad> <pad> <pad> <pad> <pad> <eos>\n",
      "***************************************************\n",
      "Decoded Friedrich Nietzsche: and a camel in <unk> <pad> <pad> <pad> <pad> <pad> <pad> <pad> <pad> <pad> <pad> <pad> <pad> <pad> <pad> <pad> <eos>\n",
      "***************************************************\n",
      "Decoded Ernest Hemingway: and a chauffeur in <unk> <pad> <pad> <pad> <pad> <pad> <pad> <pad> <pad> <pad> <pad> <pad> <pad> <pad> <pad> <pad> <eos>\n",
      "***************************************************\n",
      "Decoded Oscar Wilde: and a husband in <unk> <pad> <pad> <pad> <pad> <pad> <pad> <pad> <pad> <pad> <pad> <pad> <pad> <pad> <pad> <pad> <eos>\n",
      "-------------------- Author Oscar Wilde --------------------\n",
      "Real: and this is the reason that the <unk> art of the world always came from a <unk> <unk> athens , <eos>\n",
      "***************************************************\n",
      "Decoded Friedrich Nietzsche: and this is the reason that the <unk> art of the world always came from a <unk> <unk> athens , <eos>\n",
      "***************************************************\n",
      "Decoded Ernest Hemingway: and this is the reason that the <unk> art of the world always came from a <unk> <unk> alexander , <eos>\n",
      "***************************************************\n",
      "Decoded Oscar Wilde: and this is the reason that the <unk> art of the world always came from a <unk> <unk> athens , <eos>\n",
      "\n"
     ]
    },
    {
     "data": {
      "application/vnd.jupyter.widget-view+json": {
       "model_id": "fb0daf6605994396a03d994484bae380",
       "version_major": 2,
       "version_minor": 0
      },
      "text/plain": [
       "HBox(children=(FloatProgress(value=0.0, max=778.0), HTML(value='')))"
      ]
     },
     "metadata": {},
     "output_type": "display_data"
    },
    {
     "name": "stdout",
     "output_type": "stream",
     "text": [
      "\n",
      "*************************** EPOCH 33 ***************************\n"
     ]
    },
    {
     "data": {
      "application/vnd.jupyter.widget-view+json": {
       "model_id": "6e1ab0830b04454c99b94c26ab0fee38",
       "version_major": 2,
       "version_minor": 0
      },
      "text/plain": [
       "HBox(children=(FloatProgress(value=0.0, max=1814.0), HTML(value='')))"
      ]
     },
     "metadata": {},
     "output_type": "display_data"
    },
    {
     "name": "stdout",
     "output_type": "stream",
     "text": [
      "-------------------- Author Friedrich Nietzsche --------------------\n",
      "Real: and we should not seek to attain them by the aid of the highest means and instruments which exist means <eos>\n",
      "***************************************************\n",
      "Decoded Friedrich Nietzsche: and we should not seek to attain them by the aid of the highest means and instruments which exist means <eos>\n",
      "***************************************************\n",
      "Decoded Ernest Hemingway: and we should not seek to attain them by the aid of the highest means and instruments which standard means <eos>\n",
      "***************************************************\n",
      "Decoded Oscar Wilde: and we should not seek to attain them by the aid of the highest means and instruments which exist means <eos>\n",
      "-------------------- Author Ernest Hemingway --------------------\n",
      "Real: i ' m going to have a drink <pad> <pad> <pad> <pad> <pad> <pad> <pad> <pad> <pad> <pad> <pad> <pad> <eos>\n",
      "***************************************************\n",
      "Decoded Friedrich Nietzsche: i ' m going to have a drink <pad> <pad> <pad> <pad> <pad> <pad> <pad> <pad> <pad> <pad> <pad> <pad> <eos>\n",
      "***************************************************\n",
      "Decoded Ernest Hemingway: i ' m going to have a drink <pad> <pad> <pad> <pad> <pad> <pad> <pad> <pad> <pad> <pad> <pad> <pad> <eos>\n",
      "***************************************************\n",
      "Decoded Oscar Wilde: i ' m going to have a drink <pad> <pad> <pad> <pad> <pad> <pad> <pad> <pad> <pad> <pad> <pad> <pad> <eos>\n",
      "-------------------- Author Oscar Wilde --------------------\n",
      "Real: this is something that can easily be <unk> <pad> <pad> <pad> <pad> <pad> <pad> <pad> <pad> <pad> <pad> <pad> <pad> <eos>\n",
      "***************************************************\n",
      "Decoded Friedrich Nietzsche: this is something that can easily be <unk> <pad> <pad> <pad> <pad> <pad> <pad> <pad> <pad> <pad> <pad> <pad> <pad> <eos>\n",
      "***************************************************\n",
      "Decoded Ernest Hemingway: this is something that can easily be <unk> <pad> <pad> <pad> <pad> <pad> <pad> <pad> <pad> <pad> <pad> <pad> <pad> <eos>\n",
      "***************************************************\n",
      "Decoded Oscar Wilde: this is something that can easily be <unk> <pad> <pad> <pad> <pad> <pad> <pad> <pad> <pad> <pad> <pad> <pad> <pad> <eos>\n",
      "\n"
     ]
    },
    {
     "data": {
      "application/vnd.jupyter.widget-view+json": {
       "model_id": "893d094bbba646c6a5c2d3435698dc48",
       "version_major": 2,
       "version_minor": 0
      },
      "text/plain": [
       "HBox(children=(FloatProgress(value=0.0, max=778.0), HTML(value='')))"
      ]
     },
     "metadata": {},
     "output_type": "display_data"
    },
    {
     "name": "stdout",
     "output_type": "stream",
     "text": [
      "\n",
      "*************************** EPOCH 34 ***************************\n"
     ]
    },
    {
     "data": {
      "application/vnd.jupyter.widget-view+json": {
       "model_id": "e17a70c49a58465db8d7eaf2dcf78adc",
       "version_major": 2,
       "version_minor": 0
      },
      "text/plain": [
       "HBox(children=(FloatProgress(value=0.0, max=1814.0), HTML(value='')))"
      ]
     },
     "metadata": {},
     "output_type": "display_data"
    },
    {
     "name": "stdout",
     "output_type": "stream",
     "text": [
      "-------------------- Author Friedrich Nietzsche --------------------\n",
      "Real: o heaven above me ! thou pure , thou lofty heaven ! this is now thy purity unto me , <eos>\n",
      "***************************************************\n",
      "Decoded Friedrich Nietzsche: o heaven above me ! thou pure , thou lofty heaven ! this is now thy purity unto me , <eos>\n",
      "***************************************************\n",
      "Decoded Ernest Hemingway: o heaven above me ! thou pure , thou appreciated heaven ! this is now thy purity to me , <eos>\n",
      "***************************************************\n",
      "Decoded Oscar Wilde: o heaven above me ! thou pure , thou lofty heaven ! this is now thy purity unto me , <eos>\n",
      "-------------------- Author Ernest Hemingway --------------------\n",
      "Real: he tried a pass with the <unk> and the bull did not move <pad> <pad> <pad> <pad> <pad> <pad> <pad> <eos>\n",
      "***************************************************\n",
      "Decoded Friedrich Nietzsche: he tried a pass with the <unk> and the bull did not move <pad> <pad> <pad> <pad> <pad> <pad> <pad> <eos>\n",
      "***************************************************\n",
      "Decoded Ernest Hemingway: he tried a pass with the <unk> and the bull did not move <pad> <pad> <pad> <pad> <pad> <pad> <pad> <eos>\n",
      "***************************************************\n",
      "Decoded Oscar Wilde: he tried a pass with the <unk> and the king did not move <pad> <pad> <pad> <pad> <pad> <pad> <pad> <eos>\n",
      "-------------------- Author Oscar Wilde --------------------\n",
      "Real: i am bound to acknowledge that it was with a good deal of difficulty that he brought himself to adopt <eos>\n",
      "***************************************************\n",
      "Decoded Friedrich Nietzsche: i am bound to acknowledge that it was with a good deal of difficulty that he brought himself to adopt <eos>\n",
      "***************************************************\n",
      "Decoded Ernest Hemingway: i am bound to deny that it was with a good deal of observing that he brought himself to shift <eos>\n",
      "***************************************************\n",
      "Decoded Oscar Wilde: i am bound to acknowledge that it was with a good deal of difficulty that he brought himself to adopt <eos>\n",
      "\n"
     ]
    },
    {
     "data": {
      "application/vnd.jupyter.widget-view+json": {
       "model_id": "80feead0bdc444b9a54e388a6938bddd",
       "version_major": 2,
       "version_minor": 0
      },
      "text/plain": [
       "HBox(children=(FloatProgress(value=0.0, max=778.0), HTML(value='')))"
      ]
     },
     "metadata": {},
     "output_type": "display_data"
    },
    {
     "name": "stdout",
     "output_type": "stream",
     "text": [
      "\n",
      "*************************** EPOCH 35 ***************************\n"
     ]
    },
    {
     "data": {
      "application/vnd.jupyter.widget-view+json": {
       "model_id": "d6b48455b31a46498cfede3d5d199071",
       "version_major": 2,
       "version_minor": 0
      },
      "text/plain": [
       "HBox(children=(FloatProgress(value=0.0, max=1814.0), HTML(value='')))"
      ]
     },
     "metadata": {},
     "output_type": "display_data"
    },
    {
     "name": "stdout",
     "output_type": "stream",
     "text": [
      "-------------------- Author Friedrich Nietzsche --------------------\n",
      "Real: always appearing <unk> when , in the greece of the third century , philosophy had become a matter of public <eos>\n",
      "***************************************************\n",
      "Decoded Friedrich Nietzsche: always runaway <unk> when , in the greece of the third century , philosophy had become a matter of public <eos>\n",
      "***************************************************\n",
      "Decoded Ernest Hemingway: always sung <unk> when , in the greece of the third city , someone had become a matter of public <eos>\n",
      "***************************************************\n",
      "Decoded Oscar Wilde: always lastly <unk> when , in the greece of the third century , philosophy had become a matter of public <eos>\n",
      "-------------------- Author Ernest Hemingway --------------------\n",
      "Real: he was standing up and looking at them <pad> <pad> <pad> <pad> <pad> <pad> <pad> <pad> <pad> <pad> <pad> <pad> <eos>\n",
      "***************************************************\n",
      "Decoded Friedrich Nietzsche: he was standing up and looking at them <pad> <pad> <pad> <pad> <pad> <pad> <pad> <pad> <pad> <pad> <pad> <pad> <eos>\n",
      "***************************************************\n",
      "Decoded Ernest Hemingway: he was standing up and looking at them <pad> <pad> <pad> <pad> <pad> <pad> <pad> <pad> <pad> <pad> <pad> <pad> <eos>\n",
      "***************************************************\n",
      "Decoded Oscar Wilde: he was standing up and looking at them <pad> <pad> <pad> <pad> <pad> <pad> <pad> <pad> <pad> <pad> <pad> <pad> <eos>\n",
      "-------------------- Author Oscar Wilde --------------------\n",
      "Real: and when he had passed out of the city he saw seated by the <unk> a young man who was <eos>\n",
      "***************************************************\n",
      "Decoded Friedrich Nietzsche: and when he had passed out of the city he saw seated by the <unk> a young man who was <eos>\n",
      "***************************************************\n",
      "Decoded Ernest Hemingway: and when he had passed out of the city he saw seated by the <unk> a young man who was <eos>\n",
      "***************************************************\n",
      "Decoded Oscar Wilde: and when he had passed out of the city he saw seated by the <unk> a young man who was <eos>\n",
      "\n"
     ]
    },
    {
     "data": {
      "application/vnd.jupyter.widget-view+json": {
       "model_id": "40118bf6c65842b585ae9379f8220770",
       "version_major": 2,
       "version_minor": 0
      },
      "text/plain": [
       "HBox(children=(FloatProgress(value=0.0, max=778.0), HTML(value='')))"
      ]
     },
     "metadata": {},
     "output_type": "display_data"
    },
    {
     "name": "stdout",
     "output_type": "stream",
     "text": [
      "\n",
      "*************************** EPOCH 36 ***************************\n"
     ]
    },
    {
     "data": {
      "application/vnd.jupyter.widget-view+json": {
       "model_id": "aac4eb6ea9cf4a1a8042b0c59fae65ca",
       "version_major": 2,
       "version_minor": 0
      },
      "text/plain": [
       "HBox(children=(FloatProgress(value=0.0, max=1814.0), HTML(value='')))"
      ]
     },
     "metadata": {},
     "output_type": "display_data"
    },
    {
     "name": "stdout",
     "output_type": "stream",
     "text": [
      "-------------------- Author Friedrich Nietzsche --------------------\n",
      "Real: he suddenly saw , with horror struck , wide open eyes , the non german <unk> , hiding itself in <eos>\n",
      "***************************************************\n",
      "Decoded Friedrich Nietzsche: he suddenly saw , with horror struck , wide open eyes , the non german <unk> , hiding itself in <eos>\n",
      "***************************************************\n",
      "Decoded Ernest Hemingway: he suddenly saw , with horror struck , wide open eyes , the non german <unk> , hiding itself in <eos>\n",
      "***************************************************\n",
      "Decoded Oscar Wilde: he suddenly saw , with horror struck , wide open eyes , the non german <unk> , pouring itself in <eos>\n",
      "-------------------- Author Ernest Hemingway --------------------\n",
      "Real: they can ' t insult <ent> i won ' t stand it <pad> <pad> <pad> <pad> <pad> <pad> <pad> <pad> <eos>\n",
      "***************************************************\n",
      "Decoded Friedrich Nietzsche: they can ' t insult <ent> i won ' t stand it <pad> <pad> <pad> <pad> <pad> <pad> <pad> <pad> <eos>\n",
      "***************************************************\n",
      "Decoded Ernest Hemingway: they can ' t insult <ent> i won ' t stand it <pad> <pad> <pad> <pad> <pad> <pad> <pad> <pad> <eos>\n",
      "***************************************************\n",
      "Decoded Oscar Wilde: they can ' t insult <ent> i won ' t stand it <pad> <pad> <pad> <pad> <pad> <pad> <pad> <pad> <eos>\n",
      "-------------------- Author Oscar Wilde --------------------\n",
      "Real: she was quite beautiful , and wonderfully like <ent> i think it was that which first <unk> me to her <eos>\n",
      "***************************************************\n",
      "Decoded Friedrich Nietzsche: she was quite beautiful , and wonderfully like <ent> i think it was that which first <unk> me to her <eos>\n",
      "***************************************************\n",
      "Decoded Ernest Hemingway: she was quite beautiful , and wonderfully like <ent> i think it was that which first <unk> me to her <eos>\n",
      "***************************************************\n",
      "Decoded Oscar Wilde: she was quite beautiful , and wonderfully like <ent> i think it was that which first <unk> me to her <eos>\n",
      "\n"
     ]
    },
    {
     "data": {
      "application/vnd.jupyter.widget-view+json": {
       "model_id": "0047fd1fef47498aa3b982c8259d1ffa",
       "version_major": 2,
       "version_minor": 0
      },
      "text/plain": [
       "HBox(children=(FloatProgress(value=0.0, max=778.0), HTML(value='')))"
      ]
     },
     "metadata": {},
     "output_type": "display_data"
    },
    {
     "name": "stdout",
     "output_type": "stream",
     "text": [
      "\n",
      "*************************** EPOCH 37 ***************************\n"
     ]
    },
    {
     "data": {
      "application/vnd.jupyter.widget-view+json": {
       "model_id": "056bb5b7f1d5474fb9a77f80209ea6a4",
       "version_major": 2,
       "version_minor": 0
      },
      "text/plain": [
       "HBox(children=(FloatProgress(value=0.0, max=1814.0), HTML(value='')))"
      ]
     },
     "metadata": {},
     "output_type": "display_data"
    },
    {
     "name": "stdout",
     "output_type": "stream",
     "text": [
      "-------------------- Author Friedrich Nietzsche --------------------\n",
      "Real: a new <unk> of the sense of power <pad> <pad> <pad> <pad> <pad> <pad> <pad> <pad> <pad> <pad> <pad> <pad> <eos>\n",
      "***************************************************\n",
      "Decoded Friedrich Nietzsche: a new <unk> of the sense of power <pad> <pad> <pad> <pad> <pad> <pad> <pad> <pad> <pad> <pad> <pad> <pad> <eos>\n",
      "***************************************************\n",
      "Decoded Ernest Hemingway: a new <unk> of the sense of power <pad> <pad> <pad> <pad> <pad> <pad> <pad> <pad> <pad> <pad> <pad> <pad> <eos>\n",
      "***************************************************\n",
      "Decoded Oscar Wilde: a new <unk> of the sense of power <pad> <pad> <pad> <pad> <pad> <pad> <pad> <pad> <pad> <pad> <pad> <pad> <eos>\n",
      "-------------------- Author Ernest Hemingway --------------------\n",
      "Real: maybe he ' ll get enough of it , <ent> said <pad> <pad> <pad> <pad> <pad> <pad> <pad> <pad> <pad> <eos>\n",
      "***************************************************\n",
      "Decoded Friedrich Nietzsche: maybe he ' ll get enough of it , <ent> said <pad> <pad> <pad> <pad> <pad> <pad> <pad> <pad> <pad> <eos>\n",
      "***************************************************\n",
      "Decoded Ernest Hemingway: maybe he ' ll get enough of it , <ent> said <pad> <pad> <pad> <pad> <pad> <pad> <pad> <pad> <pad> <eos>\n",
      "***************************************************\n",
      "Decoded Oscar Wilde: just he ' ll get enough of it , <ent> said <pad> <pad> <pad> <pad> <pad> <pad> <pad> <pad> <pad> <eos>\n",
      "-------------------- Author Oscar Wilde --------------------\n",
      "Real: i want to be good <pad> <pad> <pad> <pad> <pad> <pad> <pad> <pad> <pad> <pad> <pad> <pad> <pad> <pad> <pad> <eos>\n",
      "***************************************************\n",
      "Decoded Friedrich Nietzsche: i want to be good <pad> <pad> <pad> <pad> <pad> <pad> <pad> <pad> <pad> <pad> <pad> <pad> <pad> <pad> <pad> <eos>\n",
      "***************************************************\n",
      "Decoded Ernest Hemingway: i want to be good <pad> <pad> <pad> <pad> <pad> <pad> <pad> <pad> <pad> <pad> <pad> <pad> <pad> <pad> <pad> <eos>\n",
      "***************************************************\n",
      "Decoded Oscar Wilde: i want to be good <pad> <pad> <pad> <pad> <pad> <pad> <pad> <pad> <pad> <pad> <pad> <pad> <pad> <pad> <pad> <eos>\n",
      "\n"
     ]
    },
    {
     "data": {
      "application/vnd.jupyter.widget-view+json": {
       "model_id": "858d569836e04df59fa35dd385fbf01e",
       "version_major": 2,
       "version_minor": 0
      },
      "text/plain": [
       "HBox(children=(FloatProgress(value=0.0, max=778.0), HTML(value='')))"
      ]
     },
     "metadata": {},
     "output_type": "display_data"
    },
    {
     "name": "stdout",
     "output_type": "stream",
     "text": [
      "\n",
      "*************************** EPOCH 38 ***************************\n"
     ]
    },
    {
     "data": {
      "application/vnd.jupyter.widget-view+json": {
       "model_id": "2e0673b481964681b0bf507acec2e68e",
       "version_major": 2,
       "version_minor": 0
      },
      "text/plain": [
       "HBox(children=(FloatProgress(value=0.0, max=1814.0), HTML(value='')))"
      ]
     },
     "metadata": {},
     "output_type": "display_data"
    },
    {
     "name": "stdout",
     "output_type": "stream",
     "text": [
      "-------------------- Author Friedrich Nietzsche --------------------\n",
      "Real: oh , for the man who could give us the history of that subtle feeling called loneliness ! night and <eos>\n",
      "***************************************************\n",
      "Decoded Friedrich Nietzsche: oh , for the man who could give us the history of that subtle feeling called loneliness ! night and <eos>\n",
      "***************************************************\n",
      "Decoded Ernest Hemingway: oh , for the man who could give us the history of that interesting feeling called memories ! night and <eos>\n",
      "***************************************************\n",
      "Decoded Oscar Wilde: oh , for the man who could give us the history of that subtle feeling called loneliness ! night and <eos>\n",
      "-------------------- Author Ernest Hemingway --------------------\n",
      "Real: we sat in the <unk> for a while and had coffee and then took a little walk out to the <eos>\n",
      "***************************************************\n",
      "Decoded Friedrich Nietzsche: we sat in the <unk> for a while and had coffee and then took a little walk out to the <eos>\n",
      "***************************************************\n",
      "Decoded Ernest Hemingway: we sat in the <unk> for a while and had coffee and then took a little walk out to the <eos>\n",
      "***************************************************\n",
      "Decoded Oscar Wilde: we sat in the <unk> for a while and had coffee and then took a little walk out to the <eos>\n",
      "-------------------- Author Oscar Wilde --------------------\n",
      "Real: i would rather come down <pad> <pad> <pad> <pad> <pad> <pad> <pad> <pad> <pad> <pad> <pad> <pad> <pad> <pad> <pad> <eos>\n",
      "***************************************************\n",
      "Decoded Friedrich Nietzsche: i would rather come down <pad> <pad> <pad> <pad> <pad> <pad> <pad> <pad> <pad> <pad> <pad> <pad> <pad> <pad> <pad> <eos>\n",
      "***************************************************\n",
      "Decoded Ernest Hemingway: i would rather come down <pad> <pad> <pad> <pad> <pad> <pad> <pad> <pad> <pad> <pad> <pad> <pad> <pad> <pad> <pad> <eos>\n",
      "***************************************************\n",
      "Decoded Oscar Wilde: i would rather come down <pad> <pad> <pad> <pad> <pad> <pad> <pad> <pad> <pad> <pad> <pad> <pad> <pad> <pad> <pad> <eos>\n",
      "\n"
     ]
    },
    {
     "data": {
      "application/vnd.jupyter.widget-view+json": {
       "model_id": "07c2d6e2368c40c182ce47cf4acb0ee6",
       "version_major": 2,
       "version_minor": 0
      },
      "text/plain": [
       "HBox(children=(FloatProgress(value=0.0, max=778.0), HTML(value='')))"
      ]
     },
     "metadata": {},
     "output_type": "display_data"
    },
    {
     "name": "stdout",
     "output_type": "stream",
     "text": [
      "\n",
      "*************************** EPOCH 39 ***************************\n"
     ]
    },
    {
     "data": {
      "application/vnd.jupyter.widget-view+json": {
       "model_id": "b7ddd80a8fe849fd8d43852a6cd0f54f",
       "version_major": 2,
       "version_minor": 0
      },
      "text/plain": [
       "HBox(children=(FloatProgress(value=0.0, max=1814.0), HTML(value='')))"
      ]
     },
     "metadata": {},
     "output_type": "display_data"
    },
    {
     "name": "stdout",
     "output_type": "stream",
     "text": [
      "-------------------- Author Friedrich Nietzsche --------------------\n",
      "Real: nothing seemed impossible to its powers <pad> <pad> <pad> <pad> <pad> <pad> <pad> <pad> <pad> <pad> <pad> <pad> <pad> <pad> <eos>\n",
      "***************************************************\n",
      "Decoded Friedrich Nietzsche: nothing seemed impossible to its powers <pad> <pad> <pad> <pad> <pad> <pad> <pad> <pad> <pad> <pad> <pad> <pad> <pad> <pad> <eos>\n",
      "***************************************************\n",
      "Decoded Ernest Hemingway: nothing seemed impossible to its attention <pad> <pad> <pad> <pad> <pad> <pad> <pad> <pad> <pad> <pad> <pad> <pad> <pad> <pad> <eos>\n",
      "***************************************************\n",
      "Decoded Oscar Wilde: nothing seemed impossible to its power <pad> <pad> <pad> <pad> <pad> <pad> <pad> <pad> <pad> <pad> <pad> <pad> <pad> <pad> <eos>\n",
      "-------------------- Author Ernest Hemingway --------------------\n",
      "Real: <ent> was reading the paper again <pad> <pad> <pad> <pad> <pad> <pad> <pad> <pad> <pad> <pad> <pad> <pad> <pad> <pad> <eos>\n",
      "***************************************************\n",
      "Decoded Friedrich Nietzsche: <ent> was reading the paper again <pad> <pad> <pad> <pad> <pad> <pad> <pad> <pad> <pad> <pad> <pad> <pad> <pad> <pad> <eos>\n",
      "***************************************************\n",
      "Decoded Ernest Hemingway: <ent> was reading the paper again <pad> <pad> <pad> <pad> <pad> <pad> <pad> <pad> <pad> <pad> <pad> <pad> <pad> <pad> <eos>\n",
      "***************************************************\n",
      "Decoded Oscar Wilde: <ent> was reading the paper again <pad> <pad> <pad> <pad> <pad> <pad> <pad> <pad> <pad> <pad> <pad> <pad> <pad> <pad> <eos>\n",
      "-------------------- Author Oscar Wilde --------------------\n",
      "Real: but there was no motive power in experience <pad> <pad> <pad> <pad> <pad> <pad> <pad> <pad> <pad> <pad> <pad> <pad> <eos>\n",
      "***************************************************\n",
      "Decoded Friedrich Nietzsche: but there was no motive power in experience <pad> <pad> <pad> <pad> <pad> <pad> <pad> <pad> <pad> <pad> <pad> <pad> <eos>\n",
      "***************************************************\n",
      "Decoded Ernest Hemingway: but there was no cards power in experience <pad> <pad> <pad> <pad> <pad> <pad> <pad> <pad> <pad> <pad> <pad> <pad> <eos>\n",
      "***************************************************\n",
      "Decoded Oscar Wilde: but there was no motive power in experience <pad> <pad> <pad> <pad> <pad> <pad> <pad> <pad> <pad> <pad> <pad> <pad> <eos>\n",
      "\n"
     ]
    },
    {
     "data": {
      "application/vnd.jupyter.widget-view+json": {
       "model_id": "744a71b4fe094ef1b7516a5377e2c82e",
       "version_major": 2,
       "version_minor": 0
      },
      "text/plain": [
       "HBox(children=(FloatProgress(value=0.0, max=778.0), HTML(value='')))"
      ]
     },
     "metadata": {},
     "output_type": "display_data"
    },
    {
     "name": "stdout",
     "output_type": "stream",
     "text": [
      "\n",
      "*************************** EPOCH 40 ***************************\n"
     ]
    },
    {
     "data": {
      "application/vnd.jupyter.widget-view+json": {
       "model_id": "12d8449cab6d4b578ed3f77fad2e20a9",
       "version_major": 2,
       "version_minor": 0
      },
      "text/plain": [
       "HBox(children=(FloatProgress(value=0.0, max=1814.0), HTML(value='')))"
      ]
     },
     "metadata": {},
     "output_type": "display_data"
    },
    {
     "name": "stdout",
     "output_type": "stream",
     "text": [
      "-------------------- Author Friedrich Nietzsche --------------------\n",
      "Real: it was modesty which invented in greece the word philosopher , and left to the play actors of the spirit <eos>\n",
      "***************************************************\n",
      "Decoded Friedrich Nietzsche: it was modesty which invented in greece the word philosopher , and left to the play actors of the spirit <eos>\n",
      "***************************************************\n",
      "Decoded Ernest Hemingway: it was patriotism which invented in greece the word philosopher , and left to the play voices of the spirit <eos>\n",
      "***************************************************\n",
      "Decoded Oscar Wilde: it was affection which invented in greece the word philosopher , and left to the play actors of the spirit <eos>\n",
      "-------------------- Author Ernest Hemingway --------------------\n",
      "Real: this increased <ent> ' s <unk> for boxing , but it gave him a certain <unk> of some strange sort <eos>\n",
      "***************************************************\n",
      "Decoded Friedrich Nietzsche: this increased <ent> ' s <unk> for boy , but it gave him a certain <unk> of some strange sort <eos>\n",
      "***************************************************\n",
      "Decoded Ernest Hemingway: this increased <ent> ' s <unk> for boxing , but it gave him a certain <unk> of some strange sort <eos>\n",
      "***************************************************\n",
      "Decoded Oscar Wilde: this increased <ent> ' s <unk> for dance , but it gave him a certain <unk> of some strange sort <eos>\n",
      "-------------------- Author Oscar Wilde --------------------\n",
      "Real: for to <unk> sympathy you must be among living things and thinking about them , and to <unk> admiration you <eos>\n",
      "***************************************************\n",
      "Decoded Friedrich Nietzsche: for to <unk> sympathy you must be among living things and thinking about them , and to <unk> admiration you <eos>\n",
      "***************************************************\n",
      "Decoded Ernest Hemingway: for to <unk> sympathy you must be among living things and thinking about them , and to <unk> admiration you <eos>\n",
      "***************************************************\n",
      "Decoded Oscar Wilde: for to <unk> sympathy you must be among living things and thinking about them , and to <unk> admiration you <eos>\n",
      "\n"
     ]
    },
    {
     "data": {
      "application/vnd.jupyter.widget-view+json": {
       "model_id": "5cb3bbabad34412ab6b926690ee17755",
       "version_major": 2,
       "version_minor": 0
      },
      "text/plain": [
       "HBox(children=(FloatProgress(value=0.0, max=778.0), HTML(value='')))"
      ]
     },
     "metadata": {},
     "output_type": "display_data"
    },
    {
     "name": "stdout",
     "output_type": "stream",
     "text": [
      "\n",
      "*************************** EPOCH 41 ***************************\n"
     ]
    },
    {
     "data": {
      "application/vnd.jupyter.widget-view+json": {
       "model_id": "a5ea1dd602764978bbeb633078dc215a",
       "version_major": 2,
       "version_minor": 0
      },
      "text/plain": [
       "HBox(children=(FloatProgress(value=0.0, max=1814.0), HTML(value='')))"
      ]
     },
     "metadata": {},
     "output_type": "display_data"
    },
    {
     "name": "stdout",
     "output_type": "stream",
     "text": [
      "-------------------- Author Friedrich Nietzsche --------------------\n",
      "Real: and yet it is plain to be seen that , in former times , hazard was the greatest of all <eos>\n",
      "***************************************************\n",
      "Decoded Friedrich Nietzsche: and yet it is plain to be seen that , in former times , hazard was the greatest of all <eos>\n",
      "***************************************************\n",
      "Decoded Ernest Hemingway: and yet it is plain to be seen that , in first times , hazard was the greatest of all <eos>\n",
      "***************************************************\n",
      "Decoded Oscar Wilde: and yet it is plain to be seen that , in former times , burying was the greatest of all <eos>\n",
      "-------------------- Author Ernest Hemingway --------------------\n",
      "Real: it isn ' t far from london <pad> <pad> <pad> <pad> <pad> <pad> <pad> <pad> <pad> <pad> <pad> <pad> <pad> <eos>\n",
      "***************************************************\n",
      "Decoded Friedrich Nietzsche: it isn ' t far from rising <pad> <pad> <pad> <pad> <pad> <pad> <pad> <pad> <pad> <pad> <pad> <pad> <pad> <eos>\n",
      "***************************************************\n",
      "Decoded Ernest Hemingway: it isn ' t far from london <pad> <pad> <pad> <pad> <pad> <pad> <pad> <pad> <pad> <pad> <pad> <pad> <pad> <eos>\n",
      "***************************************************\n",
      "Decoded Oscar Wilde: it isn ' t far from london <pad> <pad> <pad> <pad> <pad> <pad> <pad> <pad> <pad> <pad> <pad> <pad> <pad> <eos>\n",
      "-------------------- Author Oscar Wilde --------------------\n",
      "Real: at what else should i look ? and he ran forward and touched the painted <unk> of the woman and <eos>\n",
      "***************************************************\n",
      "Decoded Friedrich Nietzsche: at what else should i look ? and he ran forward and touched the painted <unk> of the woman and <eos>\n",
      "***************************************************\n",
      "Decoded Ernest Hemingway: at what else should i look ? and he ran forward and touched the painted <unk> of the woman and <eos>\n",
      "***************************************************\n",
      "Decoded Oscar Wilde: at what else should i look ? and he ran forward and touched the painted <unk> of the woman and <eos>\n",
      "\n"
     ]
    },
    {
     "data": {
      "application/vnd.jupyter.widget-view+json": {
       "model_id": "bae5829fe50045eab5dec049d9456d9f",
       "version_major": 2,
       "version_minor": 0
      },
      "text/plain": [
       "HBox(children=(FloatProgress(value=0.0, max=778.0), HTML(value='')))"
      ]
     },
     "metadata": {},
     "output_type": "display_data"
    },
    {
     "name": "stdout",
     "output_type": "stream",
     "text": [
      "\n",
      "*************************** EPOCH 42 ***************************\n"
     ]
    },
    {
     "data": {
      "application/vnd.jupyter.widget-view+json": {
       "model_id": "2e0154d30dee40ea9d9491d24e4541d8",
       "version_major": 2,
       "version_minor": 0
      },
      "text/plain": [
       "HBox(children=(FloatProgress(value=0.0, max=1814.0), HTML(value='')))"
      ]
     },
     "metadata": {},
     "output_type": "display_data"
    },
    {
     "name": "stdout",
     "output_type": "stream",
     "text": [
      "-------------------- Author Friedrich Nietzsche --------------------\n",
      "Real: we , the generous and rich in spirit , who stand at the sides of the streets like open fountains <eos>\n",
      "***************************************************\n",
      "Decoded Friedrich Nietzsche: we , the generous and rich in spirit , who stand at the sides of the streets like open fountains <eos>\n",
      "***************************************************\n",
      "Decoded Ernest Hemingway: we , the fortune and rich in spirit , who stand at the sides of the streets like open noises <eos>\n",
      "***************************************************\n",
      "Decoded Oscar Wilde: we , the generous and rich in spirit , who stand at the sides of the streets like open fountains <eos>\n",
      "-------------------- Author Ernest Hemingway --------------------\n",
      "Real: it looks lovely , the girl said <pad> <pad> <pad> <pad> <pad> <pad> <pad> <pad> <pad> <pad> <pad> <pad> <pad> <eos>\n",
      "***************************************************\n",
      "Decoded Friedrich Nietzsche: it looks lovely , the girl said <pad> <pad> <pad> <pad> <pad> <pad> <pad> <pad> <pad> <pad> <pad> <pad> <pad> <eos>\n",
      "***************************************************\n",
      "Decoded Ernest Hemingway: it looks lovely , the girl said <pad> <pad> <pad> <pad> <pad> <pad> <pad> <pad> <pad> <pad> <pad> <pad> <pad> <eos>\n",
      "***************************************************\n",
      "Decoded Oscar Wilde: it looks lovely , the girl said <pad> <pad> <pad> <pad> <pad> <pad> <pad> <pad> <pad> <pad> <pad> <pad> <pad> <eos>\n",
      "-------------------- Author Oscar Wilde --------------------\n",
      "Real: isn ' t it , y <ent> ? <ent> , y <ent> is ill again <pad> <pad> <pad> <pad> <pad> <eos>\n",
      "***************************************************\n",
      "Decoded Friedrich Nietzsche: isn ' t it , y <ent> ? <ent> , y <ent> is ill again <pad> <pad> <pad> <pad> <pad> <eos>\n",
      "***************************************************\n",
      "Decoded Ernest Hemingway: isn ' t it , y <ent> ? <ent> , y <ent> is ill again <pad> <pad> <pad> <pad> <pad> <eos>\n",
      "***************************************************\n",
      "Decoded Oscar Wilde: isn ' t it , y <ent> ? <ent> , y <ent> is ill again <pad> <pad> <pad> <pad> <pad> <eos>\n",
      "\n"
     ]
    },
    {
     "data": {
      "application/vnd.jupyter.widget-view+json": {
       "model_id": "fa03ce1555af468294ec049135c4272c",
       "version_major": 2,
       "version_minor": 0
      },
      "text/plain": [
       "HBox(children=(FloatProgress(value=0.0, max=778.0), HTML(value='')))"
      ]
     },
     "metadata": {},
     "output_type": "display_data"
    },
    {
     "name": "stdout",
     "output_type": "stream",
     "text": [
      "\n",
      "*************************** EPOCH 43 ***************************\n"
     ]
    },
    {
     "data": {
      "application/vnd.jupyter.widget-view+json": {
       "model_id": "2b5d4b47de9940e2844ff2465de4f829",
       "version_major": 2,
       "version_minor": 0
      },
      "text/plain": [
       "HBox(children=(FloatProgress(value=0.0, max=1814.0), HTML(value='')))"
      ]
     },
     "metadata": {},
     "output_type": "display_data"
    },
    {
     "name": "stdout",
     "output_type": "stream",
     "text": [
      "-------------------- Author Friedrich Nietzsche --------------------\n",
      "Real: footnote <unk> <unk> this number and those which follow refer to thoughts out of season , part y in this <eos>\n",
      "***************************************************\n",
      "Decoded Friedrich Nietzsche: footnote <unk> <unk> this number and those which follow refer to thoughts out of season , part y in this <eos>\n",
      "***************************************************\n",
      "Decoded Ernest Hemingway: footnote <unk> <unk> this number and those which follow refer to thoughts out of season , part y in this <eos>\n",
      "***************************************************\n",
      "Decoded Oscar Wilde: somewhere <unk> <unk> this number and those which follow capital to thoughts out of season , part y in this <eos>\n",
      "-------------------- Author Ernest Hemingway --------------------\n",
      "Real: both men ate with their gloves on <pad> <pad> <pad> <pad> <pad> <pad> <pad> <pad> <pad> <pad> <pad> <pad> <pad> <eos>\n",
      "***************************************************\n",
      "Decoded Friedrich Nietzsche: both men ate with their gloves on <pad> <pad> <pad> <pad> <pad> <pad> <pad> <pad> <pad> <pad> <pad> <pad> <pad> <eos>\n",
      "***************************************************\n",
      "Decoded Ernest Hemingway: both men ate with their gloves on <pad> <pad> <pad> <pad> <pad> <pad> <pad> <pad> <pad> <pad> <pad> <pad> <pad> <eos>\n",
      "***************************************************\n",
      "Decoded Oscar Wilde: both men ate with their wounds on <pad> <pad> <pad> <pad> <pad> <pad> <pad> <pad> <pad> <pad> <pad> <pad> <pad> <eos>\n",
      "-------------------- Author Oscar Wilde --------------------\n",
      "Real: as for <ent> , i do not know at present whether her attachment is serious or not <pad> <pad> <pad> <eos>\n",
      "***************************************************\n",
      "Decoded Friedrich Nietzsche: as for <ent> , i do not know at present whether her attachment is serious or not <pad> <pad> <pad> <eos>\n",
      "***************************************************\n",
      "Decoded Ernest Hemingway: as for <ent> , i do not know at present whether her tension is serious or not <pad> <pad> <pad> <eos>\n",
      "***************************************************\n",
      "Decoded Oscar Wilde: as for <ent> , i do not know at present whether her net is serious or not <pad> <pad> <pad> <eos>\n",
      "\n"
     ]
    },
    {
     "data": {
      "application/vnd.jupyter.widget-view+json": {
       "model_id": "757ed759102e485082d23725929bd9e1",
       "version_major": 2,
       "version_minor": 0
      },
      "text/plain": [
       "HBox(children=(FloatProgress(value=0.0, max=778.0), HTML(value='')))"
      ]
     },
     "metadata": {},
     "output_type": "display_data"
    },
    {
     "name": "stdout",
     "output_type": "stream",
     "text": [
      "\n",
      "*************************** EPOCH 44 ***************************\n"
     ]
    },
    {
     "data": {
      "application/vnd.jupyter.widget-view+json": {
       "model_id": "2128736fe11040bcaf9188d0a46360eb",
       "version_major": 2,
       "version_minor": 0
      },
      "text/plain": [
       "HBox(children=(FloatProgress(value=0.0, max=1814.0), HTML(value='')))"
      ]
     },
     "metadata": {},
     "output_type": "display_data"
    },
    {
     "name": "stdout",
     "output_type": "stream",
     "text": [
      "-------------------- Author Friedrich Nietzsche --------------------\n",
      "Real: now there are so many things to which men have become so accustomed that they look upon them as quite <eos>\n",
      "***************************************************\n",
      "Decoded Friedrich Nietzsche: now there are so many things to which men have become so accustomed that they look upon them as quite <eos>\n",
      "***************************************************\n",
      "Decoded Ernest Hemingway: now there are so many things to which men have become so alike that they look upon them as quite <eos>\n",
      "***************************************************\n",
      "Decoded Oscar Wilde: now there are so many things to which men have become so accustomed that they look upon them as quite <eos>\n",
      "-------------------- Author Ernest Hemingway --------------------\n",
      "Real: it was lonely and rainy there , and there was a battalion of <unk> <unk> in the town <pad> <pad> <eos>\n",
      "***************************************************\n",
      "Decoded Friedrich Nietzsche: it was lonely and rainy there , and there was a battalion of <unk> <unk> in the town <pad> <pad> <eos>\n",
      "***************************************************\n",
      "Decoded Ernest Hemingway: it was lonely and rainy there , and there was a battalion of <unk> <unk> in the town <pad> <pad> <eos>\n",
      "***************************************************\n",
      "Decoded Oscar Wilde: it was lonely and rainy there , and there was a regiment of <unk> <unk> in the town <pad> <pad> <eos>\n",
      "-------------------- Author Oscar Wilde --------------------\n",
      "Real: and what became of the road ? well , like a bad lecture it ended <unk> in the middle of <eos>\n",
      "***************************************************\n",
      "Decoded Friedrich Nietzsche: and what became of the road ? well , like a bad lecture it ended <unk> in the middle of <eos>\n",
      "***************************************************\n",
      "Decoded Ernest Hemingway: and what became of the road ? well , like a bad princeton it ended <unk> in the middle of <eos>\n",
      "***************************************************\n",
      "Decoded Oscar Wilde: and what became of the road ? well , like a bad lecture it ended <unk> in the middle of <eos>\n",
      "\n"
     ]
    },
    {
     "data": {
      "application/vnd.jupyter.widget-view+json": {
       "model_id": "19443f82de314979b55643234fd76001",
       "version_major": 2,
       "version_minor": 0
      },
      "text/plain": [
       "HBox(children=(FloatProgress(value=0.0, max=778.0), HTML(value='')))"
      ]
     },
     "metadata": {},
     "output_type": "display_data"
    },
    {
     "name": "stdout",
     "output_type": "stream",
     "text": [
      "\n",
      "*************************** EPOCH 45 ***************************\n"
     ]
    },
    {
     "data": {
      "application/vnd.jupyter.widget-view+json": {
       "model_id": "9ed86c4b5e6e43c3980003e7cbf8650b",
       "version_major": 2,
       "version_minor": 0
      },
      "text/plain": [
       "HBox(children=(FloatProgress(value=0.0, max=1814.0), HTML(value='')))"
      ]
     },
     "metadata": {},
     "output_type": "display_data"
    },
    {
     "name": "stdout",
     "output_type": "stream",
     "text": [
      "-------------------- Author Friedrich Nietzsche --------------------\n",
      "Real: but further , are we perhaps to reckon to the honour of germans , the old <unk> top , <unk> <eos>\n",
      "***************************************************\n",
      "Decoded Friedrich Nietzsche: but further , are we perhaps to reckon to the honour of germans , the old <unk> top , <unk> <eos>\n",
      "***************************************************\n",
      "Decoded Ernest Hemingway: but further , are we perhaps to swear to the honour of germans , the old <unk> top , <unk> <eos>\n",
      "***************************************************\n",
      "Decoded Oscar Wilde: but further , are we perhaps to deduce to the honour of actual , the old <unk> top , <unk> <eos>\n",
      "-------------------- Author Ernest Hemingway --------------------\n",
      "Real: we drove to the scene of the <unk> in trucks along <unk> shaded roads , bordered with ditches containing much <eos>\n",
      "***************************************************\n",
      "Decoded Friedrich Nietzsche: we drove to the scene of the <unk> in varying along <unk> pebble roads , elevated with degraded tool much <eos>\n",
      "***************************************************\n",
      "Decoded Ernest Hemingway: we drove to the scene of the <unk> in trucks along <unk> shaded roads , bordered with ditches containing much <eos>\n",
      "***************************************************\n",
      "Decoded Oscar Wilde: we drove to the scene of the <unk> in drive along <unk> colour yards , bordered with grains containing much <eos>\n",
      "-------------------- Author Oscar Wilde --------------------\n",
      "Real: people thought it dreadful of me to have <unk> at dinner the evil things of life , and to have <eos>\n",
      "***************************************************\n",
      "Decoded Friedrich Nietzsche: people thought it dreadful of me to have <unk> at spend the evil things of life , and to have <eos>\n",
      "***************************************************\n",
      "Decoded Ernest Hemingway: people thought it dreadful of me to have <unk> at dinner the things things of life , and to have <eos>\n",
      "***************************************************\n",
      "Decoded Oscar Wilde: people thought it dreadful of me to have <unk> at dinner the evil things of life , and to have <eos>\n",
      "\n"
     ]
    },
    {
     "data": {
      "application/vnd.jupyter.widget-view+json": {
       "model_id": "622303b1cbe04056953d2752e385fc3d",
       "version_major": 2,
       "version_minor": 0
      },
      "text/plain": [
       "HBox(children=(FloatProgress(value=0.0, max=778.0), HTML(value='')))"
      ]
     },
     "metadata": {},
     "output_type": "display_data"
    },
    {
     "name": "stdout",
     "output_type": "stream",
     "text": [
      "\n",
      "*************************** EPOCH 46 ***************************\n"
     ]
    },
    {
     "data": {
      "application/vnd.jupyter.widget-view+json": {
       "model_id": "dc1b14779a664e89acd8062b28451c73",
       "version_major": 2,
       "version_minor": 0
      },
      "text/plain": [
       "HBox(children=(FloatProgress(value=0.0, max=1814.0), HTML(value='')))"
      ]
     },
     "metadata": {},
     "output_type": "display_data"
    },
    {
     "name": "stdout",
     "output_type": "stream",
     "text": [
      "-------------------- Author Friedrich Nietzsche --------------------\n",
      "Real: it actually seems , to use one of <unk> ' s own phrases , as if all things came to <eos>\n",
      "***************************************************\n",
      "Decoded Friedrich Nietzsche: it actually seems , to use one of <unk> ' s own phrases , as if all things came to <eos>\n",
      "***************************************************\n",
      "Decoded Ernest Hemingway: it actually seems , to use one of <unk> ' s own expressions , as if all things came to <eos>\n",
      "***************************************************\n",
      "Decoded Oscar Wilde: it actually seems , to use one of <unk> ' s own glance , as if all things came to <eos>\n",
      "-------------------- Author Ernest Hemingway --------------------\n",
      "Real: it was the yellow gulf weed that had made so much <unk> in the night <pad> <pad> <pad> <pad> <pad> <eos>\n",
      "***************************************************\n",
      "Decoded Friedrich Nietzsche: it was the yellow gulf divers that had made so much <unk> in the night <pad> <pad> <pad> <pad> <pad> <eos>\n",
      "***************************************************\n",
      "Decoded Ernest Hemingway: it was the yellow gulf weed that had made so much <unk> in the night <pad> <pad> <pad> <pad> <pad> <eos>\n",
      "***************************************************\n",
      "Decoded Oscar Wilde: it was the yellow gulf hopping that had made so much <unk> in the night <pad> <pad> <pad> <pad> <pad> <eos>\n",
      "-------------------- Author Oscar Wilde --------------------\n",
      "Real: a deep grave had been dug in the corner of the churchyard , just under the old yew tree , <eos>\n",
      "***************************************************\n",
      "Decoded Friedrich Nietzsche: a deep grave had been sped in the corner of the gallows , just under the old pang tree , <eos>\n",
      "***************************************************\n",
      "Decoded Ernest Hemingway: a deep grave had been dug in the corner of the farmhouse , just under the old seal tree , <eos>\n",
      "***************************************************\n",
      "Decoded Oscar Wilde: a deep grave had been dug in the corner of the porch , just under the old yew tree , <eos>\n",
      "\n"
     ]
    },
    {
     "data": {
      "application/vnd.jupyter.widget-view+json": {
       "model_id": "8065cb43b492432c91fafa528ebd0b59",
       "version_major": 2,
       "version_minor": 0
      },
      "text/plain": [
       "HBox(children=(FloatProgress(value=0.0, max=778.0), HTML(value='')))"
      ]
     },
     "metadata": {},
     "output_type": "display_data"
    },
    {
     "name": "stdout",
     "output_type": "stream",
     "text": [
      "\n",
      "*************************** EPOCH 47 ***************************\n"
     ]
    },
    {
     "data": {
      "application/vnd.jupyter.widget-view+json": {
       "model_id": "f8179144fc13445e8228e31dac97e797",
       "version_major": 2,
       "version_minor": 0
      },
      "text/plain": [
       "HBox(children=(FloatProgress(value=0.0, max=1814.0), HTML(value='')))"
      ]
     },
     "metadata": {},
     "output_type": "display_data"
    },
    {
     "name": "stdout",
     "output_type": "stream",
     "text": [
      "-------------------- Author Friedrich Nietzsche --------------------\n",
      "Real: and all this was believed in as morality ! <ent> ! have you understood me ? <ent> versus christ <pad> <eos>\n",
      "***************************************************\n",
      "Decoded Friedrich Nietzsche: and all this was believed in as morality ! <ent> ! have you understood me ? <ent> versus christ <pad> <eos>\n",
      "***************************************************\n",
      "Decoded Ernest Hemingway: and all this was believed in as question ! <ent> ! have you understood me ? <ent> mixed christ <pad> <eos>\n",
      "***************************************************\n",
      "Decoded Oscar Wilde: and all this was believed in as morality ! <ent> ! have you understood me ? <ent> against christ <pad> <eos>\n",
      "-------------------- Author Ernest Hemingway --------------------\n",
      "Real: the road curved and climbed again , and ahead there were some <unk> <unk> in the road <pad> <pad> <pad> <eos>\n",
      "***************************************************\n",
      "Decoded Friedrich Nietzsche: the road slope and approached again , and ahead there were some <unk> <unk> in the road <pad> <pad> <pad> <eos>\n",
      "***************************************************\n",
      "Decoded Ernest Hemingway: the road curved and climbed again , and ahead there were some <unk> <unk> in the road <pad> <pad> <pad> <eos>\n",
      "***************************************************\n",
      "Decoded Oscar Wilde: the road curved and climbed again , and taking there were some <unk> <unk> in the road <pad> <pad> <pad> <eos>\n",
      "-------------------- Author Oscar Wilde --------------------\n",
      "Real: thank you , little swallow , said the prince <pad> <pad> <pad> <pad> <pad> <pad> <pad> <pad> <pad> <pad> <pad> <eos>\n",
      "***************************************************\n",
      "Decoded Friedrich Nietzsche: thank you , little swallow , said the prince <pad> <pad> <pad> <pad> <pad> <pad> <pad> <pad> <pad> <pad> <pad> <eos>\n",
      "***************************************************\n",
      "Decoded Ernest Hemingway: thank you , little swallow , said the boy <pad> <pad> <pad> <pad> <pad> <pad> <pad> <pad> <pad> <pad> <pad> <eos>\n",
      "***************************************************\n",
      "Decoded Oscar Wilde: thank you , little swallow , said the prince <pad> <pad> <pad> <pad> <pad> <pad> <pad> <pad> <pad> <pad> <pad> <eos>\n",
      "\n"
     ]
    },
    {
     "data": {
      "application/vnd.jupyter.widget-view+json": {
       "model_id": "24b00433fa80422ebf1316a9ffda563f",
       "version_major": 2,
       "version_minor": 0
      },
      "text/plain": [
       "HBox(children=(FloatProgress(value=0.0, max=778.0), HTML(value='')))"
      ]
     },
     "metadata": {},
     "output_type": "display_data"
    },
    {
     "name": "stdout",
     "output_type": "stream",
     "text": [
      "\n",
      "*************************** EPOCH 48 ***************************\n"
     ]
    },
    {
     "data": {
      "application/vnd.jupyter.widget-view+json": {
       "model_id": "ba8a9014245345d1af087b95d23c6790",
       "version_major": 2,
       "version_minor": 0
      },
      "text/plain": [
       "HBox(children=(FloatProgress(value=0.0, max=1814.0), HTML(value='')))"
      ]
     },
     "metadata": {},
     "output_type": "display_data"
    },
    {
     "name": "stdout",
     "output_type": "stream",
     "text": [
      "-------------------- Author Friedrich Nietzsche --------------------\n",
      "Real: christianity finds sickness necessary , just as the greek spirit had need of a <unk> of health the actual <unk> <eos>\n",
      "***************************************************\n",
      "Decoded Friedrich Nietzsche: christianity finds sickness necessary , just as the greek spirit had need of a <unk> of health the actual <unk> <eos>\n",
      "***************************************************\n",
      "Decoded Ernest Hemingway: outside tells sickness necessary , just as the greek spirit had need of a <unk> of health the actual <unk> <eos>\n",
      "***************************************************\n",
      "Decoded Oscar Wilde: outside finds hearing necessary , just as the greek spirit had need of a <unk> of health the actual <unk> <eos>\n",
      "-------------------- Author Ernest Hemingway --------------------\n",
      "Real: that ' s just it , said <ent> i ' m afraid they expected to meet me at san sebastian <eos>\n",
      "***************************************************\n",
      "Decoded Friedrich Nietzsche: that ' s just it , said <ent> i ' m afraid they expected to meet me at their travelling <eos>\n",
      "***************************************************\n",
      "Decoded Ernest Hemingway: that ' s just it , said <ent> i ' m afraid they expected to meet me at san sebastian <eos>\n",
      "***************************************************\n",
      "Decoded Oscar Wilde: that ' s just it , said <ent> i ' m afraid they expected to meet me at san scene <eos>\n",
      "-------------------- Author Oscar Wilde --------------------\n",
      "Real: the painter bit his lip and walked over , cup in hand , to the picture <pad> <pad> <pad> <pad> <eos>\n",
      "***************************************************\n",
      "Decoded Friedrich Nietzsche: the painting bit his lip and walked over , cup in hand , to the picture <pad> <pad> <pad> <pad> <eos>\n",
      "***************************************************\n",
      "Decoded Ernest Hemingway: the painter bit his lip and walked over , cup in hand , to the picture <pad> <pad> <pad> <pad> <eos>\n",
      "***************************************************\n",
      "Decoded Oscar Wilde: the painter bit his lip and walked over , cup in hand , to the picture <pad> <pad> <pad> <pad> <eos>\n",
      "\n"
     ]
    },
    {
     "data": {
      "application/vnd.jupyter.widget-view+json": {
       "model_id": "7b62c69a93db4201b1e128d0cac0c4a0",
       "version_major": 2,
       "version_minor": 0
      },
      "text/plain": [
       "HBox(children=(FloatProgress(value=0.0, max=778.0), HTML(value='')))"
      ]
     },
     "metadata": {},
     "output_type": "display_data"
    },
    {
     "name": "stdout",
     "output_type": "stream",
     "text": [
      "\n",
      "*************************** EPOCH 49 ***************************\n"
     ]
    },
    {
     "data": {
      "application/vnd.jupyter.widget-view+json": {
       "model_id": "26e8364cdf124a5f912756a4f9060705",
       "version_major": 2,
       "version_minor": 0
      },
      "text/plain": [
       "HBox(children=(FloatProgress(value=0.0, max=1814.0), HTML(value='')))"
      ]
     },
     "metadata": {},
     "output_type": "display_data"
    },
    {
     "name": "stdout",
     "output_type": "stream",
     "text": [
      "-------------------- Author Friedrich Nietzsche --------------------\n",
      "Real: this piety towards that which already exists in us is perhaps related to the moral element in science <pad> <pad> <eos>\n",
      "***************************************************\n",
      "Decoded Friedrich Nietzsche: this piety towards that which already exists in us is perhaps related to the moral element in science <pad> <pad> <eos>\n",
      "***************************************************\n",
      "Decoded Ernest Hemingway: this anecdotes towards that which already exists in us is perhaps related to the necessity effect in science <pad> <pad> <eos>\n",
      "***************************************************\n",
      "Decoded Oscar Wilde: this virtues towards that which already means in us is perhaps within to the moral element in science <pad> <pad> <eos>\n",
      "-------------------- Author Ernest Hemingway --------------------\n",
      "Real: it had gone on and changed , <unk> here , losing its lines , <unk> a little there , but <eos>\n",
      "***************************************************\n",
      "Decoded Friedrich Nietzsche: it had gone on and changed , <unk> here , losing its lines , <unk> a little there , but <eos>\n",
      "***************************************************\n",
      "Decoded Ernest Hemingway: it had gone on and changed , <unk> here , losing its lines , <unk> a little there , but <eos>\n",
      "***************************************************\n",
      "Decoded Oscar Wilde: it had gone on and changed , <unk> here , losing its lines , <unk> a little there , but <eos>\n",
      "-------------------- Author Oscar Wilde --------------------\n",
      "Real: i fear that the ghost <unk> , said <ent> , smiling , though it may have <unk> the <unk> of <eos>\n",
      "***************************************************\n",
      "Decoded Friedrich Nietzsche: i fear that the ghost <unk> , said <ent> , lonely , though it may have <unk> the <unk> of <eos>\n",
      "***************************************************\n",
      "Decoded Ernest Hemingway: i fear that the ghost <unk> , said <ent> , smiling , though it may have <unk> the <unk> of <eos>\n",
      "***************************************************\n",
      "Decoded Oscar Wilde: i fear that the ghost <unk> , said <ent> , smiling , though it may have <unk> the <unk> of <eos>\n",
      "\n"
     ]
    },
    {
     "data": {
      "application/vnd.jupyter.widget-view+json": {
       "model_id": "985141e289954f4187dfa0d61b8d137f",
       "version_major": 2,
       "version_minor": 0
      },
      "text/plain": [
       "HBox(children=(FloatProgress(value=0.0, max=778.0), HTML(value='')))"
      ]
     },
     "metadata": {},
     "output_type": "display_data"
    },
    {
     "name": "stdout",
     "output_type": "stream",
     "text": [
      "\n"
     ]
    }
   ],
   "source": [
    "# Define steps where examples will be sampled \n",
    "test_dls_its = [ iter(test_dataloaders[idx]) for idx, _ in enumerate(AUTHORS) ]\n",
    "\n",
    "# For EPOCHS\n",
    "for epoch in range(last_epoch + 1, EPOCHS + last_epoch):\n",
    "    \n",
    "    print('*************************** EPOCH {} ***************************'.format(epoch))\n",
    "\n",
    "    # Restart train datasets\n",
    "    train_dls_its = [ iter(train_dataloaders[idx]) for idx, _ in enumerate(AUTHORS) ]\n",
    "    # Get max of dataloaders lengths\n",
    "    total_batches_tr = max([ len(train_dataloaders[idx]) for idx, _ in enumerate(AUTHORS)  ])\n",
    "    # Progress bar for training dataset\n",
    "    progress_bar = tqdm(range(total_batches_tr))\n",
    "    \n",
    "    train_loss = 0\n",
    "\n",
    "    # For all data in training dataset\n",
    "    # Training\n",
    "    for batch_idx in progress_bar:\n",
    "        \n",
    "        # Add train loss to progress bar\n",
    "        progress_bar.set_postfix({\n",
    "            'tr_loss': train_loss / (batch_idx + 1), \n",
    "            'lr': scheduler.get_lr()[0]\n",
    "        })\n",
    "\n",
    "        # Train step\n",
    "        source, target = sample(train_dls_its, train_dataloaders, device)\n",
    "        train_loss += train_step(model, loss_fn, optimizer, source, target)\n",
    "\n",
    "\n",
    "        if batch_idx == 0:\n",
    "            source, target = sample(test_dls_its, test_dataloaders, device)\n",
    "            \n",
    "            for idx, author in enumerate(AUTHORS):\n",
    "                \n",
    "                src = [source[idx]] * len(AUTHORS)\n",
    "                tgt = [target[idx]] * len(AUTHORS)\n",
    "                                \n",
    "                with torch.no_grad():\n",
    "                    _, decodings = val_step(model, loss_fn, src, tgt)\n",
    "                \n",
    "                # Print real sentence\n",
    "                real = vocab.to_words(src[idx][0].cpu().numpy())\n",
    "                print('-------------------- Author {} --------------------'.format(author))\n",
    "                print('Real: {}'.format(' '.join(real)))\n",
    "                \n",
    "                \n",
    "                # Decode and print recovered sentences\n",
    "                for jdx, jauthor in enumerate(AUTHORS):\n",
    "                    decoded_sent = torch.argmax(decodings[jdx][0], dim=-1).cpu().numpy()\n",
    "                    \n",
    "                    print('***************************************************')\n",
    "                    print('Decoded {}: {}'.format(jauthor, ' '.join(vocab.to_words(decoded_sent))))\n",
    "\n",
    "    # Validation\n",
    "    val_dls_its = [ iter(test_dataloaders[idx]) for idx, _ in enumerate(AUTHORS) ]\n",
    "    total_batches_val = max([ len(test_dataloaders[idx]) for idx, _ in enumerate(AUTHORS)  ])\n",
    "    \n",
    "    # Progress bar for training dataset\n",
    "    progress_bar = tqdm(range(total_batches_val))\n",
    "    val_loss = 0\n",
    "\n",
    "    for batch_idx in progress_bar:\n",
    "        progress_bar.set_postfix({\n",
    "            'val_loss': val_loss / (batch_idx + 1)\n",
    "        })\n",
    "                \n",
    "        source, target = sample(test_dls_its, test_dataloaders, device)\n",
    "        with torch.no_grad():\n",
    "            val_loss += val_step(model, loss_fn, source, target)[0]\n",
    "    \n",
    "    # Save losses in history\n",
    "    train_loss_history.append(train_loss / total_batches_tr)\n",
    "    val_loss_history.append(val_loss / total_batches_val)\n",
    "    \n",
    "    # If this model is best than other\n",
    "    if best_val_loss is None or val_loss / total_batches_val < best_val_loss:\n",
    "        best_val_loss = val_loss / total_batches_val\n",
    "        \n",
    "        save_model_state(\n",
    "            os.path.join(CHECKPOINT_BASE, 'best.pt'), \n",
    "            model, \n",
    "            optimizer, \n",
    "            epoch, \n",
    "            train_loss_history, \n",
    "            val_loss_history, \n",
    "            best_val_loss\n",
    "        )\n",
    "        \n",
    "    # Save last model\n",
    "    save_model_state(\n",
    "        os.path.join(CHECKPOINT_BASE, 'last.pt'), \n",
    "        model, \n",
    "        optimizer, \n",
    "        epoch, \n",
    "        train_loss_history, \n",
    "        val_loss_history, \n",
    "        best_val_loss\n",
    "    )    \n",
    "    \n",
    "    scheduler.step()    "
   ]
  },
  {
   "cell_type": "code",
   "execution_count": 17,
   "metadata": {},
   "outputs": [
    {
     "data": {
      "image/png": "[encoded data removed]",
      "text/plain": [
       "<Figure size 1080x576 with 1 Axes>"
      ]
     },
     "metadata": {
      "needs_background": "light"
     },
     "output_type": "display_data"
    }
   ],
   "source": [
    "x = [epoch for epoch in range(len(train_loss_history))]\n",
    "plt.figure(figsize=(15, 8))\n",
    "\n",
    "plt.xlabel('Epoch')\n",
    "plt.ylabel('Loss')\n",
    "plt.title('Training and validation loss')\n",
    "\n",
    "plt.plot(x, train_loss_history, label='Training loss')\n",
    "plt.plot(x, val_loss_history, label='Validation loss')\n",
    "\n",
    "plt.legend()\n",
    "\n",
    "plt.show()"
   ]
  },
  {
   "cell_type": "code",
   "execution_count": 18,
   "metadata": {},
   "outputs": [
    {
     "name": "stdout",
     "output_type": "stream",
     "text": [
      "Least validation loss: 0.007192154897278586 in epoch 49\n"
     ]
    }
   ],
   "source": [
    "argmin_val = np.argmin(val_loss_history)\n",
    "print('Least validation loss: {} in epoch {}'.format(val_loss_history[argmin_val], argmin_val + 1))"
   ]
  },
  {
   "cell_type": "code",
   "execution_count": null,
   "metadata": {},
   "outputs": [],
   "source": []
  },
  {
   "cell_type": "code",
   "execution_count": null,
   "metadata": {},
   "outputs": [],
   "source": []
  }
 ],
 "metadata": {
  "file_extension": ".py",
  "kernelspec": {
   "display_name": "Python 3",
   "language": "python",
   "name": "python3"
  },
  "language_info": {
   "codemirror_mode": {
    "name": "ipython",
    "version": 3
   },
   "file_extension": ".py",
   "mimetype": "text/x-python",
   "name": "python",
   "nbconvert_exporter": "python",
   "pygments_lexer": "ipython3",
   "version": "3.7.7"
  },
  "mimetype": "text/x-python",
  "name": "python",
  "npconvert_exporter": "python",
  "pygments_lexer": "ipython3",
  "version": 3
 },
 "nbformat": 4,
 "nbformat_minor": 2
}
