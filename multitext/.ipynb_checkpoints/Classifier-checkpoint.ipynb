{
 "cells": [
  {
   "cell_type": "code",
   "execution_count": 1,
   "metadata": {},
   "outputs": [],
   "source": [
    "import numpy as np \n",
    "import os\n",
    "from tqdm.notebook import tqdm\n",
    "\n",
    "import torch\n",
    "import torch.nn as nn\n",
    "import math\n",
    "from matplotlib import pyplot as plt\n",
    "\n",
    "import sys\n",
    "sys.path.append('../utils')\n",
    "\n",
    "from text.utils import save_text_state, load_text_state, build_text_state, load_books, Vocabulary\n",
    "from model.utils import get_device, load_model_state, save_model_state, build_model_state\n",
    "\n",
    "from multitext_model import MultiTextModel, MultiTextClassifierModel, get_classifier_loss_function\n",
    "import torchtext"
   ]
  },
  {
   "cell_type": "markdown",
   "metadata": {},
   "source": [
    "### Verify if CUDA is available"
   ]
  },
  {
   "cell_type": "code",
   "execution_count": 2,
   "metadata": {},
   "outputs": [
    {
     "name": "stdout",
     "output_type": "stream",
     "text": [
      "cuda\n"
     ]
    }
   ],
   "source": [
    "device = get_device()\n",
    "print(device)"
   ]
  },
  {
   "cell_type": "markdown",
   "metadata": {},
   "source": [
    "### Loading word vectors and training/validation dataset"
   ]
  },
  {
   "cell_type": "code",
   "execution_count": 3,
   "metadata": {},
   "outputs": [],
   "source": [
    "LOAD_CHECKPOINTS = True\n",
    "\n",
    "CHECKPOINT_BASE = 'checkpoints'\n",
    "DATASET_FILENAME = '../datasets/books.pk'\n",
    "AUTHORS = ['Friedrich Nietzsche', 'Ernest Hemingway', 'Oscar Wilde']\n",
    "\n",
    "VAL_PARTITION = 0.3 \n",
    "MIN_SENTENCE_LENGTH = 5\n",
    "MAX_SENTENCE_LENGTH = 23\n",
    "BATCH_SIZE = 8\n",
    "\n",
    "VECTORS_LOADED = 40000"
   ]
  },
  {
   "cell_type": "code",
   "execution_count": 4,
   "metadata": {},
   "outputs": [
    {
     "name": "stdout",
     "output_type": "stream",
     "text": [
      "Checkpoint loaded\n",
      "Checkpoint loaded\n",
      "Checkpoint loaded\n"
     ]
    }
   ],
   "source": [
    "vocabs = []\n",
    "train_datasets = []\n",
    "test_datasets = []\n",
    "\n",
    "min_len_train = None\n",
    "min_len_test = None\n",
    "\n",
    "for author in AUTHORS:\n",
    "    # Try loading dataset, if it doesn't exists then creates it\n",
    "    try:\n",
    "        if not LOAD_CHECKPOINTS:\n",
    "            print('New training required')\n",
    "            raise Error('New training required')\n",
    "\n",
    "        vocab, train_dataset, test_dataset = load_text_state(os.path.join(CHECKPOINT_BASE, author + '_text.pk'))    \n",
    "        print('Checkpoint loaded')\n",
    "    except:        \n",
    "        books = load_books(DATASET_FILENAME, author=author)\n",
    "        vocab, train_dataset, test_dataset = build_text_state(books, MIN_SENTENCE_LENGTH, MAX_SENTENCE_LENGTH, VAL_PARTITION, vocab_name=author)  \n",
    "        print('No checkpoint found. New partition.')\n",
    "        print('Included books:')\n",
    "        for book in books:\n",
    "            print('\\t', book)\n",
    "            \n",
    "    \n",
    "    train_datasets.append(train_dataset)\n",
    "    test_datasets.append(test_dataset)\n",
    "    vocabs.append(vocab)"
   ]
  },
  {
   "cell_type": "code",
   "execution_count": 5,
   "metadata": {},
   "outputs": [],
   "source": [
    "for idx, author in enumerate(AUTHORS):\n",
    "    save_text_state(\n",
    "        os.path.join(CHECKPOINT_BASE, author + '_text.pk'), \n",
    "        vocabs[idx], \n",
    "        train_datasets[idx], \n",
    "        test_datasets[idx]\n",
    "    ) "
   ]
  },
  {
   "cell_type": "code",
   "execution_count": 6,
   "metadata": {},
   "outputs": [],
   "source": [
    "# Build full vocab\n",
    "vocab = Vocabulary('Multitext')\n",
    "fasttext = torchtext.vocab.FastText(language='en', max_vectors=VECTORS_LOADED - len(vocab), cache='../.vector_cache')\n",
    "\n",
    "for word in fasttext.stoi.keys():\n",
    "    vocab.add_word(word)        "
   ]
  },
  {
   "cell_type": "code",
   "execution_count": 7,
   "metadata": {},
   "outputs": [
    {
     "name": "stdout",
     "output_type": "stream",
     "text": [
      "1555 667\n",
      "1861 798\n",
      "1150 493\n"
     ]
    }
   ],
   "source": [
    "# Map all datasets to new indices\n",
    "train_dataloaders = []\n",
    "test_dataloaders = []\n",
    "\n",
    "for train_dataset, test_dataset in zip(train_datasets, test_datasets):\n",
    "    train_dataset.change_vocab(vocab)\n",
    "    test_dataset.change_vocab(vocab)\n",
    "    \n",
    "    train_dataloader = torch.utils.data.DataLoader(train_dataset, batch_size=BATCH_SIZE, shuffle=True)\n",
    "    train_dataloaders.append(train_dataloader)\n",
    "    \n",
    "    test_dataloader = torch.utils.data.DataLoader(test_dataset, batch_size=BATCH_SIZE, shuffle=True)\n",
    "    test_dataloaders.append(test_dataloader)\n",
    "    \n",
    "    print(len(train_dataloader), len(test_dataloader))"
   ]
  },
  {
   "cell_type": "markdown",
   "metadata": {},
   "source": [
    "### Loading components"
   ]
  },
  {
   "cell_type": "code",
   "execution_count": 8,
   "metadata": {},
   "outputs": [],
   "source": [
    "VOCAB_SIZE = len(vocab)\n",
    "\n",
    "LEARNING_RATE = 1e-4\n",
    "BETA_1 = 0.9\n",
    "BETA_2 = 0.999\n",
    "EPOCHS = 15\n",
    "NUM_HEADS = 15\n",
    "ENCODER_LAYERS = 2\n",
    "DECODER_LAYERS = 1\n",
    "EMBEDDING_SIZE = fasttext.dim\n",
    "FF_DIM = 1024\n",
    "DROPOUT=0.2\n",
    "STEP_LR_DECAY = 15\n",
    "LR_FACTOR_DECAY = 0.7"
   ]
  },
  {
   "cell_type": "code",
   "execution_count": 9,
   "metadata": {},
   "outputs": [
    {
     "name": "stdout",
     "output_type": "stream",
     "text": [
      "Base model loaded\n"
     ]
    }
   ],
   "source": [
    "base_model = MultiTextModel(\n",
    "    authors=AUTHORS,\n",
    "    vocab_size=len(vocab),\n",
    "    embedding_size=EMBEDDING_SIZE, \n",
    "    num_heads=NUM_HEADS, \n",
    "    encoder_layers=ENCODER_LAYERS, \n",
    "    decoder_layers=DECODER_LAYERS, \n",
    "    dim_feedforward=FF_DIM,\n",
    "    dropout=DROPOUT\n",
    ")\n",
    "\n",
    "base_optimizer = torch.optim.Adam(\n",
    "    base_model.parameters(),\n",
    "    lr=LEARNING_RATE,\n",
    "    betas=(BETA_1, BETA_2)\n",
    ")\n",
    "\n",
    "base_model, _, _, _, _, _ = load_model_state(\n",
    "    os.path.join(CHECKPOINT_BASE, 'best.pt'), \n",
    "    base_model, \n",
    "    base_optimizer\n",
    ")\n",
    "\n",
    "print('Base model loaded')\n",
    "\n",
    "model = MultiTextClassifierModel(\n",
    "    authors = AUTHORS,\n",
    "    sequences_len=MAX_SENTENCE_LENGTH,\n",
    "    vocab_size=VOCAB_SIZE,\n",
    "    embedding_size=EMBEDDING_SIZE, \n",
    "    num_heads=NUM_HEADS, \n",
    "    encoder_layers=ENCODER_LAYERS, \n",
    "    dim_feedforward=FF_DIM,\n",
    "    dropout=DROPOUT\n",
    ")\n",
    "\n",
    "\n",
    "optimizer = torch.optim.Adam(\n",
    "    model.parameters(), \n",
    "    lr=LEARNING_RATE,\n",
    "    betas=(BETA_1, BETA_2)\n",
    ")\n",
    "    \n",
    "loss_fn = get_classifier_loss_function(len(AUTHORS))\n",
    "scheduler = torch.optim.lr_scheduler.StepLR(optimizer, step_size=STEP_LR_DECAY, gamma=LR_FACTOR_DECAY)"
   ]
  },
  {
   "cell_type": "code",
   "execution_count": 10,
   "metadata": {},
   "outputs": [
    {
     "data": {
      "text/plain": [
       "<All keys matched successfully>"
      ]
     },
     "execution_count": 10,
     "metadata": {},
     "output_type": "execute_result"
    }
   ],
   "source": [
    "# Transfer base_model encoder to model\n",
    "model.embedding.weight.data.copy_(base_model.embedding.weight.data)\n",
    "model.pos_encoder.load_state_dict(base_model.pos_encoder.state_dict())\n",
    "model.encoder.load_state_dict(base_model.encoder.state_dict())"
   ]
  },
  {
   "cell_type": "code",
   "execution_count": 11,
   "metadata": {},
   "outputs": [
    {
     "name": "stdout",
     "output_type": "stream",
     "text": [
      "No checkpoints found. New training.\n"
     ]
    }
   ],
   "source": [
    "try:\n",
    "    if not LOAD_CHECKPOINTS:\n",
    "        print('New training required')\n",
    "        raise Error('New training required')\n",
    "        \n",
    "    model, optimizer, last_epoch, train_loss_history, val_loss_history, best_val_loss, train_acc_history, val_acc_history, best_val_acc = load_model_state(\n",
    "        os.path.join(CHECKPOINT_BASE, 'classifier_best.pt'), \n",
    "        model, \n",
    "        optimizer\n",
    "    )\n",
    "    \n",
    "    for state in optimizer.state.values():\n",
    "        for k, v in state.items():\n",
    "            if isinstance(v, torch.Tensor):\n",
    "                state[k] = v.to(device)\n",
    "\n",
    "    print('Checkpoint loaded')\n",
    "    \n",
    "except:\n",
    "    last_epoch, train_loss_history, val_loss_history, best_val_loss, train_acc_history, val_acc_history, best_val_acc = build_model_state()\n",
    "    print('No checkpoints found. New training.')\n",
    "    pass\n",
    "\n",
    "model = model.to(device)\n"
   ]
  },
  {
   "cell_type": "markdown",
   "metadata": {},
   "source": [
    "### Training and validation"
   ]
  },
  {
   "cell_type": "code",
   "execution_count": 12,
   "metadata": {},
   "outputs": [],
   "source": [
    "def train_step(model, loss_fn, optimizer, source, target):\n",
    "    model.train()\n",
    "\n",
    "    model.zero_grad()\n",
    "    optimizer.zero_grad()\n",
    "\n",
    "    predicted = model(source)\n",
    "    loss = loss_fn(target, predicted)\n",
    "    loss.backward()      \n",
    "    optimizer.step()\n",
    "    \n",
    "    predicted_idxs = torch.argmax(predicted, 1)\n",
    "    \n",
    "    accuracy = (predicted_idxs == target).float().mean()\n",
    "    \n",
    "    return loss.item(), accuracy.item()"
   ]
  },
  {
   "cell_type": "code",
   "execution_count": 13,
   "metadata": {},
   "outputs": [],
   "source": [
    "def val_step(model, loss_fn, source, target):\n",
    "    model.eval()\n",
    "    \n",
    "    with torch.no_grad():\n",
    "        predicted = model(source)\n",
    "        loss = loss_fn(target, predicted)\n",
    "\n",
    "        predicted_idxs = torch.argmax(predicted, 1)\n",
    "\n",
    "        accuracy = (predicted_idxs == target).float().mean()\n",
    "\n",
    "        return loss.item(), accuracy.item(), predicted"
   ]
  },
  {
   "cell_type": "code",
   "execution_count": 14,
   "metadata": {},
   "outputs": [],
   "source": [
    "def sample(iterators, dataloaders, device):\n",
    "    source = []\n",
    "    target = []\n",
    "    for idx, it in enumerate(iterators):\n",
    "        try:\n",
    "            example = next(it)\n",
    "        except:\n",
    "            iterators[idx] = iter(dataloaders[idx])\n",
    "            example = next(iterators[idx])\n",
    "\n",
    "        example = example[:, :-1]\n",
    "        source.append(example)\n",
    "        \n",
    "        labels = torch.tensor([idx] * example.shape[0])\n",
    "        target.append(labels)\n",
    "        \n",
    "    source = torch.cat(source).to(device)\n",
    "    target = torch.cat(target).long().to(device)\n",
    "    \n",
    "    shuffle = torch.randperm(source.size()[0])\n",
    "        \n",
    "    source = source[shuffle]\n",
    "    target = target[shuffle]\n",
    "    \n",
    "    return source, target"
   ]
  },
  {
   "cell_type": "code",
   "execution_count": 15,
   "metadata": {
    "tags": [
     "outputPrepend"
    ]
   },
   "outputs": [
    {
     "name": "stdout",
     "output_type": "stream",
     "text": [
      "*************************** EPOCH 1 ***************************\n"
     ]
    },
    {
     "data": {
      "application/vnd.jupyter.widget-view+json": {
       "model_id": "48baa208072f4917af71ee1ae6e4d969",
       "version_major": 2,
       "version_minor": 0
      },
      "text/plain": [
       "HBox(children=(FloatProgress(value=0.0, max=1861.0), HTML(value='')))"
      ]
     },
     "metadata": {},
     "output_type": "display_data"
    },
    {
     "name": "stdout",
     "output_type": "stream",
     "text": [
      "\n"
     ]
    },
    {
     "data": {
      "application/vnd.jupyter.widget-view+json": {
       "model_id": "a1ca1754778847379b967d858bf011c9",
       "version_major": 2,
       "version_minor": 0
      },
      "text/plain": [
       "HBox(children=(FloatProgress(value=0.0, max=798.0), HTML(value='')))"
      ]
     },
     "metadata": {},
     "output_type": "display_data"
    },
    {
     "name": "stdout",
     "output_type": "stream",
     "text": [
      "\n",
      "*************************** EPOCH 2 ***************************\n"
     ]
    },
    {
     "data": {
      "application/vnd.jupyter.widget-view+json": {
       "model_id": "e75f4f39c16d4f02b75a14ff7aa351aa",
       "version_major": 2,
       "version_minor": 0
      },
      "text/plain": [
       "HBox(children=(FloatProgress(value=0.0, max=1861.0), HTML(value='')))"
      ]
     },
     "metadata": {},
     "output_type": "display_data"
    },
    {
     "name": "stdout",
     "output_type": "stream",
     "text": [
      "\n"
     ]
    },
    {
     "data": {
      "application/vnd.jupyter.widget-view+json": {
       "model_id": "99da553c156e4a1ba435146d369ba104",
       "version_major": 2,
       "version_minor": 0
      },
      "text/plain": [
       "HBox(children=(FloatProgress(value=0.0, max=798.0), HTML(value='')))"
      ]
     },
     "metadata": {},
     "output_type": "display_data"
    },
    {
     "name": "stdout",
     "output_type": "stream",
     "text": [
      "\n",
      "*************************** EPOCH 3 ***************************\n"
     ]
    },
    {
     "data": {
      "application/vnd.jupyter.widget-view+json": {
       "model_id": "1b23a64b5260420c9b01628db1c6e38d",
       "version_major": 2,
       "version_minor": 0
      },
      "text/plain": [
       "HBox(children=(FloatProgress(value=0.0, max=1861.0), HTML(value='')))"
      ]
     },
     "metadata": {},
     "output_type": "display_data"
    },
    {
     "name": "stdout",
     "output_type": "stream",
     "text": [
      "\n"
     ]
    },
    {
     "data": {
      "application/vnd.jupyter.widget-view+json": {
       "model_id": "25c2cf6c251b490a9bcd4bd3f3eea58e",
       "version_major": 2,
       "version_minor": 0
      },
      "text/plain": [
       "HBox(children=(FloatProgress(value=0.0, max=798.0), HTML(value='')))"
      ]
     },
     "metadata": {},
     "output_type": "display_data"
    },
    {
     "name": "stdout",
     "output_type": "stream",
     "text": [
      "\n",
      "*************************** EPOCH 4 ***************************\n"
     ]
    },
    {
     "data": {
      "application/vnd.jupyter.widget-view+json": {
       "model_id": "acf680a05c884570a88ec53adb71b95d",
       "version_major": 2,
       "version_minor": 0
      },
      "text/plain": [
       "HBox(children=(FloatProgress(value=0.0, max=1861.0), HTML(value='')))"
      ]
     },
     "metadata": {},
     "output_type": "display_data"
    },
    {
     "name": "stdout",
     "output_type": "stream",
     "text": [
      "\n"
     ]
    },
    {
     "data": {
      "application/vnd.jupyter.widget-view+json": {
       "model_id": "3ef8da7148084c26b54ad7484d21abc9",
       "version_major": 2,
       "version_minor": 0
      },
      "text/plain": [
       "HBox(children=(FloatProgress(value=0.0, max=798.0), HTML(value='')))"
      ]
     },
     "metadata": {},
     "output_type": "display_data"
    },
    {
     "name": "stdout",
     "output_type": "stream",
     "text": [
      "\n",
      "*************************** EPOCH 5 ***************************\n"
     ]
    },
    {
     "data": {
      "application/vnd.jupyter.widget-view+json": {
       "model_id": "8095af3f66fc4d269f6641ec76a46e66",
       "version_major": 2,
       "version_minor": 0
      },
      "text/plain": [
       "HBox(children=(FloatProgress(value=0.0, max=1861.0), HTML(value='')))"
      ]
     },
     "metadata": {},
     "output_type": "display_data"
    },
    {
     "name": "stdout",
     "output_type": "stream",
     "text": [
      "\n"
     ]
    },
    {
     "data": {
      "application/vnd.jupyter.widget-view+json": {
       "model_id": "ff28c898a23e498c85e40d81b2ad097e",
       "version_major": 2,
       "version_minor": 0
      },
      "text/plain": [
       "HBox(children=(FloatProgress(value=0.0, max=798.0), HTML(value='')))"
      ]
     },
     "metadata": {},
     "output_type": "display_data"
    },
    {
     "name": "stdout",
     "output_type": "stream",
     "text": [
      "\n",
      "*************************** EPOCH 6 ***************************\n"
     ]
    },
    {
     "data": {
      "application/vnd.jupyter.widget-view+json": {
       "model_id": "123c1d2b4ecb4bf4bcf57e7683f48180",
       "version_major": 2,
       "version_minor": 0
      },
      "text/plain": [
       "HBox(children=(FloatProgress(value=0.0, max=1861.0), HTML(value='')))"
      ]
     },
     "metadata": {},
     "output_type": "display_data"
    },
    {
     "name": "stdout",
     "output_type": "stream",
     "text": [
      "\n"
     ]
    },
    {
     "data": {
      "application/vnd.jupyter.widget-view+json": {
       "model_id": "153e3589d1c94932a8c566dfca9c714c",
       "version_major": 2,
       "version_minor": 0
      },
      "text/plain": [
       "HBox(children=(FloatProgress(value=0.0, max=798.0), HTML(value='')))"
      ]
     },
     "metadata": {},
     "output_type": "display_data"
    },
    {
     "name": "stdout",
     "output_type": "stream",
     "text": [
      "\n",
      "*************************** EPOCH 7 ***************************\n"
     ]
    },
    {
     "data": {
      "application/vnd.jupyter.widget-view+json": {
       "model_id": "b34a0a311d9d412b959fb92e5df4d125",
       "version_major": 2,
       "version_minor": 0
      },
      "text/plain": [
       "HBox(children=(FloatProgress(value=0.0, max=1861.0), HTML(value='')))"
      ]
     },
     "metadata": {},
     "output_type": "display_data"
    },
    {
     "name": "stdout",
     "output_type": "stream",
     "text": [
      "\n"
     ]
    },
    {
     "data": {
      "application/vnd.jupyter.widget-view+json": {
       "model_id": "50ca4127a01b43c7bd85e992372b49c2",
       "version_major": 2,
       "version_minor": 0
      },
      "text/plain": [
       "HBox(children=(FloatProgress(value=0.0, max=798.0), HTML(value='')))"
      ]
     },
     "metadata": {},
     "output_type": "display_data"
    },
    {
     "name": "stdout",
     "output_type": "stream",
     "text": [
      "\n",
      "*************************** EPOCH 8 ***************************\n"
     ]
    },
    {
     "data": {
      "application/vnd.jupyter.widget-view+json": {
       "model_id": "8f50c140ab65413892335414cbfcedcb",
       "version_major": 2,
       "version_minor": 0
      },
      "text/plain": [
       "HBox(children=(FloatProgress(value=0.0, max=1861.0), HTML(value='')))"
      ]
     },
     "metadata": {},
     "output_type": "display_data"
    },
    {
     "name": "stdout",
     "output_type": "stream",
     "text": [
      "\n"
     ]
    },
    {
     "data": {
      "application/vnd.jupyter.widget-view+json": {
       "model_id": "337b55f1010d4193a55cff2a5a66cb26",
       "version_major": 2,
       "version_minor": 0
      },
      "text/plain": [
       "HBox(children=(FloatProgress(value=0.0, max=798.0), HTML(value='')))"
      ]
     },
     "metadata": {},
     "output_type": "display_data"
    },
    {
     "name": "stdout",
     "output_type": "stream",
     "text": [
      "\n",
      "*************************** EPOCH 9 ***************************\n"
     ]
    },
    {
     "data": {
      "application/vnd.jupyter.widget-view+json": {
       "model_id": "0b3f68722f984191ba75c75a67c73387",
       "version_major": 2,
       "version_minor": 0
      },
      "text/plain": [
       "HBox(children=(FloatProgress(value=0.0, max=1861.0), HTML(value='')))"
      ]
     },
     "metadata": {},
     "output_type": "display_data"
    },
    {
     "name": "stdout",
     "output_type": "stream",
     "text": [
      "\n"
     ]
    },
    {
     "data": {
      "application/vnd.jupyter.widget-view+json": {
       "model_id": "397ef26341e34c0386dd13167f54c5c6",
       "version_major": 2,
       "version_minor": 0
      },
      "text/plain": [
       "HBox(children=(FloatProgress(value=0.0, max=798.0), HTML(value='')))"
      ]
     },
     "metadata": {},
     "output_type": "display_data"
    },
    {
     "name": "stdout",
     "output_type": "stream",
     "text": [
      "\n",
      "*************************** EPOCH 10 ***************************\n"
     ]
    },
    {
     "data": {
      "application/vnd.jupyter.widget-view+json": {
       "model_id": "4a48342e7c294ce693b4cf4696397761",
       "version_major": 2,
       "version_minor": 0
      },
      "text/plain": [
       "HBox(children=(FloatProgress(value=0.0, max=1861.0), HTML(value='')))"
      ]
     },
     "metadata": {},
     "output_type": "display_data"
    },
    {
     "name": "stdout",
     "output_type": "stream",
     "text": [
      "\n"
     ]
    },
    {
     "data": {
      "application/vnd.jupyter.widget-view+json": {
       "model_id": "19bffa94531049baa46be07b5263d5c7",
       "version_major": 2,
       "version_minor": 0
      },
      "text/plain": [
       "HBox(children=(FloatProgress(value=0.0, max=798.0), HTML(value='')))"
      ]
     },
     "metadata": {},
     "output_type": "display_data"
    },
    {
     "name": "stdout",
     "output_type": "stream",
     "text": [
      "\n",
      "*************************** EPOCH 11 ***************************\n"
     ]
    },
    {
     "data": {
      "application/vnd.jupyter.widget-view+json": {
       "model_id": "28ab120c619d421d965f48452ac272b6",
       "version_major": 2,
       "version_minor": 0
      },
      "text/plain": [
       "HBox(children=(FloatProgress(value=0.0, max=1861.0), HTML(value='')))"
      ]
     },
     "metadata": {},
     "output_type": "display_data"
    },
    {
     "name": "stdout",
     "output_type": "stream",
     "text": [
      "\n"
     ]
    },
    {
     "data": {
      "application/vnd.jupyter.widget-view+json": {
       "model_id": "fe5de21f5f3e43e0819a7d3a6b5f8947",
       "version_major": 2,
       "version_minor": 0
      },
      "text/plain": [
       "HBox(children=(FloatProgress(value=0.0, max=798.0), HTML(value='')))"
      ]
     },
     "metadata": {},
     "output_type": "display_data"
    },
    {
     "name": "stdout",
     "output_type": "stream",
     "text": [
      "\n",
      "*************************** EPOCH 12 ***************************\n"
     ]
    },
    {
     "data": {
      "application/vnd.jupyter.widget-view+json": {
       "model_id": "ddd219d4cac4412fa7d4ac4e1ffea70f",
       "version_major": 2,
       "version_minor": 0
      },
      "text/plain": [
       "HBox(children=(FloatProgress(value=0.0, max=1861.0), HTML(value='')))"
      ]
     },
     "metadata": {},
     "output_type": "display_data"
    },
    {
     "name": "stdout",
     "output_type": "stream",
     "text": [
      "\n"
     ]
    },
    {
     "data": {
      "application/vnd.jupyter.widget-view+json": {
       "model_id": "cc85a44ac8924ba38f4bdd9230f6fd11",
       "version_major": 2,
       "version_minor": 0
      },
      "text/plain": [
       "HBox(children=(FloatProgress(value=0.0, max=798.0), HTML(value='')))"
      ]
     },
     "metadata": {},
     "output_type": "display_data"
    },
    {
     "name": "stdout",
     "output_type": "stream",
     "text": [
      "\n",
      "*************************** EPOCH 13 ***************************\n"
     ]
    },
    {
     "data": {
      "application/vnd.jupyter.widget-view+json": {
       "model_id": "dd0966bcd69d4dcabd41a6423ec6bea3",
       "version_major": 2,
       "version_minor": 0
      },
      "text/plain": [
       "HBox(children=(FloatProgress(value=0.0, max=1861.0), HTML(value='')))"
      ]
     },
     "metadata": {},
     "output_type": "display_data"
    },
    {
     "name": "stdout",
     "output_type": "stream",
     "text": [
      "\n"
     ]
    },
    {
     "data": {
      "application/vnd.jupyter.widget-view+json": {
       "model_id": "312e66836ccc4f8f97c1d55fd111d8c8",
       "version_major": 2,
       "version_minor": 0
      },
      "text/plain": [
       "HBox(children=(FloatProgress(value=0.0, max=798.0), HTML(value='')))"
      ]
     },
     "metadata": {},
     "output_type": "display_data"
    },
    {
     "name": "stdout",
     "output_type": "stream",
     "text": [
      "\n",
      "*************************** EPOCH 14 ***************************\n"
     ]
    },
    {
     "data": {
      "application/vnd.jupyter.widget-view+json": {
       "model_id": "b9a48dcb6a1240e298414f53a358299a",
       "version_major": 2,
       "version_minor": 0
      },
      "text/plain": [
       "HBox(children=(FloatProgress(value=0.0, max=1861.0), HTML(value='')))"
      ]
     },
     "metadata": {},
     "output_type": "display_data"
    },
    {
     "name": "stdout",
     "output_type": "stream",
     "text": [
      "\n"
     ]
    },
    {
     "data": {
      "application/vnd.jupyter.widget-view+json": {
       "model_id": "75db2109ac8e4c47acd8098879b36242",
       "version_major": 2,
       "version_minor": 0
      },
      "text/plain": [
       "HBox(children=(FloatProgress(value=0.0, max=798.0), HTML(value='')))"
      ]
     },
     "metadata": {},
     "output_type": "display_data"
    },
    {
     "name": "stdout",
     "output_type": "stream",
     "text": [
      "\n"
     ]
    }
   ],
   "source": [
    "# Define steps where examples will be sampled \n",
    "test_dls_its = [ iter(test_dataloaders[idx]) for idx, _ in enumerate(AUTHORS) ]\n",
    "\n",
    "# For EPOCHS\n",
    "for epoch in range(last_epoch + 1, EPOCHS + last_epoch):\n",
    "    \n",
    "    print('*************************** EPOCH {} ***************************'.format(epoch))\n",
    "\n",
    "    # Restart train datasets\n",
    "    train_dls_its = [ iter(train_dataloaders[idx]) for idx, _ in enumerate(AUTHORS) ]\n",
    "    # Get max of dataloaders lengths\n",
    "    total_batches = max([ len(train_dataloaders[idx]) for idx, _ in enumerate(AUTHORS)  ])\n",
    "    # Progress bar for training dataset\n",
    "    progress_bar = tqdm(range(total_batches))\n",
    "    \n",
    "    train_loss = 0\n",
    "    train_acc = 0\n",
    "\n",
    "    # For all data in training dataset\n",
    "    # Training\n",
    "    for batch_idx in progress_bar:\n",
    "        \n",
    "        # Add train loss to progress bar\n",
    "        progress_bar.set_postfix({\n",
    "            'tr_loss': train_loss / (batch_idx + 1), \n",
    "            'tr_acc': train_acc / (batch_idx + 1), \n",
    "            'lr': scheduler.get_lr()[0]\n",
    "        })\n",
    "\n",
    "        # Train step\n",
    "        source, target = sample(train_dls_its, train_dataloaders, device)\n",
    "        train_loss_iter, train_acc_iter = train_step(model, loss_fn, optimizer, source, target)\n",
    "        train_loss += train_loss_iter\n",
    "        train_acc += train_acc_iter\n",
    "       \n",
    "    \n",
    "    train_loss_history.append(train_loss / total_batches)\n",
    "    train_acc_history.append(train_acc / total_batches)\n",
    "\n",
    "    # Validation\n",
    "    val_dls_its = [ iter(test_dataloaders[idx]) for idx, _ in enumerate(AUTHORS) ]\n",
    "    total_batches = max([ len(test_dataloaders[idx]) for idx, _ in enumerate(AUTHORS)  ])\n",
    "    \n",
    "    # Progress bar for training dataset\n",
    "    progress_bar = tqdm(range(total_batches))\n",
    "    val_loss = 0\n",
    "    val_acc = 0\n",
    "\n",
    "    for batch_idx in progress_bar:\n",
    "        progress_bar.set_postfix({\n",
    "            'val_loss': val_loss / (batch_idx + 1),\n",
    "            'val_acc': val_acc / (batch_idx + 1)\n",
    "        })\n",
    "                \n",
    "        source, target = sample(test_dls_its, test_dataloaders, device)\n",
    "        with torch.no_grad():\n",
    "            val_loss_iter, val_acc_iter, _ = val_step(model, loss_fn, source, target)\n",
    "            val_loss += val_loss_iter\n",
    "            val_acc += val_acc_iter\n",
    "    \n",
    "    # Save losses in history\n",
    "    val_loss_history.append(val_loss / total_batches)\n",
    "    val_acc_history.append(val_acc / total_batches)\n",
    "    \n",
    "    # If this model is best than other\n",
    "    # if best_val_loss is None or val_loss < best_val_loss:\n",
    "    if best_val_acc is None or val_acc > best_val_acc:\n",
    "        best_val_loss = val_loss\n",
    "        best_val_acc = val_acc\n",
    "        \n",
    "        save_model_state(\n",
    "            os.path.join(CHECKPOINT_BASE, 'classifier_best.pt'), \n",
    "            model, \n",
    "            optimizer, \n",
    "            epoch, \n",
    "            train_loss_history, \n",
    "            val_loss_history, \n",
    "            best_val_loss,\n",
    "            train_acc_history, \n",
    "            val_acc_history, \n",
    "            best_val_acc\n",
    "        )\n",
    "        \n",
    "    # Save last model\n",
    "    save_model_state(\n",
    "        os.path.join(CHECKPOINT_BASE, 'classifier_last.pt'), \n",
    "        model, \n",
    "        optimizer, \n",
    "        epoch, \n",
    "        train_loss_history, \n",
    "        val_loss_history, \n",
    "        best_val_loss\n",
    "    )    \n",
    "    \n",
    "    scheduler.step()    "
   ]
  },
  {
   "cell_type": "code",
   "execution_count": 16,
   "metadata": {},
   "outputs": [
    {
     "data": {
      "image/png": "[encoded data removed]",
      "text/plain": [
       "<Figure size 1080x576 with 1 Axes>"
      ]
     },
     "metadata": {
      "needs_background": "light"
     },
     "output_type": "display_data"
    }
   ],
   "source": [
    "x = [epoch for epoch in range(len(train_loss_history))]\n",
    "plt.figure(figsize=(15, 8))\n",
    "\n",
    "plt.xlabel('Epoch')\n",
    "plt.ylabel('Loss')\n",
    "plt.title('Training and validation loss')\n",
    "\n",
    "plt.plot(x, train_loss_history, label='Training loss')\n",
    "plt.plot(x, val_loss_history, label='Validation loss')\n",
    "\n",
    "plt.plot(x, train_acc_history, label='Training acc')\n",
    "plt.plot(x, val_acc_history, label='Validation acc')\n",
    "\n",
    "plt.legend()\n",
    "\n",
    "plt.show()"
   ]
  },
  {
   "cell_type": "code",
   "execution_count": 17,
   "metadata": {},
   "outputs": [
    {
     "name": "stdout",
     "output_type": "stream",
     "text": [
      "Least validation loss: 0.39569320006851566 in epoch 12\n"
     ]
    }
   ],
   "source": [
    "argmin_val = np.argmin(val_loss_history)\n",
    "print('Least validation loss: {} in epoch {}'.format(val_loss_history[argmin_val], argmin_val))"
   ]
  },
  {
   "cell_type": "code",
   "execution_count": 18,
   "metadata": {},
   "outputs": [
    {
     "name": "stdout",
     "output_type": "stream",
     "text": [
      "Greatest validation accuracy: 0.8433783590644225 in epoch 12\n"
     ]
    }
   ],
   "source": [
    "argmax_val = np.argmax(val_acc_history)\n",
    "print('Greatest validation accuracy: {} in epoch {}'.format(val_acc_history[argmax_val], argmax_val))"
   ]
  }
 ],
 "metadata": {
  "file_extension": ".py",
  "kernelspec": {
   "display_name": "Python 3",
   "language": "python",
   "name": "python3"
  },
  "language_info": {
   "codemirror_mode": {
    "name": "ipython",
    "version": 3
   },
   "file_extension": ".py",
   "mimetype": "text/x-python",
   "name": "python",
   "nbconvert_exporter": "python",
   "pygments_lexer": "ipython3",
   "version": "3.7.7"
  },
  "mimetype": "text/x-python",
  "name": "python",
  "npconvert_exporter": "python",
  "pygments_lexer": "ipython3",
  "version": 3
 },
 "nbformat": 4,
 "nbformat_minor": 2
}
