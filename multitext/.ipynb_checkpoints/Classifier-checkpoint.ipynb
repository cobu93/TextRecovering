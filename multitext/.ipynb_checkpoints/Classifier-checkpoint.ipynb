{
 "cells": [
  {
   "cell_type": "code",
   "execution_count": 1,
   "metadata": {},
   "outputs": [],
   "source": [
    "import numpy as np \n",
    "import os\n",
    "from tqdm.notebook import tqdm\n",
    "\n",
    "import torch\n",
    "import torch.nn as nn\n",
    "import math\n",
    "from matplotlib import pyplot as plt\n",
    "\n",
    "import sys\n",
    "sys.path.append('../utils')\n",
    "\n",
    "from text.utils import save_text_state, load_text_state, build_text_state, load_books, Vocabulary\n",
    "from model.utils import get_device, load_model_state, save_model_state, build_model_state\n",
    "\n",
    "from multitext_model import MultiTextModel, MultiTextClassifierModel, get_classifier_loss_function\n",
    "import torchtext"
   ]
  },
  {
   "cell_type": "markdown",
   "metadata": {},
   "source": [
    "### Verify if CUDA is available"
   ]
  },
  {
   "cell_type": "code",
   "execution_count": 2,
   "metadata": {},
   "outputs": [
    {
     "name": "stdout",
     "output_type": "stream",
     "text": [
      "cuda\n"
     ]
    }
   ],
   "source": [
    "device = get_device()\n",
    "print(device)"
   ]
  },
  {
   "cell_type": "markdown",
   "metadata": {},
   "source": [
    "### Loading word vectors and training/validation dataset"
   ]
  },
  {
   "cell_type": "code",
   "execution_count": 3,
   "metadata": {},
   "outputs": [],
   "source": [
    "LOAD_CHECKPOINTS = True\n",
    "\n",
    "CHECKPOINT_BASE = 'checkpoints'\n",
    "DATASET_FILENAME = '../datasets/books.pk'\n",
    "AUTHORS = ['Friedrich Nietzsche', 'Ernest Hemingway', 'Oscar Wilde']\n",
    "\n",
    "VAL_PARTITION = 0.3 \n",
    "MIN_SENTENCE_LENGTH = 5\n",
    "MAX_SENTENCE_LENGTH = 20\n",
    "BATCH_SIZE = 8\n",
    "\n",
    "VECTORS_LOADED = 40000"
   ]
  },
  {
   "cell_type": "code",
   "execution_count": 4,
   "metadata": {},
   "outputs": [
    {
     "name": "stdout",
     "output_type": "stream",
     "text": [
      "Checkpoint loaded\n",
      "Checkpoint loaded\n",
      "Checkpoint loaded\n"
     ]
    }
   ],
   "source": [
    "vocabs = []\n",
    "train_datasets = []\n",
    "test_datasets = []\n",
    "\n",
    "min_len_train = None\n",
    "min_len_test = None\n",
    "\n",
    "for author in AUTHORS:\n",
    "    # Try loading dataset, if it doesn't exists then creates it\n",
    "    try:\n",
    "        if not LOAD_CHECKPOINTS:\n",
    "            print('New training required')\n",
    "            raise Error('New training required')\n",
    "\n",
    "        vocab, train_dataset, test_dataset = load_text_state(os.path.join(CHECKPOINT_BASE, author + '_text.pk'))    \n",
    "        print('Checkpoint loaded')\n",
    "    except:        \n",
    "        books = load_books(DATASET_FILENAME, author=author)\n",
    "        vocab, train_dataset, test_dataset = build_text_state(books, MIN_SENTENCE_LENGTH, MAX_SENTENCE_LENGTH, VAL_PARTITION, vocab_name=author)  \n",
    "        print('No checkpoint found. New partition.')\n",
    "        print('Included books:')\n",
    "        for book in books:\n",
    "            print('\\t', book)\n",
    "            \n",
    "    \n",
    "    train_datasets.append(train_dataset)\n",
    "    test_datasets.append(test_dataset)\n",
    "    vocabs.append(vocab)"
   ]
  },
  {
   "cell_type": "code",
   "execution_count": 5,
   "metadata": {},
   "outputs": [],
   "source": [
    "for idx, author in enumerate(AUTHORS):\n",
    "    save_text_state(\n",
    "        os.path.join(CHECKPOINT_BASE, author + '_text.pk'), \n",
    "        vocabs[idx], \n",
    "        train_datasets[idx], \n",
    "        test_datasets[idx]\n",
    "    ) "
   ]
  },
  {
   "cell_type": "code",
   "execution_count": 6,
   "metadata": {},
   "outputs": [],
   "source": [
    "# Build full vocab\n",
    "vocab = Vocabulary('Multitext')\n",
    "fasttext = torchtext.vocab.FastText(language='en', max_vectors=VECTORS_LOADED - len(vocab), cache='../.vector_cache')\n",
    "\n",
    "for word in fasttext.stoi.keys():\n",
    "    vocab.add_word(word)        "
   ]
  },
  {
   "cell_type": "code",
   "execution_count": 7,
   "metadata": {},
   "outputs": [
    {
     "name": "stdout",
     "output_type": "stream",
     "text": [
      "1542 661\n",
      "1814 778\n",
      "847 363\n"
     ]
    }
   ],
   "source": [
    "# Map all datasets to new indices\n",
    "train_dataloaders = []\n",
    "test_dataloaders = []\n",
    "\n",
    "for train_dataset, test_dataset in zip(train_datasets, test_datasets):\n",
    "    train_dataset.change_vocab(vocab)\n",
    "    test_dataset.change_vocab(vocab)\n",
    "    \n",
    "    train_dataloader = torch.utils.data.DataLoader(train_dataset, batch_size=BATCH_SIZE, shuffle=True)\n",
    "    train_dataloaders.append(train_dataloader)\n",
    "    \n",
    "    test_dataloader = torch.utils.data.DataLoader(test_dataset, batch_size=BATCH_SIZE, shuffle=True)\n",
    "    test_dataloaders.append(test_dataloader)\n",
    "    \n",
    "    print(len(train_dataloader), len(test_dataloader))"
   ]
  },
  {
   "cell_type": "markdown",
   "metadata": {},
   "source": [
    "### Loading components"
   ]
  },
  {
   "cell_type": "code",
   "execution_count": 8,
   "metadata": {},
   "outputs": [],
   "source": [
    "VOCAB_SIZE = len(vocab)\n",
    "\n",
    "LEARNING_RATE = 1e-4\n",
    "BETA_1 = 0.9\n",
    "BETA_2 = 0.999\n",
    "EPOCHS = 30\n",
    "NUM_HEADS = 15\n",
    "ENCODER_LAYERS = 2\n",
    "DECODER_LAYERS = 1\n",
    "EMBEDDING_SIZE = fasttext.dim\n",
    "FF_DIM = 1024\n",
    "DROPOUT=0.3\n",
    "STEP_LR_DECAY = 15\n",
    "LR_FACTOR_DECAY = 0.7"
   ]
  },
  {
   "cell_type": "code",
   "execution_count": 9,
   "metadata": {},
   "outputs": [
    {
     "name": "stdout",
     "output_type": "stream",
     "text": [
      "Base model loaded\n"
     ]
    }
   ],
   "source": [
    "base_model = MultiTextModel(\n",
    "    authors=AUTHORS,\n",
    "    vocab_size=len(vocab),\n",
    "    embedding_size=EMBEDDING_SIZE, \n",
    "    num_heads=NUM_HEADS, \n",
    "    encoder_layers=ENCODER_LAYERS, \n",
    "    decoder_layers=DECODER_LAYERS, \n",
    "    dim_feedforward=FF_DIM,\n",
    "    dropout=DROPOUT\n",
    ")\n",
    "\n",
    "base_optimizer = torch.optim.Adam(\n",
    "    base_model.parameters(),\n",
    "    lr=LEARNING_RATE,\n",
    "    betas=(BETA_1, BETA_2)\n",
    ")\n",
    "\n",
    "base_model, _, _, _, _, _, _, _, _ = load_model_state(\n",
    "    os.path.join(CHECKPOINT_BASE, 'best.pt'), \n",
    "    base_model, \n",
    "    base_optimizer\n",
    ")\n",
    "\n",
    "print('Base model loaded')\n",
    "\n",
    "model = MultiTextClassifierModel(\n",
    "    authors = AUTHORS,\n",
    "    sequences_len=MAX_SENTENCE_LENGTH,\n",
    "    vocab_size=VOCAB_SIZE,\n",
    "    embedding_size=EMBEDDING_SIZE, \n",
    "    num_heads=NUM_HEADS, \n",
    "    encoder_layers=ENCODER_LAYERS, \n",
    "    dim_feedforward=FF_DIM,\n",
    "    dropout=DROPOUT\n",
    ")\n",
    "\n",
    "\n",
    "optimizer = torch.optim.Adam(\n",
    "    model.parameters(), \n",
    "    lr=LEARNING_RATE,\n",
    "    betas=(BETA_1, BETA_2)\n",
    ")\n",
    "    \n",
    "loss_fn = get_classifier_loss_function(len(AUTHORS))\n",
    "scheduler = torch.optim.lr_scheduler.StepLR(optimizer, step_size=STEP_LR_DECAY, gamma=LR_FACTOR_DECAY)"
   ]
  },
  {
   "cell_type": "code",
   "execution_count": 10,
   "metadata": {},
   "outputs": [
    {
     "data": {
      "text/plain": [
       "<All keys matched successfully>"
      ]
     },
     "execution_count": 10,
     "metadata": {},
     "output_type": "execute_result"
    }
   ],
   "source": [
    "# Transfer base_model encoder to model\n",
    "model.embedding.weight.data.copy_(base_model.embedding.weight.data)\n",
    "model.pos_encoder.load_state_dict(base_model.pos_encoder.state_dict())\n",
    "model.encoder.load_state_dict(base_model.encoder.state_dict())"
   ]
  },
  {
   "cell_type": "code",
   "execution_count": 11,
   "metadata": {},
   "outputs": [
    {
     "name": "stdout",
     "output_type": "stream",
     "text": [
      "No checkpoints found. New training.\n"
     ]
    }
   ],
   "source": [
    "try:\n",
    "    if not LOAD_CHECKPOINTS:\n",
    "        print('New training required')\n",
    "        raise Error('New training required')\n",
    "        \n",
    "    model, optimizer, last_epoch, train_loss_history, val_loss_history, best_val_loss, train_acc_history, val_acc_history, best_val_acc = load_model_state(\n",
    "        os.path.join(CHECKPOINT_BASE, 'classifier_best.pt'), \n",
    "        model, \n",
    "        optimizer\n",
    "    )\n",
    "    \n",
    "    for state in optimizer.state.values():\n",
    "        for k, v in state.items():\n",
    "            if isinstance(v, torch.Tensor):\n",
    "                state[k] = v.to(device)\n",
    "\n",
    "    print('Checkpoint loaded')\n",
    "    \n",
    "except:\n",
    "    last_epoch, train_loss_history, val_loss_history, best_val_loss, train_acc_history, val_acc_history, best_val_acc = build_model_state()\n",
    "    print('No checkpoints found. New training.')\n",
    "    pass\n",
    "\n",
    "model = model.to(device)\n"
   ]
  },
  {
   "cell_type": "markdown",
   "metadata": {},
   "source": [
    "### Training and validation"
   ]
  },
  {
   "cell_type": "code",
   "execution_count": 12,
   "metadata": {},
   "outputs": [],
   "source": [
    "def train_step(model, loss_fn, optimizer, source, target):\n",
    "    model.train()\n",
    "\n",
    "    model.zero_grad()\n",
    "    optimizer.zero_grad()\n",
    "\n",
    "    predicted = model(source)\n",
    "    loss = loss_fn(target, predicted)\n",
    "    loss.backward()      \n",
    "    optimizer.step()\n",
    "    \n",
    "    predicted_idxs = torch.argmax(predicted, 1)\n",
    "    \n",
    "    accuracy = (predicted_idxs == target).float().mean()\n",
    "    \n",
    "    return loss.item(), accuracy.item()"
   ]
  },
  {
   "cell_type": "code",
   "execution_count": 13,
   "metadata": {},
   "outputs": [],
   "source": [
    "def val_step(model, loss_fn, source, target):\n",
    "    model.eval()\n",
    "    \n",
    "    with torch.no_grad():\n",
    "        predicted = model(source)\n",
    "        loss = loss_fn(target, predicted)\n",
    "\n",
    "        predicted_idxs = torch.argmax(predicted, 1)\n",
    "\n",
    "        accuracy = (predicted_idxs == target).float().mean()\n",
    "\n",
    "        return loss.item(), accuracy.item(), predicted"
   ]
  },
  {
   "cell_type": "code",
   "execution_count": 14,
   "metadata": {},
   "outputs": [],
   "source": [
    "def sample(iterators, dataloaders, device):\n",
    "    source = []\n",
    "    target = []\n",
    "    for idx, it in enumerate(iterators):\n",
    "        try:\n",
    "            example = next(it)\n",
    "        except:\n",
    "            iterators[idx] = iter(dataloaders[idx])\n",
    "            example = next(iterators[idx])\n",
    "\n",
    "        example = example[:, :-1]\n",
    "        source.append(example)\n",
    "        \n",
    "        labels = torch.tensor([idx] * example.shape[0])\n",
    "        target.append(labels)\n",
    "        \n",
    "    source = torch.cat(source).to(device)\n",
    "    target = torch.cat(target).long().to(device)\n",
    "    \n",
    "    shuffle = torch.randperm(source.size()[0])\n",
    "        \n",
    "    source = source[shuffle]\n",
    "    target = target[shuffle]\n",
    "    \n",
    "    return source, target"
   ]
  },
  {
   "cell_type": "code",
   "execution_count": 15,
   "metadata": {
    "tags": [
     "outputPrepend"
    ]
   },
   "outputs": [
    {
     "name": "stdout",
     "output_type": "stream",
     "text": [
      "*************************** EPOCH 1 ***************************\n"
     ]
    },
    {
     "data": {
      "application/vnd.jupyter.widget-view+json": {
       "model_id": "654705dabd79410bb0ea088b95d4d022",
       "version_major": 2,
       "version_minor": 0
      },
      "text/plain": [
       "HBox(children=(FloatProgress(value=0.0, max=1814.0), HTML(value='')))"
      ]
     },
     "metadata": {},
     "output_type": "display_data"
    },
    {
     "name": "stdout",
     "output_type": "stream",
     "text": [
      "\n"
     ]
    },
    {
     "data": {
      "application/vnd.jupyter.widget-view+json": {
       "model_id": "ce2816b4379b4014abd03213eb0cf19a",
       "version_major": 2,
       "version_minor": 0
      },
      "text/plain": [
       "HBox(children=(FloatProgress(value=0.0, max=778.0), HTML(value='')))"
      ]
     },
     "metadata": {},
     "output_type": "display_data"
    },
    {
     "name": "stdout",
     "output_type": "stream",
     "text": [
      "\n",
      "*************************** EPOCH 2 ***************************\n"
     ]
    },
    {
     "data": {
      "application/vnd.jupyter.widget-view+json": {
       "model_id": "3fb7b9e782b94130baf765b858d6afa7",
       "version_major": 2,
       "version_minor": 0
      },
      "text/plain": [
       "HBox(children=(FloatProgress(value=0.0, max=1814.0), HTML(value='')))"
      ]
     },
     "metadata": {},
     "output_type": "display_data"
    },
    {
     "name": "stdout",
     "output_type": "stream",
     "text": [
      "\n"
     ]
    },
    {
     "data": {
      "application/vnd.jupyter.widget-view+json": {
       "model_id": "75ca0e1da7ec48be8704df67e15ed6e2",
       "version_major": 2,
       "version_minor": 0
      },
      "text/plain": [
       "HBox(children=(FloatProgress(value=0.0, max=778.0), HTML(value='')))"
      ]
     },
     "metadata": {},
     "output_type": "display_data"
    },
    {
     "name": "stdout",
     "output_type": "stream",
     "text": [
      "\n",
      "*************************** EPOCH 3 ***************************\n"
     ]
    },
    {
     "data": {
      "application/vnd.jupyter.widget-view+json": {
       "model_id": "6b86353fe39246ed9fcb12998b78acbb",
       "version_major": 2,
       "version_minor": 0
      },
      "text/plain": [
       "HBox(children=(FloatProgress(value=0.0, max=1814.0), HTML(value='')))"
      ]
     },
     "metadata": {},
     "output_type": "display_data"
    },
    {
     "name": "stdout",
     "output_type": "stream",
     "text": [
      "\n"
     ]
    },
    {
     "data": {
      "application/vnd.jupyter.widget-view+json": {
       "model_id": "5e20468457044e978c134fd45af9cb55",
       "version_major": 2,
       "version_minor": 0
      },
      "text/plain": [
       "HBox(children=(FloatProgress(value=0.0, max=778.0), HTML(value='')))"
      ]
     },
     "metadata": {},
     "output_type": "display_data"
    },
    {
     "name": "stdout",
     "output_type": "stream",
     "text": [
      "\n",
      "*************************** EPOCH 4 ***************************\n"
     ]
    },
    {
     "data": {
      "application/vnd.jupyter.widget-view+json": {
       "model_id": "1cc14220e674485cb48fd78ea9509bad",
       "version_major": 2,
       "version_minor": 0
      },
      "text/plain": [
       "HBox(children=(FloatProgress(value=0.0, max=1814.0), HTML(value='')))"
      ]
     },
     "metadata": {},
     "output_type": "display_data"
    },
    {
     "name": "stdout",
     "output_type": "stream",
     "text": [
      "\n"
     ]
    },
    {
     "data": {
      "application/vnd.jupyter.widget-view+json": {
       "model_id": "385d410bb54d4f16a0773989500b6c0f",
       "version_major": 2,
       "version_minor": 0
      },
      "text/plain": [
       "HBox(children=(FloatProgress(value=0.0, max=778.0), HTML(value='')))"
      ]
     },
     "metadata": {},
     "output_type": "display_data"
    },
    {
     "name": "stdout",
     "output_type": "stream",
     "text": [
      "\n",
      "*************************** EPOCH 5 ***************************\n"
     ]
    },
    {
     "data": {
      "application/vnd.jupyter.widget-view+json": {
       "model_id": "51c902b9151a4d7abd6427492f809243",
       "version_major": 2,
       "version_minor": 0
      },
      "text/plain": [
       "HBox(children=(FloatProgress(value=0.0, max=1814.0), HTML(value='')))"
      ]
     },
     "metadata": {},
     "output_type": "display_data"
    },
    {
     "name": "stdout",
     "output_type": "stream",
     "text": [
      "\n"
     ]
    },
    {
     "data": {
      "application/vnd.jupyter.widget-view+json": {
       "model_id": "551343ee308842438b2ddbb326767e09",
       "version_major": 2,
       "version_minor": 0
      },
      "text/plain": [
       "HBox(children=(FloatProgress(value=0.0, max=778.0), HTML(value='')))"
      ]
     },
     "metadata": {},
     "output_type": "display_data"
    },
    {
     "name": "stdout",
     "output_type": "stream",
     "text": [
      "\n",
      "*************************** EPOCH 6 ***************************\n"
     ]
    },
    {
     "data": {
      "application/vnd.jupyter.widget-view+json": {
       "model_id": "0e9e45458ae945b1a111f575c84dff53",
       "version_major": 2,
       "version_minor": 0
      },
      "text/plain": [
       "HBox(children=(FloatProgress(value=0.0, max=1814.0), HTML(value='')))"
      ]
     },
     "metadata": {},
     "output_type": "display_data"
    },
    {
     "name": "stdout",
     "output_type": "stream",
     "text": [
      "\n"
     ]
    },
    {
     "data": {
      "application/vnd.jupyter.widget-view+json": {
       "model_id": "8b145163a8e440d789eeb67e7fe3ec48",
       "version_major": 2,
       "version_minor": 0
      },
      "text/plain": [
       "HBox(children=(FloatProgress(value=0.0, max=778.0), HTML(value='')))"
      ]
     },
     "metadata": {},
     "output_type": "display_data"
    },
    {
     "name": "stdout",
     "output_type": "stream",
     "text": [
      "\n",
      "*************************** EPOCH 7 ***************************\n"
     ]
    },
    {
     "data": {
      "application/vnd.jupyter.widget-view+json": {
       "model_id": "8b72c7d7e309452bb98dfc0506e697fe",
       "version_major": 2,
       "version_minor": 0
      },
      "text/plain": [
       "HBox(children=(FloatProgress(value=0.0, max=1814.0), HTML(value='')))"
      ]
     },
     "metadata": {},
     "output_type": "display_data"
    },
    {
     "name": "stdout",
     "output_type": "stream",
     "text": [
      "\n"
     ]
    },
    {
     "data": {
      "application/vnd.jupyter.widget-view+json": {
       "model_id": "7329979d74074d7cb94b367ebb8576ac",
       "version_major": 2,
       "version_minor": 0
      },
      "text/plain": [
       "HBox(children=(FloatProgress(value=0.0, max=778.0), HTML(value='')))"
      ]
     },
     "metadata": {},
     "output_type": "display_data"
    },
    {
     "name": "stdout",
     "output_type": "stream",
     "text": [
      "\n",
      "*************************** EPOCH 8 ***************************\n"
     ]
    },
    {
     "data": {
      "application/vnd.jupyter.widget-view+json": {
       "model_id": "490365477fb44220a9e429794a5e78e1",
       "version_major": 2,
       "version_minor": 0
      },
      "text/plain": [
       "HBox(children=(FloatProgress(value=0.0, max=1814.0), HTML(value='')))"
      ]
     },
     "metadata": {},
     "output_type": "display_data"
    },
    {
     "name": "stdout",
     "output_type": "stream",
     "text": [
      "\n"
     ]
    },
    {
     "data": {
      "application/vnd.jupyter.widget-view+json": {
       "model_id": "690ee57d03bf4c459ae9b7d5cc0940e7",
       "version_major": 2,
       "version_minor": 0
      },
      "text/plain": [
       "HBox(children=(FloatProgress(value=0.0, max=778.0), HTML(value='')))"
      ]
     },
     "metadata": {},
     "output_type": "display_data"
    },
    {
     "name": "stdout",
     "output_type": "stream",
     "text": [
      "\n",
      "*************************** EPOCH 9 ***************************\n"
     ]
    },
    {
     "data": {
      "application/vnd.jupyter.widget-view+json": {
       "model_id": "fda2ec888d844fad86ae593affd6684f",
       "version_major": 2,
       "version_minor": 0
      },
      "text/plain": [
       "HBox(children=(FloatProgress(value=0.0, max=1814.0), HTML(value='')))"
      ]
     },
     "metadata": {},
     "output_type": "display_data"
    },
    {
     "name": "stdout",
     "output_type": "stream",
     "text": [
      "\n"
     ]
    },
    {
     "data": {
      "application/vnd.jupyter.widget-view+json": {
       "model_id": "13cae982a76c4618a342132fd81b55c0",
       "version_major": 2,
       "version_minor": 0
      },
      "text/plain": [
       "HBox(children=(FloatProgress(value=0.0, max=778.0), HTML(value='')))"
      ]
     },
     "metadata": {},
     "output_type": "display_data"
    },
    {
     "name": "stdout",
     "output_type": "stream",
     "text": [
      "\n",
      "*************************** EPOCH 10 ***************************\n"
     ]
    },
    {
     "data": {
      "application/vnd.jupyter.widget-view+json": {
       "model_id": "3588012eea784688afb86e599ed38b12",
       "version_major": 2,
       "version_minor": 0
      },
      "text/plain": [
       "HBox(children=(FloatProgress(value=0.0, max=1814.0), HTML(value='')))"
      ]
     },
     "metadata": {},
     "output_type": "display_data"
    },
    {
     "name": "stdout",
     "output_type": "stream",
     "text": [
      "\n"
     ]
    },
    {
     "data": {
      "application/vnd.jupyter.widget-view+json": {
       "model_id": "6788cd6b81cd413ea89c7b9576c33a34",
       "version_major": 2,
       "version_minor": 0
      },
      "text/plain": [
       "HBox(children=(FloatProgress(value=0.0, max=778.0), HTML(value='')))"
      ]
     },
     "metadata": {},
     "output_type": "display_data"
    },
    {
     "name": "stdout",
     "output_type": "stream",
     "text": [
      "\n",
      "*************************** EPOCH 11 ***************************\n"
     ]
    },
    {
     "data": {
      "application/vnd.jupyter.widget-view+json": {
       "model_id": "28935a2d8c8c4e019b00cb1987c33db7",
       "version_major": 2,
       "version_minor": 0
      },
      "text/plain": [
       "HBox(children=(FloatProgress(value=0.0, max=1814.0), HTML(value='')))"
      ]
     },
     "metadata": {},
     "output_type": "display_data"
    },
    {
     "name": "stdout",
     "output_type": "stream",
     "text": [
      "\n"
     ]
    },
    {
     "data": {
      "application/vnd.jupyter.widget-view+json": {
       "model_id": "3737fad9c7b44fdeac32e1f6e70deac8",
       "version_major": 2,
       "version_minor": 0
      },
      "text/plain": [
       "HBox(children=(FloatProgress(value=0.0, max=778.0), HTML(value='')))"
      ]
     },
     "metadata": {},
     "output_type": "display_data"
    },
    {
     "name": "stdout",
     "output_type": "stream",
     "text": [
      "\n",
      "*************************** EPOCH 12 ***************************\n"
     ]
    },
    {
     "data": {
      "application/vnd.jupyter.widget-view+json": {
       "model_id": "0052e89edc764c7499daa2a9dce7901f",
       "version_major": 2,
       "version_minor": 0
      },
      "text/plain": [
       "HBox(children=(FloatProgress(value=0.0, max=1814.0), HTML(value='')))"
      ]
     },
     "metadata": {},
     "output_type": "display_data"
    },
    {
     "name": "stdout",
     "output_type": "stream",
     "text": [
      "\n"
     ]
    },
    {
     "data": {
      "application/vnd.jupyter.widget-view+json": {
       "model_id": "1cc5138c87ff469b87775893b7f5199d",
       "version_major": 2,
       "version_minor": 0
      },
      "text/plain": [
       "HBox(children=(FloatProgress(value=0.0, max=778.0), HTML(value='')))"
      ]
     },
     "metadata": {},
     "output_type": "display_data"
    },
    {
     "name": "stdout",
     "output_type": "stream",
     "text": [
      "\n",
      "*************************** EPOCH 13 ***************************\n"
     ]
    },
    {
     "data": {
      "application/vnd.jupyter.widget-view+json": {
       "model_id": "acd1f05bba5b42c08fe71869a0a52d1d",
       "version_major": 2,
       "version_minor": 0
      },
      "text/plain": [
       "HBox(children=(FloatProgress(value=0.0, max=1814.0), HTML(value='')))"
      ]
     },
     "metadata": {},
     "output_type": "display_data"
    },
    {
     "name": "stdout",
     "output_type": "stream",
     "text": [
      "\n"
     ]
    },
    {
     "data": {
      "application/vnd.jupyter.widget-view+json": {
       "model_id": "f9daf82a50444b4a892e49af41220ae8",
       "version_major": 2,
       "version_minor": 0
      },
      "text/plain": [
       "HBox(children=(FloatProgress(value=0.0, max=778.0), HTML(value='')))"
      ]
     },
     "metadata": {},
     "output_type": "display_data"
    },
    {
     "name": "stdout",
     "output_type": "stream",
     "text": [
      "\n",
      "*************************** EPOCH 14 ***************************\n"
     ]
    },
    {
     "data": {
      "application/vnd.jupyter.widget-view+json": {
       "model_id": "c7f4aa5a29d84f33a025a40755de9f85",
       "version_major": 2,
       "version_minor": 0
      },
      "text/plain": [
       "HBox(children=(FloatProgress(value=0.0, max=1814.0), HTML(value='')))"
      ]
     },
     "metadata": {},
     "output_type": "display_data"
    },
    {
     "name": "stdout",
     "output_type": "stream",
     "text": [
      "\n"
     ]
    },
    {
     "data": {
      "application/vnd.jupyter.widget-view+json": {
       "model_id": "78c62033f96a4f46bb25925b3bd080d1",
       "version_major": 2,
       "version_minor": 0
      },
      "text/plain": [
       "HBox(children=(FloatProgress(value=0.0, max=778.0), HTML(value='')))"
      ]
     },
     "metadata": {},
     "output_type": "display_data"
    },
    {
     "name": "stdout",
     "output_type": "stream",
     "text": [
      "\n",
      "*************************** EPOCH 15 ***************************\n"
     ]
    },
    {
     "data": {
      "application/vnd.jupyter.widget-view+json": {
       "model_id": "2a4ba2332b814c5bad6f01f7d600047e",
       "version_major": 2,
       "version_minor": 0
      },
      "text/plain": [
       "HBox(children=(FloatProgress(value=0.0, max=1814.0), HTML(value='')))"
      ]
     },
     "metadata": {},
     "output_type": "display_data"
    },
    {
     "name": "stdout",
     "output_type": "stream",
     "text": [
      "\n"
     ]
    },
    {
     "data": {
      "application/vnd.jupyter.widget-view+json": {
       "model_id": "5bb213b483eb461ab028c725d661183a",
       "version_major": 2,
       "version_minor": 0
      },
      "text/plain": [
       "HBox(children=(FloatProgress(value=0.0, max=778.0), HTML(value='')))"
      ]
     },
     "metadata": {},
     "output_type": "display_data"
    },
    {
     "name": "stdout",
     "output_type": "stream",
     "text": [
      "\n",
      "*************************** EPOCH 16 ***************************\n"
     ]
    },
    {
     "data": {
      "application/vnd.jupyter.widget-view+json": {
       "model_id": "773f342ccbdc46ff90f049dd00b30e07",
       "version_major": 2,
       "version_minor": 0
      },
      "text/plain": [
       "HBox(children=(FloatProgress(value=0.0, max=1814.0), HTML(value='')))"
      ]
     },
     "metadata": {},
     "output_type": "display_data"
    },
    {
     "name": "stdout",
     "output_type": "stream",
     "text": [
      "\n"
     ]
    },
    {
     "data": {
      "application/vnd.jupyter.widget-view+json": {
       "model_id": "1f829b9cbaa84221af03e1449af76731",
       "version_major": 2,
       "version_minor": 0
      },
      "text/plain": [
       "HBox(children=(FloatProgress(value=0.0, max=778.0), HTML(value='')))"
      ]
     },
     "metadata": {},
     "output_type": "display_data"
    },
    {
     "name": "stdout",
     "output_type": "stream",
     "text": [
      "\n",
      "*************************** EPOCH 17 ***************************\n"
     ]
    },
    {
     "data": {
      "application/vnd.jupyter.widget-view+json": {
       "model_id": "0e00f477dfa145c199e81babf886f12a",
       "version_major": 2,
       "version_minor": 0
      },
      "text/plain": [
       "HBox(children=(FloatProgress(value=0.0, max=1814.0), HTML(value='')))"
      ]
     },
     "metadata": {},
     "output_type": "display_data"
    },
    {
     "name": "stdout",
     "output_type": "stream",
     "text": [
      "\n"
     ]
    },
    {
     "data": {
      "application/vnd.jupyter.widget-view+json": {
       "model_id": "c31d747e66d84a71ad567f8ca7a89062",
       "version_major": 2,
       "version_minor": 0
      },
      "text/plain": [
       "HBox(children=(FloatProgress(value=0.0, max=778.0), HTML(value='')))"
      ]
     },
     "metadata": {},
     "output_type": "display_data"
    },
    {
     "name": "stdout",
     "output_type": "stream",
     "text": [
      "\n",
      "*************************** EPOCH 18 ***************************\n"
     ]
    },
    {
     "data": {
      "application/vnd.jupyter.widget-view+json": {
       "model_id": "89937cc14aa948d68ddb6ff948ad2797",
       "version_major": 2,
       "version_minor": 0
      },
      "text/plain": [
       "HBox(children=(FloatProgress(value=0.0, max=1814.0), HTML(value='')))"
      ]
     },
     "metadata": {},
     "output_type": "display_data"
    },
    {
     "name": "stdout",
     "output_type": "stream",
     "text": [
      "\n"
     ]
    },
    {
     "data": {
      "application/vnd.jupyter.widget-view+json": {
       "model_id": "9f8a65d175614d91b3b54f6e5c194ead",
       "version_major": 2,
       "version_minor": 0
      },
      "text/plain": [
       "HBox(children=(FloatProgress(value=0.0, max=778.0), HTML(value='')))"
      ]
     },
     "metadata": {},
     "output_type": "display_data"
    },
    {
     "name": "stdout",
     "output_type": "stream",
     "text": [
      "\n",
      "*************************** EPOCH 19 ***************************\n"
     ]
    },
    {
     "data": {
      "application/vnd.jupyter.widget-view+json": {
       "model_id": "30c7a0b4346d45d3832dbaf261e2cda7",
       "version_major": 2,
       "version_minor": 0
      },
      "text/plain": [
       "HBox(children=(FloatProgress(value=0.0, max=1814.0), HTML(value='')))"
      ]
     },
     "metadata": {},
     "output_type": "display_data"
    },
    {
     "name": "stdout",
     "output_type": "stream",
     "text": [
      "\n"
     ]
    },
    {
     "data": {
      "application/vnd.jupyter.widget-view+json": {
       "model_id": "5c1de9923fd74267a28a26daa0de00ae",
       "version_major": 2,
       "version_minor": 0
      },
      "text/plain": [
       "HBox(children=(FloatProgress(value=0.0, max=778.0), HTML(value='')))"
      ]
     },
     "metadata": {},
     "output_type": "display_data"
    },
    {
     "name": "stdout",
     "output_type": "stream",
     "text": [
      "\n",
      "*************************** EPOCH 20 ***************************\n"
     ]
    },
    {
     "data": {
      "application/vnd.jupyter.widget-view+json": {
       "model_id": "9dec0f9c391b49789f809bc3357ab804",
       "version_major": 2,
       "version_minor": 0
      },
      "text/plain": [
       "HBox(children=(FloatProgress(value=0.0, max=1814.0), HTML(value='')))"
      ]
     },
     "metadata": {},
     "output_type": "display_data"
    },
    {
     "name": "stdout",
     "output_type": "stream",
     "text": [
      "\n"
     ]
    },
    {
     "data": {
      "application/vnd.jupyter.widget-view+json": {
       "model_id": "854c1fc627e64267b9096daa1975c30b",
       "version_major": 2,
       "version_minor": 0
      },
      "text/plain": [
       "HBox(children=(FloatProgress(value=0.0, max=778.0), HTML(value='')))"
      ]
     },
     "metadata": {},
     "output_type": "display_data"
    },
    {
     "name": "stdout",
     "output_type": "stream",
     "text": [
      "\n",
      "*************************** EPOCH 21 ***************************\n"
     ]
    },
    {
     "data": {
      "application/vnd.jupyter.widget-view+json": {
       "model_id": "a49dbbe4c55242538e8d66194a707578",
       "version_major": 2,
       "version_minor": 0
      },
      "text/plain": [
       "HBox(children=(FloatProgress(value=0.0, max=1814.0), HTML(value='')))"
      ]
     },
     "metadata": {},
     "output_type": "display_data"
    },
    {
     "name": "stdout",
     "output_type": "stream",
     "text": [
      "\n"
     ]
    },
    {
     "data": {
      "application/vnd.jupyter.widget-view+json": {
       "model_id": "7459655edab54654986738283717cbab",
       "version_major": 2,
       "version_minor": 0
      },
      "text/plain": [
       "HBox(children=(FloatProgress(value=0.0, max=778.0), HTML(value='')))"
      ]
     },
     "metadata": {},
     "output_type": "display_data"
    },
    {
     "name": "stdout",
     "output_type": "stream",
     "text": [
      "\n",
      "*************************** EPOCH 22 ***************************\n"
     ]
    },
    {
     "data": {
      "application/vnd.jupyter.widget-view+json": {
       "model_id": "22b57955d4584e8c9137272a0d292a24",
       "version_major": 2,
       "version_minor": 0
      },
      "text/plain": [
       "HBox(children=(FloatProgress(value=0.0, max=1814.0), HTML(value='')))"
      ]
     },
     "metadata": {},
     "output_type": "display_data"
    },
    {
     "name": "stdout",
     "output_type": "stream",
     "text": [
      "\n"
     ]
    },
    {
     "data": {
      "application/vnd.jupyter.widget-view+json": {
       "model_id": "ad4ad9eb468f4c8a9178976ab66b58cb",
       "version_major": 2,
       "version_minor": 0
      },
      "text/plain": [
       "HBox(children=(FloatProgress(value=0.0, max=778.0), HTML(value='')))"
      ]
     },
     "metadata": {},
     "output_type": "display_data"
    },
    {
     "name": "stdout",
     "output_type": "stream",
     "text": [
      "\n",
      "*************************** EPOCH 23 ***************************\n"
     ]
    },
    {
     "data": {
      "application/vnd.jupyter.widget-view+json": {
       "model_id": "628577397935449b92b2b865027b1bdd",
       "version_major": 2,
       "version_minor": 0
      },
      "text/plain": [
       "HBox(children=(FloatProgress(value=0.0, max=1814.0), HTML(value='')))"
      ]
     },
     "metadata": {},
     "output_type": "display_data"
    },
    {
     "name": "stdout",
     "output_type": "stream",
     "text": [
      "\n"
     ]
    },
    {
     "data": {
      "application/vnd.jupyter.widget-view+json": {
       "model_id": "af9313d6cbaa4307a1b6ce6f32501585",
       "version_major": 2,
       "version_minor": 0
      },
      "text/plain": [
       "HBox(children=(FloatProgress(value=0.0, max=778.0), HTML(value='')))"
      ]
     },
     "metadata": {},
     "output_type": "display_data"
    },
    {
     "name": "stdout",
     "output_type": "stream",
     "text": [
      "\n",
      "*************************** EPOCH 24 ***************************\n"
     ]
    },
    {
     "data": {
      "application/vnd.jupyter.widget-view+json": {
       "model_id": "fe311adb64ed44e3a3ceac740639147b",
       "version_major": 2,
       "version_minor": 0
      },
      "text/plain": [
       "HBox(children=(FloatProgress(value=0.0, max=1814.0), HTML(value='')))"
      ]
     },
     "metadata": {},
     "output_type": "display_data"
    },
    {
     "name": "stdout",
     "output_type": "stream",
     "text": [
      "\n"
     ]
    },
    {
     "data": {
      "application/vnd.jupyter.widget-view+json": {
       "model_id": "4aee15af79f947d39485e5720bb43228",
       "version_major": 2,
       "version_minor": 0
      },
      "text/plain": [
       "HBox(children=(FloatProgress(value=0.0, max=778.0), HTML(value='')))"
      ]
     },
     "metadata": {},
     "output_type": "display_data"
    },
    {
     "name": "stdout",
     "output_type": "stream",
     "text": [
      "\n",
      "*************************** EPOCH 25 ***************************\n"
     ]
    },
    {
     "data": {
      "application/vnd.jupyter.widget-view+json": {
       "model_id": "bf03ea8a07594194ae1182568dd8b0e4",
       "version_major": 2,
       "version_minor": 0
      },
      "text/plain": [
       "HBox(children=(FloatProgress(value=0.0, max=1814.0), HTML(value='')))"
      ]
     },
     "metadata": {},
     "output_type": "display_data"
    },
    {
     "name": "stdout",
     "output_type": "stream",
     "text": [
      "\n"
     ]
    },
    {
     "data": {
      "application/vnd.jupyter.widget-view+json": {
       "model_id": "264d81fe9ac2478c95ec7e968b846359",
       "version_major": 2,
       "version_minor": 0
      },
      "text/plain": [
       "HBox(children=(FloatProgress(value=0.0, max=778.0), HTML(value='')))"
      ]
     },
     "metadata": {},
     "output_type": "display_data"
    },
    {
     "name": "stdout",
     "output_type": "stream",
     "text": [
      "\n",
      "*************************** EPOCH 26 ***************************\n"
     ]
    },
    {
     "data": {
      "application/vnd.jupyter.widget-view+json": {
       "model_id": "7cc683026b0a4499a347bf7c6da2124d",
       "version_major": 2,
       "version_minor": 0
      },
      "text/plain": [
       "HBox(children=(FloatProgress(value=0.0, max=1814.0), HTML(value='')))"
      ]
     },
     "metadata": {},
     "output_type": "display_data"
    },
    {
     "name": "stdout",
     "output_type": "stream",
     "text": [
      "\n"
     ]
    },
    {
     "data": {
      "application/vnd.jupyter.widget-view+json": {
       "model_id": "82a987500e4e4d598d44aefcc45b21f8",
       "version_major": 2,
       "version_minor": 0
      },
      "text/plain": [
       "HBox(children=(FloatProgress(value=0.0, max=778.0), HTML(value='')))"
      ]
     },
     "metadata": {},
     "output_type": "display_data"
    },
    {
     "name": "stdout",
     "output_type": "stream",
     "text": [
      "\n",
      "*************************** EPOCH 27 ***************************\n"
     ]
    },
    {
     "data": {
      "application/vnd.jupyter.widget-view+json": {
       "model_id": "934f3453ebcc41468f2444ea3a7dd895",
       "version_major": 2,
       "version_minor": 0
      },
      "text/plain": [
       "HBox(children=(FloatProgress(value=0.0, max=1814.0), HTML(value='')))"
      ]
     },
     "metadata": {},
     "output_type": "display_data"
    },
    {
     "name": "stdout",
     "output_type": "stream",
     "text": [
      "\n"
     ]
    },
    {
     "data": {
      "application/vnd.jupyter.widget-view+json": {
       "model_id": "e6eaf56d29f545218a64dffa53b442e2",
       "version_major": 2,
       "version_minor": 0
      },
      "text/plain": [
       "HBox(children=(FloatProgress(value=0.0, max=778.0), HTML(value='')))"
      ]
     },
     "metadata": {},
     "output_type": "display_data"
    },
    {
     "name": "stdout",
     "output_type": "stream",
     "text": [
      "\n",
      "*************************** EPOCH 28 ***************************\n"
     ]
    },
    {
     "data": {
      "application/vnd.jupyter.widget-view+json": {
       "model_id": "6ba1f326fce542e6b0b36cc488f434ba",
       "version_major": 2,
       "version_minor": 0
      },
      "text/plain": [
       "HBox(children=(FloatProgress(value=0.0, max=1814.0), HTML(value='')))"
      ]
     },
     "metadata": {},
     "output_type": "display_data"
    },
    {
     "name": "stdout",
     "output_type": "stream",
     "text": [
      "\n"
     ]
    },
    {
     "data": {
      "application/vnd.jupyter.widget-view+json": {
       "model_id": "74c1926d344d4dab97bdf72322cc076d",
       "version_major": 2,
       "version_minor": 0
      },
      "text/plain": [
       "HBox(children=(FloatProgress(value=0.0, max=778.0), HTML(value='')))"
      ]
     },
     "metadata": {},
     "output_type": "display_data"
    },
    {
     "name": "stdout",
     "output_type": "stream",
     "text": [
      "\n",
      "*************************** EPOCH 29 ***************************\n"
     ]
    },
    {
     "data": {
      "application/vnd.jupyter.widget-view+json": {
       "model_id": "b874e3d24a7e427c9b8f5f2d76a9a3e7",
       "version_major": 2,
       "version_minor": 0
      },
      "text/plain": [
       "HBox(children=(FloatProgress(value=0.0, max=1814.0), HTML(value='')))"
      ]
     },
     "metadata": {},
     "output_type": "display_data"
    },
    {
     "name": "stdout",
     "output_type": "stream",
     "text": [
      "\n"
     ]
    },
    {
     "data": {
      "application/vnd.jupyter.widget-view+json": {
       "model_id": "2d0d64f4edff4650983b2768de5c3baa",
       "version_major": 2,
       "version_minor": 0
      },
      "text/plain": [
       "HBox(children=(FloatProgress(value=0.0, max=778.0), HTML(value='')))"
      ]
     },
     "metadata": {},
     "output_type": "display_data"
    },
    {
     "name": "stdout",
     "output_type": "stream",
     "text": [
      "\n"
     ]
    }
   ],
   "source": [
    "# Define steps where examples will be sampled \n",
    "test_dls_its = [ iter(test_dataloaders[idx]) for idx, _ in enumerate(AUTHORS) ]\n",
    "\n",
    "# For EPOCHS\n",
    "for epoch in range(last_epoch + 1, EPOCHS + last_epoch):\n",
    "    \n",
    "    print('*************************** EPOCH {} ***************************'.format(epoch))\n",
    "\n",
    "    # Restart train datasets\n",
    "    train_dls_its = [ iter(train_dataloaders[idx]) for idx, _ in enumerate(AUTHORS) ]\n",
    "    # Get max of dataloaders lengths\n",
    "    total_batches = max([ len(train_dataloaders[idx]) for idx, _ in enumerate(AUTHORS)  ])\n",
    "    # Progress bar for training dataset\n",
    "    progress_bar = tqdm(range(total_batches))\n",
    "    \n",
    "    train_loss = 0\n",
    "    train_acc = 0\n",
    "\n",
    "    # For all data in training dataset\n",
    "    # Training\n",
    "    for batch_idx in progress_bar:\n",
    "        \n",
    "        # Add train loss to progress bar\n",
    "        progress_bar.set_postfix({\n",
    "            'tr_loss': train_loss / (batch_idx + 1), \n",
    "            'tr_acc': train_acc / (batch_idx + 1), \n",
    "            'lr': scheduler.get_lr()[0]\n",
    "        })\n",
    "\n",
    "        # Train step\n",
    "        source, target = sample(train_dls_its, train_dataloaders, device)\n",
    "        train_loss_iter, train_acc_iter = train_step(model, loss_fn, optimizer, source, target)\n",
    "        train_loss += train_loss_iter\n",
    "        train_acc += train_acc_iter\n",
    "       \n",
    "    \n",
    "    train_loss_history.append(train_loss / total_batches)\n",
    "    train_acc_history.append(train_acc / total_batches)\n",
    "\n",
    "    # Validation\n",
    "    val_dls_its = [ iter(test_dataloaders[idx]) for idx, _ in enumerate(AUTHORS) ]\n",
    "    total_batches = max([ len(test_dataloaders[idx]) for idx, _ in enumerate(AUTHORS)  ])\n",
    "    \n",
    "    # Progress bar for training dataset\n",
    "    progress_bar = tqdm(range(total_batches))\n",
    "    val_loss = 0\n",
    "    val_acc = 0\n",
    "\n",
    "    for batch_idx in progress_bar:\n",
    "        progress_bar.set_postfix({\n",
    "            'val_loss': val_loss / (batch_idx + 1),\n",
    "            'val_acc': val_acc / (batch_idx + 1)\n",
    "        })\n",
    "                \n",
    "        source, target = sample(test_dls_its, test_dataloaders, device)\n",
    "        with torch.no_grad():\n",
    "            val_loss_iter, val_acc_iter, _ = val_step(model, loss_fn, source, target)\n",
    "            val_loss += val_loss_iter\n",
    "            val_acc += val_acc_iter\n",
    "    \n",
    "    # Save losses in history\n",
    "    val_loss_history.append(val_loss / total_batches)\n",
    "    val_acc_history.append(val_acc / total_batches)\n",
    "    \n",
    "    # If this model is best than other\n",
    "    # if best_val_loss is None or val_loss < best_val_loss:\n",
    "    if best_val_acc is None or val_acc > best_val_acc:\n",
    "        best_val_loss = val_loss\n",
    "        best_val_acc = val_acc\n",
    "        \n",
    "        save_model_state(\n",
    "            os.path.join(CHECKPOINT_BASE, 'classifier_best.pt'), \n",
    "            model, \n",
    "            optimizer, \n",
    "            epoch, \n",
    "            train_loss_history, \n",
    "            val_loss_history, \n",
    "            best_val_loss,\n",
    "            train_acc_history, \n",
    "            val_acc_history, \n",
    "            best_val_acc\n",
    "        )\n",
    "        \n",
    "    # Save last model\n",
    "        os.path.join(CHECKPOINT_BASE, 'classifier_last.pt'), \n",
    "        model, \n",
    "        optimizer, \n",
    "        epoch, \n",
    "        train_loss_history, \n",
    "        val_loss_history, \n",
    "        best_val_loss\n",
    "    )    \n",
    "    \n",
    "    scheduler.step()    "
   ]
  },
  {
   "cell_type": "code",
   "execution_count": 16,
   "metadata": {},
   "outputs": [
    {
     "data": {
      "image/png": "[encoded data removed]",
      "text/plain": [
       "<Figure size 1080x576 with 1 Axes>"
      ]
     },
     "metadata": {
      "needs_background": "light"
     },
     "output_type": "display_data"
    }
   ],
   "source": [
    "x = [epoch for epoch in range(len(train_loss_history))]\n",
    "plt.figure(figsize=(15, 8))\n",
    "\n",
    "plt.xlabel('Epoch')\n",
    "plt.ylabel('Loss')\n",
    "plt.title('Training and validation loss')\n",
    "\n",
    "plt.plot(x, train_loss_history, label='Training loss')\n",
    "plt.plot(x, val_loss_history, label='Validation loss')\n",
    "\n",
    "plt.plot(x, train_acc_history, label='Training acc')\n",
    "plt.plot(x, val_acc_history, label='Validation acc')\n",
    "\n",
    "plt.legend()\n",
    "\n",
    "plt.show()"
   ]
  },
  {
   "cell_type": "code",
   "execution_count": 17,
   "metadata": {},
   "outputs": [
    {
     "name": "stdout",
     "output_type": "stream",
     "text": [
      "Least validation loss: 0.4226188373950652 in epoch 17\n"
     ]
    }
   ],
   "source": [
    "argmin_val = np.argmin(val_loss_history)\n",
    "print('Least validation loss: {} in epoch {}'.format(val_loss_history[argmin_val], argmin_val + 1))"
   ]
  },
  {
   "cell_type": "code",
   "execution_count": 18,
   "metadata": {},
   "outputs": [
    {
     "name": "stdout",
     "output_type": "stream",
     "text": [
      "Greatest validation acc: 0.853979038625266 in epoch 17\n"
     ]
    }
   ],
   "source": [
    "argmax_val = np.argmax(val_acc_history)\n",
    "print('Greatest validation acc: {} in epoch {}'.format(val_acc_history[argmax_val], argmax_val + 1))"
   ]
  },
  {
   "cell_type": "code",
   "execution_count": null,
   "metadata": {},
   "outputs": [],
   "source": []
  }
 ],
 "metadata": {
  "file_extension": ".py",
  "kernelspec": {
   "display_name": "Python 3",
   "language": "python",
   "name": "python3"
  },
  "language_info": {
   "codemirror_mode": {
    "name": "ipython",
    "version": 3
   },
   "file_extension": ".py",
   "mimetype": "text/x-python",
   "name": "python",
   "nbconvert_exporter": "python",
   "pygments_lexer": "ipython3",
   "version": "3.7.7"
  },
  "mimetype": "text/x-python",
  "name": "python",
  "npconvert_exporter": "python",
  "pygments_lexer": "ipython3",
  "version": 3
 },
 "nbformat": 4,
 "nbformat_minor": 2
}
