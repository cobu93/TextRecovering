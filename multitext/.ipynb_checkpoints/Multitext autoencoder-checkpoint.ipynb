{
 "cells": [
  {
   "cell_type": "code",
   "execution_count": 1,
   "metadata": {},
   "outputs": [],
   "source": [
    "import numpy as np \n",
    "import os\n",
    "from tqdm.notebook import tqdm\n",
    "\n",
    "import torch\n",
    "import torch.nn as nn\n",
    "import math\n",
    "from matplotlib import pyplot as plt\n",
    "\n",
    "import sys\n",
    "sys.path.append('../utils')\n",
    "\n",
    "from text.utils import save_text_state, load_text_state, build_text_state, load_books, Vocabulary\n",
    "from model.utils import get_device, load_model_state, save_model_state, build_model_state\n",
    "\n",
    "from multitext_model import MultiTextModel, get_loss_function"
   ]
  },
  {
   "cell_type": "markdown",
   "metadata": {},
   "source": [
    "### Verify if CUDA is available"
   ]
  },
  {
   "cell_type": "code",
   "execution_count": 2,
   "metadata": {},
   "outputs": [
    {
     "name": "stdout",
     "output_type": "stream",
     "text": [
      "cuda\n"
     ]
    }
   ],
   "source": [
    "device = get_device()\n",
    "print(device)"
   ]
  },
  {
   "cell_type": "markdown",
   "metadata": {},
   "source": [
    "### Loading word vectors and training/validation dataset"
   ]
  },
  {
   "cell_type": "code",
   "execution_count": 3,
   "metadata": {},
   "outputs": [],
   "source": [
    "LOAD_CHECKPOINTS = True\n",
    "\n",
    "CHECKPOINT_BASE = 'checkpoints'\n",
    "DATASET_FILENAME = '../datasets/books.pk'\n",
    "AUTHORS = ['Friedrich Nietzsche', 'Ernest Hemingway', 'Oscar Wilde']\n",
    "\n",
    "VAL_PARTITION = 0.3 \n",
    "MIN_SENTENCE_LENGTH = 5\n",
    "MAX_SENTENCE_LENGTH = 22\n",
    "BATCH_SIZE = 8"
   ]
  },
  {
   "cell_type": "code",
   "execution_count": 4,
   "metadata": {},
   "outputs": [
    {
     "name": "stdout",
     "output_type": "stream",
     "text": [
      "No checkpoint found. New partition.\n",
      "Included books:\n",
      "\t Name: The antichrist   Author: Friedrich Nietzsche\n",
      "\t Name: Thus spake Zarathustra   Author: Friedrich Nietzsche\n",
      "No checkpoint found. New partition.\n",
      "Included books:\n",
      "\t Name: In our time   Author: Ernest Hemingway\n",
      "\t Name: The old man of the sea   Author: Ernest Hemingway\n",
      "No checkpoint found. New partition.\n",
      "Included books:\n",
      "\t Name: The Canterville ghost   Author: Oscar Wilde\n",
      "\t Name: The picture of Dorian Gray   Author: Oscar Wilde\n"
     ]
    }
   ],
   "source": [
    "vocabs = []\n",
    "train_datasets = []\n",
    "test_datasets = []\n",
    "\n",
    "min_len_train = None\n",
    "min_len_test = None\n",
    "\n",
    "for author in AUTHORS:\n",
    "    # Try loading dataset, if it doesn't exists then creates it\n",
    "    try:\n",
    "        if not LOAD_CHECKPOINTS:\n",
    "            print('New training required')\n",
    "            raise Error('New training required')\n",
    "\n",
    "        vocab, train_dataset, test_dataset = load_text_state(os.path.join(CHECKPOINT_BASE, author + '_text.pk'))    \n",
    "        print('Checkpoint loaded')\n",
    "    except:        \n",
    "        books = load_books(DATASET_FILENAME, author=author)\n",
    "        vocab, train_dataset, test_dataset = build_text_state(books, MIN_SENTENCE_LENGTH, MAX_SENTENCE_LENGTH, VAL_PARTITION, vocab_name=author)  \n",
    "        print('No checkpoint found. New partition.')\n",
    "        print('Included books:')\n",
    "        for book in books:\n",
    "            print('\\t', book)\n",
    "            \n",
    "    \n",
    "    train_datasets.append(train_dataset)\n",
    "    test_datasets.append(test_dataset)\n",
    "    vocabs.append(vocab)"
   ]
  },
  {
   "cell_type": "code",
   "execution_count": 5,
   "metadata": {},
   "outputs": [],
   "source": [
    "for idx, author in enumerate(AUTHORS):\n",
    "    save_text_state(\n",
    "        os.path.join(CHECKPOINT_BASE, author + '_text.pk'), \n",
    "        vocabs[idx], \n",
    "        train_datasets[idx], \n",
    "        test_datasets[idx]\n",
    "    ) "
   ]
  },
  {
   "cell_type": "code",
   "execution_count": 6,
   "metadata": {},
   "outputs": [
    {
     "name": "stdout",
     "output_type": "stream",
     "text": [
      "357 154\n",
      "163 70\n",
      "485 208\n"
     ]
    }
   ],
   "source": [
    "# Build full vocab\n",
    "vocab = Vocabulary('Multitext')\n",
    "\n",
    "for idx, _ in enumerate(AUTHORS):\n",
    "    for word in vocabs[idx].word2index.keys():\n",
    "        vocab.add_word(word)\n",
    "\n",
    "# Map all datasets to new indices\n",
    "train_dataloaders = []\n",
    "test_dataloaders = []\n",
    "\n",
    "for train_dataset, test_dataset in zip(train_datasets, test_datasets):\n",
    "    train_dataset.change_vocab(vocab)\n",
    "    test_dataset.change_vocab(vocab)\n",
    "    \n",
    "    train_dataloader = torch.utils.data.DataLoader(train_dataset, batch_size=BATCH_SIZE)\n",
    "    train_dataloaders.append(train_dataloader)\n",
    "    \n",
    "    test_dataloader = torch.utils.data.DataLoader(test_dataset, batch_size=BATCH_SIZE)\n",
    "    test_dataloaders.append(test_dataloader)\n",
    "    \n",
    "    print(len(train_dataloader), len(test_dataloader))"
   ]
  },
  {
   "cell_type": "markdown",
   "metadata": {},
   "source": [
    "### Loading components"
   ]
  },
  {
   "cell_type": "code",
   "execution_count": 7,
   "metadata": {},
   "outputs": [],
   "source": [
    "VOCAB_SIZE = len(vocab)\n",
    "\n",
    "LEARNING_RATE = 1e-4\n",
    "BETA_1 = 0.9\n",
    "BETA_2 = 0.999\n",
    "EPOCHS = 50\n",
    "NUM_HEADS = 16\n",
    "ENCODER_LAYERS = 2\n",
    "DECODER_LAYERS = 1\n",
    "EMBEDDING_SIZE = 512\n",
    "FF_DIM = 1024\n",
    "DROPOUT=0.2\n",
    "STEP_LR_DECAY = 15\n",
    "LR_FACTOR_DECAY = 0.7"
   ]
  },
  {
   "cell_type": "code",
   "execution_count": 8,
   "metadata": {},
   "outputs": [],
   "source": [
    "model = MultiTextModel(\n",
    "    authors = AUTHORS,\n",
    "    vocab_size=VOCAB_SIZE,\n",
    "    embedding_size=EMBEDDING_SIZE, \n",
    "    num_heads=NUM_HEADS, \n",
    "    encoder_layers=ENCODER_LAYERS, \n",
    "    decoder_layers=DECODER_LAYERS, \n",
    "    dim_feedforward=FF_DIM,\n",
    "    dropout=DROPOUT\n",
    ")\n",
    "\n",
    "\n",
    "optimizer = torch.optim.Adam(\n",
    "    model.get_params(), \n",
    "    lr=LEARNING_RATE,\n",
    "    betas=(BETA_1, BETA_2)\n",
    ")\n",
    "    \n",
    "loss_fn = get_loss_function(len(AUTHORS))\n",
    "scheduler = torch.optim.lr_scheduler.StepLR(optimizer, step_size=STEP_LR_DECAY, gamma=LR_FACTOR_DECAY)"
   ]
  },
  {
   "cell_type": "code",
   "execution_count": 9,
   "metadata": {},
   "outputs": [
    {
     "name": "stdout",
     "output_type": "stream",
     "text": [
      "No checkpoints found. New training.\n"
     ]
    }
   ],
   "source": [
    "try:\n",
    "    if not LOAD_CHECKPOINTS:\n",
    "        print('New training required')\n",
    "        raise Error('New training required')\n",
    "        \n",
    "    model, optimizer, last_epoch, train_loss_history, val_loss_history, best_val_loss = load_model_state(\n",
    "        os.path.join(CHECKPOINT_BASE, 'best.pt'), \n",
    "        model, \n",
    "        optimizer\n",
    "    )\n",
    "    \n",
    "    for state in optimizer.state.values():\n",
    "        for k, v in state.items():\n",
    "            if isinstance(v, torch.Tensor):\n",
    "                state[k] = v.to(device)\n",
    "\n",
    "    print('Checkpoint loaded')\n",
    "    \n",
    "except:\n",
    "    last_epoch, train_loss_history, val_loss_history, best_val_loss = build_model_state()\n",
    "    print('No checkpoints found. New training.')\n",
    "    pass\n",
    "\n",
    "model = model.to(device)\n"
   ]
  },
  {
   "cell_type": "markdown",
   "metadata": {},
   "source": [
    "### Training and validation"
   ]
  },
  {
   "cell_type": "code",
   "execution_count": 10,
   "metadata": {},
   "outputs": [],
   "source": [
    "def train_step(transformer, loss_fn, optimizer, source, target):\n",
    "    transformer.train()\n",
    "\n",
    "    transformer.zero_grad()\n",
    "    optimizer.zero_grad()\n",
    "\n",
    "    decodings = transformer(source, target)\n",
    "    \n",
    "    loss = loss_fn(source, decodings)\n",
    "    loss.backward()      \n",
    "    optimizer.step()\n",
    "    return loss.item()    "
   ]
  },
  {
   "cell_type": "code",
   "execution_count": 11,
   "metadata": {},
   "outputs": [],
   "source": [
    "def val_step(transformer, loss_fn, source, target):\n",
    "    transformer.eval()\n",
    "    \n",
    "    with torch.no_grad():\n",
    "        decodings = transformer(source, target)\n",
    "        loss = loss_fn(source, decodings)\n",
    "\n",
    "        return loss.item(), decodings"
   ]
  },
  {
   "cell_type": "code",
   "execution_count": 12,
   "metadata": {},
   "outputs": [],
   "source": [
    "def sample(iterators, dataloaders, device):\n",
    "    source = []\n",
    "    target = []\n",
    "    for idx, it in enumerate(iterators):\n",
    "        try:\n",
    "            example = next(it).to(device)\n",
    "        except:\n",
    "            iterators[idx] = iter(dataloaders[idx])\n",
    "            example = next(iterators[idx]).to(device)\n",
    "\n",
    "        source.append(example[:, 1:])\n",
    "        target.append(example[:, :-1])\n",
    "    return source, target"
   ]
  },
  {
   "cell_type": "code",
   "execution_count": 13,
   "metadata": {
    "tags": [
     "outputPrepend"
    ]
   },
   "outputs": [
    {
     "name": "stdout",
     "output_type": "stream",
     "text": [
      "*************************** EPOCH 1 ***************************\n"
     ]
    },
    {
     "data": {
      "application/vnd.jupyter.widget-view+json": {
       "model_id": "36d174c7c6d44bde96b538cbc627f676",
       "version_major": 2,
       "version_minor": 0
      },
      "text/plain": [
       "HBox(children=(FloatProgress(value=0.0, max=485.0), HTML(value='')))"
      ]
     },
     "metadata": {},
     "output_type": "display_data"
    },
    {
     "name": "stdout",
     "output_type": "stream",
     "text": [
      "-------------------- Author Friedrich Nietzsche --------------------\n",
      "Real: your enemy shall ye seek <pad> <pad> <pad> <pad> <pad> <pad> <pad> <pad> <pad> <pad> <pad> <pad> <pad> <pad> <pad> <eos>\n",
      "Decoded Friedrich Nietzsche: proclaimest richard albany moral vaults proclaimest mind hunt <pad> sombre moral moral mind moral mind moral moral emblem moral mind moral\n",
      "Decoded Ernest Hemingway: reversed marvelled rigorous marvelled either perceptibly marvelled reversed locks reversed locks reversed marvelled psychologicus reversed reversed either marvelled england marvelled reversed\n",
      "Decoded Oscar Wilde: darkness stooped darkness stooped stooped stooped stooped darkness stooped stooped <pad> <pad> stooped stooped stooped bh <pad> darkness bh stooped stooped\n",
      "-------------------- Author Ernest Hemingway --------------------\n",
      "Real: it may make him jump though and i would rather he stayed circling now <pad> <pad> <pad> <pad> <pad> <pad> <eos>\n",
      "Decoded Friedrich Nietzsche: moral proclaimest sombre proclaimest soap proclaimest mind emblem moral moral moral vaults sombre injureth sombre sombre moral vaults scarlet mind moral\n",
      "Decoded Ernest Hemingway: reversed locks england locks stink england marvelled reversed reversed marvelled marvelled marvelled england england marvelled reversed stink reversed reversed psychologicus reversed\n",
      "Decoded Oscar Wilde: lied stooped stooped contradict stooped stooped bh stooped stooped stooped bh bh stooped bh darkness bh stooped bh <pad> ceiling darkness\n",
      "-------------------- Author Oscar Wilde --------------------\n",
      "Real: and he tore the curtain from its <unk> , and flung it on the ground <pad> <pad> <pad> <pad> <pad> <eos>\n",
      "Decoded Friedrich Nietzsche: mind vaults sombre moral minute moral moral hunt moral <pad> moral moral proclaimest moral vaults moral moral moral moral listened proclaimest\n",
      "Decoded Ernest Hemingway: reversed marvelled either marvelled marvelled marvelled locks either reversed either stink reversed reversed equipment marvelled reversed marvelled treated reversed marvelled reversed\n",
      "Decoded Oscar Wilde: stooped bh stooped lied stooped stooped darkness bh stooped darkness stooped darkness stooped stooped stooped stooped stooped stooped <pad> stooped <pad>\n",
      "\n"
     ]
    },
    {
     "data": {
      "application/vnd.jupyter.widget-view+json": {
       "model_id": "e15d871288164f2abc773390ce2d8884",
       "version_major": 2,
       "version_minor": 0
      },
      "text/plain": [
       "HBox(children=(FloatProgress(value=0.0, max=208.0), HTML(value='')))"
      ]
     },
     "metadata": {},
     "output_type": "display_data"
    },
    {
     "name": "stdout",
     "output_type": "stream",
     "text": [
      "\n",
      "*************************** EPOCH 2 ***************************\n"
     ]
    },
    {
     "data": {
      "application/vnd.jupyter.widget-view+json": {
       "model_id": "9dce895beb414d8882eca62fc55b985a",
       "version_major": 2,
       "version_minor": 0
      },
      "text/plain": [
       "HBox(children=(FloatProgress(value=0.0, max=485.0), HTML(value='')))"
      ]
     },
     "metadata": {},
     "output_type": "display_data"
    },
    {
     "name": "stdout",
     "output_type": "stream",
     "text": [
      "-------------------- Author Friedrich Nietzsche --------------------\n",
      "Real: be it forgotten and dead , still its <unk> of light liveth and <unk> <pad> <pad> <pad> <pad> <pad> <pad> <eos>\n",
      "Decoded Friedrich Nietzsche: and the the the , , the the the , , , , , , <pad> <pad> <pad> <pad> <pad> <eos>\n",
      "Decoded Ernest Hemingway: he he he he the the the the the the the the the the <pad> <pad> <pad> <pad> <pad> <pad> <eos>\n",
      "Decoded Oscar Wilde: i i i i , , the , , , , , the , , <pad> <pad> <pad> <pad> <pad> <eos>\n",
      "-------------------- Author Ernest Hemingway --------------------\n",
      "Real: he was <unk> the current do a third of the work and as it started to be light he saw <eos>\n",
      "Decoded Friedrich Nietzsche: <eos> <eos> the the the , , , , , , , , , , , , , , , <eos>\n",
      "Decoded Ernest Hemingway: <eos> he he he he <pad> the the <pad> the the <pad> the the the <pad> the <pad> <pad> the <eos>\n",
      "Decoded Oscar Wilde: <eos> i i i i , , , , , , <pad> , , , , , <pad> , , <eos>\n",
      "-------------------- Author Oscar Wilde --------------------\n",
      "Real: old men want to be faithless , and cannot : that is all one can say <pad> <pad> <pad> <pad> <eos>\n",
      "Decoded Friedrich Nietzsche: <eos> and the the the the the the the , the the , the , , , <pad> <pad> <pad> <eos>\n",
      "Decoded Ernest Hemingway: he he the he he he he he he the the the the the the the <pad> <pad> <pad> <pad> <eos>\n",
      "Decoded Oscar Wilde: <eos> i i i i i i i the , the the , the , , the <pad> <pad> <pad> <eos>\n",
      "\n"
     ]
    },
    {
     "data": {
      "application/vnd.jupyter.widget-view+json": {
       "model_id": "46569f2b70a5495f8149c2bbac18dc8f",
       "version_major": 2,
       "version_minor": 0
      },
      "text/plain": [
       "HBox(children=(FloatProgress(value=0.0, max=208.0), HTML(value='')))"
      ]
     },
     "metadata": {},
     "output_type": "display_data"
    },
    {
     "name": "stdout",
     "output_type": "stream",
     "text": [
      "\n",
      "*************************** EPOCH 3 ***************************\n"
     ]
    },
    {
     "data": {
      "application/vnd.jupyter.widget-view+json": {
       "model_id": "677003c6e72349dd8b8b2a0d9b5cb274",
       "version_major": 2,
       "version_minor": 0
      },
      "text/plain": [
       "HBox(children=(FloatProgress(value=0.0, max=485.0), HTML(value='')))"
      ]
     },
     "metadata": {},
     "output_type": "display_data"
    },
    {
     "name": "stdout",
     "output_type": "stream",
     "text": [
      "-------------------- Author Friedrich Nietzsche --------------------\n",
      "Real: not to defend one ' s self , not to show anger , not to lay <unk> <pad> <pad> <pad> <eos>\n",
      "Decoded Friedrich Nietzsche: and to all ! it to to , and of to of , and of to : <pad> <pad> <pad> <eos>\n",
      "Decoded Ernest Hemingway: and of said to it his to , and of said of , and of said him <pad> <pad> <pad> <eos>\n",
      "Decoded Oscar Wilde: and of to to is to to , and of to <pad> , and to to <pad> <pad> <pad> <pad> <eos>\n",
      "-------------------- Author Ernest Hemingway --------------------\n",
      "Real: dolphin , the old man said aloud <pad> <pad> <pad> <pad> <pad> <pad> <pad> <pad> <pad> <pad> <pad> <pad> <pad> <eos>\n",
      "Decoded Friedrich Nietzsche: to , the a one of <pad> <pad> <pad> <pad> <pad> <pad> <pad> <pad> <pad> <pad> <pad> <pad> <pad> <pad> <eos>\n",
      "Decoded Ernest Hemingway: him , the old man of <pad> <pad> <pad> <pad> <pad> <pad> <pad> <pad> <pad> <pad> <pad> <pad> <pad> <pad> <eos>\n",
      "Decoded Oscar Wilde: <pad> , the a be to <pad> <pad> <pad> <pad> <pad> <pad> <pad> <pad> <pad> <pad> <pad> <pad> <pad> <pad> <eos>\n",
      "-------------------- Author Oscar Wilde --------------------\n",
      "Real: she would have liked to have continued the scene on the same emotional <unk> , but he cut her short <eos>\n",
      "Decoded Friedrich Nietzsche: and and that ! of a him the to ! the and : ! , he and one ! ! <eos>\n",
      "Decoded Ernest Hemingway: he a he said of a him the fish to the said him him , he he said him him <eos>\n",
      "Decoded Oscar Wilde: it and it to to a to the to <pad> the and <pad> <pad> , he he to <pad> <pad> <eos>\n",
      "\n"
     ]
    },
    {
     "data": {
      "application/vnd.jupyter.widget-view+json": {
       "model_id": "da04c6df451f410bb50cf8bd794b76da",
       "version_major": 2,
       "version_minor": 0
      },
      "text/plain": [
       "HBox(children=(FloatProgress(value=0.0, max=208.0), HTML(value='')))"
      ]
     },
     "metadata": {},
     "output_type": "display_data"
    },
    {
     "name": "stdout",
     "output_type": "stream",
     "text": [
      "\n",
      "*************************** EPOCH 4 ***************************\n"
     ]
    },
    {
     "data": {
      "application/vnd.jupyter.widget-view+json": {
       "model_id": "c9eff00c084240fca20a6df172d7ddb7",
       "version_major": 2,
       "version_minor": 0
      },
      "text/plain": [
       "HBox(children=(FloatProgress(value=0.0, max=485.0), HTML(value='')))"
      ]
     },
     "metadata": {},
     "output_type": "display_data"
    },
    {
     "name": "stdout",
     "output_type": "stream",
     "text": [
      "-------------------- Author Friedrich Nietzsche --------------------\n",
      "Real: and he who loveth his god <unk> him <pad> <pad> <pad> <pad> <pad> <pad> <pad> <pad> <pad> <pad> <pad> <pad> <eos>\n",
      "Decoded Friedrich Nietzsche: and he who one his will ! : <pad> <pad> <pad> <pad> <pad> <pad> <pad> <pad> <pad> <pad> <pad> <pad> <eos>\n",
      "Decoded Ernest Hemingway: and he was two his two more him <pad> <pad> <pad> <pad> <pad> <pad> <pad> <pad> <pad> <pad> <pad> <pad> <eos>\n",
      "Decoded Oscar Wilde: and he was one his am know ? <pad> <pad> <pad> <pad> <pad> <pad> <pad> <pad> <pad> <pad> <pad> <pad> <eos>\n",
      "-------------------- Author Ernest Hemingway --------------------\n",
      "Real: all right <pad> <pad> <pad> <pad> <pad> <pad> <pad> <pad> <pad> <pad> <pad> <pad> <pad> <pad> <pad> <pad> <pad> <pad> <eos>\n",
      "Decoded Friedrich Nietzsche: all ! <pad> <pad> <pad> <pad> <pad> <pad> <pad> <pad> <pad> <pad> <pad> <pad> <pad> <pad> <pad> <pad> <pad> <pad> <eos>\n",
      "Decoded Ernest Hemingway: in ? <pad> <pad> <pad> <pad> <pad> <pad> <pad> <pad> <pad> <pad> <pad> <pad> <pad> <pad> <pad> <pad> <pad> <pad> <eos>\n",
      "Decoded Oscar Wilde: all ? <pad> <pad> <pad> <pad> <pad> <pad> <pad> <pad> <pad> <pad> <pad> <pad> <pad> <pad> <pad> <pad> <pad> <pad> <eos>\n",
      "-------------------- Author Oscar Wilde --------------------\n",
      "Real: how could i admire her ? but tell me , what did she say about mr dorian gray ? oh <eos>\n",
      "Decoded Friedrich Nietzsche: thou was i say ! ! but also him , thou was thou life one however him him ! also <eos>\n",
      "Decoded Ernest Hemingway: were was i think in in you two him , were was have fish from two him him in two <eos>\n",
      "Decoded Oscar Wilde: how was i know ! ? you so ? , she was she her all made dorian ? ? made <eos>\n",
      "\n"
     ]
    },
    {
     "data": {
      "application/vnd.jupyter.widget-view+json": {
       "model_id": "f8e5d3244b954a218f8aaadb1d602064",
       "version_major": 2,
       "version_minor": 0
      },
      "text/plain": [
       "HBox(children=(FloatProgress(value=0.0, max=208.0), HTML(value='')))"
      ]
     },
     "metadata": {},
     "output_type": "display_data"
    },
    {
     "name": "stdout",
     "output_type": "stream",
     "text": [
      "\n",
      "*************************** EPOCH 5 ***************************\n"
     ]
    },
    {
     "data": {
      "application/vnd.jupyter.widget-view+json": {
       "model_id": "8871aa1463d743b6aaead5be4d4dd65a",
       "version_major": 2,
       "version_minor": 0
      },
      "text/plain": [
       "HBox(children=(FloatProgress(value=0.0, max=485.0), HTML(value='')))"
      ]
     },
     "metadata": {},
     "output_type": "display_data"
    },
    {
     "name": "stdout",
     "output_type": "stream",
     "text": [
      "-------------------- Author Friedrich Nietzsche --------------------\n",
      "Real: the same instinct which prompts the inferior to reduce their own god to goodness in itself also prompts them to <eos>\n",
      "Decoded Friedrich Nietzsche: the heart itself which him the brethren to say their spake god to say in him also upon them to <eos>\n",
      "Decoded Ernest Hemingway: the big down from down the morning to pull their right now to pull in down two down him to <eos>\n",
      "Decoded Oscar Wilde: the s dorian into me the portrait to say ' ? then to say in me looked gray them to <eos>\n",
      "-------------------- Author Ernest Hemingway --------------------\n",
      "Real: villalta <unk> straight and the red <unk> of the sword sticking out <unk> between the bull ’ s shoulders <pad> <eos>\n",
      "Decoded Friedrich Nietzsche: go upon them and the heart upon of the heart itself him upon upon the people like are him <pad> <eos>\n",
      "Decoded Ernest Hemingway: yes down up and the stern again of the sun up out before or the mast like are him <pad> <eos>\n",
      "Decoded Oscar Wilde: mr say them and the door say of the moment cried me gray or the door like are him <pad> <eos>\n",
      "-------------------- Author Oscar Wilde --------------------\n",
      "Real: he found that he had passed his aunt ' s some <unk> , and , smiling to himself , turned <eos>\n",
      "Decoded Friedrich Nietzsche: he more that he his own his brethren ' be man words , and , enough to himself , however <eos>\n",
      "Decoded Ernest Hemingway: he could that he had right his right ' s some work , and , hand to down , two <eos>\n",
      "Decoded Oscar Wilde: he more that he had her his say ' s some say , and , people to henry , made <eos>\n",
      "\n"
     ]
    },
    {
     "data": {
      "application/vnd.jupyter.widget-view+json": {
       "model_id": "b430fd80d03c4bd4b101059058b8c2c1",
       "version_major": 2,
       "version_minor": 0
      },
      "text/plain": [
       "HBox(children=(FloatProgress(value=0.0, max=208.0), HTML(value='')))"
      ]
     },
     "metadata": {},
     "output_type": "display_data"
    },
    {
     "name": "stdout",
     "output_type": "stream",
     "text": [
      "\n",
      "*************************** EPOCH 6 ***************************\n"
     ]
    },
    {
     "data": {
      "application/vnd.jupyter.widget-view+json": {
       "model_id": "f6c505e06dc34b97ae4760aa1db383d7",
       "version_major": 2,
       "version_minor": 0
      },
      "text/plain": [
       "HBox(children=(FloatProgress(value=0.0, max=485.0), HTML(value='')))"
      ]
     },
     "metadata": {},
     "output_type": "display_data"
    },
    {
     "name": "stdout",
     "output_type": "stream",
     "text": [
      "-------------------- Author Friedrich Nietzsche --------------------\n",
      "Real: amongst such would i not build my <unk> <pad> <pad> <pad> <pad> <pad> <pad> <pad> <pad> <pad> <pad> <pad> <pad> <eos>\n",
      "Decoded Friedrich Nietzsche: verily hath would i not self my hear <pad> <pad> <pad> <pad> <pad> <pad> <pad> <pad> <pad> <pad> <pad> <pad> <eos>\n",
      "Decoded Ernest Hemingway: once through would i not loved my heavy <pad> <pad> <pad> <pad> <pad> <pad> <pad> <pad> <pad> <pad> <pad> <pad> <eos>\n",
      "Decoded Oscar Wilde: people into would i not people my portrait <pad> <pad> <pad> <pad> <pad> <pad> <pad> <pad> <pad> <pad> <pad> <pad> <eos>\n",
      "-------------------- Author Ernest Hemingway --------------------\n",
      "Real: he took hold of one foot gently and held it until the boy woke and turned and looked at him <eos>\n",
      "Decoded Friedrich Nietzsche: he doth than of one me us and love it than the its woman and however and also at him <eos>\n",
      "Decoded Ernest Hemingway: he knew than of one me down and good it than the boy asked and made and looked at him <eos>\n",
      "Decoded Oscar Wilde: he think thing of one say henry and good it into the she came and made and looked at him <eos>\n",
      "-------------------- Author Oscar Wilde --------------------\n",
      "Real: her body <unk> , while she danced , as a <unk> <unk> in the water <pad> <pad> <pad> <pad> <pad> <eos>\n",
      "Decoded Friedrich Nietzsche: ! men off , once thus say , as a priest hear in the spirit <pad> <pad> <pad> <pad> <pad> <eos>\n",
      "Decoded Ernest Hemingway: her something together , once its steady , as a morning clean in the water <pad> <pad> <pad> <pad> <pad> <eos>\n",
      "Decoded Oscar Wilde: her something minutes , once she say , as a wife minutes in the him <pad> <pad> <pad> <pad> <pad> <eos>\n",
      "\n"
     ]
    },
    {
     "data": {
      "application/vnd.jupyter.widget-view+json": {
       "model_id": "c5f65344b5e24eaaa2811665482c34fe",
       "version_major": 2,
       "version_minor": 0
      },
      "text/plain": [
       "HBox(children=(FloatProgress(value=0.0, max=208.0), HTML(value='')))"
      ]
     },
     "metadata": {},
     "output_type": "display_data"
    },
    {
     "name": "stdout",
     "output_type": "stream",
     "text": [
      "\n",
      "*************************** EPOCH 7 ***************************\n"
     ]
    },
    {
     "data": {
      "application/vnd.jupyter.widget-view+json": {
       "model_id": "725b10749d394f668a8fcab3a47304a7",
       "version_major": 2,
       "version_minor": 0
      },
      "text/plain": [
       "HBox(children=(FloatProgress(value=0.0, max=485.0), HTML(value='')))"
      ]
     },
     "metadata": {},
     "output_type": "display_data"
    },
    {
     "name": "stdout",
     "output_type": "stream",
     "text": [
      "-------------------- Author Friedrich Nietzsche --------------------\n",
      "Real: and no one knew how to <unk> him <pad> <pad> <pad> <pad> <pad> <pad> <pad> <pad> <pad> <pad> <pad> <pad> <eos>\n",
      "Decoded Friedrich Nietzsche: and no one this how to hear him <pad> <pad> <pad> <pad> <pad> <pad> <pad> <pad> <pad> <pad> <pad> <pad> <eos>\n",
      "Decoded Ernest Hemingway: and no one knew how to feel him <pad> <pad> <pad> <pad> <pad> <pad> <pad> <pad> <pad> <pad> <pad> <pad> <eos>\n",
      "Decoded Oscar Wilde: and no one knew how to forget him <pad> <pad> <pad> <pad> <pad> <pad> <pad> <pad> <pad> <pad> <pad> <pad> <eos>\n",
      "-------------------- Author Ernest Hemingway --------------------\n",
      "Real: neither for you nor for me <pad> <pad> <pad> <pad> <pad> <pad> <pad> <pad> <pad> <pad> <pad> <pad> <pad> <pad> <eos>\n",
      "Decoded Friedrich Nietzsche: ah for you into for me <pad> <pad> <pad> <pad> <pad> <pad> <pad> <pad> <pad> <pad> <pad> <pad> <pad> <pad> <eos>\n",
      "Decoded Ernest Hemingway: please for you see for me <pad> <pad> <pad> <pad> <pad> <pad> <pad> <pad> <pad> <pad> <pad> <pad> <pad> <pad> <eos>\n",
      "Decoded Oscar Wilde: oh for you see for me <pad> <pad> <pad> <pad> <pad> <pad> <pad> <pad> <pad> <pad> <pad> <pad> <pad> <pad> <eos>\n",
      "-------------------- Author Oscar Wilde --------------------\n",
      "Real: poor basil ! what a horrible way for a man to die ! he sighed , and took up the <eos>\n",
      "Decoded Friedrich Nietzsche: these evil ! what a woman way for a man to seen ! he evil , and think up the <eos>\n",
      "Decoded Ernest Hemingway: maybe looked one what a fight way for a man to seen one he looked , and think up the <eos>\n",
      "Decoded Oscar Wilde: poor basil ! what a horrible night for a man to alan ! he looked , and think up the <eos>\n",
      "\n"
     ]
    },
    {
     "data": {
      "application/vnd.jupyter.widget-view+json": {
       "model_id": "ebd0e6628e1f4b21a3b053590905f6cc",
       "version_major": 2,
       "version_minor": 0
      },
      "text/plain": [
       "HBox(children=(FloatProgress(value=0.0, max=208.0), HTML(value='')))"
      ]
     },
     "metadata": {},
     "output_type": "display_data"
    },
    {
     "name": "stdout",
     "output_type": "stream",
     "text": [
      "\n",
      "*************************** EPOCH 8 ***************************\n"
     ]
    },
    {
     "data": {
      "application/vnd.jupyter.widget-view+json": {
       "model_id": "ce1d81e099e74d09872bec60d76c2e7d",
       "version_major": 2,
       "version_minor": 0
      },
      "text/plain": [
       "HBox(children=(FloatProgress(value=0.0, max=485.0), HTML(value='')))"
      ]
     },
     "metadata": {},
     "output_type": "display_data"
    },
    {
     "name": "stdout",
     "output_type": "stream",
     "text": [
      "-------------------- Author Friedrich Nietzsche --------------------\n",
      "Real: it is not society , but the only sort of happiness that the majority are capable of , that makes <eos>\n",
      "Decoded Friedrich Nietzsche: it is not beasts , but the only better of happiness that the carry are run of , that makes <eos>\n",
      "Decoded Ernest Hemingway: it is not walked , but the only stay of line that the fingers are hand of , that lucky <eos>\n",
      "Decoded Oscar Wilde: it is not put , but the only better of sir that the thing are art of , that does <eos>\n",
      "-------------------- Author Ernest Hemingway --------------------\n",
      "Real: as he watched the bird <unk> again slanting his wings for the <unk> and then swinging them <unk> and <unk> <eos>\n",
      "Decoded Friedrich Nietzsche: as he which the woman beasts again unto his brethren for the sign and then carry them beasts and anxiously <eos>\n",
      "Decoded Ernest Hemingway: as he watched the bird hueso again started his time for the terrace and then clean them aloud and board <eos>\n",
      "Decoded Oscar Wilde: as he duchess the came minutes again off his reason for the portrait and then people them minutes and minutes <eos>\n",
      "-------------------- Author Oscar Wilde --------------------\n",
      "Real: you are more fortunate than i am <pad> <pad> <pad> <pad> <pad> <pad> <pad> <pad> <pad> <pad> <pad> <pad> <pad> <eos>\n",
      "Decoded Friedrich Nietzsche: you are more passion than i am <pad> <pad> <pad> <pad> <pad> <pad> <pad> <pad> <pad> <pad> <pad> <pad> <pad> <eos>\n",
      "Decoded Ernest Hemingway: you are more coming than i am <pad> <pad> <pad> <pad> <pad> <pad> <pad> <pad> <pad> <pad> <pad> <pad> <pad> <eos>\n",
      "Decoded Oscar Wilde: you are more experience than i am <pad> <pad> <pad> <pad> <pad> <pad> <pad> <pad> <pad> <pad> <pad> <pad> <pad> <eos>\n",
      "\n"
     ]
    },
    {
     "data": {
      "application/vnd.jupyter.widget-view+json": {
       "model_id": "8c70637dc6b544d88b5cda154dd677e8",
       "version_major": 2,
       "version_minor": 0
      },
      "text/plain": [
       "HBox(children=(FloatProgress(value=0.0, max=208.0), HTML(value='')))"
      ]
     },
     "metadata": {},
     "output_type": "display_data"
    },
    {
     "name": "stdout",
     "output_type": "stream",
     "text": [
      "\n",
      "*************************** EPOCH 9 ***************************\n"
     ]
    },
    {
     "data": {
      "application/vnd.jupyter.widget-view+json": {
       "model_id": "661c2d2650ab43bd87a077afc75ccdc7",
       "version_major": 2,
       "version_minor": 0
      },
      "text/plain": [
       "HBox(children=(FloatProgress(value=0.0, max=485.0), HTML(value='')))"
      ]
     },
     "metadata": {},
     "output_type": "display_data"
    },
    {
     "name": "stdout",
     "output_type": "stream",
     "text": [
      "-------------------- Author Friedrich Nietzsche --------------------\n",
      "Real: in good spirits and joyful , because this day hath come to an end ! and thou thyself shalt dance <eos>\n",
      "Decoded Friedrich Nietzsche: in good laugh and carry , because this day hath come to an end ! and thou things upon suffering <eos>\n",
      "Decoded Ernest Hemingway: in good coast and days , because this day more come to an tail down and we things days times <eos>\n",
      "Decoded Oscar Wilde: in good value and laughter , cried this day into come to an say ! and ' things began mother <eos>\n",
      "-------------------- Author Ernest Hemingway --------------------\n",
      "Real: they must have taken a <unk> of him and of the best meat , he said aloud <pad> <pad> <pad> <eos>\n",
      "Decoded Friedrich Nietzsche: they must have taken a sign of him and of the best : , he said necessary <pad> <pad> <pad> <eos>\n",
      "Decoded Ernest Hemingway: they must have taken a baits of him and of the sun meat , he said aloud <pad> <pad> <pad> <eos>\n",
      "Decoded Oscar Wilde: they must have coloured a grass of him and of the best looking , he said asked <pad> <pad> <pad> <eos>\n",
      "-------------------- Author Oscar Wilde --------------------\n",
      "Real: i know now that i was quite right in what i fancied about him <pad> <pad> <pad> <pad> <pad> <pad> <eos>\n",
      "Decoded Friedrich Nietzsche: i know now that i was shall right in what i run about him <pad> <pad> <pad> <pad> <pad> <pad> <eos>\n",
      "Decoded Ernest Hemingway: i know now that i was quite right in what i caught about him <pad> <pad> <pad> <pad> <pad> <pad> <eos>\n",
      "Decoded Oscar Wilde: i know now that i was quite right in what i art about him <pad> <pad> <pad> <pad> <pad> <pad> <eos>\n",
      "\n"
     ]
    },
    {
     "data": {
      "application/vnd.jupyter.widget-view+json": {
       "model_id": "694f11a2654c4c9ebb8f77a4687d2767",
       "version_major": 2,
       "version_minor": 0
      },
      "text/plain": [
       "HBox(children=(FloatProgress(value=0.0, max=208.0), HTML(value='')))"
      ]
     },
     "metadata": {},
     "output_type": "display_data"
    },
    {
     "name": "stdout",
     "output_type": "stream",
     "text": [
      "\n",
      "*************************** EPOCH 10 ***************************\n"
     ]
    },
    {
     "data": {
      "application/vnd.jupyter.widget-view+json": {
       "model_id": "dda916441e43453ca1c3f8e78610c8f1",
       "version_major": 2,
       "version_minor": 0
      },
      "text/plain": [
       "HBox(children=(FloatProgress(value=0.0, max=485.0), HTML(value='')))"
      ]
     },
     "metadata": {},
     "output_type": "display_data"
    },
    {
     "name": "stdout",
     "output_type": "stream",
     "text": [
      "-------------------- Author Friedrich Nietzsche --------------------\n",
      "Real: and it is not those who lead out of danger that please you best , but those who lead you <eos>\n",
      "Decoded Friedrich Nietzsche: and it is not those who scarcely out of danger that whom you then , but those who scarcely you <eos>\n",
      "Decoded Ernest Hemingway: and it is not those who spurs out of steady that please you then , but those who handling you <eos>\n",
      "Decoded Oscar Wilde: and it is not those who experience out of end that does you then , but those who nugget you <eos>\n",
      "-------------------- Author Ernest Hemingway --------------------\n",
      "Real: he ate the white <unk> to give himself strength <pad> <pad> <pad> <pad> <pad> <pad> <pad> <pad> <pad> <pad> <pad> <eos>\n",
      "Decoded Friedrich Nietzsche: he ticking the word outside to give himself fists <pad> <pad> <pad> <pad> <pad> <pad> <pad> <pad> <pad> <pad> <pad> <eos>\n",
      "Decoded Ernest Hemingway: he liked the white maera to maybe himself hung <pad> <pad> <pad> <pad> <pad> <pad> <pad> <pad> <pad> <pad> <pad> <eos>\n",
      "Decoded Oscar Wilde: he value the white interested to give himself off <pad> <pad> <pad> <pad> <pad> <pad> <pad> <pad> <pad> <pad> <pad> <eos>\n",
      "-------------------- Author Oscar Wilde --------------------\n",
      "Real: the <unk> beat against the window panes , the <unk> <unk> from the old yew tree , and the wind <eos>\n",
      "Decoded Friedrich Nietzsche: the sign zarathustra against the solitude carry , the sign beasts from the old sudden tree , and the wild <eos>\n",
      "Decoded Ernest Hemingway: the baits dead against the morning sharks , the rubble maera from the old identified gently , and the wind <eos>\n",
      "Decoded Oscar Wilde: the darwinismus anything against the dear les , the rumble possesses from the old experience henry , and the extraordinary <eos>\n",
      "\n"
     ]
    },
    {
     "data": {
      "application/vnd.jupyter.widget-view+json": {
       "model_id": "7a7631ffaf394ce28ef8d5f436efef11",
       "version_major": 2,
       "version_minor": 0
      },
      "text/plain": [
       "HBox(children=(FloatProgress(value=0.0, max=208.0), HTML(value='')))"
      ]
     },
     "metadata": {},
     "output_type": "display_data"
    },
    {
     "name": "stdout",
     "output_type": "stream",
     "text": [
      "\n",
      "*************************** EPOCH 11 ***************************\n"
     ]
    },
    {
     "data": {
      "application/vnd.jupyter.widget-view+json": {
       "model_id": "ed98ddc2f3ce41db9c76bcd3e613e8b8",
       "version_major": 2,
       "version_minor": 0
      },
      "text/plain": [
       "HBox(children=(FloatProgress(value=0.0, max=485.0), HTML(value='')))"
      ]
     },
     "metadata": {},
     "output_type": "display_data"
    },
    {
     "name": "stdout",
     "output_type": "stream",
     "text": [
      "-------------------- Author Friedrich Nietzsche --------------------\n",
      "Real: but he moved his hand as if he sought the hand of zarathustra in gratitude <pad> <pad> <pad> <pad> <pad> <eos>\n",
      "Decoded Friedrich Nietzsche: but he put his hand as if he sought the hand of zarathustra in grandmothers <pad> <pad> <pad> <pad> <pad> <eos>\n",
      "Decoded Ernest Hemingway: but he put his hand as if he knows the hand of tuna in un <pad> <pad> <pad> <pad> <pad> <eos>\n",
      "Decoded Oscar Wilde: but he put his hand as if he dinner the hand of mr in les <pad> <pad> <pad> <pad> <pad> <eos>\n",
      "-------------------- Author Ernest Hemingway --------------------\n",
      "Real: maybe it will open with the sun , he thought <pad> <pad> <pad> <pad> <pad> <pad> <pad> <pad> <pad> <pad> <eos>\n",
      "Decoded Friedrich Nietzsche: rather it will wilt with the sun , he thought <pad> <pad> <pad> <pad> <pad> <pad> <pad> <pad> <pad> <pad> <eos>\n",
      "Decoded Ernest Hemingway: maybe it will open with the sun , he thought <pad> <pad> <pad> <pad> <pad> <pad> <pad> <pad> <pad> <pad> <eos>\n",
      "Decoded Oscar Wilde: indeed it will open with the t , he thought <pad> <pad> <pad> <pad> <pad> <pad> <pad> <pad> <pad> <pad> <eos>\n",
      "-------------------- Author Oscar Wilde --------------------\n",
      "Real: how horrible that was ! such hideous things were for the darkness , not for the day <pad> <pad> <pad> <eos>\n",
      "Decoded Friedrich Nietzsche: how book that was ! such heard things were for the saviour , not for the day <pad> <pad> <pad> <eos>\n",
      "Decoded Ernest Hemingway: how bait that was knife such hot things were for the tension , not for the day <pad> <pad> <pad> <eos>\n",
      "Decoded Oscar Wilde: how horrible that was ! such simply things were for the floor , not for the day <pad> <pad> <pad> <eos>\n",
      "\n"
     ]
    },
    {
     "data": {
      "application/vnd.jupyter.widget-view+json": {
       "model_id": "f2bd826d4b5045f0b5dc54443abd608b",
       "version_major": 2,
       "version_minor": 0
      },
      "text/plain": [
       "HBox(children=(FloatProgress(value=0.0, max=208.0), HTML(value='')))"
      ]
     },
     "metadata": {},
     "output_type": "display_data"
    },
    {
     "name": "stdout",
     "output_type": "stream",
     "text": [
      "\n",
      "*************************** EPOCH 12 ***************************\n"
     ]
    },
    {
     "data": {
      "application/vnd.jupyter.widget-view+json": {
       "model_id": "fc9182e540cb43d2a6422a7eba52d5b6",
       "version_major": 2,
       "version_minor": 0
      },
      "text/plain": [
       "HBox(children=(FloatProgress(value=0.0, max=485.0), HTML(value='')))"
      ]
     },
     "metadata": {},
     "output_type": "display_data"
    },
    {
     "name": "stdout",
     "output_type": "stream",
     "text": [
      "-------------------- Author Friedrich Nietzsche --------------------\n",
      "Real: for in seeing the sufferer suffering thereof was i ashamed on account of his shame <pad> <pad> <pad> <pad> <pad> <eos>\n",
      "Decoded Friedrich Nietzsche: for in beasts the brethren suffering seeketh was i faith on account of his disciples <pad> <pad> <pad> <pad> <pad> <eos>\n",
      "Decoded Ernest Hemingway: for in senta the sardines suffering off was i agreed on deep of his trousers <pad> <pad> <pad> <pad> <pad> <eos>\n",
      "Decoded Oscar Wilde: for in expensive the secret artist hallward was i trust on lips of his shame <pad> <pad> <pad> <pad> <pad> <eos>\n",
      "-------------------- Author Ernest Hemingway --------------------\n",
      "Real: at <unk> he carried <unk> of horses at all times in his pocket and <unk> spoke the <unk> of horses <eos>\n",
      "Decoded Friedrich Nietzsche: at butterflies he wait returned of butterflies at all matter in his carrying and blink passion the butterflies of butterflies <eos>\n",
      "Decoded Ernest Hemingway: at waken he carried maera of crisped at all times in his baits and board under the rubble of crisped <eos>\n",
      "Decoded Oscar Wilde: at attention he reached possesses of interested at all matter in his hansom and les round the darwinismus of interested <eos>\n",
      "-------------------- Author Oscar Wilde --------------------\n",
      "Real: women are not always allowed a choice , he answered , but hardly had he finished the sentence before from <eos>\n",
      "Decoded Friedrich Nietzsche: therefore are not always wondered a stand , he answered , but brayed had he creepeth the sudden before from <eos>\n",
      "Decoded Ernest Hemingway: maybe are not always plenty a choice , he wanted , but hot had he acts the breaking before from <eos>\n",
      "Decoded Oscar Wilde: women are not always except a people , he answered , but stopped had he interested the clean before from <eos>\n",
      "\n"
     ]
    },
    {
     "data": {
      "application/vnd.jupyter.widget-view+json": {
       "model_id": "1b55235492ea4699a94332514be316c4",
       "version_major": 2,
       "version_minor": 0
      },
      "text/plain": [
       "HBox(children=(FloatProgress(value=0.0, max=208.0), HTML(value='')))"
      ]
     },
     "metadata": {},
     "output_type": "display_data"
    },
    {
     "name": "stdout",
     "output_type": "stream",
     "text": [
      "\n",
      "*************************** EPOCH 13 ***************************\n"
     ]
    },
    {
     "data": {
      "application/vnd.jupyter.widget-view+json": {
       "model_id": "c58fe4a414574375a2dcd67ad0e503c8",
       "version_major": 2,
       "version_minor": 0
      },
      "text/plain": [
       "HBox(children=(FloatProgress(value=0.0, max=485.0), HTML(value='')))"
      ]
     },
     "metadata": {},
     "output_type": "display_data"
    },
    {
     "name": "stdout",
     "output_type": "stream",
     "text": [
      "-------------------- Author Friedrich Nietzsche --------------------\n",
      "Real: if <unk> <unk> christianity , it has a <unk> right to do so : <unk> at least <unk> that it <eos>\n",
      "Decoded Friedrich Nietzsche: if series resolving christianity , it has a carrying right to do so : attention at women warn that it <eos>\n",
      "Decoded Ernest Hemingway: if thoughtful maera sharks , it has a thoughtful than to do so line board at maybe board that it <eos>\n",
      "Decoded Oscar Wilde: if rebuked ethical won , it has a pine right to do so : les at least possesses that it <eos>\n",
      "-------------------- Author Ernest Hemingway --------------------\n",
      "Real: on the next circle he was still too far away but he was higher out of water and the old <eos>\n",
      "Decoded Friedrich Nietzsche: on the least hear he was still too far away but he was higher out of water and the old <eos>\n",
      "Decoded Ernest Hemingway: on the next circle he was still too far away but he was higher out of water and the old <eos>\n",
      "Decoded Oscar Wilde: on the next whispered he was still too far away but he was young out of voice and the old <eos>\n",
      "-------------------- Author Oscar Wilde --------------------\n",
      "Real: why shouldn ' t you look at it ? you can tell the world all about it afterwards , if <eos>\n",
      "Decoded Friedrich Nietzsche: why needful ' t you look at it ? you can tell the world all about it laughed , if <eos>\n",
      "Decoded Ernest Hemingway: nick senta ' t you look at it ? you can tell the world all about it smelling , if <eos>\n",
      "Decoded Oscar Wilde: why cowardice ' t you look at it ? you can tell the world all about it mrs , if <eos>\n",
      "\n"
     ]
    },
    {
     "data": {
      "application/vnd.jupyter.widget-view+json": {
       "model_id": "ed81a8963d56492895867a6a62f3166b",
       "version_major": 2,
       "version_minor": 0
      },
      "text/plain": [
       "HBox(children=(FloatProgress(value=0.0, max=208.0), HTML(value='')))"
      ]
     },
     "metadata": {},
     "output_type": "display_data"
    },
    {
     "name": "stdout",
     "output_type": "stream",
     "text": [
      "\n",
      "*************************** EPOCH 14 ***************************\n"
     ]
    },
    {
     "data": {
      "application/vnd.jupyter.widget-view+json": {
       "model_id": "74c976775a56430fa42966b72c28e083",
       "version_major": 2,
       "version_minor": 0
      },
      "text/plain": [
       "HBox(children=(FloatProgress(value=0.0, max=485.0), HTML(value='')))"
      ]
     },
     "metadata": {},
     "output_type": "display_data"
    },
    {
     "name": "stdout",
     "output_type": "stream",
     "text": [
      "-------------------- Author Friedrich Nietzsche --------------------\n",
      "Real: to him will all landmarks themselves fly into the air <pad> <pad> <pad> <pad> <pad> <pad> <pad> <pad> <pad> <pad> <eos>\n",
      "Decoded Friedrich Nietzsche: to him will all warn themselves example into the mouth <pad> <pad> <pad> <pad> <pad> <pad> <pad> <pad> <pad> <pad> <eos>\n",
      "Decoded Ernest Hemingway: to him will all fifty now white into the air <pad> <pad> <pad> <pad> <pad> <pad> <pad> <pad> <pad> <pad> <eos>\n",
      "Decoded Oscar Wilde: to him will all attention themselves white into the air <pad> <pad> <pad> <pad> <pad> <pad> <pad> <pad> <pad> <pad> <eos>\n",
      "-------------------- Author Ernest Hemingway --------------------\n",
      "Real: he took hold of the line carefully so that it did not <unk> into any of the fresh line cuts <eos>\n",
      "Decoded Friedrich Nietzsche: he took hold of the happiness mark so that it did not butterflies into any of the suffering : rolleth <eos>\n",
      "Decoded Ernest Hemingway: he took clear of the line carefully so that it did not sung into any of the fresh line reproductions <eos>\n",
      "Decoded Oscar Wilde: he took alan of the myself glanced so that it did not shrug into any of the hand : silk <eos>\n",
      "-------------------- Author Oscar Wilde --------------------\n",
      "Real: i can ' t bear the idea of my soul being hideous <pad> <pad> <pad> <pad> <pad> <pad> <pad> <pad> <eos>\n",
      "Decoded Friedrich Nietzsche: i can ' t bear the idea of my soul being simply <pad> <pad> <pad> <pad> <pad> <pad> <pad> <pad> <eos>\n",
      "Decoded Ernest Hemingway: i can ' t plenty the fingers of my go blue between <pad> <pad> <pad> <pad> <pad> <pad> <pad> <pad> <eos>\n",
      "Decoded Oscar Wilde: i can ' t bear the idea of my soul being person <pad> <pad> <pad> <pad> <pad> <pad> <pad> <pad> <eos>\n",
      "\n"
     ]
    },
    {
     "data": {
      "application/vnd.jupyter.widget-view+json": {
       "model_id": "a95ef1a5bada44308c1292ead995c00c",
       "version_major": 2,
       "version_minor": 0
      },
      "text/plain": [
       "HBox(children=(FloatProgress(value=0.0, max=208.0), HTML(value='')))"
      ]
     },
     "metadata": {},
     "output_type": "display_data"
    },
    {
     "name": "stdout",
     "output_type": "stream",
     "text": [
      "\n",
      "*************************** EPOCH 15 ***************************\n"
     ]
    },
    {
     "data": {
      "application/vnd.jupyter.widget-view+json": {
       "model_id": "a21bdbf5bc464e29ab48bac5094dd165",
       "version_major": 2,
       "version_minor": 0
      },
      "text/plain": [
       "HBox(children=(FloatProgress(value=0.0, max=485.0), HTML(value='')))"
      ]
     },
     "metadata": {},
     "output_type": "display_data"
    },
    {
     "name": "stdout",
     "output_type": "stream",
     "text": [
      "-------------------- Author Friedrich Nietzsche --------------------\n",
      "Real: your enemy shall ye seek <pad> <pad> <pad> <pad> <pad> <pad> <pad> <pad> <pad> <pad> <pad> <pad> <pad> <pad> <pad> <eos>\n",
      "Decoded Friedrich Nietzsche: your judgment shall ye seek <pad> <pad> <pad> <pad> <pad> <pad> <pad> <pad> <pad> <pad> <pad> <pad> <pad> <pad> <pad> <eos>\n",
      "Decoded Ernest Hemingway: your punishment quite have carried <pad> <pad> <pad> <pad> <pad> <pad> <pad> <pad> <pad> <pad> <pad> <pad> <pad> <pad> <pad> <eos>\n",
      "Decoded Oscar Wilde: your corridor shall how certainly <pad> <pad> <pad> <pad> <pad> <pad> <pad> <pad> <pad> <pad> <pad> <pad> <pad> <pad> <pad> <eos>\n",
      "-------------------- Author Ernest Hemingway --------------------\n",
      "Real: he felt the iron go in and he leaned on it and drove it further and then pushed all his <eos>\n",
      "Decoded Friedrich Nietzsche: he shall the transgressor go in and he look on it and awakening it passion and then gazeth all his <eos>\n",
      "Decoded Ernest Hemingway: he felt the prisms go in and he leaned on it and drove it further and then piles all his <eos>\n",
      "Decoded Oscar Wilde: he felt the confession go in and he look on it and closed it passion and then exquisitely all his <eos>\n",
      "-------------------- Author Oscar Wilde --------------------\n",
      "Real: i should have thought they had got tired of that by this time , said dorian , pouring himself out <eos>\n",
      "Decoded Friedrich Nietzsche: i should have thought they had while weary of that by this time , said earth , gazeth himself out <eos>\n",
      "Decoded Ernest Hemingway: i should have thought they had got tied of that by this time , said fish , handling himself out <eos>\n",
      "Decoded Oscar Wilde: i should have thought they had got tired of that by this time , said dorian , expensive himself out <eos>\n",
      "\n"
     ]
    },
    {
     "data": {
      "application/vnd.jupyter.widget-view+json": {
       "model_id": "9785c5e25d32434ba0707f0bca71f7bb",
       "version_major": 2,
       "version_minor": 0
      },
      "text/plain": [
       "HBox(children=(FloatProgress(value=0.0, max=208.0), HTML(value='')))"
      ]
     },
     "metadata": {},
     "output_type": "display_data"
    },
    {
     "name": "stdout",
     "output_type": "stream",
     "text": [
      "\n",
      "*************************** EPOCH 16 ***************************\n"
     ]
    },
    {
     "data": {
      "application/vnd.jupyter.widget-view+json": {
       "model_id": "cf295f31f9774768878a3695aa09a088",
       "version_major": 2,
       "version_minor": 0
      },
      "text/plain": [
       "HBox(children=(FloatProgress(value=0.0, max=485.0), HTML(value='')))"
      ]
     },
     "metadata": {},
     "output_type": "display_data"
    },
    {
     "name": "stdout",
     "output_type": "stream",
     "text": [
      "-------------------- Author Friedrich Nietzsche --------------------\n",
      "Real: be it forgotten and dead , still its <unk> of light liveth and <unk> <pad> <pad> <pad> <pad> <pad> <pad> <eos>\n",
      "Decoded Friedrich Nietzsche: be it whether and dead , still its absurdum of light raise and philosopher <pad> <pad> <pad> <pad> <pad> <pad> <eos>\n",
      "Decoded Ernest Hemingway: be it sets and dead , still its sung of light de and sung <pad> <pad> <pad> <pad> <pad> <pad> <eos>\n",
      "Decoded Oscar Wilde: be it whether and dead , still its shrug of light silk and les <pad> <pad> <pad> <pad> <pad> <pad> <eos>\n",
      "-------------------- Author Ernest Hemingway --------------------\n",
      "Real: they <unk> <unk> the white horse on the legs and he knee <unk> himself up <pad> <pad> <pad> <pad> <pad> <eos>\n",
      "Decoded Friedrich Nietzsche: they south philosopher the white pure on the legs and he needs philosopher himself up <pad> <pad> <pad> <pad> <pad> <eos>\n",
      "Decoded Ernest Hemingway: they sung prolongs the white slow on the coming and he sung nosed himself up <pad> <pad> <pad> <pad> <pad> <eos>\n",
      "Decoded Oscar Wilde: they objected possesses the white pure on the story and he strongly rebuked himself up <pad> <pad> <pad> <pad> <pad> <eos>\n",
      "-------------------- Author Oscar Wilde --------------------\n",
      "Real: there is hardly a single person in the house of commons worth painting <pad> <pad> <pad> <pad> <pad> <pad> <pad> <eos>\n",
      "Decoded Friedrich Nietzsche: there is found a general between in the house of goethe longer beautiful <pad> <pad> <pad> <pad> <pad> <pad> <pad> <eos>\n",
      "Decoded Ernest Hemingway: there is hot a hot between in the house of scooping backing beautiful <pad> <pad> <pad> <pad> <pad> <pad> <pad> <eos>\n",
      "Decoded Oscar Wilde: there is hardly a fine person in the house of patti round beautiful <pad> <pad> <pad> <pad> <pad> <pad> <pad> <eos>\n",
      "\n"
     ]
    },
    {
     "data": {
      "application/vnd.jupyter.widget-view+json": {
       "model_id": "c8ecc9d9eb28420195a74dbf5d757a6e",
       "version_major": 2,
       "version_minor": 0
      },
      "text/plain": [
       "HBox(children=(FloatProgress(value=0.0, max=208.0), HTML(value='')))"
      ]
     },
     "metadata": {},
     "output_type": "display_data"
    },
    {
     "name": "stdout",
     "output_type": "stream",
     "text": [
      "\n",
      "*************************** EPOCH 17 ***************************\n"
     ]
    },
    {
     "data": {
      "application/vnd.jupyter.widget-view+json": {
       "model_id": "918886b11bd1448a9c3f2d55444627ee",
       "version_major": 2,
       "version_minor": 0
      },
      "text/plain": [
       "HBox(children=(FloatProgress(value=0.0, max=485.0), HTML(value='')))"
      ]
     },
     "metadata": {},
     "output_type": "display_data"
    },
    {
     "name": "stdout",
     "output_type": "stream",
     "text": [
      "-------------------- Author Friedrich Nietzsche --------------------\n",
      "Real: not to defend one ' s self , not to show anger , not to lay <unk> <pad> <pad> <pad> <eos>\n",
      "Decoded Friedrich Nietzsche: not to drive one ' s self , not to show goethe , not to lay philosopher <pad> <pad> <pad> <eos>\n",
      "Decoded Ernest Hemingway: not to sung one ' s feel , not to sung tunas , not to lay board <pad> <pad> <pad> <eos>\n",
      "Decoded Oscar Wilde: not to proper one ' s self , not to following nugget , not to lay possesses <pad> <pad> <pad> <eos>\n",
      "-------------------- Author Ernest Hemingway --------------------\n",
      "Real: then our true work <unk> <pad> <pad> <pad> <pad> <pad> <pad> <pad> <pad> <pad> <pad> <pad> <pad> <pad> <pad> <pad> <eos>\n",
      "Decoded Friedrich Nietzsche: then our true work caricatures <pad> <pad> <pad> <pad> <pad> <pad> <pad> <pad> <pad> <pad> <pad> <pad> <pad> <pad> <pad> <eos>\n",
      "Decoded Ernest Hemingway: then our true work prolongs <pad> <pad> <pad> <pad> <pad> <pad> <pad> <pad> <pad> <pad> <pad> <pad> <pad> <pad> <pad> <eos>\n",
      "Decoded Oscar Wilde: then our true work possesses <pad> <pad> <pad> <pad> <pad> <pad> <pad> <pad> <pad> <pad> <pad> <pad> <pad> <pad> <pad> <eos>\n",
      "-------------------- Author Oscar Wilde --------------------\n",
      "Real: she was quite beautiful , and wonderfully like sibyl vane <pad> <pad> <pad> <pad> <pad> <pad> <pad> <pad> <pad> <pad> <eos>\n",
      "Decoded Friedrich Nietzsche: she was quite beautiful , and hidden like hear knowledge <pad> <pad> <pad> <pad> <pad> <pad> <pad> <pad> <pad> <pad> <eos>\n",
      "Decoded Ernest Hemingway: she was quite beautiful , and lightness like circle fin <pad> <pad> <pad> <pad> <pad> <pad> <pad> <pad> <pad> <pad> <eos>\n",
      "Decoded Oscar Wilde: she was quite beautiful , and morals like sibyl vane <pad> <pad> <pad> <pad> <pad> <pad> <pad> <pad> <pad> <pad> <eos>\n",
      "\n"
     ]
    },
    {
     "data": {
      "application/vnd.jupyter.widget-view+json": {
       "model_id": "a674a7deffe04fc89e4722e3b38ea376",
       "version_major": 2,
       "version_minor": 0
      },
      "text/plain": [
       "HBox(children=(FloatProgress(value=0.0, max=208.0), HTML(value='')))"
      ]
     },
     "metadata": {},
     "output_type": "display_data"
    },
    {
     "name": "stdout",
     "output_type": "stream",
     "text": [
      "\n",
      "*************************** EPOCH 18 ***************************\n"
     ]
    },
    {
     "data": {
      "application/vnd.jupyter.widget-view+json": {
       "model_id": "f813aec6cb4141f98375a9910bd2cdb5",
       "version_major": 2,
       "version_minor": 0
      },
      "text/plain": [
       "HBox(children=(FloatProgress(value=0.0, max=485.0), HTML(value='')))"
      ]
     },
     "metadata": {},
     "output_type": "display_data"
    },
    {
     "name": "stdout",
     "output_type": "stream",
     "text": [
      "-------------------- Author Friedrich Nietzsche --------------------\n",
      "Real: and he who loveth his god <unk> him <pad> <pad> <pad> <pad> <pad> <pad> <pad> <pad> <pad> <pad> <pad> <pad> <eos>\n",
      "Decoded Friedrich Nietzsche: and he who loveth his god caricatures him <pad> <pad> <pad> <pad> <pad> <pad> <pad> <pad> <pad> <pad> <pad> <pad> <eos>\n",
      "Decoded Ernest Hemingway: and he who lucky his god austrian him <pad> <pad> <pad> <pad> <pad> <pad> <pad> <pad> <pad> <pad> <pad> <pad> <eos>\n",
      "Decoded Oscar Wilde: and he who pay his god possesses him <pad> <pad> <pad> <pad> <pad> <pad> <pad> <pad> <pad> <pad> <pad> <pad> <eos>\n",
      "-------------------- Author Ernest Hemingway --------------------\n",
      "Real: no , the old man said <pad> <pad> <pad> <pad> <pad> <pad> <pad> <pad> <pad> <pad> <pad> <pad> <pad> <pad> <eos>\n",
      "Decoded Friedrich Nietzsche: no , the old man said <pad> <pad> <pad> <pad> <pad> <pad> <pad> <pad> <pad> <pad> <pad> <pad> <pad> <pad> <eos>\n",
      "Decoded Ernest Hemingway: no , the old man said <pad> <pad> <pad> <pad> <pad> <pad> <pad> <pad> <pad> <pad> <pad> <pad> <pad> <pad> <eos>\n",
      "Decoded Oscar Wilde: no , the old man said <pad> <pad> <pad> <pad> <pad> <pad> <pad> <pad> <pad> <pad> <pad> <pad> <pad> <pad> <eos>\n",
      "-------------------- Author Oscar Wilde --------------------\n",
      "Real: i assure you we can ' t bear <unk> <pad> <pad> <pad> <pad> <pad> <pad> <pad> <pad> <pad> <pad> <pad> <eos>\n",
      "Decoded Friedrich Nietzsche: i existence you we can ' t bear philosopher <pad> <pad> <pad> <pad> <pad> <pad> <pad> <pad> <pad> <pad> <pad> <eos>\n",
      "Decoded Ernest Hemingway: i dove you we can ' t fearless prolongs <pad> <pad> <pad> <pad> <pad> <pad> <pad> <pad> <pad> <pad> <pad> <eos>\n",
      "Decoded Oscar Wilde: i assure you we can ' t bear absolution <pad> <pad> <pad> <pad> <pad> <pad> <pad> <pad> <pad> <pad> <pad> <eos>\n",
      "\n"
     ]
    },
    {
     "data": {
      "application/vnd.jupyter.widget-view+json": {
       "model_id": "c7a559d3b97443babc02919afe06ce19",
       "version_major": 2,
       "version_minor": 0
      },
      "text/plain": [
       "HBox(children=(FloatProgress(value=0.0, max=208.0), HTML(value='')))"
      ]
     },
     "metadata": {},
     "output_type": "display_data"
    },
    {
     "name": "stdout",
     "output_type": "stream",
     "text": [
      "\n",
      "*************************** EPOCH 19 ***************************\n"
     ]
    },
    {
     "data": {
      "application/vnd.jupyter.widget-view+json": {
       "model_id": "7aeca8ab1aac455fb971455b86733222",
       "version_major": 2,
       "version_minor": 0
      },
      "text/plain": [
       "HBox(children=(FloatProgress(value=0.0, max=485.0), HTML(value='')))"
      ]
     },
     "metadata": {},
     "output_type": "display_data"
    },
    {
     "name": "stdout",
     "output_type": "stream",
     "text": [
      "-------------------- Author Friedrich Nietzsche --------------------\n",
      "Real: the same instinct which prompts the inferior to reduce their own god to goodness in itself also prompts them to <eos>\n",
      "Decoded Friedrich Nietzsche: the same instinct which series the subtlest to enlinked their own god to courts in itself also series them to <eos>\n",
      "Decoded Ernest Hemingway: the same scent which tunas the rubble to awash their own god to happen in itself also dove them to <eos>\n",
      "Decoded Oscar Wilde: the same value which louder the darwinismus to breaks their own god to interested in itself also possesses them to <eos>\n",
      "-------------------- Author Ernest Hemingway --------------------\n",
      "Real: the old man hit him on the head for <unk> and kicked him , his body still <unk> , under <eos>\n",
      "Decoded Friedrich Nietzsche: the old man still him on the head for series and blink him , his body still series , under <eos>\n",
      "Decoded Ernest Hemingway: the old man hit him on the head for tunas and noted him , his body still nosed , under <eos>\n",
      "Decoded Oscar Wilde: the old man still him on the head for possesses and assert him , his body still rebuked , under <eos>\n",
      "-------------------- Author Oscar Wilde --------------------\n",
      "Real: lord henry wotton is perfectly right <pad> <pad> <pad> <pad> <pad> <pad> <pad> <pad> <pad> <pad> <pad> <pad> <pad> <pad> <eos>\n",
      "Decoded Friedrich Nietzsche: lord ones creepeth is learned right <pad> <pad> <pad> <pad> <pad> <pad> <pad> <pad> <pad> <pad> <pad> <pad> <pad> <pad> <eos>\n",
      "Decoded Ernest Hemingway: because ones built is get right <pad> <pad> <pad> <pad> <pad> <pad> <pad> <pad> <pad> <pad> <pad> <pad> <pad> <pad> <eos>\n",
      "Decoded Oscar Wilde: lord henry wotton is perfectly right <pad> <pad> <pad> <pad> <pad> <pad> <pad> <pad> <pad> <pad> <pad> <pad> <pad> <pad> <eos>\n",
      "\n"
     ]
    },
    {
     "data": {
      "application/vnd.jupyter.widget-view+json": {
       "model_id": "7bdc4a29c83a4255b8623fd87f582d69",
       "version_major": 2,
       "version_minor": 0
      },
      "text/plain": [
       "HBox(children=(FloatProgress(value=0.0, max=208.0), HTML(value='')))"
      ]
     },
     "metadata": {},
     "output_type": "display_data"
    },
    {
     "name": "stdout",
     "output_type": "stream",
     "text": [
      "\n",
      "*************************** EPOCH 20 ***************************\n"
     ]
    },
    {
     "data": {
      "application/vnd.jupyter.widget-view+json": {
       "model_id": "5908f5c5aafa4dbc9e7c492a265e7d70",
       "version_major": 2,
       "version_minor": 0
      },
      "text/plain": [
       "HBox(children=(FloatProgress(value=0.0, max=485.0), HTML(value='')))"
      ]
     },
     "metadata": {},
     "output_type": "display_data"
    },
    {
     "name": "stdout",
     "output_type": "stream",
     "text": [
      "-------------------- Author Friedrich Nietzsche --------------------\n",
      "Real: amongst such would i not build my <unk> <pad> <pad> <pad> <pad> <pad> <pad> <pad> <pad> <pad> <pad> <pad> <pad> <eos>\n",
      "Decoded Friedrich Nietzsche: amongst such would i not series my custom <pad> <pad> <pad> <pad> <pad> <pad> <pad> <pad> <pad> <pad> <pad> <pad> <eos>\n",
      "Decoded Ernest Hemingway: beat such would i not lightness my dozen <pad> <pad> <pad> <pad> <pad> <pad> <pad> <pad> <pad> <pad> <pad> <pad> <eos>\n",
      "Decoded Oscar Wilde: either such would i not swear my darwinismus <pad> <pad> <pad> <pad> <pad> <pad> <pad> <pad> <pad> <pad> <pad> <pad> <eos>\n",
      "-------------------- Author Ernest Hemingway --------------------\n",
      "Real: may i get the sardines ? i know where i can get four baits too <pad> <pad> <pad> <pad> <pad> <eos>\n",
      "Decoded Friedrich Nietzsche: may i get the wanderer ? i know where i can get wait beasts too <pad> <pad> <pad> <pad> <pad> <eos>\n",
      "Decoded Ernest Hemingway: may i get the sardines ? i know where i can get four baits too <pad> <pad> <pad> <pad> <pad> <eos>\n",
      "Decoded Oscar Wilde: may i get the reason ? i know where i can get ago flooded too <pad> <pad> <pad> <pad> <pad> <eos>\n",
      "-------------------- Author Oscar Wilde --------------------\n",
      "Real: he rushed forward and seized it in his arms , when , to his horror , the head slipped off <eos>\n",
      "Decoded Friedrich Nietzsche: he meaneth forward and seized it in his many , when , to his horror , the head formerly off <eos>\n",
      "Decoded Ernest Hemingway: he doesn forward and tonight it in his elbows , when , to his tuna , the head slipped off <eos>\n",
      "Decoded Oscar Wilde: he rushed forward and indifferent it in his twins , when , to his horror , the head street off <eos>\n",
      "\n"
     ]
    },
    {
     "data": {
      "application/vnd.jupyter.widget-view+json": {
       "model_id": "ca8304393390413184481dbf9d382099",
       "version_major": 2,
       "version_minor": 0
      },
      "text/plain": [
       "HBox(children=(FloatProgress(value=0.0, max=208.0), HTML(value='')))"
      ]
     },
     "metadata": {},
     "output_type": "display_data"
    },
    {
     "name": "stdout",
     "output_type": "stream",
     "text": [
      "\n",
      "*************************** EPOCH 21 ***************************\n"
     ]
    },
    {
     "data": {
      "application/vnd.jupyter.widget-view+json": {
       "model_id": "a9209a6ed30d4f959baf3fe5ac67eaa5",
       "version_major": 2,
       "version_minor": 0
      },
      "text/plain": [
       "HBox(children=(FloatProgress(value=0.0, max=485.0), HTML(value='')))"
      ]
     },
     "metadata": {},
     "output_type": "display_data"
    },
    {
     "name": "stdout",
     "output_type": "stream",
     "text": [
      "-------------------- Author Friedrich Nietzsche --------------------\n",
      "Real: and no one knew how to <unk> him <pad> <pad> <pad> <pad> <pad> <pad> <pad> <pad> <pad> <pad> <pad> <pad> <eos>\n",
      "Decoded Friedrich Nietzsche: and no one knew how to warn him <pad> <pad> <pad> <pad> <pad> <pad> <pad> <pad> <pad> <pad> <pad> <pad> <eos>\n",
      "Decoded Ernest Hemingway: and no one knew how to sung him <pad> <pad> <pad> <pad> <pad> <pad> <pad> <pad> <pad> <pad> <pad> <pad> <eos>\n",
      "Decoded Oscar Wilde: and no one knew how to animalism him <pad> <pad> <pad> <pad> <pad> <pad> <pad> <pad> <pad> <pad> <pad> <pad> <eos>\n",
      "-------------------- Author Ernest Hemingway --------------------\n",
      "Real: but the shark came up fast with his head out and the old man hit him <unk> in the <unk> <eos>\n",
      "Decoded Friedrich Nietzsche: but the quite came up fast with his head out and the old man simply him philosopher in the carrying <eos>\n",
      "Decoded Ernest Hemingway: but the shark came up fast with his head out and the old man hit him tunas in the rubble <eos>\n",
      "Decoded Oscar Wilde: but the dear came up end with his head out and the old man hit him rebuked in the violet <eos>\n",
      "-------------------- Author Oscar Wilde --------------------\n",
      "Real: thank you , sir , said the man , leaving the room <pad> <pad> <pad> <pad> <pad> <pad> <pad> <pad> <eos>\n",
      "Decoded Friedrich Nietzsche: thank you , thereby , said the man , afterward the mountains <pad> <pad> <pad> <pad> <pad> <pad> <pad> <pad> <eos>\n",
      "Decoded Ernest Hemingway: maybe you , sleep , said the man , waken the tuna <pad> <pad> <pad> <pad> <pad> <pad> <pad> <pad> <eos>\n",
      "Decoded Oscar Wilde: besides you , sir , said the man , marriage the room <pad> <pad> <pad> <pad> <pad> <pad> <pad> <pad> <eos>\n",
      "\n"
     ]
    },
    {
     "data": {
      "application/vnd.jupyter.widget-view+json": {
       "model_id": "d0246a59326e4c9ca7412e24a3abfdda",
       "version_major": 2,
       "version_minor": 0
      },
      "text/plain": [
       "HBox(children=(FloatProgress(value=0.0, max=208.0), HTML(value='')))"
      ]
     },
     "metadata": {},
     "output_type": "display_data"
    },
    {
     "name": "stdout",
     "output_type": "stream",
     "text": [
      "\n",
      "*************************** EPOCH 22 ***************************\n"
     ]
    },
    {
     "data": {
      "application/vnd.jupyter.widget-view+json": {
       "model_id": "36c45e2c5c8e4268b3db4c288da2e78f",
       "version_major": 2,
       "version_minor": 0
      },
      "text/plain": [
       "HBox(children=(FloatProgress(value=0.0, max=485.0), HTML(value='')))"
      ]
     },
     "metadata": {},
     "output_type": "display_data"
    },
    {
     "name": "stdout",
     "output_type": "stream",
     "text": [
      "-------------------- Author Friedrich Nietzsche --------------------\n",
      "Real: it is not society , but the only sort of happiness that the majority are capable of , that makes <eos>\n",
      "Decoded Friedrich Nietzsche: it is not endure , but the only sort of happiness that the shell are fools of , that makes <eos>\n",
      "Decoded Ernest Hemingway: it is not cramps , but the only stay of line that the major are caught of , that makes <eos>\n",
      "Decoded Oscar Wilde: it is not walked , but the only sort of happiness that the scarlet are eight of , that makes <eos>\n",
      "-------------------- Author Ernest Hemingway --------------------\n",
      "Real: he did not do so badly in the night , though , and he has only cramped once <pad> <pad> <eos>\n",
      "Decoded Friedrich Nietzsche: he did not do so angry in the night , though , and he has only filth once <pad> <pad> <eos>\n",
      "Decoded Ernest Hemingway: he did not do so during in the night , though , and he has only cramped once <pad> <pad> <eos>\n",
      "Decoded Oscar Wilde: he did not do so badly in the night , though , and he has only object once <pad> <pad> <eos>\n",
      "-------------------- Author Oscar Wilde --------------------\n",
      "Real: you seemed rather out of <unk> at dinner <pad> <pad> <pad> <pad> <pad> <pad> <pad> <pad> <pad> <pad> <pad> <pad> <eos>\n",
      "Decoded Friedrich Nietzsche: you seemed rather out of convalescence at marriage <pad> <pad> <pad> <pad> <pad> <pad> <pad> <pad> <pad> <pad> <pad> <pad> <eos>\n",
      "Decoded Ernest Hemingway: you seemed maybe out of excited at hooked <pad> <pad> <pad> <pad> <pad> <pad> <pad> <pad> <pad> <pad> <pad> <pad> <eos>\n",
      "Decoded Oscar Wilde: you seemed rather out of darwinismus at dinner <pad> <pad> <pad> <pad> <pad> <pad> <pad> <pad> <pad> <pad> <pad> <pad> <eos>\n",
      "\n"
     ]
    },
    {
     "data": {
      "application/vnd.jupyter.widget-view+json": {
       "model_id": "f28e1ac82f184c73b60f37d2f408e4d9",
       "version_major": 2,
       "version_minor": 0
      },
      "text/plain": [
       "HBox(children=(FloatProgress(value=0.0, max=208.0), HTML(value='')))"
      ]
     },
     "metadata": {},
     "output_type": "display_data"
    },
    {
     "name": "stdout",
     "output_type": "stream",
     "text": [
      "\n",
      "*************************** EPOCH 23 ***************************\n"
     ]
    },
    {
     "data": {
      "application/vnd.jupyter.widget-view+json": {
       "model_id": "5c0995ab1ced407583c5f3dca142d0ad",
       "version_major": 2,
       "version_minor": 0
      },
      "text/plain": [
       "HBox(children=(FloatProgress(value=0.0, max=485.0), HTML(value='')))"
      ]
     },
     "metadata": {},
     "output_type": "display_data"
    },
    {
     "name": "stdout",
     "output_type": "stream",
     "text": [
      "-------------------- Author Friedrich Nietzsche --------------------\n",
      "Real: in good spirits and joyful , because this day hath come to an end ! and thou thyself shalt dance <eos>\n",
      "Decoded Friedrich Nietzsche: in good counsel and drive , because this day hath come to an end ! and thou thyself shalt mother <eos>\n",
      "Decoded Ernest Hemingway: in good spurs and sung , because this day without come to an steady ! and thou going days colour <eos>\n",
      "Decoded Oscar Wilde: in good difficulty and patti , because this day take come to an end ! and made sad brought colour <eos>\n",
      "-------------------- Author Ernest Hemingway --------------------\n",
      "Real: he put his hands in the water again to <unk> them <pad> <pad> <pad> <pad> <pad> <pad> <pad> <pad> <pad> <eos>\n",
      "Decoded Friedrich Nietzsche: he put his hands in the water again to warn them <pad> <pad> <pad> <pad> <pad> <pad> <pad> <pad> <pad> <eos>\n",
      "Decoded Ernest Hemingway: he put his hands in the water again to identified them <pad> <pad> <pad> <pad> <pad> <pad> <pad> <pad> <pad> <eos>\n",
      "Decoded Oscar Wilde: he put his hands in the water again to rebuked them <pad> <pad> <pad> <pad> <pad> <pad> <pad> <pad> <pad> <eos>\n",
      "-------------------- Author Oscar Wilde --------------------\n",
      "Real: he himself could not help wondering at the calm of his <unk> , and for a moment felt keenly the <eos>\n",
      "Decoded Friedrich Nietzsche: he himself could not help dodge at the ice of his butterflies , and for a moment do caress the <eos>\n",
      "Decoded Ernest Hemingway: he himself could not help cramping at the calm of his copy , and for a moment felt deepest the <eos>\n",
      "Decoded Oscar Wilde: he himself could not help psychology at the midnight of his brougham , and for a moment felt mood the <eos>\n",
      "\n"
     ]
    },
    {
     "data": {
      "application/vnd.jupyter.widget-view+json": {
       "model_id": "2eabb2e08d31461497f9e73ab59b2364",
       "version_major": 2,
       "version_minor": 0
      },
      "text/plain": [
       "HBox(children=(FloatProgress(value=0.0, max=208.0), HTML(value='')))"
      ]
     },
     "metadata": {},
     "output_type": "display_data"
    },
    {
     "name": "stdout",
     "output_type": "stream",
     "text": [
      "\n",
      "*************************** EPOCH 24 ***************************\n"
     ]
    },
    {
     "data": {
      "application/vnd.jupyter.widget-view+json": {
       "model_id": "f403d7ba0bcb4b369f4e138b071a8e41",
       "version_major": 2,
       "version_minor": 0
      },
      "text/plain": [
       "HBox(children=(FloatProgress(value=0.0, max=485.0), HTML(value='')))"
      ]
     },
     "metadata": {},
     "output_type": "display_data"
    },
    {
     "name": "stdout",
     "output_type": "stream",
     "text": [
      "-------------------- Author Friedrich Nietzsche --------------------\n",
      "Real: and it is not those who lead out of danger that please you best , but those who lead you <eos>\n",
      "Decoded Friedrich Nietzsche: and it is not those who clearly out of danger that hatred you best , but those who reach you <eos>\n",
      "Decoded Ernest Hemingway: and it is not those who immune out of lay that please you best , but those who tension you <eos>\n",
      "Decoded Oscar Wilde: and it is not those who strongly out of son that please you best , but those who lead you <eos>\n",
      "-------------------- Author Ernest Hemingway --------------------\n",
      "Real: there was no pot of yellow rice and fish and the boy knew this too <pad> <pad> <pad> <pad> <pad> <eos>\n",
      "Decoded Friedrich Nietzsche: there was no warn of yellow fell and fish and the thus knew this too <pad> <pad> <pad> <pad> <pad> <eos>\n",
      "Decoded Ernest Hemingway: there was no disturb of yellow rice and fish and the boy knew this too <pad> <pad> <pad> <pad> <pad> <eos>\n",
      "Decoded Oscar Wilde: there was no strongly of yellow fell and dorian and the boy knew this too <pad> <pad> <pad> <pad> <pad> <eos>\n",
      "-------------------- Author Oscar Wilde --------------------\n",
      "Real: and hideous laughter seemed to have <unk> its <unk> into an <unk> <unk> <pad> <pad> <pad> <pad> <pad> <pad> <pad> <eos>\n",
      "Decoded Friedrich Nietzsche: and believe laughter seemed to have warn its carrying into an carrying series <pad> <pad> <pad> <pad> <pad> <pad> <pad> <eos>\n",
      "Decoded Ernest Hemingway: and really cut inside to have worse its dozen into an dozen movements <pad> <pad> <pad> <pad> <pad> <pad> <pad> <eos>\n",
      "Decoded Oscar Wilde: and simply laughter seemed to have objected its objected into an declined absolution <pad> <pad> <pad> <pad> <pad> <pad> <pad> <eos>\n",
      "\n"
     ]
    },
    {
     "data": {
      "application/vnd.jupyter.widget-view+json": {
       "model_id": "6adf41ff560f45c48c3a77f8e1b28bff",
       "version_major": 2,
       "version_minor": 0
      },
      "text/plain": [
       "HBox(children=(FloatProgress(value=0.0, max=208.0), HTML(value='')))"
      ]
     },
     "metadata": {},
     "output_type": "display_data"
    },
    {
     "name": "stdout",
     "output_type": "stream",
     "text": [
      "\n",
      "*************************** EPOCH 25 ***************************\n"
     ]
    },
    {
     "data": {
      "application/vnd.jupyter.widget-view+json": {
       "model_id": "cbf161cd6f7246faabcd29519fe5edd9",
       "version_major": 2,
       "version_minor": 0
      },
      "text/plain": [
       "HBox(children=(FloatProgress(value=0.0, max=485.0), HTML(value='')))"
      ]
     },
     "metadata": {},
     "output_type": "display_data"
    },
    {
     "name": "stdout",
     "output_type": "stream",
     "text": [
      "-------------------- Author Friedrich Nietzsche --------------------\n",
      "Real: but he moved his hand as if he sought the hand of zarathustra in gratitude <pad> <pad> <pad> <pad> <pad> <eos>\n",
      "Decoded Friedrich Nietzsche: but he moved his hand as if he sought the hand of zarathustra in cobwebs <pad> <pad> <pad> <pad> <pad> <eos>\n",
      "Decoded Ernest Hemingway: but he moved his hand as if he watched the hand of that in annulled <pad> <pad> <pad> <pad> <pad> <eos>\n",
      "Decoded Oscar Wilde: but he moved his hand as if he sought the hand of mr in germany <pad> <pad> <pad> <pad> <pad> <eos>\n",
      "-------------------- Author Ernest Hemingway --------------------\n",
      "Real: when they <unk> the first <unk> he was sitting down in the water with his head on his knees <pad> <eos>\n",
      "Decoded Friedrich Nietzsche: when they warn the first series he was discovered down in the water with his head on his wearisome <pad> <eos>\n",
      "Decoded Ernest Hemingway: when they sung the first austrian he was sitting down in the water with his head on his sung <pad> <eos>\n",
      "Decoded Oscar Wilde: when they declined the first objected he was sitting down in the water with his head on his stir <pad> <eos>\n",
      "-------------------- Author Oscar Wilde --------------------\n",
      "Real: <unk> away our iniquities <pad> <pad> <pad> <pad> <pad> <pad> <pad> <pad> <pad> <pad> <pad> <pad> <pad> <pad> <pad> <pad> <eos>\n",
      "Decoded Friedrich Nietzsche: resolving away our grandmothers <pad> <pad> <pad> <pad> <pad> <pad> <pad> <pad> <pad> <pad> <pad> <pad> <pad> <pad> <pad> <pad> <eos>\n",
      "Decoded Ernest Hemingway: giotto away our sung <pad> <pad> <pad> <pad> <pad> <pad> <pad> <pad> <pad> <pad> <pad> <pad> <pad> <pad> <pad> <pad> <eos>\n",
      "Decoded Oscar Wilde: hectic away our sipped <pad> <pad> <pad> <pad> <pad> <pad> <pad> <pad> <pad> <pad> <pad> <pad> <pad> <pad> <pad> <pad> <eos>\n",
      "\n"
     ]
    },
    {
     "data": {
      "application/vnd.jupyter.widget-view+json": {
       "model_id": "4548f072a70a4475a19bfe28d75526af",
       "version_major": 2,
       "version_minor": 0
      },
      "text/plain": [
       "HBox(children=(FloatProgress(value=0.0, max=208.0), HTML(value='')))"
      ]
     },
     "metadata": {},
     "output_type": "display_data"
    },
    {
     "name": "stdout",
     "output_type": "stream",
     "text": [
      "\n",
      "*************************** EPOCH 26 ***************************\n"
     ]
    },
    {
     "data": {
      "application/vnd.jupyter.widget-view+json": {
       "model_id": "eda0d20367674a5997b42892d476a5bf",
       "version_major": 2,
       "version_minor": 0
      },
      "text/plain": [
       "HBox(children=(FloatProgress(value=0.0, max=485.0), HTML(value='')))"
      ]
     },
     "metadata": {},
     "output_type": "display_data"
    },
    {
     "name": "stdout",
     "output_type": "stream",
     "text": [
      "-------------------- Author Friedrich Nietzsche --------------------\n",
      "Real: for in seeing the sufferer suffering thereof was i ashamed on account of his shame <pad> <pad> <pad> <pad> <pad> <eos>\n",
      "Decoded Friedrich Nietzsche: for in approve the sign suffering thereof was i ashamed on account of his shame <pad> <pad> <pad> <pad> <pad> <eos>\n",
      "Decoded Ernest Hemingway: for in disturb the sardines suffering pity was i shadows on take of his steady <pad> <pad> <pad> <pad> <pad> <eos>\n",
      "Decoded Oscar Wilde: for in spite the prayer suffering known was i trust on birds of his shame <pad> <pad> <pad> <pad> <pad> <eos>\n",
      "-------------------- Author Ernest Hemingway --------------------\n",
      "Real: but when he put all of his effort on , starting it well out before the fish came alongside and <eos>\n",
      "Decoded Friedrich Nietzsche: but when he put all of his rubbish on , below it well out before the fish came laboriousness and <eos>\n",
      "Decoded Ernest Hemingway: but when he put all of his effort on , scooping it well out before the fish came alongside and <eos>\n",
      "Decoded Oscar Wilde: but when he put all of his alter on , wealth it well out before the dorian came value and <eos>\n",
      "-------------------- Author Oscar Wilde --------------------\n",
      "Real: now it was to hide something that had a corruption of its own , worse than the corruption of death <eos>\n",
      "Decoded Friedrich Nietzsche: now it was to mocked something that had a gladly of its own , readily than the corruption of death <eos>\n",
      "Decoded Ernest Hemingway: now it was to condition something that had a drifting of its own , joined than the lines of death <eos>\n",
      "Decoded Oscar Wilde: now it was to interfere something that had a frame of its own , keeping than the frame of death <eos>\n",
      "\n"
     ]
    },
    {
     "data": {
      "application/vnd.jupyter.widget-view+json": {
       "model_id": "b338ab295a564cac9631853cde373030",
       "version_major": 2,
       "version_minor": 0
      },
      "text/plain": [
       "HBox(children=(FloatProgress(value=0.0, max=208.0), HTML(value='')))"
      ]
     },
     "metadata": {},
     "output_type": "display_data"
    },
    {
     "name": "stdout",
     "output_type": "stream",
     "text": [
      "\n",
      "*************************** EPOCH 27 ***************************\n"
     ]
    },
    {
     "data": {
      "application/vnd.jupyter.widget-view+json": {
       "model_id": "5526b5420a534f4d876566e65ae41c71",
       "version_major": 2,
       "version_minor": 0
      },
      "text/plain": [
       "HBox(children=(FloatProgress(value=0.0, max=485.0), HTML(value='')))"
      ]
     },
     "metadata": {},
     "output_type": "display_data"
    },
    {
     "name": "stdout",
     "output_type": "stream",
     "text": [
      "-------------------- Author Friedrich Nietzsche --------------------\n",
      "Real: if <unk> <unk> christianity , it has a <unk> right to do so : <unk> at least <unk> that it <eos>\n",
      "Decoded Friedrich Nietzsche: if inferior simplicity christianity , it has a carrying right to do so : philosopher at least needs that it <eos>\n",
      "Decoded Ernest Hemingway: if hueso prolongs sharks , it has a sung right to do so line nosed at maybe movements that it <eos>\n",
      "Decoded Oscar Wilde: if traversed ethical won , it has a largest right to do so : dashed at least animalism that it <eos>\n",
      "-------------------- Author Ernest Hemingway --------------------\n",
      "Real: it was afterwards <pad> <pad> <pad> <pad> <pad> <pad> <pad> <pad> <pad> <pad> <pad> <pad> <pad> <pad> <pad> <pad> <pad> <eos>\n",
      "Decoded Friedrich Nietzsche: it was hate <pad> <pad> <pad> <pad> <pad> <pad> <pad> <pad> <pad> <pad> <pad> <pad> <pad> <pad> <pad> <pad> <pad> <eos>\n",
      "Decoded Ernest Hemingway: it was east <pad> <pad> <pad> <pad> <pad> <pad> <pad> <pad> <pad> <pad> <pad> <pad> <pad> <pad> <pad> <pad> <pad> <eos>\n",
      "Decoded Oscar Wilde: it was afterwards <pad> <pad> <pad> <pad> <pad> <pad> <pad> <pad> <pad> <pad> <pad> <pad> <pad> <pad> <pad> <pad> <pad> <eos>\n",
      "-------------------- Author Oscar Wilde --------------------\n",
      "Real: there are moments when the odour of <unk> <unk> passes suddenly across me , and i have to live the <eos>\n",
      "Decoded Friedrich Nietzsche: there are imaginary when the appearance of convalescence philosopher philosopher knowest across me , and i have to live the <eos>\n",
      "Decoded Ernest Hemingway: there are forget when the odour of thoughtful jaw desperately suddenly across me , and i have to live the <eos>\n",
      "Decoded Oscar Wilde: there are moments when the stage of animalism ethical nugget suddenly across me , and i have to live the <eos>\n",
      "\n"
     ]
    },
    {
     "data": {
      "application/vnd.jupyter.widget-view+json": {
       "model_id": "e89ae31722cb453ab13e07902592c2b6",
       "version_major": 2,
       "version_minor": 0
      },
      "text/plain": [
       "HBox(children=(FloatProgress(value=0.0, max=208.0), HTML(value='')))"
      ]
     },
     "metadata": {},
     "output_type": "display_data"
    },
    {
     "name": "stdout",
     "output_type": "stream",
     "text": [
      "\n",
      "*************************** EPOCH 28 ***************************\n"
     ]
    },
    {
     "data": {
      "application/vnd.jupyter.widget-view+json": {
       "model_id": "a6cf5978061c471c9cae9aa64214bbd3",
       "version_major": 2,
       "version_minor": 0
      },
      "text/plain": [
       "HBox(children=(FloatProgress(value=0.0, max=485.0), HTML(value='')))"
      ]
     },
     "metadata": {},
     "output_type": "display_data"
    },
    {
     "name": "stdout",
     "output_type": "stream",
     "text": [
      "-------------------- Author Friedrich Nietzsche --------------------\n",
      "Real: to him will all landmarks themselves fly into the air <pad> <pad> <pad> <pad> <pad> <pad> <pad> <pad> <pad> <pad> <eos>\n",
      "Decoded Friedrich Nietzsche: to him will all awakening themselves example into the air <pad> <pad> <pad> <pad> <pad> <pad> <pad> <pad> <pad> <pad> <eos>\n",
      "Decoded Ernest Hemingway: to him will all planes themselves white into the air <pad> <pad> <pad> <pad> <pad> <pad> <pad> <pad> <pad> <pad> <eos>\n",
      "Decoded Oscar Wilde: to him will all infinite themselves white into the air <pad> <pad> <pad> <pad> <pad> <pad> <pad> <pad> <pad> <pad> <eos>\n",
      "-------------------- Author Ernest Hemingway --------------------\n",
      "Real: he could only use it <unk> with one hand because of the <unk> of the handle and he took good <eos>\n",
      "Decoded Friedrich Nietzsche: he could only instincts it caricatures with one hand because of the recluse of the poets and he took good <eos>\n",
      "Decoded Ernest Hemingway: he could only tonight it austrian with one hand because of the rubble of the baits and he took good <eos>\n",
      "Decoded Oscar Wilde: he could only use it possesses with one hand because of the largest of the violet and he took good <eos>\n",
      "-------------------- Author Oscar Wilde --------------------\n",
      "Real: let us <unk> to morrow <pad> <pad> <pad> <pad> <pad> <pad> <pad> <pad> <pad> <pad> <pad> <pad> <pad> <pad> <pad> <eos>\n",
      "Decoded Friedrich Nietzsche: let us priesthood to misfortune <pad> <pad> <pad> <pad> <pad> <pad> <pad> <pad> <pad> <pad> <pad> <pad> <pad> <pad> <pad> <eos>\n",
      "Decoded Ernest Hemingway: let us prolongs to jumped <pad> <pad> <pad> <pad> <pad> <pad> <pad> <pad> <pad> <pad> <pad> <pad> <pad> <pad> <pad> <eos>\n",
      "Decoded Oscar Wilde: let us absolution to morrow <pad> <pad> <pad> <pad> <pad> <pad> <pad> <pad> <pad> <pad> <pad> <pad> <pad> <pad> <pad> <eos>\n",
      "\n"
     ]
    },
    {
     "data": {
      "application/vnd.jupyter.widget-view+json": {
       "model_id": "9162271ce56c4c83be34e0fe415887cc",
       "version_major": 2,
       "version_minor": 0
      },
      "text/plain": [
       "HBox(children=(FloatProgress(value=0.0, max=208.0), HTML(value='')))"
      ]
     },
     "metadata": {},
     "output_type": "display_data"
    },
    {
     "name": "stdout",
     "output_type": "stream",
     "text": [
      "\n",
      "*************************** EPOCH 29 ***************************\n"
     ]
    },
    {
     "data": {
      "application/vnd.jupyter.widget-view+json": {
       "model_id": "21af4642dd17474eb090fec12b299080",
       "version_major": 2,
       "version_minor": 0
      },
      "text/plain": [
       "HBox(children=(FloatProgress(value=0.0, max=485.0), HTML(value='')))"
      ]
     },
     "metadata": {},
     "output_type": "display_data"
    },
    {
     "name": "stdout",
     "output_type": "stream",
     "text": [
      "-------------------- Author Friedrich Nietzsche --------------------\n",
      "Real: your enemy shall ye seek <pad> <pad> <pad> <pad> <pad> <pad> <pad> <pad> <pad> <pad> <pad> <pad> <pad> <pad> <pad> <eos>\n",
      "Decoded Friedrich Nietzsche: your enemy shall ye seek <pad> <pad> <pad> <pad> <pad> <pad> <pad> <pad> <pad> <pad> <pad> <pad> <pad> <pad> <pad> <eos>\n",
      "Decoded Ernest Hemingway: your boats dear how carried <pad> <pad> <pad> <pad> <pad> <pad> <pad> <pad> <pad> <pad> <pad> <pad> <pad> <pad> <pad> <eos>\n",
      "Decoded Oscar Wilde: your corridor shall ever money <pad> <pad> <pad> <pad> <pad> <pad> <pad> <pad> <pad> <pad> <pad> <pad> <pad> <pad> <pad> <eos>\n",
      "-------------------- Author Ernest Hemingway --------------------\n",
      "Real: because it is all i have left <pad> <pad> <pad> <pad> <pad> <pad> <pad> <pad> <pad> <pad> <pad> <pad> <pad> <eos>\n",
      "Decoded Friedrich Nietzsche: because it is all i have left <pad> <pad> <pad> <pad> <pad> <pad> <pad> <pad> <pad> <pad> <pad> <pad> <pad> <eos>\n",
      "Decoded Ernest Hemingway: because it is all i have left <pad> <pad> <pad> <pad> <pad> <pad> <pad> <pad> <pad> <pad> <pad> <pad> <pad> <eos>\n",
      "Decoded Oscar Wilde: because it is all i have left <pad> <pad> <pad> <pad> <pad> <pad> <pad> <pad> <pad> <pad> <pad> <pad> <pad> <eos>\n",
      "-------------------- Author Oscar Wilde --------------------\n",
      "Real: the screen had not been set back , and a blank <unk> was visible on the wall <pad> <pad> <pad> <eos>\n",
      "Decoded Friedrich Nietzsche: the poets had not been set back , and a root priesthood was rolleth on the gospels <pad> <pad> <pad> <eos>\n",
      "Decoded Ernest Hemingway: the walls had not been set back , and a chalk nosed was mine on the wall <pad> <pad> <pad> <eos>\n",
      "Decoded Oscar Wilde: the screen had not been set back , and a largest ethical was perfectly on the wall <pad> <pad> <pad> <eos>\n",
      "\n"
     ]
    },
    {
     "data": {
      "application/vnd.jupyter.widget-view+json": {
       "model_id": "4e06b61515184f3c969c97629e50723d",
       "version_major": 2,
       "version_minor": 0
      },
      "text/plain": [
       "HBox(children=(FloatProgress(value=0.0, max=208.0), HTML(value='')))"
      ]
     },
     "metadata": {},
     "output_type": "display_data"
    },
    {
     "name": "stdout",
     "output_type": "stream",
     "text": [
      "\n",
      "*************************** EPOCH 30 ***************************\n"
     ]
    },
    {
     "data": {
      "application/vnd.jupyter.widget-view+json": {
       "model_id": "42bfe3d41e0748c385dc662215740070",
       "version_major": 2,
       "version_minor": 0
      },
      "text/plain": [
       "HBox(children=(FloatProgress(value=0.0, max=485.0), HTML(value='')))"
      ]
     },
     "metadata": {},
     "output_type": "display_data"
    },
    {
     "name": "stdout",
     "output_type": "stream",
     "text": [
      "-------------------- Author Friedrich Nietzsche --------------------\n",
      "Real: be it forgotten and dead , still its <unk> of light liveth and <unk> <pad> <pad> <pad> <pad> <pad> <pad> <eos>\n",
      "Decoded Friedrich Nietzsche: be it whether and dead , still its erthrowing of light ado and convalescence <pad> <pad> <pad> <pad> <pad> <pad> <eos>\n",
      "Decoded Ernest Hemingway: be it sets and dead , still its dozen of light sardines and piero <pad> <pad> <pad> <pad> <pad> <pad> <eos>\n",
      "Decoded Oscar Wilde: be it forgotten and dead , still its violet of light silk and rebuked <pad> <pad> <pad> <pad> <pad> <pad> <eos>\n",
      "-------------------- Author Ernest Hemingway --------------------\n",
      "Real: he is wonderful and strange and who knows how old he is , he thought <pad> <pad> <pad> <pad> <pad> <eos>\n",
      "Decoded Friedrich Nietzsche: he is solitude and strange and who knows how old he is , he thought <pad> <pad> <pad> <pad> <pad> <eos>\n",
      "Decoded Ernest Hemingway: he is wonderful and strange and who knows how old he is , he thought <pad> <pad> <pad> <pad> <pad> <eos>\n",
      "Decoded Oscar Wilde: he is wonderful and strange and who knows how old he is , he thought <pad> <pad> <pad> <pad> <pad> <eos>\n",
      "-------------------- Author Oscar Wilde --------------------\n",
      "Real: i am far too frightened to call <pad> <pad> <pad> <pad> <pad> <pad> <pad> <pad> <pad> <pad> <pad> <pad> <pad> <eos>\n",
      "Decoded Friedrich Nietzsche: i am far too frightened to call <pad> <pad> <pad> <pad> <pad> <pad> <pad> <pad> <pad> <pad> <pad> <pad> <pad> <eos>\n",
      "Decoded Ernest Hemingway: i am far too intolerable to what <pad> <pad> <pad> <pad> <pad> <pad> <pad> <pad> <pad> <pad> <pad> <pad> <pad> <eos>\n",
      "Decoded Oscar Wilde: i am far too frightened to call <pad> <pad> <pad> <pad> <pad> <pad> <pad> <pad> <pad> <pad> <pad> <pad> <pad> <eos>\n",
      "\n"
     ]
    },
    {
     "data": {
      "application/vnd.jupyter.widget-view+json": {
       "model_id": "64c5765371014ffa816f2e52871f4341",
       "version_major": 2,
       "version_minor": 0
      },
      "text/plain": [
       "HBox(children=(FloatProgress(value=0.0, max=208.0), HTML(value='')))"
      ]
     },
     "metadata": {},
     "output_type": "display_data"
    },
    {
     "name": "stdout",
     "output_type": "stream",
     "text": [
      "\n",
      "*************************** EPOCH 31 ***************************\n"
     ]
    },
    {
     "data": {
      "application/vnd.jupyter.widget-view+json": {
       "model_id": "e18911b61ae34d37bbab155d7051470c",
       "version_major": 2,
       "version_minor": 0
      },
      "text/plain": [
       "HBox(children=(FloatProgress(value=0.0, max=485.0), HTML(value='')))"
      ]
     },
     "metadata": {},
     "output_type": "display_data"
    },
    {
     "name": "stdout",
     "output_type": "stream",
     "text": [
      "-------------------- Author Friedrich Nietzsche --------------------\n",
      "Real: not to defend one ' s self , not to show anger , not to lay <unk> <pad> <pad> <pad> <eos>\n",
      "Decoded Friedrich Nietzsche: not to approaching one ' s self , not to show mocked , not to lay philosopher <pad> <pad> <pad> <eos>\n",
      "Decoded Ernest Hemingway: not to sung one ' s feel , not to sung albacores , not to lay movements <pad> <pad> <pad> <eos>\n",
      "Decoded Oscar Wilde: not to proper one ' s self , not to following designed , not to lay uncivilised <pad> <pad> <pad> <eos>\n",
      "-------------------- Author Ernest Hemingway --------------------\n",
      "Real: i must <unk> remember to eat the tuna after it gets light <pad> <pad> <pad> <pad> <pad> <pad> <pad> <pad> <eos>\n",
      "Decoded Friedrich Nietzsche: i must stretched remember to eat the passions after it declineth light <pad> <pad> <pad> <pad> <pad> <pad> <pad> <pad> <eos>\n",
      "Decoded Ernest Hemingway: i must waken remember to eat the tuna after it tonight light <pad> <pad> <pad> <pad> <pad> <pad> <pad> <pad> <eos>\n",
      "Decoded Oscar Wilde: i must declined remember to eat the passions after it sulks light <pad> <pad> <pad> <pad> <pad> <pad> <pad> <pad> <eos>\n",
      "-------------------- Author Oscar Wilde --------------------\n",
      "Real: i must go out and sit in the garden <pad> <pad> <pad> <pad> <pad> <pad> <pad> <pad> <pad> <pad> <pad> <eos>\n",
      "Decoded Friedrich Nietzsche: i must go out and sit in the garden <pad> <pad> <pad> <pad> <pad> <pad> <pad> <pad> <pad> <pad> <pad> <eos>\n",
      "Decoded Ernest Hemingway: i must go out and sit in the garden <pad> <pad> <pad> <pad> <pad> <pad> <pad> <pad> <pad> <pad> <pad> <eos>\n",
      "Decoded Oscar Wilde: i must go out and sit in the garden <pad> <pad> <pad> <pad> <pad> <pad> <pad> <pad> <pad> <pad> <pad> <eos>\n",
      "\n"
     ]
    },
    {
     "data": {
      "application/vnd.jupyter.widget-view+json": {
       "model_id": "61c475f02bdb4e50b146427ae257a161",
       "version_major": 2,
       "version_minor": 0
      },
      "text/plain": [
       "HBox(children=(FloatProgress(value=0.0, max=208.0), HTML(value='')))"
      ]
     },
     "metadata": {},
     "output_type": "display_data"
    },
    {
     "name": "stdout",
     "output_type": "stream",
     "text": [
      "\n",
      "*************************** EPOCH 32 ***************************\n"
     ]
    },
    {
     "data": {
      "application/vnd.jupyter.widget-view+json": {
       "model_id": "9158ef0902aa48bf93884f716b4c6737",
       "version_major": 2,
       "version_minor": 0
      },
      "text/plain": [
       "HBox(children=(FloatProgress(value=0.0, max=485.0), HTML(value='')))"
      ]
     },
     "metadata": {},
     "output_type": "display_data"
    },
    {
     "name": "stdout",
     "output_type": "stream",
     "text": [
      "-------------------- Author Friedrich Nietzsche --------------------\n",
      "Real: and he who loveth his god <unk> him <pad> <pad> <pad> <pad> <pad> <pad> <pad> <pad> <pad> <pad> <pad> <pad> <eos>\n",
      "Decoded Friedrich Nietzsche: and he who loveth his god grind him <pad> <pad> <pad> <pad> <pad> <pad> <pad> <pad> <pad> <pad> <pad> <pad> <eos>\n",
      "Decoded Ernest Hemingway: and he who holding his god prolongs him <pad> <pad> <pad> <pad> <pad> <pad> <pad> <pad> <pad> <pad> <pad> <pad> <eos>\n",
      "Decoded Oscar Wilde: and he who lose his god ethical him <pad> <pad> <pad> <pad> <pad> <pad> <pad> <pad> <pad> <pad> <pad> <pad> <eos>\n",
      "-------------------- Author Ernest Hemingway --------------------\n",
      "Real: they beat me , manolin , he said <pad> <pad> <pad> <pad> <pad> <pad> <pad> <pad> <pad> <pad> <pad> <pad> <eos>\n",
      "Decoded Friedrich Nietzsche: they beat me , enraptureth , he said <pad> <pad> <pad> <pad> <pad> <pad> <pad> <pad> <pad> <pad> <pad> <pad> <eos>\n",
      "Decoded Ernest Hemingway: they beat me , sleeping , he said <pad> <pad> <pad> <pad> <pad> <pad> <pad> <pad> <pad> <pad> <pad> <pad> <eos>\n",
      "Decoded Oscar Wilde: they sighed me , hush , he said <pad> <pad> <pad> <pad> <pad> <pad> <pad> <pad> <pad> <pad> <pad> <pad> <eos>\n",
      "-------------------- Author Oscar Wilde --------------------\n",
      "Real: the joy of <unk> was my joy , and the sorrows of <unk> were mine also <pad> <pad> <pad> <pad> <eos>\n",
      "Decoded Friedrich Nietzsche: the joy of biblical was my joy , and the root of convalescence were mine also <pad> <pad> <pad> <pad> <eos>\n",
      "Decoded Ernest Hemingway: the male of masaccio was my beat , and the africa of board were mine also <pad> <pad> <pad> <pad> <eos>\n",
      "Decoded Oscar Wilde: the joy of largest was my joy , and the husbands of expensive were mine also <pad> <pad> <pad> <pad> <eos>\n",
      "\n"
     ]
    },
    {
     "data": {
      "application/vnd.jupyter.widget-view+json": {
       "model_id": "c2b3749ab65f40599067b2ed677548d4",
       "version_major": 2,
       "version_minor": 0
      },
      "text/plain": [
       "HBox(children=(FloatProgress(value=0.0, max=208.0), HTML(value='')))"
      ]
     },
     "metadata": {},
     "output_type": "display_data"
    },
    {
     "name": "stdout",
     "output_type": "stream",
     "text": [
      "\n",
      "*************************** EPOCH 33 ***************************\n"
     ]
    },
    {
     "data": {
      "application/vnd.jupyter.widget-view+json": {
       "model_id": "d4731156e42840f2b73bb28c0bbd64c5",
       "version_major": 2,
       "version_minor": 0
      },
      "text/plain": [
       "HBox(children=(FloatProgress(value=0.0, max=485.0), HTML(value='')))"
      ]
     },
     "metadata": {},
     "output_type": "display_data"
    },
    {
     "name": "stdout",
     "output_type": "stream",
     "text": [
      "-------------------- Author Friedrich Nietzsche --------------------\n",
      "Real: the same instinct which prompts the inferior to reduce their own god to goodness in itself also prompts them to <eos>\n",
      "Decoded Friedrich Nietzsche: the same instinct which series the mediocre to tick their own god to reawakened in itself also series them to <eos>\n",
      "Decoded Ernest Hemingway: the same scent which planes the thoughtful to awash their own god to elbows in itself also claws them to <eos>\n",
      "Decoded Oscar Wilde: the same answer which louder the standard to interfere their own god to happen in itself also possesses them to <eos>\n",
      "-------------------- Author Ernest Hemingway --------------------\n",
      "Real: that was bound to come <pad> <pad> <pad> <pad> <pad> <pad> <pad> <pad> <pad> <pad> <pad> <pad> <pad> <pad> <pad> <eos>\n",
      "Decoded Friedrich Nietzsche: that was priestly to come <pad> <pad> <pad> <pad> <pad> <pad> <pad> <pad> <pad> <pad> <pad> <pad> <pad> <pad> <pad> <eos>\n",
      "Decoded Ernest Hemingway: that was hot to come <pad> <pad> <pad> <pad> <pad> <pad> <pad> <pad> <pad> <pad> <pad> <pad> <pad> <pad> <pad> <eos>\n",
      "Decoded Oscar Wilde: that was bound to come <pad> <pad> <pad> <pad> <pad> <pad> <pad> <pad> <pad> <pad> <pad> <pad> <pad> <pad> <pad> <eos>\n",
      "-------------------- Author Oscar Wilde --------------------\n",
      "Real: do stay <pad> <pad> <pad> <pad> <pad> <pad> <pad> <pad> <pad> <pad> <pad> <pad> <pad> <pad> <pad> <pad> <pad> <pad> <eos>\n",
      "Decoded Friedrich Nietzsche: do stay <pad> <pad> <pad> <pad> <pad> <pad> <pad> <pad> <pad> <pad> <pad> <pad> <pad> <pad> <pad> <pad> <pad> <pad> <eos>\n",
      "Decoded Ernest Hemingway: do stay <pad> <pad> <pad> <pad> <pad> <pad> <pad> <pad> <pad> <pad> <pad> <pad> <pad> <pad> <pad> <pad> <pad> <pad> <eos>\n",
      "Decoded Oscar Wilde: do stay <pad> <pad> <pad> <pad> <pad> <pad> <pad> <pad> <pad> <pad> <pad> <pad> <pad> <pad> <pad> <pad> <pad> <pad> <eos>\n",
      "\n"
     ]
    },
    {
     "data": {
      "application/vnd.jupyter.widget-view+json": {
       "model_id": "e361922aa11c497fbea6f08fb9024563",
       "version_major": 2,
       "version_minor": 0
      },
      "text/plain": [
       "HBox(children=(FloatProgress(value=0.0, max=208.0), HTML(value='')))"
      ]
     },
     "metadata": {},
     "output_type": "display_data"
    },
    {
     "name": "stdout",
     "output_type": "stream",
     "text": [
      "\n",
      "*************************** EPOCH 34 ***************************\n"
     ]
    },
    {
     "data": {
      "application/vnd.jupyter.widget-view+json": {
       "model_id": "6d855df75b9a414ba57eb7fa01a2c706",
       "version_major": 2,
       "version_minor": 0
      },
      "text/plain": [
       "HBox(children=(FloatProgress(value=0.0, max=485.0), HTML(value='')))"
      ]
     },
     "metadata": {},
     "output_type": "display_data"
    },
    {
     "name": "stdout",
     "output_type": "stream",
     "text": [
      "-------------------- Author Friedrich Nietzsche --------------------\n",
      "Real: amongst such would i not build my <unk> <pad> <pad> <pad> <pad> <pad> <pad> <pad> <pad> <pad> <pad> <pad> <pad> <eos>\n",
      "Decoded Friedrich Nietzsche: amongst such would i not indecent my righteousness <pad> <pad> <pad> <pad> <pad> <pad> <pad> <pad> <pad> <pad> <pad> <pad> <eos>\n",
      "Decoded Ernest Hemingway: blade such would i not punched my dozen <pad> <pad> <pad> <pad> <pad> <pad> <pad> <pad> <pad> <pad> <pad> <pad> <eos>\n",
      "Decoded Oscar Wilde: amongst such would i not assert my violet <pad> <pad> <pad> <pad> <pad> <pad> <pad> <pad> <pad> <pad> <pad> <pad> <eos>\n",
      "-------------------- Author Ernest Hemingway --------------------\n",
      "Real: but what about the eighty seven of your great <unk> ? it could not happen twice <pad> <pad> <pad> <pad> <eos>\n",
      "Decoded Friedrich Nietzsche: but what about the leech else of your great erthrowing ? it could not happen twice <pad> <pad> <pad> <pad> <eos>\n",
      "Decoded Ernest Hemingway: but what about the eighty seven of your great sung ? it could not happen bound <pad> <pad> <pad> <pad> <eos>\n",
      "Decoded Oscar Wilde: but what about the dreadful seven of your great rebuked ? it could not happen twice <pad> <pad> <pad> <pad> <eos>\n",
      "-------------------- Author Oscar Wilde --------------------\n",
      "Real: i know what pleasure is , cried dorian gray <pad> <pad> <pad> <pad> <pad> <pad> <pad> <pad> <pad> <pad> <pad> <eos>\n",
      "Decoded Friedrich Nietzsche: i know what pleasure is , cried fish german <pad> <pad> <pad> <pad> <pad> <pad> <pad> <pad> <pad> <pad> <pad> <eos>\n",
      "Decoded Ernest Hemingway: i know what given is , many fish gray <pad> <pad> <pad> <pad> <pad> <pad> <pad> <pad> <pad> <pad> <pad> <eos>\n",
      "Decoded Oscar Wilde: i know what pleasure is , cried dorian gray <pad> <pad> <pad> <pad> <pad> <pad> <pad> <pad> <pad> <pad> <pad> <eos>\n",
      "\n"
     ]
    },
    {
     "data": {
      "application/vnd.jupyter.widget-view+json": {
       "model_id": "53a0c506e1bd426396b91c0fca823273",
       "version_major": 2,
       "version_minor": 0
      },
      "text/plain": [
       "HBox(children=(FloatProgress(value=0.0, max=208.0), HTML(value='')))"
      ]
     },
     "metadata": {},
     "output_type": "display_data"
    },
    {
     "name": "stdout",
     "output_type": "stream",
     "text": [
      "\n",
      "*************************** EPOCH 35 ***************************\n"
     ]
    },
    {
     "data": {
      "application/vnd.jupyter.widget-view+json": {
       "model_id": "6862ef1af87544b38eb5b01b755ad025",
       "version_major": 2,
       "version_minor": 0
      },
      "text/plain": [
       "HBox(children=(FloatProgress(value=0.0, max=485.0), HTML(value='')))"
      ]
     },
     "metadata": {},
     "output_type": "display_data"
    },
    {
     "name": "stdout",
     "output_type": "stream",
     "text": [
      "-------------------- Author Friedrich Nietzsche --------------------\n",
      "Real: and no one knew how to <unk> him <pad> <pad> <pad> <pad> <pad> <pad> <pad> <pad> <pad> <pad> <pad> <pad> <eos>\n",
      "Decoded Friedrich Nietzsche: and no one knew how to warn him <pad> <pad> <pad> <pad> <pad> <pad> <pad> <pad> <pad> <pad> <pad> <pad> <eos>\n",
      "Decoded Ernest Hemingway: and no one knew how to bumping him <pad> <pad> <pad> <pad> <pad> <pad> <pad> <pad> <pad> <pad> <pad> <pad> <eos>\n",
      "Decoded Oscar Wilde: and no one knew how to animalism him <pad> <pad> <pad> <pad> <pad> <pad> <pad> <pad> <pad> <pad> <pad> <pad> <eos>\n",
      "-------------------- Author Ernest Hemingway --------------------\n",
      "Real: and pain does not matter to a man <pad> <pad> <pad> <pad> <pad> <pad> <pad> <pad> <pad> <pad> <pad> <pad> <eos>\n",
      "Decoded Friedrich Nietzsche: and pain does not matter to a man <pad> <pad> <pad> <pad> <pad> <pad> <pad> <pad> <pad> <pad> <pad> <pad> <eos>\n",
      "Decoded Ernest Hemingway: and pain feeling not matter to a man <pad> <pad> <pad> <pad> <pad> <pad> <pad> <pad> <pad> <pad> <pad> <pad> <eos>\n",
      "Decoded Oscar Wilde: and pain does not matter to a man <pad> <pad> <pad> <pad> <pad> <pad> <pad> <pad> <pad> <pad> <pad> <pad> <eos>\n",
      "-------------------- Author Oscar Wilde --------------------\n",
      "Real: don ' t , harry <pad> <pad> <pad> <pad> <pad> <pad> <pad> <pad> <pad> <pad> <pad> <pad> <pad> <pad> <pad> <eos>\n",
      "Decoded Friedrich Nietzsche: don ' t , woe <pad> <pad> <pad> <pad> <pad> <pad> <pad> <pad> <pad> <pad> <pad> <pad> <pad> <pad> <pad> <eos>\n",
      "Decoded Ernest Hemingway: don ' t , tuna <pad> <pad> <pad> <pad> <pad> <pad> <pad> <pad> <pad> <pad> <pad> <pad> <pad> <pad> <pad> <eos>\n",
      "Decoded Oscar Wilde: don ' t , harry <pad> <pad> <pad> <pad> <pad> <pad> <pad> <pad> <pad> <pad> <pad> <pad> <pad> <pad> <pad> <eos>\n",
      "\n"
     ]
    },
    {
     "data": {
      "application/vnd.jupyter.widget-view+json": {
       "model_id": "049c0d59e388451681baa6ac95294933",
       "version_major": 2,
       "version_minor": 0
      },
      "text/plain": [
       "HBox(children=(FloatProgress(value=0.0, max=208.0), HTML(value='')))"
      ]
     },
     "metadata": {},
     "output_type": "display_data"
    },
    {
     "name": "stdout",
     "output_type": "stream",
     "text": [
      "\n",
      "*************************** EPOCH 36 ***************************\n"
     ]
    },
    {
     "data": {
      "application/vnd.jupyter.widget-view+json": {
       "model_id": "565ea94ee1254e56a93337bd55b01a65",
       "version_major": 2,
       "version_minor": 0
      },
      "text/plain": [
       "HBox(children=(FloatProgress(value=0.0, max=485.0), HTML(value='')))"
      ]
     },
     "metadata": {},
     "output_type": "display_data"
    },
    {
     "name": "stdout",
     "output_type": "stream",
     "text": [
      "-------------------- Author Friedrich Nietzsche --------------------\n",
      "Real: it is not society , but the only sort of happiness that the majority are capable of , that makes <eos>\n",
      "Decoded Friedrich Nietzsche: it is not society , but the only sort of happiness that the shell are capable of , that makes <eos>\n",
      "Decoded Ernest Hemingway: it is not walked , but the only sort of fish that the major are caught of , that makes <eos>\n",
      "Decoded Oscar Wilde: it is not society , but the only sort of happiness that the gloom are eight of , that makes <eos>\n",
      "-------------------- Author Ernest Hemingway --------------------\n",
      "Real: there were other boats from the other <unk> going out to sea and the old man heard the dip and <eos>\n",
      "Decoded Friedrich Nietzsche: there were other wonder from the other recluse going out to sea and the old man heard the performance and <eos>\n",
      "Decoded Ernest Hemingway: there were other boats from the other annulled going out to sea and the old man heard the tension and <eos>\n",
      "Decoded Oscar Wilde: there were other venice from the other rebuked going out to sea and the old man heard the pause and <eos>\n",
      "-------------------- Author Oscar Wilde --------------------\n",
      "Real: she was extremely annoyed at the tone he had <unk> with her , and there was something in his look <eos>\n",
      "Decoded Friedrich Nietzsche: she was unhappy bid at the crowding he had series with her , and there was something in his look <eos>\n",
      "Decoded Ernest Hemingway: she was bull masaccio at the anæsthetic he had waken with her , and there was something in his look <eos>\n",
      "Decoded Oscar Wilde: she was extremely off at the strangest he had declined with her , and there was something in his look <eos>\n",
      "\n"
     ]
    },
    {
     "data": {
      "application/vnd.jupyter.widget-view+json": {
       "model_id": "ec6fd1f41d844dde8a692de65423da82",
       "version_major": 2,
       "version_minor": 0
      },
      "text/plain": [
       "HBox(children=(FloatProgress(value=0.0, max=208.0), HTML(value='')))"
      ]
     },
     "metadata": {},
     "output_type": "display_data"
    },
    {
     "name": "stdout",
     "output_type": "stream",
     "text": [
      "\n",
      "*************************** EPOCH 37 ***************************\n"
     ]
    },
    {
     "data": {
      "application/vnd.jupyter.widget-view+json": {
       "model_id": "ba5d6ec571254bd08b95fe986f43d50d",
       "version_major": 2,
       "version_minor": 0
      },
      "text/plain": [
       "HBox(children=(FloatProgress(value=0.0, max=485.0), HTML(value='')))"
      ]
     },
     "metadata": {},
     "output_type": "display_data"
    },
    {
     "name": "stdout",
     "output_type": "stream",
     "text": [
      "-------------------- Author Friedrich Nietzsche --------------------\n",
      "Real: in good spirits and joyful , because this day hath come to an end ! and thou thyself shalt dance <eos>\n",
      "Decoded Friedrich Nietzsche: in good counsel and goethe , because this day hath come to an end ! and thou thyself shalt dance <eos>\n",
      "Decoded Ernest Hemingway: in good comfortable and shipped , because this day without come to an end ! and thou thought days colour <eos>\n",
      "Decoded Oscar Wilde: in good difficulty and victoria , because this day horribly come to an end ! and first going days dance <eos>\n",
      "-------------------- Author Ernest Hemingway --------------------\n",
      "Real: the old man was trying with both hands to keep the line just inside of breaking strength <pad> <pad> <pad> <eos>\n",
      "Decoded Friedrich Nietzsche: the old man was roaring with both hands to keep the rich just seemed of howl strength <pad> <pad> <pad> <eos>\n",
      "Decoded Ernest Hemingway: the old man was trying with both hands to keep the line just inside of breaking strength <pad> <pad> <pad> <eos>\n",
      "Decoded Oscar Wilde: the old man was trying with both hands to keep the line just seemed of crime doesn <pad> <pad> <pad> <eos>\n",
      "-------------------- Author Oscar Wilde --------------------\n",
      "Real: what is it that one was taught to say in one ' s boyhood ? ' lead us not into <eos>\n",
      "Decoded Friedrich Nietzsche: what is it that one was taught to say in one ' s winds ? ' reach us not into <eos>\n",
      "Decoded Ernest Hemingway: what is it that one was taught to say in one ' s basket ? ' moon us not into <eos>\n",
      "Decoded Oscar Wilde: what is it that one was taught to say in one ' s boyhood ? ' strongly us not into <eos>\n",
      "\n"
     ]
    },
    {
     "data": {
      "application/vnd.jupyter.widget-view+json": {
       "model_id": "62fa9a04798f49f7a5d0dab16e785f95",
       "version_major": 2,
       "version_minor": 0
      },
      "text/plain": [
       "HBox(children=(FloatProgress(value=0.0, max=208.0), HTML(value='')))"
      ]
     },
     "metadata": {},
     "output_type": "display_data"
    },
    {
     "name": "stdout",
     "output_type": "stream",
     "text": [
      "\n",
      "*************************** EPOCH 38 ***************************\n"
     ]
    },
    {
     "data": {
      "application/vnd.jupyter.widget-view+json": {
       "model_id": "437fb1246e2b45ed96c12569bee5346f",
       "version_major": 2,
       "version_minor": 0
      },
      "text/plain": [
       "HBox(children=(FloatProgress(value=0.0, max=485.0), HTML(value='')))"
      ]
     },
     "metadata": {},
     "output_type": "display_data"
    },
    {
     "name": "stdout",
     "output_type": "stream",
     "text": [
      "-------------------- Author Friedrich Nietzsche --------------------\n",
      "Real: and it is not those who lead out of danger that please you best , but those who lead you <eos>\n",
      "Decoded Friedrich Nietzsche: and it is not those who reach out of danger that hatred you best , but those who clearly you <eos>\n",
      "Decoded Ernest Hemingway: and it is not those who beaten out of son that please you best , but those who tension you <eos>\n",
      "Decoded Oscar Wilde: and it is not those who lead out of murder that please you best , but those who lead you <eos>\n",
      "-------------------- Author Ernest Hemingway --------------------\n",
      "Real: why not ? the old man said <pad> <pad> <pad> <pad> <pad> <pad> <pad> <pad> <pad> <pad> <pad> <pad> <pad> <eos>\n",
      "Decoded Friedrich Nietzsche: why not ? the old man said <pad> <pad> <pad> <pad> <pad> <pad> <pad> <pad> <pad> <pad> <pad> <pad> <pad> <eos>\n",
      "Decoded Ernest Hemingway: why not ? the old man said <pad> <pad> <pad> <pad> <pad> <pad> <pad> <pad> <pad> <pad> <pad> <pad> <pad> <eos>\n",
      "Decoded Oscar Wilde: why not ? the old man said <pad> <pad> <pad> <pad> <pad> <pad> <pad> <pad> <pad> <pad> <pad> <pad> <pad> <eos>\n",
      "-------------------- Author Oscar Wilde --------------------\n",
      "Real: all that it really <unk> was that our future would be the same as our past , and that the <eos>\n",
      "Decoded Friedrich Nietzsche: all that it really inferior was that our future would be the same as our past , and that the <eos>\n",
      "Decoded Ernest Hemingway: all that it really prolongs was that our job would be the same as our past , and that the <eos>\n",
      "Decoded Oscar Wilde: all that it really animalism was that our future would be the same as our past , and that the <eos>\n",
      "\n"
     ]
    },
    {
     "data": {
      "application/vnd.jupyter.widget-view+json": {
       "model_id": "d702557a7c8a448aa6085d22ee989223",
       "version_major": 2,
       "version_minor": 0
      },
      "text/plain": [
       "HBox(children=(FloatProgress(value=0.0, max=208.0), HTML(value='')))"
      ]
     },
     "metadata": {},
     "output_type": "display_data"
    },
    {
     "name": "stdout",
     "output_type": "stream",
     "text": [
      "\n",
      "*************************** EPOCH 39 ***************************\n"
     ]
    },
    {
     "data": {
      "application/vnd.jupyter.widget-view+json": {
       "model_id": "d99da57463aa4d2eb379a74a0295163c",
       "version_major": 2,
       "version_minor": 0
      },
      "text/plain": [
       "HBox(children=(FloatProgress(value=0.0, max=485.0), HTML(value='')))"
      ]
     },
     "metadata": {},
     "output_type": "display_data"
    },
    {
     "name": "stdout",
     "output_type": "stream",
     "text": [
      "-------------------- Author Friedrich Nietzsche --------------------\n",
      "Real: but he moved his hand as if he sought the hand of zarathustra in gratitude <pad> <pad> <pad> <pad> <pad> <eos>\n",
      "Decoded Friedrich Nietzsche: but he moved his hand as if he sought the hand of zarathustra in grandmothers <pad> <pad> <pad> <pad> <pad> <eos>\n",
      "Decoded Ernest Hemingway: but he moved his hand as if he watched the hand of turn in crisped <pad> <pad> <pad> <pad> <pad> <eos>\n",
      "Decoded Oscar Wilde: but he moved his hand as if he sought the hand of mr in parma <pad> <pad> <pad> <pad> <pad> <eos>\n",
      "-------------------- Author Ernest Hemingway --------------------\n",
      "Real: yes , the old man said <pad> <pad> <pad> <pad> <pad> <pad> <pad> <pad> <pad> <pad> <pad> <pad> <pad> <pad> <eos>\n",
      "Decoded Friedrich Nietzsche: yes , the old man said <pad> <pad> <pad> <pad> <pad> <pad> <pad> <pad> <pad> <pad> <pad> <pad> <pad> <pad> <eos>\n",
      "Decoded Ernest Hemingway: yes , the old man said <pad> <pad> <pad> <pad> <pad> <pad> <pad> <pad> <pad> <pad> <pad> <pad> <pad> <pad> <eos>\n",
      "Decoded Oscar Wilde: yes , the old man said <pad> <pad> <pad> <pad> <pad> <pad> <pad> <pad> <pad> <pad> <pad> <pad> <pad> <pad> <eos>\n",
      "-------------------- Author Oscar Wilde --------------------\n",
      "Real: i know she goes in for giving a <unk> <unk> of all her guests <pad> <pad> <pad> <pad> <pad> <pad> <eos>\n",
      "Decoded Friedrich Nietzsche: i know she goes in for cowardly a carrying philosopher of all her guests <pad> <pad> <pad> <pad> <pad> <pad> <eos>\n",
      "Decoded Ernest Hemingway: i know she goes in for joined a dozen prolongs of all her married <pad> <pad> <pad> <pad> <pad> <pad> <eos>\n",
      "Decoded Oscar Wilde: i know she played in for giving a violet absolution of all her groan <pad> <pad> <pad> <pad> <pad> <pad> <eos>\n",
      "\n"
     ]
    },
    {
     "data": {
      "application/vnd.jupyter.widget-view+json": {
       "model_id": "0f2708df0ceb48a8afe4b2cbaefdb67d",
       "version_major": 2,
       "version_minor": 0
      },
      "text/plain": [
       "HBox(children=(FloatProgress(value=0.0, max=208.0), HTML(value='')))"
      ]
     },
     "metadata": {},
     "output_type": "display_data"
    },
    {
     "name": "stdout",
     "output_type": "stream",
     "text": [
      "\n",
      "*************************** EPOCH 40 ***************************\n"
     ]
    },
    {
     "data": {
      "application/vnd.jupyter.widget-view+json": {
       "model_id": "e025ab32682a400d886aaf1e4ac7046f",
       "version_major": 2,
       "version_minor": 0
      },
      "text/plain": [
       "HBox(children=(FloatProgress(value=0.0, max=485.0), HTML(value='')))"
      ]
     },
     "metadata": {},
     "output_type": "display_data"
    },
    {
     "name": "stdout",
     "output_type": "stream",
     "text": [
      "-------------------- Author Friedrich Nietzsche --------------------\n",
      "Real: for in seeing the sufferer suffering thereof was i ashamed on account of his shame <pad> <pad> <pad> <pad> <pad> <eos>\n",
      "Decoded Friedrich Nietzsche: for in approve the sign suffering thereof was i ashamed on account of his shame <pad> <pad> <pad> <pad> <pad> <eos>\n",
      "Decoded Ernest Hemingway: for in disturb the sardines suffering out was i shadows on take of his steady <pad> <pad> <pad> <pad> <pad> <eos>\n",
      "Decoded Oscar Wilde: for in spite the stories suffering known was i trust on account of his shame <pad> <pad> <pad> <pad> <pad> <eos>\n",
      "-------------------- Author Ernest Hemingway --------------------\n",
      "Real: but it will do no good <pad> <pad> <pad> <pad> <pad> <pad> <pad> <pad> <pad> <pad> <pad> <pad> <pad> <pad> <eos>\n",
      "Decoded Friedrich Nietzsche: but it will do no good <pad> <pad> <pad> <pad> <pad> <pad> <pad> <pad> <pad> <pad> <pad> <pad> <pad> <pad> <eos>\n",
      "Decoded Ernest Hemingway: but it will do no good <pad> <pad> <pad> <pad> <pad> <pad> <pad> <pad> <pad> <pad> <pad> <pad> <pad> <pad> <eos>\n",
      "Decoded Oscar Wilde: but it will do no good <pad> <pad> <pad> <pad> <pad> <pad> <pad> <pad> <pad> <pad> <pad> <pad> <pad> <pad> <eos>\n",
      "-------------------- Author Oscar Wilde --------------------\n",
      "Real: the painter stared in amazement <pad> <pad> <pad> <pad> <pad> <pad> <pad> <pad> <pad> <pad> <pad> <pad> <pad> <pad> <pad> <eos>\n",
      "Decoded Friedrich Nietzsche: the genuine purr in willers <pad> <pad> <pad> <pad> <pad> <pad> <pad> <pad> <pad> <pad> <pad> <pad> <pad> <pad> <pad> <eos>\n",
      "Decoded Ernest Hemingway: the saw disturb in annulled <pad> <pad> <pad> <pad> <pad> <pad> <pad> <pad> <pad> <pad> <pad> <pad> <pad> <pad> <pad> <eos>\n",
      "Decoded Oscar Wilde: the painter strongly in amazement <pad> <pad> <pad> <pad> <pad> <pad> <pad> <pad> <pad> <pad> <pad> <pad> <pad> <pad> <pad> <eos>\n",
      "\n"
     ]
    },
    {
     "data": {
      "application/vnd.jupyter.widget-view+json": {
       "model_id": "1a2687f3a19b45c592520984bec85e15",
       "version_major": 2,
       "version_minor": 0
      },
      "text/plain": [
       "HBox(children=(FloatProgress(value=0.0, max=208.0), HTML(value='')))"
      ]
     },
     "metadata": {},
     "output_type": "display_data"
    },
    {
     "name": "stdout",
     "output_type": "stream",
     "text": [
      "\n",
      "*************************** EPOCH 41 ***************************\n"
     ]
    },
    {
     "data": {
      "application/vnd.jupyter.widget-view+json": {
       "model_id": "53ff6eead24248c89b74df54b4d78995",
       "version_major": 2,
       "version_minor": 0
      },
      "text/plain": [
       "HBox(children=(FloatProgress(value=0.0, max=485.0), HTML(value='')))"
      ]
     },
     "metadata": {},
     "output_type": "display_data"
    },
    {
     "name": "stdout",
     "output_type": "stream",
     "text": [
      "-------------------- Author Friedrich Nietzsche --------------------\n",
      "Real: if <unk> <unk> christianity , it has a <unk> right to do so : <unk> at least <unk> that it <eos>\n",
      "Decoded Friedrich Nietzsche: if inferior priesthood christianity , it has a seeker right to do so : philosopher at least mischief that it <eos>\n",
      "Decoded Ernest Hemingway: if hueso prolongs sharks , it has a dozen right to do so side movements at sometimes claws that it <eos>\n",
      "Decoded Oscar Wilde: if animalism toujours won , it has a violet right to do so : rebuked at least animalism that it <eos>\n",
      "-------------------- Author Ernest Hemingway --------------------\n",
      "Real: think of the great dimaggio <pad> <pad> <pad> <pad> <pad> <pad> <pad> <pad> <pad> <pad> <pad> <pad> <pad> <pad> <pad> <eos>\n",
      "Decoded Friedrich Nietzsche: think of the great drive <pad> <pad> <pad> <pad> <pad> <pad> <pad> <pad> <pad> <pad> <pad> <pad> <pad> <pad> <pad> <eos>\n",
      "Decoded Ernest Hemingway: think of the great dimaggio <pad> <pad> <pad> <pad> <pad> <pad> <pad> <pad> <pad> <pad> <pad> <pad> <pad> <pad> <pad> <eos>\n",
      "Decoded Oscar Wilde: think of the great modern <pad> <pad> <pad> <pad> <pad> <pad> <pad> <pad> <pad> <pad> <pad> <pad> <pad> <pad> <pad> <eos>\n",
      "-------------------- Author Oscar Wilde --------------------\n",
      "Real: one day , a fatal day i sometimes think , i determined to paint a wonderful portrait of you as <eos>\n",
      "Decoded Friedrich Nietzsche: one day , a crowd day i knowest think , i seekest to wars a pure holy of you as <eos>\n",
      "Decoded Ernest Hemingway: one day , a promise day i sometimes think , i killed to thoughtful a paper fishermen of you as <eos>\n",
      "Decoded Oscar Wilde: one day , a inquest day i sometimes think , i determined to animalism a wonderful portrait of you as <eos>\n",
      "\n"
     ]
    },
    {
     "data": {
      "application/vnd.jupyter.widget-view+json": {
       "model_id": "9335b745cbe94030bbfe32fe3ab30b41",
       "version_major": 2,
       "version_minor": 0
      },
      "text/plain": [
       "HBox(children=(FloatProgress(value=0.0, max=208.0), HTML(value='')))"
      ]
     },
     "metadata": {},
     "output_type": "display_data"
    },
    {
     "name": "stdout",
     "output_type": "stream",
     "text": [
      "\n",
      "*************************** EPOCH 42 ***************************\n"
     ]
    },
    {
     "data": {
      "application/vnd.jupyter.widget-view+json": {
       "model_id": "551942ab0e6f4140be83712709734615",
       "version_major": 2,
       "version_minor": 0
      },
      "text/plain": [
       "HBox(children=(FloatProgress(value=0.0, max=485.0), HTML(value='')))"
      ]
     },
     "metadata": {},
     "output_type": "display_data"
    },
    {
     "name": "stdout",
     "output_type": "stream",
     "text": [
      "-------------------- Author Friedrich Nietzsche --------------------\n",
      "Real: to him will all landmarks themselves fly into the air <pad> <pad> <pad> <pad> <pad> <pad> <pad> <pad> <pad> <pad> <eos>\n",
      "Decoded Friedrich Nietzsche: to him will all warn themselves fly into the air <pad> <pad> <pad> <pad> <pad> <pad> <pad> <pad> <pad> <pad> <eos>\n",
      "Decoded Ernest Hemingway: to him will all fifty themselves rising into the air <pad> <pad> <pad> <pad> <pad> <pad> <pad> <pad> <pad> <pad> <eos>\n",
      "Decoded Oscar Wilde: to him will all infinite themselves fly into the air <pad> <pad> <pad> <pad> <pad> <pad> <pad> <pad> <pad> <pad> <eos>\n",
      "-------------------- Author Ernest Hemingway --------------------\n",
      "Real: he was too tired even to <unk> the line and he <unk> on it as his delicate feet <unk> it <eos>\n",
      "Decoded Friedrich Nietzsche: he was too tired even to aphrodisiacal the line and he needs on it as his revelation feet philosopher it <eos>\n",
      "Decoded Ernest Hemingway: he was too tired even to sung the line and he blab on it as his changes feet della it <eos>\n",
      "Decoded Oscar Wilde: he was too tired even to animalism the line and he rebuked on it as his delicate feet dashed it <eos>\n",
      "-------------------- Author Oscar Wilde --------------------\n",
      "Real: he felt a little <unk> at first , but afterwards was sensible enough to see that there was a great <eos>\n",
      "Decoded Friedrich Nietzsche: he felt a little warn at first , but venturers was buzz enough to see that there was a great <eos>\n",
      "Decoded Ernest Hemingway: he felt a little austrian at first , but east was albacores enough to see that there was a great <eos>\n",
      "Decoded Oscar Wilde: he felt a little animalism at first , but dream was practice enough to see that there was a great <eos>\n",
      "\n"
     ]
    },
    {
     "data": {
      "application/vnd.jupyter.widget-view+json": {
       "model_id": "763efb1aa13e430fa9ba4634650ffd83",
       "version_major": 2,
       "version_minor": 0
      },
      "text/plain": [
       "HBox(children=(FloatProgress(value=0.0, max=208.0), HTML(value='')))"
      ]
     },
     "metadata": {},
     "output_type": "display_data"
    },
    {
     "name": "stdout",
     "output_type": "stream",
     "text": [
      "\n",
      "*************************** EPOCH 43 ***************************\n"
     ]
    },
    {
     "data": {
      "application/vnd.jupyter.widget-view+json": {
       "model_id": "090cc3d562cf4fa2a8a99b0270a1b2dd",
       "version_major": 2,
       "version_minor": 0
      },
      "text/plain": [
       "HBox(children=(FloatProgress(value=0.0, max=485.0), HTML(value='')))"
      ]
     },
     "metadata": {},
     "output_type": "display_data"
    },
    {
     "name": "stdout",
     "output_type": "stream",
     "text": [
      "-------------------- Author Friedrich Nietzsche --------------------\n",
      "Real: your enemy shall ye seek <pad> <pad> <pad> <pad> <pad> <pad> <pad> <pad> <pad> <pad> <pad> <pad> <pad> <pad> <pad> <eos>\n",
      "Decoded Friedrich Nietzsche: your enemy shall ye seek <pad> <pad> <pad> <pad> <pad> <pad> <pad> <pad> <pad> <pad> <pad> <pad> <pad> <pad> <pad> <eos>\n",
      "Decoded Ernest Hemingway: your boats killed would carried <pad> <pad> <pad> <pad> <pad> <pad> <pad> <pad> <pad> <pad> <pad> <pad> <pad> <pad> <pad> <eos>\n",
      "Decoded Oscar Wilde: your washington shall quite money <pad> <pad> <pad> <pad> <pad> <pad> <pad> <pad> <pad> <pad> <pad> <pad> <pad> <pad> <pad> <eos>\n",
      "-------------------- Author Ernest Hemingway --------------------\n",
      "Real: bad <unk> for you , fish , he said and <unk> the line over the sacks that covered his shoulders <eos>\n",
      "Decoded Friedrich Nietzsche: bad abstain for you , fish , he said and cobwebs the happiness over the sacks that covered his shoulders <eos>\n",
      "Decoded Ernest Hemingway: bad austrian for you , fish , he said and claws the line over the sacks that covered his shoulders <eos>\n",
      "Decoded Oscar Wilde: bad ethical for you , dorian , he said and rebuked the line over the moist that covered his shoulders <eos>\n",
      "-------------------- Author Oscar Wilde --------------------\n",
      "Real: he was looking <unk> , and when he heard lord henry ' s last <unk> he glanced at him , <eos>\n",
      "Decoded Friedrich Nietzsche: he was looking priesthood , and when he heard lord ones ' s last needs he simile at him , <eos>\n",
      "Decoded Ernest Hemingway: he was looking masaccio , and when he heard and boat ' s last board he died at him , <eos>\n",
      "Decoded Oscar Wilde: he was looking animalism , and when he heard lord henry ' s last animalism he glanced at him , <eos>\n",
      "\n"
     ]
    },
    {
     "data": {
      "application/vnd.jupyter.widget-view+json": {
       "model_id": "ab9caa2547084f16be1025ba881478c1",
       "version_major": 2,
       "version_minor": 0
      },
      "text/plain": [
       "HBox(children=(FloatProgress(value=0.0, max=208.0), HTML(value='')))"
      ]
     },
     "metadata": {},
     "output_type": "display_data"
    },
    {
     "name": "stdout",
     "output_type": "stream",
     "text": [
      "\n",
      "*************************** EPOCH 44 ***************************\n"
     ]
    },
    {
     "data": {
      "application/vnd.jupyter.widget-view+json": {
       "model_id": "97a0cd189f8c4798b48891444c0b2852",
       "version_major": 2,
       "version_minor": 0
      },
      "text/plain": [
       "HBox(children=(FloatProgress(value=0.0, max=485.0), HTML(value='')))"
      ]
     },
     "metadata": {},
     "output_type": "display_data"
    },
    {
     "name": "stdout",
     "output_type": "stream",
     "text": [
      "-------------------- Author Friedrich Nietzsche --------------------\n",
      "Real: be it forgotten and dead , still its <unk> of light liveth and <unk> <pad> <pad> <pad> <pad> <pad> <pad> <eos>\n",
      "Decoded Friedrich Nietzsche: be it whether and dead , still its erthrowing of light liveth and involuntarily <pad> <pad> <pad> <pad> <pad> <pad> <eos>\n",
      "Decoded Ernest Hemingway: be it sets and dead , still its dozen of light de and spurt <pad> <pad> <pad> <pad> <pad> <pad> <eos>\n",
      "Decoded Oscar Wilde: be it forgotten and dead , still its graveless of light silk and clothe <pad> <pad> <pad> <pad> <pad> <pad> <eos>\n",
      "-------------------- Author Ernest Hemingway --------------------\n",
      "Real: the oars are a good <unk> <pad> <pad> <pad> <pad> <pad> <pad> <pad> <pad> <pad> <pad> <pad> <pad> <pad> <pad> <eos>\n",
      "Decoded Friedrich Nietzsche: the collapse are a good forbearing <pad> <pad> <pad> <pad> <pad> <pad> <pad> <pad> <pad> <pad> <pad> <pad> <pad> <pad> <eos>\n",
      "Decoded Ernest Hemingway: the oars are a good waken <pad> <pad> <pad> <pad> <pad> <pad> <pad> <pad> <pad> <pad> <pad> <pad> <pad> <pad> <eos>\n",
      "Decoded Oscar Wilde: the sense are a good ethical <pad> <pad> <pad> <pad> <pad> <pad> <pad> <pad> <pad> <pad> <pad> <pad> <pad> <pad> <eos>\n",
      "-------------------- Author Oscar Wilde --------------------\n",
      "Real: too like the lightning , which <unk> <unk> to be <unk> one can say , it <unk> <pad> <pad> <pad> <eos>\n",
      "Decoded Friedrich Nietzsche: too like the lightning , which aphrodisiacal needs to be aphrodisiacal one can say , it philosopher <pad> <pad> <pad> <eos>\n",
      "Decoded Ernest Hemingway: too like the tuna , which board movements to be board one can say , it lacked <pad> <pad> <pad> <eos>\n",
      "Decoded Oscar Wilde: too like the wainscoting , which animalism rebuked to be designed one can say , it possesses <pad> <pad> <pad> <eos>\n",
      "\n"
     ]
    },
    {
     "data": {
      "application/vnd.jupyter.widget-view+json": {
       "model_id": "2e22208edbbf4511a72aa1ac00ac9abc",
       "version_major": 2,
       "version_minor": 0
      },
      "text/plain": [
       "HBox(children=(FloatProgress(value=0.0, max=208.0), HTML(value='')))"
      ]
     },
     "metadata": {},
     "output_type": "display_data"
    },
    {
     "name": "stdout",
     "output_type": "stream",
     "text": [
      "\n",
      "*************************** EPOCH 45 ***************************\n"
     ]
    },
    {
     "data": {
      "application/vnd.jupyter.widget-view+json": {
       "model_id": "c461ede72eaf42058d8ff175d62a0884",
       "version_major": 2,
       "version_minor": 0
      },
      "text/plain": [
       "HBox(children=(FloatProgress(value=0.0, max=485.0), HTML(value='')))"
      ]
     },
     "metadata": {},
     "output_type": "display_data"
    },
    {
     "name": "stdout",
     "output_type": "stream",
     "text": [
      "-------------------- Author Friedrich Nietzsche --------------------\n",
      "Real: not to defend one ' s self , not to show anger , not to lay <unk> <pad> <pad> <pad> <eos>\n",
      "Decoded Friedrich Nietzsche: not to remoter one ' s self , not to show mocked , not to lay philosopher <pad> <pad> <pad> <eos>\n",
      "Decoded Ernest Hemingway: not to sung one ' s feel , not to lost tunas , not to lay movements <pad> <pad> <pad> <eos>\n",
      "Decoded Oscar Wilde: not to proper one ' s self , not to show designed , not to lay shine <pad> <pad> <pad> <eos>\n",
      "-------------------- Author Ernest Hemingway --------------------\n",
      "Real: the hungarians were backing their wagon out of an <unk> <pad> <pad> <pad> <pad> <pad> <pad> <pad> <pad> <pad> <pad> <eos>\n",
      "Decoded Friedrich Nietzsche: the intellect were triumph their lusts out of an erthrowing <pad> <pad> <pad> <pad> <pad> <pad> <pad> <pad> <pad> <pad> <eos>\n",
      "Decoded Ernest Hemingway: the anæsthetic were fifty their chalk out of an waken <pad> <pad> <pad> <pad> <pad> <pad> <pad> <pad> <pad> <pad> <eos>\n",
      "Decoded Oscar Wilde: the gable were grace their victoria out of an darwinismus <pad> <pad> <pad> <pad> <pad> <pad> <pad> <pad> <pad> <pad> <eos>\n",
      "-------------------- Author Oscar Wilde --------------------\n",
      "Real: i knew that i had come face to face with someone whose mere personality was so fascinating that , if <eos>\n",
      "Decoded Friedrich Nietzsche: i knew that i had come face to face with downward whose mere shall was so power that , if <eos>\n",
      "Decoded Ernest Hemingway: i knew that i had come face to face with slid could against am was so away that , if <eos>\n",
      "Decoded Oscar Wilde: i knew that i had come face to face with someone whose mere personality was so fascinating that , if <eos>\n",
      "\n"
     ]
    },
    {
     "data": {
      "application/vnd.jupyter.widget-view+json": {
       "model_id": "73caf465a89d460498e5a0e16155c791",
       "version_major": 2,
       "version_minor": 0
      },
      "text/plain": [
       "HBox(children=(FloatProgress(value=0.0, max=208.0), HTML(value='')))"
      ]
     },
     "metadata": {},
     "output_type": "display_data"
    },
    {
     "name": "stdout",
     "output_type": "stream",
     "text": [
      "\n",
      "*************************** EPOCH 46 ***************************\n"
     ]
    },
    {
     "data": {
      "application/vnd.jupyter.widget-view+json": {
       "model_id": "5657742ad50747f08801701db6ba4316",
       "version_major": 2,
       "version_minor": 0
      },
      "text/plain": [
       "HBox(children=(FloatProgress(value=0.0, max=485.0), HTML(value='')))"
      ]
     },
     "metadata": {},
     "output_type": "display_data"
    },
    {
     "name": "stdout",
     "output_type": "stream",
     "text": [
      "-------------------- Author Friedrich Nietzsche --------------------\n",
      "Real: and he who loveth his god <unk> him <pad> <pad> <pad> <pad> <pad> <pad> <pad> <pad> <pad> <pad> <pad> <pad> <eos>\n",
      "Decoded Friedrich Nietzsche: and he who loveth his god grind him <pad> <pad> <pad> <pad> <pad> <pad> <pad> <pad> <pad> <pad> <pad> <pad> <eos>\n",
      "Decoded Ernest Hemingway: and he who holding his god lacked him <pad> <pad> <pad> <pad> <pad> <pad> <pad> <pad> <pad> <pad> <pad> <pad> <eos>\n",
      "Decoded Oscar Wilde: and he who pay his god ethical him <pad> <pad> <pad> <pad> <pad> <pad> <pad> <pad> <pad> <pad> <pad> <pad> <eos>\n",
      "-------------------- Author Ernest Hemingway --------------------\n",
      "Real: you did not do so badly for something <unk> , he said to his left hand <pad> <pad> <pad> <pad> <eos>\n",
      "Decoded Friedrich Nietzsche: you did not do so badly for something priesthood , he said to his left hand <pad> <pad> <pad> <pad> <eos>\n",
      "Decoded Ernest Hemingway: you did not do so during for something prolongs , he said to his left hand <pad> <pad> <pad> <pad> <eos>\n",
      "Decoded Oscar Wilde: you did not do so badly for something snatcher , he said to his left hand <pad> <pad> <pad> <pad> <eos>\n",
      "-------------------- Author Oscar Wilde --------------------\n",
      "Real: then he stretched out his hand , took a piece of paper , and wrote something on it <pad> <pad> <eos>\n",
      "Decoded Friedrich Nietzsche: then he stretched out his hand , took a piece of except , and soap something on it <pad> <pad> <eos>\n",
      "Decoded Ernest Hemingway: then he speeded out his hand , took a piece of paper , and blab something on it <pad> <pad> <eos>\n",
      "Decoded Oscar Wilde: then he stretched out his hand , took a piece of paper , and assert something on it <pad> <pad> <eos>\n",
      "\n"
     ]
    },
    {
     "data": {
      "application/vnd.jupyter.widget-view+json": {
       "model_id": "acd5e399ece244f29d330ada1bfbb41e",
       "version_major": 2,
       "version_minor": 0
      },
      "text/plain": [
       "HBox(children=(FloatProgress(value=0.0, max=208.0), HTML(value='')))"
      ]
     },
     "metadata": {},
     "output_type": "display_data"
    },
    {
     "name": "stdout",
     "output_type": "stream",
     "text": [
      "\n",
      "*************************** EPOCH 47 ***************************\n"
     ]
    },
    {
     "data": {
      "application/vnd.jupyter.widget-view+json": {
       "model_id": "5c9e8207234b4661b56852ceeaebe618",
       "version_major": 2,
       "version_minor": 0
      },
      "text/plain": [
       "HBox(children=(FloatProgress(value=0.0, max=485.0), HTML(value='')))"
      ]
     },
     "metadata": {},
     "output_type": "display_data"
    },
    {
     "name": "stdout",
     "output_type": "stream",
     "text": [
      "-------------------- Author Friedrich Nietzsche --------------------\n",
      "Real: the same instinct which prompts the inferior to reduce their own god to goodness in itself also prompts them to <eos>\n",
      "Decoded Friedrich Nietzsche: the same instinct which weakness the mediocre to enlinked their own god to reawakened in itself also series them to <eos>\n",
      "Decoded Ernest Hemingway: the same scent which planes the thoughtful to charge their own god to happen in itself also fearless them to <eos>\n",
      "Decoded Oscar Wilde: the same answer which designed the thinning to interfere their own god to wife in itself also possesses them to <eos>\n",
      "-------------------- Author Ernest Hemingway --------------------\n",
      "Real: he felt it go in and <unk> it was sharp he drove it in again <pad> <pad> <pad> <pad> <pad> <eos>\n",
      "Decoded Friedrich Nietzsche: he felt it go in and enamoured it was sharp he freedom it in again <pad> <pad> <pad> <pad> <pad> <eos>\n",
      "Decoded Ernest Hemingway: he felt it go in and prolongs it was sharp he drove it in again <pad> <pad> <pad> <pad> <pad> <eos>\n",
      "Decoded Oscar Wilde: he felt it go in and clothe it was perfectly he drove it in again <pad> <pad> <pad> <pad> <pad> <eos>\n",
      "-------------------- Author Oscar Wilde --------------------\n",
      "Real: i ' ll go to the stables myself <pad> <pad> <pad> <pad> <pad> <pad> <pad> <pad> <pad> <pad> <pad> <pad> <eos>\n",
      "Decoded Friedrich Nietzsche: i ' yet go to the spoil myself <pad> <pad> <pad> <pad> <pad> <pad> <pad> <pad> <pad> <pad> <pad> <pad> <eos>\n",
      "Decoded Ernest Hemingway: i ' ll go to the anæsthetic line <pad> <pad> <pad> <pad> <pad> <pad> <pad> <pad> <pad> <pad> <pad> <pad> <eos>\n",
      "Decoded Oscar Wilde: i ' ll go to the record myself <pad> <pad> <pad> <pad> <pad> <pad> <pad> <pad> <pad> <pad> <pad> <pad> <eos>\n",
      "\n"
     ]
    },
    {
     "data": {
      "application/vnd.jupyter.widget-view+json": {
       "model_id": "ad82f44286eb4a9a902f33869eb3420f",
       "version_major": 2,
       "version_minor": 0
      },
      "text/plain": [
       "HBox(children=(FloatProgress(value=0.0, max=208.0), HTML(value='')))"
      ]
     },
     "metadata": {},
     "output_type": "display_data"
    },
    {
     "name": "stdout",
     "output_type": "stream",
     "text": [
      "\n",
      "*************************** EPOCH 48 ***************************\n"
     ]
    },
    {
     "data": {
      "application/vnd.jupyter.widget-view+json": {
       "model_id": "8f798786c1ea46c5bfdc9e3c06c6ef68",
       "version_major": 2,
       "version_minor": 0
      },
      "text/plain": [
       "HBox(children=(FloatProgress(value=0.0, max=485.0), HTML(value='')))"
      ]
     },
     "metadata": {},
     "output_type": "display_data"
    },
    {
     "name": "stdout",
     "output_type": "stream",
     "text": [
      "-------------------- Author Friedrich Nietzsche --------------------\n",
      "Real: amongst such would i not build my <unk> <pad> <pad> <pad> <pad> <pad> <pad> <pad> <pad> <pad> <pad> <pad> <pad> <eos>\n",
      "Decoded Friedrich Nietzsche: amongst such would i not indecent my carrying <pad> <pad> <pad> <pad> <pad> <pad> <pad> <pad> <pad> <pad> <pad> <pad> <eos>\n",
      "Decoded Ernest Hemingway: beat such would i not punched my thoughtful <pad> <pad> <pad> <pad> <pad> <pad> <pad> <pad> <pad> <pad> <pad> <pad> <eos>\n",
      "Decoded Oscar Wilde: amongst such would i not subdued my pallor <pad> <pad> <pad> <pad> <pad> <pad> <pad> <pad> <pad> <pad> <pad> <pad> <eos>\n",
      "-------------------- Author Ernest Hemingway --------------------\n",
      "Real: we do not have them <pad> <pad> <pad> <pad> <pad> <pad> <pad> <pad> <pad> <pad> <pad> <pad> <pad> <pad> <pad> <eos>\n",
      "Decoded Friedrich Nietzsche: we do not have them <pad> <pad> <pad> <pad> <pad> <pad> <pad> <pad> <pad> <pad> <pad> <pad> <pad> <pad> <pad> <eos>\n",
      "Decoded Ernest Hemingway: we do not have them <pad> <pad> <pad> <pad> <pad> <pad> <pad> <pad> <pad> <pad> <pad> <pad> <pad> <pad> <pad> <eos>\n",
      "Decoded Oscar Wilde: we do not have them <pad> <pad> <pad> <pad> <pad> <pad> <pad> <pad> <pad> <pad> <pad> <pad> <pad> <pad> <pad> <eos>\n",
      "-------------------- Author Oscar Wilde --------------------\n",
      "Real: a sigh of relief broke from his <unk> lips , and the colour came back to his cheeks <pad> <pad> <eos>\n",
      "Decoded Friedrich Nietzsche: a sigh of simplicity longing from his seeker ones , and the strength came back to his prey <pad> <pad> <eos>\n",
      "Decoded Ernest Hemingway: a tension of desperate broke from his dozen harpoon , and the colour came back to his plan <pad> <pad> <eos>\n",
      "Decoded Oscar Wilde: a sigh of relief broke from his violet lips , and the colour came back to his motive <pad> <pad> <eos>\n",
      "\n"
     ]
    },
    {
     "data": {
      "application/vnd.jupyter.widget-view+json": {
       "model_id": "a886d1d139a740288ef75c1ed2fb284d",
       "version_major": 2,
       "version_minor": 0
      },
      "text/plain": [
       "HBox(children=(FloatProgress(value=0.0, max=208.0), HTML(value='')))"
      ]
     },
     "metadata": {},
     "output_type": "display_data"
    },
    {
     "name": "stdout",
     "output_type": "stream",
     "text": [
      "\n",
      "*************************** EPOCH 49 ***************************\n"
     ]
    },
    {
     "data": {
      "application/vnd.jupyter.widget-view+json": {
       "model_id": "1d09cdd4f08c4a4591d64ad4fb847b9a",
       "version_major": 2,
       "version_minor": 0
      },
      "text/plain": [
       "HBox(children=(FloatProgress(value=0.0, max=485.0), HTML(value='')))"
      ]
     },
     "metadata": {},
     "output_type": "display_data"
    },
    {
     "name": "stdout",
     "output_type": "stream",
     "text": [
      "-------------------- Author Friedrich Nietzsche --------------------\n",
      "Real: and no one knew how to <unk> him <pad> <pad> <pad> <pad> <pad> <pad> <pad> <pad> <pad> <pad> <pad> <pad> <eos>\n",
      "Decoded Friedrich Nietzsche: and no one knew how to warn him <pad> <pad> <pad> <pad> <pad> <pad> <pad> <pad> <pad> <pad> <pad> <pad> <eos>\n",
      "Decoded Ernest Hemingway: and no one knew how to charge him <pad> <pad> <pad> <pad> <pad> <pad> <pad> <pad> <pad> <pad> <pad> <pad> <eos>\n",
      "Decoded Oscar Wilde: and no one knew how to limit him <pad> <pad> <pad> <pad> <pad> <pad> <pad> <pad> <pad> <pad> <pad> <pad> <eos>\n",
      "-------------------- Author Ernest Hemingway --------------------\n",
      "Real: we ' re different , the old man said <pad> <pad> <pad> <pad> <pad> <pad> <pad> <pad> <pad> <pad> <pad> <eos>\n",
      "Decoded Friedrich Nietzsche: we ' poets different , the old man said <pad> <pad> <pad> <pad> <pad> <pad> <pad> <pad> <pad> <pad> <pad> <eos>\n",
      "Decoded Ernest Hemingway: we ' re different , the old man said <pad> <pad> <pad> <pad> <pad> <pad> <pad> <pad> <pad> <pad> <pad> <eos>\n",
      "Decoded Oscar Wilde: we ' coming different , the old man said <pad> <pad> <pad> <pad> <pad> <pad> <pad> <pad> <pad> <pad> <pad> <eos>\n",
      "-------------------- Author Oscar Wilde --------------------\n",
      "Real: louis <unk> had gold embroidered <unk> fifteen feet high in his apartment <pad> <pad> <pad> <pad> <pad> <pad> <pad> <pad> <eos>\n",
      "Decoded Friedrich Nietzsche: heartily ashore had gold sized philosopher shrivelled feet high in his recluse <pad> <pad> <pad> <pad> <pad> <pad> <pad> <pad> <eos>\n",
      "Decoded Ernest Hemingway: senta lacked had backed desperately movements drop feet high in his proprietor <pad> <pad> <pad> <pad> <pad> <pad> <pad> <pad> <eos>\n",
      "Decoded Oscar Wilde: louis riband had gold vestments rebuked specially feet high in his agitated <pad> <pad> <pad> <pad> <pad> <pad> <pad> <pad> <eos>\n",
      "\n"
     ]
    },
    {
     "data": {
      "application/vnd.jupyter.widget-view+json": {
       "model_id": "b4c2c1fd51af404696d4fcaa7a9f49c2",
       "version_major": 2,
       "version_minor": 0
      },
      "text/plain": [
       "HBox(children=(FloatProgress(value=0.0, max=208.0), HTML(value='')))"
      ]
     },
     "metadata": {},
     "output_type": "display_data"
    },
    {
     "name": "stdout",
     "output_type": "stream",
     "text": [
      "\n"
     ]
    }
   ],
   "source": [
    "# Define steps where examples will be sampled \n",
    "test_dls_its = [ iter(test_dataloaders[idx]) for idx, _ in enumerate(AUTHORS) ]\n",
    "\n",
    "# For EPOCHS\n",
    "for epoch in range(last_epoch + 1, EPOCHS + last_epoch):\n",
    "    \n",
    "    print('*************************** EPOCH {} ***************************'.format(epoch))\n",
    "\n",
    "    # Restart train datasets\n",
    "    train_dls_its = [ iter(train_dataloaders[idx]) for idx, _ in enumerate(AUTHORS) ]\n",
    "    # Get max of dataloaders lengths\n",
    "    total_batches = max([ len(train_dataloaders[idx]) for idx, _ in enumerate(AUTHORS)  ])\n",
    "    # Progress bar for training dataset\n",
    "    progress_bar = tqdm(range(total_batches))\n",
    "    \n",
    "    train_loss = 0\n",
    "\n",
    "    # For all data in training dataset\n",
    "    # Training\n",
    "    for batch_idx in progress_bar:\n",
    "        \n",
    "        # Add train loss to progress bar\n",
    "        progress_bar.set_postfix({\n",
    "            'tr_loss': train_loss / (batch_idx + 1), \n",
    "            'lr': scheduler.get_lr()[0]\n",
    "        })\n",
    "\n",
    "        # Train step\n",
    "        source, target = sample(train_dls_its, train_dataloaders, device)\n",
    "        train_loss += train_step(model, loss_fn, optimizer, source, target)\n",
    "\n",
    "\n",
    "        if batch_idx == 0:\n",
    "            source, target = sample(test_dls_its, test_dataloaders, device)\n",
    "            \n",
    "            for idx, author in enumerate(AUTHORS):\n",
    "                \n",
    "                src = [source[idx]] * len(AUTHORS)\n",
    "                tgt = [target[idx]] * len(AUTHORS)\n",
    "                                \n",
    "                with torch.no_grad():\n",
    "                    _, decodings = val_step(model, loss_fn, src, tgt)\n",
    "                \n",
    "                # Print real sentence\n",
    "                real = vocab.to_words(src[idx][0].cpu().numpy())\n",
    "                print('-------------------- Author {} --------------------'.format(author))\n",
    "                print('Real: {}'.format(' '.join(real)))\n",
    "                \n",
    "                \n",
    "                # Decode and print recovered sentences\n",
    "                for jdx, jauthor in enumerate(AUTHORS):\n",
    "                    decoded_sent = torch.argmax(decodings[jdx][0], dim=-1).cpu().numpy()\n",
    "                    \n",
    "                    print('***************************************************')\n",
    "                    print('Decoded {}: {}'.format(jauthor, ' '.join(vocab.to_words(decoded_sent))))\n",
    "\n",
    "    # Validation\n",
    "    val_dls_its = [ iter(test_dataloaders[idx]) for idx, _ in enumerate(AUTHORS) ]\n",
    "    total_batches = max([ len(test_dataloaders[idx]) for idx, _ in enumerate(AUTHORS)  ])\n",
    "    \n",
    "    # Progress bar for training dataset\n",
    "    progress_bar = tqdm(range(total_batches))\n",
    "    val_loss = 0\n",
    "\n",
    "    for batch_idx in progress_bar:\n",
    "        progress_bar.set_postfix({\n",
    "            'val_loss': val_loss / (batch_idx + 1)\n",
    "        })\n",
    "                \n",
    "        source, target = sample(test_dls_its, test_dataloaders, device)\n",
    "        with torch.no_grad():\n",
    "            val_loss += val_step(model, loss_fn, source, target)[0]\n",
    "    \n",
    "    # Save losses in history\n",
    "    train_loss_history.append(train_loss / len(train_dataloader))\n",
    "    val_loss_history.append(val_loss / len(test_dataloader))\n",
    "    \n",
    "    # If this model is best than other\n",
    "    if best_val_loss is None or val_loss < best_val_loss:\n",
    "        best_val_loss = val_loss\n",
    "        \n",
    "        save_model_state(\n",
    "            os.path.join(CHECKPOINT_BASE, 'best.pt'), \n",
    "            model, \n",
    "            optimizer, \n",
    "            epoch, \n",
    "            train_loss_history, \n",
    "            val_loss_history, \n",
    "            best_val_loss\n",
    "        )\n",
    "        \n",
    "    # Save last model\n",
    "    save_model_state(\n",
    "        os.path.join(CHECKPOINT_BASE, 'last.pt'), \n",
    "        model, \n",
    "        optimizer, \n",
    "        epoch, \n",
    "        train_loss_history, \n",
    "        val_loss_history, \n",
    "        best_val_loss\n",
    "    )    \n",
    "    \n",
    "    scheduler.step()    "
   ]
  },
  {
   "cell_type": "code",
   "execution_count": 14,
   "metadata": {},
   "outputs": [
    {
     "data": {
      "image/png": "[encoded data removed]",
      "text/plain": [
       "<Figure size 1080x576 with 1 Axes>"
      ]
     },
     "metadata": {
      "needs_background": "light"
     },
     "output_type": "display_data"
    }
   ],
   "source": [
    "x = [epoch for epoch in range(len(train_loss_history))]\n",
    "plt.figure(figsize=(15, 8))\n",
    "\n",
    "plt.xlabel('Epoch')\n",
    "plt.ylabel('Loss')\n",
    "plt.title('Training and validation loss')\n",
    "\n",
    "plt.plot(x, train_loss_history, label='Training loss')\n",
    "plt.plot(x, val_loss_history, label='Validation loss')\n",
    "\n",
    "plt.legend()\n",
    "\n",
    "plt.show()"
   ]
  },
  {
   "cell_type": "code",
   "execution_count": 15,
   "metadata": {},
   "outputs": [
    {
     "name": "stdout",
     "output_type": "stream",
     "text": [
      "Least validation loss: 2.745975526479574 in epoch 20\n"
     ]
    }
   ],
   "source": [
    "argmin_val = np.argmin(val_loss_history)\n",
    "print('Least validation loss: {} in epoch {}'.format(val_loss_history[argmin_val], argmin_val))"
   ]
  },
  {
   "cell_type": "code",
   "execution_count": null,
   "metadata": {},
   "outputs": [],
   "source": []
  },
  {
   "cell_type": "code",
   "execution_count": 16,
   "metadata": {},
   "outputs": [
    {
     "ename": "SyntaxError",
     "evalue": "invalid syntax (<ipython-input-16-60215a10e730>, line 1)",
     "output_type": "error",
     "traceback": [
      "\u001b[0;36m  File \u001b[0;32m\"<ipython-input-16-60215a10e730>\"\u001b[0;36m, line \u001b[0;32m1\u001b[0m\n\u001b[0;31m    -\u001b[0m\n\u001b[0m     ^\u001b[0m\n\u001b[0;31mSyntaxError\u001b[0m\u001b[0;31m:\u001b[0m invalid syntax\n"
     ]
    }
   ],
   "source": [
    "-"
   ]
  }
 ],
 "metadata": {
  "file_extension": ".py",
  "kernelspec": {
   "display_name": "Python 3",
   "language": "python",
   "name": "python3"
  },
  "language_info": {
   "codemirror_mode": {
    "name": "ipython",
    "version": 3
   },
   "file_extension": ".py",
   "mimetype": "text/x-python",
   "name": "python",
   "nbconvert_exporter": "python",
   "pygments_lexer": "ipython3",
   "version": "3.7.7"
  },
  "mimetype": "text/x-python",
  "name": "python",
  "npconvert_exporter": "python",
  "pygments_lexer": "ipython3",
  "version": 3
 },
 "nbformat": 4,
 "nbformat_minor": 2
}
