{
 "cells": [
  {
   "cell_type": "code",
   "execution_count": 1,
   "metadata": {},
   "outputs": [],
   "source": [
    "import numpy as np \n",
    "import os\n",
    "from tqdm.notebook import tqdm\n",
    "\n",
    "import torch\n",
    "import torch.nn as nn\n",
    "import math\n",
    "from matplotlib import pyplot as plt\n",
    "\n",
    "import sys\n",
    "sys.path.append('../utils')\n",
    "\n",
    "from text.utils import load_text_state, split_sentences, Vocabulary\n",
    "from model.utils import get_device, load_model_state\n",
    "from multitext_model import MultiTextModel\n",
    "\n",
    "import torchtext"
   ]
  },
  {
   "cell_type": "markdown",
   "metadata": {},
   "source": [
    "### Verify if CUDA is available"
   ]
  },
  {
   "cell_type": "code",
   "execution_count": 2,
   "metadata": {},
   "outputs": [
    {
     "name": "stdout",
     "output_type": "stream",
     "text": [
      "cuda\n"
     ]
    }
   ],
   "source": [
    "device = get_device()\n",
    "print(device)"
   ]
  },
  {
   "cell_type": "markdown",
   "metadata": {},
   "source": [
    "### Loading vocabulary"
   ]
  },
  {
   "cell_type": "code",
   "execution_count": 3,
   "metadata": {},
   "outputs": [],
   "source": [
    "CHECKPOINT_BASE = 'checkpoints'\n",
    "AUTHORS = ['Ernest Hemingway', 'Friedrich Nietzsche', 'Oscar Wilde']\n",
    "SENTENCES_LENGTH = 22"
   ]
  },
  {
   "cell_type": "code",
   "execution_count": 4,
   "metadata": {},
   "outputs": [
    {
     "name": "stdout",
     "output_type": "stream",
     "text": [
      "Text checkpoint loaded for Ernest Hemingway\n",
      "Text checkpoint loaded for Friedrich Nietzsche\n",
      "Text checkpoint loaded for Oscar Wilde\n"
     ]
    }
   ],
   "source": [
    "vocabs = []\n",
    "\n",
    "for author in AUTHORS:\n",
    "    vocab, _, _ = load_text_state(os.path.join(CHECKPOINT_BASE, author + '_text.pk'))    \n",
    "    vocabs.append(vocab)\n",
    "    \n",
    "    print('Text checkpoint loaded for {}'.format(author))"
   ]
  },
  {
   "cell_type": "markdown",
   "metadata": {},
   "source": [
    "### Loading components"
   ]
  },
  {
   "cell_type": "code",
   "execution_count": 5,
   "metadata": {},
   "outputs": [],
   "source": [
    "LEARNING_RATE = 1e-4\n",
    "BETA_1 = 0.9\n",
    "BETA_2 = 0.999\n",
    "EPOCHS = 50\n",
    "NUM_HEADS = 15\n",
    "ENCODER_LAYERS = 2\n",
    "DECODER_LAYERS = 1\n",
    "EMBEDDING_SIZE = 512\n",
    "FF_DIM = 1024\n",
    "DROPOUT=0.2\n",
    "STEP_LR_DECAY = 15\n",
    "LR_FACTOR_DECAY = 0.7\n",
    "\n",
    "\n",
    "VECTORS_LOADED = 40000"
   ]
  },
  {
   "cell_type": "code",
   "execution_count": 6,
   "metadata": {},
   "outputs": [],
   "source": [
    "vocab = Vocabulary('Multitext')\n",
    "fasttext = torchtext.vocab.FastText(language='en', max_vectors=VECTORS_LOADED - len(vocab), cache='../.vector_cache')\n",
    "\n",
    "for word in fasttext.stoi.keys():\n",
    "    vocab.add_word(word)       "
   ]
  },
  {
   "cell_type": "code",
   "execution_count": 7,
   "metadata": {},
   "outputs": [],
   "source": [
    "model = MultiTextModel(\n",
    "    authors=AUTHORS,\n",
    "    vocab_size=len(vocab),\n",
    "    embedding_size=fasttext.dim, \n",
    "    num_heads=NUM_HEADS, \n",
    "    encoder_layers=ENCODER_LAYERS, \n",
    "    decoder_layers=DECODER_LAYERS, \n",
    "    dim_feedforward=FF_DIM,\n",
    "    dropout=DROPOUT\n",
    ")\n",
    "\n",
    "optimizer = torch.optim.Adam(\n",
    "    list(model.parameters()), \n",
    "    lr=LEARNING_RATE,\n",
    "    betas=(BETA_1, BETA_2)\n",
    ")\n",
    "\n",
    "model, _, _, _, val_loss_history, least_validation_loss = load_model_state(\n",
    "    os.path.join(CHECKPOINT_BASE, 'best.pt'), \n",
    "    model, \n",
    "    optimizer\n",
    ")\n",
    "\n",
    "model.to(device)\n",
    "\n",
    "for state in optimizer.state.values():\n",
    "        for k, v in state.items():\n",
    "            if isinstance(v, torch.Tensor):\n",
    "                state[k] = v.to(device)"
   ]
  },
  {
   "cell_type": "code",
   "execution_count": 8,
   "metadata": {},
   "outputs": [
    {
     "name": "stdout",
     "output_type": "stream",
     "text": [
      "Validation loss: 6.716292312193389e-05\n"
     ]
    }
   ],
   "source": [
    "print('Validation loss: {}'.format(least_validation_loss))"
   ]
  },
  {
   "cell_type": "code",
   "execution_count": 9,
   "metadata": {},
   "outputs": [
    {
     "data": {
      "text/plain": [
       "49"
      ]
     },
     "execution_count": 9,
     "metadata": {},
     "output_type": "execute_result"
    }
   ],
   "source": [
    "len(val_loss_history)"
   ]
  },
  {
   "cell_type": "markdown",
   "metadata": {},
   "source": [
    "### Predicting"
   ]
  },
  {
   "cell_type": "code",
   "execution_count": 10,
   "metadata": {},
   "outputs": [],
   "source": [
    "def simplify_sentence(vocab, sentence):\n",
    "    simplified = [word for word in sentence if word not in [vocab.PAD_TOKEN, vocab.START_TOKEN, vocab.END_TOKEN]]\n",
    "    return ' '.join(vocab.to_words(simplified))"
   ]
  },
  {
   "cell_type": "code",
   "execution_count": 11,
   "metadata": {},
   "outputs": [],
   "source": [
    "text = [\n",
    "    'What the hell! Damn!'\n",
    "]"
   ]
  },
  {
   "cell_type": "code",
   "execution_count": 12,
   "metadata": {},
   "outputs": [],
   "source": [
    "sentences = []\n",
    "\n",
    "for sentence in text:\n",
    "    # split = [vocab.START_STR]\n",
    "    split = []\n",
    "    split.extend(split_sentences(sentence)[0][:SENTENCES_LENGTH])\n",
    "    split.extend([vocab.PAD_STR] * ( SENTENCES_LENGTH - len(split) ))\n",
    "    split.append(vocab.END_STR)\n",
    "    split = [word.lower().strip() for word in split]\n",
    "    indices = vocab.to_indices(split)    \n",
    "    sentences.append(indices)"
   ]
  },
  {
   "cell_type": "code",
   "execution_count": 13,
   "metadata": {},
   "outputs": [
    {
     "name": "stdout",
     "output_type": "stream",
     "text": [
      "----------------------------------------------------------------------\n",
      "Original: What the hell! Damn!\n",
      "Input: what the hell ! damn !\n",
      "Ernest Hemingway: what the hell ! everybody !\n",
      "Friedrich Nietzsche: what the hell ! damn !\n",
      "Oscar Wilde: what the hell ! everybody !\n"
     ]
    }
   ],
   "source": [
    "model.eval()\n",
    "\n",
    "source = [torch.LongTensor(sentences).to(device)] * len(AUTHORS)\n",
    "\n",
    "target = np.array([[vocab.START_TOKEN] * (SENTENCES_LENGTH + 1)]  * len(sentences))\n",
    "target = [torch.LongTensor(target).to(device)] * len(AUTHORS)\n",
    "\n",
    "for _ in range(SENTENCES_LENGTH):\n",
    "    with torch.no_grad():\n",
    "        predictions = model(source, target)\n",
    "        \n",
    "        target = []\n",
    "        \n",
    "        for idx, prediction in enumerate(predictions):\n",
    "            sent_author = np.array([[vocab.START_TOKEN] * (SENTENCES_LENGTH + 1)]  * len(sentences))\n",
    "            predicted = torch.argmax(torch.softmax(prediction, dim=2), dim=2)\n",
    "            sent_author[:, 1:] = predicted[:, :-1].cpu().numpy()\n",
    "            target.append(torch.LongTensor(sent_author).to(device))\n",
    "        \n",
    "\n",
    "for idx, sentence in enumerate(text):\n",
    "    print('----------------------------------------------------------------------')\n",
    "    print('Original: {}'.format(text[idx]))\n",
    "    print('Input: {}'.format(simplify_sentence(vocab, sentences[idx])))\n",
    "    \n",
    "    for jdx, author in enumerate(AUTHORS):\n",
    "        print('{}: {}'.format(author, simplify_sentence(vocab, target[jdx][idx].cpu().numpy())))"
   ]
  },
  {
   "cell_type": "code",
   "execution_count": null,
   "metadata": {},
   "outputs": [],
   "source": []
  }
 ],
 "metadata": {
  "file_extension": ".py",
  "kernelspec": {
   "display_name": "Python 3",
   "language": "python",
   "name": "python3"
  },
  "language_info": {
   "codemirror_mode": {
    "name": "ipython",
    "version": 3
   },
   "file_extension": ".py",
   "mimetype": "text/x-python",
   "name": "python",
   "nbconvert_exporter": "python",
   "pygments_lexer": "ipython3",
   "version": "3.7.7"
  },
  "mimetype": "text/x-python",
  "name": "python",
  "npconvert_exporter": "python",
  "pygments_lexer": "ipython3",
  "version": 3
 },
 "nbformat": 4,
 "nbformat_minor": 2
}
