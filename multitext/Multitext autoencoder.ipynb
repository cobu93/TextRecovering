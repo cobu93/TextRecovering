{
 "cells": [
  {
   "cell_type": "code",
   "execution_count": 1,
   "metadata": {},
   "outputs": [],
   "source": [
    "import numpy as np \n",
    "import os\n",
    "from tqdm.notebook import tqdm\n",
    "\n",
    "import torch\n",
    "import torch.nn as nn\n",
    "import math\n",
    "from matplotlib import pyplot as plt\n",
    "\n",
    "import sys\n",
    "sys.path.append('../utils')\n",
    "\n",
    "from text.utils import save_text_state, load_text_state, build_text_state, load_books, Vocabulary\n",
    "from model.utils import get_device, load_model_state, save_model_state, build_model_state\n",
    "\n",
    "from multitext_model import MultiTextModel, get_loss_function"
   ]
  },
  {
   "cell_type": "markdown",
   "metadata": {},
   "source": [
    "### Verify if CUDA is available"
   ]
  },
  {
   "cell_type": "code",
   "execution_count": 2,
   "metadata": {},
   "outputs": [
    {
     "name": "stdout",
     "output_type": "stream",
     "text": [
      "cuda\n"
     ]
    }
   ],
   "source": [
    "device = get_device()\n",
    "print(device)"
   ]
  },
  {
   "cell_type": "markdown",
   "metadata": {},
   "source": [
    "### Loading word vectors and training/validation dataset"
   ]
  },
  {
   "cell_type": "code",
   "execution_count": 3,
   "metadata": {},
   "outputs": [],
   "source": [
    "LOAD_CHECKPOINTS = True\n",
    "\n",
    "CHECKPOINT_BASE = 'checkpoints'\n",
    "DATASET_FILENAME = '../datasets/books.pk'\n",
    "AUTHORS = ['Friedrich Nietzsche', 'Ernest Hemingway', 'Oscar Wilde']\n",
    "\n",
    "VAL_PARTITION = 0.3 \n",
    "MIN_SENTENCE_LENGTH = 5\n",
    "MAX_SENTENCE_LENGTH = 20\n",
    "BATCH_SIZE = 8"
   ]
  },
  {
   "cell_type": "code",
   "execution_count": 4,
   "metadata": {},
   "outputs": [
    {
     "name": "stdout",
     "output_type": "stream",
     "text": [
      "No checkpoint found. New partition.\n",
      "Included books:\n",
      "\t Name: The dawn of day   Author: Friedrich Nietzsche\n",
      "\t Name: The antichrist   Author: Friedrich Nietzsche\n",
      "\t Name: We philologists   Author: Friedrich Nietzsche\n",
      "\t Name: Ecce Homo   Author: Friedrich Nietzsche\n",
      "\t Name: Thoughts out of season   Author: Friedrich Nietzsche\n",
      "\t Name: The joyful wisdom   Author: Friedrich Nietzsche\n",
      "\t Name: The will to power   Author: Friedrich Nietzsche\n",
      "\t Name: The birth of tragedy   Author: Friedrich Nietzsche\n",
      "\t Name: Thus spake Zarathustra   Author: Friedrich Nietzsche\n",
      "\t Name: The case of Wagner   Author: Friedrich Nietzsche\n",
      "\t Name: On the future of our educational institutions   Author: Friedrich Nietzsche\n",
      "No checkpoint found. New partition.\n",
      "Included books:\n",
      "\t Name: Winner take nothing   Author: Ernest Hemingway\n",
      "\t Name: Green hills of Africa   Author: Ernest Hemingway\n",
      "\t Name: Across the river and into the trees   Author: Ernest Hemingway\n",
      "\t Name: The sun also rises   Author: Ernest Hemingway\n",
      "\t Name: In our time   Author: Ernest Hemingway\n",
      "\t Name: Men without women   Author: Ernest Hemingway\n",
      "\t Name: The old man of the sea   Author: Ernest Hemingway\n",
      "\t Name: Three stories and ten poems   Author: Ernest Hemingway\n",
      "No checkpoint found. New partition.\n",
      "Included books:\n",
      "\t Name: A house of Pomegranates   Author: Oscar Wilde\n",
      "\t Name: Lady Windermere's fan   Author: Oscar Wilde\n",
      "\t Name: The Canterville ghost   Author: Oscar Wilde\n",
      "\t Name: The happy prince and other tales   Author: Oscar Wilde\n",
      "\t Name: Essays and lectures   Author: Oscar Wilde\n",
      "\t Name: Salomé: A tragedy in one act   Author: Oscar Wilde\n",
      "\t Name: De profundis   Author: Oscar Wilde\n",
      "\t Name: The picture of Dorian Gray   Author: Oscar Wilde\n",
      "\t Name: A woman of no importance   Author: Oscar Wilde\n",
      "\t Name: The soul of man   Author: Oscar Wilde\n",
      "\t Name: Intentions   Author: Oscar Wilde\n"
     ]
    }
   ],
   "source": [
    "vocabs = []\n",
    "train_datasets = []\n",
    "test_datasets = []\n",
    "\n",
    "min_len_train = None\n",
    "min_len_test = None\n",
    "\n",
    "for author in AUTHORS:\n",
    "    # Try loading dataset, if it doesn't exists then creates it\n",
    "    try:\n",
    "        if not LOAD_CHECKPOINTS:\n",
    "            print('New training required')\n",
    "            raise Error('New training required')\n",
    "\n",
    "        vocab, train_dataset, test_dataset = load_text_state(os.path.join(CHECKPOINT_BASE, author + '_text.pk'))    \n",
    "        print('Checkpoint loaded')\n",
    "    except:        \n",
    "        books = load_books(DATASET_FILENAME, author=author)\n",
    "        vocab, train_dataset, test_dataset = build_text_state(books, MIN_SENTENCE_LENGTH, MAX_SENTENCE_LENGTH, VAL_PARTITION, vocab_name=author)  \n",
    "        print('No checkpoint found. New partition.')\n",
    "        print('Included books:')\n",
    "        for book in books:\n",
    "            print('\\t', book)\n",
    "            \n",
    "    \n",
    "    train_datasets.append(train_dataset)\n",
    "    test_datasets.append(test_dataset)\n",
    "    vocabs.append(vocab)"
   ]
  },
  {
   "cell_type": "code",
   "execution_count": 5,
   "metadata": {},
   "outputs": [],
   "source": [
    "for idx, author in enumerate(AUTHORS):\n",
    "    save_text_state(\n",
    "        os.path.join(CHECKPOINT_BASE, author + '_text.pk'), \n",
    "        vocabs[idx], \n",
    "        train_datasets[idx], \n",
    "        test_datasets[idx]\n",
    "    ) "
   ]
  },
  {
   "cell_type": "code",
   "execution_count": 6,
   "metadata": {},
   "outputs": [
    {
     "name": "stdout",
     "output_type": "stream",
     "text": [
      "1555 667\n",
      "1861 798\n",
      "1150 493\n"
     ]
    }
   ],
   "source": [
    "# Build full vocab\n",
    "vocab = Vocabulary('Multitext')\n",
    "\n",
    "for idx, _ in enumerate(AUTHORS):\n",
    "    for word in vocabs[idx].word2index.keys():\n",
    "        vocab.add_word(word)\n",
    "\n",
    "# Map all datasets to new indices\n",
    "train_dataloaders = []\n",
    "test_dataloaders = []\n",
    "\n",
    "for train_dataset, test_dataset in zip(train_datasets, test_datasets):\n",
    "    train_dataset.change_vocab(vocab)\n",
    "    test_dataset.change_vocab(vocab)\n",
    "    \n",
    "    train_dataloader = torch.utils.data.DataLoader(train_dataset, batch_size=BATCH_SIZE)\n",
    "    train_dataloaders.append(train_dataloader)\n",
    "    \n",
    "    test_dataloader = torch.utils.data.DataLoader(test_dataset, batch_size=BATCH_SIZE)\n",
    "    test_dataloaders.append(test_dataloader)\n",
    "    \n",
    "    print(len(train_dataloader), len(test_dataloader))"
   ]
  },
  {
   "cell_type": "markdown",
   "metadata": {},
   "source": [
    "### Loading components"
   ]
  },
  {
   "cell_type": "code",
   "execution_count": 7,
   "metadata": {},
   "outputs": [],
   "source": [
    "VOCAB_SIZE = len(vocab)\n",
    "\n",
    "LEARNING_RATE = 1e-4\n",
    "BETA_1 = 0.9\n",
    "BETA_2 = 0.999\n",
    "EPOCHS = 30\n",
    "NUM_HEADS = 16\n",
    "ENCODER_LAYERS = 2\n",
    "DECODER_LAYERS = 1\n",
    "EMBEDDING_SIZE = 512\n",
    "FF_DIM = 1024\n",
    "DROPOUT=0.2\n",
    "STEP_LR_DECAY = 15\n",
    "LR_FACTOR_DECAY = 0.7"
   ]
  },
  {
   "cell_type": "code",
   "execution_count": 8,
   "metadata": {},
   "outputs": [],
   "source": [
    "model = MultiTextModel(\n",
    "    authors = AUTHORS,\n",
    "    vocab_size=VOCAB_SIZE,\n",
    "    embedding_size=EMBEDDING_SIZE, \n",
    "    num_heads=NUM_HEADS, \n",
    "    encoder_layers=ENCODER_LAYERS, \n",
    "    decoder_layers=DECODER_LAYERS, \n",
    "    dim_feedforward=FF_DIM,\n",
    "    dropout=DROPOUT\n",
    ")\n",
    "\n",
    "\n",
    "optimizer = torch.optim.Adam(\n",
    "    model.get_params(), \n",
    "    lr=LEARNING_RATE,\n",
    "    betas=(BETA_1, BETA_2)\n",
    ")\n",
    "    \n",
    "loss_fn = get_loss_function(len(AUTHORS))\n",
    "scheduler = torch.optim.lr_scheduler.StepLR(optimizer, step_size=STEP_LR_DECAY, gamma=LR_FACTOR_DECAY)"
   ]
  },
  {
   "cell_type": "code",
   "execution_count": 9,
   "metadata": {},
   "outputs": [
    {
     "name": "stdout",
     "output_type": "stream",
     "text": [
      "No checkpoints found. New training.\n"
     ]
    }
   ],
   "source": [
    "try:\n",
    "    if not LOAD_CHECKPOINTS:\n",
    "        print('New training required')\n",
    "        raise Error('New training required')\n",
    "        \n",
    "    model, optimizer, last_epoch, train_loss_history, val_loss_history, best_val_loss = load_model_state(\n",
    "        os.path.join(CHECKPOINT_BASE, 'best.pt'), \n",
    "        model, \n",
    "        optimizer\n",
    "    )\n",
    "    \n",
    "    for state in optimizer.state.values():\n",
    "        for k, v in state.items():\n",
    "            if isinstance(v, torch.Tensor):\n",
    "                state[k] = v.to(device)\n",
    "\n",
    "    print('Checkpoint loaded')\n",
    "    \n",
    "except:\n",
    "    last_epoch, train_loss_history, val_loss_history, best_val_loss = build_model_state()\n",
    "    print('No checkpoints found. New training.')\n",
    "    pass\n",
    "\n",
    "model = model.to(device)\n"
   ]
  },
  {
   "cell_type": "markdown",
   "metadata": {},
   "source": [
    "### Training and validation"
   ]
  },
  {
   "cell_type": "code",
   "execution_count": 10,
   "metadata": {},
   "outputs": [],
   "source": [
    "def train_step(transformer, loss_fn, optimizer, source, target):\n",
    "    transformer.train()\n",
    "\n",
    "    transformer.zero_grad()\n",
    "    optimizer.zero_grad()\n",
    "\n",
    "    decodings = transformer(source, target)\n",
    "    \n",
    "    loss = loss_fn(source, decodings)\n",
    "    loss.backward()      \n",
    "    optimizer.step()\n",
    "    return loss.item()    "
   ]
  },
  {
   "cell_type": "code",
   "execution_count": 11,
   "metadata": {},
   "outputs": [],
   "source": [
    "def val_step(transformer, loss_fn, source, target):\n",
    "    transformer.eval()\n",
    "    \n",
    "    with torch.no_grad():\n",
    "        decodings = transformer(source, target)\n",
    "        loss = loss_fn(source, decodings)\n",
    "\n",
    "        return loss.item(), decodings"
   ]
  },
  {
   "cell_type": "code",
   "execution_count": 12,
   "metadata": {},
   "outputs": [],
   "source": [
    "def sample(iterators, dataloaders, device):\n",
    "    source = []\n",
    "    target = []\n",
    "    for idx, it in enumerate(iterators):\n",
    "        try:\n",
    "            example = next(it).to(device)\n",
    "        except:\n",
    "            iterators[idx] = iter(dataloaders[idx])\n",
    "            example = next(iterators[idx]).to(device)\n",
    "\n",
    "        source.append(example[:, 1:])\n",
    "        target.append(example[:, :-1])\n",
    "    return source, target"
   ]
  },
  {
   "cell_type": "code",
   "execution_count": 13,
   "metadata": {
    "tags": [
     "outputPrepend"
    ]
   },
   "outputs": [
    {
     "name": "stdout",
     "output_type": "stream",
     "text": [
      "*************************** EPOCH 1 ***************************\n"
     ]
    },
    {
     "data": {
      "application/vnd.jupyter.widget-view+json": {
       "model_id": "6d10b9d14fa345a28f5f0295599ae488",
       "version_major": 2,
       "version_minor": 0
      },
      "text/plain": [
       "HBox(children=(FloatProgress(value=0.0, max=1861.0), HTML(value='')))"
      ]
     },
     "metadata": {},
     "output_type": "display_data"
    },
    {
     "name": "stdout",
     "output_type": "stream",
     "text": [
      "-------------------- Author Friedrich Nietzsche --------------------\n",
      "Real: — there are mannerisms of the intellect by which even great minds betray that they originate from the populace , <eos>\n",
      "***************************************************\n",
      "Decoded Friedrich Nietzsche: bayonne biology joking biology since internal rubbed bayonne biology biology biology since twisted since joking bayonne bayonne joking joking internal garrulous\n",
      "***************************************************\n",
      "Decoded Ernest Hemingway: and exulting and philhellenist exulting documents maims community exulting and exulting irresistible unsteadily presumptuousness tendalla presumptuousness widened and <pad> exulting and\n",
      "***************************************************\n",
      "Decoded Oscar Wilde: mangin <pad> <pad> follies quoted <pad> <pad> <pad> conservative <pad> <pad> quoted <pad> <pad> tar <pad> <pad> pounds <pad> conservative unaided\n",
      "-------------------- Author Ernest Hemingway --------------------\n",
      "Real: the pink wall of the house opposite had fallen out from the roof , and an iron <unk> hung twisted <eos>\n",
      "***************************************************\n",
      "Decoded Friedrich Nietzsche: since since biology twisted since alexandria rubbed lightening joking constrain since biology since wondered since biology bayonne bayonne husky since bayonne\n",
      "***************************************************\n",
      "Decoded Ernest Hemingway: irresistible documents presumptuousness irresistible exulting exulting and widened exulting community and wage documents and community exulting exulting spoil and and and\n",
      "***************************************************\n",
      "Decoded Oscar Wilde: <pad> <pad> tar <pad> <pad> <pad> <pad> <pad> <pad> <pad> <pad> <pad> <pad> <pad> tar <pad> climber <pad> <pad> <pad> tar\n",
      "-------------------- Author Oscar Wilde --------------------\n",
      "Real: the jug had evidently been once filled with water , as it was covered inside with green mould <pad> <pad> <eos>\n",
      "***************************************************\n",
      "Decoded Friedrich Nietzsche: biology biology bayonne bayonne biology biology rubbed since bayonne biology bayonne since toi bayonne rolling bayonne joking bayonne bayonne paid since\n",
      "***************************************************\n",
      "Decoded Ernest Hemingway: and and irresistible blazing widened exulting poisons community ozias and exulting and and and irresistible and wage irresistible exulting and exulting\n",
      "***************************************************\n",
      "Decoded Oscar Wilde: <pad> <pad> <pad> <pad> <pad> braced <pad> <pad> <pad> <pad> <pad> <pad> unaided <pad> tar tar <pad> <pad> <pad> <pad> tar\n",
      "\n"
     ]
    },
    {
     "data": {
      "application/vnd.jupyter.widget-view+json": {
       "model_id": "ed4a0b2189bb468ea13883b820631a8b",
       "version_major": 2,
       "version_minor": 0
      },
      "text/plain": [
       "HBox(children=(FloatProgress(value=0.0, max=798.0), HTML(value='')))"
      ]
     },
     "metadata": {},
     "output_type": "display_data"
    },
    {
     "name": "stdout",
     "output_type": "stream",
     "text": [
      "\n",
      "*************************** EPOCH 2 ***************************\n"
     ]
    },
    {
     "data": {
      "application/vnd.jupyter.widget-view+json": {
       "model_id": "6c8b0c3f451f472cbebd71e9654faa66",
       "version_major": 2,
       "version_minor": 0
      },
      "text/plain": [
       "HBox(children=(FloatProgress(value=0.0, max=1861.0), HTML(value='')))"
      ]
     },
     "metadata": {},
     "output_type": "display_data"
    },
    {
     "name": "stdout",
     "output_type": "stream",
     "text": [
      "-------------------- Author Friedrich Nietzsche --------------------\n",
      "Real: — the most important of more recent events — that god is dead , that the belief in the christian <eos>\n",
      "***************************************************\n",
      "Decoded Friedrich Nietzsche: — the most which of more speak things — that even is life , that the life in the man <eos>\n",
      "***************************************************\n",
      "Decoded Ernest Hemingway: then the t too of got go ought then that know is up , that the bull in the re <eos>\n",
      "***************************************************\n",
      "Decoded Oscar Wilde: then the t us of her us thee she that really is life , that the life in the whole <eos>\n",
      "-------------------- Author Ernest Hemingway --------------------\n",
      "Real: it ' s even a shame <pad> <pad> <pad> <pad> <pad> <pad> <pad> <pad> <pad> <pad> <pad> <pad> <pad> <pad> <eos>\n",
      "***************************************************\n",
      "Decoded Friedrich Nietzsche: it ' s no a way <pad> <pad> <pad> <pad> <pad> <pad> <pad> <pad> <pad> <pad> <pad> <pad> <pad> <pad> <eos>\n",
      "***************************************************\n",
      "Decoded Ernest Hemingway: it ' s were a way <pad> <pad> <pad> <pad> <pad> <pad> <pad> <pad> <pad> <pad> <pad> <pad> <pad> <pad> <eos>\n",
      "***************************************************\n",
      "Decoded Oscar Wilde: it ' s am a art <pad> <pad> <pad> <pad> <pad> <pad> <pad> <pad> <pad> <pad> <pad> <pad> <pad> <pad> <eos>\n",
      "-------------------- Author Oscar Wilde --------------------\n",
      "Real: why should it keep what i must lose ? every moment that passes takes something from me , and gives <eos>\n",
      "***************************************************\n",
      "Decoded Friedrich Nietzsche: no has it now what i have self ? be power that day upon more from him , and history <eos>\n",
      "***************************************************\n",
      "Decoded Ernest Hemingway: were were it now you i were go ? be side that going looked her from me , and there <eos>\n",
      "***************************************************\n",
      "Decoded Oscar Wilde: no were it there what i not us ? so things that things nothing her from me , and point <eos>\n",
      "\n"
     ]
    },
    {
     "data": {
      "application/vnd.jupyter.widget-view+json": {
       "model_id": "34a291c8862f4913aa28823aa19b1f09",
       "version_major": 2,
       "version_minor": 0
      },
      "text/plain": [
       "HBox(children=(FloatProgress(value=0.0, max=798.0), HTML(value='')))"
      ]
     },
     "metadata": {},
     "output_type": "display_data"
    },
    {
     "name": "stdout",
     "output_type": "stream",
     "text": [
      "\n",
      "*************************** EPOCH 3 ***************************\n"
     ]
    },
    {
     "data": {
      "application/vnd.jupyter.widget-view+json": {
       "model_id": "cfcf734a9c2f48698f6a4d5e04f00f6e",
       "version_major": 2,
       "version_minor": 0
      },
      "text/plain": [
       "HBox(children=(FloatProgress(value=0.0, max=1861.0), HTML(value='')))"
      ]
     },
     "metadata": {},
     "output_type": "display_data"
    },
    {
     "name": "stdout",
     "output_type": "stream",
     "text": [
      "-------------------- Author Friedrich Nietzsche --------------------\n",
      "Real: illness has not ceased : believers are served just as badly as <unk> in this respect <pad> <pad> <pad> <pad> <eos>\n",
      "***************************************************\n",
      "Decoded Friedrich Nietzsche: here has not account : sin are images just as danger as tragedy in this respect <pad> <pad> <pad> <pad> <eos>\n",
      "***************************************************\n",
      "Decoded Ernest Hemingway: doesn has not held : kudu are lightly just as look as fight in this fish <pad> <pad> <pad> <pad> <eos>\n",
      "***************************************************\n",
      "Decoded Oscar Wilde: spirit has not hope : polybius are veiled just as shakespeare as days in this murmured <pad> <pad> <pad> <pad> <eos>\n",
      "-------------------- Author Ernest Hemingway --------------------\n",
      "Real: let ' s not talk about how i am , nick said <pad> <pad> <pad> <pad> <pad> <pad> <pad> <pad> <eos>\n",
      "***************************************************\n",
      "Decoded Friedrich Nietzsche: let ' s not morality about how i am , themselves said <pad> <pad> <pad> <pad> <pad> <pad> <pad> <pad> <eos>\n",
      "***************************************************\n",
      "Decoded Ernest Hemingway: let ' s not talk about how i am , nick said <pad> <pad> <pad> <pad> <pad> <pad> <pad> <pad> <eos>\n",
      "***************************************************\n",
      "Decoded Oscar Wilde: let ' s not talk about how i am , dorian said <pad> <pad> <pad> <pad> <pad> <pad> <pad> <pad> <eos>\n",
      "-------------------- Author Oscar Wilde --------------------\n",
      "Real: their <unk> touch is over everything <pad> <pad> <pad> <pad> <pad> <pad> <pad> <pad> <pad> <pad> <pad> <pad> <pad> <pad> <eos>\n",
      "***************************************************\n",
      "Decoded Friedrich Nietzsche: their germans nevertheless is over everything <pad> <pad> <pad> <pad> <pad> <pad> <pad> <pad> <pad> <pad> <pad> <pad> <pad> <pad> <eos>\n",
      "***************************************************\n",
      "Decoded Ernest Hemingway: their road except is over want <pad> <pad> <pad> <pad> <pad> <pad> <pad> <pad> <pad> <pad> <pad> <pad> <pad> <pad> <eos>\n",
      "***************************************************\n",
      "Decoded Oscar Wilde: their miller certainly is over everything <pad> <pad> <pad> <pad> <pad> <pad> <pad> <pad> <pad> <pad> <pad> <pad> <pad> <pad> <eos>\n",
      "\n"
     ]
    },
    {
     "data": {
      "application/vnd.jupyter.widget-view+json": {
       "model_id": "dd82896ab22f481099d42488e258561f",
       "version_major": 2,
       "version_minor": 0
      },
      "text/plain": [
       "HBox(children=(FloatProgress(value=0.0, max=798.0), HTML(value='')))"
      ]
     },
     "metadata": {},
     "output_type": "display_data"
    },
    {
     "name": "stdout",
     "output_type": "stream",
     "text": [
      "\n",
      "*************************** EPOCH 4 ***************************\n"
     ]
    },
    {
     "data": {
      "application/vnd.jupyter.widget-view+json": {
       "model_id": "4395e6f0926a4586a77b8072738650de",
       "version_major": 2,
       "version_minor": 0
      },
      "text/plain": [
       "HBox(children=(FloatProgress(value=0.0, max=1861.0), HTML(value='')))"
      ]
     },
     "metadata": {},
     "output_type": "display_data"
    },
    {
     "name": "stdout",
     "output_type": "stream",
     "text": [
      "-------------------- Author Friedrich Nietzsche --------------------\n",
      "Real: for i tell thee that i have already talked half a morning unto them , and just now were they <eos>\n",
      "***************************************************\n",
      "Decoded Friedrich Nietzsche: for i tell thee that i have already war doth a philosopher unto them , and just now were they <eos>\n",
      "***************************************************\n",
      "Decoded Ernest Hemingway: for i tell pop that i have ought days half a morning bill them , and just now were they <eos>\n",
      "***************************************************\n",
      "Decoded Oscar Wilde: for i tell thee that i have already days half a morning cannot them , and just now were they <eos>\n",
      "-------------------- Author Ernest Hemingway --------------------\n",
      "Real: memphis is only tough if you are a negro <pad> <pad> <pad> <pad> <pad> <pad> <pad> <pad> <pad> <pad> <pad> <eos>\n",
      "***************************************************\n",
      "Decoded Friedrich Nietzsche: blasts is only philologist if you are a cause <pad> <pad> <pad> <pad> <pad> <pad> <pad> <pad> <pad> <pad> <pad> <eos>\n",
      "***************************************************\n",
      "Decoded Ernest Hemingway: circulate is only swung if you are a east <pad> <pad> <pad> <pad> <pad> <pad> <pad> <pad> <pad> <pad> <pad> <eos>\n",
      "***************************************************\n",
      "Decoded Oscar Wilde: veiled is only realise if you are a purple <pad> <pad> <pad> <pad> <pad> <pad> <pad> <pad> <pad> <pad> <pad> <eos>\n",
      "-------------------- Author Oscar Wilde --------------------\n",
      "Real: you never say a moral thing , and you never do a wrong thing <pad> <pad> <pad> <pad> <pad> <pad> <eos>\n",
      "***************************************************\n",
      "Decoded Friedrich Nietzsche: you never say a moral thing , and you never do a wrong thing <pad> <pad> <pad> <pad> <pad> <pad> <eos>\n",
      "***************************************************\n",
      "Decoded Ernest Hemingway: you never say a tell thing , and you never do a wrong thing <pad> <pad> <pad> <pad> <pad> <pad> <eos>\n",
      "***************************************************\n",
      "Decoded Oscar Wilde: you never say a moral thing , and you never do a complete thing <pad> <pad> <pad> <pad> <pad> <pad> <eos>\n",
      "\n"
     ]
    },
    {
     "data": {
      "application/vnd.jupyter.widget-view+json": {
       "model_id": "1ec0cb0d7c2b4561b60a839c4b789034",
       "version_major": 2,
       "version_minor": 0
      },
      "text/plain": [
       "HBox(children=(FloatProgress(value=0.0, max=798.0), HTML(value='')))"
      ]
     },
     "metadata": {},
     "output_type": "display_data"
    },
    {
     "name": "stdout",
     "output_type": "stream",
     "text": [
      "\n",
      "*************************** EPOCH 5 ***************************\n"
     ]
    },
    {
     "data": {
      "application/vnd.jupyter.widget-view+json": {
       "model_id": "448e2ce25d6348b0bf318b2c5db29716",
       "version_major": 2,
       "version_minor": 0
      },
      "text/plain": [
       "HBox(children=(FloatProgress(value=0.0, max=1861.0), HTML(value='')))"
      ]
     },
     "metadata": {},
     "output_type": "display_data"
    },
    {
     "name": "stdout",
     "output_type": "stream",
     "text": [
      "-------------------- Author Friedrich Nietzsche --------------------\n",
      "Real: we should <unk> passages from the poets in order to see what they admired , in lofty mountains , for <eos>\n",
      "***************************************************\n",
      "Decoded Friedrich Nietzsche: we should lack shows from the poets in order to see what they rank , in proud mountains , for <eos>\n",
      "***************************************************\n",
      "Decoded Ernest Hemingway: we should talking hunting from the stood in order to see what they needed , in quiet mountains , for <eos>\n",
      "***************************************************\n",
      "Decoded Oscar Wilde: we should evidence badly from the poets in order to see what they waiting , in walk development , for <eos>\n",
      "-------------------- Author Ernest Hemingway --------------------\n",
      "Real: i will remember that all week <pad> <pad> <pad> <pad> <pad> <pad> <pad> <pad> <pad> <pad> <pad> <pad> <pad> <pad> <eos>\n",
      "***************************************************\n",
      "Decoded Friedrich Nietzsche: i will years that all everywhere <pad> <pad> <pad> <pad> <pad> <pad> <pad> <pad> <pad> <pad> <pad> <pad> <pad> <pad> <eos>\n",
      "***************************************************\n",
      "Decoded Ernest Hemingway: i will remember that all week <pad> <pad> <pad> <pad> <pad> <pad> <pad> <pad> <pad> <pad> <pad> <pad> <pad> <pad> <eos>\n",
      "***************************************************\n",
      "Decoded Oscar Wilde: i will remember that all week <pad> <pad> <pad> <pad> <pad> <pad> <pad> <pad> <pad> <pad> <pad> <pad> <pad> <pad> <eos>\n",
      "-------------------- Author Oscar Wilde --------------------\n",
      "Real: stand on the sea shore with thy back to the moon , and cut away from around thy feet thy <eos>\n",
      "***************************************************\n",
      "Decoded Friedrich Nietzsche: stand on the sea objectivity with thy back to the higher , and heard away from around thy feet thy <eos>\n",
      "***************************************************\n",
      "Decoded Ernest Hemingway: stand on the sea hunting with seen back to the moon , and cut away from around about feet seen <eos>\n",
      "***************************************************\n",
      "Decoded Oscar Wilde: went on the sea development with thy back to the moon , and while away from murmured thy feet thy <eos>\n",
      "\n"
     ]
    },
    {
     "data": {
      "application/vnd.jupyter.widget-view+json": {
       "model_id": "596b9f33f7fd4064afa1301d2b4b6e63",
       "version_major": 2,
       "version_minor": 0
      },
      "text/plain": [
       "HBox(children=(FloatProgress(value=0.0, max=798.0), HTML(value='')))"
      ]
     },
     "metadata": {},
     "output_type": "display_data"
    },
    {
     "name": "stdout",
     "output_type": "stream",
     "text": [
      "\n",
      "*************************** EPOCH 6 ***************************\n"
     ]
    },
    {
     "data": {
      "application/vnd.jupyter.widget-view+json": {
       "model_id": "a72719c1ba1c4080879afd316f392849",
       "version_major": 2,
       "version_minor": 0
      },
      "text/plain": [
       "HBox(children=(FloatProgress(value=0.0, max=1861.0), HTML(value='')))"
      ]
     },
     "metadata": {},
     "output_type": "display_data"
    },
    {
     "name": "stdout",
     "output_type": "stream",
     "text": [
      "-------------------- Author Friedrich Nietzsche --------------------\n",
      "Real: of course , the apollonian light picture did not , precisely with this inner <unk> through music , attain the <eos>\n",
      "***************************************************\n",
      "Decoded Friedrich Nietzsche: of course , the apollonian light picture did not , precisely with this inner commanding through music , attain the <eos>\n",
      "***************************************************\n",
      "Decoded Ernest Hemingway: of course , the wrong light picture did not , eat with this fine talking through music , maybe the <eos>\n",
      "***************************************************\n",
      "Decoded Oscar Wilde: of course , the hear light picture did not , exactly with this aristotle sang through music , exquisite the <eos>\n",
      "-------------------- Author Ernest Hemingway --------------------\n",
      "Real: if you love horses you ' ll get horse s , and if you love eagles you ' ll get <eos>\n",
      "***************************************************\n",
      "Decoded Friedrich Nietzsche: if you love practice you ' thus get opinions s , and if you love content you ' always get <eos>\n",
      "***************************************************\n",
      "Decoded Ernest Hemingway: if you love horses you ' ll get horse s , and if you love pushed you ' ll get <eos>\n",
      "***************************************************\n",
      "Decoded Oscar Wilde: if you love till you ' ll get horse s , and if you love remembers you ' ll get <eos>\n",
      "-------------------- Author Oscar Wilde --------------------\n",
      "Real: as they grow older they judge them <pad> <pad> <pad> <pad> <pad> <pad> <pad> <pad> <pad> <pad> <pad> <pad> <pad> <eos>\n",
      "***************************************************\n",
      "Decoded Friedrich Nietzsche: as they grow steps they judge them <pad> <pad> <pad> <pad> <pad> <pad> <pad> <pad> <pad> <pad> <pad> <pad> <pad> <eos>\n",
      "***************************************************\n",
      "Decoded Ernest Hemingway: as they needed stop they americans them <pad> <pad> <pad> <pad> <pad> <pad> <pad> <pad> <pad> <pad> <pad> <pad> <pad> <eos>\n",
      "***************************************************\n",
      "Decoded Oscar Wilde: as they struck older they forehead them <pad> <pad> <pad> <pad> <pad> <pad> <pad> <pad> <pad> <pad> <pad> <pad> <pad> <eos>\n",
      "\n"
     ]
    },
    {
     "data": {
      "application/vnd.jupyter.widget-view+json": {
       "model_id": "9561a27672e44556a56891d5176b2cc1",
       "version_major": 2,
       "version_minor": 0
      },
      "text/plain": [
       "HBox(children=(FloatProgress(value=0.0, max=798.0), HTML(value='')))"
      ]
     },
     "metadata": {},
     "output_type": "display_data"
    },
    {
     "name": "stdout",
     "output_type": "stream",
     "text": [
      "\n",
      "*************************** EPOCH 7 ***************************\n"
     ]
    },
    {
     "data": {
      "application/vnd.jupyter.widget-view+json": {
       "model_id": "176e5212416349a3a6517ec16135e50c",
       "version_major": 2,
       "version_minor": 0
      },
      "text/plain": [
       "HBox(children=(FloatProgress(value=0.0, max=1861.0), HTML(value='')))"
      ]
     },
     "metadata": {},
     "output_type": "display_data"
    },
    {
     "name": "stdout",
     "output_type": "stream",
     "text": [
      "-------------------- Author Friedrich Nietzsche --------------------\n",
      "Real: hence the disillusionment in regard to a so called purpose in existence , as a cause of nihilism <pad> <pad> <eos>\n",
      "***************************************************\n",
      "Decoded Friedrich Nietzsche: hence the non in regard to a so called purpose in existence , as a cause of nihilism <pad> <pad> <eos>\n",
      "***************************************************\n",
      "Decoded Ernest Hemingway: running the dressing in waiter to a so called walking in funny , as a blue of driver <pad> <pad> <eos>\n",
      "***************************************************\n",
      "Decoded Oscar Wilde: hence the british in regard to a so called purpose in existence , as a cause of doing <pad> <pad> <eos>\n",
      "-------------------- Author Ernest Hemingway --------------------\n",
      "Real: moi , je ne crois pas <pad> <pad> <pad> <pad> <pad> <pad> <pad> <pad> <pad> <pad> <pad> <pad> <pad> <pad> <eos>\n",
      "***************************************************\n",
      "Decoded Friedrich Nietzsche: chapter , willed permitted willed invisible <pad> <pad> <pad> <pad> <pad> <pad> <pad> <pad> <pad> <pad> <pad> <pad> <pad> <pad> <eos>\n",
      "***************************************************\n",
      "Decoded Ernest Hemingway: copies , je ne lightly pas <pad> <pad> <pad> <pad> <pad> <pad> <pad> <pad> <pad> <pad> <pad> <pad> <pad> <pad> <eos>\n",
      "***************************************************\n",
      "Decoded Oscar Wilde: subdue , strike veiled saves fully <pad> <pad> <pad> <pad> <pad> <pad> <pad> <pad> <pad> <pad> <pad> <pad> <pad> <pad> <eos>\n",
      "-------------------- Author Oscar Wilde --------------------\n",
      "Real: ernest the highest criticism , then , is more creative than creation , and the primary aim of the critic <eos>\n",
      "***************************************************\n",
      "Decoded Friedrich Nietzsche: b the highest criticism , then , is more holds than creation , and the primary aim of the critic <eos>\n",
      "***************************************************\n",
      "Decoded Ernest Hemingway: rhino the red rain , then , is more turner than country , and the club fish of the critic <eos>\n",
      "***************************************************\n",
      "Decoded Oscar Wilde: ernest the highest criticism , then , is more creative than creation , and the primary aim of the critic <eos>\n",
      "\n"
     ]
    },
    {
     "data": {
      "application/vnd.jupyter.widget-view+json": {
       "model_id": "357edac292b04a4f92ba165b03d343ab",
       "version_major": 2,
       "version_minor": 0
      },
      "text/plain": [
       "HBox(children=(FloatProgress(value=0.0, max=798.0), HTML(value='')))"
      ]
     },
     "metadata": {},
     "output_type": "display_data"
    },
    {
     "name": "stdout",
     "output_type": "stream",
     "text": [
      "\n",
      "*************************** EPOCH 8 ***************************\n"
     ]
    },
    {
     "data": {
      "application/vnd.jupyter.widget-view+json": {
       "model_id": "3a24942a08204c48ba262b04e53ffae4",
       "version_major": 2,
       "version_minor": 0
      },
      "text/plain": [
       "HBox(children=(FloatProgress(value=0.0, max=1861.0), HTML(value='')))"
      ]
     },
     "metadata": {},
     "output_type": "display_data"
    },
    {
     "name": "stdout",
     "output_type": "stream",
     "text": [
      "-------------------- Author Friedrich Nietzsche --------------------\n",
      "Real: while the sleepy companions remain behind on the benches and the floor , to dream of socrates , the true <eos>\n",
      "***************************************************\n",
      "Decoded Friedrich Nietzsche: while the opera companions remain behind on the marriages and the guilt , to dream of socrates , the true <eos>\n",
      "***************************************************\n",
      "Decoded Ernest Hemingway: while the knees americans andré behind on the mast and the floor , to dream of tell , the true <eos>\n",
      "***************************************************\n",
      "Decoded Oscar Wilde: while the fountain companions remain behind on the mole and the floor , to dream of sins , the true <eos>\n",
      "-------------------- Author Ernest Hemingway --------------------\n",
      "Real: you wouldn ' t make a very good <unk> <unk> either <pad> <pad> <pad> <pad> <pad> <pad> <pad> <pad> <pad> <eos>\n",
      "***************************************************\n",
      "Decoded Friedrich Nietzsche: you speaks ' t make a very good commanding commanding either <pad> <pad> <pad> <pad> <pad> <pad> <pad> <pad> <pad> <eos>\n",
      "***************************************************\n",
      "Decoded Ernest Hemingway: you wouldn ' t make a very good gathered grinned either <pad> <pad> <pad> <pad> <pad> <pad> <pad> <pad> <pad> <eos>\n",
      "***************************************************\n",
      "Decoded Oscar Wilde: you enter ' t make a very good newgate moves either <pad> <pad> <pad> <pad> <pad> <pad> <pad> <pad> <pad> <eos>\n",
      "-------------------- Author Oscar Wilde --------------------\n",
      "Real: he had worn it with great success at the <unk> <unk> , and had been highly <unk> on it by <eos>\n",
      "***************************************************\n",
      "Decoded Friedrich Nietzsche: he had utter it with great success at the reformation commanding , and had been highly commanding on it by <eos>\n",
      "***************************************************\n",
      "Decoded Ernest Hemingway: he had worn it with great hell at the group aint , and had been highly jump on it by <eos>\n",
      "***************************************************\n",
      "Decoded Oscar Wilde: he had groan it with great success at the visible moves , and had been visit moves on it by <eos>\n",
      "\n"
     ]
    },
    {
     "data": {
      "application/vnd.jupyter.widget-view+json": {
       "model_id": "8966f971aa16431e94c42466155fbc15",
       "version_major": 2,
       "version_minor": 0
      },
      "text/plain": [
       "HBox(children=(FloatProgress(value=0.0, max=798.0), HTML(value='')))"
      ]
     },
     "metadata": {},
     "output_type": "display_data"
    },
    {
     "name": "stdout",
     "output_type": "stream",
     "text": [
      "\n",
      "*************************** EPOCH 9 ***************************\n"
     ]
    },
    {
     "data": {
      "application/vnd.jupyter.widget-view+json": {
       "model_id": "e0b1535a70734747a12a9d7919322f86",
       "version_major": 2,
       "version_minor": 0
      },
      "text/plain": [
       "HBox(children=(FloatProgress(value=0.0, max=1861.0), HTML(value='')))"
      ]
     },
     "metadata": {},
     "output_type": "display_data"
    },
    {
     "name": "stdout",
     "output_type": "stream",
     "text": [
      "-------------------- Author Friedrich Nietzsche --------------------\n",
      "Real: it is precisely here that the popular belief in something superhuman in man , in a miracle , in the <eos>\n",
      "***************************************************\n",
      "Decoded Friedrich Nietzsche: it is precisely here that the popular belief in something bizet in man , in a persecution , in the <eos>\n",
      "***************************************************\n",
      "Decoded Ernest Hemingway: it is eat here that the popular daughter in something dame in man , in a daunted , in the <eos>\n",
      "***************************************************\n",
      "Decoded Oscar Wilde: it is gave here that the popular daughter in something gracefully in man , in a miracle , in the <eos>\n",
      "-------------------- Author Ernest Hemingway --------------------\n",
      "Real: will you sit in the sun in the doorway ? yes <pad> <pad> <pad> <pad> <pad> <pad> <pad> <pad> <pad> <eos>\n",
      "***************************************************\n",
      "Decoded Friedrich Nietzsche: will you sit in the sun in the unknown ? yes <pad> <pad> <pad> <pad> <pad> <pad> <pad> <pad> <pad> <eos>\n",
      "***************************************************\n",
      "Decoded Ernest Hemingway: will you sit in the sun in the doorway ? yes <pad> <pad> <pad> <pad> <pad> <pad> <pad> <pad> <pad> <eos>\n",
      "***************************************************\n",
      "Decoded Oscar Wilde: will you sit in the sun in the doorway ? yes <pad> <pad> <pad> <pad> <pad> <pad> <pad> <pad> <pad> <eos>\n",
      "-------------------- Author Oscar Wilde --------------------\n",
      "Real: lord illingworth is so delightful , and , by the way , mother , i have a great surprise for <eos>\n",
      "***************************************************\n",
      "Decoded Friedrich Nietzsche: lord exhaustion is so degree , and , by the way , mother , i have a great helping for <eos>\n",
      "***************************************************\n",
      "Decoded Ernest Hemingway: lord trees is so headed , and , by the way , mother , i have a great surprise for <eos>\n",
      "***************************************************\n",
      "Decoded Oscar Wilde: lord illingworth is so delightful , and , by the way , mother , i have a great surprise for <eos>\n",
      "\n"
     ]
    },
    {
     "data": {
      "application/vnd.jupyter.widget-view+json": {
       "model_id": "fc8978208ffb4dccbcf6c649d2168580",
       "version_major": 2,
       "version_minor": 0
      },
      "text/plain": [
       "HBox(children=(FloatProgress(value=0.0, max=798.0), HTML(value='')))"
      ]
     },
     "metadata": {},
     "output_type": "display_data"
    },
    {
     "name": "stdout",
     "output_type": "stream",
     "text": [
      "\n",
      "*************************** EPOCH 10 ***************************\n"
     ]
    },
    {
     "data": {
      "application/vnd.jupyter.widget-view+json": {
       "model_id": "ecd751dfc0f943e081d6d7deda6332ad",
       "version_major": 2,
       "version_minor": 0
      },
      "text/plain": [
       "HBox(children=(FloatProgress(value=0.0, max=1861.0), HTML(value='')))"
      ]
     },
     "metadata": {},
     "output_type": "display_data"
    },
    {
     "name": "stdout",
     "output_type": "stream",
     "text": [
      "-------------------- Author Friedrich Nietzsche --------------------\n",
      "Real: alas ! in our body dwelleth still all this delusion and blundering : body and will hath it there become <eos>\n",
      "***************************************************\n",
      "Decoded Friedrich Nietzsche: alas ! in our body thankfuy still all this delusion and intervenes : body and will hath it there become <eos>\n",
      "***************************************************\n",
      "Decoded Ernest Hemingway: spain ! in our body joking still all this buck and iknow : body and will passed it there become <eos>\n",
      "***************************************************\n",
      "Decoded Oscar Wilde: alas ! in our body vase still all this lecture and melt : body and will hath it there become <eos>\n",
      "-------------------- Author Ernest Hemingway --------------------\n",
      "Real: people went to the corrida to see belmonte , to be given <unk> <unk> , and perhaps to see the <eos>\n",
      "***************************************************\n",
      "Decoded Friedrich Nietzsche: people went to the wayside to see impersonal , to be given strained commanding , and perhaps to see the <eos>\n",
      "***************************************************\n",
      "Decoded Ernest Hemingway: people went to the lilas to see belmonte , to be given decisions patients , and perhaps to see the <eos>\n",
      "***************************************************\n",
      "Decoded Oscar Wilde: people went to the lyrics to see nine , to be given loosened gracefully , and perhaps to see the <eos>\n",
      "-------------------- Author Oscar Wilde --------------------\n",
      "Real: only england could have produced him , and he always said that the country was going to the dogs <pad> <eos>\n",
      "***************************************************\n",
      "Decoded Friedrich Nietzsche: only misunderstanding could have produced him , and he always said that the country was going to the heroic <pad> <eos>\n",
      "***************************************************\n",
      "Decoded Ernest Hemingway: only england could have lying him , and he always said that the country was going to the dogs <pad> <eos>\n",
      "***************************************************\n",
      "Decoded Oscar Wilde: only england could have produced him , and he always said that the country was going to the dogs <pad> <eos>\n",
      "\n"
     ]
    },
    {
     "data": {
      "application/vnd.jupyter.widget-view+json": {
       "model_id": "a9179b90f54d4cc4925c7d068aca7379",
       "version_major": 2,
       "version_minor": 0
      },
      "text/plain": [
       "HBox(children=(FloatProgress(value=0.0, max=798.0), HTML(value='')))"
      ]
     },
     "metadata": {},
     "output_type": "display_data"
    },
    {
     "name": "stdout",
     "output_type": "stream",
     "text": [
      "\n",
      "*************************** EPOCH 11 ***************************\n"
     ]
    },
    {
     "data": {
      "application/vnd.jupyter.widget-view+json": {
       "model_id": "72ecaab6f0e14351a69c46bbe6641f58",
       "version_major": 2,
       "version_minor": 0
      },
      "text/plain": [
       "HBox(children=(FloatProgress(value=0.0, max=1861.0), HTML(value='')))"
      ]
     },
     "metadata": {},
     "output_type": "display_data"
    },
    {
     "name": "stdout",
     "output_type": "stream",
     "text": [
      "-------------------- Author Friedrich Nietzsche --------------------\n",
      "Real: it is more <unk> to think i possess the truth , than to see only darkness in all directions <pad> <eos>\n",
      "***************************************************\n",
      "Decoded Friedrich Nietzsche: it is more commanding to think i possess the truth , than to see only darkness in all wrathful <pad> <eos>\n",
      "***************************************************\n",
      "Decoded Ernest Hemingway: it is more trailed to think i trade the truth , than to see only darkness in all oughtn <pad> <eos>\n",
      "***************************************************\n",
      "Decoded Oscar Wilde: it is more recreate to think i possess the truth , than to see only darkness in all gorgon <pad> <eos>\n",
      "-------------------- Author Ernest Hemingway --------------------\n",
      "Real: going down the dark streets to the hotel we saw the sky rockets going up in the square <pad> <pad> <eos>\n",
      "***************************************************\n",
      "Decoded Friedrich Nietzsche: going down the dark streets to the colours we saw the sky sighted going up in the path <pad> <pad> <eos>\n",
      "***************************************************\n",
      "Decoded Ernest Hemingway: going down the dark streets to the hotel we saw the sky drevitts going up in the square <pad> <pad> <eos>\n",
      "***************************************************\n",
      "Decoded Oscar Wilde: going down the dark streets to the colours we saw the sky mechanically going up in the square <pad> <pad> <eos>\n",
      "-------------------- Author Oscar Wilde --------------------\n",
      "Real: i like men who have a future , and women who have a past , he answered <pad> <pad> <pad> <eos>\n",
      "***************************************************\n",
      "Decoded Friedrich Nietzsche: i like men who have a future , and women who have a past , he answered <pad> <pad> <pad> <eos>\n",
      "***************************************************\n",
      "Decoded Ernest Hemingway: i like men who have a b , and women who have a past , he answered <pad> <pad> <pad> <eos>\n",
      "***************************************************\n",
      "Decoded Oscar Wilde: i like men who have a future , and women who have a past , he answered <pad> <pad> <pad> <eos>\n",
      "\n"
     ]
    },
    {
     "data": {
      "application/vnd.jupyter.widget-view+json": {
       "model_id": "9cfa38d548944257b882d9a08953951c",
       "version_major": 2,
       "version_minor": 0
      },
      "text/plain": [
       "HBox(children=(FloatProgress(value=0.0, max=798.0), HTML(value='')))"
      ]
     },
     "metadata": {},
     "output_type": "display_data"
    },
    {
     "name": "stdout",
     "output_type": "stream",
     "text": [
      "\n",
      "*************************** EPOCH 12 ***************************\n"
     ]
    },
    {
     "data": {
      "application/vnd.jupyter.widget-view+json": {
       "model_id": "e3f9ad5127b94e29a3a5405a9a508e67",
       "version_major": 2,
       "version_minor": 0
      },
      "text/plain": [
       "HBox(children=(FloatProgress(value=0.0, max=1861.0), HTML(value='')))"
      ]
     },
     "metadata": {},
     "output_type": "display_data"
    },
    {
     "name": "stdout",
     "output_type": "stream",
     "text": [
      "-------------------- Author Friedrich Nietzsche --------------------\n",
      "Real: when the great man <unk> : immediately runneth the little man thither , and his tongue hangeth out of his <eos>\n",
      "***************************************************\n",
      "Decoded Friedrich Nietzsche: when the great man parodist : immediately traits the little man thither , and his tongue imagines out of his <eos>\n",
      "***************************************************\n",
      "Decoded Ernest Hemingway: when the great man trailed : immediately ahead the little man re , and his planks tormr out of his <eos>\n",
      "***************************************************\n",
      "Decoded Oscar Wilde: when the great man loosened : immediately groan the little man exit , and his tongue nymphs out of his <eos>\n",
      "-------------------- Author Ernest Hemingway --------------------\n",
      "Real: you ought to take a good one <pad> <pad> <pad> <pad> <pad> <pad> <pad> <pad> <pad> <pad> <pad> <pad> <pad> <eos>\n",
      "***************************************************\n",
      "Decoded Friedrich Nietzsche: you ought to take a good one <pad> <pad> <pad> <pad> <pad> <pad> <pad> <pad> <pad> <pad> <pad> <pad> <pad> <eos>\n",
      "***************************************************\n",
      "Decoded Ernest Hemingway: you ought to take a good one <pad> <pad> <pad> <pad> <pad> <pad> <pad> <pad> <pad> <pad> <pad> <pad> <pad> <eos>\n",
      "***************************************************\n",
      "Decoded Oscar Wilde: you ought to take a good one <pad> <pad> <pad> <pad> <pad> <pad> <pad> <pad> <pad> <pad> <pad> <pad> <pad> <eos>\n",
      "-------------------- Author Oscar Wilde --------------------\n",
      "Real: the hero of the wonderful novel that had so influenced his life had himself known this curious fancy <pad> <pad> <eos>\n",
      "***************************************************\n",
      "Decoded Friedrich Nietzsche: the hero of the wonderful chapter that had so fugitive his life had himself known this curious fancy <pad> <pad> <eos>\n",
      "***************************************************\n",
      "Decoded Ernest Hemingway: the hero of the wonderful ostrich that had so trade his life had himself known this empty fancy <pad> <pad> <eos>\n",
      "***************************************************\n",
      "Decoded Oscar Wilde: the hero of the wonderful novel that had so influenced his life had himself known this curious fancy <pad> <pad> <eos>\n",
      "\n"
     ]
    },
    {
     "data": {
      "application/vnd.jupyter.widget-view+json": {
       "model_id": "3b33002c246d45f890ba5d085fa2408a",
       "version_major": 2,
       "version_minor": 0
      },
      "text/plain": [
       "HBox(children=(FloatProgress(value=0.0, max=798.0), HTML(value='')))"
      ]
     },
     "metadata": {},
     "output_type": "display_data"
    },
    {
     "name": "stdout",
     "output_type": "stream",
     "text": [
      "\n",
      "*************************** EPOCH 13 ***************************\n"
     ]
    },
    {
     "data": {
      "application/vnd.jupyter.widget-view+json": {
       "model_id": "641a1cd765c64d699eaa7856f79a8b84",
       "version_major": 2,
       "version_minor": 0
      },
      "text/plain": [
       "HBox(children=(FloatProgress(value=0.0, max=1861.0), HTML(value='')))"
      ]
     },
     "metadata": {},
     "output_type": "display_data"
    },
    {
     "name": "stdout",
     "output_type": "stream",
     "text": [
      "-------------------- Author Friedrich Nietzsche --------------------\n",
      "Real: believe me , my brethren ! it was the body which despaired of the body it <unk> with the fingers <eos>\n",
      "***************************************************\n",
      "Decoded Friedrich Nietzsche: believe me , my brethren ! it was the body which despaired of the body it parodist with the fingers <eos>\n",
      "***************************************************\n",
      "Decoded Ernest Hemingway: believe me , my handsome ! it was the body which smacked of the body it decisions with the fingers <eos>\n",
      "***************************************************\n",
      "Decoded Oscar Wilde: believe me , my murmured ! it was the body which odorous of the body it moves with the fingers <eos>\n",
      "-------------------- Author Ernest Hemingway --------------------\n",
      "Real: and where i had led it now pleased me very much <pad> <pad> <pad> <pad> <pad> <pad> <pad> <pad> <pad> <eos>\n",
      "***************************************************\n",
      "Decoded Friedrich Nietzsche: and where i had led it now pleased me very much <pad> <pad> <pad> <pad> <pad> <pad> <pad> <pad> <pad> <eos>\n",
      "***************************************************\n",
      "Decoded Ernest Hemingway: and where i had led it now pleased me very much <pad> <pad> <pad> <pad> <pad> <pad> <pad> <pad> <pad> <eos>\n",
      "***************************************************\n",
      "Decoded Oscar Wilde: and where i had led it now pleased me very much <pad> <pad> <pad> <pad> <pad> <pad> <pad> <pad> <pad> <eos>\n",
      "-------------------- Author Oscar Wilde --------------------\n",
      "Real: poor geoffrey is terribly upset <pad> <pad> <pad> <pad> <pad> <pad> <pad> <pad> <pad> <pad> <pad> <pad> <pad> <pad> <pad> <eos>\n",
      "***************************************************\n",
      "Decoded Friedrich Nietzsche: poor impotence is awful eyesight <pad> <pad> <pad> <pad> <pad> <pad> <pad> <pad> <pad> <pad> <pad> <pad> <pad> <pad> <pad> <eos>\n",
      "***************************************************\n",
      "Decoded Ernest Hemingway: poor bought is terribly clean <pad> <pad> <pad> <pad> <pad> <pad> <pad> <pad> <pad> <pad> <pad> <pad> <pad> <pad> <pad> <eos>\n",
      "***************************************************\n",
      "Decoded Oscar Wilde: poor geoffrey is terribly waters <pad> <pad> <pad> <pad> <pad> <pad> <pad> <pad> <pad> <pad> <pad> <pad> <pad> <pad> <pad> <eos>\n",
      "\n"
     ]
    },
    {
     "data": {
      "application/vnd.jupyter.widget-view+json": {
       "model_id": "cd0c467e52d245818c96df8facbc489d",
       "version_major": 2,
       "version_minor": 0
      },
      "text/plain": [
       "HBox(children=(FloatProgress(value=0.0, max=798.0), HTML(value='')))"
      ]
     },
     "metadata": {},
     "output_type": "display_data"
    },
    {
     "name": "stdout",
     "output_type": "stream",
     "text": [
      "\n",
      "*************************** EPOCH 14 ***************************\n"
     ]
    },
    {
     "data": {
      "application/vnd.jupyter.widget-view+json": {
       "model_id": "3b36eb8355c245d98a6bdffe0ab91a2d",
       "version_major": 2,
       "version_minor": 0
      },
      "text/plain": [
       "HBox(children=(FloatProgress(value=0.0, max=1861.0), HTML(value='')))"
      ]
     },
     "metadata": {},
     "output_type": "display_data"
    },
    {
     "name": "stdout",
     "output_type": "stream",
     "text": [
      "-------------------- Author Friedrich Nietzsche --------------------\n",
      "Real: we cannot decide , whether what we call truth is really truth , or whether it only seems so to <eos>\n",
      "***************************************************\n",
      "Decoded Friedrich Nietzsche: we cannot decide , whether what we call truth is really truth , or whether it only seems so to <eos>\n",
      "***************************************************\n",
      "Decoded Ernest Hemingway: we cannot decide , whether what we call truth is really truth , or whether it only seems so to <eos>\n",
      "***************************************************\n",
      "Decoded Oscar Wilde: we cannot decide , whether what we call truth is really truth , or whether it only seems so to <eos>\n",
      "-------------------- Author Ernest Hemingway --------------------\n",
      "Real: i ' d love one <pad> <pad> <pad> <pad> <pad> <pad> <pad> <pad> <pad> <pad> <pad> <pad> <pad> <pad> <pad> <eos>\n",
      "***************************************************\n",
      "Decoded Friedrich Nietzsche: i ' ancient love one <pad> <pad> <pad> <pad> <pad> <pad> <pad> <pad> <pad> <pad> <pad> <pad> <pad> <pad> <pad> <eos>\n",
      "***************************************************\n",
      "Decoded Ernest Hemingway: i ' d love one <pad> <pad> <pad> <pad> <pad> <pad> <pad> <pad> <pad> <pad> <pad> <pad> <pad> <pad> <pad> <eos>\n",
      "***************************************************\n",
      "Decoded Oscar Wilde: i ' d love one <pad> <pad> <pad> <pad> <pad> <pad> <pad> <pad> <pad> <pad> <pad> <pad> <pad> <pad> <pad> <eos>\n",
      "-------------------- Author Oscar Wilde --------------------\n",
      "Real: rhyme , which can turn man ' s utterance to the speech of gods <pad> <pad> <pad> <pad> <pad> <pad> <eos>\n",
      "***************************************************\n",
      "Decoded Friedrich Nietzsche: thankfuy , which can turn man ' s inventions to the speech of gods <pad> <pad> <pad> <pad> <pad> <pad> <eos>\n",
      "***************************************************\n",
      "Decoded Ernest Hemingway: cipriani , which can turn man ' s lead to the speech of gods <pad> <pad> <pad> <pad> <pad> <pad> <eos>\n",
      "***************************************************\n",
      "Decoded Oscar Wilde: blake , which can turn man ' s utterance to the speech of gods <pad> <pad> <pad> <pad> <pad> <pad> <eos>\n",
      "\n"
     ]
    },
    {
     "data": {
      "application/vnd.jupyter.widget-view+json": {
       "model_id": "20f40b5a67f14f2db6bce85839b04c90",
       "version_major": 2,
       "version_minor": 0
      },
      "text/plain": [
       "HBox(children=(FloatProgress(value=0.0, max=798.0), HTML(value='')))"
      ]
     },
     "metadata": {},
     "output_type": "display_data"
    },
    {
     "name": "stdout",
     "output_type": "stream",
     "text": [
      "\n",
      "*************************** EPOCH 15 ***************************\n"
     ]
    },
    {
     "data": {
      "application/vnd.jupyter.widget-view+json": {
       "model_id": "3b60b6307daf479abf17856de19155d4",
       "version_major": 2,
       "version_minor": 0
      },
      "text/plain": [
       "HBox(children=(FloatProgress(value=0.0, max=1861.0), HTML(value='')))"
      ]
     },
     "metadata": {},
     "output_type": "display_data"
    },
    {
     "name": "stdout",
     "output_type": "stream",
     "text": [
      "-------------------- Author Friedrich Nietzsche --------------------\n",
      "Real: inherited energy belongs to them <pad> <pad> <pad> <pad> <pad> <pad> <pad> <pad> <pad> <pad> <pad> <pad> <pad> <pad> <pad> <eos>\n",
      "***************************************************\n",
      "Decoded Friedrich Nietzsche: inherited energy belongs to them <pad> <pad> <pad> <pad> <pad> <pad> <pad> <pad> <pad> <pad> <pad> <pad> <pad> <pad> <pad> <eos>\n",
      "***************************************************\n",
      "Decoded Ernest Hemingway: breakfast energy belongs to them <pad> <pad> <pad> <pad> <pad> <pad> <pad> <pad> <pad> <pad> <pad> <pad> <pad> <pad> <pad> <eos>\n",
      "***************************************************\n",
      "Decoded Oscar Wilde: wishing energy belongs to them <pad> <pad> <pad> <pad> <pad> <pad> <pad> <pad> <pad> <pad> <pad> <pad> <pad> <pad> <pad> <eos>\n",
      "-------------------- Author Ernest Hemingway --------------------\n",
      "Real: i believe it , said the biggest one <pad> <pad> <pad> <pad> <pad> <pad> <pad> <pad> <pad> <pad> <pad> <pad> <eos>\n",
      "***************************************************\n",
      "Decoded Friedrich Nietzsche: i believe it , said the ascetic one <pad> <pad> <pad> <pad> <pad> <pad> <pad> <pad> <pad> <pad> <pad> <pad> <eos>\n",
      "***************************************************\n",
      "Decoded Ernest Hemingway: i believe it , said the biggest one <pad> <pad> <pad> <pad> <pad> <pad> <pad> <pad> <pad> <pad> <pad> <pad> <eos>\n",
      "***************************************************\n",
      "Decoded Oscar Wilde: i believe it , said the fauns one <pad> <pad> <pad> <pad> <pad> <pad> <pad> <pad> <pad> <pad> <pad> <pad> <eos>\n",
      "-------------------- Author Oscar Wilde --------------------\n",
      "Real: it was true that the portrait still preserved , under all the foulness and ugliness of the face , its <eos>\n",
      "***************************************************\n",
      "Decoded Friedrich Nietzsche: it was true that the portrait still afflictions , under all the boundaries and wont of the face , its <eos>\n",
      "***************************************************\n",
      "Decoded Ernest Hemingway: it was true that the portrait still harvey , under all the nicer and shouldn of the face , its <eos>\n",
      "***************************************************\n",
      "Decoded Oscar Wilde: it was true that the portrait still corot , under all the prominent and phidias of the face , its <eos>\n",
      "\n"
     ]
    },
    {
     "data": {
      "application/vnd.jupyter.widget-view+json": {
       "model_id": "2760e8fb6bf6487292568de4e8e36fe6",
       "version_major": 2,
       "version_minor": 0
      },
      "text/plain": [
       "HBox(children=(FloatProgress(value=0.0, max=798.0), HTML(value='')))"
      ]
     },
     "metadata": {},
     "output_type": "display_data"
    },
    {
     "name": "stdout",
     "output_type": "stream",
     "text": [
      "\n",
      "*************************** EPOCH 16 ***************************\n"
     ]
    },
    {
     "data": {
      "application/vnd.jupyter.widget-view+json": {
       "model_id": "033ec886e7fa420bacff2be3c091bbf0",
       "version_major": 2,
       "version_minor": 0
      },
      "text/plain": [
       "HBox(children=(FloatProgress(value=0.0, max=1861.0), HTML(value='')))"
      ]
     },
     "metadata": {},
     "output_type": "display_data"
    },
    {
     "name": "stdout",
     "output_type": "stream",
     "text": [
      "-------------------- Author Friedrich Nietzsche --------------------\n",
      "Real: and every one of them would have behaved exuberantly if he had possessed the requisite talent , and would willingly <eos>\n",
      "***************************************************\n",
      "Decoded Friedrich Nietzsche: and every one of them would have bizet protectors if he had possessed the requisite talent , and would willingly <eos>\n",
      "***************************************************\n",
      "Decoded Ernest Hemingway: and every one of them would have nourishing chaplain if he had possessed the pipes talent , and would worried <eos>\n",
      "***************************************************\n",
      "Decoded Oscar Wilde: and every one of them would have flaring treatise if he had possessed the corridor reproach , and would treats <eos>\n",
      "-------------------- Author Ernest Hemingway --------------------\n",
      "Real: she brought the coffee from the kitchen and mr wheeler looked out the window at the snow falling in the <eos>\n",
      "***************************************************\n",
      "Decoded Friedrich Nietzsche: she brought the period from the romans and mr introduced looked out the window at the enfeeblement freed in the <eos>\n",
      "***************************************************\n",
      "Decoded Ernest Hemingway: she brought the coffee from the kitchen and mr wheeler looked out the window at the snow baited in the <eos>\n",
      "***************************************************\n",
      "Decoded Oscar Wilde: she brought the coffee from the returned and mr didst looked out the window at the snow tinkle in the <eos>\n",
      "-------------------- Author Oscar Wilde --------------------\n",
      "Real: it often seems to me that art conceals the artist far more completely than it ever reveals him <pad> <pad> <eos>\n",
      "***************************************************\n",
      "Decoded Friedrich Nietzsche: it often seems to me that art attracted the artist far more completely than it ever reveals him <pad> <pad> <eos>\n",
      "***************************************************\n",
      "Decoded Ernest Hemingway: it often seems to me that art georgette the work far more completely than it ever muletas him <pad> <pad> <eos>\n",
      "***************************************************\n",
      "Decoded Oscar Wilde: it often seems to me that art conceals the artist far more completely than it ever melt him <pad> <pad> <eos>\n",
      "\n"
     ]
    },
    {
     "data": {
      "application/vnd.jupyter.widget-view+json": {
       "model_id": "9cedce110a7e4eeb854b60df1b4d2e64",
       "version_major": 2,
       "version_minor": 0
      },
      "text/plain": [
       "HBox(children=(FloatProgress(value=0.0, max=798.0), HTML(value='')))"
      ]
     },
     "metadata": {},
     "output_type": "display_data"
    },
    {
     "name": "stdout",
     "output_type": "stream",
     "text": [
      "\n",
      "*************************** EPOCH 17 ***************************\n"
     ]
    },
    {
     "data": {
      "application/vnd.jupyter.widget-view+json": {
       "model_id": "fbd6f6a3f6c148a480b252601a31034c",
       "version_major": 2,
       "version_minor": 0
      },
      "text/plain": [
       "HBox(children=(FloatProgress(value=0.0, max=1861.0), HTML(value='')))"
      ]
     },
     "metadata": {},
     "output_type": "display_data"
    },
    {
     "name": "stdout",
     "output_type": "stream",
     "text": [
      "-------------------- Author Friedrich Nietzsche --------------------\n",
      "Real: this however is my teaching : he who wisheth one day to fly , must first learn standing and walking <eos>\n",
      "***************************************************\n",
      "Decoded Friedrich Nietzsche: this however is my teaching : he who remaineth one day to fly , must first learn standing and walking <eos>\n",
      "***************************************************\n",
      "Decoded Ernest Hemingway: this however is my dog : he who gorse one day to fly , must first learn standing and walking <eos>\n",
      "***************************************************\n",
      "Decoded Oscar Wilde: this however is my teaching : he who egotism one day to fly , must first learn standing and walking <eos>\n",
      "-------------------- Author Ernest Hemingway --------------------\n",
      "Real: it must have been pleasant for him to see her looking so lovely , and know he had been away <eos>\n",
      "***************************************************\n",
      "Decoded Friedrich Nietzsche: it must have been pleasant for him to see her looking so lovely , and know he had been away <eos>\n",
      "***************************************************\n",
      "Decoded Ernest Hemingway: it must have been pleasant for him to see her looking so lovely , and know he had been away <eos>\n",
      "***************************************************\n",
      "Decoded Oscar Wilde: it must have been pleasant for him to see her looking so lovely , and know he had been away <eos>\n",
      "-------------------- Author Oscar Wilde --------------------\n",
      "Real: dragons will wander about the waste places , and the phoenix will soar from her nest of fire into the <eos>\n",
      "***************************************************\n",
      "Decoded Friedrich Nietzsche: refinement will wander about the waste places , and the tailor will shameful from her nest of fire into the <eos>\n",
      "***************************************************\n",
      "Decoded Ernest Hemingway: taxis will wander about the waste places , and the pipes will bruce from her fighter of fire into the <eos>\n",
      "***************************************************\n",
      "Decoded Oscar Wilde: dragons will wander about the dreamer places , and the debauchery will soar from her nest of fire into the <eos>\n",
      "\n"
     ]
    },
    {
     "data": {
      "application/vnd.jupyter.widget-view+json": {
       "model_id": "ad82f2f73dd743ec9888a2107fde7baa",
       "version_major": 2,
       "version_minor": 0
      },
      "text/plain": [
       "HBox(children=(FloatProgress(value=0.0, max=798.0), HTML(value='')))"
      ]
     },
     "metadata": {},
     "output_type": "display_data"
    },
    {
     "name": "stdout",
     "output_type": "stream",
     "text": [
      "\n",
      "*************************** EPOCH 18 ***************************\n"
     ]
    },
    {
     "data": {
      "application/vnd.jupyter.widget-view+json": {
       "model_id": "701504b2cf944e629283268a6c89d1a8",
       "version_major": 2,
       "version_minor": 0
      },
      "text/plain": [
       "HBox(children=(FloatProgress(value=0.0, max=1861.0), HTML(value='')))"
      ]
     },
     "metadata": {},
     "output_type": "display_data"
    },
    {
     "name": "stdout",
     "output_type": "stream",
     "text": [
      "-------------------- Author Friedrich Nietzsche --------------------\n",
      "Real: thou shalt not tell a falsehood : people insist upon truthfulness <pad> <pad> <pad> <pad> <pad> <pad> <pad> <pad> <pad> <eos>\n",
      "***************************************************\n",
      "Decoded Friedrich Nietzsche: thou shalt not tell a falsehood : people chapter upon truthfulness <pad> <pad> <pad> <pad> <pad> <pad> <pad> <pad> <pad> <eos>\n",
      "***************************************************\n",
      "Decoded Ernest Hemingway: thou army not tell a mrs : people notice upon tomorrow <pad> <pad> <pad> <pad> <pad> <pad> <pad> <pad> <pad> <eos>\n",
      "***************************************************\n",
      "Decoded Oscar Wilde: thou shalt not tell a evil : people insist upon east <pad> <pad> <pad> <pad> <pad> <pad> <pad> <pad> <pad> <eos>\n",
      "-------------------- Author Ernest Hemingway --------------------\n",
      "Real: what do you know about lady brett ashley , jake ? her name ' s lady ashley <pad> <pad> <pad> <eos>\n",
      "***************************************************\n",
      "Decoded Friedrich Nietzsche: what do you know about lady one conceptions , corruption ? her name ' s lady economy <pad> <pad> <pad> <eos>\n",
      "***************************************************\n",
      "Decoded Ernest Hemingway: what do you know about lady brett ashley , jake ? her name ' s lady ashley <pad> <pad> <pad> <eos>\n",
      "***************************************************\n",
      "Decoded Oscar Wilde: what do you know about lady poor examined , corruption ? her name ' s lady examined <pad> <pad> <pad> <eos>\n",
      "-------------------- Author Oscar Wilde --------------------\n",
      "Real: it would be quite impossible to sleep , with such a noise going on outside the <unk> <pad> <pad> <pad> <eos>\n",
      "***************************************************\n",
      "Decoded Friedrich Nietzsche: it would be quite impossible to sleep , with such a noise going on outside the boundaries <pad> <pad> <pad> <eos>\n",
      "***************************************************\n",
      "Decoded Ernest Hemingway: it would be quite impossible to sleep , with such a noise going on outside the hillside <pad> <pad> <pad> <eos>\n",
      "***************************************************\n",
      "Decoded Oscar Wilde: it would be quite impossible to sleep , with such a noise going on outside the inhabitants <pad> <pad> <pad> <eos>\n",
      "\n"
     ]
    },
    {
     "data": {
      "application/vnd.jupyter.widget-view+json": {
       "model_id": "d9bf7ea22cf64273b5fcc32aa5ca4bf9",
       "version_major": 2,
       "version_minor": 0
      },
      "text/plain": [
       "HBox(children=(FloatProgress(value=0.0, max=798.0), HTML(value='')))"
      ]
     },
     "metadata": {},
     "output_type": "display_data"
    },
    {
     "name": "stdout",
     "output_type": "stream",
     "text": [
      "\n",
      "*************************** EPOCH 19 ***************************\n"
     ]
    },
    {
     "data": {
      "application/vnd.jupyter.widget-view+json": {
       "model_id": "dc6307340a364ac2907b9dbfd82deeb4",
       "version_major": 2,
       "version_minor": 0
      },
      "text/plain": [
       "HBox(children=(FloatProgress(value=0.0, max=1861.0), HTML(value='')))"
      ]
     },
     "metadata": {},
     "output_type": "display_data"
    },
    {
     "name": "stdout",
     "output_type": "stream",
     "text": [
      "-------------------- Author Friedrich Nietzsche --------------------\n",
      "Real: this is only the christian moral ideal again under another name <pad> <pad> <pad> <pad> <pad> <pad> <pad> <pad> <pad> <eos>\n",
      "***************************************************\n",
      "Decoded Friedrich Nietzsche: this is only the christian moral ideal again under another name <pad> <pad> <pad> <pad> <pad> <pad> <pad> <pad> <pad> <eos>\n",
      "***************************************************\n",
      "Decoded Ernest Hemingway: this is only the christian pop frances again under another name <pad> <pad> <pad> <pad> <pad> <pad> <pad> <pad> <pad> <eos>\n",
      "***************************************************\n",
      "Decoded Oscar Wilde: this is only the christian moral ideal again under another name <pad> <pad> <pad> <pad> <pad> <pad> <pad> <pad> <pad> <eos>\n",
      "-------------------- Author Ernest Hemingway --------------------\n",
      "Real: the bar didn ' t move <pad> <pad> <pad> <pad> <pad> <pad> <pad> <pad> <pad> <pad> <pad> <pad> <pad> <pad> <eos>\n",
      "***************************************************\n",
      "Decoded Friedrich Nietzsche: the bar suffer ' t move <pad> <pad> <pad> <pad> <pad> <pad> <pad> <pad> <pad> <pad> <pad> <pad> <pad> <pad> <eos>\n",
      "***************************************************\n",
      "Decoded Ernest Hemingway: the bar didn ' t move <pad> <pad> <pad> <pad> <pad> <pad> <pad> <pad> <pad> <pad> <pad> <pad> <pad> <pad> <eos>\n",
      "***************************************************\n",
      "Decoded Oscar Wilde: the bar didn ' t move <pad> <pad> <pad> <pad> <pad> <pad> <pad> <pad> <pad> <pad> <pad> <pad> <pad> <pad> <eos>\n",
      "-------------------- Author Oscar Wilde --------------------\n",
      "Real: [ lord illingworth and gerald , rr lord illingworth <unk> on a sofa <pad> <pad> <pad> <pad> <pad> <pad> <pad> <eos>\n",
      "***************************************************\n",
      "Decoded Friedrich Nietzsche: [ lord exhaustion and ourselves , arthur lord exhaustion boundaries on a correct <pad> <pad> <pad> <pad> <pad> <pad> <pad> <eos>\n",
      "***************************************************\n",
      "Decoded Ernest Hemingway: [ lord fix and know , wishing lord fix tobe on a correct <pad> <pad> <pad> <pad> <pad> <pad> <pad> <eos>\n",
      "***************************************************\n",
      "Decoded Oscar Wilde: [ lord illingworth and gerald , subdue lord illingworth alarmed on a sofa <pad> <pad> <pad> <pad> <pad> <pad> <pad> <eos>\n",
      "\n"
     ]
    },
    {
     "data": {
      "application/vnd.jupyter.widget-view+json": {
       "model_id": "279fe0e8c7114c7a86088d7548d4b268",
       "version_major": 2,
       "version_minor": 0
      },
      "text/plain": [
       "HBox(children=(FloatProgress(value=0.0, max=798.0), HTML(value='')))"
      ]
     },
     "metadata": {},
     "output_type": "display_data"
    },
    {
     "name": "stdout",
     "output_type": "stream",
     "text": [
      "\n",
      "*************************** EPOCH 20 ***************************\n"
     ]
    },
    {
     "data": {
      "application/vnd.jupyter.widget-view+json": {
       "model_id": "d3b6c6de5d3c4cf2bfe912b1d878e6dc",
       "version_major": 2,
       "version_minor": 0
      },
      "text/plain": [
       "HBox(children=(FloatProgress(value=0.0, max=1861.0), HTML(value='')))"
      ]
     },
     "metadata": {},
     "output_type": "display_data"
    },
    {
     "name": "stdout",
     "output_type": "stream",
     "text": [
      "-------------------- Author Friedrich Nietzsche --------------------\n",
      "Real: — but what do i matter ? our <unk> — during our period of youth we select our teachers and <eos>\n",
      "***************************************************\n",
      "Decoded Friedrich Nietzsche: — but what do i matter ? our affects — during our period of youth we select our teachers and <eos>\n",
      "***************************************************\n",
      "Decoded Ernest Hemingway: — but what do i matter ? our tobe — during our period of youth we select our days and <eos>\n",
      "***************************************************\n",
      "Decoded Oscar Wilde: — but what do i matter ? our breakfasting — during our period of youth we directly our didst and <eos>\n",
      "-------------------- Author Ernest Hemingway --------------------\n",
      "Real: but i ' d like to get one that wouldn ' t look silly beside that dream rhino of his <eos>\n",
      "***************************************************\n",
      "Decoded Friedrich Nietzsche: but i ' d like to get one that simply ' t look understanding beside that dream future of his <eos>\n",
      "***************************************************\n",
      "Decoded Ernest Hemingway: but i ' d like to get one that wouldn ' t look silly beside that dream rhino of his <eos>\n",
      "***************************************************\n",
      "Decoded Oscar Wilde: but i ' d like to get one that wouldn ' t look silly beside that dream future of his <eos>\n",
      "-------------------- Author Oscar Wilde --------------------\n",
      "Real: and he went up on to a mountain and sat down on a rock that was on the mountain , <eos>\n",
      "***************************************************\n",
      "Decoded Friedrich Nietzsche: and he went up on to a mountain and sat down on a rock that was on the mountain , <eos>\n",
      "***************************************************\n",
      "Decoded Ernest Hemingway: and he went up on to a mountain and sat down on a load that was on the mountain , <eos>\n",
      "***************************************************\n",
      "Decoded Oscar Wilde: and he went up on to a mountain and sat down on a rock that was on the mountain , <eos>\n",
      "\n"
     ]
    },
    {
     "data": {
      "application/vnd.jupyter.widget-view+json": {
       "model_id": "177690b350274c36b04cf2c66a18c10e",
       "version_major": 2,
       "version_minor": 0
      },
      "text/plain": [
       "HBox(children=(FloatProgress(value=0.0, max=798.0), HTML(value='')))"
      ]
     },
     "metadata": {},
     "output_type": "display_data"
    },
    {
     "name": "stdout",
     "output_type": "stream",
     "text": [
      "\n",
      "*************************** EPOCH 21 ***************************\n"
     ]
    },
    {
     "data": {
      "application/vnd.jupyter.widget-view+json": {
       "model_id": "2f6fb12a1de04fbea8d5a7dc2834a913",
       "version_major": 2,
       "version_minor": 0
      },
      "text/plain": [
       "HBox(children=(FloatProgress(value=0.0, max=1861.0), HTML(value='')))"
      ]
     },
     "metadata": {},
     "output_type": "display_data"
    },
    {
     "name": "stdout",
     "output_type": "stream",
     "text": [
      "-------------------- Author Friedrich Nietzsche --------------------\n",
      "Real: they live and move , and have no part in the <unk> <unk> of the rest of humanity <pad> <pad> <eos>\n",
      "***************************************************\n",
      "Decoded Friedrich Nietzsche: they live and move , and have no part in the boundaries parodist of the rest of humanity <pad> <pad> <eos>\n",
      "***************************************************\n",
      "Decoded Ernest Hemingway: they live and move , and have no part in the wops decisions of the rest of romero <pad> <pad> <eos>\n",
      "***************************************************\n",
      "Decoded Oscar Wilde: they live and move , and have no part in the singeing superstition of the rest of humanity <pad> <pad> <eos>\n",
      "-------------------- Author Ernest Hemingway --------------------\n",
      "Real: where did you leave your bicycle ? inside the last house <pad> <pad> <pad> <pad> <pad> <pad> <pad> <pad> <pad> <eos>\n",
      "***************************************************\n",
      "Decoded Friedrich Nietzsche: where did you leave your examples ? inside the last house <pad> <pad> <pad> <pad> <pad> <pad> <pad> <pad> <pad> <eos>\n",
      "***************************************************\n",
      "Decoded Ernest Hemingway: where did you leave your bicycle ? inside the last house <pad> <pad> <pad> <pad> <pad> <pad> <pad> <pad> <pad> <eos>\n",
      "***************************************************\n",
      "Decoded Oscar Wilde: where did you leave your omen ? inside the last house <pad> <pad> <pad> <pad> <pad> <pad> <pad> <pad> <pad> <eos>\n",
      "-------------------- Author Oscar Wilde --------------------\n",
      "Real: he spoke slowly and with effort <pad> <pad> <pad> <pad> <pad> <pad> <pad> <pad> <pad> <pad> <pad> <pad> <pad> <pad> <eos>\n",
      "***************************************************\n",
      "Decoded Friedrich Nietzsche: he spoke slowly and with effort <pad> <pad> <pad> <pad> <pad> <pad> <pad> <pad> <pad> <pad> <pad> <pad> <pad> <pad> <eos>\n",
      "***************************************************\n",
      "Decoded Ernest Hemingway: he spoke slowly and with effort <pad> <pad> <pad> <pad> <pad> <pad> <pad> <pad> <pad> <pad> <pad> <pad> <pad> <pad> <eos>\n",
      "***************************************************\n",
      "Decoded Oscar Wilde: he spoke slowly and with effort <pad> <pad> <pad> <pad> <pad> <pad> <pad> <pad> <pad> <pad> <pad> <pad> <pad> <pad> <eos>\n",
      "\n"
     ]
    },
    {
     "data": {
      "application/vnd.jupyter.widget-view+json": {
       "model_id": "d8d6bf3c6d2f4eacb84d3467aa2a4bd7",
       "version_major": 2,
       "version_minor": 0
      },
      "text/plain": [
       "HBox(children=(FloatProgress(value=0.0, max=798.0), HTML(value='')))"
      ]
     },
     "metadata": {},
     "output_type": "display_data"
    },
    {
     "name": "stdout",
     "output_type": "stream",
     "text": [
      "\n",
      "*************************** EPOCH 22 ***************************\n"
     ]
    },
    {
     "data": {
      "application/vnd.jupyter.widget-view+json": {
       "model_id": "a7c53350dd754d24ba3eb586155ab0cc",
       "version_major": 2,
       "version_minor": 0
      },
      "text/plain": [
       "HBox(children=(FloatProgress(value=0.0, max=1861.0), HTML(value='')))"
      ]
     },
     "metadata": {},
     "output_type": "display_data"
    },
    {
     "name": "stdout",
     "output_type": "stream",
     "text": [
      "-------------------- Author Friedrich Nietzsche --------------------\n",
      "Real: but he raised the question — as a good european , as we have said , and not as a <eos>\n",
      "***************************************************\n",
      "Decoded Friedrich Nietzsche: but he raised the question — as a good european , as we have said , and not as a <eos>\n",
      "***************************************************\n",
      "Decoded Ernest Hemingway: but he raised the question — as a good european , as we have said , and not as a <eos>\n",
      "***************************************************\n",
      "Decoded Oscar Wilde: but he raised the question — as a good nazarene , as we have said , and not as a <eos>\n",
      "-------------------- Author Ernest Hemingway --------------------\n",
      "Real: his father was with him , suddenly , in deserted <unk> and in new plowed fields , in <unk> , <eos>\n",
      "***************************************************\n",
      "Decoded Friedrich Nietzsche: his father was with him , suddenly , in complacency parodist and in new scholarly occurs , in scintillate , <eos>\n",
      "***************************************************\n",
      "Decoded Ernest Hemingway: his father was with him , suddenly , in catholics decisions and in new tobe fields , in confuse , <eos>\n",
      "***************************************************\n",
      "Decoded Oscar Wilde: his father was with him , suddenly , in remake melt and in new gorgon fields , in breakfasting , <eos>\n",
      "-------------------- Author Oscar Wilde --------------------\n",
      "Real: to certain theatres , such as the lyceum and the <unk> , the public seem to come in a proper <eos>\n",
      "***************************************************\n",
      "Decoded Friedrich Nietzsche: to certain responsible , such as the kantian and the boundaries , the public seem to come in a proper <eos>\n",
      "***************************************************\n",
      "Decoded Ernest Hemingway: to certain games , such as the mexicans and the fifteenth , the public seem to come in a proper <eos>\n",
      "***************************************************\n",
      "Decoded Oscar Wilde: to certain theatres , such as the lyceum and the stag , the public seem to come in a proper <eos>\n",
      "\n"
     ]
    },
    {
     "data": {
      "application/vnd.jupyter.widget-view+json": {
       "model_id": "4b412e0c1a9c4861bfd87ba1a1081c2a",
       "version_major": 2,
       "version_minor": 0
      },
      "text/plain": [
       "HBox(children=(FloatProgress(value=0.0, max=798.0), HTML(value='')))"
      ]
     },
     "metadata": {},
     "output_type": "display_data"
    },
    {
     "name": "stdout",
     "output_type": "stream",
     "text": [
      "\n",
      "*************************** EPOCH 23 ***************************\n"
     ]
    },
    {
     "data": {
      "application/vnd.jupyter.widget-view+json": {
       "model_id": "0c9fe15f4dbe43e7b6bcb06ae66e8db0",
       "version_major": 2,
       "version_minor": 0
      },
      "text/plain": [
       "HBox(children=(FloatProgress(value=0.0, max=1861.0), HTML(value='')))"
      ]
     },
     "metadata": {},
     "output_type": "display_data"
    },
    {
     "name": "stdout",
     "output_type": "stream",
     "text": [
      "-------------------- Author Friedrich Nietzsche --------------------\n",
      "Real: he ever swims against the waves of history , either by fighting his passions , as the nearest brute facts <eos>\n",
      "***************************************************\n",
      "Decoded Friedrich Nietzsche: he ever incorrectly against the waves of history , either by fighting his passions , as the atomistic stalk facts <eos>\n",
      "***************************************************\n",
      "Decoded Ernest Hemingway: he ever wilson against the waves of history , either by fighting his brother , as the drums oryx tight <eos>\n",
      "***************************************************\n",
      "Decoded Oscar Wilde: he ever veiled against the waves of history , either by friendship his passions , as the euston brute facts <eos>\n",
      "-------------------- Author Ernest Hemingway --------------------\n",
      "Real: it ' s all i ' ve got , retana said <pad> <pad> <pad> <pad> <pad> <pad> <pad> <pad> <pad> <eos>\n",
      "***************************************************\n",
      "Decoded Friedrich Nietzsche: it ' s all i ' ve got , categorical said <pad> <pad> <pad> <pad> <pad> <pad> <pad> <pad> <pad> <eos>\n",
      "***************************************************\n",
      "Decoded Ernest Hemingway: it ' s all i ' ve got , retana said <pad> <pad> <pad> <pad> <pad> <pad> <pad> <pad> <pad> <eos>\n",
      "***************************************************\n",
      "Decoded Oscar Wilde: it ' s all i ' ve got , nowadays said <pad> <pad> <pad> <pad> <pad> <pad> <pad> <pad> <pad> <eos>\n",
      "-------------------- Author Oscar Wilde --------------------\n",
      "Real: here , one should never make one ' s début with a scandal <pad> <pad> <pad> <pad> <pad> <pad> <pad> <eos>\n",
      "***************************************************\n",
      "Decoded Friedrich Nietzsche: here , one should never make one ' s atomistic with a hypothesis <pad> <pad> <pad> <pad> <pad> <pad> <pad> <eos>\n",
      "***************************************************\n",
      "Decoded Ernest Hemingway: here , one should never make one ' s metallurgic with a sins <pad> <pad> <pad> <pad> <pad> <pad> <pad> <eos>\n",
      "***************************************************\n",
      "Decoded Oscar Wilde: here , one should never make one ' s gorgon with a scandal <pad> <pad> <pad> <pad> <pad> <pad> <pad> <eos>\n",
      "\n"
     ]
    },
    {
     "data": {
      "application/vnd.jupyter.widget-view+json": {
       "model_id": "472c1cf841a846b48b747832c8626fd9",
       "version_major": 2,
       "version_minor": 0
      },
      "text/plain": [
       "HBox(children=(FloatProgress(value=0.0, max=798.0), HTML(value='')))"
      ]
     },
     "metadata": {},
     "output_type": "display_data"
    },
    {
     "name": "stdout",
     "output_type": "stream",
     "text": [
      "\n",
      "*************************** EPOCH 24 ***************************\n"
     ]
    },
    {
     "data": {
      "application/vnd.jupyter.widget-view+json": {
       "model_id": "c43f18da1d194c9da06c66db6c5e690d",
       "version_major": 2,
       "version_minor": 0
      },
      "text/plain": [
       "HBox(children=(FloatProgress(value=0.0, max=1861.0), HTML(value='')))"
      ]
     },
     "metadata": {},
     "output_type": "display_data"
    },
    {
     "name": "stdout",
     "output_type": "stream",
     "text": [
      "-------------------- Author Friedrich Nietzsche --------------------\n",
      "Real: for a wise and good god is its cause <pad> <pad> <pad> <pad> <pad> <pad> <pad> <pad> <pad> <pad> <pad> <eos>\n",
      "***************************************************\n",
      "Decoded Friedrich Nietzsche: for a wise and good god is its cause <pad> <pad> <pad> <pad> <pad> <pad> <pad> <pad> <pad> <pad> <pad> <eos>\n",
      "***************************************************\n",
      "Decoded Ernest Hemingway: for a wise and good god is its cause <pad> <pad> <pad> <pad> <pad> <pad> <pad> <pad> <pad> <pad> <pad> <eos>\n",
      "***************************************************\n",
      "Decoded Oscar Wilde: for a wise and good god is its cause <pad> <pad> <pad> <pad> <pad> <pad> <pad> <pad> <pad> <pad> <pad> <eos>\n",
      "-------------------- Author Ernest Hemingway --------------------\n",
      "Real: even if i don ' t get one at all , it ' s all right <pad> <pad> <pad> <pad> <eos>\n",
      "***************************************************\n",
      "Decoded Friedrich Nietzsche: even if i don ' t get one at all , it ' s all right <pad> <pad> <pad> <pad> <eos>\n",
      "***************************************************\n",
      "Decoded Ernest Hemingway: even if i don ' t get one at all , it ' s all right <pad> <pad> <pad> <pad> <eos>\n",
      "***************************************************\n",
      "Decoded Oscar Wilde: even if i don ' t get one at all , it ' s all right <pad> <pad> <pad> <pad> <eos>\n",
      "-------------------- Author Oscar Wilde --------------------\n",
      "Real: and his companions followed him , for he was fair , and fleet of foot , and could dance , <eos>\n",
      "***************************************************\n",
      "Decoded Friedrich Nietzsche: and his companions followed him , for he was fair , and ambitious of foot , and could dance , <eos>\n",
      "***************************************************\n",
      "Decoded Ernest Hemingway: and his tide followed him , for he was fair , and allthe of foot , and could dance , <eos>\n",
      "***************************************************\n",
      "Decoded Oscar Wilde: and his companions followed him , for he was fair , and willis of foot , and could dance , <eos>\n",
      "\n"
     ]
    },
    {
     "data": {
      "application/vnd.jupyter.widget-view+json": {
       "model_id": "d1145431fda0419793cdb8f5ffbdcc67",
       "version_major": 2,
       "version_minor": 0
      },
      "text/plain": [
       "HBox(children=(FloatProgress(value=0.0, max=798.0), HTML(value='')))"
      ]
     },
     "metadata": {},
     "output_type": "display_data"
    },
    {
     "name": "stdout",
     "output_type": "stream",
     "text": [
      "\n",
      "*************************** EPOCH 25 ***************************\n"
     ]
    },
    {
     "data": {
      "application/vnd.jupyter.widget-view+json": {
       "model_id": "217a276f23554d36ba420e3681bdbf03",
       "version_major": 2,
       "version_minor": 0
      },
      "text/plain": [
       "HBox(children=(FloatProgress(value=0.0, max=1861.0), HTML(value='')))"
      ]
     },
     "metadata": {},
     "output_type": "display_data"
    },
    {
     "name": "stdout",
     "output_type": "stream",
     "text": [
      "-------------------- Author Friedrich Nietzsche --------------------\n",
      "Real: as a matter of fact , though , a <unk> and desperate décadent , suddenly fell helpless and broken on <eos>\n",
      "***************************************************\n",
      "Decoded Friedrich Nietzsche: as a matter of fact , though , a boundaries and desperate parodist , suddenly fell compeers and broken on <eos>\n",
      "***************************************************\n",
      "Decoded Ernest Hemingway: as a matter of fact , though , a baedeker and swear fromthe , suddenly fell pêché and broken on <eos>\n",
      "***************************************************\n",
      "Decoded Oscar Wilde: as a matter of fact , though , a sentinel and dulled tittle , suddenly fell deserves and broken on <eos>\n",
      "-------------------- Author Ernest Hemingway --------------------\n",
      "Real: but it ' s the best book we ' ve had <pad> <pad> <pad> <pad> <pad> <pad> <pad> <pad> <pad> <eos>\n",
      "***************************************************\n",
      "Decoded Friedrich Nietzsche: but it ' s the best book we ' ve had <pad> <pad> <pad> <pad> <pad> <pad> <pad> <pad> <pad> <eos>\n",
      "***************************************************\n",
      "Decoded Ernest Hemingway: but it ' s the best book we ' ve had <pad> <pad> <pad> <pad> <pad> <pad> <pad> <pad> <pad> <eos>\n",
      "***************************************************\n",
      "Decoded Oscar Wilde: but it ' s the best book we ' ve had <pad> <pad> <pad> <pad> <pad> <pad> <pad> <pad> <pad> <eos>\n",
      "-------------------- Author Oscar Wilde --------------------\n",
      "Real: but suddenly people remarked that they scarcely spoke when they met , and that campbell seemed always to go away <eos>\n",
      "***************************************************\n",
      "Decoded Friedrich Nietzsche: but suddenly people extreme that they scarcely spoke when they met , and that severe seemed always to go away <eos>\n",
      "***************************************************\n",
      "Decoded Ernest Hemingway: but suddenly people extreme that they sprinkled spoke when they met , and that campbell seemed always to go away <eos>\n",
      "***************************************************\n",
      "Decoded Oscar Wilde: but suddenly people remarked that they scarcely spoke when they met , and that campbell seemed always to go away <eos>\n",
      "\n"
     ]
    },
    {
     "data": {
      "application/vnd.jupyter.widget-view+json": {
       "model_id": "a8fe283abb77449e8cc9d5b31adcc065",
       "version_major": 2,
       "version_minor": 0
      },
      "text/plain": [
       "HBox(children=(FloatProgress(value=0.0, max=798.0), HTML(value='')))"
      ]
     },
     "metadata": {},
     "output_type": "display_data"
    },
    {
     "name": "stdout",
     "output_type": "stream",
     "text": [
      "\n",
      "*************************** EPOCH 26 ***************************\n"
     ]
    },
    {
     "data": {
      "application/vnd.jupyter.widget-view+json": {
       "model_id": "c46c798c95144388be4097197dcbd0a2",
       "version_major": 2,
       "version_minor": 0
      },
      "text/plain": [
       "HBox(children=(FloatProgress(value=0.0, max=1861.0), HTML(value='')))"
      ]
     },
     "metadata": {},
     "output_type": "display_data"
    },
    {
     "name": "stdout",
     "output_type": "stream",
     "text": [
      "-------------------- Author Friedrich Nietzsche --------------------\n",
      "Real: yea , as the <unk> of all secret misery , he is greater than anyone <pad> <pad> <pad> <pad> <pad> <eos>\n",
      "***************************************************\n",
      "Decoded Friedrich Nietzsche: yea , as the boundaries of all secret misery , he is greater than anyone <pad> <pad> <pad> <pad> <pad> <eos>\n",
      "***************************************************\n",
      "Decoded Ernest Hemingway: lived , as the nicer of all secret misery , he is greater than anyone <pad> <pad> <pad> <pad> <pad> <eos>\n",
      "***************************************************\n",
      "Decoded Oscar Wilde: yea , as the singeing of all secret misery , he is greater than anyone <pad> <pad> <pad> <pad> <pad> <eos>\n",
      "-------------------- Author Ernest Hemingway --------------------\n",
      "Real: the hills made shadows on the water , which was flat calm and rather <unk> looking <pad> <pad> <pad> <pad> <eos>\n",
      "***************************************************\n",
      "Decoded Friedrich Nietzsche: the hills made shadows on the water , which was unity calm and rather scintillate looking <pad> <pad> <pad> <pad> <eos>\n",
      "***************************************************\n",
      "Decoded Ernest Hemingway: the hills made shadows on the water , which was flat calm and rather huckleberry looking <pad> <pad> <pad> <pad> <eos>\n",
      "***************************************************\n",
      "Decoded Oscar Wilde: the hills made shadows on the water , which was flat calm and rather breakfasting looking <pad> <pad> <pad> <pad> <eos>\n",
      "-------------------- Author Oscar Wilde --------------------\n",
      "Real: i have <unk> like the <unk> of a dead woman <pad> <pad> <pad> <pad> <pad> <pad> <pad> <pad> <pad> <pad> <eos>\n",
      "***************************************************\n",
      "Decoded Friedrich Nietzsche: i have affects like the boundaries of a dead woman <pad> <pad> <pad> <pad> <pad> <pad> <pad> <pad> <pad> <pad> <eos>\n",
      "***************************************************\n",
      "Decoded Ernest Hemingway: i have tobe like the nicer of a dead woman <pad> <pad> <pad> <pad> <pad> <pad> <pad> <pad> <pad> <pad> <eos>\n",
      "***************************************************\n",
      "Decoded Oscar Wilde: i have remake like the singeing of a dead woman <pad> <pad> <pad> <pad> <pad> <pad> <pad> <pad> <pad> <pad> <eos>\n",
      "\n"
     ]
    },
    {
     "data": {
      "application/vnd.jupyter.widget-view+json": {
       "model_id": "0437286a2174434e9fb9d4048b616234",
       "version_major": 2,
       "version_minor": 0
      },
      "text/plain": [
       "HBox(children=(FloatProgress(value=0.0, max=798.0), HTML(value='')))"
      ]
     },
     "metadata": {},
     "output_type": "display_data"
    },
    {
     "name": "stdout",
     "output_type": "stream",
     "text": [
      "\n",
      "*************************** EPOCH 27 ***************************\n"
     ]
    },
    {
     "data": {
      "application/vnd.jupyter.widget-view+json": {
       "model_id": "cd42385000b44e0bbde03037503e7064",
       "version_major": 2,
       "version_minor": 0
      },
      "text/plain": [
       "HBox(children=(FloatProgress(value=0.0, max=1861.0), HTML(value='')))"
      ]
     },
     "metadata": {},
     "output_type": "display_data"
    },
    {
     "name": "stdout",
     "output_type": "stream",
     "text": [
      "-------------------- Author Friedrich Nietzsche --------------------\n",
      "Real: he is not the active man <pad> <pad> <pad> <pad> <pad> <pad> <pad> <pad> <pad> <pad> <pad> <pad> <pad> <pad> <eos>\n",
      "***************************************************\n",
      "Decoded Friedrich Nietzsche: he is not the active man <pad> <pad> <pad> <pad> <pad> <pad> <pad> <pad> <pad> <pad> <pad> <pad> <pad> <pad> <eos>\n",
      "***************************************************\n",
      "Decoded Ernest Hemingway: he is not the active man <pad> <pad> <pad> <pad> <pad> <pad> <pad> <pad> <pad> <pad> <pad> <pad> <pad> <pad> <eos>\n",
      "***************************************************\n",
      "Decoded Oscar Wilde: he is not the active man <pad> <pad> <pad> <pad> <pad> <pad> <pad> <pad> <pad> <pad> <pad> <pad> <pad> <pad> <eos>\n",
      "-------------------- Author Ernest Hemingway --------------------\n",
      "Real: we had roast young <unk> pig and drank rioja alta <pad> <pad> <pad> <pad> <pad> <pad> <pad> <pad> <pad> <pad> <eos>\n",
      "***************************************************\n",
      "Decoded Friedrich Nietzsche: we had deserted young affects magically and strongest imperator imagines <pad> <pad> <pad> <pad> <pad> <pad> <pad> <pad> <pad> <pad> <eos>\n",
      "***************************************************\n",
      "Decoded Ernest Hemingway: we had pounding young cheeses pig and drank sales tormr <pad> <pad> <pad> <pad> <pad> <pad> <pad> <pad> <pad> <pad> <eos>\n",
      "***************************************************\n",
      "Decoded Oscar Wilde: we had lilies young geraniums cushioned and drank remembers melt <pad> <pad> <pad> <pad> <pad> <pad> <pad> <pad> <pad> <pad> <eos>\n",
      "-------------------- Author Oscar Wilde --------------------\n",
      "Real: the <unk> cannot destroy it , nor can the waters quench it <pad> <pad> <pad> <pad> <pad> <pad> <pad> <pad> <eos>\n",
      "***************************************************\n",
      "Decoded Friedrich Nietzsche: the boundaries cannot destroy it , nor can the spell abortions it <pad> <pad> <pad> <pad> <pad> <pad> <pad> <pad> <eos>\n",
      "***************************************************\n",
      "Decoded Ernest Hemingway: the fifteenth cannot destroy it , nor can the waters gorse it <pad> <pad> <pad> <pad> <pad> <pad> <pad> <pad> <eos>\n",
      "***************************************************\n",
      "Decoded Oscar Wilde: the singeing cannot destroy it , nor can the waters bolted it <pad> <pad> <pad> <pad> <pad> <pad> <pad> <pad> <eos>\n",
      "\n"
     ]
    },
    {
     "data": {
      "application/vnd.jupyter.widget-view+json": {
       "model_id": "01b8810c966047568fbd4ffa16a17d9d",
       "version_major": 2,
       "version_minor": 0
      },
      "text/plain": [
       "HBox(children=(FloatProgress(value=0.0, max=798.0), HTML(value='')))"
      ]
     },
     "metadata": {},
     "output_type": "display_data"
    },
    {
     "name": "stdout",
     "output_type": "stream",
     "text": [
      "\n",
      "*************************** EPOCH 28 ***************************\n"
     ]
    },
    {
     "data": {
      "application/vnd.jupyter.widget-view+json": {
       "model_id": "cc63426c8a734b13b1b9892ed84e6c2c",
       "version_major": 2,
       "version_minor": 0
      },
      "text/plain": [
       "HBox(children=(FloatProgress(value=0.0, max=1861.0), HTML(value='')))"
      ]
     },
     "metadata": {},
     "output_type": "display_data"
    },
    {
     "name": "stdout",
     "output_type": "stream",
     "text": [
      "-------------------- Author Friedrich Nietzsche --------------------\n",
      "Real: believe me , if men work in the factory of science and have to make themselves useful before they are <eos>\n",
      "***************************************************\n",
      "Decoded Friedrich Nietzsche: believe me , if men work in the factory of science and have to make themselves useful before they are <eos>\n",
      "***************************************************\n",
      "Decoded Ernest Hemingway: believe me , if men work in the factory of science and have to make themselves useful before they are <eos>\n",
      "***************************************************\n",
      "Decoded Oscar Wilde: believe me , if men work in the lawyer of science and have to make themselves useful before they are <eos>\n",
      "-------------------- Author Ernest Hemingway --------------------\n",
      "Real: i love you very truly , too <pad> <pad> <pad> <pad> <pad> <pad> <pad> <pad> <pad> <pad> <pad> <pad> <pad> <eos>\n",
      "***************************************************\n",
      "Decoded Friedrich Nietzsche: i love you very truly , too <pad> <pad> <pad> <pad> <pad> <pad> <pad> <pad> <pad> <pad> <pad> <pad> <pad> <eos>\n",
      "***************************************************\n",
      "Decoded Ernest Hemingway: i love you very truly , too <pad> <pad> <pad> <pad> <pad> <pad> <pad> <pad> <pad> <pad> <pad> <pad> <pad> <eos>\n",
      "***************************************************\n",
      "Decoded Oscar Wilde: i love you very truly , too <pad> <pad> <pad> <pad> <pad> <pad> <pad> <pad> <pad> <pad> <pad> <pad> <pad> <eos>\n",
      "-------------------- Author Oscar Wilde --------------------\n",
      "Real: pen , pencil and poison a study in green this remarkable man , so powerful with pen , pencil and <eos>\n",
      "***************************************************\n",
      "Decoded Friedrich Nietzsche: gracious , angels and poison a study in green this remarkable man , so powerful with gracious , treatment and <eos>\n",
      "***************************************************\n",
      "Decoded Ernest Hemingway: mrmrmr , pencil and spoke a study in green this folded man , so powerful with roncesvalles , pencil and <eos>\n",
      "***************************************************\n",
      "Decoded Oscar Wilde: dulled , sir and poison a study in green this remarkable man , so powerful with dr , sir and <eos>\n",
      "\n"
     ]
    },
    {
     "data": {
      "application/vnd.jupyter.widget-view+json": {
       "model_id": "ecf7cd1710e5417d91f8b50ca1a4d7d1",
       "version_major": 2,
       "version_minor": 0
      },
      "text/plain": [
       "HBox(children=(FloatProgress(value=0.0, max=798.0), HTML(value='')))"
      ]
     },
     "metadata": {},
     "output_type": "display_data"
    },
    {
     "name": "stdout",
     "output_type": "stream",
     "text": [
      "\n",
      "*************************** EPOCH 29 ***************************\n"
     ]
    },
    {
     "data": {
      "application/vnd.jupyter.widget-view+json": {
       "model_id": "8d25a0da1236403cb651b3d6da915044",
       "version_major": 2,
       "version_minor": 0
      },
      "text/plain": [
       "HBox(children=(FloatProgress(value=0.0, max=1861.0), HTML(value='')))"
      ]
     },
     "metadata": {},
     "output_type": "display_data"
    },
    {
     "name": "stdout",
     "output_type": "stream",
     "text": [
      "-------------------- Author Friedrich Nietzsche --------------------\n",
      "Real: further theories : the teaching of objectivity , will less contemplation , as the only road to truth , as <eos>\n",
      "***************************************************\n",
      "Decoded Friedrich Nietzsche: further theories : the teaching of objectivity , will less contemplation , as the only road to truth , as <eos>\n",
      "***************************************************\n",
      "Decoded Ernest Hemingway: further theories : the chance of olz , will less flattened , as the only road to truth , as <eos>\n",
      "***************************************************\n",
      "Decoded Oscar Wilde: further theories : the teaching of contemporary , will less contemplation , as the only road to truth , as <eos>\n",
      "-------------------- Author Ernest Hemingway --------------------\n",
      "Real: fifty grand how are you going yourself , jack ? i asked him <pad> <pad> <pad> <pad> <pad> <pad> <pad> <eos>\n",
      "***************************************************\n",
      "Decoded Friedrich Nietzsche: fifty grand how are you going yourself , otherwise ? i asked him <pad> <pad> <pad> <pad> <pad> <pad> <pad> <eos>\n",
      "***************************************************\n",
      "Decoded Ernest Hemingway: fifty grand how are you going yourself , jack ? i asked him <pad> <pad> <pad> <pad> <pad> <pad> <pad> <eos>\n",
      "***************************************************\n",
      "Decoded Oscar Wilde: fifty grand how are you going yourself , jack ? i asked him <pad> <pad> <pad> <pad> <pad> <pad> <pad> <eos>\n",
      "-------------------- Author Oscar Wilde --------------------\n",
      "Real: narborough wasn ' t perfect , cried the old lady <pad> <pad> <pad> <pad> <pad> <pad> <pad> <pad> <pad> <pad> <eos>\n",
      "***************************************************\n",
      "Decoded Friedrich Nietzsche: possession impotence ' t perfect , cried the old lady <pad> <pad> <pad> <pad> <pad> <pad> <pad> <pad> <pad> <pad> <eos>\n",
      "***************************************************\n",
      "Decoded Ernest Hemingway: dolphin wasn ' t perfect , cried the old lady <pad> <pad> <pad> <pad> <pad> <pad> <pad> <pad> <pad> <pad> <eos>\n",
      "***************************************************\n",
      "Decoded Oscar Wilde: narborough wasn ' t perfect , cried the old lady <pad> <pad> <pad> <pad> <pad> <pad> <pad> <pad> <pad> <pad> <eos>\n",
      "\n"
     ]
    },
    {
     "data": {
      "application/vnd.jupyter.widget-view+json": {
       "model_id": "6ba741c493a24b70880301a8ac4b1dce",
       "version_major": 2,
       "version_minor": 0
      },
      "text/plain": [
       "HBox(children=(FloatProgress(value=0.0, max=798.0), HTML(value='')))"
      ]
     },
     "metadata": {},
     "output_type": "display_data"
    },
    {
     "name": "stdout",
     "output_type": "stream",
     "text": [
      "\n"
     ]
    }
   ],
   "source": [
    "# Define steps where examples will be sampled \n",
    "test_dls_its = [ iter(test_dataloaders[idx]) for idx, _ in enumerate(AUTHORS) ]\n",
    "\n",
    "# For EPOCHS\n",
    "for epoch in range(last_epoch + 1, EPOCHS + last_epoch):\n",
    "    \n",
    "    print('*************************** EPOCH {} ***************************'.format(epoch))\n",
    "\n",
    "    # Restart train datasets\n",
    "    train_dls_its = [ iter(train_dataloaders[idx]) for idx, _ in enumerate(AUTHORS) ]\n",
    "    # Get max of dataloaders lengths\n",
    "    total_batches = max([ len(train_dataloaders[idx]) for idx, _ in enumerate(AUTHORS)  ])\n",
    "    # Progress bar for training dataset\n",
    "    progress_bar = tqdm(range(total_batches))\n",
    "    \n",
    "    train_loss = 0\n",
    "\n",
    "    # For all data in training dataset\n",
    "    # Training\n",
    "    for batch_idx in progress_bar:\n",
    "        \n",
    "        # Add train loss to progress bar\n",
    "        progress_bar.set_postfix({\n",
    "            'tr_loss': train_loss / (batch_idx + 1), \n",
    "            'lr': scheduler.get_lr()[0]\n",
    "        })\n",
    "\n",
    "        # Train step\n",
    "        source, target = sample(train_dls_its, train_dataloaders, device)\n",
    "        train_loss += train_step(model, loss_fn, optimizer, source, target)\n",
    "\n",
    "\n",
    "        if batch_idx == 0:\n",
    "            source, target = sample(test_dls_its, test_dataloaders, device)\n",
    "            \n",
    "            for idx, author in enumerate(AUTHORS):\n",
    "                \n",
    "                src = [source[idx]] * len(AUTHORS)\n",
    "                tgt = [target[idx]] * len(AUTHORS)\n",
    "                                \n",
    "                with torch.no_grad():\n",
    "                    _, decodings = val_step(model, loss_fn, src, tgt)\n",
    "                \n",
    "                # Print real sentence\n",
    "                real = vocab.to_words(src[idx][0].cpu().numpy())\n",
    "                print('-------------------- Author {} --------------------'.format(author))\n",
    "                print('Real: {}'.format(' '.join(real)))\n",
    "                \n",
    "                \n",
    "                # Decode and print recovered sentences\n",
    "                for jdx, jauthor in enumerate(AUTHORS):\n",
    "                    decoded_sent = torch.argmax(decodings[jdx][0], dim=-1).cpu().numpy()\n",
    "                    \n",
    "                    print('***************************************************')\n",
    "                    print('Decoded {}: {}'.format(jauthor, ' '.join(vocab.to_words(decoded_sent))))\n",
    "\n",
    "    # Validation\n",
    "    val_dls_its = [ iter(test_dataloaders[idx]) for idx, _ in enumerate(AUTHORS) ]\n",
    "    total_batches = max([ len(test_dataloaders[idx]) for idx, _ in enumerate(AUTHORS)  ])\n",
    "    \n",
    "    # Progress bar for training dataset\n",
    "    progress_bar = tqdm(range(total_batches))\n",
    "    val_loss = 0\n",
    "\n",
    "    for batch_idx in progress_bar:\n",
    "        progress_bar.set_postfix({\n",
    "            'val_loss': val_loss / (batch_idx + 1)\n",
    "        })\n",
    "                \n",
    "        source, target = sample(test_dls_its, test_dataloaders, device)\n",
    "        with torch.no_grad():\n",
    "            val_loss += val_step(model, loss_fn, source, target)[0]\n",
    "    \n",
    "    # Save losses in history\n",
    "    train_loss_history.append(train_loss / len(train_dataloader))\n",
    "    val_loss_history.append(val_loss / len(test_dataloader))\n",
    "    \n",
    "    # If this model is best than other\n",
    "    if best_val_loss is None or val_loss < best_val_loss:\n",
    "        best_val_loss = val_loss\n",
    "        \n",
    "        save_model_state(\n",
    "            os.path.join(CHECKPOINT_BASE, 'best.pt'), \n",
    "            model, \n",
    "            optimizer, \n",
    "            epoch, \n",
    "            train_loss_history, \n",
    "            val_loss_history, \n",
    "            best_val_loss\n",
    "        )\n",
    "        \n",
    "    # Save last model\n",
    "    save_model_state(\n",
    "        os.path.join(CHECKPOINT_BASE, 'last.pt'), \n",
    "        model, \n",
    "        optimizer, \n",
    "        epoch, \n",
    "        train_loss_history, \n",
    "        val_loss_history, \n",
    "        best_val_loss\n",
    "    )    \n",
    "    \n",
    "    scheduler.step()    "
   ]
  },
  {
   "cell_type": "code",
   "execution_count": 14,
   "metadata": {},
   "outputs": [
    {
     "data": {
      "image/png": "[encoded data removed]",
      "text/plain": [
       "<Figure size 1080x576 with 1 Axes>"
      ]
     },
     "metadata": {
      "needs_background": "light"
     },
     "output_type": "display_data"
    }
   ],
   "source": [
    "x = [epoch for epoch in range(len(train_loss_history))]\n",
    "plt.figure(figsize=(15, 8))\n",
    "\n",
    "plt.xlabel('Epoch')\n",
    "plt.ylabel('Loss')\n",
    "plt.title('Training and validation loss')\n",
    "\n",
    "plt.plot(x, train_loss_history, label='Training loss')\n",
    "plt.plot(x, val_loss_history, label='Validation loss')\n",
    "\n",
    "plt.legend()\n",
    "\n",
    "plt.show()"
   ]
  },
  {
   "cell_type": "code",
   "execution_count": 15,
   "metadata": {},
   "outputs": [
    {
     "name": "stdout",
     "output_type": "stream",
     "text": [
      "Least validation loss: 0.8886258282507893 in epoch 27\n"
     ]
    }
   ],
   "source": [
    "argmin_val = np.argmin(val_loss_history)\n",
    "print('Least validation loss: {} in epoch {}'.format(val_loss_history[argmin_val], argmin_val))"
   ]
  },
  {
   "cell_type": "code",
   "execution_count": null,
   "metadata": {},
   "outputs": [],
   "source": []
  }
 ],
 "metadata": {
  "file_extension": ".py",
  "kernelspec": {
   "display_name": "Python 3",
   "language": "python",
   "name": "python3"
  },
  "language_info": {
   "codemirror_mode": {
    "name": "ipython",
    "version": 3
   },
   "file_extension": ".py",
   "mimetype": "text/x-python",
   "name": "python",
   "nbconvert_exporter": "python",
   "pygments_lexer": "ipython3",
   "version": "3.7.7"
  },
  "mimetype": "text/x-python",
  "name": "python",
  "npconvert_exporter": "python",
  "pygments_lexer": "ipython3",
  "version": 3
 },
 "nbformat": 4,
 "nbformat_minor": 2
}
