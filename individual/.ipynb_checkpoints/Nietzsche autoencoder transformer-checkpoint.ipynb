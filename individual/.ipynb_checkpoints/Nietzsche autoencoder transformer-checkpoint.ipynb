{
 "cells": [
  {
   "cell_type": "code",
   "execution_count": 1,
   "metadata": {},
   "outputs": [],
   "source": [
    "import numpy as np \n",
    "import os\n",
    "from tqdm.notebook import tqdm\n",
    "\n",
    "import torch\n",
    "import torch.nn as nn\n",
    "import math\n",
    "from matplotlib import pyplot as plt\n",
    "\n",
    "import sys\n",
    "sys.path.append('../utils')\n",
    "\n",
    "from text.utils import save_text_state, load_text_state, build_text_state, load_books\n",
    "from model.utils import get_device, load_model_state, save_model_state, build_model_state\n",
    "\n",
    "from text_model import TextModel, get_loss_function"
   ]
  },
  {
   "cell_type": "markdown",
   "metadata": {},
   "source": [
    "### Verify if CUDA is available"
   ]
  },
  {
   "cell_type": "code",
   "execution_count": 2,
   "metadata": {},
   "outputs": [
    {
     "name": "stdout",
     "output_type": "stream",
     "text": [
      "cuda\n"
     ]
    }
   ],
   "source": [
    "device = get_device()\n",
    "print(device)"
   ]
  },
  {
   "cell_type": "markdown",
   "metadata": {},
   "source": [
    "### Loading word vectors and training/validation dataset"
   ]
  },
  {
   "cell_type": "code",
   "execution_count": 3,
   "metadata": {},
   "outputs": [],
   "source": [
    "LOAD_CHECKPOINTS = True\n",
    "\n",
    "CHECKPOINT_BASE = 'checkpoints'\n",
    "DATASET_FILENAME = '../datasets/books.pk'\n",
    "AUTHOR = 'Friedrich Nietzsche'\n",
    "\n",
    "VAL_PARTITION = 0.3 \n",
    "SENTENCE_LENGTH = 27\n",
    "BATCH_SIZE = 8"
   ]
  },
  {
   "cell_type": "code",
   "execution_count": 4,
   "metadata": {},
   "outputs": [
    {
     "name": "stdout",
     "output_type": "stream",
     "text": [
      "No checkpoint found. New partition.\n",
      "Included books:\n",
      "\t Name: The antichrist   Author: Friedrich Nietzsche\n",
      "\t Name: Thus spake Zarathustra   Author: Friedrich Nietzsche\n"
     ]
    }
   ],
   "source": [
    "# Try loading dataset, if it doesn't exists then creates it\n",
    "try:\n",
    "    if not LOAD_CHECKPOINTS:\n",
    "        print('New training required')\n",
    "        raise Error('New training required')\n",
    "        \n",
    "    vocab, train_dataset, test_dataset = load_text_state(os.path.join(CHECKPOINT_BASE, AUTHOR + '_text.pk'))    \n",
    "    print('Checkpoint loaded')\n",
    "except:\n",
    "    books = load_books(DATASET_FILENAME, author=AUTHOR)\n",
    "    vocab, train_dataset, test_dataset = build_text_state(books, SENTENCE_LENGTH, VAL_PARTITION, vocab_name=AUTHOR)  \n",
    "    print('No checkpoint found. New partition.')\n",
    "    print('Included books:')\n",
    "    for book in books:\n",
    "        print('\\t', book)\n",
    "\n",
    "train_dataloader = torch.utils.data.DataLoader(train_dataset, batch_size=BATCH_SIZE)\n",
    "test_dataloader = torch.utils.data.DataLoader(test_dataset, batch_size=BATCH_SIZE)"
   ]
  },
  {
   "cell_type": "code",
   "execution_count": 5,
   "metadata": {},
   "outputs": [],
   "source": [
    "save_text_state(os.path.join(CHECKPOINT_BASE, AUTHOR + '_text.pk'), vocab, train_dataset, test_dataset) "
   ]
  },
  {
   "cell_type": "markdown",
   "metadata": {},
   "source": [
    "### Loading components"
   ]
  },
  {
   "cell_type": "code",
   "execution_count": 6,
   "metadata": {},
   "outputs": [],
   "source": [
    "VOCAB_SIZE = len(vocab)\n",
    "\n",
    "LEARNING_RATE = 1e-4\n",
    "BETA_1 = 0.1\n",
    "BETA_2 = 0.999\n",
    "EPOCHS = 50\n",
    "NUM_HEADS = 8\n",
    "ENCODER_LAYERS = 1\n",
    "DECODER_LAYERS = 1\n",
    "EMBEDDING_SIZE = 512\n",
    "FF_DIM = 1024\n",
    "DROPOUT=0.1\n",
    "STEP_LR_DECAY = 15\n",
    "LR_FACTOR_DECAY = 0.5"
   ]
  },
  {
   "cell_type": "code",
   "execution_count": 7,
   "metadata": {},
   "outputs": [],
   "source": [
    "model = TextModel(\n",
    "    vocab_size=VOCAB_SIZE,\n",
    "    embedding_size=EMBEDDING_SIZE, \n",
    "    num_heads=NUM_HEADS, \n",
    "    encoder_layers=ENCODER_LAYERS, \n",
    "    decoder_layers=DECODER_LAYERS, \n",
    "    dim_feedforward=FF_DIM,\n",
    "    dropout=DROPOUT\n",
    ")\n",
    "\n",
    "optimizer = torch.optim.Adam(\n",
    "    list(model.parameters()), \n",
    "    lr=LEARNING_RATE,\n",
    "    betas=(BETA_1, BETA_2)\n",
    ")\n",
    "\n",
    "loss_fn = get_loss_function()\n",
    "scheduler = torch.optim.lr_scheduler.StepLR(optimizer, step_size=STEP_LR_DECAY, gamma=LR_FACTOR_DECAY)"
   ]
  },
  {
   "cell_type": "code",
   "execution_count": 8,
   "metadata": {},
   "outputs": [
    {
     "name": "stdout",
     "output_type": "stream",
     "text": [
      "No checkpoints found. New training.\n"
     ]
    }
   ],
   "source": [
    "try:\n",
    "    if not LOAD_CHECKPOINTS:\n",
    "        print('New training required')\n",
    "        raise Error('New training required')\n",
    "        \n",
    "    model, optimizer, last_epoch, train_loss_history, val_loss_history, best_val_loss = load_model_state(\n",
    "        os.path.join(CHECKPOINT_BASE, AUTHOR + '_best.pt'), \n",
    "        model, \n",
    "        optimizer\n",
    "    )\n",
    "    \n",
    "    for state in optimizer.state.values():\n",
    "        for k, v in state.items():\n",
    "            if isinstance(v, torch.Tensor):\n",
    "                state[k] = v.to(device)\n",
    "\n",
    "    print('Checkpoint loaded')\n",
    "    \n",
    "except:\n",
    "    last_epoch, train_loss_history, val_loss_history, best_val_loss = build_model_state()\n",
    "    print('No checkpoints found. New training.')\n",
    "    pass\n",
    "\n",
    "model = model.to(device)\n"
   ]
  },
  {
   "cell_type": "markdown",
   "metadata": {},
   "source": [
    "### Training and validation"
   ]
  },
  {
   "cell_type": "code",
   "execution_count": 9,
   "metadata": {},
   "outputs": [],
   "source": [
    "def train_step(transformer, loss_fn, optimizer, batch):\n",
    "    transformer.train()\n",
    "\n",
    "    transformer.zero_grad()\n",
    "    optimizer.zero_grad()\n",
    "\n",
    "    decodings = transformer(batch[:,1:], batch[:,:-1])\n",
    "    \n",
    "    loss = loss_fn(batch[:,1:], decodings)\n",
    "    loss.backward()\n",
    "    optimizer.step()\n",
    "    return loss.item()    "
   ]
  },
  {
   "cell_type": "code",
   "execution_count": 10,
   "metadata": {},
   "outputs": [],
   "source": [
    "def val_step(transformer, loss_fn, batch):\n",
    "    transformer.eval()\n",
    "    \n",
    "    with torch.no_grad():\n",
    "        decodings = transformer(batch[:,1:], batch[:,:-1])\n",
    "        loss = loss_fn(batch[:,1:], decodings)\n",
    "\n",
    "        return loss.item(), decodings"
   ]
  },
  {
   "cell_type": "code",
   "execution_count": 11,
   "metadata": {
    "tags": [
     "outputPrepend"
    ]
   },
   "outputs": [
    {
     "name": "stdout",
     "output_type": "stream",
     "text": [
      "*************************** EPOCH 1 ***************************\n"
     ]
    },
    {
     "data": {
      "application/vnd.jupyter.widget-view+json": {
       "model_id": "b3346084762047a0a5c1b8f69eab2794",
       "version_major": 2,
       "version_minor": 0
      },
      "text/plain": [
       "HBox(children=(FloatProgress(value=0.0, max=357.0), HTML(value='')))"
      ]
     },
     "metadata": {},
     "output_type": "display_data"
    },
    {
     "name": "stdout",
     "output_type": "stream",
     "text": [
      "\n",
      "Real: ['to', 'be', 'true', 'that', 'can', 'few', 'be', '!', 'and', 'he', 'who', 'can', ',', 'will', 'not', '!', 'least', 'of', 'all', ',', 'however', ',', 'can', 'the', 'good', 'be', 'true', '<eos>']\n",
      "Decoded: ['<pad>', '<pad>', '<pad>', '<pad>', '<pad>', '<pad>', '<pad>', '<pad>', '<pad>', '<pad>', '<pad>', '<pad>', '<pad>', '<pad>', '<pad>', '<pad>', '<pad>', '<pad>', '<pad>', '<pad>', '<pad>', '<pad>', '<pad>', '<pad>', '<pad>', '<pad>', '<pad>', '<pad>']\n",
      "\n"
     ]
    },
    {
     "data": {
      "application/vnd.jupyter.widget-view+json": {
       "model_id": "ff7b247180a74d25b1fbc7b1b4e3424d",
       "version_major": 2,
       "version_minor": 0
      },
      "text/plain": [
       "HBox(children=(FloatProgress(value=0.0, max=154.0), HTML(value='')))"
      ]
     },
     "metadata": {},
     "output_type": "display_data"
    },
    {
     "name": "stdout",
     "output_type": "stream",
     "text": [
      "\n",
      "*************************** EPOCH 2 ***************************\n"
     ]
    },
    {
     "data": {
      "application/vnd.jupyter.widget-view+json": {
       "model_id": "ddbcee3d87414a2bb6ee167574cfe3bc",
       "version_major": 2,
       "version_minor": 0
      },
      "text/plain": [
       "HBox(children=(FloatProgress(value=0.0, max=357.0), HTML(value='')))"
      ]
     },
     "metadata": {},
     "output_type": "display_data"
    },
    {
     "name": "stdout",
     "output_type": "stream",
     "text": [
      "\n",
      "Real: ['<unk>', 'did', 'he', 'now', 'see', 'himself', 'as', 'the', 'doer', 'of', 'one', 'deed', '<pad>', '<pad>', '<pad>', '<pad>', '<pad>', '<pad>', '<pad>', '<pad>', '<pad>', '<pad>', '<pad>', '<pad>', '<pad>', '<pad>', '<pad>', '<eos>']\n",
      "Decoded: [',', ',', ',', ',', ',', ',', ',', ',', ',', ',', ',', ',', ',', '<pad>', '<pad>', '<pad>', '<pad>', '<pad>', '<pad>', '<pad>', '<pad>', '<pad>', '<pad>', '<pad>', '<pad>', '<pad>', '<pad>', '<eos>']\n",
      "\n"
     ]
    },
    {
     "data": {
      "application/vnd.jupyter.widget-view+json": {
       "model_id": "26f9e6b22feb4bf5a82954b88aa5b952",
       "version_major": 2,
       "version_minor": 0
      },
      "text/plain": [
       "HBox(children=(FloatProgress(value=0.0, max=154.0), HTML(value='')))"
      ]
     },
     "metadata": {},
     "output_type": "display_data"
    },
    {
     "name": "stdout",
     "output_type": "stream",
     "text": [
      "\n",
      "*************************** EPOCH 3 ***************************\n"
     ]
    },
    {
     "data": {
      "application/vnd.jupyter.widget-view+json": {
       "model_id": "dd537ed35feb4399b95a7ca41d48fdde",
       "version_major": 2,
       "version_minor": 0
      },
      "text/plain": [
       "HBox(children=(FloatProgress(value=0.0, max=357.0), HTML(value='')))"
      ]
     },
     "metadata": {},
     "output_type": "display_data"
    },
    {
     "name": "stdout",
     "output_type": "stream",
     "text": [
      "\n",
      "Real: [\"'\", 'twixt', 'rosy', 'dawn', 'and', 'rosy', 'dawn', 'there', 'came', 'unto', 'me', 'a', 'new', 'truth', '<pad>', '<pad>', '<pad>', '<pad>', '<pad>', '<pad>', '<pad>', '<pad>', '<pad>', '<pad>', '<pad>', '<pad>', '<pad>', '<eos>']\n",
      "Decoded: ['it', 'i', 'in', '<pad>', 'and', ',', '<pad>', ',', '<pad>', '<pad>', '<pad>', 'to', 'it', '<pad>', '<pad>', '<pad>', '<pad>', '<pad>', '<pad>', '<pad>', '<pad>', '<pad>', '<pad>', '<pad>', '<pad>', '<pad>', '<pad>', '<eos>']\n",
      "\n"
     ]
    },
    {
     "data": {
      "application/vnd.jupyter.widget-view+json": {
       "model_id": "885651b0c60a44ec969931d86cd7ad50",
       "version_major": 2,
       "version_minor": 0
      },
      "text/plain": [
       "HBox(children=(FloatProgress(value=0.0, max=154.0), HTML(value='')))"
      ]
     },
     "metadata": {},
     "output_type": "display_data"
    },
    {
     "name": "stdout",
     "output_type": "stream",
     "text": [
      "\n",
      "*************************** EPOCH 4 ***************************\n"
     ]
    },
    {
     "data": {
      "application/vnd.jupyter.widget-view+json": {
       "model_id": "b959ccfde4404bdb8de80184f13ab850",
       "version_major": 2,
       "version_minor": 0
      },
      "text/plain": [
       "HBox(children=(FloatProgress(value=0.0, max=357.0), HTML(value='')))"
      ]
     },
     "metadata": {},
     "output_type": "display_data"
    },
    {
     "name": "stdout",
     "output_type": "stream",
     "text": [
      "\n",
      "Real: ['the', 'priest', 'himself', 'is', 'seen', 'as', 'he', 'actually', 'is', 'as', 'the', 'most', 'dangerous', 'form', 'of', 'parasite', ',', 'as', 'the', 'venomous', 'spider', 'of', 'creation', '<pad>', '<pad>', '<pad>', '<pad>', '<eos>']\n",
      "Decoded: ['the', 'me', '<pad>', 'is', 'me', 'as', 'he', 'one', 'is', 'as', 'the', 'me', 'me', 'me', 'of', 'me', ',', 'as', 'the', 'me', 'me', 'of', 'life', '<pad>', '<pad>', '<pad>', '<pad>', '<eos>']\n",
      "\n"
     ]
    },
    {
     "data": {
      "application/vnd.jupyter.widget-view+json": {
       "model_id": "3ec1ad6adacc41c98ce16a69c534219b",
       "version_major": 2,
       "version_minor": 0
      },
      "text/plain": [
       "HBox(children=(FloatProgress(value=0.0, max=154.0), HTML(value='')))"
      ]
     },
     "metadata": {},
     "output_type": "display_data"
    },
    {
     "name": "stdout",
     "output_type": "stream",
     "text": [
      "\n",
      "*************************** EPOCH 5 ***************************\n"
     ]
    },
    {
     "data": {
      "application/vnd.jupyter.widget-view+json": {
       "model_id": "13b1a685d0f241379444e622ab6b0903",
       "version_major": 2,
       "version_minor": 0
      },
      "text/plain": [
       "HBox(children=(FloatProgress(value=0.0, max=357.0), HTML(value='')))"
      ]
     },
     "metadata": {},
     "output_type": "display_data"
    },
    {
     "name": "stdout",
     "output_type": "stream",
     "text": [
      "\n",
      "Real: ['and', 'when', 'they', 'are', 'even', 'the', 'last', 'men', ',', 'and', 'more', 'beast', 'than', 'man', ',', 'then', 'riseth', 'and', 'riseth', 'the', 'populace', 'in', 'honour', ',', 'and', 'at', 'last', '<eos>']\n",
      "Decoded: ['and', 'when', 'they', 'are', 'even', 'the', 'good', 'men', ',', 'and', 'more', 'him', 'than', 'man', ',', 'then', 'men', 'and', 'even', 'the', 'good', 'in', 'good', ',', 'and', 'at', 'not', '<eos>']\n",
      "\n"
     ]
    },
    {
     "data": {
      "application/vnd.jupyter.widget-view+json": {
       "model_id": "f7985989afbb4cc29a06d22a06f802f5",
       "version_major": 2,
       "version_minor": 0
      },
      "text/plain": [
       "HBox(children=(FloatProgress(value=0.0, max=154.0), HTML(value='')))"
      ]
     },
     "metadata": {},
     "output_type": "display_data"
    },
    {
     "name": "stdout",
     "output_type": "stream",
     "text": [
      "\n",
      "*************************** EPOCH 6 ***************************\n"
     ]
    },
    {
     "data": {
      "application/vnd.jupyter.widget-view+json": {
       "model_id": "024af16a74f840a4be2e22d45425b149",
       "version_major": 2,
       "version_minor": 0
      },
      "text/plain": [
       "HBox(children=(FloatProgress(value=0.0, max=357.0), HTML(value='')))"
      ]
     },
     "metadata": {},
     "output_type": "display_data"
    },
    {
     "name": "stdout",
     "output_type": "stream",
     "text": [
      "\n",
      "Real: ['my', 'voice', '<unk>', 'even', 'the', 'deaf', '<pad>', '<pad>', '<pad>', '<pad>', '<pad>', '<pad>', '<pad>', '<pad>', '<pad>', '<pad>', '<pad>', '<pad>', '<pad>', '<pad>', '<pad>', '<pad>', '<pad>', '<pad>', '<pad>', '<pad>', '<pad>', '<eos>']\n",
      "Decoded: ['my', 'voice', 'men', 'even', 'the', 'soul', '<pad>', '<pad>', '<pad>', '<pad>', '<pad>', '<pad>', '<pad>', '<pad>', '<pad>', '<pad>', '<pad>', '<pad>', '<pad>', '<pad>', '<pad>', '<pad>', '<pad>', '<pad>', '<pad>', '<pad>', '<pad>', '<eos>']\n",
      "\n"
     ]
    },
    {
     "data": {
      "application/vnd.jupyter.widget-view+json": {
       "model_id": "ee582abe85d442678a70398c75fd6fc0",
       "version_major": 2,
       "version_minor": 0
      },
      "text/plain": [
       "HBox(children=(FloatProgress(value=0.0, max=154.0), HTML(value='')))"
      ]
     },
     "metadata": {},
     "output_type": "display_data"
    },
    {
     "name": "stdout",
     "output_type": "stream",
     "text": [
      "\n",
      "*************************** EPOCH 7 ***************************\n"
     ]
    },
    {
     "data": {
      "application/vnd.jupyter.widget-view+json": {
       "model_id": "521601903d74432e953c148fd74eeb0e",
       "version_major": 2,
       "version_minor": 0
      },
      "text/plain": [
       "HBox(children=(FloatProgress(value=0.0, max=357.0), HTML(value='')))"
      ]
     },
     "metadata": {},
     "output_type": "display_data"
    },
    {
     "name": "stdout",
     "output_type": "stream",
     "text": [
      "\n",
      "Real: ['o', 'happiness', '!', 'o', 'happiness', '!', 'wilt', 'thou', 'perhaps', 'sing', ',', 'o', 'my', 'soul', '?', 'thou', '<unk>', 'in', 'the', 'grass', '<pad>', '<pad>', '<pad>', '<pad>', '<pad>', '<pad>', '<pad>', '<eos>']\n",
      "Decoded: ['o', 'happiness', '!', 'o', 'happiness', '!', 'wilt', 'thou', 'perhaps', 'alone', ',', 'o', 'my', 'soul', '?', 'thou', 'something', 'in', 'the', 'hour', '<pad>', '<pad>', '<pad>', '<pad>', '<pad>', '<pad>', '<pad>', '<eos>']\n",
      "\n"
     ]
    },
    {
     "data": {
      "application/vnd.jupyter.widget-view+json": {
       "model_id": "251ae5c6d0894b518ecdc85cd9bf2fad",
       "version_major": 2,
       "version_minor": 0
      },
      "text/plain": [
       "HBox(children=(FloatProgress(value=0.0, max=154.0), HTML(value='')))"
      ]
     },
     "metadata": {},
     "output_type": "display_data"
    },
    {
     "name": "stdout",
     "output_type": "stream",
     "text": [
      "\n",
      "*************************** EPOCH 8 ***************************\n"
     ]
    },
    {
     "data": {
      "application/vnd.jupyter.widget-view+json": {
       "model_id": "d6e93d8ef1f74da6b248b3a79f137576",
       "version_major": 2,
       "version_minor": 0
      },
      "text/plain": [
       "HBox(children=(FloatProgress(value=0.0, max=357.0), HTML(value='')))"
      ]
     },
     "metadata": {},
     "output_type": "display_data"
    },
    {
     "name": "stdout",
     "output_type": "stream",
     "text": [
      "\n",
      "Real: ['for', 'such', '<unk>', 'neither', 'thy', 'mouth', 'nor', 'thine', 'eye', 'have', 'been', 'given', 'thee', '<pad>', '<pad>', '<pad>', '<pad>', '<pad>', '<pad>', '<pad>', '<pad>', '<pad>', '<pad>', '<pad>', '<pad>', '<pad>', '<pad>', '<eos>']\n",
      "Decoded: ['for', 'such', 'something', 'made', 'thy', 'mouth', 'nor', 'thine', 'eye', 'have', 'been', 'given', 'thee', '<pad>', '<pad>', '<pad>', '<pad>', '<pad>', '<pad>', '<pad>', '<pad>', '<pad>', '<pad>', '<pad>', '<pad>', '<pad>', '<pad>', '<eos>']\n",
      "\n"
     ]
    },
    {
     "data": {
      "application/vnd.jupyter.widget-view+json": {
       "model_id": "abb0db3834314224b935bc766fd54de2",
       "version_major": 2,
       "version_minor": 0
      },
      "text/plain": [
       "HBox(children=(FloatProgress(value=0.0, max=154.0), HTML(value='')))"
      ]
     },
     "metadata": {},
     "output_type": "display_data"
    },
    {
     "name": "stdout",
     "output_type": "stream",
     "text": [
      "\n",
      "*************************** EPOCH 9 ***************************\n"
     ]
    },
    {
     "data": {
      "application/vnd.jupyter.widget-view+json": {
       "model_id": "b5b61ffc736c4028aed351cc17d6cf04",
       "version_major": 2,
       "version_minor": 0
      },
      "text/plain": [
       "HBox(children=(FloatProgress(value=0.0, max=357.0), HTML(value='')))"
      ]
     },
     "metadata": {},
     "output_type": "display_data"
    },
    {
     "name": "stdout",
     "output_type": "stream",
     "text": [
      "\n",
      "Real: ['at', 'last', 'he', 'spake', 'thus', 'and', 'his', 'voice', 'had', 'changed', ':', 'the', 'man', 'of', 'knowledge', 'must', 'be', 'able', 'not', 'only', 'to', 'love', 'his', 'enemies', ',', 'but', 'also', '<eos>']\n",
      "Decoded: ['at', 'last', 'he', 'spake', 'thus', 'and', 'his', 'voice', 'had', 'formerly', ':', 'the', 'man', 'of', 'knowledge', 'must', 'be', 'able', 'not', 'only', 'to', 'love', 'his', 'enemies', ',', 'but', 'also', '<eos>']\n",
      "\n"
     ]
    },
    {
     "data": {
      "application/vnd.jupyter.widget-view+json": {
       "model_id": "e8ba1864de3f40069629f30958176c36",
       "version_major": 2,
       "version_minor": 0
      },
      "text/plain": [
       "HBox(children=(FloatProgress(value=0.0, max=154.0), HTML(value='')))"
      ]
     },
     "metadata": {},
     "output_type": "display_data"
    },
    {
     "name": "stdout",
     "output_type": "stream",
     "text": [
      "\n",
      "*************************** EPOCH 10 ***************************\n"
     ]
    },
    {
     "data": {
      "application/vnd.jupyter.widget-view+json": {
       "model_id": "72795d16d6e74eaf9c12377a5bace6d9",
       "version_major": 2,
       "version_minor": 0
      },
      "text/plain": [
       "HBox(children=(FloatProgress(value=0.0, max=357.0), HTML(value='')))"
      ]
     },
     "metadata": {},
     "output_type": "display_data"
    },
    {
     "name": "stdout",
     "output_type": "stream",
     "text": [
      "\n",
      "Real: ['and', 'the', 'bowels', 'of', 'existence', 'do', 'not', 'speak', 'unto', 'man', ',', 'except', 'as', 'man', '<pad>', '<pad>', '<pad>', '<pad>', '<pad>', '<pad>', '<pad>', '<pad>', '<pad>', '<pad>', '<pad>', '<pad>', '<pad>', '<eos>']\n",
      "Decoded: ['and', 'the', 'beauty', 'of', 'existence', 'do', 'not', 'speak', 'unto', 'man', ',', 'except', 'as', 'man', '<pad>', '<pad>', '<pad>', '<pad>', '<pad>', '<pad>', '<pad>', '<pad>', '<pad>', '<pad>', '<pad>', '<pad>', '<pad>', '<eos>']\n",
      "\n"
     ]
    },
    {
     "data": {
      "application/vnd.jupyter.widget-view+json": {
       "model_id": "50c9a855a8a14325b82f0d61d8ea6abe",
       "version_major": 2,
       "version_minor": 0
      },
      "text/plain": [
       "HBox(children=(FloatProgress(value=0.0, max=154.0), HTML(value='')))"
      ]
     },
     "metadata": {},
     "output_type": "display_data"
    },
    {
     "name": "stdout",
     "output_type": "stream",
     "text": [
      "\n",
      "*************************** EPOCH 11 ***************************\n"
     ]
    },
    {
     "data": {
      "application/vnd.jupyter.widget-view+json": {
       "model_id": "f5d8437a8ed94a3f8728d103610d1c49",
       "version_major": 2,
       "version_minor": 0
      },
      "text/plain": [
       "HBox(children=(FloatProgress(value=0.0, max=357.0), HTML(value='')))"
      ]
     },
     "metadata": {},
     "output_type": "display_data"
    },
    {
     "name": "stdout",
     "output_type": "stream",
     "text": [
      "\n",
      "Real: ['thus', 'doth', 'it', 'cause', 'thirst', 'in', 'thee', ',', 'the', 'creating', 'one', '!', 'thirst', 'in', 'the', 'creating', 'one', ',', 'arrow', 'and', 'longing', 'for', 'the', 'superman', ':', 'tell', 'me', '<eos>']\n",
      "Decoded: ['thus', 'doth', 'it', 'cause', 'thirst', 'in', 'thee', ',', 'the', 'creating', 'one', '!', 'thirst', 'in', 'the', 'creating', 'one', ',', 'left', 'and', 'longing', 'for', 'the', 'superman', ':', 'tell', 'me', '<eos>']\n",
      "\n"
     ]
    },
    {
     "data": {
      "application/vnd.jupyter.widget-view+json": {
       "model_id": "32e67ff74a644800bc8e9785d617cd69",
       "version_major": 2,
       "version_minor": 0
      },
      "text/plain": [
       "HBox(children=(FloatProgress(value=0.0, max=154.0), HTML(value='')))"
      ]
     },
     "metadata": {},
     "output_type": "display_data"
    },
    {
     "name": "stdout",
     "output_type": "stream",
     "text": [
      "\n",
      "*************************** EPOCH 12 ***************************\n"
     ]
    },
    {
     "data": {
      "application/vnd.jupyter.widget-view+json": {
       "model_id": "d5678b9d529841a495dfdeec6d1951fc",
       "version_major": 2,
       "version_minor": 0
      },
      "text/plain": [
       "HBox(children=(FloatProgress(value=0.0, max=357.0), HTML(value='')))"
      ]
     },
     "metadata": {},
     "output_type": "display_data"
    },
    {
     "name": "stdout",
     "output_type": "stream",
     "text": [
      "\n",
      "Real: ['ere', 'zarathustra', 'had', 'been', 'an', 'hour', 'on', 'his', 'way', 'in', 'the', 'mountains', 'and', 'forests', ',', 'he', 'saw', 'all', 'at', 'once', 'a', 'strange', 'procession', '<pad>', '<pad>', '<pad>', '<pad>', '<eos>']\n",
      "Decoded: ['lost', 'zarathustra', 'had', 'been', 'an', 'hour', 'on', 'his', 'way', 'in', 'the', 'mountains', 'and', 'forests', ',', 'he', 'saw', 'all', 'at', 'once', 'a', 'strange', 'forgiving', '<pad>', '<pad>', '<pad>', '<pad>', '<eos>']\n",
      "\n"
     ]
    },
    {
     "data": {
      "application/vnd.jupyter.widget-view+json": {
       "model_id": "4fc98e06267d40dfa6431accaf74d11f",
       "version_major": 2,
       "version_minor": 0
      },
      "text/plain": [
       "HBox(children=(FloatProgress(value=0.0, max=154.0), HTML(value='')))"
      ]
     },
     "metadata": {},
     "output_type": "display_data"
    },
    {
     "name": "stdout",
     "output_type": "stream",
     "text": [
      "\n",
      "*************************** EPOCH 13 ***************************\n"
     ]
    },
    {
     "data": {
      "application/vnd.jupyter.widget-view+json": {
       "model_id": "7850234ebd3944e9887264e3472cddd1",
       "version_major": 2,
       "version_minor": 0
      },
      "text/plain": [
       "HBox(children=(FloatProgress(value=0.0, max=357.0), HTML(value='')))"
      ]
     },
     "metadata": {},
     "output_type": "display_data"
    },
    {
     "name": "stdout",
     "output_type": "stream",
     "text": [
      "\n",
      "Real: ['is', 'it', 'understood', 'at', 'last', ',', 'will', 'it', 'ever', 'be', 'understood', ',', 'what', 'the', 'renaissance', 'was', '?', 'the', 'transvaluation', 'of', 'christian', 'values', ',', 'an', 'attempt', 'with', 'all', '<eos>']\n",
      "Decoded: ['is', 'it', 'understood', 'at', 'last', ',', 'will', 'it', 'ever', 'be', 'understood', ',', 'what', 'the', 'renaissance', 'was', '?', 'the', 'burden', 'of', 'christian', 'values', ',', 'an', 'attempt', 'with', 'all', '<eos>']\n",
      "\n"
     ]
    },
    {
     "data": {
      "application/vnd.jupyter.widget-view+json": {
       "model_id": "6ff6c03504d34195ad3abee16b8857ef",
       "version_major": 2,
       "version_minor": 0
      },
      "text/plain": [
       "HBox(children=(FloatProgress(value=0.0, max=154.0), HTML(value='')))"
      ]
     },
     "metadata": {},
     "output_type": "display_data"
    },
    {
     "name": "stdout",
     "output_type": "stream",
     "text": [
      "\n",
      "*************************** EPOCH 14 ***************************\n"
     ]
    },
    {
     "data": {
      "application/vnd.jupyter.widget-view+json": {
       "model_id": "ec64d2bdf80f482e9807e30064019682",
       "version_major": 2,
       "version_minor": 0
      },
      "text/plain": [
       "HBox(children=(FloatProgress(value=0.0, max=357.0), HTML(value='')))"
      ]
     },
     "metadata": {},
     "output_type": "display_data"
    },
    {
     "name": "stdout",
     "output_type": "stream",
     "text": [
      "\n",
      "Real: ['this', 'therefore', 'would', 'be', '<unk>', 'itself', 'as', 'a', 'criterion', 'of', 'truth', '<pad>', '<pad>', '<pad>', '<pad>', '<pad>', '<pad>', '<pad>', '<pad>', '<pad>', '<pad>', '<pad>', '<pad>', '<pad>', '<pad>', '<pad>', '<pad>', '<eos>']\n",
      "Decoded: ['this', 'therefore', 'would', 'be', 'prompts', 'itself', 'as', 'a', 'sake', 'of', 'truth', '<pad>', '<pad>', '<pad>', '<pad>', '<pad>', '<pad>', '<pad>', '<pad>', '<pad>', '<pad>', '<pad>', '<pad>', '<pad>', '<pad>', '<pad>', '<pad>', '<eos>']\n",
      "\n"
     ]
    },
    {
     "data": {
      "application/vnd.jupyter.widget-view+json": {
       "model_id": "9e5782285b894fc999289409124c5d9f",
       "version_major": 2,
       "version_minor": 0
      },
      "text/plain": [
       "HBox(children=(FloatProgress(value=0.0, max=154.0), HTML(value='')))"
      ]
     },
     "metadata": {},
     "output_type": "display_data"
    },
    {
     "name": "stdout",
     "output_type": "stream",
     "text": [
      "\n",
      "*************************** EPOCH 15 ***************************\n"
     ]
    },
    {
     "data": {
      "application/vnd.jupyter.widget-view+json": {
       "model_id": "aa58e010cd6f474d9e280d5ffc74981b",
       "version_major": 2,
       "version_minor": 0
      },
      "text/plain": [
       "HBox(children=(FloatProgress(value=0.0, max=357.0), HTML(value='')))"
      ]
     },
     "metadata": {},
     "output_type": "display_data"
    },
    {
     "name": "stdout",
     "output_type": "stream",
     "text": [
      "\n",
      "Real: ['zarathustra', 'however', 'got', 'up', ',', 'and', 'prepared', 'to', 'go', 'on', ':', 'for', 'he', 'felt', '<unk>', 'to', 'the', 'very', 'bowels', '<pad>', '<pad>', '<pad>', '<pad>', '<pad>', '<pad>', '<pad>', '<pad>', '<eos>']\n",
      "Decoded: ['zarathustra', 'however', 'got', 'up', ',', 'and', 'replace', 'to', 'go', 'on', ':', 'for', 'he', 'felt', 'prompts', 'to', 'the', 'very', 'secrecy', '<pad>', '<pad>', '<pad>', '<pad>', '<pad>', '<pad>', '<pad>', '<pad>', '<eos>']\n",
      "\n"
     ]
    },
    {
     "data": {
      "application/vnd.jupyter.widget-view+json": {
       "model_id": "56f1def67a244d2b86cd06c0437a4624",
       "version_major": 2,
       "version_minor": 0
      },
      "text/plain": [
       "HBox(children=(FloatProgress(value=0.0, max=154.0), HTML(value='')))"
      ]
     },
     "metadata": {},
     "output_type": "display_data"
    },
    {
     "name": "stdout",
     "output_type": "stream",
     "text": [
      "\n",
      "*************************** EPOCH 16 ***************************\n"
     ]
    },
    {
     "data": {
      "application/vnd.jupyter.widget-view+json": {
       "model_id": "f5902fd3e62e4b99a8802ab8914920fe",
       "version_major": 2,
       "version_minor": 0
      },
      "text/plain": [
       "HBox(children=(FloatProgress(value=0.0, max=357.0), HTML(value='')))"
      ]
     },
     "metadata": {},
     "output_type": "display_data"
    },
    {
     "name": "stdout",
     "output_type": "stream",
     "text": [
      "\n",
      "Real: ['but', 'even', 'your', 'best', 'love', 'is', 'only', 'an', 'enraptured', 'simile', 'and', 'a', '<unk>', '<unk>', '<pad>', '<pad>', '<pad>', '<pad>', '<pad>', '<pad>', '<pad>', '<pad>', '<pad>', '<pad>', '<pad>', '<pad>', '<pad>', '<eos>']\n",
      "Decoded: ['but', 'even', 'your', 'best', 'love', 'is', 'only', 'an', 'burden', '5', 'and', 'a', 'failure', 'prompts', '<pad>', '<pad>', '<pad>', '<pad>', '<pad>', '<pad>', '<pad>', '<pad>', '<pad>', '<pad>', '<pad>', '<pad>', '<pad>', '<eos>']\n",
      "\n"
     ]
    },
    {
     "data": {
      "application/vnd.jupyter.widget-view+json": {
       "model_id": "a836bf2411f8457abcc44126ad5af827",
       "version_major": 2,
       "version_minor": 0
      },
      "text/plain": [
       "HBox(children=(FloatProgress(value=0.0, max=154.0), HTML(value='')))"
      ]
     },
     "metadata": {},
     "output_type": "display_data"
    },
    {
     "name": "stdout",
     "output_type": "stream",
     "text": [
      "\n",
      "*************************** EPOCH 17 ***************************\n"
     ]
    },
    {
     "data": {
      "application/vnd.jupyter.widget-view+json": {
       "model_id": "3fd7372dc65f4f03bc0e83998a63341c",
       "version_major": 2,
       "version_minor": 0
      },
      "text/plain": [
       "HBox(children=(FloatProgress(value=0.0, max=357.0), HTML(value='')))"
      ]
     },
     "metadata": {},
     "output_type": "display_data"
    },
    {
     "name": "stdout",
     "output_type": "stream",
     "text": [
      "\n",
      "Real: ['art', 'thou', 'not', 'the', 'light', 'of', 'my', 'fire', '?', 'hast', 'thou', 'not', 'the', '<unk>', 'soul', 'of', 'mine', '<unk>', '?', 'together', 'did', 'we', 'learn', 'everything', '<pad>', '<pad>', '<pad>', '<eos>']\n",
      "Decoded: ['art', 'thou', 'not', 'the', 'light', 'of', 'my', 'fire', '?', 'hast', 'thou', 'not', 'the', 'failure', 'soul', 'of', 'mine', 'failure', '?', 'together', 'did', 'we', 'learn', 'everything', '<pad>', '<pad>', '<pad>', '<eos>']\n",
      "\n"
     ]
    },
    {
     "data": {
      "application/vnd.jupyter.widget-view+json": {
       "model_id": "0aa998c01b9e44ada8a58198f70187b3",
       "version_major": 2,
       "version_minor": 0
      },
      "text/plain": [
       "HBox(children=(FloatProgress(value=0.0, max=154.0), HTML(value='')))"
      ]
     },
     "metadata": {},
     "output_type": "display_data"
    },
    {
     "name": "stdout",
     "output_type": "stream",
     "text": [
      "\n",
      "*************************** EPOCH 18 ***************************\n"
     ]
    },
    {
     "data": {
      "application/vnd.jupyter.widget-view+json": {
       "model_id": "d75dc5f885b04984941e698bf16d0ea2",
       "version_major": 2,
       "version_minor": 0
      },
      "text/plain": [
       "HBox(children=(FloatProgress(value=0.0, max=357.0), HTML(value='')))"
      ]
     },
     "metadata": {},
     "output_type": "display_data"
    },
    {
     "name": "stdout",
     "output_type": "stream",
     "text": [
      "\n",
      "Real: ['the', 'second', '<unk>', ':', 'to', 'this', 'belong', 'the', '<unk>', 'of', 'the', 'law', ',', 'the', '<unk>', 'of', 'order', 'and', 'security', ',', 'the', 'more', 'noble', '<unk>', ',', 'above', 'all', '<eos>']\n",
      "Decoded: ['the', 'second', 'prompts', ':', 'to', 'this', 'belong', 'the', 'failure', 'of', 'the', 'law', ',', 'the', 'failure', 'of', 'order', 'and', 'security', ',', 'the', 'more', 'noble', 'leaves', ',', 'above', 'all', '<eos>']\n",
      "\n"
     ]
    },
    {
     "data": {
      "application/vnd.jupyter.widget-view+json": {
       "model_id": "da8af4caaa594c3aa4afbc4125967d52",
       "version_major": 2,
       "version_minor": 0
      },
      "text/plain": [
       "HBox(children=(FloatProgress(value=0.0, max=154.0), HTML(value='')))"
      ]
     },
     "metadata": {},
     "output_type": "display_data"
    },
    {
     "name": "stdout",
     "output_type": "stream",
     "text": [
      "\n",
      "*************************** EPOCH 19 ***************************\n"
     ]
    },
    {
     "data": {
      "application/vnd.jupyter.widget-view+json": {
       "model_id": "767e513d2da749f082a669715c6e74af",
       "version_major": 2,
       "version_minor": 0
      },
      "text/plain": [
       "HBox(children=(FloatProgress(value=0.0, max=357.0), HTML(value='')))"
      ]
     },
     "metadata": {},
     "output_type": "display_data"
    },
    {
     "name": "stdout",
     "output_type": "stream",
     "text": [
      "\n",
      "Real: ['that', 'doth', 'not', 'concern', 'me', ',', 'said', 'the', 'old', 'man', '<unk>', '<pad>', '<pad>', '<pad>', '<pad>', '<pad>', '<pad>', '<pad>', '<pad>', '<pad>', '<pad>', '<pad>', '<pad>', '<pad>', '<pad>', '<pad>', '<pad>', '<eos>']\n",
      "Decoded: ['that', 'doth', 'not', 'concern', 'me', ',', 'said', 'the', 'old', 'man', 'prompts', '<pad>', '<pad>', '<pad>', '<pad>', '<pad>', '<pad>', '<pad>', '<pad>', '<pad>', '<pad>', '<pad>', '<pad>', '<pad>', '<pad>', '<pad>', '<pad>', '<eos>']\n",
      "\n"
     ]
    },
    {
     "data": {
      "application/vnd.jupyter.widget-view+json": {
       "model_id": "630ee429bdff49b2a3b62d32207f7f98",
       "version_major": 2,
       "version_minor": 0
      },
      "text/plain": [
       "HBox(children=(FloatProgress(value=0.0, max=154.0), HTML(value='')))"
      ]
     },
     "metadata": {},
     "output_type": "display_data"
    },
    {
     "name": "stdout",
     "output_type": "stream",
     "text": [
      "\n",
      "*************************** EPOCH 20 ***************************\n"
     ]
    },
    {
     "data": {
      "application/vnd.jupyter.widget-view+json": {
       "model_id": "c8623a263bd54be8990ab8aac583dca6",
       "version_major": 2,
       "version_minor": 0
      },
      "text/plain": [
       "HBox(children=(FloatProgress(value=0.0, max=357.0), HTML(value='')))"
      ]
     },
     "metadata": {},
     "output_type": "display_data"
    },
    {
     "name": "stdout",
     "output_type": "stream",
     "text": [
      "\n",
      "Real: ['it', 'must', 'spring', 'out', 'of', 'our', 'personal', 'need', 'and', '<unk>', '<pad>', '<pad>', '<pad>', '<pad>', '<pad>', '<pad>', '<pad>', '<pad>', '<pad>', '<pad>', '<pad>', '<pad>', '<pad>', '<pad>', '<pad>', '<pad>', '<pad>', '<eos>']\n",
      "Decoded: ['it', 'must', 'spring', 'out', 'of', 'our', 'personal', 'need', 'and', 'failure', '<pad>', '<pad>', '<pad>', '<pad>', '<pad>', '<pad>', '<pad>', '<pad>', '<pad>', '<pad>', '<pad>', '<pad>', '<pad>', '<pad>', '<pad>', '<pad>', '<pad>', '<eos>']\n",
      "\n"
     ]
    },
    {
     "data": {
      "application/vnd.jupyter.widget-view+json": {
       "model_id": "95f094cf95bf4867b3357debcb114a43",
       "version_major": 2,
       "version_minor": 0
      },
      "text/plain": [
       "HBox(children=(FloatProgress(value=0.0, max=154.0), HTML(value='')))"
      ]
     },
     "metadata": {},
     "output_type": "display_data"
    },
    {
     "name": "stdout",
     "output_type": "stream",
     "text": [
      "\n",
      "*************************** EPOCH 21 ***************************\n"
     ]
    },
    {
     "data": {
      "application/vnd.jupyter.widget-view+json": {
       "model_id": "564f8b5a59f849dab3b9539f1d5b2dea",
       "version_major": 2,
       "version_minor": 0
      },
      "text/plain": [
       "HBox(children=(FloatProgress(value=0.0, max=357.0), HTML(value='')))"
      ]
     },
     "metadata": {},
     "output_type": "display_data"
    },
    {
     "name": "stdout",
     "output_type": "stream",
     "text": [
      "\n",
      "Real: ['and', 'much', 'poison', 'at', 'last', 'for', 'a', 'pleasant', 'death', '<pad>', '<pad>', '<pad>', '<pad>', '<pad>', '<pad>', '<pad>', '<pad>', '<pad>', '<pad>', '<pad>', '<pad>', '<pad>', '<pad>', '<pad>', '<pad>', '<pad>', '<pad>', '<eos>']\n",
      "Decoded: ['and', 'much', 'poison', 'at', 'last', 'for', 'a', 'pleasant', 'death', '<pad>', '<pad>', '<pad>', '<pad>', '<pad>', '<pad>', '<pad>', '<pad>', '<pad>', '<pad>', '<pad>', '<pad>', '<pad>', '<pad>', '<pad>', '<pad>', '<pad>', '<pad>', '<eos>']\n",
      "\n"
     ]
    },
    {
     "data": {
      "application/vnd.jupyter.widget-view+json": {
       "model_id": "ec410a83997741e594e0efb69315a4d6",
       "version_major": 2,
       "version_minor": 0
      },
      "text/plain": [
       "HBox(children=(FloatProgress(value=0.0, max=154.0), HTML(value='')))"
      ]
     },
     "metadata": {},
     "output_type": "display_data"
    },
    {
     "name": "stdout",
     "output_type": "stream",
     "text": [
      "\n",
      "*************************** EPOCH 22 ***************************\n"
     ]
    },
    {
     "data": {
      "application/vnd.jupyter.widget-view+json": {
       "model_id": "aa31bbcbb1724b90884b6612aa7d0f67",
       "version_major": 2,
       "version_minor": 0
      },
      "text/plain": [
       "HBox(children=(FloatProgress(value=0.0, max=357.0), HTML(value='')))"
      ]
     },
     "metadata": {},
     "output_type": "display_data"
    },
    {
     "name": "stdout",
     "output_type": "stream",
     "text": [
      "\n",
      "Real: ['even', 'whole', 'races', ',', '<unk>', 'and', '<unk>', 'may', 'occasionally', 'represent', 'such', '<unk>', 'accidents', '<pad>', '<pad>', '<pad>', '<pad>', '<pad>', '<pad>', '<pad>', '<pad>', '<pad>', '<pad>', '<pad>', '<pad>', '<pad>', '<pad>', '<eos>']\n",
      "Decoded: ['even', 'whole', 'sadly', ',', 'prompts', 'and', 'failure', 'may', 'ventured', 'represent', 'such', 'failure', 'accidents', '<pad>', '<pad>', '<pad>', '<pad>', '<pad>', '<pad>', '<pad>', '<pad>', '<pad>', '<pad>', '<pad>', '<pad>', '<pad>', '<pad>', '<eos>']\n",
      "\n"
     ]
    },
    {
     "data": {
      "application/vnd.jupyter.widget-view+json": {
       "model_id": "2fcb4bd22252408db3b362d90bf1869d",
       "version_major": 2,
       "version_minor": 0
      },
      "text/plain": [
       "HBox(children=(FloatProgress(value=0.0, max=154.0), HTML(value='')))"
      ]
     },
     "metadata": {},
     "output_type": "display_data"
    },
    {
     "name": "stdout",
     "output_type": "stream",
     "text": [
      "\n",
      "*************************** EPOCH 23 ***************************\n"
     ]
    },
    {
     "data": {
      "application/vnd.jupyter.widget-view+json": {
       "model_id": "68dc16ec3ddf4180ba82660d5b2fc5dd",
       "version_major": 2,
       "version_minor": 0
      },
      "text/plain": [
       "HBox(children=(FloatProgress(value=0.0, max=357.0), HTML(value='')))"
      ]
     },
     "metadata": {},
     "output_type": "display_data"
    },
    {
     "name": "stdout",
     "output_type": "stream",
     "text": [
      "\n",
      "Real: ['not', ',', 'of', 'course', ',', 'to', 'a', 'priest', ':', 'for', 'his', 'instincts', '<unk>', 'him', 'to', 'the', 'lie', 'that', 'sickness', 'is', 'not', 'sickness', 'and', 'lunatic', '<unk>', 'not', 'lunatic', '<eos>']\n",
      "Decoded: ['not', ',', 'of', 'course', ',', 'to', 'a', 'priest', ':', 'for', 'his', 'instincts', 'asserts', 'him', 'to', 'the', 'lie', 'that', 'sickness', 'is', 'not', 'sickness', 'and', 'rome', 'asserts', 'not', 'rome', '<eos>']\n",
      "\n"
     ]
    },
    {
     "data": {
      "application/vnd.jupyter.widget-view+json": {
       "model_id": "997a6259acc04a308f109c4ccabb2539",
       "version_major": 2,
       "version_minor": 0
      },
      "text/plain": [
       "HBox(children=(FloatProgress(value=0.0, max=154.0), HTML(value='')))"
      ]
     },
     "metadata": {},
     "output_type": "display_data"
    },
    {
     "name": "stdout",
     "output_type": "stream",
     "text": [
      "\n",
      "*************************** EPOCH 24 ***************************\n"
     ]
    },
    {
     "data": {
      "application/vnd.jupyter.widget-view+json": {
       "model_id": "901ff0311c5942c89bcdf3a9598cf5f0",
       "version_major": 2,
       "version_minor": 0
      },
      "text/plain": [
       "HBox(children=(FloatProgress(value=0.0, max=357.0), HTML(value='')))"
      ]
     },
     "metadata": {},
     "output_type": "display_data"
    },
    {
     "name": "stdout",
     "output_type": "stream",
     "text": [
      "\n",
      "Real: ['i', 'bade', 'them', 'laugh', 'at', 'their', 'great', '<unk>', ',', 'their', 'saints', ',', 'their', 'poets', ',', 'and', 'their', 'saviours', '<pad>', '<pad>', '<pad>', '<pad>', '<pad>', '<pad>', '<pad>', '<pad>', '<pad>', '<eos>']\n",
      "Decoded: ['i', 'prominent', 'them', 'laugh', 'at', 'their', 'great', 'failure', ',', 'their', 'saints', ',', 'their', 'poets', ',', 'and', 'their', 'saviours', '<pad>', '<pad>', '<pad>', '<pad>', '<pad>', '<pad>', '<pad>', '<pad>', '<pad>', '<eos>']\n",
      "\n"
     ]
    },
    {
     "data": {
      "application/vnd.jupyter.widget-view+json": {
       "model_id": "b36d3161d85c4b1d8e9cbf60fc1d7ca1",
       "version_major": 2,
       "version_minor": 0
      },
      "text/plain": [
       "HBox(children=(FloatProgress(value=0.0, max=154.0), HTML(value='')))"
      ]
     },
     "metadata": {},
     "output_type": "display_data"
    },
    {
     "name": "stdout",
     "output_type": "stream",
     "text": [
      "\n",
      "*************************** EPOCH 25 ***************************\n"
     ]
    },
    {
     "data": {
      "application/vnd.jupyter.widget-view+json": {
       "model_id": "435e3ec311ff4665b50c5506e682fee5",
       "version_major": 2,
       "version_minor": 0
      },
      "text/plain": [
       "HBox(children=(FloatProgress(value=0.0, max=357.0), HTML(value='')))"
      ]
     },
     "metadata": {},
     "output_type": "display_data"
    },
    {
     "name": "stdout",
     "output_type": "stream",
     "text": [
      "\n",
      "Real: ['and', 'if', 'they', 'have', 'learned', 'of', 'me', 'to', 'laugh', ',', 'still', 'it', 'is', 'not', 'my', 'laughter', 'they', 'have', 'learned', '<pad>', '<pad>', '<pad>', '<pad>', '<pad>', '<pad>', '<pad>', '<pad>', '<eos>']\n",
      "Decoded: ['and', 'if', 'they', 'have', 'learned', 'of', 'me', 'to', 'laugh', ',', 'still', 'it', 'is', 'not', 'my', 'laughter', 'they', 'have', 'learned', '<pad>', '<pad>', '<pad>', '<pad>', '<pad>', '<pad>', '<pad>', '<pad>', '<eos>']\n",
      "\n"
     ]
    },
    {
     "data": {
      "application/vnd.jupyter.widget-view+json": {
       "model_id": "c05b20cc00824b8095ff8440246e0ed5",
       "version_major": 2,
       "version_minor": 0
      },
      "text/plain": [
       "HBox(children=(FloatProgress(value=0.0, max=154.0), HTML(value='')))"
      ]
     },
     "metadata": {},
     "output_type": "display_data"
    },
    {
     "name": "stdout",
     "output_type": "stream",
     "text": [
      "\n",
      "*************************** EPOCH 26 ***************************\n"
     ]
    },
    {
     "data": {
      "application/vnd.jupyter.widget-view+json": {
       "model_id": "54a446fc96e2434c87670b99f90fad5e",
       "version_major": 2,
       "version_minor": 0
      },
      "text/plain": [
       "HBox(children=(FloatProgress(value=0.0, max=357.0), HTML(value='')))"
      ]
     },
     "metadata": {},
     "output_type": "display_data"
    },
    {
     "name": "stdout",
     "output_type": "stream",
     "text": [
      "\n",
      "Real: ['<unk>', 'is', 'life', 'by', 'the', 'many', 'too', 'many', '<pad>', '<pad>', '<pad>', '<pad>', '<pad>', '<pad>', '<pad>', '<pad>', '<pad>', '<pad>', '<pad>', '<pad>', '<pad>', '<pad>', '<pad>', '<pad>', '<pad>', '<pad>', '<pad>', '<eos>']\n",
      "Decoded: ['ruleth', 'is', 'life', 'by', 'the', 'many', 'too', 'many', '<pad>', '<pad>', '<pad>', '<pad>', '<pad>', '<pad>', '<pad>', '<pad>', '<pad>', '<pad>', '<pad>', '<pad>', '<pad>', '<pad>', '<pad>', '<pad>', '<pad>', '<pad>', '<pad>', '<eos>']\n",
      "\n"
     ]
    },
    {
     "data": {
      "application/vnd.jupyter.widget-view+json": {
       "model_id": "a231414e03b54331ad5505d7682c405c",
       "version_major": 2,
       "version_minor": 0
      },
      "text/plain": [
       "HBox(children=(FloatProgress(value=0.0, max=154.0), HTML(value='')))"
      ]
     },
     "metadata": {},
     "output_type": "display_data"
    },
    {
     "name": "stdout",
     "output_type": "stream",
     "text": [
      "\n",
      "*************************** EPOCH 27 ***************************\n"
     ]
    },
    {
     "data": {
      "application/vnd.jupyter.widget-view+json": {
       "model_id": "5b00bdeb6f2a4978a610df1420c1c30f",
       "version_major": 2,
       "version_minor": 0
      },
      "text/plain": [
       "HBox(children=(FloatProgress(value=0.0, max=357.0), HTML(value='')))"
      ]
     },
     "metadata": {},
     "output_type": "display_data"
    },
    {
     "name": "stdout",
     "output_type": "stream",
     "text": [
      "\n",
      "Real: ['he', 'bit', 'with', 'a', 'strong', 'bite', '!', 'far', 'away', 'did', 'he', 'spit', 'the', 'head', 'of', 'the', 'serpent', ':', 'and', 'sprang', 'up', '<pad>', '<pad>', '<pad>', '<pad>', '<pad>', '<pad>', '<eos>']\n",
      "Decoded: ['he', 'bit', 'with', 'a', 'strong', 'bite', '!', 'far', 'away', 'did', 'he', 'ventured', 'the', 'head', 'of', 'the', 'serpent', ':', 'and', 'sprang', 'up', '<pad>', '<pad>', '<pad>', '<pad>', '<pad>', '<pad>', '<eos>']\n",
      "\n"
     ]
    },
    {
     "data": {
      "application/vnd.jupyter.widget-view+json": {
       "model_id": "1a95ac7a0d814e7f87d8a0b8d0ecd8bd",
       "version_major": 2,
       "version_minor": 0
      },
      "text/plain": [
       "HBox(children=(FloatProgress(value=0.0, max=154.0), HTML(value='')))"
      ]
     },
     "metadata": {},
     "output_type": "display_data"
    },
    {
     "name": "stdout",
     "output_type": "stream",
     "text": [
      "\n",
      "*************************** EPOCH 28 ***************************\n"
     ]
    },
    {
     "data": {
      "application/vnd.jupyter.widget-view+json": {
       "model_id": "5ebe7d24e56a461ea7bc5a942b14d4d3",
       "version_major": 2,
       "version_minor": 0
      },
      "text/plain": [
       "HBox(children=(FloatProgress(value=0.0, max=357.0), HTML(value='')))"
      ]
     },
     "metadata": {},
     "output_type": "display_data"
    },
    {
     "name": "stdout",
     "output_type": "stream",
     "text": [
      "\n",
      "Real: ['for', ',', 'dost', 'thou', 'remember', ',', 'o', 'zarathustra', '?', 'when', 'thy', 'bird', 'screamed', '<unk>', ',', 'when', 'thou', '<unk>', 'in', 'the', 'forest', ',', '<unk>', ',', 'ignorant', 'where', 'to', '<eos>']\n",
      "Decoded: ['for', ',', 'dost', 'thou', 'attempt', ',', 'o', 'zarathustra', '?', 'when', 'thy', 'bird', 'ha', 'asserts', ',', 'when', 'thou', 'risk', 'in', 'the', 'forest', ',', 'afric', ',', 'stupidity', 'where', 'to', '<eos>']\n",
      "\n"
     ]
    },
    {
     "data": {
      "application/vnd.jupyter.widget-view+json": {
       "model_id": "62fb70fefbac4935932925b2e4c1d9c0",
       "version_major": 2,
       "version_minor": 0
      },
      "text/plain": [
       "HBox(children=(FloatProgress(value=0.0, max=154.0), HTML(value='')))"
      ]
     },
     "metadata": {},
     "output_type": "display_data"
    },
    {
     "name": "stdout",
     "output_type": "stream",
     "text": [
      "\n",
      "*************************** EPOCH 29 ***************************\n"
     ]
    },
    {
     "data": {
      "application/vnd.jupyter.widget-view+json": {
       "model_id": "9e511f0ddefc476d9f41a3bbd39bda11",
       "version_major": 2,
       "version_minor": 0
      },
      "text/plain": [
       "HBox(children=(FloatProgress(value=0.0, max=357.0), HTML(value='')))"
      ]
     },
     "metadata": {},
     "output_type": "display_data"
    },
    {
     "name": "stdout",
     "output_type": "stream",
     "text": [
      "\n",
      "Real: ['neither', 'has', 'a', 'pleasant', 'smell', '<pad>', '<pad>', '<pad>', '<pad>', '<pad>', '<pad>', '<pad>', '<pad>', '<pad>', '<pad>', '<pad>', '<pad>', '<pad>', '<pad>', '<pad>', '<pad>', '<pad>', '<pad>', '<pad>', '<pad>', '<pad>', '<pad>', '<eos>']\n",
      "Decoded: ['neither', 'has', 'a', 'pleasant', 'smell', '<pad>', '<pad>', '<pad>', '<pad>', '<pad>', '<pad>', '<pad>', '<pad>', '<pad>', '<pad>', '<pad>', '<pad>', '<pad>', '<pad>', '<pad>', '<pad>', '<pad>', '<pad>', '<pad>', '<pad>', '<pad>', '<pad>', '<eos>']\n",
      "\n"
     ]
    },
    {
     "data": {
      "application/vnd.jupyter.widget-view+json": {
       "model_id": "1e3adc380b7148c9ad69003d295d675a",
       "version_major": 2,
       "version_minor": 0
      },
      "text/plain": [
       "HBox(children=(FloatProgress(value=0.0, max=154.0), HTML(value='')))"
      ]
     },
     "metadata": {},
     "output_type": "display_data"
    },
    {
     "name": "stdout",
     "output_type": "stream",
     "text": [
      "\n",
      "*************************** EPOCH 30 ***************************\n"
     ]
    },
    {
     "data": {
      "application/vnd.jupyter.widget-view+json": {
       "model_id": "921d928fa0224dd188dc6f1ecc255f06",
       "version_major": 2,
       "version_minor": 0
      },
      "text/plain": [
       "HBox(children=(FloatProgress(value=0.0, max=357.0), HTML(value='')))"
      ]
     },
     "metadata": {},
     "output_type": "display_data"
    },
    {
     "name": "stdout",
     "output_type": "stream",
     "text": [
      "\n",
      "Real: ['ah', ',', 'whither', 'did', 'my', 'tender', 'longing', 'then', 'flee', '?', 'all', 'loathing', 'did', 'i', 'once', 'vow', 'to', 'renounce', ':', 'then', 'did', 'ye', 'change', 'my', 'nigh', 'ones', 'and', '<eos>']\n",
      "Decoded: ['ah', ',', 'whither', 'did', 'my', 'tender', 'longing', 'then', 'flee', '?', 'all', 'loathing', 'did', 'i', 'once', 'familiarity', 'to', 'wherefore', ':', 'then', 'did', 'ye', 'change', 'my', 'nigh', 'ones', 'and', '<eos>']\n",
      "\n"
     ]
    },
    {
     "data": {
      "application/vnd.jupyter.widget-view+json": {
       "model_id": "7b4d68ffbb2f46259962e433cd7407b3",
       "version_major": 2,
       "version_minor": 0
      },
      "text/plain": [
       "HBox(children=(FloatProgress(value=0.0, max=154.0), HTML(value='')))"
      ]
     },
     "metadata": {},
     "output_type": "display_data"
    },
    {
     "name": "stdout",
     "output_type": "stream",
     "text": [
      "\n",
      "*************************** EPOCH 31 ***************************\n"
     ]
    },
    {
     "data": {
      "application/vnd.jupyter.widget-view+json": {
       "model_id": "8be5c06f446741b7b6fc4c1c54220d78",
       "version_major": 2,
       "version_minor": 0
      },
      "text/plain": [
       "HBox(children=(FloatProgress(value=0.0, max=357.0), HTML(value='')))"
      ]
     },
     "metadata": {},
     "output_type": "display_data"
    },
    {
     "name": "stdout",
     "output_type": "stream",
     "text": [
      "\n",
      "Real: [\"'\", 'tis', 'night', ':', 'now', 'do', 'all', 'gushing', 'fountains', 'speak', 'louder', '<pad>', '<pad>', '<pad>', '<pad>', '<pad>', '<pad>', '<pad>', '<pad>', '<pad>', '<pad>', '<pad>', '<pad>', '<pad>', '<pad>', '<pad>', '<pad>', '<eos>']\n",
      "Decoded: [\"'\", 'tis', 'night', ':', 'now', 'do', 'all', 'abrupt', 'fountains', 'speak', 'ruleth', '<pad>', '<pad>', '<pad>', '<pad>', '<pad>', '<pad>', '<pad>', '<pad>', '<pad>', '<pad>', '<pad>', '<pad>', '<pad>', '<pad>', '<pad>', '<pad>', '<eos>']\n",
      "\n"
     ]
    },
    {
     "data": {
      "application/vnd.jupyter.widget-view+json": {
       "model_id": "6a4881f2e2dd4a4291c6fbff196da21e",
       "version_major": 2,
       "version_minor": 0
      },
      "text/plain": [
       "HBox(children=(FloatProgress(value=0.0, max=154.0), HTML(value='')))"
      ]
     },
     "metadata": {},
     "output_type": "display_data"
    },
    {
     "name": "stdout",
     "output_type": "stream",
     "text": [
      "\n",
      "*************************** EPOCH 32 ***************************\n"
     ]
    },
    {
     "data": {
      "application/vnd.jupyter.widget-view+json": {
       "model_id": "edf8ee5c485045d6b147d85370cce7ec",
       "version_major": 2,
       "version_minor": 0
      },
      "text/plain": [
       "HBox(children=(FloatProgress(value=0.0, max=357.0), HTML(value='')))"
      ]
     },
     "metadata": {},
     "output_type": "display_data"
    },
    {
     "name": "stdout",
     "output_type": "stream",
     "text": [
      "\n",
      "Real: ['round', ',', 'fair', ',', 'and', '<unk>', 'are', 'they', 'to', 'one', 'another', ',', 'as', '<unk>', 'of', 'sand', 'are', 'round', ',', 'fair', ',', 'and', '<unk>', 'to', '<unk>', 'of', 'sand', '<eos>']\n",
      "Decoded: ['round', ',', 'reapers', ',', 'and', 'failure', 'are', 'they', 'to', 'one', 'another', ',', 'as', 'risk', 'of', 'pastime', 'are', 'round', ',', 'studied', ',', 'and', 'risk', 'to', 'risk', 'of', 'pastime', '<eos>']\n",
      "\n"
     ]
    },
    {
     "data": {
      "application/vnd.jupyter.widget-view+json": {
       "model_id": "b218ac6a894846ba9d115b3fef333b32",
       "version_major": 2,
       "version_minor": 0
      },
      "text/plain": [
       "HBox(children=(FloatProgress(value=0.0, max=154.0), HTML(value='')))"
      ]
     },
     "metadata": {},
     "output_type": "display_data"
    },
    {
     "name": "stdout",
     "output_type": "stream",
     "text": [
      "\n",
      "*************************** EPOCH 33 ***************************\n"
     ]
    },
    {
     "data": {
      "application/vnd.jupyter.widget-view+json": {
       "model_id": "c1b0854edfde459fa8315b5a74e321c9",
       "version_major": 2,
       "version_minor": 0
      },
      "text/plain": [
       "HBox(children=(FloatProgress(value=0.0, max=357.0), HTML(value='')))"
      ]
     },
     "metadata": {},
     "output_type": "display_data"
    },
    {
     "name": "stdout",
     "output_type": "stream",
     "text": [
      "\n",
      "Real: ['when', 'zarathustra', 'had', 'spoken', 'thus', 'unto', 'the', 'hunchback', ',', 'and', 'unto', 'those', 'of', 'whom', 'the', 'hunchback', 'was', 'the', 'mouthpiece', 'and', 'advocate', ',', 'then', 'did', 'he', 'turn', 'to', '<eos>']\n",
      "Decoded: ['when', 'zarathustra', 'had', 'spoken', 'thus', 'unto', 'the', 'belly', ',', 'and', 'unto', 'those', 'of', 'whom', 'the', 'ecclesiastical', 'was', 'the', 'stupendous', 'and', 'penance', ',', 'then', 'did', 'he', 'turn', 'to', '<eos>']\n",
      "\n"
     ]
    },
    {
     "data": {
      "application/vnd.jupyter.widget-view+json": {
       "model_id": "7ff3424e2254492fb924e3fdb95bb143",
       "version_major": 2,
       "version_minor": 0
      },
      "text/plain": [
       "HBox(children=(FloatProgress(value=0.0, max=154.0), HTML(value='')))"
      ]
     },
     "metadata": {},
     "output_type": "display_data"
    },
    {
     "name": "stdout",
     "output_type": "stream",
     "text": [
      "\n",
      "*************************** EPOCH 34 ***************************\n"
     ]
    },
    {
     "data": {
      "application/vnd.jupyter.widget-view+json": {
       "model_id": "c3157b99fbb647219d4e77a1d80906c3",
       "version_major": 2,
       "version_minor": 0
      },
      "text/plain": [
       "HBox(children=(FloatProgress(value=0.0, max=357.0), HTML(value='')))"
      ]
     },
     "metadata": {},
     "output_type": "display_data"
    },
    {
     "name": "stdout",
     "output_type": "stream",
     "text": [
      "\n",
      "Real: ['the', '<unk>', 'of', 'christianity', 'cannot', '<unk>', 'the', 'necessity', 'of', 'making', 'christianity', 'contemptible', '<pad>', '<pad>', '<pad>', '<pad>', '<pad>', '<pad>', '<pad>', '<pad>', '<pad>', '<pad>', '<pad>', '<pad>', '<pad>', '<pad>', '<pad>', '<eos>']\n",
      "Decoded: ['the', 'failure', 'of', 'christianity', 'cannot', 'failure', 'the', 'necessity', 'of', 'making', 'christianity', 'contemptible', '<pad>', '<pad>', '<pad>', '<pad>', '<pad>', '<pad>', '<pad>', '<pad>', '<pad>', '<pad>', '<pad>', '<pad>', '<pad>', '<pad>', '<pad>', '<eos>']\n",
      "\n"
     ]
    },
    {
     "data": {
      "application/vnd.jupyter.widget-view+json": {
       "model_id": "79223aa0740f4dd39afa071b9123d2e9",
       "version_major": 2,
       "version_minor": 0
      },
      "text/plain": [
       "HBox(children=(FloatProgress(value=0.0, max=154.0), HTML(value='')))"
      ]
     },
     "metadata": {},
     "output_type": "display_data"
    },
    {
     "name": "stdout",
     "output_type": "stream",
     "text": [
      "\n",
      "*************************** EPOCH 35 ***************************\n"
     ]
    },
    {
     "data": {
      "application/vnd.jupyter.widget-view+json": {
       "model_id": "e52d18fa2d3746d5a72a7ba62fad811b",
       "version_major": 2,
       "version_minor": 0
      },
      "text/plain": [
       "HBox(children=(FloatProgress(value=0.0, max=357.0), HTML(value='')))"
      ]
     },
     "metadata": {},
     "output_type": "display_data"
    },
    {
     "name": "stdout",
     "output_type": "stream",
     "text": [
      "\n",
      "Real: ['so', 'they', 'press', 'thee', '<pad>', '<pad>', '<pad>', '<pad>', '<pad>', '<pad>', '<pad>', '<pad>', '<pad>', '<pad>', '<pad>', '<pad>', '<pad>', '<pad>', '<pad>', '<pad>', '<pad>', '<pad>', '<pad>', '<pad>', '<pad>', '<pad>', '<pad>', '<eos>']\n",
      "Decoded: ['so', 'they', 'erflowing', 'thee', '<pad>', '<pad>', '<pad>', '<pad>', '<pad>', '<pad>', '<pad>', '<pad>', '<pad>', '<pad>', '<pad>', '<pad>', '<pad>', '<pad>', '<pad>', '<pad>', '<pad>', '<pad>', '<pad>', '<pad>', '<pad>', '<pad>', '<pad>', '<eos>']\n",
      "\n"
     ]
    },
    {
     "data": {
      "application/vnd.jupyter.widget-view+json": {
       "model_id": "3f3edb8a762a4a919878af1c21e8de9f",
       "version_major": 2,
       "version_minor": 0
      },
      "text/plain": [
       "HBox(children=(FloatProgress(value=0.0, max=154.0), HTML(value='')))"
      ]
     },
     "metadata": {},
     "output_type": "display_data"
    },
    {
     "name": "stdout",
     "output_type": "stream",
     "text": [
      "\n",
      "*************************** EPOCH 36 ***************************\n"
     ]
    },
    {
     "data": {
      "application/vnd.jupyter.widget-view+json": {
       "model_id": "b4057a3340f04ca08f0f797539cbc868",
       "version_major": 2,
       "version_minor": 0
      },
      "text/plain": [
       "HBox(children=(FloatProgress(value=0.0, max=357.0), HTML(value='')))"
      ]
     },
     "metadata": {},
     "output_type": "display_data"
    },
    {
     "name": "stdout",
     "output_type": "stream",
     "text": [
      "\n",
      "Real: ['now', 'will', 'a', 'strong', 'wind', 'ever', 'come', '<unk>', 'unto', 'all', 'mortal', 'weariness', ':', 'of', 'this', 'thou', 'art', 'thyself', 'the', 'pledge', 'and', 'the', '<unk>', '!', 'but', 'as', 'thou', '<eos>']\n",
      "Decoded: ['now', 'will', 'a', 'strong', 'wind', 'ever', 'come', 'prompts', 'unto', 'all', 'mortal', 'weariness', ':', 'of', 'this', 'thou', 'art', 'thyself', 'the', 'ecclesiastical', 'and', 'the', 'risk', '!', 'but', 'as', 'thou', '<eos>']\n",
      "\n"
     ]
    },
    {
     "data": {
      "application/vnd.jupyter.widget-view+json": {
       "model_id": "75ce54d572f543fd82f934279cf29ae4",
       "version_major": 2,
       "version_minor": 0
      },
      "text/plain": [
       "HBox(children=(FloatProgress(value=0.0, max=154.0), HTML(value='')))"
      ]
     },
     "metadata": {},
     "output_type": "display_data"
    },
    {
     "name": "stdout",
     "output_type": "stream",
     "text": [
      "\n",
      "*************************** EPOCH 37 ***************************\n"
     ]
    },
    {
     "data": {
      "application/vnd.jupyter.widget-view+json": {
       "model_id": "548e573b52594b8aae4a3f467ec56e7c",
       "version_major": 2,
       "version_minor": 0
      },
      "text/plain": [
       "HBox(children=(FloatProgress(value=0.0, max=357.0), HTML(value='')))"
      ]
     },
     "metadata": {},
     "output_type": "display_data"
    },
    {
     "name": "stdout",
     "output_type": "stream",
     "text": [
      "\n",
      "Real: ['not', 'with', 'you', 'may', 'i', 'descend', 'for', 'the', 'last', 'time', '<pad>', '<pad>', '<pad>', '<pad>', '<pad>', '<pad>', '<pad>', '<pad>', '<pad>', '<pad>', '<pad>', '<pad>', '<pad>', '<pad>', '<pad>', '<pad>', '<pad>', '<eos>']\n",
      "Decoded: ['not', 'with', 'you', 'may', 'i', 'descend', 'for', 'the', 'last', 'time', '<pad>', '<pad>', '<pad>', '<pad>', '<pad>', '<pad>', '<pad>', '<pad>', '<pad>', '<pad>', '<pad>', '<pad>', '<pad>', '<pad>', '<pad>', '<pad>', '<pad>', '<eos>']\n",
      "\n"
     ]
    },
    {
     "data": {
      "application/vnd.jupyter.widget-view+json": {
       "model_id": "58ba52e850ec4a83bb976fad7895a1ef",
       "version_major": 2,
       "version_minor": 0
      },
      "text/plain": [
       "HBox(children=(FloatProgress(value=0.0, max=154.0), HTML(value='')))"
      ]
     },
     "metadata": {},
     "output_type": "display_data"
    },
    {
     "name": "stdout",
     "output_type": "stream",
     "text": [
      "\n",
      "*************************** EPOCH 38 ***************************\n"
     ]
    },
    {
     "data": {
      "application/vnd.jupyter.widget-view+json": {
       "model_id": "42c5a24cf1744d40a49ea556743b4ee5",
       "version_major": 2,
       "version_minor": 0
      },
      "text/plain": [
       "HBox(children=(FloatProgress(value=0.0, max=357.0), HTML(value='')))"
      ]
     },
     "metadata": {},
     "output_type": "display_data"
    },
    {
     "name": "stdout",
     "output_type": "stream",
     "text": [
      "\n",
      "Real: ['ye', 'are', 'ashamed', 'of', 'your', 'flow', ',', 'and', 'others', 'are', 'ashamed', 'of', 'their', 'ebb', '<pad>', '<pad>', '<pad>', '<pad>', '<pad>', '<pad>', '<pad>', '<pad>', '<pad>', '<pad>', '<pad>', '<pad>', '<pad>', '<eos>']\n",
      "Decoded: ['ye', 'are', 'ashamed', 'of', 'your', 'flow', ',', 'and', 'others', 'are', 'ashamed', 'of', 'their', 'beareth', '<pad>', '<pad>', '<pad>', '<pad>', '<pad>', '<pad>', '<pad>', '<pad>', '<pad>', '<pad>', '<pad>', '<pad>', '<pad>', '<eos>']\n",
      "\n"
     ]
    },
    {
     "data": {
      "application/vnd.jupyter.widget-view+json": {
       "model_id": "9234242f61e94d81939b02e13e2450e6",
       "version_major": 2,
       "version_minor": 0
      },
      "text/plain": [
       "HBox(children=(FloatProgress(value=0.0, max=154.0), HTML(value='')))"
      ]
     },
     "metadata": {},
     "output_type": "display_data"
    },
    {
     "name": "stdout",
     "output_type": "stream",
     "text": [
      "\n",
      "*************************** EPOCH 39 ***************************\n"
     ]
    },
    {
     "data": {
      "application/vnd.jupyter.widget-view+json": {
       "model_id": "f33da56a33bf444db7be109e39406c21",
       "version_major": 2,
       "version_minor": 0
      },
      "text/plain": [
       "HBox(children=(FloatProgress(value=0.0, max=357.0), HTML(value='')))"
      ]
     },
     "metadata": {},
     "output_type": "display_data"
    },
    {
     "name": "stdout",
     "output_type": "stream",
     "text": [
      "\n",
      "Real: ['and', 'if', 'thine', 'eye', 'offend', 'thee', ',', 'pluck', 'it', 'out', ':', 'it', 'is', 'better', 'for', 'thee', 'to', 'enter', 'into', 'the', 'kingdom', 'of', 'god', 'with', 'one', 'eye', ',', '<eos>']\n",
      "Decoded: ['and', 'if', 'thine', 'eye', 'asserts', 'thee', ',', 'meditateth', 'it', 'out', ':', 'it', 'is', 'better', 'for', 'thee', 'to', 'enter', 'into', 'the', 'kingdom', 'of', 'god', 'with', 'one', 'eye', ',', '<eos>']\n",
      "\n"
     ]
    },
    {
     "data": {
      "application/vnd.jupyter.widget-view+json": {
       "model_id": "5eb2b7de946744018d3f0c1807629ede",
       "version_major": 2,
       "version_minor": 0
      },
      "text/plain": [
       "HBox(children=(FloatProgress(value=0.0, max=154.0), HTML(value='')))"
      ]
     },
     "metadata": {},
     "output_type": "display_data"
    },
    {
     "name": "stdout",
     "output_type": "stream",
     "text": [
      "\n",
      "*************************** EPOCH 40 ***************************\n"
     ]
    },
    {
     "data": {
      "application/vnd.jupyter.widget-view+json": {
       "model_id": "392633e2e6a045819de1d877d604f1ac",
       "version_major": 2,
       "version_minor": 0
      },
      "text/plain": [
       "HBox(children=(FloatProgress(value=0.0, max=357.0), HTML(value='')))"
      ]
     },
     "metadata": {},
     "output_type": "display_data"
    },
    {
     "name": "stdout",
     "output_type": "stream",
     "text": [
      "\n",
      "Real: ['and', 'another', 'of', 'these', 'diseases', 'is', 'called', 'the', 'fire', 'dog', ':', 'concerning', 'him', 'men', 'have', 'greatly', 'deceived', 'themselves', ',', 'and', 'let', 'themselves', 'be', 'deceived', '<pad>', '<pad>', '<pad>', '<eos>']\n",
      "Decoded: ['and', 'another', 'of', 'these', 'diseases', 'is', 'called', 'the', 'fire', 'dog', ':', 'concerning', 'him', 'men', 'have', 'ventured', 'deceived', 'themselves', ',', 'and', 'let', 'themselves', 'be', 'deceived', '<pad>', '<pad>', '<pad>', '<eos>']\n",
      "\n"
     ]
    },
    {
     "data": {
      "application/vnd.jupyter.widget-view+json": {
       "model_id": "e2ce6a71d249482d97dce5d8ed74942b",
       "version_major": 2,
       "version_minor": 0
      },
      "text/plain": [
       "HBox(children=(FloatProgress(value=0.0, max=154.0), HTML(value='')))"
      ]
     },
     "metadata": {},
     "output_type": "display_data"
    },
    {
     "name": "stdout",
     "output_type": "stream",
     "text": [
      "\n",
      "*************************** EPOCH 41 ***************************\n"
     ]
    },
    {
     "data": {
      "application/vnd.jupyter.widget-view+json": {
       "model_id": "b04e696a13b94ef1b329d5b97dd90be8",
       "version_major": 2,
       "version_minor": 0
      },
      "text/plain": [
       "HBox(children=(FloatProgress(value=0.0, max=357.0), HTML(value='')))"
      ]
     },
     "metadata": {},
     "output_type": "display_data"
    },
    {
     "name": "stdout",
     "output_type": "stream",
     "text": [
      "\n",
      "Real: ['what', 'is', 'evil', '?', 'whatever', '<unk>', 'from', 'weakness', '<pad>', '<pad>', '<pad>', '<pad>', '<pad>', '<pad>', '<pad>', '<pad>', '<pad>', '<pad>', '<pad>', '<pad>', '<pad>', '<pad>', '<pad>', '<pad>', '<pad>', '<pad>', '<pad>', '<eos>']\n",
      "Decoded: ['what', 'is', 'evil', '?', 'whatever', 'ruleth', 'from', 'weakness', '<pad>', '<pad>', '<pad>', '<pad>', '<pad>', '<pad>', '<pad>', '<pad>', '<pad>', '<pad>', '<pad>', '<pad>', '<pad>', '<pad>', '<pad>', '<pad>', '<pad>', '<pad>', '<pad>', '<eos>']\n",
      "\n"
     ]
    },
    {
     "data": {
      "application/vnd.jupyter.widget-view+json": {
       "model_id": "7b8fc59c94224a0585798d53a86925af",
       "version_major": 2,
       "version_minor": 0
      },
      "text/plain": [
       "HBox(children=(FloatProgress(value=0.0, max=154.0), HTML(value='')))"
      ]
     },
     "metadata": {},
     "output_type": "display_data"
    },
    {
     "name": "stdout",
     "output_type": "stream",
     "text": [
      "\n",
      "*************************** EPOCH 42 ***************************\n"
     ]
    },
    {
     "data": {
      "application/vnd.jupyter.widget-view+json": {
       "model_id": "118c7da9a66e4530bd6a412a1a168969",
       "version_major": 2,
       "version_minor": 0
      },
      "text/plain": [
       "HBox(children=(FloatProgress(value=0.0, max=357.0), HTML(value='')))"
      ]
     },
     "metadata": {},
     "output_type": "display_data"
    },
    {
     "name": "stdout",
     "output_type": "stream",
     "text": [
      "\n",
      "Real: [\"'\", 'and', \"'\", 'truth', \"'\", 'is', 'at', 'present', 'what', 'the', 'preacher', 'spake', 'who', 'himself', 'sprang', 'from', 'them', ',', 'that', '<unk>', 'saint', 'and', 'advocate', 'of', 'the', 'petty', 'people', '<eos>']\n",
      "Decoded: [\"'\", 'and', \"'\", 'truth', \"'\", 'is', 'at', 'present', 'what', 'the', 'noblest', 'spake', 'who', 'himself', 'sprang', 'from', 'them', ',', 'that', 'behaved', 'saint', 'and', 'humbled', 'of', 'the', 'petty', 'people', '<eos>']\n",
      "\n"
     ]
    },
    {
     "data": {
      "application/vnd.jupyter.widget-view+json": {
       "model_id": "7f3d388b6ca74f9d99ff40b6f2cb91a5",
       "version_major": 2,
       "version_minor": 0
      },
      "text/plain": [
       "HBox(children=(FloatProgress(value=0.0, max=154.0), HTML(value='')))"
      ]
     },
     "metadata": {},
     "output_type": "display_data"
    },
    {
     "name": "stdout",
     "output_type": "stream",
     "text": [
      "\n",
      "*************************** EPOCH 43 ***************************\n"
     ]
    },
    {
     "data": {
      "application/vnd.jupyter.widget-view+json": {
       "model_id": "c9dfa9845b644acb929d7446a389da18",
       "version_major": 2,
       "version_minor": 0
      },
      "text/plain": [
       "HBox(children=(FloatProgress(value=0.0, max=357.0), HTML(value='')))"
      ]
     },
     "metadata": {},
     "output_type": "display_data"
    },
    {
     "name": "stdout",
     "output_type": "stream",
     "text": [
      "\n",
      "Real: ['so', 'doth', 'it', 'accord', 'with', 'good', 'sleep', '<pad>', '<pad>', '<pad>', '<pad>', '<pad>', '<pad>', '<pad>', '<pad>', '<pad>', '<pad>', '<pad>', '<pad>', '<pad>', '<pad>', '<pad>', '<pad>', '<pad>', '<pad>', '<pad>', '<pad>', '<eos>']\n",
      "Decoded: ['so', 'doth', 'it', 'accord', 'with', 'good', 'sleep', '<pad>', '<pad>', '<pad>', '<pad>', '<pad>', '<pad>', '<pad>', '<pad>', '<pad>', '<pad>', '<pad>', '<pad>', '<pad>', '<pad>', '<pad>', '<pad>', '<pad>', '<pad>', '<pad>', '<pad>', '<eos>']\n",
      "\n"
     ]
    },
    {
     "data": {
      "application/vnd.jupyter.widget-view+json": {
       "model_id": "b67b31dfbfdb46359d8b5da8b51cb837",
       "version_major": 2,
       "version_minor": 0
      },
      "text/plain": [
       "HBox(children=(FloatProgress(value=0.0, max=154.0), HTML(value='')))"
      ]
     },
     "metadata": {},
     "output_type": "display_data"
    },
    {
     "name": "stdout",
     "output_type": "stream",
     "text": [
      "\n",
      "*************************** EPOCH 44 ***************************\n"
     ]
    },
    {
     "data": {
      "application/vnd.jupyter.widget-view+json": {
       "model_id": "623690437af340d3a987e74c363c09c2",
       "version_major": 2,
       "version_minor": 0
      },
      "text/plain": [
       "HBox(children=(FloatProgress(value=0.0, max=357.0), HTML(value='')))"
      ]
     },
     "metadata": {},
     "output_type": "display_data"
    },
    {
     "name": "stdout",
     "output_type": "stream",
     "text": [
      "\n",
      "Real: ['the', 'most', 'common', 'sort', 'of', 'lie', 'is', 'that', 'by', 'which', 'a', 'man', '<unk>', 'himself', ':', 'the', 'deception', 'of', 'others', 'is', 'a', 'relatively', 'rare', 'offence', '<pad>', '<pad>', '<pad>', '<eos>']\n",
      "Decoded: ['the', 'most', 'common', 'sort', 'of', 'lie', 'is', 'that', 'by', 'which', 'a', 'man', 'asserts', 'himself', ':', 'the', 'perfume', 'of', 'others', 'is', 'a', 'butcher', 'rare', 'meditateth', '<pad>', '<pad>', '<pad>', '<eos>']\n",
      "\n"
     ]
    },
    {
     "data": {
      "application/vnd.jupyter.widget-view+json": {
       "model_id": "523ae282d9b34a7c9b2f9380b6c5f0cd",
       "version_major": 2,
       "version_minor": 0
      },
      "text/plain": [
       "HBox(children=(FloatProgress(value=0.0, max=154.0), HTML(value='')))"
      ]
     },
     "metadata": {},
     "output_type": "display_data"
    },
    {
     "name": "stdout",
     "output_type": "stream",
     "text": [
      "\n",
      "*************************** EPOCH 45 ***************************\n"
     ]
    },
    {
     "data": {
      "application/vnd.jupyter.widget-view+json": {
       "model_id": "2c330b6b50a24e4394f95c48af9f7296",
       "version_major": 2,
       "version_minor": 0
      },
      "text/plain": [
       "HBox(children=(FloatProgress(value=0.0, max=357.0), HTML(value='')))"
      ]
     },
     "metadata": {},
     "output_type": "display_data"
    },
    {
     "name": "stdout",
     "output_type": "stream",
     "text": [
      "\n",
      "Real: ['he', 'threw', 'his', '<unk>', 'away', ',', 'and', '<unk>', 'downwards', 'faster', 'than', 'it', ',', 'like', 'an', '<unk>', 'of', 'arms', 'and', 'legs', ',', 'into', 'the', 'depth', '<pad>', '<pad>', '<pad>', '<eos>']\n",
      "Decoded: ['he', 'threw', 'his', 'failure', 'away', ',', 'and', 'failure', 'downwards', 'replace', 'than', 'it', ',', 'like', 'an', 'risk', 'of', 'pairs', 'and', 'legs', ',', 'into', 'the', 'depth', '<pad>', '<pad>', '<pad>', '<eos>']\n",
      "\n"
     ]
    },
    {
     "data": {
      "application/vnd.jupyter.widget-view+json": {
       "model_id": "44e7a4bf54014005906ac4ef4e13691b",
       "version_major": 2,
       "version_minor": 0
      },
      "text/plain": [
       "HBox(children=(FloatProgress(value=0.0, max=154.0), HTML(value='')))"
      ]
     },
     "metadata": {},
     "output_type": "display_data"
    },
    {
     "name": "stdout",
     "output_type": "stream",
     "text": [
      "\n",
      "*************************** EPOCH 46 ***************************\n"
     ]
    },
    {
     "data": {
      "application/vnd.jupyter.widget-view+json": {
       "model_id": "72142962d2494dc9a4b5e9dd5b41ff24",
       "version_major": 2,
       "version_minor": 0
      },
      "text/plain": [
       "HBox(children=(FloatProgress(value=0.0, max=357.0), HTML(value='')))"
      ]
     },
     "metadata": {},
     "output_type": "display_data"
    },
    {
     "name": "stdout",
     "output_type": "stream",
     "text": [
      "\n",
      "Real: ['said', 'ye', 'ever', 'yea', 'to', 'one', 'joy', '?', 'o', 'my', 'friends', ',', 'then', 'said', 'ye', 'yea', 'also', 'unto', 'all', 'woe', '<pad>', '<pad>', '<pad>', '<pad>', '<pad>', '<pad>', '<pad>', '<eos>']\n",
      "Decoded: ['said', 'ye', 'ever', 'yea', 'to', 'one', 'joy', '?', 'o', 'my', 'friends', ',', 'then', 'said', 'ye', 'yea', 'also', 'unto', 'all', 'woe', '<pad>', '<pad>', '<pad>', '<pad>', '<pad>', '<pad>', '<pad>', '<eos>']\n",
      "\n"
     ]
    },
    {
     "data": {
      "application/vnd.jupyter.widget-view+json": {
       "model_id": "47c03ca7a3ac461b9b27bfe7e04d9725",
       "version_major": 2,
       "version_minor": 0
      },
      "text/plain": [
       "HBox(children=(FloatProgress(value=0.0, max=154.0), HTML(value='')))"
      ]
     },
     "metadata": {},
     "output_type": "display_data"
    },
    {
     "name": "stdout",
     "output_type": "stream",
     "text": [
      "\n",
      "*************************** EPOCH 47 ***************************\n"
     ]
    },
    {
     "data": {
      "application/vnd.jupyter.widget-view+json": {
       "model_id": "fde4f1ef6bd44b259cc61a1941a038e2",
       "version_major": 2,
       "version_minor": 0
      },
      "text/plain": [
       "HBox(children=(FloatProgress(value=0.0, max=357.0), HTML(value='')))"
      ]
     },
     "metadata": {},
     "output_type": "display_data"
    },
    {
     "name": "stdout",
     "output_type": "stream",
     "text": [
      "\n",
      "Real: ['hath', 'not', 'god', 'made', 'foolish', 'the', 'wisdom', 'of', 'this', 'world', '?', 'for', 'after', 'that', 'in', 'the', 'wisdom', 'of', 'god', 'the', 'world', 'by', 'wisdom', 'knew', 'not', 'god', ',', '<eos>']\n",
      "Decoded: ['hath', 'not', 'god', 'made', 'foolish', 'the', 'wisdom', 'of', 'this', 'world', '?', 'for', 'after', 'that', 'in', 'the', 'wisdom', 'of', 'god', 'the', 'world', 'by', 'wisdom', 'knew', 'not', 'god', ',', '<eos>']\n",
      "\n"
     ]
    },
    {
     "data": {
      "application/vnd.jupyter.widget-view+json": {
       "model_id": "72cf1952fce8466096f014818c172de3",
       "version_major": 2,
       "version_minor": 0
      },
      "text/plain": [
       "HBox(children=(FloatProgress(value=0.0, max=154.0), HTML(value='')))"
      ]
     },
     "metadata": {},
     "output_type": "display_data"
    },
    {
     "name": "stdout",
     "output_type": "stream",
     "text": [
      "\n",
      "*************************** EPOCH 48 ***************************\n"
     ]
    },
    {
     "data": {
      "application/vnd.jupyter.widget-view+json": {
       "model_id": "98f9721ab25f40159f83cf3817be7a39",
       "version_major": 2,
       "version_minor": 0
      },
      "text/plain": [
       "HBox(children=(FloatProgress(value=0.0, max=357.0), HTML(value='')))"
      ]
     },
     "metadata": {},
     "output_type": "display_data"
    },
    {
     "name": "stdout",
     "output_type": "stream",
     "text": [
      "\n",
      "Real: ['the', 'physician', 'says', 'incurable', '<pad>', '<pad>', '<pad>', '<pad>', '<pad>', '<pad>', '<pad>', '<pad>', '<pad>', '<pad>', '<pad>', '<pad>', '<pad>', '<pad>', '<pad>', '<pad>', '<pad>', '<pad>', '<pad>', '<pad>', '<pad>', '<pad>', '<pad>', '<eos>']\n",
      "Decoded: ['the', 'physician', 'says', 'beareth', '<pad>', '<pad>', '<pad>', '<pad>', '<pad>', '<pad>', '<pad>', '<pad>', '<pad>', '<pad>', '<pad>', '<pad>', '<pad>', '<pad>', '<pad>', '<pad>', '<pad>', '<pad>', '<pad>', '<pad>', '<pad>', '<pad>', '<pad>', '<eos>']\n",
      "\n"
     ]
    },
    {
     "data": {
      "application/vnd.jupyter.widget-view+json": {
       "model_id": "9961b6b21e7344b7925d449973b44f9c",
       "version_major": 2,
       "version_minor": 0
      },
      "text/plain": [
       "HBox(children=(FloatProgress(value=0.0, max=154.0), HTML(value='')))"
      ]
     },
     "metadata": {},
     "output_type": "display_data"
    },
    {
     "name": "stdout",
     "output_type": "stream",
     "text": [
      "\n",
      "*************************** EPOCH 49 ***************************\n"
     ]
    },
    {
     "data": {
      "application/vnd.jupyter.widget-view+json": {
       "model_id": "a20059e018c34b038c19d3d3b279004c",
       "version_major": 2,
       "version_minor": 0
      },
      "text/plain": [
       "HBox(children=(FloatProgress(value=0.0, max=357.0), HTML(value='')))"
      ]
     },
     "metadata": {},
     "output_type": "display_data"
    },
    {
     "name": "stdout",
     "output_type": "stream",
     "text": [
      "\n",
      "Real: ['to', '<unk>', 'mad', 'that', 'meaneth', 'with', 'him', 'to', 'convince', '<pad>', '<pad>', '<pad>', '<pad>', '<pad>', '<pad>', '<pad>', '<pad>', '<pad>', '<pad>', '<pad>', '<pad>', '<pad>', '<pad>', '<pad>', '<pad>', '<pad>', '<pad>', '<eos>']\n",
      "Decoded: ['to', 'failure', 'loadeth', 'that', 'meaneth', 'with', 'him', 'to', 'convinced', '<pad>', '<pad>', '<pad>', '<pad>', '<pad>', '<pad>', '<pad>', '<pad>', '<pad>', '<pad>', '<pad>', '<pad>', '<pad>', '<pad>', '<pad>', '<pad>', '<pad>', '<pad>', '<eos>']\n",
      "\n"
     ]
    },
    {
     "data": {
      "application/vnd.jupyter.widget-view+json": {
       "model_id": "16d117345b9a49759204187c89943f73",
       "version_major": 2,
       "version_minor": 0
      },
      "text/plain": [
       "HBox(children=(FloatProgress(value=0.0, max=154.0), HTML(value='')))"
      ]
     },
     "metadata": {},
     "output_type": "display_data"
    },
    {
     "name": "stdout",
     "output_type": "stream",
     "text": [
      "\n"
     ]
    }
   ],
   "source": [
    "# Define steps where examples will be sampled \n",
    "test_examples = iter(test_dataloader)\n",
    "\n",
    "# For EPOCHS\n",
    "for epoch in range(last_epoch + 1, EPOCHS + last_epoch):\n",
    "    \n",
    "    print('*************************** EPOCH {} ***************************'.format(epoch))\n",
    "\n",
    "    # Restart train dataset\n",
    "    examples = iter(train_dataloader)\n",
    "\n",
    "    # Progress bar for training dataset\n",
    "    progress_bar = tqdm(range(len(train_dataloader)))\n",
    "    train_loss = 0\n",
    "\n",
    "    # For all data in training dataset\n",
    "    # Training\n",
    "    for batch_idx in progress_bar:\n",
    "\n",
    "        # Add train loss to progress bar\n",
    "        progress_bar.set_postfix({\n",
    "            'tr_loss': train_loss / (batch_idx + 1), \n",
    "            'lr': scheduler.get_lr()[0]\n",
    "        })\n",
    "\n",
    "        # Train step\n",
    "        example = next(examples).to(device)\n",
    "        train_loss += train_step(model, loss_fn, optimizer, example)\n",
    "\n",
    "\n",
    "        if batch_idx == 0:\n",
    "            try:\n",
    "                example = next(test_examples).to(device)\n",
    "            except:\n",
    "                test_examples = iter(test_dataloader)\n",
    "                example = next(test_examples).to(device)\n",
    "\n",
    "            with torch.no_grad():\n",
    "                _, decodings = val_step(model, loss_fn, example)\n",
    "                decodings = torch.argmax(decodings[0], dim=-1).cpu().numpy()\n",
    "\n",
    "            print('\\nReal: {}'.format(vocab.to_words(example[0][1:].cpu().numpy())))\n",
    "            print('Decoded: {}'.format(vocab.to_words(decodings)))\n",
    "\n",
    "    # Validation\n",
    "    val_examples = iter(test_dataloader)\n",
    "    progress_bar = tqdm(range(len(test_dataloader)))\n",
    "    val_loss = 0\n",
    "\n",
    "    for batch_idx in progress_bar:\n",
    "        progress_bar.set_postfix({\n",
    "            'val_loss': val_loss / (batch_idx + 1)\n",
    "        })\n",
    "        \n",
    "        example = next(val_examples).to(device)\n",
    "        \n",
    "        with torch.no_grad():\n",
    "            val_loss += val_step(model, loss_fn, example)[0]\n",
    "    \n",
    "    # Save losses in history\n",
    "    train_loss_history.append(train_loss / len(train_dataloader))\n",
    "    val_loss_history.append(val_loss / len(test_dataloader))\n",
    "    \n",
    "    # If this model is best than other\n",
    "    if best_val_loss is None or val_loss < best_val_loss:\n",
    "        best_val_loss = val_loss\n",
    "        \n",
    "        save_model_state(\n",
    "            os.path.join(CHECKPOINT_BASE, AUTHOR + '_best.pt'), \n",
    "            model, \n",
    "            optimizer, \n",
    "            epoch, \n",
    "            train_loss_history, \n",
    "            val_loss_history, \n",
    "            best_val_loss\n",
    "        )\n",
    "        \n",
    "    # Save last model\n",
    "    save_model_state(\n",
    "        os.path.join(CHECKPOINT_BASE, AUTHOR + '_last.pt'), \n",
    "        model, \n",
    "        optimizer, \n",
    "        epoch, \n",
    "        train_loss_history, \n",
    "        val_loss_history, \n",
    "        best_val_loss\n",
    "    )    \n",
    "    \n",
    "    scheduler.step()    "
   ]
  },
  {
   "cell_type": "code",
   "execution_count": 12,
   "metadata": {},
   "outputs": [
    {
     "data": {
      "image/png": "[encoded data removed]",
      "text/plain": [
       "<Figure size 1080x576 with 1 Axes>"
      ]
     },
     "metadata": {
      "needs_background": "light"
     },
     "output_type": "display_data"
    }
   ],
   "source": [
    "x = [epoch for epoch in range(len(train_loss_history))]\n",
    "plt.figure(figsize=(15, 8))\n",
    "\n",
    "plt.xlabel('Epoch')\n",
    "plt.ylabel('Loss')\n",
    "plt.title('Training and validation loss')\n",
    "\n",
    "plt.plot(x, train_loss_history, label='Training loss')\n",
    "plt.plot(x, val_loss_history, label='Validation loss')\n",
    "\n",
    "plt.legend()\n",
    "\n",
    "plt.show()"
   ]
  },
  {
   "cell_type": "code",
   "execution_count": 13,
   "metadata": {},
   "outputs": [
    {
     "name": "stdout",
     "output_type": "stream",
     "text": [
      "Lower validation loss: 0.7258748434387244 in epoch 21\n"
     ]
    }
   ],
   "source": [
    "argmin_val = np.argmin(val_loss_history)\n",
    "print('Lower validation loss: {} in epoch {}'.format(val_loss_history[argmin_val], argmin_val))"
   ]
  },
  {
   "cell_type": "code",
   "execution_count": null,
   "metadata": {},
   "outputs": [],
   "source": []
  }
 ],
 "metadata": {
  "file_extension": ".py",
  "kernelspec": {
   "display_name": "Python 3",
   "language": "python",
   "name": "python3"
  },
  "language_info": {
   "codemirror_mode": {
    "name": "ipython",
    "version": 3
   },
   "file_extension": ".py",
   "mimetype": "text/x-python",
   "name": "python",
   "nbconvert_exporter": "python",
   "pygments_lexer": "ipython3",
   "version": "3.7.7"
  },
  "mimetype": "text/x-python",
  "name": "python",
  "npconvert_exporter": "python",
  "pygments_lexer": "ipython3",
  "version": 3
 },
 "nbformat": 4,
 "nbformat_minor": 2
}
