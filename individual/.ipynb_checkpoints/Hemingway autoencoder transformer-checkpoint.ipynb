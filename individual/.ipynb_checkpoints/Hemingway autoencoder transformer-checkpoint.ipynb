{
 "cells": [
  {
   "cell_type": "code",
   "execution_count": 1,
   "metadata": {},
   "outputs": [],
   "source": [
    "import numpy as np \n",
    "import os\n",
    "from tqdm.notebook import tqdm\n",
    "\n",
    "import torch\n",
    "import torch.nn as nn\n",
    "import math\n",
    "from matplotlib import pyplot as plt\n",
    "\n",
    "import sys\n",
    "sys.path.append('../utils')\n",
    "\n",
    "from text.utils import save_text_state, load_text_state, build_text_state, load_books\n",
    "from model.utils import get_device, load_model_state, save_model_state, build_model_state\n",
    "\n",
    "from text_model import TextModel, get_loss_function"
   ]
  },
  {
   "cell_type": "markdown",
   "metadata": {},
   "source": [
    "### Verify if CUDA is available"
   ]
  },
  {
   "cell_type": "code",
   "execution_count": 2,
   "metadata": {},
   "outputs": [
    {
     "name": "stdout",
     "output_type": "stream",
     "text": [
      "cuda\n"
     ]
    }
   ],
   "source": [
    "device = get_device()\n",
    "print(device)"
   ]
  },
  {
   "cell_type": "markdown",
   "metadata": {},
   "source": [
    "### Loading word vectors and training/validation dataset"
   ]
  },
  {
   "cell_type": "code",
   "execution_count": 3,
   "metadata": {},
   "outputs": [],
   "source": [
    "LOAD_CHECKPOINTS = True\n",
    "\n",
    "CHECKPOINT_BASE = 'checkpoints'\n",
    "DATASET_FILENAME = '../datasets/books.pk'\n",
    "AUTHOR = 'Ernest Hemingway'\n",
    "\n",
    "VAL_PARTITION = 0.3 \n",
    "SENTENCE_LENGTH = 15\n",
    "BATCH_SIZE = 8"
   ]
  },
  {
   "cell_type": "code",
   "execution_count": 4,
   "metadata": {},
   "outputs": [
    {
     "name": "stdout",
     "output_type": "stream",
     "text": [
      "No checkpoint found. New partition.\n",
      "Included books:\n",
      "\t Name: In our time   Author: Ernest Hemingway\n",
      "\t Name: The old man of the sea   Author: Ernest Hemingway\n"
     ]
    }
   ],
   "source": [
    "# Try loading dataset, if it doesn't exists then creates it\n",
    "try:\n",
    "    if not LOAD_CHECKPOINTS:\n",
    "        print('New training required')\n",
    "        raise Error('New training required')\n",
    "        \n",
    "    vocab, train_dataset, test_dataset = load_text_state(os.path.join(CHECKPOINT_BASE, AUTHOR + '_text.pk'))    \n",
    "    print('Checkpoint loaded')\n",
    "except:\n",
    "    books = load_books(DATASET_FILENAME, author=AUTHOR)\n",
    "    vocab, train_dataset, test_dataset = build_text_state(books, SENTENCE_LENGTH, VAL_PARTITION, vocab_name=AUTHOR)  \n",
    "    print('No checkpoint found. New partition.')\n",
    "    print('Included books:')\n",
    "    for book in books:\n",
    "        print('\\t', book)\n",
    "\n",
    "train_dataloader = torch.utils.data.DataLoader(train_dataset, batch_size=BATCH_SIZE)\n",
    "test_dataloader = torch.utils.data.DataLoader(test_dataset, batch_size=BATCH_SIZE)"
   ]
  },
  {
   "cell_type": "code",
   "execution_count": 5,
   "metadata": {},
   "outputs": [],
   "source": [
    "save_text_state(os.path.join(CHECKPOINT_BASE, AUTHOR + '_text.pk'), vocab, train_dataset, test_dataset) "
   ]
  },
  {
   "cell_type": "markdown",
   "metadata": {},
   "source": [
    "### Loading components"
   ]
  },
  {
   "cell_type": "code",
   "execution_count": 6,
   "metadata": {},
   "outputs": [],
   "source": [
    "VOCAB_SIZE = len(vocab)\n",
    "\n",
    "LEARNING_RATE = 1e-4\n",
    "BETA_1 = 0.1\n",
    "BETA_2 = 0.999\n",
    "EPOCHS = 50\n",
    "NUM_HEADS = 8\n",
    "ENCODER_LAYERS = 1\n",
    "DECODER_LAYERS = 1\n",
    "EMBEDDING_SIZE = 512\n",
    "FF_DIM = 1024\n",
    "DROPOUT=0.1\n",
    "STEP_LR_DECAY = 15\n",
    "LR_FACTOR_DECAY = 0.5"
   ]
  },
  {
   "cell_type": "code",
   "execution_count": 7,
   "metadata": {},
   "outputs": [],
   "source": [
    "model = TextModel(\n",
    "    vocab_size=VOCAB_SIZE,\n",
    "    embedding_size=EMBEDDING_SIZE, \n",
    "    num_heads=NUM_HEADS, \n",
    "    encoder_layers=ENCODER_LAYERS, \n",
    "    decoder_layers=DECODER_LAYERS, \n",
    "    dim_feedforward=FF_DIM,\n",
    "    dropout=DROPOUT\n",
    ")\n",
    "\n",
    "optimizer = torch.optim.Adam(\n",
    "    list(model.parameters()), \n",
    "    lr=LEARNING_RATE,\n",
    "    betas=(BETA_1, BETA_2)\n",
    ")\n",
    "\n",
    "loss_fn = get_loss_function()\n",
    "scheduler = torch.optim.lr_scheduler.StepLR(optimizer, step_size=STEP_LR_DECAY, gamma=LR_FACTOR_DECAY)"
   ]
  },
  {
   "cell_type": "code",
   "execution_count": 8,
   "metadata": {},
   "outputs": [
    {
     "name": "stdout",
     "output_type": "stream",
     "text": [
      "No checkpoints found. New training.\n"
     ]
    }
   ],
   "source": [
    "try:\n",
    "    if not LOAD_CHECKPOINTS:\n",
    "        print('New training required')\n",
    "        raise Error('New training required')\n",
    "        \n",
    "    model, optimizer, last_epoch, train_loss_history, val_loss_history, best_val_loss = load_model_state(\n",
    "        os.path.join(CHECKPOINT_BASE, AUTHOR + '_best.pt'), \n",
    "        model, \n",
    "        optimizer\n",
    "    )\n",
    "    \n",
    "    for state in optimizer.state.values():\n",
    "        for k, v in state.items():\n",
    "            if isinstance(v, torch.Tensor):\n",
    "                state[k] = v.to(device)\n",
    "\n",
    "    print('Checkpoint loaded')\n",
    "    \n",
    "except:\n",
    "    last_epoch, train_loss_history, val_loss_history, best_val_loss = build_model_state()\n",
    "    print('No checkpoints found. New training.')\n",
    "    pass\n",
    "\n",
    "model = model.to(device)\n"
   ]
  },
  {
   "cell_type": "markdown",
   "metadata": {},
   "source": [
    "### Training and validation"
   ]
  },
  {
   "cell_type": "code",
   "execution_count": 9,
   "metadata": {},
   "outputs": [],
   "source": [
    "def train_step(transformer, loss_fn, optimizer, batch):\n",
    "    transformer.train()\n",
    "\n",
    "    transformer.zero_grad()\n",
    "    optimizer.zero_grad()\n",
    "\n",
    "    decodings = transformer(batch[:,1:], batch[:,:-1])\n",
    "    \n",
    "    loss = loss_fn(batch[:,1:], decodings)\n",
    "    loss.backward()\n",
    "    optimizer.step()\n",
    "    return loss.item()    "
   ]
  },
  {
   "cell_type": "code",
   "execution_count": 10,
   "metadata": {},
   "outputs": [],
   "source": [
    "def val_step(transformer, loss_fn, batch):\n",
    "    transformer.eval()\n",
    "    \n",
    "    with torch.no_grad():\n",
    "        decodings = transformer(batch[:,1:], batch[:,:-1])\n",
    "        loss = loss_fn(batch[:,1:], decodings)\n",
    "\n",
    "        return loss.item(), decodings"
   ]
  },
  {
   "cell_type": "code",
   "execution_count": 11,
   "metadata": {
    "tags": [
     "outputPrepend"
    ]
   },
   "outputs": [
    {
     "name": "stdout",
     "output_type": "stream",
     "text": [
      "*************************** EPOCH 1 ***************************\n"
     ]
    },
    {
     "data": {
      "application/vnd.jupyter.widget-view+json": {
       "model_id": "582dde24b61642c2871e442df2df16b6",
       "version_major": 2,
       "version_minor": 0
      },
      "text/plain": [
       "HBox(children=(FloatProgress(value=0.0, max=163.0), HTML(value='')))"
      ]
     },
     "metadata": {},
     "output_type": "display_data"
    },
    {
     "name": "stdout",
     "output_type": "stream",
     "text": [
      "\n",
      "Real: ['we', 'have', 'good', 'whiskey', 'anyway', ',', 'he', 'said', '<pad>', '<pad>', '<pad>', '<pad>', '<pad>', '<pad>', '<pad>', '<eos>']\n",
      "Decoded: ['<pad>', '<pad>', '<pad>', '<pad>', '<pad>', '<pad>', '<pad>', '<pad>', '<pad>', '<pad>', '<pad>', '<pad>', '<pad>', '<pad>', '<pad>', '<pad>']\n",
      "\n"
     ]
    },
    {
     "data": {
      "application/vnd.jupyter.widget-view+json": {
       "model_id": "1610f04f66614839a38994b7b957a260",
       "version_major": 2,
       "version_minor": 0
      },
      "text/plain": [
       "HBox(children=(FloatProgress(value=0.0, max=70.0), HTML(value='')))"
      ]
     },
     "metadata": {},
     "output_type": "display_data"
    },
    {
     "name": "stdout",
     "output_type": "stream",
     "text": [
      "\n",
      "*************************** EPOCH 2 ***************************\n"
     ]
    },
    {
     "data": {
      "application/vnd.jupyter.widget-view+json": {
       "model_id": "af63202692e44feea8217ae7a99ae525",
       "version_major": 2,
       "version_minor": 0
      },
      "text/plain": [
       "HBox(children=(FloatProgress(value=0.0, max=163.0), HTML(value='')))"
      ]
     },
     "metadata": {},
     "output_type": "display_data"
    },
    {
     "name": "stdout",
     "output_type": "stream",
     "text": [
      "\n",
      "Real: ['now', 'you', 'are', 'getting', '<unk>', 'in', 'the', 'head', ',', 'he', 'thought', '<pad>', '<pad>', '<pad>', '<pad>', '<eos>']\n",
      "Decoded: ['the', '<pad>', '<pad>', '<pad>', '<pad>', '<pad>', '<pad>', '<pad>', '<pad>', '<pad>', '<pad>', '<pad>', '<pad>', '<pad>', '<pad>', '<pad>']\n",
      "\n"
     ]
    },
    {
     "data": {
      "application/vnd.jupyter.widget-view+json": {
       "model_id": "48366b0b76634950b957758436b5ccc7",
       "version_major": 2,
       "version_minor": 0
      },
      "text/plain": [
       "HBox(children=(FloatProgress(value=0.0, max=70.0), HTML(value='')))"
      ]
     },
     "metadata": {},
     "output_type": "display_data"
    },
    {
     "name": "stdout",
     "output_type": "stream",
     "text": [
      "\n",
      "*************************** EPOCH 3 ***************************\n"
     ]
    },
    {
     "data": {
      "application/vnd.jupyter.widget-view+json": {
       "model_id": "41226d6ffe6345dcaf65d3f8b8e9f342",
       "version_major": 2,
       "version_minor": 0
      },
      "text/plain": [
       "HBox(children=(FloatProgress(value=0.0, max=163.0), HTML(value='')))"
      ]
     },
     "metadata": {},
     "output_type": "display_data"
    },
    {
     "name": "stdout",
     "output_type": "stream",
     "text": [
      "\n",
      "Real: ['i', 'never', 'knew', 'how', 'easy', 'it', 'was', '<pad>', '<pad>', '<pad>', '<pad>', '<pad>', '<pad>', '<pad>', '<pad>', '<eos>']\n",
      "Decoded: ['he', 'the', 'the', 'the', 'the', 'the', 'the', 'the', '<pad>', '<pad>', '<pad>', '<pad>', '<pad>', '<pad>', '<pad>', '<eos>']\n",
      "\n"
     ]
    },
    {
     "data": {
      "application/vnd.jupyter.widget-view+json": {
       "model_id": "20b286489dc54707b628b196ec1d538a",
       "version_major": 2,
       "version_minor": 0
      },
      "text/plain": [
       "HBox(children=(FloatProgress(value=0.0, max=70.0), HTML(value='')))"
      ]
     },
     "metadata": {},
     "output_type": "display_data"
    },
    {
     "name": "stdout",
     "output_type": "stream",
     "text": [
      "\n",
      "*************************** EPOCH 4 ***************************\n"
     ]
    },
    {
     "data": {
      "application/vnd.jupyter.widget-view+json": {
       "model_id": "8470900c6dba4c87a83c3f57bd2cc44e",
       "version_major": 2,
       "version_minor": 0
      },
      "text/plain": [
       "HBox(children=(FloatProgress(value=0.0, max=163.0), HTML(value='')))"
      ]
     },
     "metadata": {},
     "output_type": "display_data"
    },
    {
     "name": "stdout",
     "output_type": "stream",
     "text": [
      "\n",
      "Real: ['the', 'male', 'fish', 'always', 'let', 'the', '<unk>', 'fish', 'feed', 'first', 'and', 'the', 'hooked', 'fish', ',', '<eos>']\n",
      "Decoded: ['the', 'it', ',', ',', ',', 'the', ',', 'and', ',', ',', 'and', 'the', 'it', '<pad>', ',', '<eos>']\n",
      "\n"
     ]
    },
    {
     "data": {
      "application/vnd.jupyter.widget-view+json": {
       "model_id": "b141b6d58322471ea3363f47f5ff8edf",
       "version_major": 2,
       "version_minor": 0
      },
      "text/plain": [
       "HBox(children=(FloatProgress(value=0.0, max=70.0), HTML(value='')))"
      ]
     },
     "metadata": {},
     "output_type": "display_data"
    },
    {
     "name": "stdout",
     "output_type": "stream",
     "text": [
      "\n",
      "*************************** EPOCH 5 ***************************\n"
     ]
    },
    {
     "data": {
      "application/vnd.jupyter.widget-view+json": {
       "model_id": "76d9d91d47e64357abf2917e251b3ac1",
       "version_major": 2,
       "version_minor": 0
      },
      "text/plain": [
       "HBox(children=(FloatProgress(value=0.0, max=163.0), HTML(value='')))"
      ]
     },
     "metadata": {},
     "output_type": "display_data"
    },
    {
     "name": "stdout",
     "output_type": "stream",
     "text": [
      "\n",
      "Real: ['look', 'to', 'the', 'lashing', 'on', 'the', 'knife', 'and', 'see', 'if', 'it', 'has', 'been', 'cut', '<pad>', '<eos>']\n",
      "Decoded: ['but', 'to', 'the', 'it', ',', 'the', 'and', 'and', 'it', 'it', 'it', 'was', 'to', 'was', '<pad>', '<eos>']\n",
      "\n"
     ]
    },
    {
     "data": {
      "application/vnd.jupyter.widget-view+json": {
       "model_id": "da22b843736f405380e552c760aaafb8",
       "version_major": 2,
       "version_minor": 0
      },
      "text/plain": [
       "HBox(children=(FloatProgress(value=0.0, max=70.0), HTML(value='')))"
      ]
     },
     "metadata": {},
     "output_type": "display_data"
    },
    {
     "name": "stdout",
     "output_type": "stream",
     "text": [
      "\n",
      "*************************** EPOCH 6 ***************************\n"
     ]
    },
    {
     "data": {
      "application/vnd.jupyter.widget-view+json": {
       "model_id": "ea793c49f1ab46be836e26b0175c7c5d",
       "version_major": 2,
       "version_minor": 0
      },
      "text/plain": [
       "HBox(children=(FloatProgress(value=0.0, max=163.0), HTML(value='')))"
      ]
     },
     "metadata": {},
     "output_type": "display_data"
    },
    {
     "name": "stdout",
     "output_type": "stream",
     "text": [
      "\n",
      "Real: ['in', 'the', 'night', 'i', 'spat', 'something', 'strange', 'and', 'felt', 'something', 'in', 'my', '<unk>', 'was', 'broken', '<eos>']\n",
      "Decoded: ['then', 'the', 'old', 'i', 'is', 'not', 'it', 'and', 'not', 'not', 'in', 'it', 'it', 'was', 'not', '<eos>']\n",
      "\n"
     ]
    },
    {
     "data": {
      "application/vnd.jupyter.widget-view+json": {
       "model_id": "4a14841d5554436ebb077285a3c42d19",
       "version_major": 2,
       "version_minor": 0
      },
      "text/plain": [
       "HBox(children=(FloatProgress(value=0.0, max=70.0), HTML(value='')))"
      ]
     },
     "metadata": {},
     "output_type": "display_data"
    },
    {
     "name": "stdout",
     "output_type": "stream",
     "text": [
      "\n",
      "*************************** EPOCH 7 ***************************\n"
     ]
    },
    {
     "data": {
      "application/vnd.jupyter.widget-view+json": {
       "model_id": "1d85535564d14dd0a946d7d29c1ee299",
       "version_major": 2,
       "version_minor": 0
      },
      "text/plain": [
       "HBox(children=(FloatProgress(value=0.0, max=163.0), HTML(value='')))"
      ]
     },
     "metadata": {},
     "output_type": "display_data"
    },
    {
     "name": "stdout",
     "output_type": "stream",
     "text": [
      "\n",
      "Real: ['he', 'did', 'not', '<unk>', 'and', 'he', 'kept', 'his', 'lines', 'straight', 'up', 'and', 'down', '<pad>', '<pad>', '<eos>']\n",
      "Decoded: ['he', \"'\", 'not', 'must', 'and', 'he', \"'\", 'his', 'said', 'it', 'up', 'and', \"'\", '<pad>', '<pad>', '<eos>']\n",
      "\n"
     ]
    },
    {
     "data": {
      "application/vnd.jupyter.widget-view+json": {
       "model_id": "8e2b7c7d2e5445aaa5813d0d95ed44b9",
       "version_major": 2,
       "version_minor": 0
      },
      "text/plain": [
       "HBox(children=(FloatProgress(value=0.0, max=70.0), HTML(value='')))"
      ]
     },
     "metadata": {},
     "output_type": "display_data"
    },
    {
     "name": "stdout",
     "output_type": "stream",
     "text": [
      "\n",
      "*************************** EPOCH 8 ***************************\n"
     ]
    },
    {
     "data": {
      "application/vnd.jupyter.widget-view+json": {
       "model_id": "6197c3a2aff3455cada018363f6c9fe5",
       "version_major": 2,
       "version_minor": 0
      },
      "text/plain": [
       "HBox(children=(FloatProgress(value=0.0, max=163.0), HTML(value='')))"
      ]
     },
     "metadata": {},
     "output_type": "display_data"
    },
    {
     "name": "stdout",
     "output_type": "stream",
     "text": [
      "\n",
      "Real: ['but', 'i', 'have', 'killed', 'this', 'fish', 'which', 'is', 'my', '<unk>', 'and', 'now', 'i', 'must', 'do', '<eos>']\n",
      "Decoded: ['but', 'i', 'have', 's', 'this', 'fish', 'up', 'is', 'do', 'them', 'and', 'now', 'i', 'must', 'do', '<eos>']\n",
      "\n"
     ]
    },
    {
     "data": {
      "application/vnd.jupyter.widget-view+json": {
       "model_id": "a5214ffa30c24f4281215f46ab5966ac",
       "version_major": 2,
       "version_minor": 0
      },
      "text/plain": [
       "HBox(children=(FloatProgress(value=0.0, max=70.0), HTML(value='')))"
      ]
     },
     "metadata": {},
     "output_type": "display_data"
    },
    {
     "name": "stdout",
     "output_type": "stream",
     "text": [
      "\n",
      "*************************** EPOCH 9 ***************************\n"
     ]
    },
    {
     "data": {
      "application/vnd.jupyter.widget-view+json": {
       "model_id": "cef3dc9233aa41beb4f5fe0816839f6f",
       "version_major": 2,
       "version_minor": 0
      },
      "text/plain": [
       "HBox(children=(FloatProgress(value=0.0, max=163.0), HTML(value='')))"
      ]
     },
     "metadata": {},
     "output_type": "display_data"
    },
    {
     "name": "stdout",
     "output_type": "stream",
     "text": [
      "\n",
      "Real: ['he', 'seemed', 'very', '<unk>', 'to', 'see', 'me', '<pad>', '<pad>', '<pad>', '<pad>', '<pad>', '<pad>', '<pad>', '<pad>', '<eos>']\n",
      "Decoded: ['he', 'sailed', 'up', 'them', 'to', 'see', 'me', '<pad>', '<pad>', '<pad>', '<pad>', '<pad>', '<pad>', '<pad>', '<pad>', '<eos>']\n",
      "\n"
     ]
    },
    {
     "data": {
      "application/vnd.jupyter.widget-view+json": {
       "model_id": "eac9a0a7656e41c68b81a7af91b4635f",
       "version_major": 2,
       "version_minor": 0
      },
      "text/plain": [
       "HBox(children=(FloatProgress(value=0.0, max=70.0), HTML(value='')))"
      ]
     },
     "metadata": {},
     "output_type": "display_data"
    },
    {
     "name": "stdout",
     "output_type": "stream",
     "text": [
      "\n",
      "*************************** EPOCH 10 ***************************\n"
     ]
    },
    {
     "data": {
      "application/vnd.jupyter.widget-view+json": {
       "model_id": "55e9b700b5b7494dbf7a2cc09688b925",
       "version_major": 2,
       "version_minor": 0
      },
      "text/plain": [
       "HBox(children=(FloatProgress(value=0.0, max=163.0), HTML(value='')))"
      ]
     },
     "metadata": {},
     "output_type": "display_data"
    },
    {
     "name": "stdout",
     "output_type": "stream",
     "text": [
      "\n",
      "Real: ['the', 'shark', \"'\", 's', 'head', 'was', 'out', 'of', 'water', 'and', 'his', 'back', 'was', 'coming', 'out', '<eos>']\n",
      "Decoded: ['the', 'shark', \"'\", 's', 'head', 'was', 'out', 'of', 'water', 'and', 'his', 'back', 'was', 'went', 'out', '<eos>']\n",
      "\n"
     ]
    },
    {
     "data": {
      "application/vnd.jupyter.widget-view+json": {
       "model_id": "45584a3071e4467eac8359638ef713df",
       "version_major": 2,
       "version_minor": 0
      },
      "text/plain": [
       "HBox(children=(FloatProgress(value=0.0, max=70.0), HTML(value='')))"
      ]
     },
     "metadata": {},
     "output_type": "display_data"
    },
    {
     "name": "stdout",
     "output_type": "stream",
     "text": [
      "\n",
      "*************************** EPOCH 11 ***************************\n"
     ]
    },
    {
     "data": {
      "application/vnd.jupyter.widget-view+json": {
       "model_id": "bf23e3baf59b4e07b693eb4e5c41f197",
       "version_major": 2,
       "version_minor": 0
      },
      "text/plain": [
       "HBox(children=(FloatProgress(value=0.0, max=163.0), HTML(value='')))"
      ]
     },
     "metadata": {},
     "output_type": "display_data"
    },
    {
     "name": "stdout",
     "output_type": "stream",
     "text": [
      "\n",
      "Real: ['his', 'hope', 'and', 'his', 'confidence', 'had', 'never', 'gone', '<pad>', '<pad>', '<pad>', '<pad>', '<pad>', '<pad>', '<pad>', '<eos>']\n",
      "Decoded: ['his', 'harbour', 'and', 'his', 'harbour', 'had', 'do', 'gone', '<pad>', '<pad>', '<pad>', '<pad>', '<pad>', '<pad>', '<pad>', '<eos>']\n",
      "\n"
     ]
    },
    {
     "data": {
      "application/vnd.jupyter.widget-view+json": {
       "model_id": "3a7a57b6cc19445b9ceff0238043bdc2",
       "version_major": 2,
       "version_minor": 0
      },
      "text/plain": [
       "HBox(children=(FloatProgress(value=0.0, max=70.0), HTML(value='')))"
      ]
     },
     "metadata": {},
     "output_type": "display_data"
    },
    {
     "name": "stdout",
     "output_type": "stream",
     "text": [
      "\n",
      "*************************** EPOCH 12 ***************************\n"
     ]
    },
    {
     "data": {
      "application/vnd.jupyter.widget-view+json": {
       "model_id": "94273b6a552b4729b00763278e159d12",
       "version_major": 2,
       "version_minor": 0
      },
      "text/plain": [
       "HBox(children=(FloatProgress(value=0.0, max=163.0), HTML(value='')))"
      ]
     },
     "metadata": {},
     "output_type": "display_data"
    },
    {
     "name": "stdout",
     "output_type": "stream",
     "text": [
      "\n",
      "Real: ['he', 'cannot', 'know', 'that', 'it', 'is', 'only', 'one', 'man', 'against', 'him', ',', 'nor', 'that', 'it', '<eos>']\n",
      "Decoded: ['he', 'sailed', 'know', 'that', 'it', 'is', 'only', 'one', 'man', 'against', 'him', ',', 'line', 'that', 'it', '<eos>']\n",
      "\n"
     ]
    },
    {
     "data": {
      "application/vnd.jupyter.widget-view+json": {
       "model_id": "fc551bc0325648a6a01fa1f4dd78f235",
       "version_major": 2,
       "version_minor": 0
      },
      "text/plain": [
       "HBox(children=(FloatProgress(value=0.0, max=70.0), HTML(value='')))"
      ]
     },
     "metadata": {},
     "output_type": "display_data"
    },
    {
     "name": "stdout",
     "output_type": "stream",
     "text": [
      "\n",
      "*************************** EPOCH 13 ***************************\n"
     ]
    },
    {
     "data": {
      "application/vnd.jupyter.widget-view+json": {
       "model_id": "9912c63d83c7452790f926e6b84a908f",
       "version_major": 2,
       "version_minor": 0
      },
      "text/plain": [
       "HBox(children=(FloatProgress(value=0.0, max=163.0), HTML(value='')))"
      ]
     },
     "metadata": {},
     "output_type": "display_data"
    },
    {
     "name": "stdout",
     "output_type": "stream",
     "text": [
      "\n",
      "Real: ['you', \"'\", 're', 'tired', 'inside', '<pad>', '<pad>', '<pad>', '<pad>', '<pad>', '<pad>', '<pad>', '<pad>', '<pad>', '<pad>', '<eos>']\n",
      "Decoded: ['you', \"'\", 're', 'tired', 'sea', '<pad>', '<pad>', '<pad>', '<pad>', '<pad>', '<pad>', '<pad>', '<pad>', '<pad>', '<pad>', '<eos>']\n",
      "\n"
     ]
    },
    {
     "data": {
      "application/vnd.jupyter.widget-view+json": {
       "model_id": "5c215ae1c57e475f987e805df34338f9",
       "version_major": 2,
       "version_minor": 0
      },
      "text/plain": [
       "HBox(children=(FloatProgress(value=0.0, max=70.0), HTML(value='')))"
      ]
     },
     "metadata": {},
     "output_type": "display_data"
    },
    {
     "name": "stdout",
     "output_type": "stream",
     "text": [
      "\n",
      "*************************** EPOCH 14 ***************************\n"
     ]
    },
    {
     "data": {
      "application/vnd.jupyter.widget-view+json": {
       "model_id": "437ca321d4a849b28b8d1683242f4543",
       "version_major": 2,
       "version_minor": 0
      },
      "text/plain": [
       "HBox(children=(FloatProgress(value=0.0, max=163.0), HTML(value='')))"
      ]
     },
     "metadata": {},
     "output_type": "display_data"
    },
    {
     "name": "stdout",
     "output_type": "stream",
     "text": [
      "\n",
      "Real: ['you', 'must', 'devise', 'a', 'way', 'so', 'that', 'you', 'sleep', 'a', 'little', 'if', 'he', 'is', 'quiet', '<eos>']\n",
      "Decoded: ['you', 'must', 'much', 'a', 'way', 'so', 'that', 'you', 'would', 'a', 'little', 'if', 'he', 'is', 'quiet', '<eos>']\n",
      "\n"
     ]
    },
    {
     "data": {
      "application/vnd.jupyter.widget-view+json": {
       "model_id": "11d309e9a10941be80fc8ab7bdd82e9a",
       "version_major": 2,
       "version_minor": 0
      },
      "text/plain": [
       "HBox(children=(FloatProgress(value=0.0, max=70.0), HTML(value='')))"
      ]
     },
     "metadata": {},
     "output_type": "display_data"
    },
    {
     "name": "stdout",
     "output_type": "stream",
     "text": [
      "\n",
      "*************************** EPOCH 15 ***************************\n"
     ]
    },
    {
     "data": {
      "application/vnd.jupyter.widget-view+json": {
       "model_id": "875bc768dc274e65b4d702c4d36c7782",
       "version_major": 2,
       "version_minor": 0
      },
      "text/plain": [
       "HBox(children=(FloatProgress(value=0.0, max=163.0), HTML(value='')))"
      ]
     },
     "metadata": {},
     "output_type": "display_data"
    },
    {
     "name": "stdout",
     "output_type": "stream",
     "text": [
      "\n",
      "Real: ['he', '<unk>', 'the', '<unk>', 'and', '<unk>', 'of', 'the', '<unk>', 'as', 'he', 'slept', 'and', 'he', '<unk>', '<eos>']\n",
      "Decoded: ['he', 'sailed', 'the', 'harpoon', 'and', 'resolution', 'of', 'the', 'harpoon', 'as', 'he', 'sailed', 'and', 'he', 'sailed', '<eos>']\n",
      "\n"
     ]
    },
    {
     "data": {
      "application/vnd.jupyter.widget-view+json": {
       "model_id": "d090084f03b94115a6a79760b8c2bce4",
       "version_major": 2,
       "version_minor": 0
      },
      "text/plain": [
       "HBox(children=(FloatProgress(value=0.0, max=70.0), HTML(value='')))"
      ]
     },
     "metadata": {},
     "output_type": "display_data"
    },
    {
     "name": "stdout",
     "output_type": "stream",
     "text": [
      "\n",
      "*************************** EPOCH 16 ***************************\n"
     ]
    },
    {
     "data": {
      "application/vnd.jupyter.widget-view+json": {
       "model_id": "288ec18787d4428a80a8c4e17edfe700",
       "version_major": 2,
       "version_minor": 0
      },
      "text/plain": [
       "HBox(children=(FloatProgress(value=0.0, max=163.0), HTML(value='')))"
      ]
     },
     "metadata": {},
     "output_type": "display_data"
    },
    {
     "name": "stdout",
     "output_type": "stream",
     "text": [
      "\n",
      "Real: ['in', 'the', '<unk>', '<unk>', 'it', 'is', 'the', 'yankees', 'as', 'i', 'said', ',', 'the', 'old', 'man', '<eos>']\n",
      "Decoded: ['in', 'the', 'harpoon', 'enough', 'it', 'is', 'the', 'sea', 'as', 'i', 'said', ',', 'the', 'old', 'man', '<eos>']\n",
      "\n"
     ]
    },
    {
     "data": {
      "application/vnd.jupyter.widget-view+json": {
       "model_id": "2af046242045499c8f8bb10b62dafe73",
       "version_major": 2,
       "version_minor": 0
      },
      "text/plain": [
       "HBox(children=(FloatProgress(value=0.0, max=70.0), HTML(value='')))"
      ]
     },
     "metadata": {},
     "output_type": "display_data"
    },
    {
     "name": "stdout",
     "output_type": "stream",
     "text": [
      "\n",
      "*************************** EPOCH 17 ***************************\n"
     ]
    },
    {
     "data": {
      "application/vnd.jupyter.widget-view+json": {
       "model_id": "36be26d0343642fc89565936f1778464",
       "version_major": 2,
       "version_minor": 0
      },
      "text/plain": [
       "HBox(children=(FloatProgress(value=0.0, max=163.0), HTML(value='')))"
      ]
     },
     "metadata": {},
     "output_type": "display_data"
    },
    {
     "name": "stdout",
     "output_type": "stream",
     "text": [
      "\n",
      "Real: ['the', 'lines', 'all', '<unk>', 'nothing', 'now', '<pad>', '<pad>', '<pad>', '<pad>', '<pad>', '<pad>', '<pad>', '<pad>', '<pad>', '<eos>']\n",
      "Decoded: ['the', 'long', 'all', 'unarmed', 'nothing', 'now', '<pad>', '<pad>', '<pad>', '<pad>', '<pad>', '<pad>', '<pad>', '<pad>', '<pad>', '<eos>']\n",
      "\n"
     ]
    },
    {
     "data": {
      "application/vnd.jupyter.widget-view+json": {
       "model_id": "beb11e15d691447e8029a5e13ca275f9",
       "version_major": 2,
       "version_minor": 0
      },
      "text/plain": [
       "HBox(children=(FloatProgress(value=0.0, max=70.0), HTML(value='')))"
      ]
     },
     "metadata": {},
     "output_type": "display_data"
    },
    {
     "name": "stdout",
     "output_type": "stream",
     "text": [
      "\n",
      "*************************** EPOCH 18 ***************************\n"
     ]
    },
    {
     "data": {
      "application/vnd.jupyter.widget-view+json": {
       "model_id": "027465bc712d46ba8f70f32ac0a68a67",
       "version_major": 2,
       "version_minor": 0
      },
      "text/plain": [
       "HBox(children=(FloatProgress(value=0.0, max=163.0), HTML(value='')))"
      ]
     },
     "metadata": {},
     "output_type": "display_data"
    },
    {
     "name": "stdout",
     "output_type": "stream",
     "text": [
      "\n",
      "Real: ['i', \"'\", 'm', 'ready', 'now', ',', 'the', 'old', 'man', 'said', '<pad>', '<pad>', '<pad>', '<pad>', '<pad>', '<eos>']\n",
      "Decoded: ['i', \"'\", 'm', 'hard', 'now', ',', 'the', 'old', 'man', 'said', '<pad>', '<pad>', '<pad>', '<pad>', '<pad>', '<eos>']\n",
      "\n"
     ]
    },
    {
     "data": {
      "application/vnd.jupyter.widget-view+json": {
       "model_id": "0f959917d69a40d1980788c5a17cc3ff",
       "version_major": 2,
       "version_minor": 0
      },
      "text/plain": [
       "HBox(children=(FloatProgress(value=0.0, max=70.0), HTML(value='')))"
      ]
     },
     "metadata": {},
     "output_type": "display_data"
    },
    {
     "name": "stdout",
     "output_type": "stream",
     "text": [
      "\n",
      "*************************** EPOCH 19 ***************************\n"
     ]
    },
    {
     "data": {
      "application/vnd.jupyter.widget-view+json": {
       "model_id": "e5bef31a38f24b87845057ed068e1b85",
       "version_major": 2,
       "version_minor": 0
      },
      "text/plain": [
       "HBox(children=(FloatProgress(value=0.0, max=163.0), HTML(value='')))"
      ]
     },
     "metadata": {},
     "output_type": "display_data"
    },
    {
     "name": "stdout",
     "output_type": "stream",
     "text": [
      "\n",
      "Real: ['how', 'many', 'days', 'of', 'heavy', 'brisa', 'have', 'we', '?', 'maybe', 'three', '<pad>', '<pad>', '<pad>', '<pad>', '<eos>']\n",
      "Decoded: ['how', 'many', 'rested', 'of', 'heavy', 'everything', 'have', 'we', '?', 'maybe', 'three', '<pad>', '<pad>', '<pad>', '<pad>', '<eos>']\n",
      "\n"
     ]
    },
    {
     "data": {
      "application/vnd.jupyter.widget-view+json": {
       "model_id": "351a770e403c4004a5e8a649ad423fcb",
       "version_major": 2,
       "version_minor": 0
      },
      "text/plain": [
       "HBox(children=(FloatProgress(value=0.0, max=70.0), HTML(value='')))"
      ]
     },
     "metadata": {},
     "output_type": "display_data"
    },
    {
     "name": "stdout",
     "output_type": "stream",
     "text": [
      "\n",
      "*************************** EPOCH 20 ***************************\n"
     ]
    },
    {
     "data": {
      "application/vnd.jupyter.widget-view+json": {
       "model_id": "abff54b07d4742ce9f0d29d9d4764691",
       "version_major": 2,
       "version_minor": 0
      },
      "text/plain": [
       "HBox(children=(FloatProgress(value=0.0, max=163.0), HTML(value='')))"
      ]
     },
     "metadata": {},
     "output_type": "display_data"
    },
    {
     "name": "stdout",
     "output_type": "stream",
     "text": [
      "\n",
      "Real: ['<unk>', ',', '<unk>', ',', 'and', '<unk>', '<unk>', '<unk>', 'he', 'bought', '<unk>', 'of', 'and', 'carried', 'them', '<eos>']\n",
      "Decoded: ['yellow', ',', 'yellow', ',', 'and', 'being', 'enough', 'enough', 'he', 'began', 'enough', 'of', 'and', 'being', 'them', '<eos>']\n",
      "\n"
     ]
    },
    {
     "data": {
      "application/vnd.jupyter.widget-view+json": {
       "model_id": "4be8a2fc4cd34963af218c5f62936fcb",
       "version_major": 2,
       "version_minor": 0
      },
      "text/plain": [
       "HBox(children=(FloatProgress(value=0.0, max=70.0), HTML(value='')))"
      ]
     },
     "metadata": {},
     "output_type": "display_data"
    },
    {
     "name": "stdout",
     "output_type": "stream",
     "text": [
      "\n",
      "*************************** EPOCH 21 ***************************\n"
     ]
    },
    {
     "data": {
      "application/vnd.jupyter.widget-view+json": {
       "model_id": "67764dff82db43b0bb6ed624287210c8",
       "version_major": 2,
       "version_minor": 0
      },
      "text/plain": [
       "HBox(children=(FloatProgress(value=0.0, max=163.0), HTML(value='')))"
      ]
     },
     "metadata": {},
     "output_type": "display_data"
    },
    {
     "name": "stdout",
     "output_type": "stream",
     "text": [
      "\n",
      "Real: ['please', 'eat', 'them', '<pad>', '<pad>', '<pad>', '<pad>', '<pad>', '<pad>', '<pad>', '<pad>', '<pad>', '<pad>', '<pad>', '<pad>', '<eos>']\n",
      "Decoded: ['please', 'eat', 'them', '<pad>', '<pad>', '<pad>', '<pad>', '<pad>', '<pad>', '<pad>', '<pad>', '<pad>', '<pad>', '<pad>', '<pad>', '<eos>']\n",
      "\n"
     ]
    },
    {
     "data": {
      "application/vnd.jupyter.widget-view+json": {
       "model_id": "c0085d9ed52a4e7196e2815d309028ac",
       "version_major": 2,
       "version_minor": 0
      },
      "text/plain": [
       "HBox(children=(FloatProgress(value=0.0, max=70.0), HTML(value='')))"
      ]
     },
     "metadata": {},
     "output_type": "display_data"
    },
    {
     "name": "stdout",
     "output_type": "stream",
     "text": [
      "\n",
      "*************************** EPOCH 22 ***************************\n"
     ]
    },
    {
     "data": {
      "application/vnd.jupyter.widget-view+json": {
       "model_id": "0b3818ba2ed34773b2c49c3e03406450",
       "version_major": 2,
       "version_minor": 0
      },
      "text/plain": [
       "HBox(children=(FloatProgress(value=0.0, max=163.0), HTML(value='')))"
      ]
     },
     "metadata": {},
     "output_type": "display_data"
    },
    {
     "name": "stdout",
     "output_type": "stream",
     "text": [
      "\n",
      "Real: ['the', 'day', 'was', 'very', 'hot', '<pad>', '<pad>', '<pad>', '<pad>', '<pad>', '<pad>', '<pad>', '<pad>', '<pad>', '<pad>', '<eos>']\n",
      "Decoded: ['the', 'day', 'was', 'very', 'borrow', '<pad>', '<pad>', '<pad>', '<pad>', '<pad>', '<pad>', '<pad>', '<pad>', '<pad>', '<pad>', '<eos>']\n",
      "\n"
     ]
    },
    {
     "data": {
      "application/vnd.jupyter.widget-view+json": {
       "model_id": "e2415e91be8c4d5a96835e4f997204ac",
       "version_major": 2,
       "version_minor": 0
      },
      "text/plain": [
       "HBox(children=(FloatProgress(value=0.0, max=70.0), HTML(value='')))"
      ]
     },
     "metadata": {},
     "output_type": "display_data"
    },
    {
     "name": "stdout",
     "output_type": "stream",
     "text": [
      "\n",
      "*************************** EPOCH 23 ***************************\n"
     ]
    },
    {
     "data": {
      "application/vnd.jupyter.widget-view+json": {
       "model_id": "c92428f566bf4b2b9d3f214030e540eb",
       "version_major": 2,
       "version_minor": 0
      },
      "text/plain": [
       "HBox(children=(FloatProgress(value=0.0, max=163.0), HTML(value='')))"
      ]
     },
     "metadata": {},
     "output_type": "display_data"
    },
    {
     "name": "stdout",
     "output_type": "stream",
     "text": [
      "\n",
      "Real: ['the', 'old', 'man', '<unk>', 'their', 'heads', 'off', 'with', 'his', 'thumb', 'and', 'forefinger', 'and', 'ate', 'them', '<eos>']\n",
      "Decoded: ['the', 'old', 'man', 'watch', 'their', 'necessary', 'off', 'with', 'his', 'coils', 'and', 'necessary', 'and', 'showing', 'them', '<eos>']\n",
      "\n"
     ]
    },
    {
     "data": {
      "application/vnd.jupyter.widget-view+json": {
       "model_id": "4e733e2a1730456991d001fce9706b28",
       "version_major": 2,
       "version_minor": 0
      },
      "text/plain": [
       "HBox(children=(FloatProgress(value=0.0, max=70.0), HTML(value='')))"
      ]
     },
     "metadata": {},
     "output_type": "display_data"
    },
    {
     "name": "stdout",
     "output_type": "stream",
     "text": [
      "\n",
      "*************************** EPOCH 24 ***************************\n"
     ]
    },
    {
     "data": {
      "application/vnd.jupyter.widget-view+json": {
       "model_id": "3f73709753c145e48bf1d9e0419e0d82",
       "version_major": 2,
       "version_minor": 0
      },
      "text/plain": [
       "HBox(children=(FloatProgress(value=0.0, max=163.0), HTML(value='')))"
      ]
     },
     "metadata": {},
     "output_type": "display_data"
    },
    {
     "name": "stdout",
     "output_type": "stream",
     "text": [
      "\n",
      "Real: ['i', 'will', 'bring', 'stuff', 'from', 'the', '<unk>', 'store', 'for', 'your', 'hands', '<pad>', '<pad>', '<pad>', '<pad>', '<eos>']\n",
      "Decoded: ['i', 'will', 'bring', 'necessary', 'from', 'the', 'coils', 'showing', 'for', 'your', 'hands', '<pad>', '<pad>', '<pad>', '<pad>', '<eos>']\n",
      "\n"
     ]
    },
    {
     "data": {
      "application/vnd.jupyter.widget-view+json": {
       "model_id": "8aaa51172166443f92b0874242681a6c",
       "version_major": 2,
       "version_minor": 0
      },
      "text/plain": [
       "HBox(children=(FloatProgress(value=0.0, max=70.0), HTML(value='')))"
      ]
     },
     "metadata": {},
     "output_type": "display_data"
    },
    {
     "name": "stdout",
     "output_type": "stream",
     "text": [
      "\n",
      "*************************** EPOCH 25 ***************************\n"
     ]
    },
    {
     "data": {
      "application/vnd.jupyter.widget-view+json": {
       "model_id": "3aa8d0e12452403b92d8ce57dac3b171",
       "version_major": 2,
       "version_minor": 0
      },
      "text/plain": [
       "HBox(children=(FloatProgress(value=0.0, max=163.0), HTML(value='')))"
      ]
     },
     "metadata": {},
     "output_type": "display_data"
    },
    {
     "name": "stdout",
     "output_type": "stream",
     "text": [
      "\n",
      "Real: ['but', 'after', 'forty', 'days', 'without', 'a', 'fish', 'the', 'boy', \"'\", 's', '<unk>', 'had', 'told', 'him', '<eos>']\n",
      "Decoded: ['but', 'after', 'forty', 'days', 'without', 'a', 'fish', 'the', 'boy', \"'\", 's', 'enough', 'had', 'told', 'him', '<eos>']\n",
      "\n"
     ]
    },
    {
     "data": {
      "application/vnd.jupyter.widget-view+json": {
       "model_id": "d59d92d4842043bbbc82e9b16b8e8e08",
       "version_major": 2,
       "version_minor": 0
      },
      "text/plain": [
       "HBox(children=(FloatProgress(value=0.0, max=70.0), HTML(value='')))"
      ]
     },
     "metadata": {},
     "output_type": "display_data"
    },
    {
     "name": "stdout",
     "output_type": "stream",
     "text": [
      "\n",
      "*************************** EPOCH 26 ***************************\n"
     ]
    },
    {
     "data": {
      "application/vnd.jupyter.widget-view+json": {
       "model_id": "137410c4e71f47cf94e02c0aca85ec57",
       "version_major": 2,
       "version_minor": 0
      },
      "text/plain": [
       "HBox(children=(FloatProgress(value=0.0, max=163.0), HTML(value='')))"
      ]
     },
     "metadata": {},
     "output_type": "display_data"
    },
    {
     "name": "stdout",
     "output_type": "stream",
     "text": [
      "\n",
      "Real: ['the', 'first', '<unk>', 'i', 'saw', 'climbed', 'up', 'over', 'the', 'garden', 'wall', '<pad>', '<pad>', '<pad>', '<pad>', '<eos>']\n",
      "Decoded: ['the', 'first', 'watch', 'i', 'saw', 'order', 'up', 'over', 'the', 'garden', 'onto', '<pad>', '<pad>', '<pad>', '<pad>', '<eos>']\n",
      "\n"
     ]
    },
    {
     "data": {
      "application/vnd.jupyter.widget-view+json": {
       "model_id": "4c219f621123495c979006bf21cfd84c",
       "version_major": 2,
       "version_minor": 0
      },
      "text/plain": [
       "HBox(children=(FloatProgress(value=0.0, max=70.0), HTML(value='')))"
      ]
     },
     "metadata": {},
     "output_type": "display_data"
    },
    {
     "name": "stdout",
     "output_type": "stream",
     "text": [
      "\n",
      "*************************** EPOCH 27 ***************************\n"
     ]
    },
    {
     "data": {
      "application/vnd.jupyter.widget-view+json": {
       "model_id": "b3acee6eb5b647ae9ceb7c694bc642f7",
       "version_major": 2,
       "version_minor": 0
      },
      "text/plain": [
       "HBox(children=(FloatProgress(value=0.0, max=163.0), HTML(value='')))"
      ]
     },
     "metadata": {},
     "output_type": "display_data"
    },
    {
     "name": "stdout",
     "output_type": "stream",
     "text": [
      "\n",
      "Real: ['all', 'the', '<unk>', 'of', 'the', 'hospital', 'were', '<unk>', 'shut', '<pad>', '<pad>', '<pad>', '<pad>', '<pad>', '<pad>', '<eos>']\n",
      "Decoded: ['all', 'the', 'coils', 'of', 'the', 'harbour', 'were', 'watch', 'showing', '<pad>', '<pad>', '<pad>', '<pad>', '<pad>', '<pad>', '<eos>']\n",
      "\n"
     ]
    },
    {
     "data": {
      "application/vnd.jupyter.widget-view+json": {
       "model_id": "94895535281d4e36bd2520c9af606f94",
       "version_major": 2,
       "version_minor": 0
      },
      "text/plain": [
       "HBox(children=(FloatProgress(value=0.0, max=70.0), HTML(value='')))"
      ]
     },
     "metadata": {},
     "output_type": "display_data"
    },
    {
     "name": "stdout",
     "output_type": "stream",
     "text": [
      "\n",
      "*************************** EPOCH 28 ***************************\n"
     ]
    },
    {
     "data": {
      "application/vnd.jupyter.widget-view+json": {
       "model_id": "0a012b110e6d4af79c5f6c505e745098",
       "version_major": 2,
       "version_minor": 0
      },
      "text/plain": [
       "HBox(children=(FloatProgress(value=0.0, max=163.0), HTML(value='')))"
      ]
     },
     "metadata": {},
     "output_type": "display_data"
    },
    {
     "name": "stdout",
     "output_type": "stream",
     "text": [
      "\n",
      "Real: ['he', 'is', 'two', 'feet', 'longer', 'than', 'the', 'skiff', ',', 'the', 'old', 'man', 'said', '<pad>', '<pad>', '<eos>']\n",
      "Decoded: ['he', 'is', 'two', 'feet', 'necessary', 'than', 'the', 'skiff', ',', 'the', 'old', 'man', 'said', '<pad>', '<pad>', '<eos>']\n",
      "\n"
     ]
    },
    {
     "data": {
      "application/vnd.jupyter.widget-view+json": {
       "model_id": "c10c096f3c7e4b148d73773c98105bbc",
       "version_major": 2,
       "version_minor": 0
      },
      "text/plain": [
       "HBox(children=(FloatProgress(value=0.0, max=70.0), HTML(value='')))"
      ]
     },
     "metadata": {},
     "output_type": "display_data"
    },
    {
     "name": "stdout",
     "output_type": "stream",
     "text": [
      "\n",
      "*************************** EPOCH 29 ***************************\n"
     ]
    },
    {
     "data": {
      "application/vnd.jupyter.widget-view+json": {
       "model_id": "407cdf09c6964b97b57c211515ad3d76",
       "version_major": 2,
       "version_minor": 0
      },
      "text/plain": [
       "HBox(children=(FloatProgress(value=0.0, max=163.0), HTML(value='')))"
      ]
     },
     "metadata": {},
     "output_type": "display_data"
    },
    {
     "name": "stdout",
     "output_type": "stream",
     "text": [
      "\n",
      "Real: ['if', 'i', 'have', 'to', 'have', 'it', ',', 'i', 'will', 'open', 'it', ',', '<unk>', '<unk>', 'it', '<eos>']\n",
      "Decoded: ['if', 'i', 'have', 'to', 'have', 'it', ',', 'i', 'will', 'open', 'it', ',', 'being', 'watch', 'it', '<eos>']\n",
      "\n"
     ]
    },
    {
     "data": {
      "application/vnd.jupyter.widget-view+json": {
       "model_id": "23cb7a91d48944959a333c3e2f2c93e0",
       "version_major": 2,
       "version_minor": 0
      },
      "text/plain": [
       "HBox(children=(FloatProgress(value=0.0, max=70.0), HTML(value='')))"
      ]
     },
     "metadata": {},
     "output_type": "display_data"
    },
    {
     "name": "stdout",
     "output_type": "stream",
     "text": [
      "\n",
      "*************************** EPOCH 30 ***************************\n"
     ]
    },
    {
     "data": {
      "application/vnd.jupyter.widget-view+json": {
       "model_id": "2a2b29329db5484ebb89b0ed02960e27",
       "version_major": 2,
       "version_minor": 0
      },
      "text/plain": [
       "HBox(children=(FloatProgress(value=0.0, max=163.0), HTML(value='')))"
      ]
     },
     "metadata": {},
     "output_type": "display_data"
    },
    {
     "name": "stdout",
     "output_type": "stream",
     "text": [
      "\n",
      "Real: ['just', 'rest', 'and', 'try', 'to', 'get', 'your', 'hands', 'in', '<unk>', 'to', '<unk>', 'what', 'is', 'left', '<eos>']\n",
      "Decoded: ['just', 'rest', 'and', 'try', 'to', 'get', 'your', 'hands', 'in', 'watch', 'to', 'chewed', 'what', 'is', 'left', '<eos>']\n",
      "\n"
     ]
    },
    {
     "data": {
      "application/vnd.jupyter.widget-view+json": {
       "model_id": "ae4897fc52ad41918ef58f72db94ebaf",
       "version_major": 2,
       "version_minor": 0
      },
      "text/plain": [
       "HBox(children=(FloatProgress(value=0.0, max=70.0), HTML(value='')))"
      ]
     },
     "metadata": {},
     "output_type": "display_data"
    },
    {
     "name": "stdout",
     "output_type": "stream",
     "text": [
      "\n",
      "*************************** EPOCH 31 ***************************\n"
     ]
    },
    {
     "data": {
      "application/vnd.jupyter.widget-view+json": {
       "model_id": "b9b29b9db038424eb36733c6385df70b",
       "version_major": 2,
       "version_minor": 0
      },
      "text/plain": [
       "HBox(children=(FloatProgress(value=0.0, max=163.0), HTML(value='')))"
      ]
     },
     "metadata": {},
     "output_type": "display_data"
    },
    {
     "name": "stdout",
     "output_type": "stream",
     "text": [
      "\n",
      "Real: ['what', 'a', 'fish', 'it', 'was', ',', 'the', 'proprietor', 'said', '<pad>', '<pad>', '<pad>', '<pad>', '<pad>', '<pad>', '<eos>']\n",
      "Decoded: ['what', 'a', 'fish', 'it', 'was', ',', 'the', 'big', 'said', '<pad>', '<pad>', '<pad>', '<pad>', '<pad>', '<pad>', '<eos>']\n",
      "\n"
     ]
    },
    {
     "data": {
      "application/vnd.jupyter.widget-view+json": {
       "model_id": "e5f8b97854454673aa3133aa97bc86eb",
       "version_major": 2,
       "version_minor": 0
      },
      "text/plain": [
       "HBox(children=(FloatProgress(value=0.0, max=70.0), HTML(value='')))"
      ]
     },
     "metadata": {},
     "output_type": "display_data"
    },
    {
     "name": "stdout",
     "output_type": "stream",
     "text": [
      "\n",
      "*************************** EPOCH 32 ***************************\n"
     ]
    },
    {
     "data": {
      "application/vnd.jupyter.widget-view+json": {
       "model_id": "6c8b03b9cdd9450ab1f3aa986fd3153b",
       "version_major": 2,
       "version_minor": 0
      },
      "text/plain": [
       "HBox(children=(FloatProgress(value=0.0, max=163.0), HTML(value='')))"
      ]
     },
     "metadata": {},
     "output_type": "display_data"
    },
    {
     "name": "stdout",
     "output_type": "stream",
     "text": [
      "\n",
      "Real: ['but', 'he', 'thought', 'of', 'it', 'as', 'almost', '<unk>', '<pad>', '<pad>', '<pad>', '<pad>', '<pad>', '<pad>', '<pad>', '<eos>']\n",
      "Decoded: ['but', 'he', 'thought', 'of', 'it', 'as', 'almost', 'watch', '<pad>', '<pad>', '<pad>', '<pad>', '<pad>', '<pad>', '<pad>', '<eos>']\n",
      "\n"
     ]
    },
    {
     "data": {
      "application/vnd.jupyter.widget-view+json": {
       "model_id": "60e7c0abc04c4c76b1594c8b7a4de2db",
       "version_major": 2,
       "version_minor": 0
      },
      "text/plain": [
       "HBox(children=(FloatProgress(value=0.0, max=70.0), HTML(value='')))"
      ]
     },
     "metadata": {},
     "output_type": "display_data"
    },
    {
     "name": "stdout",
     "output_type": "stream",
     "text": [
      "\n",
      "*************************** EPOCH 33 ***************************\n"
     ]
    },
    {
     "data": {
      "application/vnd.jupyter.widget-view+json": {
       "model_id": "2242914aac3f4c8bb3f039db707d0493",
       "version_major": 2,
       "version_minor": 0
      },
      "text/plain": [
       "HBox(children=(FloatProgress(value=0.0, max=163.0), HTML(value='')))"
      ]
     },
     "metadata": {},
     "output_type": "display_data"
    },
    {
     "name": "stdout",
     "output_type": "stream",
     "text": [
      "\n",
      "Real: ['he', 'thought', 'of', 'how', 'some', 'men', '<unk>', 'being', 'out', 'of', 'sight', 'of', 'land', 'in', 'a', '<eos>']\n",
      "Decoded: ['he', 'thought', 'of', 'how', 'some', 'men', 'watch', 'being', 'out', 'of', 'sight', 'of', 'land', 'in', 'a', '<eos>']\n",
      "\n"
     ]
    },
    {
     "data": {
      "application/vnd.jupyter.widget-view+json": {
       "model_id": "49b96138ba314c598c76a6c8136383ec",
       "version_major": 2,
       "version_minor": 0
      },
      "text/plain": [
       "HBox(children=(FloatProgress(value=0.0, max=70.0), HTML(value='')))"
      ]
     },
     "metadata": {},
     "output_type": "display_data"
    },
    {
     "name": "stdout",
     "output_type": "stream",
     "text": [
      "\n",
      "*************************** EPOCH 34 ***************************\n"
     ]
    },
    {
     "data": {
      "application/vnd.jupyter.widget-view+json": {
       "model_id": "1dd0cb92183e40fb91d6330c14ef5bb5",
       "version_major": 2,
       "version_minor": 0
      },
      "text/plain": [
       "HBox(children=(FloatProgress(value=0.0, max=163.0), HTML(value='')))"
      ]
     },
     "metadata": {},
     "output_type": "display_data"
    },
    {
     "name": "stdout",
     "output_type": "stream",
     "text": [
      "\n",
      "Real: ['can', 'that', 'be', 'the', 'time', 'of', 'day', '?', 'or', 'is', 'it', 'some', 'sign', 'of', 'weather', '<eos>']\n",
      "Decoded: ['can', 'that', 'be', 'the', 'time', 'of', 'day', '?', 'or', 'is', 'it', 'some', 'necessary', 'of', 'weather', '<eos>']\n",
      "\n"
     ]
    },
    {
     "data": {
      "application/vnd.jupyter.widget-view+json": {
       "model_id": "e1178705504a47c1931c00e4bd4c75c0",
       "version_major": 2,
       "version_minor": 0
      },
      "text/plain": [
       "HBox(children=(FloatProgress(value=0.0, max=70.0), HTML(value='')))"
      ]
     },
     "metadata": {},
     "output_type": "display_data"
    },
    {
     "name": "stdout",
     "output_type": "stream",
     "text": [
      "\n",
      "*************************** EPOCH 35 ***************************\n"
     ]
    },
    {
     "data": {
      "application/vnd.jupyter.widget-view+json": {
       "model_id": "9e782d7b7a7a425a8fa0b6bffa5d0b65",
       "version_major": 2,
       "version_minor": 0
      },
      "text/plain": [
       "HBox(children=(FloatProgress(value=0.0, max=163.0), HTML(value='')))"
      ]
     },
     "metadata": {},
     "output_type": "display_data"
    },
    {
     "name": "stdout",
     "output_type": "stream",
     "text": [
      "\n",
      "Real: ['half', 'fish', ',', 'he', 'said', '<pad>', '<pad>', '<pad>', '<pad>', '<pad>', '<pad>', '<pad>', '<pad>', '<pad>', '<pad>', '<eos>']\n",
      "Decoded: ['half', 'fish', ',', 'he', 'said', '<pad>', '<pad>', '<pad>', '<pad>', '<pad>', '<pad>', '<pad>', '<pad>', '<pad>', '<pad>', '<eos>']\n",
      "\n"
     ]
    },
    {
     "data": {
      "application/vnd.jupyter.widget-view+json": {
       "model_id": "baa2d74b9826466f86f70a3726f396a4",
       "version_major": 2,
       "version_minor": 0
      },
      "text/plain": [
       "HBox(children=(FloatProgress(value=0.0, max=70.0), HTML(value='')))"
      ]
     },
     "metadata": {},
     "output_type": "display_data"
    },
    {
     "name": "stdout",
     "output_type": "stream",
     "text": [
      "\n",
      "*************************** EPOCH 36 ***************************\n"
     ]
    },
    {
     "data": {
      "application/vnd.jupyter.widget-view+json": {
       "model_id": "f3dbff04eca04c848736d23190aebf66",
       "version_major": 2,
       "version_minor": 0
      },
      "text/plain": [
       "HBox(children=(FloatProgress(value=0.0, max=163.0), HTML(value='')))"
      ]
     },
     "metadata": {},
     "output_type": "display_data"
    },
    {
     "name": "stdout",
     "output_type": "stream",
     "text": [
      "\n",
      "Real: ['she', '<unk>', 'he', 'would', 'have', 'a', 'great', '<unk>', ',', 'and', 'believed', 'in', 'him', 'absolutely', '<pad>', '<eos>']\n",
      "Decoded: ['she', 'chewed', 'he', 'would', 'have', 'a', 'great', 'unarmed', ',', 'and', 'believed', 'in', 'him', 'absolutely', '<pad>', '<eos>']\n",
      "\n"
     ]
    },
    {
     "data": {
      "application/vnd.jupyter.widget-view+json": {
       "model_id": "a675713699ae4fa2945237ef1ba5d957",
       "version_major": 2,
       "version_minor": 0
      },
      "text/plain": [
       "HBox(children=(FloatProgress(value=0.0, max=70.0), HTML(value='')))"
      ]
     },
     "metadata": {},
     "output_type": "display_data"
    },
    {
     "name": "stdout",
     "output_type": "stream",
     "text": [
      "\n",
      "*************************** EPOCH 37 ***************************\n"
     ]
    },
    {
     "data": {
      "application/vnd.jupyter.widget-view+json": {
       "model_id": "0653632737d7498e926bd775fe8ef9f9",
       "version_major": 2,
       "version_minor": 0
      },
      "text/plain": [
       "HBox(children=(FloatProgress(value=0.0, max=163.0), HTML(value='')))"
      ]
     },
     "metadata": {},
     "output_type": "display_data"
    },
    {
     "name": "stdout",
     "output_type": "stream",
     "text": [
      "\n",
      "Real: ['they', '<unk>', 'like', 'young', '<unk>', 'in', 'the', '<unk>', 'and', 'he', 'loved', 'them', 'as', 'he', 'loved', '<eos>']\n",
      "Decoded: ['they', 'chewed', 'like', 'necessary', 'watch', 'in', 'the', 'coils', 'and', 'he', 'loved', 'them', 'as', 'he', 'loved', '<eos>']\n",
      "\n"
     ]
    },
    {
     "data": {
      "application/vnd.jupyter.widget-view+json": {
       "model_id": "228288d8f33c48cf98810393d64d4b4b",
       "version_major": 2,
       "version_minor": 0
      },
      "text/plain": [
       "HBox(children=(FloatProgress(value=0.0, max=70.0), HTML(value='')))"
      ]
     },
     "metadata": {},
     "output_type": "display_data"
    },
    {
     "name": "stdout",
     "output_type": "stream",
     "text": [
      "\n",
      "*************************** EPOCH 38 ***************************\n"
     ]
    },
    {
     "data": {
      "application/vnd.jupyter.widget-view+json": {
       "model_id": "f9f13e97107c45df899a8391e19ef325",
       "version_major": 2,
       "version_minor": 0
      },
      "text/plain": [
       "HBox(children=(FloatProgress(value=0.0, max=163.0), HTML(value='')))"
      ]
     },
     "metadata": {},
     "output_type": "display_data"
    },
    {
     "name": "stdout",
     "output_type": "stream",
     "text": [
      "\n",
      "Real: ['in', 'the', 'first', 'forty', 'days', 'a', 'boy', 'had', 'been', 'with', 'him', '<pad>', '<pad>', '<pad>', '<pad>', '<eos>']\n",
      "Decoded: ['in', 'the', 'first', 'forty', 'days', 'a', 'boy', 'had', 'been', 'with', 'him', '<pad>', '<pad>', '<pad>', '<pad>', '<eos>']\n",
      "\n"
     ]
    },
    {
     "data": {
      "application/vnd.jupyter.widget-view+json": {
       "model_id": "9a3593e59f4742e49086ef7081ee1922",
       "version_major": 2,
       "version_minor": 0
      },
      "text/plain": [
       "HBox(children=(FloatProgress(value=0.0, max=70.0), HTML(value='')))"
      ]
     },
     "metadata": {},
     "output_type": "display_data"
    },
    {
     "name": "stdout",
     "output_type": "stream",
     "text": [
      "\n",
      "*************************** EPOCH 39 ***************************\n"
     ]
    },
    {
     "data": {
      "application/vnd.jupyter.widget-view+json": {
       "model_id": "a7f26375d19c4ce4b0a92f1556974814",
       "version_major": 2,
       "version_minor": 0
      },
      "text/plain": [
       "HBox(children=(FloatProgress(value=0.0, max=163.0), HTML(value='')))"
      ]
     },
     "metadata": {},
     "output_type": "display_data"
    },
    {
     "name": "stdout",
     "output_type": "stream",
     "text": [
      "\n",
      "Real: ['i', 'think', 'i', 'felt', 'his', 'heart', ',', 'he', 'thought', '<pad>', '<pad>', '<pad>', '<pad>', '<pad>', '<pad>', '<eos>']\n",
      "Decoded: ['i', 'think', 'i', 'felt', 'his', 'heart', ',', 'he', 'thought', '<pad>', '<pad>', '<pad>', '<pad>', '<pad>', '<pad>', '<eos>']\n",
      "\n"
     ]
    },
    {
     "data": {
      "application/vnd.jupyter.widget-view+json": {
       "model_id": "c45d17c7ea4b4cc0af80a018252dcd5e",
       "version_major": 2,
       "version_minor": 0
      },
      "text/plain": [
       "HBox(children=(FloatProgress(value=0.0, max=70.0), HTML(value='')))"
      ]
     },
     "metadata": {},
     "output_type": "display_data"
    },
    {
     "name": "stdout",
     "output_type": "stream",
     "text": [
      "\n",
      "*************************** EPOCH 40 ***************************\n"
     ]
    },
    {
     "data": {
      "application/vnd.jupyter.widget-view+json": {
       "model_id": "0556531bf7af475db15fbf09a208f7f5",
       "version_major": 2,
       "version_minor": 0
      },
      "text/plain": [
       "HBox(children=(FloatProgress(value=0.0, max=163.0), HTML(value='')))"
      ]
     },
     "metadata": {},
     "output_type": "display_data"
    },
    {
     "name": "stdout",
     "output_type": "stream",
     "text": [
      "\n",
      "Real: ['it', 'is', 'not', 'much', 'more', 'than', 'noon', ',', 'he', 'thought', '<pad>', '<pad>', '<pad>', '<pad>', '<pad>', '<eos>']\n",
      "Decoded: ['it', 'is', 'not', 'much', 'more', 'than', 'noon', ',', 'he', 'thought', '<pad>', '<pad>', '<pad>', '<pad>', '<pad>', '<eos>']\n",
      "\n"
     ]
    },
    {
     "data": {
      "application/vnd.jupyter.widget-view+json": {
       "model_id": "c9899145972e4caa8390c32af5285e32",
       "version_major": 2,
       "version_minor": 0
      },
      "text/plain": [
       "HBox(children=(FloatProgress(value=0.0, max=70.0), HTML(value='')))"
      ]
     },
     "metadata": {},
     "output_type": "display_data"
    },
    {
     "name": "stdout",
     "output_type": "stream",
     "text": [
      "\n",
      "*************************** EPOCH 41 ***************************\n"
     ]
    },
    {
     "data": {
      "application/vnd.jupyter.widget-view+json": {
       "model_id": "335e68f1f734460caea03bfa4e846843",
       "version_major": 2,
       "version_minor": 0
      },
      "text/plain": [
       "HBox(children=(FloatProgress(value=0.0, max=163.0), HTML(value='')))"
      ]
     },
     "metadata": {},
     "output_type": "display_data"
    },
    {
     "name": "stdout",
     "output_type": "stream",
     "text": [
      "\n",
      "Real: ['<unk>', '<unk>', 'would', 'be', 'along', 'any', 'time', 'now', '<pad>', '<pad>', '<pad>', '<pad>', '<pad>', '<pad>', '<pad>', '<eos>']\n",
      "Decoded: ['\\ufeff', 'watch', 'would', 'be', 'along', 'any', 'time', 'now', '<pad>', '<pad>', '<pad>', '<pad>', '<pad>', '<pad>', '<pad>', '<eos>']\n",
      "\n"
     ]
    },
    {
     "data": {
      "application/vnd.jupyter.widget-view+json": {
       "model_id": "333d5515b2df48949c0dd6166477960f",
       "version_major": 2,
       "version_minor": 0
      },
      "text/plain": [
       "HBox(children=(FloatProgress(value=0.0, max=70.0), HTML(value='')))"
      ]
     },
     "metadata": {},
     "output_type": "display_data"
    },
    {
     "name": "stdout",
     "output_type": "stream",
     "text": [
      "\n",
      "*************************** EPOCH 42 ***************************\n"
     ]
    },
    {
     "data": {
      "application/vnd.jupyter.widget-view+json": {
       "model_id": "9a238d20a4cb4a73870c80f938ac3ebe",
       "version_major": 2,
       "version_minor": 0
      },
      "text/plain": [
       "HBox(children=(FloatProgress(value=0.0, max=163.0), HTML(value='')))"
      ]
     },
     "metadata": {},
     "output_type": "display_data"
    },
    {
     "name": "stdout",
     "output_type": "stream",
     "text": [
      "\n",
      "Real: ['they', 'were', 'strange', 'shoulders', ',', 'still', '<unk>', 'although', 'very', 'old', ',', 'and', 'the', 'neck', 'was', '<eos>']\n",
      "Decoded: ['they', 'were', 'strange', 'shoulders', ',', 'still', 'watch', 'although', 'very', 'old', ',', 'and', 'the', 'pain', 'was', '<eos>']\n",
      "\n"
     ]
    },
    {
     "data": {
      "application/vnd.jupyter.widget-view+json": {
       "model_id": "4606d329e8934577b526679e79db67d3",
       "version_major": 2,
       "version_minor": 0
      },
      "text/plain": [
       "HBox(children=(FloatProgress(value=0.0, max=70.0), HTML(value='')))"
      ]
     },
     "metadata": {},
     "output_type": "display_data"
    },
    {
     "name": "stdout",
     "output_type": "stream",
     "text": [
      "\n",
      "*************************** EPOCH 43 ***************************\n"
     ]
    },
    {
     "data": {
      "application/vnd.jupyter.widget-view+json": {
       "model_id": "67686196a468476f975576db9705fa90",
       "version_major": 2,
       "version_minor": 0
      },
      "text/plain": [
       "HBox(children=(FloatProgress(value=0.0, max=163.0), HTML(value='')))"
      ]
     },
     "metadata": {},
     "output_type": "display_data"
    },
    {
     "name": "stdout",
     "output_type": "stream",
     "text": [
      "\n",
      "Real: ['<unk>', '<unk>', '<unk>', 'from', 'between', 'the', 'horse', '’', 's', 'front', 'legs', '<pad>', '<pad>', '<pad>', '<pad>', '<eos>']\n",
      "Decoded: ['\\ufeff', 'watch', 'watch', 'from', 'between', 'the', 'horse', '’', 's', 'front', 'legs', '<pad>', '<pad>', '<pad>', '<pad>', '<eos>']\n",
      "\n"
     ]
    },
    {
     "data": {
      "application/vnd.jupyter.widget-view+json": {
       "model_id": "eda67fad4d1942c3b120da7d1d116f0e",
       "version_major": 2,
       "version_minor": 0
      },
      "text/plain": [
       "HBox(children=(FloatProgress(value=0.0, max=70.0), HTML(value='')))"
      ]
     },
     "metadata": {},
     "output_type": "display_data"
    },
    {
     "name": "stdout",
     "output_type": "stream",
     "text": [
      "\n",
      "*************************** EPOCH 44 ***************************\n"
     ]
    },
    {
     "data": {
      "application/vnd.jupyter.widget-view+json": {
       "model_id": "0d4f46b480c0480bb1171ca5cc3fe075",
       "version_major": 2,
       "version_minor": 0
      },
      "text/plain": [
       "HBox(children=(FloatProgress(value=0.0, max=163.0), HTML(value='')))"
      ]
     },
     "metadata": {},
     "output_type": "display_data"
    },
    {
     "name": "stdout",
     "output_type": "stream",
     "text": [
      "\n",
      "Real: ['it', 'is', 'as', 'though', 'i', 'were', '<unk>', '<pad>', '<pad>', '<pad>', '<pad>', '<pad>', '<pad>', '<pad>', '<pad>', '<eos>']\n",
      "Decoded: ['it', 'is', 'as', 'though', 'i', 'were', 'watch', '<pad>', '<pad>', '<pad>', '<pad>', '<pad>', '<pad>', '<pad>', '<pad>', '<eos>']\n",
      "\n"
     ]
    },
    {
     "data": {
      "application/vnd.jupyter.widget-view+json": {
       "model_id": "fc8cc290d718486090b981d54d46d72d",
       "version_major": 2,
       "version_minor": 0
      },
      "text/plain": [
       "HBox(children=(FloatProgress(value=0.0, max=70.0), HTML(value='')))"
      ]
     },
     "metadata": {},
     "output_type": "display_data"
    },
    {
     "name": "stdout",
     "output_type": "stream",
     "text": [
      "\n",
      "*************************** EPOCH 45 ***************************\n"
     ]
    },
    {
     "data": {
      "application/vnd.jupyter.widget-view+json": {
       "model_id": "c62cf575c0fc484ba21292684112355e",
       "version_major": 2,
       "version_minor": 0
      },
      "text/plain": [
       "HBox(children=(FloatProgress(value=0.0, max=163.0), HTML(value='')))"
      ]
     },
     "metadata": {},
     "output_type": "display_data"
    },
    {
     "name": "stdout",
     "output_type": "stream",
     "text": [
      "\n",
      "Real: ['and', 'no', 'one', 'to', 'help', 'either', 'one', 'of', 'us', '<pad>', '<pad>', '<pad>', '<pad>', '<pad>', '<pad>', '<eos>']\n",
      "Decoded: ['and', 'no', 'one', 'to', 'help', 'peace', 'one', 'of', 'us', '<pad>', '<pad>', '<pad>', '<pad>', '<pad>', '<pad>', '<eos>']\n",
      "\n"
     ]
    },
    {
     "data": {
      "application/vnd.jupyter.widget-view+json": {
       "model_id": "a60e40192d5d45e1bae24e3f68a0ef18",
       "version_major": 2,
       "version_minor": 0
      },
      "text/plain": [
       "HBox(children=(FloatProgress(value=0.0, max=70.0), HTML(value='')))"
      ]
     },
     "metadata": {},
     "output_type": "display_data"
    },
    {
     "name": "stdout",
     "output_type": "stream",
     "text": [
      "\n",
      "*************************** EPOCH 46 ***************************\n"
     ]
    },
    {
     "data": {
      "application/vnd.jupyter.widget-view+json": {
       "model_id": "bd2926aea5214893aaa3d74f8ff79a40",
       "version_major": 2,
       "version_minor": 0
      },
      "text/plain": [
       "HBox(children=(FloatProgress(value=0.0, max=163.0), HTML(value='')))"
      ]
     },
     "metadata": {},
     "output_type": "display_data"
    },
    {
     "name": "stdout",
     "output_type": "stream",
     "text": [
      "\n",
      "Real: ['the', '<unk>', 'smell', 'from', 'my', 'hands', 'means', 'nothing', 'now', 'with', 'all', 'that', 'scent', 'in', 'the', '<eos>']\n",
      "Decoded: ['the', 'garden', 'smell', 'from', 'my', 'hands', 'weed', 'nothing', 'now', 'with', 'all', 'that', 'began', 'in', 'the', '<eos>']\n",
      "\n"
     ]
    },
    {
     "data": {
      "application/vnd.jupyter.widget-view+json": {
       "model_id": "48e653f71a5646a58a72b47bcb86e24a",
       "version_major": 2,
       "version_minor": 0
      },
      "text/plain": [
       "HBox(children=(FloatProgress(value=0.0, max=70.0), HTML(value='')))"
      ]
     },
     "metadata": {},
     "output_type": "display_data"
    },
    {
     "name": "stdout",
     "output_type": "stream",
     "text": [
      "\n",
      "*************************** EPOCH 47 ***************************\n"
     ]
    },
    {
     "data": {
      "application/vnd.jupyter.widget-view+json": {
       "model_id": "17752aa2b9b84b189d8cf1dac00449ee",
       "version_major": 2,
       "version_minor": 0
      },
      "text/plain": [
       "HBox(children=(FloatProgress(value=0.0, max=163.0), HTML(value='')))"
      ]
     },
     "metadata": {},
     "output_type": "display_data"
    },
    {
     "name": "stdout",
     "output_type": "stream",
     "text": [
      "\n",
      "Real: ['you', 'loved', 'him', 'when', 'he', 'was', 'alive', 'and', 'you', 'loved', 'him', 'after', '<pad>', '<pad>', '<pad>', '<eos>']\n",
      "Decoded: ['you', 'loved', 'him', 'when', 'he', 'was', 'alive', 'and', 'you', 'loved', 'him', 'after', '<pad>', '<pad>', '<pad>', '<eos>']\n",
      "\n"
     ]
    },
    {
     "data": {
      "application/vnd.jupyter.widget-view+json": {
       "model_id": "5258681d0d754cc1bc4d0dd160711a6e",
       "version_major": 2,
       "version_minor": 0
      },
      "text/plain": [
       "HBox(children=(FloatProgress(value=0.0, max=70.0), HTML(value='')))"
      ]
     },
     "metadata": {},
     "output_type": "display_data"
    },
    {
     "name": "stdout",
     "output_type": "stream",
     "text": [
      "\n",
      "*************************** EPOCH 48 ***************************\n"
     ]
    },
    {
     "data": {
      "application/vnd.jupyter.widget-view+json": {
       "model_id": "97c552a8d83a4834be1aaace744d7fd7",
       "version_major": 2,
       "version_minor": 0
      },
      "text/plain": [
       "HBox(children=(FloatProgress(value=0.0, max=163.0), HTML(value='')))"
      ]
     },
     "metadata": {},
     "output_type": "display_data"
    },
    {
     "name": "stdout",
     "output_type": "stream",
     "text": [
      "\n",
      "Real: ['but', 'it', 'would', 'not', 'open', '<pad>', '<pad>', '<pad>', '<pad>', '<pad>', '<pad>', '<pad>', '<pad>', '<pad>', '<pad>', '<eos>']\n",
      "Decoded: ['but', 'it', 'would', 'not', 'open', '<pad>', '<pad>', '<pad>', '<pad>', '<pad>', '<pad>', '<pad>', '<pad>', '<pad>', '<pad>', '<eos>']\n",
      "\n"
     ]
    },
    {
     "data": {
      "application/vnd.jupyter.widget-view+json": {
       "model_id": "4117ea50c2584143a9472818120a407c",
       "version_major": 2,
       "version_minor": 0
      },
      "text/plain": [
       "HBox(children=(FloatProgress(value=0.0, max=70.0), HTML(value='')))"
      ]
     },
     "metadata": {},
     "output_type": "display_data"
    },
    {
     "name": "stdout",
     "output_type": "stream",
     "text": [
      "\n",
      "*************************** EPOCH 49 ***************************\n"
     ]
    },
    {
     "data": {
      "application/vnd.jupyter.widget-view+json": {
       "model_id": "e9892f103f7a4089b345b82326cdaded",
       "version_major": 2,
       "version_minor": 0
      },
      "text/plain": [
       "HBox(children=(FloatProgress(value=0.0, max=163.0), HTML(value='')))"
      ]
     },
     "metadata": {},
     "output_type": "display_data"
    },
    {
     "name": "stdout",
     "output_type": "stream",
     "text": [
      "\n",
      "Real: ['the', 'old', 'man', \"'\", 's', 'head', 'was', 'very', 'old', 'though', 'and', 'with', 'his', 'eyes', 'closed', '<eos>']\n",
      "Decoded: ['the', 'old', 'man', \"'\", 's', 'head', 'was', 'very', 'old', 'though', 'and', 'with', 'his', 'eyes', 'closed', '<eos>']\n",
      "\n"
     ]
    },
    {
     "data": {
      "application/vnd.jupyter.widget-view+json": {
       "model_id": "ac42043f994841f2bfd84f070b34cb9e",
       "version_major": 2,
       "version_minor": 0
      },
      "text/plain": [
       "HBox(children=(FloatProgress(value=0.0, max=70.0), HTML(value='')))"
      ]
     },
     "metadata": {},
     "output_type": "display_data"
    },
    {
     "name": "stdout",
     "output_type": "stream",
     "text": [
      "\n"
     ]
    }
   ],
   "source": [
    "# Define steps where examples will be sampled \n",
    "test_examples = iter(test_dataloader)\n",
    "\n",
    "# For EPOCHS\n",
    "for epoch in range(last_epoch + 1, EPOCHS + last_epoch):\n",
    "    \n",
    "    print('*************************** EPOCH {} ***************************'.format(epoch))\n",
    "\n",
    "    # Restart train dataset\n",
    "    examples = iter(train_dataloader)\n",
    "\n",
    "    # Progress bar for training dataset\n",
    "    progress_bar = tqdm(range(len(train_dataloader)))\n",
    "    train_loss = 0\n",
    "\n",
    "    # For all data in training dataset\n",
    "    # Training\n",
    "    for batch_idx in progress_bar:\n",
    "\n",
    "        # Add train loss to progress bar\n",
    "        progress_bar.set_postfix({\n",
    "            'tr_loss': train_loss / (batch_idx + 1), \n",
    "            'lr': scheduler.get_lr()[0]\n",
    "        })\n",
    "\n",
    "        # Train step\n",
    "        example = next(examples).to(device)\n",
    "        train_loss += train_step(model, loss_fn, optimizer, example)\n",
    "\n",
    "\n",
    "        if batch_idx == 0:\n",
    "            try:\n",
    "                example = next(test_examples).to(device)\n",
    "            except:\n",
    "                test_examples = iter(test_dataloader)\n",
    "                example = next(test_examples).to(device)\n",
    "\n",
    "            with torch.no_grad():\n",
    "                _, decodings = val_step(model, loss_fn, example)\n",
    "                decodings = torch.argmax(decodings[0], dim=-1).cpu().numpy()\n",
    "\n",
    "            print('\\nReal: {}'.format(vocab.to_words(example[0][1:].cpu().numpy())))\n",
    "            print('Decoded: {}'.format(vocab.to_words(decodings)))\n",
    "\n",
    "    # Validation\n",
    "    val_examples = iter(test_dataloader)\n",
    "    progress_bar = tqdm(range(len(test_dataloader)))\n",
    "    val_loss = 0\n",
    "\n",
    "    for batch_idx in progress_bar:\n",
    "        progress_bar.set_postfix({\n",
    "            'val_loss': val_loss / (batch_idx + 1)\n",
    "        })\n",
    "        \n",
    "        example = next(val_examples).to(device)\n",
    "        \n",
    "        with torch.no_grad():\n",
    "            val_loss += val_step(model, loss_fn, example)[0]\n",
    "    \n",
    "    # Save losses in history\n",
    "    train_loss_history.append(train_loss / len(train_dataloader))\n",
    "    val_loss_history.append(val_loss / len(test_dataloader))\n",
    "    \n",
    "    # If this model is best than other\n",
    "    if best_val_loss is None or val_loss < best_val_loss:\n",
    "        best_val_loss = val_loss\n",
    "        \n",
    "        save_model_state(\n",
    "            os.path.join(CHECKPOINT_BASE, AUTHOR + '_best.pt'), \n",
    "            model, \n",
    "            optimizer, \n",
    "            epoch, \n",
    "            train_loss_history, \n",
    "            val_loss_history, \n",
    "            best_val_loss\n",
    "        )\n",
    "        \n",
    "    # Save last model\n",
    "    save_model_state(\n",
    "        os.path.join(CHECKPOINT_BASE, AUTHOR + '_last.pt'), \n",
    "        model, \n",
    "        optimizer, \n",
    "        epoch, \n",
    "        train_loss_history, \n",
    "        val_loss_history, \n",
    "        best_val_loss\n",
    "    )    \n",
    "    \n",
    "    scheduler.step()    "
   ]
  },
  {
   "cell_type": "code",
   "execution_count": 12,
   "metadata": {},
   "outputs": [
    {
     "data": {
      "image/png": "[encoded data removed]",
      "text/plain": [
       "<Figure size 1080x576 with 1 Axes>"
      ]
     },
     "metadata": {
      "needs_background": "light"
     },
     "output_type": "display_data"
    }
   ],
   "source": [
    "x = [epoch for epoch in range(len(train_loss_history))]\n",
    "plt.figure(figsize=(15, 8))\n",
    "\n",
    "plt.xlabel('Epoch')\n",
    "plt.ylabel('Loss')\n",
    "plt.title('Training and validation loss')\n",
    "\n",
    "plt.plot(x, train_loss_history, label='Training loss')\n",
    "plt.plot(x, val_loss_history, label='Validation loss')\n",
    "\n",
    "plt.legend()\n",
    "\n",
    "plt.show()"
   ]
  },
  {
   "cell_type": "code",
   "execution_count": 13,
   "metadata": {},
   "outputs": [
    {
     "name": "stdout",
     "output_type": "stream",
     "text": [
      "Least validation loss: 0.8320339986256191 in epoch 36\n"
     ]
    }
   ],
   "source": [
    "argmin_val = np.argmin(val_loss_history)\n",
    "print('Least validation loss: {} in epoch {}'.format(val_loss_history[argmin_val], argmin_val))"
   ]
  },
  {
   "cell_type": "code",
   "execution_count": null,
   "metadata": {},
   "outputs": [],
   "source": []
  }
 ],
 "metadata": {
  "file_extension": ".py",
  "kernelspec": {
   "display_name": "Python 3",
   "language": "python",
   "name": "python3"
  },
  "language_info": {
   "codemirror_mode": {
    "name": "ipython",
    "version": 3
   },
   "file_extension": ".py",
   "mimetype": "text/x-python",
   "name": "python",
   "nbconvert_exporter": "python",
   "pygments_lexer": "ipython3",
   "version": "3.7.7"
  },
  "mimetype": "text/x-python",
  "name": "python",
  "npconvert_exporter": "python",
  "pygments_lexer": "ipython3",
  "version": 3
 },
 "nbformat": 4,
 "nbformat_minor": 2
}
